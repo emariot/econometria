{
 "cells": [
  {
   "cell_type": "markdown",
   "id": "exciting-boundary",
   "metadata": {},
   "source": [
    "# Regressão Logística"
   ]
  },
  {
   "cell_type": "code",
   "execution_count": 3,
   "id": "vocal-preserve",
   "metadata": {},
   "outputs": [],
   "source": [
    "#install.packages(\"DMWR\")"
   ]
  },
  {
   "cell_type": "code",
   "execution_count": 1,
   "id": "cooperative-characterization",
   "metadata": {
    "collapsed": true
   },
   "outputs": [
    {
     "name": "stderr",
     "output_type": "stream",
     "text": [
      "Warning message:\n",
      "\"package 'dplyr' was built under R version 3.6.3\"\n",
      "\n",
      "Attaching package: 'dplyr'\n",
      "\n",
      "\n",
      "The following objects are masked from 'package:stats':\n",
      "\n",
      "    filter, lag\n",
      "\n",
      "\n",
      "The following objects are masked from 'package:base':\n",
      "\n",
      "    intersect, setdiff, setequal, union\n",
      "\n",
      "\n",
      "Warning message:\n",
      "\"package 'ggplot2' was built under R version 3.6.3\"\n",
      "Warning message:\n",
      "\"package 'plyr' was built under R version 3.6.3\"\n",
      "------------------------------------------------------------------------------\n",
      "\n",
      "You have loaded plyr after dplyr - this is likely to cause problems.\n",
      "If you need functions from both plyr and dplyr, please load plyr first, then dplyr:\n",
      "library(plyr); library(dplyr)\n",
      "\n",
      "------------------------------------------------------------------------------\n",
      "\n",
      "\n",
      "Attaching package: 'plyr'\n",
      "\n",
      "\n",
      "The following objects are masked from 'package:dplyr':\n",
      "\n",
      "    arrange, count, desc, failwith, id, mutate, rename, summarise,\n",
      "    summarize\n",
      "\n",
      "\n",
      "\n",
      "Attaching package: 'psych'\n",
      "\n",
      "\n",
      "The following objects are masked from 'package:scales':\n",
      "\n",
      "    alpha, rescale\n",
      "\n",
      "\n",
      "The following objects are masked from 'package:ggplot2':\n",
      "\n",
      "    %+%, alpha\n",
      "\n",
      "\n",
      "Warning message:\n",
      "\"package 'QuantPsyc' was built under R version 3.6.3\"\n",
      "Loading required package: boot\n",
      "\n",
      "\n",
      "Attaching package: 'boot'\n",
      "\n",
      "\n",
      "The following object is masked from 'package:psych':\n",
      "\n",
      "    logit\n",
      "\n",
      "\n",
      "Loading required package: MASS\n",
      "\n",
      "\n",
      "Attaching package: 'MASS'\n",
      "\n",
      "\n",
      "The following object is masked from 'package:dplyr':\n",
      "\n",
      "    select\n",
      "\n",
      "\n",
      "\n",
      "Attaching package: 'QuantPsyc'\n",
      "\n",
      "\n",
      "The following object is masked from 'package:base':\n",
      "\n",
      "    norm\n",
      "\n",
      "\n",
      "Warning message:\n",
      "\"package 'DMwR' was built under R version 3.6.3\"\n",
      "Loading required package: lattice\n",
      "\n",
      "\n",
      "Attaching package: 'lattice'\n",
      "\n",
      "\n",
      "The following object is masked from 'package:boot':\n",
      "\n",
      "    melanoma\n",
      "\n",
      "\n",
      "Loading required package: grid\n",
      "\n",
      "Registered S3 method overwritten by 'quantmod':\n",
      "  method            from\n",
      "  as.zoo.data.frame zoo \n",
      "\n",
      "\n",
      "Attaching package: 'DMwR'\n",
      "\n",
      "\n",
      "The following object is masked from 'package:psych':\n",
      "\n",
      "    crossValidation\n",
      "\n",
      "\n",
      "The following object is masked from 'package:plyr':\n",
      "\n",
      "    join\n",
      "\n",
      "\n"
     ]
    }
   ],
   "source": [
    "library(dplyr)\n",
    "library(ggplot2)\n",
    "library(plyr)\n",
    "library(scales)\n",
    "library(psych)\n",
    "library(QuantPsyc)\n",
    "library(DMwR)"
   ]
  },
  {
   "cell_type": "code",
   "execution_count": 2,
   "id": "prepared-general",
   "metadata": {},
   "outputs": [
    {
     "data": {
      "text/html": [
       "<table class=\"dataframe\">\n",
       "<caption>A data.frame: 6 × 137</caption>\n",
       "<thead>\n",
       "\t<tr><th></th><th scope=col>NU_ANO</th><th scope=col>CO_IES</th><th scope=col>CO_CATEGAD</th><th scope=col>CO_ORGACAD</th><th scope=col>CO_GRUPO</th><th scope=col>CO_CURSO</th><th scope=col>CO_MODALIDADE</th><th scope=col>CO_MUNIC_CURSO</th><th scope=col>CO_UF_CURSO</th><th scope=col>CO_REGIAO_CURSO</th><th scope=col>...</th><th scope=col>QE_I59</th><th scope=col>QE_I60</th><th scope=col>QE_I61</th><th scope=col>QE_I62</th><th scope=col>QE_I63</th><th scope=col>QE_I64</th><th scope=col>QE_I65</th><th scope=col>QE_I66</th><th scope=col>QE_I67</th><th scope=col>QE_I68</th></tr>\n",
       "\t<tr><th></th><th scope=col>&lt;int&gt;</th><th scope=col>&lt;int&gt;</th><th scope=col>&lt;int&gt;</th><th scope=col>&lt;int&gt;</th><th scope=col>&lt;int&gt;</th><th scope=col>&lt;int&gt;</th><th scope=col>&lt;int&gt;</th><th scope=col>&lt;int&gt;</th><th scope=col>&lt;int&gt;</th><th scope=col>&lt;int&gt;</th><th scope=col>...</th><th scope=col>&lt;int&gt;</th><th scope=col>&lt;int&gt;</th><th scope=col>&lt;int&gt;</th><th scope=col>&lt;int&gt;</th><th scope=col>&lt;int&gt;</th><th scope=col>&lt;int&gt;</th><th scope=col>&lt;int&gt;</th><th scope=col>&lt;int&gt;</th><th scope=col>&lt;int&gt;</th><th scope=col>&lt;int&gt;</th></tr>\n",
       "</thead>\n",
       "<tbody>\n",
       "\t<tr><th scope=row>1</th><td>2018</td><td>1356</td><td>10003</td><td>10020</td><td>1</td><td>47116</td><td>1</td><td>3546603</td><td>35</td><td>3</td><td>...</td><td>6</td><td>6</td><td>6</td><td>6</td><td>6</td><td>6</td><td>6</td><td>6</td><td>6</td><td>5</td></tr>\n",
       "\t<tr><th scope=row>2</th><td>2018</td><td>1356</td><td>10003</td><td>10020</td><td>1</td><td>47116</td><td>1</td><td>3546603</td><td>35</td><td>3</td><td>...</td><td>6</td><td>6</td><td>6</td><td>6</td><td>6</td><td>6</td><td>6</td><td>6</td><td>6</td><td>6</td></tr>\n",
       "\t<tr><th scope=row>3</th><td>2018</td><td>1356</td><td>10003</td><td>10020</td><td>1</td><td>47116</td><td>1</td><td>3546603</td><td>35</td><td>3</td><td>...</td><td>6</td><td>6</td><td>6</td><td>6</td><td>6</td><td>6</td><td>6</td><td>6</td><td>6</td><td>5</td></tr>\n",
       "\t<tr><th scope=row>4</th><td>2018</td><td>1356</td><td>10003</td><td>10020</td><td>1</td><td>47116</td><td>1</td><td>3546603</td><td>35</td><td>3</td><td>...</td><td>6</td><td>6</td><td>6</td><td>6</td><td>5</td><td>6</td><td>6</td><td>6</td><td>6</td><td>4</td></tr>\n",
       "\t<tr><th scope=row>5</th><td>2018</td><td>1356</td><td>10003</td><td>10020</td><td>1</td><td>47116</td><td>1</td><td>3546603</td><td>35</td><td>3</td><td>...</td><td>6</td><td>6</td><td>6</td><td>6</td><td>6</td><td>6</td><td>6</td><td>6</td><td>6</td><td>6</td></tr>\n",
       "\t<tr><th scope=row>6</th><td>2018</td><td>1356</td><td>10003</td><td>10020</td><td>1</td><td>47116</td><td>1</td><td>3546603</td><td>35</td><td>3</td><td>...</td><td>6</td><td>5</td><td>6</td><td>6</td><td>6</td><td>6</td><td>6</td><td>6</td><td>6</td><td>5</td></tr>\n",
       "</tbody>\n",
       "</table>\n"
      ],
      "text/latex": [
       "A data.frame: 6 × 137\n",
       "\\begin{tabular}{r|lllllllllllllllllllll}\n",
       "  & NU\\_ANO & CO\\_IES & CO\\_CATEGAD & CO\\_ORGACAD & CO\\_GRUPO & CO\\_CURSO & CO\\_MODALIDADE & CO\\_MUNIC\\_CURSO & CO\\_UF\\_CURSO & CO\\_REGIAO\\_CURSO & ... & QE\\_I59 & QE\\_I60 & QE\\_I61 & QE\\_I62 & QE\\_I63 & QE\\_I64 & QE\\_I65 & QE\\_I66 & QE\\_I67 & QE\\_I68\\\\\n",
       "  & <int> & <int> & <int> & <int> & <int> & <int> & <int> & <int> & <int> & <int> & ... & <int> & <int> & <int> & <int> & <int> & <int> & <int> & <int> & <int> & <int>\\\\\n",
       "\\hline\n",
       "\t1 & 2018 & 1356 & 10003 & 10020 & 1 & 47116 & 1 & 3546603 & 35 & 3 & ... & 6 & 6 & 6 & 6 & 6 & 6 & 6 & 6 & 6 & 5\\\\\n",
       "\t2 & 2018 & 1356 & 10003 & 10020 & 1 & 47116 & 1 & 3546603 & 35 & 3 & ... & 6 & 6 & 6 & 6 & 6 & 6 & 6 & 6 & 6 & 6\\\\\n",
       "\t3 & 2018 & 1356 & 10003 & 10020 & 1 & 47116 & 1 & 3546603 & 35 & 3 & ... & 6 & 6 & 6 & 6 & 6 & 6 & 6 & 6 & 6 & 5\\\\\n",
       "\t4 & 2018 & 1356 & 10003 & 10020 & 1 & 47116 & 1 & 3546603 & 35 & 3 & ... & 6 & 6 & 6 & 6 & 5 & 6 & 6 & 6 & 6 & 4\\\\\n",
       "\t5 & 2018 & 1356 & 10003 & 10020 & 1 & 47116 & 1 & 3546603 & 35 & 3 & ... & 6 & 6 & 6 & 6 & 6 & 6 & 6 & 6 & 6 & 6\\\\\n",
       "\t6 & 2018 & 1356 & 10003 & 10020 & 1 & 47116 & 1 & 3546603 & 35 & 3 & ... & 6 & 5 & 6 & 6 & 6 & 6 & 6 & 6 & 6 & 5\\\\\n",
       "\\end{tabular}\n"
      ],
      "text/markdown": [
       "\n",
       "A data.frame: 6 × 137\n",
       "\n",
       "| <!--/--> | NU_ANO &lt;int&gt; | CO_IES &lt;int&gt; | CO_CATEGAD &lt;int&gt; | CO_ORGACAD &lt;int&gt; | CO_GRUPO &lt;int&gt; | CO_CURSO &lt;int&gt; | CO_MODALIDADE &lt;int&gt; | CO_MUNIC_CURSO &lt;int&gt; | CO_UF_CURSO &lt;int&gt; | CO_REGIAO_CURSO &lt;int&gt; | ... ... | QE_I59 &lt;int&gt; | QE_I60 &lt;int&gt; | QE_I61 &lt;int&gt; | QE_I62 &lt;int&gt; | QE_I63 &lt;int&gt; | QE_I64 &lt;int&gt; | QE_I65 &lt;int&gt; | QE_I66 &lt;int&gt; | QE_I67 &lt;int&gt; | QE_I68 &lt;int&gt; |\n",
       "|---|---|---|---|---|---|---|---|---|---|---|---|---|---|---|---|---|---|---|---|---|---|\n",
       "| 1 | 2018 | 1356 | 10003 | 10020 | 1 | 47116 | 1 | 3546603 | 35 | 3 | ... | 6 | 6 | 6 | 6 | 6 | 6 | 6 | 6 | 6 | 5 |\n",
       "| 2 | 2018 | 1356 | 10003 | 10020 | 1 | 47116 | 1 | 3546603 | 35 | 3 | ... | 6 | 6 | 6 | 6 | 6 | 6 | 6 | 6 | 6 | 6 |\n",
       "| 3 | 2018 | 1356 | 10003 | 10020 | 1 | 47116 | 1 | 3546603 | 35 | 3 | ... | 6 | 6 | 6 | 6 | 6 | 6 | 6 | 6 | 6 | 5 |\n",
       "| 4 | 2018 | 1356 | 10003 | 10020 | 1 | 47116 | 1 | 3546603 | 35 | 3 | ... | 6 | 6 | 6 | 6 | 5 | 6 | 6 | 6 | 6 | 4 |\n",
       "| 5 | 2018 | 1356 | 10003 | 10020 | 1 | 47116 | 1 | 3546603 | 35 | 3 | ... | 6 | 6 | 6 | 6 | 6 | 6 | 6 | 6 | 6 | 6 |\n",
       "| 6 | 2018 | 1356 | 10003 | 10020 | 1 | 47116 | 1 | 3546603 | 35 | 3 | ... | 6 | 5 | 6 | 6 | 6 | 6 | 6 | 6 | 6 | 5 |\n",
       "\n"
      ],
      "text/plain": [
       "  NU_ANO CO_IES CO_CATEGAD CO_ORGACAD CO_GRUPO CO_CURSO CO_MODALIDADE\n",
       "1 2018   1356   10003      10020      1        47116    1            \n",
       "2 2018   1356   10003      10020      1        47116    1            \n",
       "3 2018   1356   10003      10020      1        47116    1            \n",
       "4 2018   1356   10003      10020      1        47116    1            \n",
       "5 2018   1356   10003      10020      1        47116    1            \n",
       "6 2018   1356   10003      10020      1        47116    1            \n",
       "  CO_MUNIC_CURSO CO_UF_CURSO CO_REGIAO_CURSO ... QE_I59 QE_I60 QE_I61 QE_I62\n",
       "1 3546603        35          3               ... 6      6      6      6     \n",
       "2 3546603        35          3               ... 6      6      6      6     \n",
       "3 3546603        35          3               ... 6      6      6      6     \n",
       "4 3546603        35          3               ... 6      6      6      6     \n",
       "5 3546603        35          3               ... 6      6      6      6     \n",
       "6 3546603        35          3               ... 6      5      6      6     \n",
       "  QE_I63 QE_I64 QE_I65 QE_I66 QE_I67 QE_I68\n",
       "1 6      6      6      6      6      5     \n",
       "2 6      6      6      6      6      6     \n",
       "3 6      6      6      6      6      5     \n",
       "4 5      6      6      6      6      4     \n",
       "5 6      6      6      6      6      6     \n",
       "6 6      6      6      6      6      5     "
      ]
     },
     "metadata": {},
     "output_type": "display_data"
    }
   ],
   "source": [
    "data = read.table(\"dataset/enade.txt\",sep=\";\", dec = \",\", header = TRUE)\n",
    "head(data)"
   ]
  },
  {
   "cell_type": "code",
   "execution_count": 3,
   "id": "cubic-writing",
   "metadata": {},
   "outputs": [],
   "source": [
    "df = data[data$CO_GRUPO == 13,]"
   ]
  },
  {
   "cell_type": "code",
   "execution_count": 4,
   "id": "level-residence",
   "metadata": {},
   "outputs": [
    {
     "data": {
      "text/html": [
       "<style>\n",
       ".list-inline {list-style: none; margin:0; padding: 0}\n",
       ".list-inline>li {display: inline-block}\n",
       ".list-inline>li:not(:last-child)::after {content: \"\\00b7\"; padding: 0 .5ex}\n",
       "</style>\n",
       "<ol class=list-inline><li>9582</li><li>137</li></ol>\n"
      ],
      "text/latex": [
       "\\begin{enumerate*}\n",
       "\\item 9582\n",
       "\\item 137\n",
       "\\end{enumerate*}\n"
      ],
      "text/markdown": [
       "1. 9582\n",
       "2. 137\n",
       "\n",
       "\n"
      ],
      "text/plain": [
       "[1] 9582  137"
      ]
     },
     "metadata": {},
     "output_type": "display_data"
    }
   ],
   "source": [
    "dim(df)"
   ]
  },
  {
   "cell_type": "markdown",
   "id": "streaming-button",
   "metadata": {},
   "source": [
    "## Variáveis"
   ]
  },
  {
   "cell_type": "code",
   "execution_count": 7,
   "id": "sorted-sociology",
   "metadata": {},
   "outputs": [],
   "source": [
    "df_1 = df %>% \n",
    "        dplyr::select(TP_PRES, TP_SEXO, NU_IDADE,CO_TURNO_GRADUACAO) %>% \n",
    "        setNames(c(\"presenca\",\"genero\", \"idade\", \"turno\"))"
   ]
  },
  {
   "cell_type": "code",
   "execution_count": 8,
   "id": "governing-accreditation",
   "metadata": {},
   "outputs": [],
   "source": [
    "df_1$presenca = ifelse(df_1$presenca == 222,'ausente','presente')"
   ]
  },
  {
   "cell_type": "code",
   "execution_count": 25,
   "id": "coastal-advocate",
   "metadata": {},
   "outputs": [
    {
     "data": {
      "text/plain": [
       "\n",
       "presente  ausente \n",
       "    8085     1497 "
      ]
     },
     "metadata": {},
     "output_type": "display_data"
    }
   ],
   "source": [
    "table(df_1$presenca)"
   ]
  },
  {
   "cell_type": "code",
   "execution_count": 52,
   "id": "located-ordering",
   "metadata": {},
   "outputs": [],
   "source": [
    "totalPresentes = length(which(df_1$presenca == \"presente\"))\n",
    "totalAusentes = length(which(df_1$presenca == \"ausente\"))\n",
    "total = totalPresentes + totalAusentes\n",
    "\n",
    "propPresente = (totalPresentes / total)*100\n",
    "propAusente = (totalAusentes / total)*100\n"
   ]
  },
  {
   "cell_type": "code",
   "execution_count": 55,
   "id": "micro-printing",
   "metadata": {},
   "outputs": [
    {
     "name": "stdout",
     "output_type": "stream",
     "text": [
      "Presentes:  84.38 % \n",
      "Ausentes:  0.16 %"
     ]
    }
   ],
   "source": [
    "cat(\"Presentes: \",round(propPresente,2), \"%\", \"\\n\")\n",
    "cat(\"Ausentes: \",round(propAusente,2), \"%\")"
   ]
  },
  {
   "cell_type": "code",
   "execution_count": 57,
   "id": "retired-spiritual",
   "metadata": {},
   "outputs": [
    {
     "ename": "ERROR",
     "evalue": "Error in cor(df_1$genero, df_1$idade): 'x' must be numeric\n",
     "output_type": "error",
     "traceback": [
      "Error in cor(df_1$genero, df_1$idade): 'x' must be numeric\nTraceback:\n",
      "1. cor(df_1$genero, df_1$idade)",
      "2. stop(\"'x' must be numeric\")"
     ]
    }
   ],
   "source": [
    "c1 = cor(df_1$genero, df_1$idade)\n",
    "c2 = cor(df_1$genero, df_1$turno)\n",
    "c3 = cor(df_1$idade, df_1$turno)"
   ]
  },
  {
   "cell_type": "code",
   "execution_count": 10,
   "id": "spectacular-blackjack",
   "metadata": {},
   "outputs": [],
   "source": [
    "df_1$turno = mapvalues(df_1$turno, from=c(1,2,3,4), to=c(\"matutino\",\"vespetino\",\n",
    "                                                                \"integral\",\"noturno\"))"
   ]
  },
  {
   "cell_type": "code",
   "execution_count": 11,
   "id": "extra-talent",
   "metadata": {},
   "outputs": [
    {
     "data": {
      "text/html": [
       "<table class=\"dataframe\">\n",
       "<caption>A data.frame: 6 × 4</caption>\n",
       "<thead>\n",
       "\t<tr><th></th><th scope=col>presenca</th><th scope=col>genero</th><th scope=col>idade</th><th scope=col>turno</th></tr>\n",
       "\t<tr><th></th><th scope=col>&lt;chr&gt;</th><th scope=col>&lt;fct&gt;</th><th scope=col>&lt;int&gt;</th><th scope=col>&lt;chr&gt;</th></tr>\n",
       "</thead>\n",
       "<tbody>\n",
       "\t<tr><th scope=row>161</th><td>presente</td><td>F</td><td>28</td><td>noturno</td></tr>\n",
       "\t<tr><th scope=row>162</th><td>presente</td><td>M</td><td>30</td><td>noturno</td></tr>\n",
       "\t<tr><th scope=row>163</th><td>presente</td><td>M</td><td>29</td><td>noturno</td></tr>\n",
       "\t<tr><th scope=row>164</th><td>presente</td><td>F</td><td>22</td><td>noturno</td></tr>\n",
       "\t<tr><th scope=row>165</th><td>presente</td><td>M</td><td>47</td><td>noturno</td></tr>\n",
       "\t<tr><th scope=row>166</th><td>presente</td><td>M</td><td>27</td><td>noturno</td></tr>\n",
       "</tbody>\n",
       "</table>\n"
      ],
      "text/latex": [
       "A data.frame: 6 × 4\n",
       "\\begin{tabular}{r|llll}\n",
       "  & presenca & genero & idade & turno\\\\\n",
       "  & <chr> & <fct> & <int> & <chr>\\\\\n",
       "\\hline\n",
       "\t161 & presente & F & 28 & noturno\\\\\n",
       "\t162 & presente & M & 30 & noturno\\\\\n",
       "\t163 & presente & M & 29 & noturno\\\\\n",
       "\t164 & presente & F & 22 & noturno\\\\\n",
       "\t165 & presente & M & 47 & noturno\\\\\n",
       "\t166 & presente & M & 27 & noturno\\\\\n",
       "\\end{tabular}\n"
      ],
      "text/markdown": [
       "\n",
       "A data.frame: 6 × 4\n",
       "\n",
       "| <!--/--> | presenca &lt;chr&gt; | genero &lt;fct&gt; | idade &lt;int&gt; | turno &lt;chr&gt; |\n",
       "|---|---|---|---|---|\n",
       "| 161 | presente | F | 28 | noturno |\n",
       "| 162 | presente | M | 30 | noturno |\n",
       "| 163 | presente | M | 29 | noturno |\n",
       "| 164 | presente | F | 22 | noturno |\n",
       "| 165 | presente | M | 47 | noturno |\n",
       "| 166 | presente | M | 27 | noturno |\n",
       "\n"
      ],
      "text/plain": [
       "    presenca genero idade turno  \n",
       "161 presente F      28    noturno\n",
       "162 presente M      30    noturno\n",
       "163 presente M      29    noturno\n",
       "164 presente F      22    noturno\n",
       "165 presente M      47    noturno\n",
       "166 presente M      27    noturno"
      ]
     },
     "metadata": {},
     "output_type": "display_data"
    }
   ],
   "source": [
    "head(df_1)"
   ]
  },
  {
   "cell_type": "code",
   "execution_count": 13,
   "id": "narrative-prince",
   "metadata": {},
   "outputs": [
    {
     "data": {
      "image/png": "[encoded data removed]",
      "text/plain": [
       "plot without title"
      ]
     },
     "metadata": {
      "image/png": {
       "height": 420,
       "width": 900
      }
     },
     "output_type": "display_data"
    }
   ],
   "source": [
    "options(repr.plot.width = 15, repr.plot.height = 7)\n",
    "df_idade = subset(df_1, idade<=60)\n",
    "ggplot(df_idade, aes(x=idade, fill=presenca), width=0.8) +\n",
    "       geom_bar() +\n",
    "       #geom_text() +\n",
    "       labs(title=\"Presença por idade\")\n"
   ]
  },
  {
   "cell_type": "code",
   "execution_count": 15,
   "id": "derived-fraud",
   "metadata": {},
   "outputs": [
    {
     "data": {
      "image/png": "[encoded data removed]",
      "text/plain": [
       "plot without title"
      ]
     },
     "metadata": {
      "image/png": {
       "height": 420,
       "width": 600
      }
     },
     "output_type": "display_data"
    }
   ],
   "source": [
    "options(repr.plot.width = 10, repr.plot.height = 7)\n",
    "ggplot(df_1, aes(x=genero, fill=presenca)) +\n",
    "       geom_bar() +\n",
    "       ##geom_text(aes(label = scales::percent(presenca)), position = position_stack(.5)) +\n",
    "       labs(title=\"Presença por gênero\")"
   ]
  },
  {
   "cell_type": "code",
   "execution_count": 16,
   "id": "strong-chaos",
   "metadata": {},
   "outputs": [
    {
     "data": {
      "image/png": "[encoded data removed]",
      "text/plain": [
       "plot without title"
      ]
     },
     "metadata": {
      "image/png": {
       "height": 420,
       "width": 600
      }
     },
     "output_type": "display_data"
    }
   ],
   "source": [
    "ggplot(df_1, aes(x=turno, fill=presenca)) +\n",
    "       geom_bar() +\n",
    "       #geom_text() +\n",
    "       labs(title=\"Presença por turno\")"
   ]
  },
  {
   "cell_type": "code",
   "execution_count": 82,
   "id": "moved-chess",
   "metadata": {},
   "outputs": [
    {
     "data": {
      "text/plain": [
       "\n",
       "  integral   matutino    noturno  vespetino \n",
       "0.23158005 0.14287205 0.60989355 0.01565435 "
      ]
     },
     "metadata": {},
     "output_type": "display_data"
    }
   ],
   "source": [
    "prop.table(table(df_1$turno))"
   ]
  },
  {
   "cell_type": "code",
   "execution_count": 17,
   "id": "acknowledged-bedroom",
   "metadata": {},
   "outputs": [],
   "source": [
    "df_1$presenca = as.factor(df_1$presenca)\n",
    "df_1$turno = as.factor(df_1$turno)"
   ]
  },
  {
   "cell_type": "code",
   "execution_count": 18,
   "id": "caring-christmas",
   "metadata": {},
   "outputs": [
    {
     "data": {
      "text/html": [
       "<table class=\"dataframe\">\n",
       "<caption>A data.frame: 6 × 4</caption>\n",
       "<thead>\n",
       "\t<tr><th></th><th scope=col>presenca</th><th scope=col>genero</th><th scope=col>idade</th><th scope=col>turno</th></tr>\n",
       "\t<tr><th></th><th scope=col>&lt;fct&gt;</th><th scope=col>&lt;fct&gt;</th><th scope=col>&lt;int&gt;</th><th scope=col>&lt;fct&gt;</th></tr>\n",
       "</thead>\n",
       "<tbody>\n",
       "\t<tr><th scope=row>161</th><td>presente</td><td>F</td><td>28</td><td>noturno</td></tr>\n",
       "\t<tr><th scope=row>162</th><td>presente</td><td>M</td><td>30</td><td>noturno</td></tr>\n",
       "\t<tr><th scope=row>163</th><td>presente</td><td>M</td><td>29</td><td>noturno</td></tr>\n",
       "\t<tr><th scope=row>164</th><td>presente</td><td>F</td><td>22</td><td>noturno</td></tr>\n",
       "\t<tr><th scope=row>165</th><td>presente</td><td>M</td><td>47</td><td>noturno</td></tr>\n",
       "\t<tr><th scope=row>166</th><td>presente</td><td>M</td><td>27</td><td>noturno</td></tr>\n",
       "</tbody>\n",
       "</table>\n"
      ],
      "text/latex": [
       "A data.frame: 6 × 4\n",
       "\\begin{tabular}{r|llll}\n",
       "  & presenca & genero & idade & turno\\\\\n",
       "  & <fct> & <fct> & <int> & <fct>\\\\\n",
       "\\hline\n",
       "\t161 & presente & F & 28 & noturno\\\\\n",
       "\t162 & presente & M & 30 & noturno\\\\\n",
       "\t163 & presente & M & 29 & noturno\\\\\n",
       "\t164 & presente & F & 22 & noturno\\\\\n",
       "\t165 & presente & M & 47 & noturno\\\\\n",
       "\t166 & presente & M & 27 & noturno\\\\\n",
       "\\end{tabular}\n"
      ],
      "text/markdown": [
       "\n",
       "A data.frame: 6 × 4\n",
       "\n",
       "| <!--/--> | presenca &lt;fct&gt; | genero &lt;fct&gt; | idade &lt;int&gt; | turno &lt;fct&gt; |\n",
       "|---|---|---|---|---|\n",
       "| 161 | presente | F | 28 | noturno |\n",
       "| 162 | presente | M | 30 | noturno |\n",
       "| 163 | presente | M | 29 | noturno |\n",
       "| 164 | presente | F | 22 | noturno |\n",
       "| 165 | presente | M | 47 | noturno |\n",
       "| 166 | presente | M | 27 | noturno |\n",
       "\n"
      ],
      "text/plain": [
       "    presenca genero idade turno  \n",
       "161 presente F      28    noturno\n",
       "162 presente M      30    noturno\n",
       "163 presente M      29    noturno\n",
       "164 presente F      22    noturno\n",
       "165 presente M      47    noturno\n",
       "166 presente M      27    noturno"
      ]
     },
     "metadata": {},
     "output_type": "display_data"
    }
   ],
   "source": [
    "head(df_1)"
   ]
  },
  {
   "cell_type": "code",
   "execution_count": 94,
   "id": "alone-preference",
   "metadata": {},
   "outputs": [],
   "source": [
    "# Categorias de referência"
   ]
  },
  {
   "cell_type": "code",
   "execution_count": 19,
   "id": "regional-playlist",
   "metadata": {},
   "outputs": [
    {
     "data": {
      "text/html": [
       "<style>\n",
       ".list-inline {list-style: none; margin:0; padding: 0}\n",
       ".list-inline>li {display: inline-block}\n",
       ".list-inline>li:not(:last-child)::after {content: \"\\00b7\"; padding: 0 .5ex}\n",
       "</style>\n",
       "<ol class=list-inline><li>'ausente'</li><li>'presente'</li></ol>\n"
      ],
      "text/latex": [
       "\\begin{enumerate*}\n",
       "\\item 'ausente'\n",
       "\\item 'presente'\n",
       "\\end{enumerate*}\n"
      ],
      "text/markdown": [
       "1. 'ausente'\n",
       "2. 'presente'\n",
       "\n",
       "\n"
      ],
      "text/plain": [
       "[1] \"ausente\"  \"presente\""
      ]
     },
     "metadata": {},
     "output_type": "display_data"
    }
   ],
   "source": [
    "levels(df_1$presenca)\n"
   ]
  },
  {
   "cell_type": "code",
   "execution_count": 20,
   "id": "greek-minute",
   "metadata": {},
   "outputs": [
    {
     "data": {
      "text/html": [
       "<style>\n",
       ".list-inline {list-style: none; margin:0; padding: 0}\n",
       ".list-inline>li {display: inline-block}\n",
       ".list-inline>li:not(:last-child)::after {content: \"\\00b7\"; padding: 0 .5ex}\n",
       "</style>\n",
       "<ol class=list-inline><li>'presente'</li><li>'ausente'</li></ol>\n"
      ],
      "text/latex": [
       "\\begin{enumerate*}\n",
       "\\item 'presente'\n",
       "\\item 'ausente'\n",
       "\\end{enumerate*}\n"
      ],
      "text/markdown": [
       "1. 'presente'\n",
       "2. 'ausente'\n",
       "\n",
       "\n"
      ],
      "text/plain": [
       "[1] \"presente\" \"ausente\" "
      ]
     },
     "metadata": {},
     "output_type": "display_data"
    }
   ],
   "source": [
    "df_1$presenca = relevel(df_1$presenca, ref=\"presente\")\n",
    "levels(df_1$presenca)"
   ]
  },
  {
   "cell_type": "code",
   "execution_count": 21,
   "id": "dying-chrome",
   "metadata": {},
   "outputs": [
    {
     "data": {
      "text/html": [
       "<style>\n",
       ".list-inline {list-style: none; margin:0; padding: 0}\n",
       ".list-inline>li {display: inline-block}\n",
       ".list-inline>li:not(:last-child)::after {content: \"\\00b7\"; padding: 0 .5ex}\n",
       "</style>\n",
       "<ol class=list-inline><li>'F'</li><li>'M'</li></ol>\n"
      ],
      "text/latex": [
       "\\begin{enumerate*}\n",
       "\\item 'F'\n",
       "\\item 'M'\n",
       "\\end{enumerate*}\n"
      ],
      "text/markdown": [
       "1. 'F'\n",
       "2. 'M'\n",
       "\n",
       "\n"
      ],
      "text/plain": [
       "[1] \"F\" \"M\""
      ]
     },
     "metadata": {},
     "output_type": "display_data"
    }
   ],
   "source": [
    "levels(df_1$genero)"
   ]
  },
  {
   "cell_type": "code",
   "execution_count": 22,
   "id": "capital-acrobat",
   "metadata": {},
   "outputs": [
    {
     "data": {
      "text/html": [
       "<style>\n",
       ".list-inline {list-style: none; margin:0; padding: 0}\n",
       ".list-inline>li {display: inline-block}\n",
       ".list-inline>li:not(:last-child)::after {content: \"\\00b7\"; padding: 0 .5ex}\n",
       "</style>\n",
       "<ol class=list-inline><li>'integral'</li><li>'matutino'</li><li>'noturno'</li><li>'vespetino'</li></ol>\n"
      ],
      "text/latex": [
       "\\begin{enumerate*}\n",
       "\\item 'integral'\n",
       "\\item 'matutino'\n",
       "\\item 'noturno'\n",
       "\\item 'vespetino'\n",
       "\\end{enumerate*}\n"
      ],
      "text/markdown": [
       "1. 'integral'\n",
       "2. 'matutino'\n",
       "3. 'noturno'\n",
       "4. 'vespetino'\n",
       "\n",
       "\n"
      ],
      "text/plain": [
       "[1] \"integral\"  \"matutino\"  \"noturno\"   \"vespetino\""
      ]
     },
     "metadata": {},
     "output_type": "display_data"
    }
   ],
   "source": [
    "levels(df_1$turno)"
   ]
  },
  {
   "cell_type": "code",
   "execution_count": 58,
   "id": "resistant-genetics",
   "metadata": {},
   "outputs": [
    {
     "name": "stderr",
     "output_type": "stream",
     "text": [
      "Warning message in data(hacide):\n",
      "\"data set 'hacide' not found\"\n"
     ]
    }
   ],
   "source": [
    "data(hacide)"
   ]
  },
  {
   "cell_type": "markdown",
   "id": "novel-punishment",
   "metadata": {},
   "source": [
    "# Modelo 1"
   ]
  },
  {
   "cell_type": "code",
   "execution_count": 59,
   "id": "annual-number",
   "metadata": {},
   "outputs": [],
   "source": [
    "model_1 = glm(presenca~., data=df_1, family=binomial(link='logit'))"
   ]
  },
  {
   "cell_type": "code",
   "execution_count": 132,
   "id": "spanish-disabled",
   "metadata": {},
   "outputs": [
    {
     "data": {
      "image/png": "[encoded data removed]",
      "text/plain": [
       "plot without title"
      ]
     },
     "metadata": {
      "image/png": {
       "height": 420,
       "width": 900
      }
     },
     "output_type": "display_data"
    }
   ],
   "source": [
    "# Multicolinearidade\n",
    "pairs.panels(df_1)"
   ]
  },
  {
   "cell_type": "code",
   "execution_count": 60,
   "id": "virgin-imagination",
   "metadata": {},
   "outputs": [
    {
     "data": {
      "text/plain": [
       "\n",
       "Call:\n",
       "glm(formula = presenca ~ ., family = binomial(link = \"logit\"), \n",
       "    data = df_1)\n",
       "\n",
       "Deviance Residuals: \n",
       "    Min       1Q   Median       3Q      Max  \n",
       "-1.8137  -0.5876  -0.5156  -0.4521   2.2969  \n",
       "\n",
       "Coefficients:\n",
       "               Estimate Std. Error z value Pr(>|z|)    \n",
       "(Intercept)    -4.04291    0.13793 -29.311  < 2e-16 ***\n",
       "generoM         0.27093    0.06096   4.444 8.82e-06 ***\n",
       "idade           0.07043    0.00435  16.193  < 2e-16 ***\n",
       "turnomatutino   0.19380    0.10413   1.861   0.0627 .  \n",
       "turnonoturno    0.34214    0.07623   4.488 7.19e-06 ***\n",
       "turnovespetino -0.06641    0.26920  -0.247   0.8051    \n",
       "---\n",
       "Signif. codes:  0 '***' 0.001 '**' 0.01 '*' 0.05 '.' 0.1 ' ' 1\n",
       "\n",
       "(Dispersion parameter for binomial family taken to be 1)\n",
       "\n",
       "    Null deviance: 8305.0  on 9581  degrees of freedom\n",
       "Residual deviance: 7962.5  on 9576  degrees of freedom\n",
       "AIC: 7974.5\n",
       "\n",
       "Number of Fisher Scoring iterations: 4\n"
      ]
     },
     "metadata": {},
     "output_type": "display_data"
    }
   ],
   "source": [
    "summary(model_1)"
   ]
  },
  {
   "cell_type": "code",
   "execution_count": 63,
   "id": "skilled-folks",
   "metadata": {},
   "outputs": [
    {
     "data": {
      "text/html": [
       "<style>\n",
       ".dl-inline {width: auto; margin:0; padding: 0}\n",
       ".dl-inline>dt, .dl-inline>dd {float: none; width: auto; display: inline-block}\n",
       ".dl-inline>dt::after {content: \":\\0020\"; padding-right: .5ex}\n",
       ".dl-inline>dt:not(:first-of-type) {padding-left: .5ex}\n",
       "</style><dl class=dl-inline><dt>(Intercept)</dt><dd>0.0175463647709592</dd><dt>generoM</dt><dd>1.31118261881361</dd><dt>idade</dt><dd>1.07297461555112</dd><dt>turnomatutino</dt><dd>1.21384957262187</dd><dt>turnonoturno</dt><dd>1.4079522436148</dd><dt>turnovespetino</dt><dd>0.935744961294492</dd></dl>\n"
      ],
      "text/latex": [
       "\\begin{description*}\n",
       "\\item[(Intercept)] 0.0175463647709592\n",
       "\\item[generoM] 1.31118261881361\n",
       "\\item[idade] 1.07297461555112\n",
       "\\item[turnomatutino] 1.21384957262187\n",
       "\\item[turnonoturno] 1.4079522436148\n",
       "\\item[turnovespetino] 0.935744961294492\n",
       "\\end{description*}\n"
      ],
      "text/markdown": [
       "(Intercept)\n",
       ":   0.0175463647709592generoM\n",
       ":   1.31118261881361idade\n",
       ":   1.07297461555112turnomatutino\n",
       ":   1.21384957262187turnonoturno\n",
       ":   1.4079522436148turnovespetino\n",
       ":   0.935744961294492\n",
       "\n"
      ],
      "text/plain": [
       "   (Intercept)        generoM          idade  turnomatutino   turnonoturno \n",
       "    0.01754636     1.31118262     1.07297462     1.21384957     1.40795224 \n",
       "turnovespetino \n",
       "    0.93574496 "
      ]
     },
     "metadata": {},
     "output_type": "display_data"
    }
   ],
   "source": [
    "exp(model_1$coefficients)"
   ]
  },
  {
   "cell_type": "code",
   "execution_count": 61,
   "id": "suspended-foster",
   "metadata": {},
   "outputs": [
    {
     "data": {
      "text/html": [
       "<table class=\"dataframe\">\n",
       "<caption>A matrix: 6 × 3 of type dbl</caption>\n",
       "<thead>\n",
       "\t<tr><th></th><th scope=col>OR</th><th scope=col>2.5 %</th><th scope=col>97.5 %</th></tr>\n",
       "</thead>\n",
       "<tbody>\n",
       "\t<tr><th scope=row>(Intercept)</th><td>0.01754636</td><td>0.01338992</td><td>0.02299304</td></tr>\n",
       "\t<tr><th scope=row>generoM</th><td>1.31118262</td><td>1.16351244</td><td>1.47759474</td></tr>\n",
       "\t<tr><th scope=row>idade</th><td>1.07297462</td><td>1.06386632</td><td>1.08216089</td></tr>\n",
       "\t<tr><th scope=row>turnomatutino</th><td>1.21384957</td><td>0.98975075</td><td>1.48868873</td></tr>\n",
       "\t<tr><th scope=row>turnonoturno</th><td>1.40795224</td><td>1.21254546</td><td>1.63484965</td></tr>\n",
       "\t<tr><th scope=row>turnovespetino</th><td>0.93574496</td><td>0.55209680</td><td>1.58598752</td></tr>\n",
       "</tbody>\n",
       "</table>\n"
      ],
      "text/latex": [
       "A matrix: 6 × 3 of type dbl\n",
       "\\begin{tabular}{r|lll}\n",
       "  & OR & 2.5 \\% & 97.5 \\%\\\\\n",
       "\\hline\n",
       "\t(Intercept) & 0.01754636 & 0.01338992 & 0.02299304\\\\\n",
       "\tgeneroM & 1.31118262 & 1.16351244 & 1.47759474\\\\\n",
       "\tidade & 1.07297462 & 1.06386632 & 1.08216089\\\\\n",
       "\tturnomatutino & 1.21384957 & 0.98975075 & 1.48868873\\\\\n",
       "\tturnonoturno & 1.40795224 & 1.21254546 & 1.63484965\\\\\n",
       "\tturnovespetino & 0.93574496 & 0.55209680 & 1.58598752\\\\\n",
       "\\end{tabular}\n"
      ],
      "text/markdown": [
       "\n",
       "A matrix: 6 × 3 of type dbl\n",
       "\n",
       "| <!--/--> | OR | 2.5 % | 97.5 % |\n",
       "|---|---|---|---|\n",
       "| (Intercept) | 0.01754636 | 0.01338992 | 0.02299304 |\n",
       "| generoM | 1.31118262 | 1.16351244 | 1.47759474 |\n",
       "| idade | 1.07297462 | 1.06386632 | 1.08216089 |\n",
       "| turnomatutino | 1.21384957 | 0.98975075 | 1.48868873 |\n",
       "| turnonoturno | 1.40795224 | 1.21254546 | 1.63484965 |\n",
       "| turnovespetino | 0.93574496 | 0.55209680 | 1.58598752 |\n",
       "\n"
      ],
      "text/plain": [
       "               OR         2.5 %      97.5 %    \n",
       "(Intercept)    0.01754636 0.01338992 0.02299304\n",
       "generoM        1.31118262 1.16351244 1.47759474\n",
       "idade          1.07297462 1.06386632 1.08216089\n",
       "turnomatutino  1.21384957 0.98975075 1.48868873\n",
       "turnonoturno   1.40795224 1.21254546 1.63484965\n",
       "turnovespetino 0.93574496 0.55209680 1.58598752"
      ]
     },
     "metadata": {},
     "output_type": "display_data"
    }
   ],
   "source": [
    "# Razão de chances\n",
    "exp(cbind(OR = coef(model_1), confint.default(model_1)))"
   ]
  },
  {
   "cell_type": "code",
   "execution_count": null,
   "id": "exceptional-softball",
   "metadata": {},
   "outputs": [],
   "source": [
    "# Genero: ser do sexo feminino diminui a chance de pertencer a categoria ausente. \n",
    "# A chance de uma pessoa do sexo feminino ser da categoria ausente é de 0.76 vezes menor que ser do sexo masculino e pertencer a categoria ausente\n",
    "# Uma pessoa do sexo feminino tem 24% menos chance de faltar que um aluno do sexo masculino\n"
   ]
  },
  {
   "cell_type": "code",
   "execution_count": 74,
   "id": "graduate-inspiration",
   "metadata": {},
   "outputs": [
    {
     "data": {
      "text/plain": [
       "$rawtab\n",
       "       resp\n",
       "        presente ausente\n",
       "  FALSE     8028    1474\n",
       "  TRUE        57      23\n",
       "\n",
       "$classtab\n",
       "       resp\n",
       "           presente     ausente\n",
       "  FALSE 0.992949907 0.984635939\n",
       "  TRUE  0.007050093 0.015364061\n",
       "\n",
       "$overall\n",
       "[1] 0.8402212\n",
       "\n",
       "$mcFadden\n",
       "[1] 0.04124749\n"
      ]
     },
     "metadata": {},
     "output_type": "display_data"
    }
   ],
   "source": [
    "# Matriz de confusão\n",
    "ClassLog(model_1, df_1$presenca)"
   ]
  },
  {
   "cell_type": "code",
   "execution_count": 71,
   "id": "postal-casino",
   "metadata": {},
   "outputs": [],
   "source": [
    "# Previsão do modelo\n",
    "prev = predict(model_1, newdata=df_1, type=\"response\")\n"
   ]
  },
  {
   "cell_type": "code",
   "execution_count": 73,
   "id": "tribal-ancient",
   "metadata": {},
   "outputs": [],
   "source": [
    "#plot(sort(prev))"
   ]
  },
  {
   "cell_type": "code",
   "execution_count": 77,
   "id": "competent-cooperation",
   "metadata": {},
   "outputs": [],
   "source": [
    "prev = prev >= 0.5\n"
   ]
  },
  {
   "cell_type": "code",
   "execution_count": 141,
   "id": "professional-integer",
   "metadata": {},
   "outputs": [
    {
     "data": {
      "text/plain": [
       "       \n",
       "prev_   presente ausente\n",
       "  FALSE     8028    1474\n",
       "  TRUE        57      23"
      ]
     },
     "metadata": {},
     "output_type": "display_data"
    }
   ],
   "source": [
    "# Avaliação da performance/matriz de confusão\n",
    "conf = table(prev_, df_1[[1]])\n",
    "conf\n"
   ]
  },
  {
   "cell_type": "code",
   "execution_count": 69,
   "id": "defensive-entry",
   "metadata": {},
   "outputs": [
    {
     "data": {
      "text/html": [
       "<style>\n",
       ".dl-inline {width: auto; margin:0; padding: 0}\n",
       ".dl-inline>dt, .dl-inline>dd {float: none; width: auto; display: inline-block}\n",
       ".dl-inline>dt::after {content: \":\\0020\"; padding-right: .5ex}\n",
       ".dl-inline>dt:not(:first-of-type) {padding-left: .5ex}\n",
       "</style><dl class=dl-inline><dt>(Intercept)</dt><dd>-0.510277404440934</dd><dt>generoM</dt><dd>0.0341954804703324</dd><dt>idade</dt><dd>0.0088899588174772</dd><dt>turnomatutino</dt><dd>0.0244601418477969</dd><dt>turnonoturno</dt><dd>0.043182882761335</dd><dt>turnovespetino</dt><dd>-0.00838225866315251</dd></dl>\n"
      ],
      "text/latex": [
       "\\begin{description*}\n",
       "\\item[(Intercept)] -0.510277404440934\n",
       "\\item[generoM] 0.0341954804703324\n",
       "\\item[idade] 0.0088899588174772\n",
       "\\item[turnomatutino] 0.0244601418477969\n",
       "\\item[turnonoturno] 0.043182882761335\n",
       "\\item[turnovespetino] -0.00838225866315251\n",
       "\\end{description*}\n"
      ],
      "text/markdown": [
       "(Intercept)\n",
       ":   -0.510277404440934generoM\n",
       ":   0.0341954804703324idade\n",
       ":   0.0088899588174772turnomatutino\n",
       ":   0.0244601418477969turnonoturno\n",
       ":   0.043182882761335turnovespetino\n",
       ":   -0.00838225866315251\n",
       "\n"
      ],
      "text/plain": [
       "   (Intercept)        generoM          idade  turnomatutino   turnonoturno \n",
       "  -0.510277404    0.034195480    0.008889959    0.024460142    0.043182883 \n",
       "turnovespetino \n",
       "  -0.008382259 "
      ]
     },
     "metadata": {},
     "output_type": "display_data"
    }
   ],
   "source": [
    "logit = mean(dlogis(predict(model_1,type=\"link\")))\n",
    "logit * coef(model_1)"
   ]
  },
  {
   "cell_type": "code",
   "execution_count": 78,
   "id": "fifty-connection",
   "metadata": {},
   "outputs": [
    {
     "data": {
      "text/plain": [
       "       \n",
       "prev    presente ausente\n",
       "  FALSE     8028    1474\n",
       "  TRUE        57      23"
      ]
     },
     "metadata": {},
     "output_type": "display_data"
    },
    {
     "data": {
      "text/html": [
       "0.840221248173659"
      ],
      "text/latex": [
       "0.840221248173659"
      ],
      "text/markdown": [
       "0.840221248173659"
      ],
      "text/plain": [
       "[1] 0.8402212"
      ]
     },
     "metadata": {},
     "output_type": "display_data"
    }
   ],
   "source": [
    "conf = table(prev, df_1[[1]])\n",
    "conf\n",
    "tx_acerto = (conf[1] + conf[4]) / sum(conf)\n",
    "tx_acerto"
   ]
  },
  {
   "cell_type": "code",
   "execution_count": null,
   "id": "sexual-welcome",
   "metadata": {},
   "outputs": [],
   "source": []
  },
  {
   "cell_type": "markdown",
   "id": "mounted-reputation",
   "metadata": {},
   "source": [
    "# Modelo 2"
   ]
  },
  {
   "cell_type": "code",
   "execution_count": 70,
   "id": "fitted-glance",
   "metadata": {},
   "outputs": [
    {
     "data": {
      "text/html": [
       "<style>\n",
       ".dl-inline {width: auto; margin:0; padding: 0}\n",
       ".dl-inline>dt, .dl-inline>dd {float: none; width: auto; display: inline-block}\n",
       ".dl-inline>dt::after {content: \":\\0020\"; padding-right: .5ex}\n",
       ".dl-inline>dt:not(:first-of-type) {padding-left: .5ex}\n",
       "</style><dl class=dl-inline><dt>(Intercept)</dt><dd>-0.54703153164147</dd><dt>generoM</dt><dd>0.0328907326259963</dd><dt>idade</dt><dd>0.00970411383587032</dd><dt>turnomatutino</dt><dd>0.0235675857333752</dd><dt>turnonoturno</dt><dd>0.0414566647223884</dd><dt>turnovespetino</dt><dd>-0.00884930568949389</dd></dl>\n"
      ],
      "text/latex": [
       "\\begin{description*}\n",
       "\\item[(Intercept)] -0.54703153164147\n",
       "\\item[generoM] 0.0328907326259963\n",
       "\\item[idade] 0.00970411383587032\n",
       "\\item[turnomatutino] 0.0235675857333752\n",
       "\\item[turnonoturno] 0.0414566647223884\n",
       "\\item[turnovespetino] -0.00884930568949389\n",
       "\\end{description*}\n"
      ],
      "text/markdown": [
       "(Intercept)\n",
       ":   -0.54703153164147generoM\n",
       ":   0.0328907326259963idade\n",
       ":   0.00970411383587032turnomatutino\n",
       ":   0.0235675857333752turnonoturno\n",
       ":   0.0414566647223884turnovespetino\n",
       ":   -0.00884930568949389\n",
       "\n"
      ],
      "text/plain": [
       "   (Intercept)        generoM          idade  turnomatutino   turnonoturno \n",
       "  -0.547031532    0.032890733    0.009704114    0.023567586    0.041456665 \n",
       "turnovespetino \n",
       "  -0.008849306 "
      ]
     },
     "metadata": {},
     "output_type": "display_data"
    }
   ],
   "source": [
    "logit = mean(dnorm(predict(model_2,type=\"link\")))\n",
    "logit * coef(model_2)"
   ]
  },
  {
   "cell_type": "code",
   "execution_count": 64,
   "id": "national-accordance",
   "metadata": {},
   "outputs": [],
   "source": [
    "model_2 = glm(presenca~., data=df_1, family=binomial(link='probit'))\n"
   ]
  },
  {
   "cell_type": "code",
   "execution_count": 65,
   "id": "listed-medium",
   "metadata": {},
   "outputs": [
    {
     "data": {
      "text/plain": [
       "\n",
       "Call:\n",
       "glm(formula = presenca ~ ., family = binomial(link = \"probit\"), \n",
       "    data = df_1)\n",
       "\n",
       "Deviance Residuals: \n",
       "    Min       1Q   Median       3Q      Max  \n",
       "-1.8109  -0.5836  -0.5069  -0.4417   2.3302  \n",
       "\n",
       "Coefficients:\n",
       "                Estimate Std. Error z value Pr(>|z|)    \n",
       "(Intercept)    -2.397964   0.077463 -30.956  < 2e-16 ***\n",
       "generoM         0.144180   0.033162   4.348 1.38e-05 ***\n",
       "idade           0.042539   0.002561  16.612  < 2e-16 ***\n",
       "turnomatutino   0.103311   0.055764   1.853   0.0639 .  \n",
       "turnonoturno    0.181729   0.040848   4.449 8.63e-06 ***\n",
       "turnovespetino -0.038792   0.141807  -0.274   0.7844    \n",
       "---\n",
       "Signif. codes:  0 '***' 0.001 '**' 0.01 '*' 0.05 '.' 0.1 ' ' 1\n",
       "\n",
       "(Dispersion parameter for binomial family taken to be 1)\n",
       "\n",
       "    Null deviance: 8305.0  on 9581  degrees of freedom\n",
       "Residual deviance: 7946.3  on 9576  degrees of freedom\n",
       "AIC: 7958.3\n",
       "\n",
       "Number of Fisher Scoring iterations: 4\n"
      ]
     },
     "metadata": {},
     "output_type": "display_data"
    }
   ],
   "source": [
    "summary(model_2)"
   ]
  },
  {
   "cell_type": "code",
   "execution_count": 66,
   "id": "practical-bibliography",
   "metadata": {},
   "outputs": [
    {
     "data": {
      "text/html": [
       "<table class=\"dataframe\">\n",
       "<caption>A matrix: 6 × 3 of type dbl</caption>\n",
       "<thead>\n",
       "\t<tr><th></th><th scope=col>OR</th><th scope=col>2.5 %</th><th scope=col>97.5 %</th></tr>\n",
       "</thead>\n",
       "<tbody>\n",
       "\t<tr><th scope=row>(Intercept)</th><td>0.09090283</td><td>0.07809809</td><td>0.105807</td></tr>\n",
       "\t<tr><th scope=row>generoM</th><td>1.15509157</td><td>1.08240361</td><td>1.232661</td></tr>\n",
       "\t<tr><th scope=row>idade</th><td>1.04345664</td><td>1.03823256</td><td>1.048707</td></tr>\n",
       "\t<tr><th scope=row>turnomatutino</th><td>1.10883590</td><td>0.99403382</td><td>1.236897</td></tr>\n",
       "\t<tr><th scope=row>turnonoturno</th><td>1.19928937</td><td>1.10701733</td><td>1.299252</td></tr>\n",
       "\t<tr><th scope=row>turnovespetino</th><td>0.96195100</td><td>0.72852903</td><td>1.270162</td></tr>\n",
       "</tbody>\n",
       "</table>\n"
      ],
      "text/latex": [
       "A matrix: 6 × 3 of type dbl\n",
       "\\begin{tabular}{r|lll}\n",
       "  & OR & 2.5 \\% & 97.5 \\%\\\\\n",
       "\\hline\n",
       "\t(Intercept) & 0.09090283 & 0.07809809 & 0.105807\\\\\n",
       "\tgeneroM & 1.15509157 & 1.08240361 & 1.232661\\\\\n",
       "\tidade & 1.04345664 & 1.03823256 & 1.048707\\\\\n",
       "\tturnomatutino & 1.10883590 & 0.99403382 & 1.236897\\\\\n",
       "\tturnonoturno & 1.19928937 & 1.10701733 & 1.299252\\\\\n",
       "\tturnovespetino & 0.96195100 & 0.72852903 & 1.270162\\\\\n",
       "\\end{tabular}\n"
      ],
      "text/markdown": [
       "\n",
       "A matrix: 6 × 3 of type dbl\n",
       "\n",
       "| <!--/--> | OR | 2.5 % | 97.5 % |\n",
       "|---|---|---|---|\n",
       "| (Intercept) | 0.09090283 | 0.07809809 | 0.105807 |\n",
       "| generoM | 1.15509157 | 1.08240361 | 1.232661 |\n",
       "| idade | 1.04345664 | 1.03823256 | 1.048707 |\n",
       "| turnomatutino | 1.10883590 | 0.99403382 | 1.236897 |\n",
       "| turnonoturno | 1.19928937 | 1.10701733 | 1.299252 |\n",
       "| turnovespetino | 0.96195100 | 0.72852903 | 1.270162 |\n",
       "\n"
      ],
      "text/plain": [
       "               OR         2.5 %      97.5 %  \n",
       "(Intercept)    0.09090283 0.07809809 0.105807\n",
       "generoM        1.15509157 1.08240361 1.232661\n",
       "idade          1.04345664 1.03823256 1.048707\n",
       "turnomatutino  1.10883590 0.99403382 1.236897\n",
       "turnonoturno   1.19928937 1.10701733 1.299252\n",
       "turnovespetino 0.96195100 0.72852903 1.270162"
      ]
     },
     "metadata": {},
     "output_type": "display_data"
    }
   ],
   "source": [
    "exp(cbind(OR = coef(model_2), confint.default(model_2)))"
   ]
  },
  {
   "cell_type": "code",
   "execution_count": 75,
   "id": "medieval-finnish",
   "metadata": {},
   "outputs": [
    {
     "data": {
      "text/plain": [
       "$rawtab\n",
       "       resp\n",
       "        presente ausente\n",
       "  FALSE     8028    1474\n",
       "  TRUE        57      23\n",
       "\n",
       "$classtab\n",
       "       resp\n",
       "           presente     ausente\n",
       "  FALSE 0.992949907 0.984635939\n",
       "  TRUE  0.007050093 0.015364061\n",
       "\n",
       "$overall\n",
       "[1] 0.8402212\n",
       "\n",
       "$mcFadden\n",
       "[1] 0.04319941\n"
      ]
     },
     "metadata": {},
     "output_type": "display_data"
    }
   ],
   "source": [
    "ClassLog(model_2, df_1$presenca)"
   ]
  },
  {
   "cell_type": "code",
   "execution_count": 79,
   "id": "indonesian-mounting",
   "metadata": {},
   "outputs": [],
   "source": [
    "prev_ = predict(model_2, newdata=df_1, type=\"response\")\n",
    "prev_ = prev >= 0.5"
   ]
  },
  {
   "cell_type": "code",
   "execution_count": 80,
   "id": "documented-employee",
   "metadata": {},
   "outputs": [
    {
     "data": {
      "text/plain": [
       "       \n",
       "prev_   presente ausente\n",
       "  FALSE     8028    1474\n",
       "  TRUE        57      23"
      ]
     },
     "metadata": {},
     "output_type": "display_data"
    },
    {
     "data": {
      "text/html": [
       "0.840221248173659"
      ],
      "text/latex": [
       "0.840221248173659"
      ],
      "text/markdown": [
       "0.840221248173659"
      ],
      "text/plain": [
       "[1] 0.8402212"
      ]
     },
     "metadata": {},
     "output_type": "display_data"
    }
   ],
   "source": [
    "conf_ = table(prev_, df_1[[1]])\n",
    "conf_\n",
    "tx_acerto_ = (conf_[1] + conf_[4]) / sum(conf_)\n",
    "tx_acerto_"
   ]
  },
  {
   "cell_type": "markdown",
   "id": "failing-circus",
   "metadata": {},
   "source": [
    "# Previsão"
   ]
  },
  {
   "cell_type": "code",
   "execution_count": 82,
   "id": "aggregate-father",
   "metadata": {},
   "outputs": [
    {
     "data": {
      "text/html": [
       "<table class=\"dataframe\">\n",
       "<caption>A data.frame: 6 × 4</caption>\n",
       "<thead>\n",
       "\t<tr><th></th><th scope=col>presenca</th><th scope=col>genero</th><th scope=col>idade</th><th scope=col>turno</th></tr>\n",
       "\t<tr><th></th><th scope=col>&lt;fct&gt;</th><th scope=col>&lt;fct&gt;</th><th scope=col>&lt;int&gt;</th><th scope=col>&lt;fct&gt;</th></tr>\n",
       "</thead>\n",
       "<tbody>\n",
       "\t<tr><th scope=row>161</th><td>presente</td><td>F</td><td>28</td><td>noturno</td></tr>\n",
       "\t<tr><th scope=row>162</th><td>presente</td><td>M</td><td>30</td><td>noturno</td></tr>\n",
       "\t<tr><th scope=row>163</th><td>presente</td><td>M</td><td>29</td><td>noturno</td></tr>\n",
       "\t<tr><th scope=row>164</th><td>presente</td><td>F</td><td>22</td><td>noturno</td></tr>\n",
       "\t<tr><th scope=row>165</th><td>presente</td><td>M</td><td>47</td><td>noturno</td></tr>\n",
       "\t<tr><th scope=row>166</th><td>presente</td><td>M</td><td>27</td><td>noturno</td></tr>\n",
       "</tbody>\n",
       "</table>\n"
      ],
      "text/latex": [
       "A data.frame: 6 × 4\n",
       "\\begin{tabular}{r|llll}\n",
       "  & presenca & genero & idade & turno\\\\\n",
       "  & <fct> & <fct> & <int> & <fct>\\\\\n",
       "\\hline\n",
       "\t161 & presente & F & 28 & noturno\\\\\n",
       "\t162 & presente & M & 30 & noturno\\\\\n",
       "\t163 & presente & M & 29 & noturno\\\\\n",
       "\t164 & presente & F & 22 & noturno\\\\\n",
       "\t165 & presente & M & 47 & noturno\\\\\n",
       "\t166 & presente & M & 27 & noturno\\\\\n",
       "\\end{tabular}\n"
      ],
      "text/markdown": [
       "\n",
       "A data.frame: 6 × 4\n",
       "\n",
       "| <!--/--> | presenca &lt;fct&gt; | genero &lt;fct&gt; | idade &lt;int&gt; | turno &lt;fct&gt; |\n",
       "|---|---|---|---|---|\n",
       "| 161 | presente | F | 28 | noturno |\n",
       "| 162 | presente | M | 30 | noturno |\n",
       "| 163 | presente | M | 29 | noturno |\n",
       "| 164 | presente | F | 22 | noturno |\n",
       "| 165 | presente | M | 47 | noturno |\n",
       "| 166 | presente | M | 27 | noturno |\n",
       "\n"
      ],
      "text/plain": [
       "    presenca genero idade turno  \n",
       "161 presente F      28    noturno\n",
       "162 presente M      30    noturno\n",
       "163 presente M      29    noturno\n",
       "164 presente F      22    noturno\n",
       "165 presente M      47    noturno\n",
       "166 presente M      27    noturno"
      ]
     },
     "metadata": {},
     "output_type": "display_data"
    }
   ],
   "source": [
    "head(df_1)"
   ]
  },
  {
   "cell_type": "code",
   "execution_count": 86,
   "id": "ultimate-brand",
   "metadata": {},
   "outputs": [
    {
     "data": {
      "text/html": [
       "<table class=\"dataframe\">\n",
       "<caption>A data.frame: 2 × 3</caption>\n",
       "<thead>\n",
       "\t<tr><th scope=col>genero</th><th scope=col>idade</th><th scope=col>turno</th></tr>\n",
       "\t<tr><th scope=col>&lt;fct&gt;</th><th scope=col>&lt;dbl&gt;</th><th scope=col>&lt;fct&gt;</th></tr>\n",
       "</thead>\n",
       "<tbody>\n",
       "\t<tr><td>F</td><td>28</td><td>noturno</td></tr>\n",
       "\t<tr><td>M</td><td>28</td><td>noturno</td></tr>\n",
       "</tbody>\n",
       "</table>\n"
      ],
      "text/latex": [
       "A data.frame: 2 × 3\n",
       "\\begin{tabular}{lll}\n",
       " genero & idade & turno\\\\\n",
       " <fct> & <dbl> & <fct>\\\\\n",
       "\\hline\n",
       "\t F & 28 & noturno\\\\\n",
       "\t M & 28 & noturno\\\\\n",
       "\\end{tabular}\n"
      ],
      "text/markdown": [
       "\n",
       "A data.frame: 2 × 3\n",
       "\n",
       "| genero &lt;fct&gt; | idade &lt;dbl&gt; | turno &lt;fct&gt; |\n",
       "|---|---|---|\n",
       "| F | 28 | noturno |\n",
       "| M | 28 | noturno |\n",
       "\n"
      ],
      "text/plain": [
       "  genero idade turno  \n",
       "1 F      28    noturno\n",
       "2 M      28    noturno"
      ]
     },
     "metadata": {},
     "output_type": "display_data"
    }
   ],
   "source": [
    "df_nw = data.frame(genero=c(\"F\",\"M\"),\n",
    "                  idade=c(28,28),\n",
    "                  turno=c(\"noturno\",\"noturno\"))\n",
    "df_nw"
   ]
  },
  {
   "cell_type": "code",
   "execution_count": 89,
   "id": "running-reconstruction",
   "metadata": {},
   "outputs": [
    {
     "data": {
      "text/html": [
       "<style>\n",
       ".dl-inline {width: auto; margin:0; padding: 0}\n",
       ".dl-inline>dt, .dl-inline>dd {float: none; width: auto; display: inline-block}\n",
       ".dl-inline>dt::after {content: \":\\0020\"; padding-right: .5ex}\n",
       ".dl-inline>dt:not(:first-of-type) {padding-left: .5ex}\n",
       "</style><dl class=dl-inline><dt>1</dt><dd>0.150767052395682</dd><dt>2</dt><dd>0.188824244079961</dd></dl>\n"
      ],
      "text/latex": [
       "\\begin{description*}\n",
       "\\item[1] 0.150767052395682\n",
       "\\item[2] 0.188824244079961\n",
       "\\end{description*}\n"
      ],
      "text/markdown": [
       "1\n",
       ":   0.1507670523956822\n",
       ":   0.188824244079961\n",
       "\n"
      ],
      "text/plain": [
       "        1         2 \n",
       "0.1507671 0.1888242 "
      ]
     },
     "metadata": {},
     "output_type": "display_data"
    }
   ],
   "source": [
    "predict_ = predict(model_1, newdata=df_nw, type=\"response\")\n",
    "predict_ "
   ]
  },
  {
   "cell_type": "code",
   "execution_count": null,
   "id": "tired-gossip",
   "metadata": {},
   "outputs": [],
   "source": []
  }
 ],
 "metadata": {
  "kernelspec": {
   "display_name": "R",
   "language": "R",
   "name": "ir"
  },
  "language_info": {
   "codemirror_mode": "r",
   "file_extension": ".r",
   "mimetype": "text/x-r-source",
   "name": "R",
   "pygments_lexer": "r",
   "version": "3.6.1"
  }
 },
 "nbformat": 4,
 "nbformat_minor": 5
}
