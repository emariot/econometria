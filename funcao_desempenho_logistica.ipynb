{
 "cells": [
  {
   "cell_type": "markdown",
   "id": "exciting-boundary",
   "metadata": {},
   "source": [
    "# Regressão Logística"
   ]
  },
  {
   "cell_type": "code",
   "execution_count": 59,
   "id": "cooperative-characterization",
   "metadata": {},
   "outputs": [],
   "source": [
    "library(dplyr)\n",
    "library(ggplot2)\n",
    "library(plyr)\n",
    "library(scales)"
   ]
  },
  {
   "cell_type": "code",
   "execution_count": 3,
   "id": "prepared-general",
   "metadata": {},
   "outputs": [
    {
     "data": {
      "text/html": [
       "<table class=\"dataframe\">\n",
       "<caption>A data.frame: 6 × 137</caption>\n",
       "<thead>\n",
       "\t<tr><th></th><th scope=col>NU_ANO</th><th scope=col>CO_IES</th><th scope=col>CO_CATEGAD</th><th scope=col>CO_ORGACAD</th><th scope=col>CO_GRUPO</th><th scope=col>CO_CURSO</th><th scope=col>CO_MODALIDADE</th><th scope=col>CO_MUNIC_CURSO</th><th scope=col>CO_UF_CURSO</th><th scope=col>CO_REGIAO_CURSO</th><th scope=col>...</th><th scope=col>QE_I59</th><th scope=col>QE_I60</th><th scope=col>QE_I61</th><th scope=col>QE_I62</th><th scope=col>QE_I63</th><th scope=col>QE_I64</th><th scope=col>QE_I65</th><th scope=col>QE_I66</th><th scope=col>QE_I67</th><th scope=col>QE_I68</th></tr>\n",
       "\t<tr><th></th><th scope=col>&lt;int&gt;</th><th scope=col>&lt;int&gt;</th><th scope=col>&lt;int&gt;</th><th scope=col>&lt;int&gt;</th><th scope=col>&lt;int&gt;</th><th scope=col>&lt;int&gt;</th><th scope=col>&lt;int&gt;</th><th scope=col>&lt;int&gt;</th><th scope=col>&lt;int&gt;</th><th scope=col>&lt;int&gt;</th><th scope=col>...</th><th scope=col>&lt;int&gt;</th><th scope=col>&lt;int&gt;</th><th scope=col>&lt;int&gt;</th><th scope=col>&lt;int&gt;</th><th scope=col>&lt;int&gt;</th><th scope=col>&lt;int&gt;</th><th scope=col>&lt;int&gt;</th><th scope=col>&lt;int&gt;</th><th scope=col>&lt;int&gt;</th><th scope=col>&lt;int&gt;</th></tr>\n",
       "</thead>\n",
       "<tbody>\n",
       "\t<tr><th scope=row>1</th><td>2018</td><td>1356</td><td>10003</td><td>10020</td><td>1</td><td>47116</td><td>1</td><td>3546603</td><td>35</td><td>3</td><td>...</td><td>6</td><td>6</td><td>6</td><td>6</td><td>6</td><td>6</td><td>6</td><td>6</td><td>6</td><td>5</td></tr>\n",
       "\t<tr><th scope=row>2</th><td>2018</td><td>1356</td><td>10003</td><td>10020</td><td>1</td><td>47116</td><td>1</td><td>3546603</td><td>35</td><td>3</td><td>...</td><td>6</td><td>6</td><td>6</td><td>6</td><td>6</td><td>6</td><td>6</td><td>6</td><td>6</td><td>6</td></tr>\n",
       "\t<tr><th scope=row>3</th><td>2018</td><td>1356</td><td>10003</td><td>10020</td><td>1</td><td>47116</td><td>1</td><td>3546603</td><td>35</td><td>3</td><td>...</td><td>6</td><td>6</td><td>6</td><td>6</td><td>6</td><td>6</td><td>6</td><td>6</td><td>6</td><td>5</td></tr>\n",
       "\t<tr><th scope=row>4</th><td>2018</td><td>1356</td><td>10003</td><td>10020</td><td>1</td><td>47116</td><td>1</td><td>3546603</td><td>35</td><td>3</td><td>...</td><td>6</td><td>6</td><td>6</td><td>6</td><td>5</td><td>6</td><td>6</td><td>6</td><td>6</td><td>4</td></tr>\n",
       "\t<tr><th scope=row>5</th><td>2018</td><td>1356</td><td>10003</td><td>10020</td><td>1</td><td>47116</td><td>1</td><td>3546603</td><td>35</td><td>3</td><td>...</td><td>6</td><td>6</td><td>6</td><td>6</td><td>6</td><td>6</td><td>6</td><td>6</td><td>6</td><td>6</td></tr>\n",
       "\t<tr><th scope=row>6</th><td>2018</td><td>1356</td><td>10003</td><td>10020</td><td>1</td><td>47116</td><td>1</td><td>3546603</td><td>35</td><td>3</td><td>...</td><td>6</td><td>5</td><td>6</td><td>6</td><td>6</td><td>6</td><td>6</td><td>6</td><td>6</td><td>5</td></tr>\n",
       "</tbody>\n",
       "</table>\n"
      ],
      "text/latex": [
       "A data.frame: 6 × 137\n",
       "\\begin{tabular}{r|lllllllllllllllllllll}\n",
       "  & NU\\_ANO & CO\\_IES & CO\\_CATEGAD & CO\\_ORGACAD & CO\\_GRUPO & CO\\_CURSO & CO\\_MODALIDADE & CO\\_MUNIC\\_CURSO & CO\\_UF\\_CURSO & CO\\_REGIAO\\_CURSO & ... & QE\\_I59 & QE\\_I60 & QE\\_I61 & QE\\_I62 & QE\\_I63 & QE\\_I64 & QE\\_I65 & QE\\_I66 & QE\\_I67 & QE\\_I68\\\\\n",
       "  & <int> & <int> & <int> & <int> & <int> & <int> & <int> & <int> & <int> & <int> & ... & <int> & <int> & <int> & <int> & <int> & <int> & <int> & <int> & <int> & <int>\\\\\n",
       "\\hline\n",
       "\t1 & 2018 & 1356 & 10003 & 10020 & 1 & 47116 & 1 & 3546603 & 35 & 3 & ... & 6 & 6 & 6 & 6 & 6 & 6 & 6 & 6 & 6 & 5\\\\\n",
       "\t2 & 2018 & 1356 & 10003 & 10020 & 1 & 47116 & 1 & 3546603 & 35 & 3 & ... & 6 & 6 & 6 & 6 & 6 & 6 & 6 & 6 & 6 & 6\\\\\n",
       "\t3 & 2018 & 1356 & 10003 & 10020 & 1 & 47116 & 1 & 3546603 & 35 & 3 & ... & 6 & 6 & 6 & 6 & 6 & 6 & 6 & 6 & 6 & 5\\\\\n",
       "\t4 & 2018 & 1356 & 10003 & 10020 & 1 & 47116 & 1 & 3546603 & 35 & 3 & ... & 6 & 6 & 6 & 6 & 5 & 6 & 6 & 6 & 6 & 4\\\\\n",
       "\t5 & 2018 & 1356 & 10003 & 10020 & 1 & 47116 & 1 & 3546603 & 35 & 3 & ... & 6 & 6 & 6 & 6 & 6 & 6 & 6 & 6 & 6 & 6\\\\\n",
       "\t6 & 2018 & 1356 & 10003 & 10020 & 1 & 47116 & 1 & 3546603 & 35 & 3 & ... & 6 & 5 & 6 & 6 & 6 & 6 & 6 & 6 & 6 & 5\\\\\n",
       "\\end{tabular}\n"
      ],
      "text/markdown": [
       "\n",
       "A data.frame: 6 × 137\n",
       "\n",
       "| <!--/--> | NU_ANO &lt;int&gt; | CO_IES &lt;int&gt; | CO_CATEGAD &lt;int&gt; | CO_ORGACAD &lt;int&gt; | CO_GRUPO &lt;int&gt; | CO_CURSO &lt;int&gt; | CO_MODALIDADE &lt;int&gt; | CO_MUNIC_CURSO &lt;int&gt; | CO_UF_CURSO &lt;int&gt; | CO_REGIAO_CURSO &lt;int&gt; | ... ... | QE_I59 &lt;int&gt; | QE_I60 &lt;int&gt; | QE_I61 &lt;int&gt; | QE_I62 &lt;int&gt; | QE_I63 &lt;int&gt; | QE_I64 &lt;int&gt; | QE_I65 &lt;int&gt; | QE_I66 &lt;int&gt; | QE_I67 &lt;int&gt; | QE_I68 &lt;int&gt; |\n",
       "|---|---|---|---|---|---|---|---|---|---|---|---|---|---|---|---|---|---|---|---|---|---|\n",
       "| 1 | 2018 | 1356 | 10003 | 10020 | 1 | 47116 | 1 | 3546603 | 35 | 3 | ... | 6 | 6 | 6 | 6 | 6 | 6 | 6 | 6 | 6 | 5 |\n",
       "| 2 | 2018 | 1356 | 10003 | 10020 | 1 | 47116 | 1 | 3546603 | 35 | 3 | ... | 6 | 6 | 6 | 6 | 6 | 6 | 6 | 6 | 6 | 6 |\n",
       "| 3 | 2018 | 1356 | 10003 | 10020 | 1 | 47116 | 1 | 3546603 | 35 | 3 | ... | 6 | 6 | 6 | 6 | 6 | 6 | 6 | 6 | 6 | 5 |\n",
       "| 4 | 2018 | 1356 | 10003 | 10020 | 1 | 47116 | 1 | 3546603 | 35 | 3 | ... | 6 | 6 | 6 | 6 | 5 | 6 | 6 | 6 | 6 | 4 |\n",
       "| 5 | 2018 | 1356 | 10003 | 10020 | 1 | 47116 | 1 | 3546603 | 35 | 3 | ... | 6 | 6 | 6 | 6 | 6 | 6 | 6 | 6 | 6 | 6 |\n",
       "| 6 | 2018 | 1356 | 10003 | 10020 | 1 | 47116 | 1 | 3546603 | 35 | 3 | ... | 6 | 5 | 6 | 6 | 6 | 6 | 6 | 6 | 6 | 5 |\n",
       "\n"
      ],
      "text/plain": [
       "  NU_ANO CO_IES CO_CATEGAD CO_ORGACAD CO_GRUPO CO_CURSO CO_MODALIDADE\n",
       "1 2018   1356   10003      10020      1        47116    1            \n",
       "2 2018   1356   10003      10020      1        47116    1            \n",
       "3 2018   1356   10003      10020      1        47116    1            \n",
       "4 2018   1356   10003      10020      1        47116    1            \n",
       "5 2018   1356   10003      10020      1        47116    1            \n",
       "6 2018   1356   10003      10020      1        47116    1            \n",
       "  CO_MUNIC_CURSO CO_UF_CURSO CO_REGIAO_CURSO ... QE_I59 QE_I60 QE_I61 QE_I62\n",
       "1 3546603        35          3               ... 6      6      6      6     \n",
       "2 3546603        35          3               ... 6      6      6      6     \n",
       "3 3546603        35          3               ... 6      6      6      6     \n",
       "4 3546603        35          3               ... 6      6      6      6     \n",
       "5 3546603        35          3               ... 6      6      6      6     \n",
       "6 3546603        35          3               ... 6      5      6      6     \n",
       "  QE_I63 QE_I64 QE_I65 QE_I66 QE_I67 QE_I68\n",
       "1 6      6      6      6      6      5     \n",
       "2 6      6      6      6      6      6     \n",
       "3 6      6      6      6      6      5     \n",
       "4 5      6      6      6      6      4     \n",
       "5 6      6      6      6      6      6     \n",
       "6 6      6      6      6      6      5     "
      ]
     },
     "metadata": {},
     "output_type": "display_data"
    }
   ],
   "source": [
    "data = read.table(\"dataset/enade.txt\",sep=\";\", dec = \",\", header = TRUE)\n",
    "head(data)"
   ]
  },
  {
   "cell_type": "code",
   "execution_count": 4,
   "id": "cubic-writing",
   "metadata": {},
   "outputs": [],
   "source": [
    "df = data[data$CO_GRUPO == 13,]"
   ]
  },
  {
   "cell_type": "code",
   "execution_count": 5,
   "id": "level-residence",
   "metadata": {},
   "outputs": [
    {
     "data": {
      "text/html": [
       "<style>\n",
       ".list-inline {list-style: none; margin:0; padding: 0}\n",
       ".list-inline>li {display: inline-block}\n",
       ".list-inline>li:not(:last-child)::after {content: \"\\00b7\"; padding: 0 .5ex}\n",
       "</style>\n",
       "<ol class=list-inline><li>9582</li><li>137</li></ol>\n"
      ],
      "text/latex": [
       "\\begin{enumerate*}\n",
       "\\item 9582\n",
       "\\item 137\n",
       "\\end{enumerate*}\n"
      ],
      "text/markdown": [
       "1. 9582\n",
       "2. 137\n",
       "\n",
       "\n"
      ],
      "text/plain": [
       "[1] 9582  137"
      ]
     },
     "metadata": {},
     "output_type": "display_data"
    }
   ],
   "source": [
    "dim(df)"
   ]
  },
  {
   "cell_type": "code",
   "execution_count": 8,
   "id": "separate-roller",
   "metadata": {},
   "outputs": [
    {
     "data": {
      "text/html": [
       "<style>\n",
       ".list-inline {list-style: none; margin:0; padding: 0}\n",
       ".list-inline>li {display: inline-block}\n",
       ".list-inline>li:not(:last-child)::after {content: \"\\00b7\"; padding: 0 .5ex}\n",
       "</style>\n",
       "<ol class=list-inline><li>1497</li><li>137</li></ol>\n"
      ],
      "text/latex": [
       "\\begin{enumerate*}\n",
       "\\item 1497\n",
       "\\item 137\n",
       "\\end{enumerate*}\n"
      ],
      "text/markdown": [
       "1. 1497\n",
       "2. 137\n",
       "\n",
       "\n"
      ],
      "text/plain": [
       "[1] 1497  137"
      ]
     },
     "metadata": {},
     "output_type": "display_data"
    }
   ],
   "source": [
    "dim(df[df$TP_PRES==222,])"
   ]
  },
  {
   "cell_type": "markdown",
   "id": "streaming-button",
   "metadata": {},
   "source": [
    "## Variáveis de IES"
   ]
  },
  {
   "cell_type": "code",
   "execution_count": 28,
   "id": "sorted-sociology",
   "metadata": {},
   "outputs": [],
   "source": [
    "df_1 = df %>% \n",
    "        select(TP_PRES, TP_SEXO, NU_IDADE,QE_I08,QE_I10,QE_I23, CO_TURNO_GRADUACAO) %>% \n",
    "        setNames(c(\"presenca\",\"genero\", \"idade\", \"renda\", \"trabalho\", \"esforco\",\n",
    "                  \"turno\"))"
   ]
  },
  {
   "cell_type": "code",
   "execution_count": 29,
   "id": "governing-accreditation",
   "metadata": {},
   "outputs": [],
   "source": [
    "df_1$presenca = ifelse(df_1$presenca == 222,'ausente','presente')"
   ]
  },
  {
   "cell_type": "code",
   "execution_count": 30,
   "id": "coastal-advocate",
   "metadata": {},
   "outputs": [
    {
     "data": {
      "text/plain": [
       "\n",
       " ausente presente \n",
       "    1497     8085 "
      ]
     },
     "metadata": {},
     "output_type": "display_data"
    }
   ],
   "source": [
    "table(df_1$presenca)"
   ]
  },
  {
   "cell_type": "code",
   "execution_count": 31,
   "id": "spectacular-blackjack",
   "metadata": {},
   "outputs": [],
   "source": [
    "df_1$renda = mapvalues(df_1$renda, from=c(\"A\",\"B\",\"C\",\"D\",\"E\",\"F\",\"G\"), to=c(\"Até 1.5 salário mínimo\",\"De 1.5 a 3 salários mínimos\",\n",
    "                                                                \"De 3 a 4.5 salários mínimos\",\"De 4.5 a 6 salários mínimos\",\"De 6 a 10 salários mínimos\",\n",
    "                                                                                \"10 a 30 salários mínimos\", \"Acima de 30 salários mínimos\"))\n",
    "df_1$trabalho = mapvalues(df_1$trabalho, from=c(\"A\",\"B\",\"C\",\"D\",\"E\"), to=c(\"Não trabalha\",\n",
    "                                                                  \"Trabalha eventualmente\",\n",
    "                                                                 \"Trabalha até 20 hrs. semanais\",\n",
    "                                                                 \"Trabalha de 21 a 39 hrs. semanais\",\n",
    "                                                                 \"Trabalha 40 hrs. semanais ou mais\"))\n",
    "df_1$esforco = mapvalues(df_1$esforco, from=c(\"A\",\"B\",\"C\",\"D\",\"E\"), to=c(\"Nenhuma, apenas assistindo as aulas\",\"De uma a três\",\n",
    "                                                                \"De quatro a sete\",\"De oito adoze\",\"Mais de doze\"))\n",
    "df_1$turno = mapvalues(df_1$turno, from=c(1,2,3,4), to=c(\"matutino\",\"vespetino\",\n",
    "                                                                \"integral\",\"noturno\"))"
   ]
  },
  {
   "cell_type": "code",
   "execution_count": 32,
   "id": "extra-talent",
   "metadata": {},
   "outputs": [
    {
     "data": {
      "text/html": [
       "<table class=\"dataframe\">\n",
       "<caption>A data.frame: 6 × 7</caption>\n",
       "<thead>\n",
       "\t<tr><th></th><th scope=col>presenca</th><th scope=col>genero</th><th scope=col>idade</th><th scope=col>renda</th><th scope=col>trabalho</th><th scope=col>esforco</th><th scope=col>turno</th></tr>\n",
       "\t<tr><th></th><th scope=col>&lt;chr&gt;</th><th scope=col>&lt;fct&gt;</th><th scope=col>&lt;int&gt;</th><th scope=col>&lt;fct&gt;</th><th scope=col>&lt;fct&gt;</th><th scope=col>&lt;fct&gt;</th><th scope=col>&lt;chr&gt;</th></tr>\n",
       "</thead>\n",
       "<tbody>\n",
       "\t<tr><th scope=row>161</th><td>presente</td><td>F</td><td>28</td><td>De 3 a 4.5 salários mínimos</td><td>Trabalha 40 hrs. semanais ou mais</td><td>De quatro a sete</td><td>noturno</td></tr>\n",
       "\t<tr><th scope=row>162</th><td>presente</td><td>M</td><td>30</td><td>De 4.5 a 6 salários mínimos</td><td>Trabalha 40 hrs. semanais ou mais</td><td>De uma a três   </td><td>noturno</td></tr>\n",
       "\t<tr><th scope=row>163</th><td>presente</td><td>M</td><td>29</td><td>De 3 a 4.5 salários mínimos</td><td>Trabalha 40 hrs. semanais ou mais</td><td>De quatro a sete</td><td>noturno</td></tr>\n",
       "\t<tr><th scope=row>164</th><td>presente</td><td>F</td><td>22</td><td>De 1.5 a 3 salários mínimos</td><td>Trabalha 40 hrs. semanais ou mais</td><td>De uma a três   </td><td>noturno</td></tr>\n",
       "\t<tr><th scope=row>165</th><td>presente</td><td>M</td><td>47</td><td>De 1.5 a 3 salários mínimos</td><td>Trabalha 40 hrs. semanais ou mais</td><td>De quatro a sete</td><td>noturno</td></tr>\n",
       "\t<tr><th scope=row>166</th><td>presente</td><td>M</td><td>27</td><td>De 3 a 4.5 salários mínimos</td><td>Trabalha 40 hrs. semanais ou mais</td><td>De quatro a sete</td><td>noturno</td></tr>\n",
       "</tbody>\n",
       "</table>\n"
      ],
      "text/latex": [
       "A data.frame: 6 × 7\n",
       "\\begin{tabular}{r|lllllll}\n",
       "  & presenca & genero & idade & renda & trabalho & esforco & turno\\\\\n",
       "  & <chr> & <fct> & <int> & <fct> & <fct> & <fct> & <chr>\\\\\n",
       "\\hline\n",
       "\t161 & presente & F & 28 & De 3 a 4.5 salários mínimos & Trabalha 40 hrs. semanais ou mais & De quatro a sete & noturno\\\\\n",
       "\t162 & presente & M & 30 & De 4.5 a 6 salários mínimos & Trabalha 40 hrs. semanais ou mais & De uma a três    & noturno\\\\\n",
       "\t163 & presente & M & 29 & De 3 a 4.5 salários mínimos & Trabalha 40 hrs. semanais ou mais & De quatro a sete & noturno\\\\\n",
       "\t164 & presente & F & 22 & De 1.5 a 3 salários mínimos & Trabalha 40 hrs. semanais ou mais & De uma a três    & noturno\\\\\n",
       "\t165 & presente & M & 47 & De 1.5 a 3 salários mínimos & Trabalha 40 hrs. semanais ou mais & De quatro a sete & noturno\\\\\n",
       "\t166 & presente & M & 27 & De 3 a 4.5 salários mínimos & Trabalha 40 hrs. semanais ou mais & De quatro a sete & noturno\\\\\n",
       "\\end{tabular}\n"
      ],
      "text/markdown": [
       "\n",
       "A data.frame: 6 × 7\n",
       "\n",
       "| <!--/--> | presenca &lt;chr&gt; | genero &lt;fct&gt; | idade &lt;int&gt; | renda &lt;fct&gt; | trabalho &lt;fct&gt; | esforco &lt;fct&gt; | turno &lt;chr&gt; |\n",
       "|---|---|---|---|---|---|---|---|\n",
       "| 161 | presente | F | 28 | De 3 a 4.5 salários mínimos | Trabalha 40 hrs. semanais ou mais | De quatro a sete | noturno |\n",
       "| 162 | presente | M | 30 | De 4.5 a 6 salários mínimos | Trabalha 40 hrs. semanais ou mais | De uma a três    | noturno |\n",
       "| 163 | presente | M | 29 | De 3 a 4.5 salários mínimos | Trabalha 40 hrs. semanais ou mais | De quatro a sete | noturno |\n",
       "| 164 | presente | F | 22 | De 1.5 a 3 salários mínimos | Trabalha 40 hrs. semanais ou mais | De uma a três    | noturno |\n",
       "| 165 | presente | M | 47 | De 1.5 a 3 salários mínimos | Trabalha 40 hrs. semanais ou mais | De quatro a sete | noturno |\n",
       "| 166 | presente | M | 27 | De 3 a 4.5 salários mínimos | Trabalha 40 hrs. semanais ou mais | De quatro a sete | noturno |\n",
       "\n"
      ],
      "text/plain": [
       "    presenca genero idade renda                      \n",
       "161 presente F      28    De 3 a 4.5 salários mínimos\n",
       "162 presente M      30    De 4.5 a 6 salários mínimos\n",
       "163 presente M      29    De 3 a 4.5 salários mínimos\n",
       "164 presente F      22    De 1.5 a 3 salários mínimos\n",
       "165 presente M      47    De 1.5 a 3 salários mínimos\n",
       "166 presente M      27    De 3 a 4.5 salários mínimos\n",
       "    trabalho                          esforco          turno  \n",
       "161 Trabalha 40 hrs. semanais ou mais De quatro a sete noturno\n",
       "162 Trabalha 40 hrs. semanais ou mais De uma a três    noturno\n",
       "163 Trabalha 40 hrs. semanais ou mais De quatro a sete noturno\n",
       "164 Trabalha 40 hrs. semanais ou mais De uma a três    noturno\n",
       "165 Trabalha 40 hrs. semanais ou mais De quatro a sete noturno\n",
       "166 Trabalha 40 hrs. semanais ou mais De quatro a sete noturno"
      ]
     },
     "metadata": {},
     "output_type": "display_data"
    }
   ],
   "source": [
    "head(df_1)"
   ]
  },
  {
   "cell_type": "code",
   "execution_count": 56,
   "id": "strong-chaos",
   "metadata": {},
   "outputs": [
    {
     "data": {
      "image/png": "[encoded data removed]",
      "text/plain": [
       "plot without title"
      ]
     },
     "metadata": {
      "image/png": {
       "height": 360,
       "width": 900
      }
     },
     "output_type": "display_data"
    }
   ],
   "source": [
    "ggplot(df_1, aes(x=turno, fill=presenca)) +\n",
    "       geom_bar() +\n",
    "       #geom_text() +\n",
    "       labs(title=\"Presença por turno\")"
   ]
  },
  {
   "cell_type": "code",
   "execution_count": 58,
   "id": "suitable-robertson",
   "metadata": {},
   "outputs": [
    {
     "data": {
      "image/png": "[encoded data removed]",
      "text/plain": [
       "plot without title"
      ]
     },
     "metadata": {
      "image/png": {
       "height": 360,
       "width": 900
      }
     },
     "output_type": "display_data"
    }
   ],
   "source": [
    "ggplot(df_1, aes(x=esforco, fill=presenca)) +\n",
    "       geom_bar() +\n",
    "       #geom_text() +\n",
    "       labs(title=\"Presença esforço\")"
   ]
  },
  {
   "cell_type": "code",
   "execution_count": 70,
   "id": "moved-chess",
   "metadata": {},
   "outputs": [
    {
     "data": {
      "text/plain": [
       "\n",
       "                                    Nenhuma, apenas assistindo as aulas \n",
       "                               1087                                 770 \n",
       "                      De uma a três                    De quatro a sete \n",
       "                               3311                                2600 \n",
       "                      De oito adoze                        Mais de doze \n",
       "                                989                                 825 "
      ]
     },
     "metadata": {},
     "output_type": "display_data"
    }
   ],
   "source": [
    "table(df_1$esforco)"
   ]
  },
  {
   "cell_type": "code",
   "execution_count": 57,
   "id": "according-found",
   "metadata": {},
   "outputs": [
    {
     "data": {
      "image/png": "[encoded data removed]",
      "text/plain": [
       "plot without title"
      ]
     },
     "metadata": {
      "image/png": {
       "height": 360,
       "width": 900
      }
     },
     "output_type": "display_data"
    }
   ],
   "source": [
    "options(repr.plot.width = 15, repr.plot.height = 6)\n",
    "ggplot(df_1, aes(x=trabalho, fill=presenca)) +\n",
    "       geom_bar() +\n",
    "       #geom_text() +\n",
    "       labs(title=\"Presença por trabalho\")"
   ]
  },
  {
   "cell_type": "code",
   "execution_count": 69,
   "id": "cardiovascular-history",
   "metadata": {},
   "outputs": [
    {
     "data": {
      "text/plain": [
       "\n",
       "                                                       Não trabalha \n",
       "                             1087                              3370 \n",
       "           Trabalha eventualmente     Trabalha até 20 hrs. semanais \n",
       "                              377                               371 \n",
       "Trabalha de 21 a 39 hrs. semanais Trabalha 40 hrs. semanais ou mais \n",
       "                             1235                              3142 "
      ]
     },
     "metadata": {},
     "output_type": "display_data"
    }
   ],
   "source": [
    "table(df_1$trabalho)"
   ]
  },
  {
   "cell_type": "code",
   "execution_count": 50,
   "id": "sapphire-anatomy",
   "metadata": {},
   "outputs": [
    {
     "data": {
      "image/png": "[encoded data removed]",
      "text/plain": [
       "plot without title"
      ]
     },
     "metadata": {
      "image/png": {
       "height": 360,
       "width": 900
      }
     },
     "output_type": "display_data"
    }
   ],
   "source": [
    "options(repr.plot.width = 15, repr.plot.height = 6)\n",
    "ggplot(df_1, aes(x=renda, fill=presenca)) +\n",
    "       geom_bar() +\n",
    "       #geom_text() +\n",
    "       labs(title=\"Presença por renda\")"
   ]
  },
  {
   "cell_type": "code",
   "execution_count": 67,
   "id": "qualified-basis",
   "metadata": {},
   "outputs": [
    {
     "data": {
      "text/plain": [
       "\n",
       "                                   Até 1.5 salário mínimo \n",
       "                        1087                         1286 \n",
       " De 1.5 a 3 salários mínimos  De 3 a 4.5 salários mínimos \n",
       "                        1562                         1508 \n",
       " De 4.5 a 6 salários mínimos   De 6 a 10 salários mínimos \n",
       "                         993                         1338 \n",
       "    10 a 30 salários mínimos Acima de 30 salários mínimos \n",
       "                        1309                          499 "
      ]
     },
     "metadata": {},
     "output_type": "display_data"
    }
   ],
   "source": [
    "table(df_1$renda)"
   ]
  },
  {
   "cell_type": "code",
   "execution_count": 66,
   "id": "colonial-exhibition",
   "metadata": {},
   "outputs": [
    {
     "data": {
      "image/png": "[encoded data removed]",
      "text/plain": [
       "plot without title"
      ]
     },
     "metadata": {
      "image/png": {
       "height": 360,
       "width": 900
      }
     },
     "output_type": "display_data"
    }
   ],
   "source": [
    "options(repr.plot.width = 15, repr.plot.height = 6)\n",
    "ggplot(df_1, aes(x=idade, fill=presenca), width=0.8) +\n",
    "       geom_bar() +\n",
    "       #geom_text() +\n",
    "       labs(title=\"Presença por idade\")"
   ]
  },
  {
   "cell_type": "code",
   "execution_count": 64,
   "id": "derived-fraud",
   "metadata": {},
   "outputs": [
    {
     "data": {
      "image/png": "[encoded data removed]",
      "text/plain": [
       "plot without title"
      ]
     },
     "metadata": {
      "image/png": {
       "height": 360,
       "width": 900
      }
     },
     "output_type": "display_data"
    }
   ],
   "source": [
    "ggplot(df_1, aes(x=genero, fill=presenca)) +\n",
    "       geom_bar() +\n",
    "       #geom_text() +\n",
    "       labs(title=\"Presença por gênero\")"
   ]
  },
  {
   "cell_type": "code",
   "execution_count": 77,
   "id": "acknowledged-bedroom",
   "metadata": {},
   "outputs": [],
   "source": [
    "df_1$presenca = as.factor(df_1$presenca)\n",
    "df_1$turno = as.factor(df_1$turno)"
   ]
  },
  {
   "cell_type": "code",
   "execution_count": 71,
   "id": "boolean-commodity",
   "metadata": {},
   "outputs": [
    {
     "data": {
      "text/html": [
       "<style>\n",
       ".dl-inline {width: auto; margin:0; padding: 0}\n",
       ".dl-inline>dt, .dl-inline>dd {float: none; width: auto; display: inline-block}\n",
       ".dl-inline>dt::after {content: \":\\0020\"; padding-right: .5ex}\n",
       ".dl-inline>dt:not(:first-of-type) {padding-left: .5ex}\n",
       "</style><dl class=dl-inline><dt>presenca</dt><dd>0</dd><dt>genero</dt><dd>0</dd><dt>idade</dt><dd>0</dd><dt>renda</dt><dd>0</dd><dt>trabalho</dt><dd>0</dd><dt>esforco</dt><dd>0</dd><dt>turno</dt><dd>0</dd></dl>\n"
      ],
      "text/latex": [
       "\\begin{description*}\n",
       "\\item[presenca] 0\n",
       "\\item[genero] 0\n",
       "\\item[idade] 0\n",
       "\\item[renda] 0\n",
       "\\item[trabalho] 0\n",
       "\\item[esforco] 0\n",
       "\\item[turno] 0\n",
       "\\end{description*}\n"
      ],
      "text/markdown": [
       "presenca\n",
       ":   0genero\n",
       ":   0idade\n",
       ":   0renda\n",
       ":   0trabalho\n",
       ":   0esforco\n",
       ":   0turno\n",
       ":   0\n",
       "\n"
      ],
      "text/plain": [
       "presenca   genero    idade    renda trabalho  esforco    turno \n",
       "       0        0        0        0        0        0        0 "
      ]
     },
     "metadata": {},
     "output_type": "display_data"
    }
   ],
   "source": [
    "sapply(df_1, function(x) sum(is.na(x)))"
   ]
  },
  {
   "cell_type": "code",
   "execution_count": 74,
   "id": "tested-fellowship",
   "metadata": {},
   "outputs": [
    {
     "data": {
      "text/plain": [
       "\n",
       " ausente presente \n",
       "    1497     8085 "
      ]
     },
     "metadata": {},
     "output_type": "display_data"
    }
   ],
   "source": [
    "table(df_1$presenca)"
   ]
  },
  {
   "cell_type": "code",
   "execution_count": 72,
   "id": "incident-minority",
   "metadata": {},
   "outputs": [
    {
     "data": {
      "text/html": [
       "<table class=\"dataframe\">\n",
       "<caption>A data.frame: 6 × 7</caption>\n",
       "<thead>\n",
       "\t<tr><th></th><th scope=col>presenca</th><th scope=col>genero</th><th scope=col>idade</th><th scope=col>renda</th><th scope=col>trabalho</th><th scope=col>esforco</th><th scope=col>turno</th></tr>\n",
       "\t<tr><th></th><th scope=col>&lt;chr&gt;</th><th scope=col>&lt;fct&gt;</th><th scope=col>&lt;int&gt;</th><th scope=col>&lt;fct&gt;</th><th scope=col>&lt;fct&gt;</th><th scope=col>&lt;fct&gt;</th><th scope=col>&lt;chr&gt;</th></tr>\n",
       "</thead>\n",
       "<tbody>\n",
       "\t<tr><th scope=row>161</th><td>presente</td><td>F</td><td>28</td><td>De 3 a 4.5 salários mínimos</td><td>Trabalha 40 hrs. semanais ou mais</td><td>De quatro a sete</td><td>noturno</td></tr>\n",
       "\t<tr><th scope=row>162</th><td>presente</td><td>M</td><td>30</td><td>De 4.5 a 6 salários mínimos</td><td>Trabalha 40 hrs. semanais ou mais</td><td>De uma a três   </td><td>noturno</td></tr>\n",
       "\t<tr><th scope=row>163</th><td>presente</td><td>M</td><td>29</td><td>De 3 a 4.5 salários mínimos</td><td>Trabalha 40 hrs. semanais ou mais</td><td>De quatro a sete</td><td>noturno</td></tr>\n",
       "\t<tr><th scope=row>164</th><td>presente</td><td>F</td><td>22</td><td>De 1.5 a 3 salários mínimos</td><td>Trabalha 40 hrs. semanais ou mais</td><td>De uma a três   </td><td>noturno</td></tr>\n",
       "\t<tr><th scope=row>165</th><td>presente</td><td>M</td><td>47</td><td>De 1.5 a 3 salários mínimos</td><td>Trabalha 40 hrs. semanais ou mais</td><td>De quatro a sete</td><td>noturno</td></tr>\n",
       "\t<tr><th scope=row>166</th><td>presente</td><td>M</td><td>27</td><td>De 3 a 4.5 salários mínimos</td><td>Trabalha 40 hrs. semanais ou mais</td><td>De quatro a sete</td><td>noturno</td></tr>\n",
       "</tbody>\n",
       "</table>\n"
      ],
      "text/latex": [
       "A data.frame: 6 × 7\n",
       "\\begin{tabular}{r|lllllll}\n",
       "  & presenca & genero & idade & renda & trabalho & esforco & turno\\\\\n",
       "  & <chr> & <fct> & <int> & <fct> & <fct> & <fct> & <chr>\\\\\n",
       "\\hline\n",
       "\t161 & presente & F & 28 & De 3 a 4.5 salários mínimos & Trabalha 40 hrs. semanais ou mais & De quatro a sete & noturno\\\\\n",
       "\t162 & presente & M & 30 & De 4.5 a 6 salários mínimos & Trabalha 40 hrs. semanais ou mais & De uma a três    & noturno\\\\\n",
       "\t163 & presente & M & 29 & De 3 a 4.5 salários mínimos & Trabalha 40 hrs. semanais ou mais & De quatro a sete & noturno\\\\\n",
       "\t164 & presente & F & 22 & De 1.5 a 3 salários mínimos & Trabalha 40 hrs. semanais ou mais & De uma a três    & noturno\\\\\n",
       "\t165 & presente & M & 47 & De 1.5 a 3 salários mínimos & Trabalha 40 hrs. semanais ou mais & De quatro a sete & noturno\\\\\n",
       "\t166 & presente & M & 27 & De 3 a 4.5 salários mínimos & Trabalha 40 hrs. semanais ou mais & De quatro a sete & noturno\\\\\n",
       "\\end{tabular}\n"
      ],
      "text/markdown": [
       "\n",
       "A data.frame: 6 × 7\n",
       "\n",
       "| <!--/--> | presenca &lt;chr&gt; | genero &lt;fct&gt; | idade &lt;int&gt; | renda &lt;fct&gt; | trabalho &lt;fct&gt; | esforco &lt;fct&gt; | turno &lt;chr&gt; |\n",
       "|---|---|---|---|---|---|---|---|\n",
       "| 161 | presente | F | 28 | De 3 a 4.5 salários mínimos | Trabalha 40 hrs. semanais ou mais | De quatro a sete | noturno |\n",
       "| 162 | presente | M | 30 | De 4.5 a 6 salários mínimos | Trabalha 40 hrs. semanais ou mais | De uma a três    | noturno |\n",
       "| 163 | presente | M | 29 | De 3 a 4.5 salários mínimos | Trabalha 40 hrs. semanais ou mais | De quatro a sete | noturno |\n",
       "| 164 | presente | F | 22 | De 1.5 a 3 salários mínimos | Trabalha 40 hrs. semanais ou mais | De uma a três    | noturno |\n",
       "| 165 | presente | M | 47 | De 1.5 a 3 salários mínimos | Trabalha 40 hrs. semanais ou mais | De quatro a sete | noturno |\n",
       "| 166 | presente | M | 27 | De 3 a 4.5 salários mínimos | Trabalha 40 hrs. semanais ou mais | De quatro a sete | noturno |\n",
       "\n"
      ],
      "text/plain": [
       "    presenca genero idade renda                      \n",
       "161 presente F      28    De 3 a 4.5 salários mínimos\n",
       "162 presente M      30    De 4.5 a 6 salários mínimos\n",
       "163 presente M      29    De 3 a 4.5 salários mínimos\n",
       "164 presente F      22    De 1.5 a 3 salários mínimos\n",
       "165 presente M      47    De 1.5 a 3 salários mínimos\n",
       "166 presente M      27    De 3 a 4.5 salários mínimos\n",
       "    trabalho                          esforco          turno  \n",
       "161 Trabalha 40 hrs. semanais ou mais De quatro a sete noturno\n",
       "162 Trabalha 40 hrs. semanais ou mais De uma a três    noturno\n",
       "163 Trabalha 40 hrs. semanais ou mais De quatro a sete noturno\n",
       "164 Trabalha 40 hrs. semanais ou mais De uma a três    noturno\n",
       "165 Trabalha 40 hrs. semanais ou mais De quatro a sete noturno\n",
       "166 Trabalha 40 hrs. semanais ou mais De quatro a sete noturno"
      ]
     },
     "metadata": {},
     "output_type": "display_data"
    }
   ],
   "source": [
    "head(df_1)"
   ]
  },
  {
   "cell_type": "markdown",
   "id": "novel-punishment",
   "metadata": {},
   "source": [
    "# Modelo 1"
   ]
  },
  {
   "cell_type": "code",
   "execution_count": 81,
   "id": "annual-number",
   "metadata": {},
   "outputs": [],
   "source": [
    "model_1 = glm(presenca~., data=df_1, family=binomial(link='logit'))"
   ]
  },
  {
   "cell_type": "code",
   "execution_count": 82,
   "id": "virgin-imagination",
   "metadata": {},
   "outputs": [
    {
     "data": {
      "text/plain": [
       "\n",
       "Call:\n",
       "glm(formula = presenca ~ ., family = binomial(link = \"logit\"), \n",
       "    data = df_1)\n",
       "\n",
       "Deviance Residuals: \n",
       "    Min       1Q   Median       3Q      Max  \n",
       "-2.6740   0.2687   0.3049   0.3496   2.6899  \n",
       "\n",
       "Coefficients: (2 not defined because of singularities)\n",
       "                                            Estimate Std. Error z value\n",
       "(Intercept)                                -1.888516   0.270095  -6.992\n",
       "generoM                                    -0.094092   0.096325  -0.977\n",
       "idade                                      -0.030721   0.007445  -4.126\n",
       "rendaAté 1.5 salário mínimo                 5.578815   0.262786  21.229\n",
       "rendaDe 1.5 a 3 salários mínimos            5.665661   0.245474  23.081\n",
       "rendaDe 3 a 4.5 salários mínimos            5.779918   0.247974  23.309\n",
       "rendaDe 4.5 a 6 salários mínimos            5.616515   0.258295  21.745\n",
       "rendaDe 6 a 10 salários mínimos             5.683208   0.247185  22.992\n",
       "renda10 a 30 salários mínimos               5.525103   0.245189  22.534\n",
       "rendaAcima de 30 salários mínimos           5.394370   0.281860  19.138\n",
       "trabalhoNão trabalha                        0.188793   0.122794   1.537\n",
       "trabalhoTrabalha eventualmente             -0.453859   0.200609  -2.262\n",
       "trabalhoTrabalha até 20 hrs. semanais      -0.311047   0.213359  -1.458\n",
       "trabalhoTrabalha de 21 a 39 hrs. semanais   0.392570   0.165348   2.374\n",
       "trabalhoTrabalha 40 hrs. semanais ou mais         NA         NA      NA\n",
       "esforcoNenhuma, apenas assistindo as aulas -0.642595   0.208213  -3.086\n",
       "esforcoDe uma a três                       -0.055262   0.178793  -0.309\n",
       "esforcoDe quatro a sete                     0.089903   0.185151   0.486\n",
       "esforcoDe oito adoze                        0.119381   0.220986   0.540\n",
       "esforcoMais de doze                               NA         NA      NA\n",
       "turnomatutino                              -0.057278   0.155463  -0.368\n",
       "turnonoturno                               -0.043164   0.119050  -0.363\n",
       "turnovespetino                              0.025932   0.397009   0.065\n",
       "                                           Pr(>|z|)    \n",
       "(Intercept)                                2.71e-12 ***\n",
       "generoM                                     0.32866    \n",
       "idade                                      3.69e-05 ***\n",
       "rendaAté 1.5 salário mínimo                 < 2e-16 ***\n",
       "rendaDe 1.5 a 3 salários mínimos            < 2e-16 ***\n",
       "rendaDe 3 a 4.5 salários mínimos            < 2e-16 ***\n",
       "rendaDe 4.5 a 6 salários mínimos            < 2e-16 ***\n",
       "rendaDe 6 a 10 salários mínimos             < 2e-16 ***\n",
       "renda10 a 30 salários mínimos               < 2e-16 ***\n",
       "rendaAcima de 30 salários mínimos           < 2e-16 ***\n",
       "trabalhoNão trabalha                        0.12418    \n",
       "trabalhoTrabalha eventualmente              0.02367 *  \n",
       "trabalhoTrabalha até 20 hrs. semanais       0.14488    \n",
       "trabalhoTrabalha de 21 a 39 hrs. semanais   0.01759 *  \n",
       "trabalhoTrabalha 40 hrs. semanais ou mais        NA    \n",
       "esforcoNenhuma, apenas assistindo as aulas  0.00203 ** \n",
       "esforcoDe uma a três                        0.75726    \n",
       "esforcoDe quatro a sete                     0.62727    \n",
       "esforcoDe oito adoze                        0.58904    \n",
       "esforcoMais de doze                              NA    \n",
       "turnomatutino                               0.71255    \n",
       "turnonoturno                                0.71692    \n",
       "turnovespetino                              0.94792    \n",
       "---\n",
       "Signif. codes:  0 '***' 0.001 '**' 0.01 '*' 0.05 '.' 0.1 ' ' 1\n",
       "\n",
       "(Dispersion parameter for binomial family taken to be 1)\n",
       "\n",
       "    Null deviance: 8305.0  on 9581  degrees of freedom\n",
       "Residual deviance: 3996.1  on 9561  degrees of freedom\n",
       "AIC: 4038.1\n",
       "\n",
       "Number of Fisher Scoring iterations: 6\n"
      ]
     },
     "metadata": {},
     "output_type": "display_data"
    }
   ],
   "source": [
    "summary(model_1)"
   ]
  },
  {
   "cell_type": "code",
   "execution_count": 83,
   "id": "dutch-horizontal",
   "metadata": {},
   "outputs": [
    {
     "data": {
      "text/html": [
       "<style>\n",
       ".dl-inline {width: auto; margin:0; padding: 0}\n",
       ".dl-inline>dt, .dl-inline>dd {float: none; width: auto; display: inline-block}\n",
       ".dl-inline>dt::after {content: \":\\0020\"; padding-right: .5ex}\n",
       ".dl-inline>dt:not(:first-of-type) {padding-left: .5ex}\n",
       "</style><dl class=dl-inline><dt>(Intercept)</dt><dd>0.151296172729081</dd><dt>generoM</dt><dd>0.910198916663942</dd><dt>idade</dt><dd>0.969745779163755</dd><dt>rendaAté 1.5 salário mínimo</dt><dd>264.757788286113</dd><dt>rendaDe 1.5 a 3 salários mínimos</dt><dd>288.778867587834</dd><dt>rendaDe 3 a 4.5 salários mínimos</dt><dd>323.732614906205</dd><dt>rendaDe 4.5 a 6 salários mínimos</dt><dd>274.92961010284</dd><dt>rendaDe 6 a 10 salários mínimos</dt><dd>293.890714323129</dd><dt>renda10 a 30 salários mínimos</dt><dd>250.912068839741</dd><dt>rendaAcima de 30 salários mínimos</dt><dd>220.163344520072</dd><dt>trabalhoNão trabalha</dt><dd>1.20779088492057</dd><dt>trabalhoTrabalha eventualmente</dt><dd>0.635172091210866</dd><dt>trabalhoTrabalha até 20 hrs. semanais</dt><dd>0.732679183268903</dd><dt>trabalhoTrabalha de 21 a 39 hrs. semanais</dt><dd>1.48078159619816</dd><dt>trabalhoTrabalha 40 hrs. semanais ou mais</dt><dd>&lt;NA&gt;</dd><dt>esforcoNenhuma, apenas assistindo as aulas</dt><dd>0.525925653772035</dd><dt>esforcoDe uma a três</dt><dd>0.946236843144354</dd><dt>esforcoDe quatro a sete</dt><dd>1.09406841268903</dd><dt>esforcoDe oito adoze</dt><dd>1.12679931966685</dd><dt>esforcoMais de doze</dt><dd>&lt;NA&gt;</dd><dt>turnomatutino</dt><dd>0.944331098528743</dd><dt>turnonoturno</dt><dd>0.957753997287235</dd><dt>turnovespetino</dt><dd>1.0262712931602</dd></dl>\n"
      ],
      "text/latex": [
       "\\begin{description*}\n",
       "\\item[(Intercept)] 0.151296172729081\n",
       "\\item[generoM] 0.910198916663942\n",
       "\\item[idade] 0.969745779163755\n",
       "\\item[rendaAté 1.5 salário mínimo] 264.757788286113\n",
       "\\item[rendaDe 1.5 a 3 salários mínimos] 288.778867587834\n",
       "\\item[rendaDe 3 a 4.5 salários mínimos] 323.732614906205\n",
       "\\item[rendaDe 4.5 a 6 salários mínimos] 274.92961010284\n",
       "\\item[rendaDe 6 a 10 salários mínimos] 293.890714323129\n",
       "\\item[renda10 a 30 salários mínimos] 250.912068839741\n",
       "\\item[rendaAcima de 30 salários mínimos] 220.163344520072\n",
       "\\item[trabalhoNão trabalha] 1.20779088492057\n",
       "\\item[trabalhoTrabalha eventualmente] 0.635172091210866\n",
       "\\item[trabalhoTrabalha até 20 hrs. semanais] 0.732679183268903\n",
       "\\item[trabalhoTrabalha de 21 a 39 hrs. semanais] 1.48078159619816\n",
       "\\item[trabalhoTrabalha 40 hrs. semanais ou mais] <NA>\n",
       "\\item[esforcoNenhuma, apenas assistindo as aulas] 0.525925653772035\n",
       "\\item[esforcoDe uma a três] 0.946236843144354\n",
       "\\item[esforcoDe quatro a sete] 1.09406841268903\n",
       "\\item[esforcoDe oito adoze] 1.12679931966685\n",
       "\\item[esforcoMais de doze] <NA>\n",
       "\\item[turnomatutino] 0.944331098528743\n",
       "\\item[turnonoturno] 0.957753997287235\n",
       "\\item[turnovespetino] 1.0262712931602\n",
       "\\end{description*}\n"
      ],
      "text/markdown": [
       "(Intercept)\n",
       ":   0.151296172729081generoM\n",
       ":   0.910198916663942idade\n",
       ":   0.969745779163755rendaAté 1.5 salário mínimo\n",
       ":   264.757788286113rendaDe 1.5 a 3 salários mínimos\n",
       ":   288.778867587834rendaDe 3 a 4.5 salários mínimos\n",
       ":   323.732614906205rendaDe 4.5 a 6 salários mínimos\n",
       ":   274.92961010284rendaDe 6 a 10 salários mínimos\n",
       ":   293.890714323129renda10 a 30 salários mínimos\n",
       ":   250.912068839741rendaAcima de 30 salários mínimos\n",
       ":   220.163344520072trabalhoNão trabalha\n",
       ":   1.20779088492057trabalhoTrabalha eventualmente\n",
       ":   0.635172091210866trabalhoTrabalha até 20 hrs. semanais\n",
       ":   0.732679183268903trabalhoTrabalha de 21 a 39 hrs. semanais\n",
       ":   1.48078159619816trabalhoTrabalha 40 hrs. semanais ou mais\n",
       ":   &lt;NA&gt;esforcoNenhuma, apenas assistindo as aulas\n",
       ":   0.525925653772035esforcoDe uma a três\n",
       ":   0.946236843144354esforcoDe quatro a sete\n",
       ":   1.09406841268903esforcoDe oito adoze\n",
       ":   1.12679931966685esforcoMais de doze\n",
       ":   &lt;NA&gt;turnomatutino\n",
       ":   0.944331098528743turnonoturno\n",
       ":   0.957753997287235turnovespetino\n",
       ":   1.0262712931602\n",
       "\n"
      ],
      "text/plain": [
       "                               (Intercept) \n",
       "                                 0.1512962 \n",
       "                                   generoM \n",
       "                                 0.9101989 \n",
       "                                     idade \n",
       "                                 0.9697458 \n",
       "               rendaAté 1.5 salário mínimo \n",
       "                               264.7577883 \n",
       "          rendaDe 1.5 a 3 salários mínimos \n",
       "                               288.7788676 \n",
       "          rendaDe 3 a 4.5 salários mínimos \n",
       "                               323.7326149 \n",
       "          rendaDe 4.5 a 6 salários mínimos \n",
       "                               274.9296101 \n",
       "           rendaDe 6 a 10 salários mínimos \n",
       "                               293.8907143 \n",
       "             renda10 a 30 salários mínimos \n",
       "                               250.9120688 \n",
       "         rendaAcima de 30 salários mínimos \n",
       "                               220.1633445 \n",
       "                      trabalhoNão trabalha \n",
       "                                 1.2077909 \n",
       "            trabalhoTrabalha eventualmente \n",
       "                                 0.6351721 \n",
       "     trabalhoTrabalha até 20 hrs. semanais \n",
       "                                 0.7326792 \n",
       " trabalhoTrabalha de 21 a 39 hrs. semanais \n",
       "                                 1.4807816 \n",
       " trabalhoTrabalha 40 hrs. semanais ou mais \n",
       "                                        NA \n",
       "esforcoNenhuma, apenas assistindo as aulas \n",
       "                                 0.5259257 \n",
       "                      esforcoDe uma a três \n",
       "                                 0.9462368 \n",
       "                   esforcoDe quatro a sete \n",
       "                                 1.0940684 \n",
       "                      esforcoDe oito adoze \n",
       "                                 1.1267993 \n",
       "                       esforcoMais de doze \n",
       "                                        NA \n",
       "                             turnomatutino \n",
       "                                 0.9443311 \n",
       "                              turnonoturno \n",
       "                                 0.9577540 \n",
       "                            turnovespetino \n",
       "                                 1.0262713 "
      ]
     },
     "metadata": {},
     "output_type": "display_data"
    }
   ],
   "source": [
    "exp(model_1$coefficients)"
   ]
  },
  {
   "cell_type": "code",
   "execution_count": 84,
   "id": "national-accordance",
   "metadata": {},
   "outputs": [],
   "source": [
    "model_2 = glm(presenca~., data=df_1, family=binomial(link='probit'))\n"
   ]
  },
  {
   "cell_type": "markdown",
   "id": "mounted-reputation",
   "metadata": {},
   "source": [
    "# Modelo 2"
   ]
  },
  {
   "cell_type": "code",
   "execution_count": 85,
   "id": "listed-medium",
   "metadata": {},
   "outputs": [
    {
     "data": {
      "text/plain": [
       "\n",
       "Call:\n",
       "glm(formula = presenca ~ ., family = binomial(link = \"probit\"), \n",
       "    data = df_1)\n",
       "\n",
       "Deviance Residuals: \n",
       "    Min       1Q   Median       3Q      Max  \n",
       "-2.6907   0.2666   0.3048   0.3501   2.7268  \n",
       "\n",
       "Coefficients: (2 not defined because of singularities)\n",
       "                                            Estimate Std. Error z value\n",
       "(Intercept)                                -1.118945   0.130988  -8.542\n",
       "generoM                                    -0.046059   0.044964  -1.024\n",
       "idade                                      -0.015392   0.003670  -4.194\n",
       "rendaAté 1.5 salário mínimo                 3.148004   0.123015  25.590\n",
       "rendaDe 1.5 a 3 salários mínimos            3.189157   0.114566  27.837\n",
       "rendaDe 3 a 4.5 salários mínimos            3.240074   0.115296  28.102\n",
       "rendaDe 4.5 a 6 salários mínimos            3.162214   0.120610  26.219\n",
       "rendaDe 6 a 10 salários mínimos             3.187846   0.115139  27.687\n",
       "renda10 a 30 salários mínimos               3.112419   0.114830  27.105\n",
       "rendaAcima de 30 salários mínimos           3.054056   0.133056  22.953\n",
       "trabalhoNão trabalha                        0.084633   0.057192   1.480\n",
       "trabalhoTrabalha eventualmente             -0.220969   0.100070  -2.208\n",
       "trabalhoTrabalha até 20 hrs. semanais      -0.152738   0.104384  -1.463\n",
       "trabalhoTrabalha de 21 a 39 hrs. semanais   0.178518   0.075011   2.380\n",
       "trabalhoTrabalha 40 hrs. semanais ou mais         NA         NA      NA\n",
       "esforcoNenhuma, apenas assistindo as aulas -0.314277   0.100291  -3.134\n",
       "esforcoDe uma a três                       -0.025252   0.083222  -0.303\n",
       "esforcoDe quatro a sete                     0.035913   0.085605   0.420\n",
       "esforcoDe oito adoze                        0.060110   0.101966   0.590\n",
       "esforcoMais de doze                               NA         NA      NA\n",
       "turnomatutino                              -0.027224   0.072670  -0.375\n",
       "turnonoturno                               -0.022182   0.055730  -0.398\n",
       "turnovespetino                              0.003996   0.182835   0.022\n",
       "                                           Pr(>|z|)    \n",
       "(Intercept)                                 < 2e-16 ***\n",
       "generoM                                     0.30566    \n",
       "idade                                      2.74e-05 ***\n",
       "rendaAté 1.5 salário mínimo                 < 2e-16 ***\n",
       "rendaDe 1.5 a 3 salários mínimos            < 2e-16 ***\n",
       "rendaDe 3 a 4.5 salários mínimos            < 2e-16 ***\n",
       "rendaDe 4.5 a 6 salários mínimos            < 2e-16 ***\n",
       "rendaDe 6 a 10 salários mínimos             < 2e-16 ***\n",
       "renda10 a 30 salários mínimos               < 2e-16 ***\n",
       "rendaAcima de 30 salários mínimos           < 2e-16 ***\n",
       "trabalhoNão trabalha                        0.13893    \n",
       "trabalhoTrabalha eventualmente              0.02723 *  \n",
       "trabalhoTrabalha até 20 hrs. semanais       0.14341    \n",
       "trabalhoTrabalha de 21 a 39 hrs. semanais   0.01732 *  \n",
       "trabalhoTrabalha 40 hrs. semanais ou mais        NA    \n",
       "esforcoNenhuma, apenas assistindo as aulas  0.00173 ** \n",
       "esforcoDe uma a três                        0.76156    \n",
       "esforcoDe quatro a sete                     0.67484    \n",
       "esforcoDe oito adoze                        0.55552    \n",
       "esforcoMais de doze                              NA    \n",
       "turnomatutino                               0.70793    \n",
       "turnonoturno                                0.69061    \n",
       "turnovespetino                              0.98256    \n",
       "---\n",
       "Signif. codes:  0 '***' 0.001 '**' 0.01 '*' 0.05 '.' 0.1 ' ' 1\n",
       "\n",
       "(Dispersion parameter for binomial family taken to be 1)\n",
       "\n",
       "    Null deviance: 8305.0  on 9581  degrees of freedom\n",
       "Residual deviance: 3995.1  on 9561  degrees of freedom\n",
       "AIC: 4037.1\n",
       "\n",
       "Number of Fisher Scoring iterations: 6\n"
      ]
     },
     "metadata": {},
     "output_type": "display_data"
    }
   ],
   "source": [
    "summary(model_2)"
   ]
  },
  {
   "cell_type": "code",
   "execution_count": 86,
   "id": "practical-bibliography",
   "metadata": {},
   "outputs": [
    {
     "data": {
      "text/html": [
       "<style>\n",
       ".dl-inline {width: auto; margin:0; padding: 0}\n",
       ".dl-inline>dt, .dl-inline>dd {float: none; width: auto; display: inline-block}\n",
       ".dl-inline>dt::after {content: \":\\0020\"; padding-right: .5ex}\n",
       ".dl-inline>dt:not(:first-of-type) {padding-left: .5ex}\n",
       "</style><dl class=dl-inline><dt>(Intercept)</dt><dd>0.326624060259664</dd><dt>generoM</dt><dd>0.954985207508915</dd><dt>idade</dt><dd>0.984726246114381</dd><dt>rendaAté 1.5 salário mínimo</dt><dd>23.2895279480214</dd><dt>rendaDe 1.5 a 3 salários mínimos</dt><dd>24.2679694490791</dd><dt>rendaDe 3 a 4.5 salários mínimos</dt><dd>25.5356046977603</dd><dt>rendaDe 4.5 a 6 salários mínimos</dt><dd>23.6228411095097</dd><dt>rendaDe 6 a 10 salários mínimos</dt><dd>24.2361691045378</dd><dt>renda10 a 30 salários mínimos</dt><dd>22.4753439993704</dd><dt>rendaAcima de 30 salários mínimos</dt><dd>21.2011644187221</dd><dt>trabalhoNão trabalha</dt><dd>1.08831798963436</dd><dt>trabalhoTrabalha eventualmente</dt><dd>0.80174139312693</dd><dt>trabalhoTrabalha até 20 hrs. semanais</dt><dd>0.858354926088459</dd><dt>trabalhoTrabalha de 21 a 39 hrs. semanais</dt><dd>1.19544430466792</dd><dt>trabalhoTrabalha 40 hrs. semanais ou mais</dt><dd>&lt;NA&gt;</dd><dt>esforcoNenhuma, apenas assistindo as aulas</dt><dd>0.730316367562015</dd><dt>esforcoDe uma a três</dt><dd>0.975064071975298</dd><dt>esforcoDe quatro a sete</dt><dd>1.03656517827368</dd><dt>esforcoDe oito adoze</dt><dd>1.06195370739013</dd><dt>esforcoMais de doze</dt><dd>&lt;NA&gt;</dd><dt>turnomatutino</dt><dd>0.973142763083682</dd><dt>turnonoturno</dt><dd>0.978062340041967</dd><dt>turnovespetino</dt><dd>1.00400407484127</dd></dl>\n"
      ],
      "text/latex": [
       "\\begin{description*}\n",
       "\\item[(Intercept)] 0.326624060259664\n",
       "\\item[generoM] 0.954985207508915\n",
       "\\item[idade] 0.984726246114381\n",
       "\\item[rendaAté 1.5 salário mínimo] 23.2895279480214\n",
       "\\item[rendaDe 1.5 a 3 salários mínimos] 24.2679694490791\n",
       "\\item[rendaDe 3 a 4.5 salários mínimos] 25.5356046977603\n",
       "\\item[rendaDe 4.5 a 6 salários mínimos] 23.6228411095097\n",
       "\\item[rendaDe 6 a 10 salários mínimos] 24.2361691045378\n",
       "\\item[renda10 a 30 salários mínimos] 22.4753439993704\n",
       "\\item[rendaAcima de 30 salários mínimos] 21.2011644187221\n",
       "\\item[trabalhoNão trabalha] 1.08831798963436\n",
       "\\item[trabalhoTrabalha eventualmente] 0.80174139312693\n",
       "\\item[trabalhoTrabalha até 20 hrs. semanais] 0.858354926088459\n",
       "\\item[trabalhoTrabalha de 21 a 39 hrs. semanais] 1.19544430466792\n",
       "\\item[trabalhoTrabalha 40 hrs. semanais ou mais] <NA>\n",
       "\\item[esforcoNenhuma, apenas assistindo as aulas] 0.730316367562015\n",
       "\\item[esforcoDe uma a três] 0.975064071975298\n",
       "\\item[esforcoDe quatro a sete] 1.03656517827368\n",
       "\\item[esforcoDe oito adoze] 1.06195370739013\n",
       "\\item[esforcoMais de doze] <NA>\n",
       "\\item[turnomatutino] 0.973142763083682\n",
       "\\item[turnonoturno] 0.978062340041967\n",
       "\\item[turnovespetino] 1.00400407484127\n",
       "\\end{description*}\n"
      ],
      "text/markdown": [
       "(Intercept)\n",
       ":   0.326624060259664generoM\n",
       ":   0.954985207508915idade\n",
       ":   0.984726246114381rendaAté 1.5 salário mínimo\n",
       ":   23.2895279480214rendaDe 1.5 a 3 salários mínimos\n",
       ":   24.2679694490791rendaDe 3 a 4.5 salários mínimos\n",
       ":   25.5356046977603rendaDe 4.5 a 6 salários mínimos\n",
       ":   23.6228411095097rendaDe 6 a 10 salários mínimos\n",
       ":   24.2361691045378renda10 a 30 salários mínimos\n",
       ":   22.4753439993704rendaAcima de 30 salários mínimos\n",
       ":   21.2011644187221trabalhoNão trabalha\n",
       ":   1.08831798963436trabalhoTrabalha eventualmente\n",
       ":   0.80174139312693trabalhoTrabalha até 20 hrs. semanais\n",
       ":   0.858354926088459trabalhoTrabalha de 21 a 39 hrs. semanais\n",
       ":   1.19544430466792trabalhoTrabalha 40 hrs. semanais ou mais\n",
       ":   &lt;NA&gt;esforcoNenhuma, apenas assistindo as aulas\n",
       ":   0.730316367562015esforcoDe uma a três\n",
       ":   0.975064071975298esforcoDe quatro a sete\n",
       ":   1.03656517827368esforcoDe oito adoze\n",
       ":   1.06195370739013esforcoMais de doze\n",
       ":   &lt;NA&gt;turnomatutino\n",
       ":   0.973142763083682turnonoturno\n",
       ":   0.978062340041967turnovespetino\n",
       ":   1.00400407484127\n",
       "\n"
      ],
      "text/plain": [
       "                               (Intercept) \n",
       "                                 0.3266241 \n",
       "                                   generoM \n",
       "                                 0.9549852 \n",
       "                                     idade \n",
       "                                 0.9847262 \n",
       "               rendaAté 1.5 salário mínimo \n",
       "                                23.2895279 \n",
       "          rendaDe 1.5 a 3 salários mínimos \n",
       "                                24.2679694 \n",
       "          rendaDe 3 a 4.5 salários mínimos \n",
       "                                25.5356047 \n",
       "          rendaDe 4.5 a 6 salários mínimos \n",
       "                                23.6228411 \n",
       "           rendaDe 6 a 10 salários mínimos \n",
       "                                24.2361691 \n",
       "             renda10 a 30 salários mínimos \n",
       "                                22.4753440 \n",
       "         rendaAcima de 30 salários mínimos \n",
       "                                21.2011644 \n",
       "                      trabalhoNão trabalha \n",
       "                                 1.0883180 \n",
       "            trabalhoTrabalha eventualmente \n",
       "                                 0.8017414 \n",
       "     trabalhoTrabalha até 20 hrs. semanais \n",
       "                                 0.8583549 \n",
       " trabalhoTrabalha de 21 a 39 hrs. semanais \n",
       "                                 1.1954443 \n",
       " trabalhoTrabalha 40 hrs. semanais ou mais \n",
       "                                        NA \n",
       "esforcoNenhuma, apenas assistindo as aulas \n",
       "                                 0.7303164 \n",
       "                      esforcoDe uma a três \n",
       "                                 0.9750641 \n",
       "                   esforcoDe quatro a sete \n",
       "                                 1.0365652 \n",
       "                      esforcoDe oito adoze \n",
       "                                 1.0619537 \n",
       "                       esforcoMais de doze \n",
       "                                        NA \n",
       "                             turnomatutino \n",
       "                                 0.9731428 \n",
       "                              turnonoturno \n",
       "                                 0.9780623 \n",
       "                            turnovespetino \n",
       "                                 1.0040041 "
      ]
     },
     "metadata": {},
     "output_type": "display_data"
    }
   ],
   "source": [
    "exp(model_2$coefficients)"
   ]
  },
  {
   "cell_type": "code",
   "execution_count": null,
   "id": "medieval-finnish",
   "metadata": {},
   "outputs": [],
   "source": []
  }
 ],
 "metadata": {
  "kernelspec": {
   "display_name": "R",
   "language": "R",
   "name": "ir"
  },
  "language_info": {
   "codemirror_mode": "r",
   "file_extension": ".r",
   "mimetype": "text/x-r-source",
   "name": "R",
   "pygments_lexer": "r",
   "version": "3.6.1"
  }
 },
 "nbformat": 4,
 "nbformat_minor": 5
}
