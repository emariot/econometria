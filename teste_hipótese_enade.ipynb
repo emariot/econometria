{
 "cells": [
  {
   "cell_type": "markdown",
   "id": "italic-translation",
   "metadata": {},
   "source": [
    "# Econometria\n",
    "---"
   ]
  },
  {
   "cell_type": "markdown",
   "id": "effective-light",
   "metadata": {},
   "source": [
    "## Dataset"
   ]
  },
  {
   "cell_type": "code",
   "execution_count": 86,
   "id": "plain-medicare",
   "metadata": {},
   "outputs": [],
   "source": [
    "library(dplyr)\n",
    "library(ggplot2)\n",
    "library(gplots)"
   ]
  },
  {
   "cell_type": "code",
   "execution_count": 212,
   "id": "brief-baptist",
   "metadata": {},
   "outputs": [
    {
     "data": {
      "text/html": [
       "<table>\n",
       "<thead><tr><th scope=col>NU_ANO</th><th scope=col>CO_IES</th><th scope=col>CO_CATEGAD</th><th scope=col>CO_ORGACAD</th><th scope=col>CO_GRUPO</th><th scope=col>CO_CURSO</th><th scope=col>CO_MODALIDADE</th><th scope=col>CO_MUNIC_CURSO</th><th scope=col>CO_UF_CURSO</th><th scope=col>CO_REGIAO_CURSO</th><th scope=col>...</th><th scope=col>QE_I59</th><th scope=col>QE_I60</th><th scope=col>QE_I61</th><th scope=col>QE_I62</th><th scope=col>QE_I63</th><th scope=col>QE_I64</th><th scope=col>QE_I65</th><th scope=col>QE_I66</th><th scope=col>QE_I67</th><th scope=col>QE_I68</th></tr></thead>\n",
       "<tbody>\n",
       "\t<tr><td>2018   </td><td>1356   </td><td>10003  </td><td>10020  </td><td>1      </td><td>47116  </td><td>1      </td><td>3546603</td><td>35     </td><td>3      </td><td>...    </td><td>6      </td><td>6      </td><td>6      </td><td>6      </td><td>6      </td><td>6      </td><td>6      </td><td>6      </td><td>6      </td><td>5      </td></tr>\n",
       "\t<tr><td>2018   </td><td>1356   </td><td>10003  </td><td>10020  </td><td>1      </td><td>47116  </td><td>1      </td><td>3546603</td><td>35     </td><td>3      </td><td>...    </td><td>6      </td><td>6      </td><td>6      </td><td>6      </td><td>6      </td><td>6      </td><td>6      </td><td>6      </td><td>6      </td><td>6      </td></tr>\n",
       "\t<tr><td>2018   </td><td>1356   </td><td>10003  </td><td>10020  </td><td>1      </td><td>47116  </td><td>1      </td><td>3546603</td><td>35     </td><td>3      </td><td>...    </td><td>6      </td><td>6      </td><td>6      </td><td>6      </td><td>6      </td><td>6      </td><td>6      </td><td>6      </td><td>6      </td><td>5      </td></tr>\n",
       "\t<tr><td>2018   </td><td>1356   </td><td>10003  </td><td>10020  </td><td>1      </td><td>47116  </td><td>1      </td><td>3546603</td><td>35     </td><td>3      </td><td>...    </td><td>6      </td><td>6      </td><td>6      </td><td>6      </td><td>5      </td><td>6      </td><td>6      </td><td>6      </td><td>6      </td><td>4      </td></tr>\n",
       "\t<tr><td>2018   </td><td>1356   </td><td>10003  </td><td>10020  </td><td>1      </td><td>47116  </td><td>1      </td><td>3546603</td><td>35     </td><td>3      </td><td>...    </td><td>6      </td><td>6      </td><td>6      </td><td>6      </td><td>6      </td><td>6      </td><td>6      </td><td>6      </td><td>6      </td><td>6      </td></tr>\n",
       "\t<tr><td>2018   </td><td>1356   </td><td>10003  </td><td>10020  </td><td>1      </td><td>47116  </td><td>1      </td><td>3546603</td><td>35     </td><td>3      </td><td>...    </td><td>6      </td><td>5      </td><td>6      </td><td>6      </td><td>6      </td><td>6      </td><td>6      </td><td>6      </td><td>6      </td><td>5      </td></tr>\n",
       "</tbody>\n",
       "</table>\n"
      ],
      "text/latex": [
       "\\begin{tabular}{r|lllllllllllllllllllllllllllllllllllllllllllllllllllllllllllllllllllllllllllllllllllllllllllllllllllllllllllllllllllllllllllllllllllllllll}\n",
       " NU\\_ANO & CO\\_IES & CO\\_CATEGAD & CO\\_ORGACAD & CO\\_GRUPO & CO\\_CURSO & CO\\_MODALIDADE & CO\\_MUNIC\\_CURSO & CO\\_UF\\_CURSO & CO\\_REGIAO\\_CURSO & ... & QE\\_I59 & QE\\_I60 & QE\\_I61 & QE\\_I62 & QE\\_I63 & QE\\_I64 & QE\\_I65 & QE\\_I66 & QE\\_I67 & QE\\_I68\\\\\n",
       "\\hline\n",
       "\t 2018    & 1356    & 10003   & 10020   & 1       & 47116   & 1       & 3546603 & 35      & 3       & ...     & 6       & 6       & 6       & 6       & 6       & 6       & 6       & 6       & 6       & 5      \\\\\n",
       "\t 2018    & 1356    & 10003   & 10020   & 1       & 47116   & 1       & 3546603 & 35      & 3       & ...     & 6       & 6       & 6       & 6       & 6       & 6       & 6       & 6       & 6       & 6      \\\\\n",
       "\t 2018    & 1356    & 10003   & 10020   & 1       & 47116   & 1       & 3546603 & 35      & 3       & ...     & 6       & 6       & 6       & 6       & 6       & 6       & 6       & 6       & 6       & 5      \\\\\n",
       "\t 2018    & 1356    & 10003   & 10020   & 1       & 47116   & 1       & 3546603 & 35      & 3       & ...     & 6       & 6       & 6       & 6       & 5       & 6       & 6       & 6       & 6       & 4      \\\\\n",
       "\t 2018    & 1356    & 10003   & 10020   & 1       & 47116   & 1       & 3546603 & 35      & 3       & ...     & 6       & 6       & 6       & 6       & 6       & 6       & 6       & 6       & 6       & 6      \\\\\n",
       "\t 2018    & 1356    & 10003   & 10020   & 1       & 47116   & 1       & 3546603 & 35      & 3       & ...     & 6       & 5       & 6       & 6       & 6       & 6       & 6       & 6       & 6       & 5      \\\\\n",
       "\\end{tabular}\n"
      ],
      "text/markdown": [
       "\n",
       "| NU_ANO | CO_IES | CO_CATEGAD | CO_ORGACAD | CO_GRUPO | CO_CURSO | CO_MODALIDADE | CO_MUNIC_CURSO | CO_UF_CURSO | CO_REGIAO_CURSO | ... | QE_I59 | QE_I60 | QE_I61 | QE_I62 | QE_I63 | QE_I64 | QE_I65 | QE_I66 | QE_I67 | QE_I68 |\n",
       "|---|---|---|---|---|---|---|---|---|---|---|---|---|---|---|---|---|---|---|---|---|\n",
       "| 2018    | 1356    | 10003   | 10020   | 1       | 47116   | 1       | 3546603 | 35      | 3       | ...     | 6       | 6       | 6       | 6       | 6       | 6       | 6       | 6       | 6       | 5       |\n",
       "| 2018    | 1356    | 10003   | 10020   | 1       | 47116   | 1       | 3546603 | 35      | 3       | ...     | 6       | 6       | 6       | 6       | 6       | 6       | 6       | 6       | 6       | 6       |\n",
       "| 2018    | 1356    | 10003   | 10020   | 1       | 47116   | 1       | 3546603 | 35      | 3       | ...     | 6       | 6       | 6       | 6       | 6       | 6       | 6       | 6       | 6       | 5       |\n",
       "| 2018    | 1356    | 10003   | 10020   | 1       | 47116   | 1       | 3546603 | 35      | 3       | ...     | 6       | 6       | 6       | 6       | 5       | 6       | 6       | 6       | 6       | 4       |\n",
       "| 2018    | 1356    | 10003   | 10020   | 1       | 47116   | 1       | 3546603 | 35      | 3       | ...     | 6       | 6       | 6       | 6       | 6       | 6       | 6       | 6       | 6       | 6       |\n",
       "| 2018    | 1356    | 10003   | 10020   | 1       | 47116   | 1       | 3546603 | 35      | 3       | ...     | 6       | 5       | 6       | 6       | 6       | 6       | 6       | 6       | 6       | 5       |\n",
       "\n"
      ],
      "text/plain": [
       "  NU_ANO CO_IES CO_CATEGAD CO_ORGACAD CO_GRUPO CO_CURSO CO_MODALIDADE\n",
       "1 2018   1356   10003      10020      1        47116    1            \n",
       "2 2018   1356   10003      10020      1        47116    1            \n",
       "3 2018   1356   10003      10020      1        47116    1            \n",
       "4 2018   1356   10003      10020      1        47116    1            \n",
       "5 2018   1356   10003      10020      1        47116    1            \n",
       "6 2018   1356   10003      10020      1        47116    1            \n",
       "  CO_MUNIC_CURSO CO_UF_CURSO CO_REGIAO_CURSO ... QE_I59 QE_I60 QE_I61 QE_I62\n",
       "1 3546603        35          3               ... 6      6      6      6     \n",
       "2 3546603        35          3               ... 6      6      6      6     \n",
       "3 3546603        35          3               ... 6      6      6      6     \n",
       "4 3546603        35          3               ... 6      6      6      6     \n",
       "5 3546603        35          3               ... 6      6      6      6     \n",
       "6 3546603        35          3               ... 6      5      6      6     \n",
       "  QE_I63 QE_I64 QE_I65 QE_I66 QE_I67 QE_I68\n",
       "1 6      6      6      6      6      5     \n",
       "2 6      6      6      6      6      6     \n",
       "3 6      6      6      6      6      5     \n",
       "4 5      6      6      6      6      4     \n",
       "5 6      6      6      6      6      6     \n",
       "6 6      6      6      6      6      5     "
      ]
     },
     "metadata": {},
     "output_type": "display_data"
    }
   ],
   "source": [
    "data = read.table(\"dataset/enade.txt\",sep=\";\", dec = \",\", header = TRUE)\n",
    "head(data)"
   ]
  },
  {
   "cell_type": "markdown",
   "id": "senior-sitting",
   "metadata": {},
   "source": [
    "## Quantidade de linhas e colunas e tipo das variáveis"
   ]
  },
  {
   "cell_type": "code",
   "execution_count": 15,
   "id": "adequate-chapel",
   "metadata": {},
   "outputs": [
    {
     "data": {
      "text/html": [
       "<ol class=list-inline>\n",
       "\t<li>548127</li>\n",
       "\t<li>137</li>\n",
       "</ol>\n"
      ],
      "text/latex": [
       "\\begin{enumerate*}\n",
       "\\item 548127\n",
       "\\item 137\n",
       "\\end{enumerate*}\n"
      ],
      "text/markdown": [
       "1. 548127\n",
       "2. 137\n",
       "\n",
       "\n"
      ],
      "text/plain": [
       "[1] 548127    137"
      ]
     },
     "metadata": {},
     "output_type": "display_data"
    },
    {
     "name": "stdout",
     "output_type": "stream",
     "text": [
      "'data.frame':\t548127 obs. of  137 variables:\n",
      " $ NU_ANO            : int  2018 2018 2018 2018 2018 2018 2018 2018 2018 2018 ...\n",
      " $ CO_IES            : int  1356 1356 1356 1356 1356 1356 1356 1356 1356 1356 ...\n",
      " $ CO_CATEGAD        : int  10003 10003 10003 10003 10003 10003 10003 10003 10003 10003 ...\n",
      " $ CO_ORGACAD        : int  10020 10020 10020 10020 10020 10020 10020 10020 10020 10020 ...\n",
      " $ CO_GRUPO          : int  1 1 1 1 1 1 1 1 1 1 ...\n",
      " $ CO_CURSO          : int  47116 47116 47116 47116 47116 47116 47116 47116 47116 47116 ...\n",
      " $ CO_MODALIDADE     : int  1 1 1 1 1 1 1 1 1 1 ...\n",
      " $ CO_MUNIC_CURSO    : int  3546603 3546603 3546603 3546603 3546603 3546603 3546603 3546603 3546603 3546603 ...\n",
      " $ CO_UF_CURSO       : int  35 35 35 35 35 35 35 35 35 35 ...\n",
      " $ CO_REGIAO_CURSO   : int  3 3 3 3 3 3 3 3 3 3 ...\n",
      " $ NU_IDADE          : int  22 49 23 25 22 22 22 22 25 21 ...\n",
      " $ TP_SEXO           : Factor w/ 2 levels \"F\",\"M\": 2 1 2 2 1 2 2 1 2 1 ...\n",
      " $ ANO_FIM_EM        : int  2013 1988 2013 2011 2014 2014 2014 2014 2011 2014 ...\n",
      " $ ANO_IN_GRAD       : int  2015 2015 2015 2015 2015 2015 2015 2015 2015 2015 ...\n",
      " $ CO_TURNO_GRADUACAO: int  4 4 4 4 4 4 4 4 4 4 ...\n",
      " $ TP_INSCRICAO_ADM  : int  0 0 0 0 0 0 0 0 0 0 ...\n",
      " $ TP_INSCRICAO      : int  0 0 0 0 0 0 0 0 0 0 ...\n",
      " $ NU_ITEM_OFG       : int  8 8 8 8 8 8 8 8 8 8 ...\n",
      " $ NU_ITEM_OFG_Z     : int  0 0 0 0 0 0 0 0 0 0 ...\n",
      " $ NU_ITEM_OFG_X     : int  0 0 0 0 0 0 0 0 0 0 ...\n",
      " $ NU_ITEM_OFG_N     : int  0 0 0 0 0 0 0 0 0 0 ...\n",
      " $ NU_ITEM_OCE       : int  27 27 27 27 27 27 27 27 27 27 ...\n",
      " $ NU_ITEM_OCE_Z     : int  1 1 1 1 1 1 1 1 1 1 ...\n",
      " $ NU_ITEM_OCE_X     : int  8 8 8 8 8 8 8 8 8 8 ...\n",
      " $ NU_ITEM_OCE_N     : int  0 0 0 0 0 0 0 0 0 0 ...\n",
      " $ DS_VT_GAB_OFG_ORIG: Factor w/ 1 level \"CACBEBDE\": 1 1 1 1 1 1 1 1 1 1 ...\n",
      " $ DS_VT_GAB_OFG_FIN : Factor w/ 1 level \"CACBEBDE\": 1 1 1 1 1 1 1 1 1 1 ...\n",
      " $ DS_VT_GAB_OCE_ORIG: Factor w/ 27 levels \"ABBCCBDEBDCADDEDCACEAAECDCE\",..: 2 2 2 2 2 2 2 2 2 2 ...\n",
      " $ DS_VT_GAB_OCE_FIN : Factor w/ 27 levels \"ABXXCXDEBDCADXEDCACEAAECDCE\",..: 26 26 26 26 26 26 26 26 26 26 ...\n",
      " $ DS_VT_ESC_OFG     : Factor w/ 102007 levels \"\",\"********\",..: 47683 44517 42984 19569 45276 58010 43963 47684 2477 74465 ...\n",
      " $ DS_VT_ACE_OFG     : int  11100010 11001011 11000101 1000100 11010101 10001100 11000101 11100011 1000111 1111101 ...\n",
      " $ DS_VT_ESC_OCE     : Factor w/ 460676 levels \"\",\"***************************\",..: 134462 166783 310226 122176 231831 131728 206930 341393 113041 124111 ...\n",
      " $ DS_VT_ACE_OCE     : num  9.91e+26 9.91e+26 9.91e+26 9.91e+26 9.91e+26 ...\n",
      " $ TP_PRES           : int  555 555 555 555 555 555 555 555 555 555 ...\n",
      " $ TP_PR_GER         : int  555 555 555 555 555 555 555 555 555 555 ...\n",
      " $ TP_PR_OB_FG       : int  555 555 555 555 555 555 555 555 555 555 ...\n",
      " $ TP_PR_DI_FG       : int  555 555 555 555 555 555 555 555 333 555 ...\n",
      " $ TP_PR_OB_CE       : int  555 555 555 555 555 555 555 555 555 555 ...\n",
      " $ TP_PR_DI_CE       : int  555 555 555 555 555 555 555 333 555 555 ...\n",
      " $ TP_SFG_D1         : int  555 555 555 336 555 555 555 555 333 555 ...\n",
      " $ TP_SFG_D2         : int  555 555 555 333 555 333 555 555 333 555 ...\n",
      " $ TP_SCE_D1         : int  333 555 555 333 555 555 555 333 336 555 ...\n",
      " $ TP_SCE_D2         : int  333 555 555 555 555 555 555 333 336 555 ...\n",
      " $ TP_SCE_D3         : int  555 555 555 333 555 333 555 333 336 555 ...\n",
      " $ NT_GER            : num  42.8 59.3 60.9 25 42.4 40 55.1 38.7 50 50.6 ...\n",
      " $ NT_FG             : num  50.6 57.9 47.2 15 58.1 26.3 39.2 55.5 30 59.8 ...\n",
      " $ NT_OBJ_FG         : num  50 62.5 50 25 62.5 37.5 50 62.5 50 75 ...\n",
      " $ NT_DIS_FG         : num  51.5 51 43 0 51.5 9.5 23 45 0 37 ...\n",
      " $ NT_FG_D1          : int  63 55 33 0 42 19 36 47 0 48 ...\n",
      " $ NT_FG_D1_PT       : int  75 75 65 0 50 55 60 55 0 60 ...\n",
      " $ NT_FG_D1_CT       : int  60 50 25 0 40 10 30 45 0 45 ...\n",
      " $ NT_FG_D2          : int  40 47 53 0 61 0 10 43 0 26 ...\n",
      " $ NT_FG_D2_PT       : int  60 55 65 0 65 0 50 75 0 50 ...\n",
      " $ NT_FG_D2_CT       : int  35 45 50 0 60 0 0 35 0 20 ...\n",
      " $ NT_CE             : num  40.2 59.7 65.4 28.3 37.1 44.5 60.4 33.1 56.7 47.5 ...\n",
      " $ NT_OBJ_CE         : num  44.4 66.7 72.2 33.3 38.9 50 61.1 38.9 66.7 50 ...\n",
      " $ NT_DIS_CE         : num  16.7 20 26.7 0 26.7 13.3 56.7 0 0 33.3 ...\n",
      " $ NT_CE_D1          : int  0 40 40 0 40 40 40 0 0 30 ...\n",
      " $ NT_CE_D2          : int  0 20 40 0 40 0 80 0 0 20 ...\n",
      " $ NT_CE_D3          : int  50 0 0 0 0 0 50 0 0 50 ...\n",
      " $ CO_RS_I1          : Factor w/ 8 levels \"\",\"*\",\".\",\"A\",..: 7 5 6 7 7 7 6 7 6 6 ...\n",
      " $ CO_RS_I2          : Factor w/ 8 levels \"\",\"*\",\".\",\"A\",..: 7 6 6 6 7 7 6 7 6 7 ...\n",
      " $ CO_RS_I3          : Factor w/ 8 levels \"\",\"*\",\".\",\"A\",..: 6 4 6 8 4 7 5 6 6 6 ...\n",
      " $ CO_RS_I4          : Factor w/ 8 levels \"\",\"*\",\".\",\"A\",..: 4 4 5 5 6 4 5 5 5 5 ...\n",
      " $ CO_RS_I5          : Factor w/ 8 levels \"\",\"*\",\".\",\"A\",..: 4 6 5 5 5 4 5 5 5 5 ...\n",
      " $ CO_RS_I6          : Factor w/ 8 levels \"\",\"*\",\".\",\"A\",..: 6 5 6 5 7 4 7 6 6 6 ...\n",
      " $ CO_RS_I7          : Factor w/ 8 levels \"\",\"*\",\".\",\"A\",..: 4 5 5 5 4 6 5 5 8 5 ...\n",
      " $ CO_RS_I8          : Factor w/ 8 levels \"\",\"*\",\".\",\"A\",..: 7 7 7 7 7 7 6 7 8 7 ...\n",
      " $ CO_RS_I9          : Factor w/ 8 levels \"\",\"*\",\".\",\"A\",..: 7 7 7 8 8 8 7 8 7 7 ...\n",
      " $ QE_I01            : Factor w/ 6 levels \"\",\"A\",\"B\",\"C\",..: 2 3 2 2 2 2 2 2 2 2 ...\n",
      " $ QE_I02            : Factor w/ 7 levels \"\",\"A\",\"B\",\"C\",..: 5 2 2 2 3 2 2 2 2 5 ...\n",
      " $ QE_I03            : Factor w/ 4 levels \"\",\"A\",\"B\",\"C\": 2 2 2 2 2 2 2 2 2 2 ...\n",
      " $ QE_I04            : Factor w/ 7 levels \"\",\"A\",\"B\",\"C\",..: 5 3 5 5 4 5 5 5 4 4 ...\n",
      " $ QE_I05            : Factor w/ 7 levels \"\",\"A\",\"B\",\"C\",..: 5 3 5 5 4 5 7 5 4 4 ...\n",
      " $ QE_I06            : Factor w/ 7 levels \"\",\"A\",\"B\",\"C\",..: 3 4 3 3 3 2 3 3 3 3 ...\n",
      " $ QE_I07            : Factor w/ 9 levels \"\",\"A\",\"B\",\"C\",..: 6 5 6 5 5 2 5 5 6 6 ...\n",
      " $ QE_I08            : Factor w/ 8 levels \"\",\"A\",\"B\",\"C\",..: 4 5 6 5 6 7 6 4 3 4 ...\n",
      " $ QE_I09            : Factor w/ 7 levels \"\",\"A\",\"B\",\"C\",..: 3 6 5 5 5 4 5 4 6 3 ...\n",
      " $ QE_I10            : Factor w/ 6 levels \"\",\"A\",\"B\",\"C\",..: 2 6 6 2 2 6 6 2 6 2 ...\n",
      " $ QE_I11            : Factor w/ 12 levels \"\",\"A\",\"B\",\"C\",..: 9 9 9 9 9 9 9 9 8 9 ...\n",
      " $ QE_I12            : Factor w/ 7 levels \"\",\"A\",\"B\",\"C\",..: 2 2 2 2 2 2 2 2 2 2 ...\n",
      " $ QE_I13            : Factor w/ 7 levels \"\",\"A\",\"B\",\"C\",..: 5 5 3 3 2 2 3 3 2 5 ...\n",
      " $ QE_I14            : Factor w/ 7 levels \"\",\"A\",\"B\",\"C\",..: 2 7 2 2 2 2 6 2 2 2 ...\n",
      " $ QE_I15            : Factor w/ 7 levels \"\",\"A\",\"B\",\"C\",..: 2 2 2 2 2 2 2 2 2 2 ...\n",
      " $ QE_I16            : int  50 35 35 35 35 35 35 35 35 35 ...\n",
      " $ QE_I17            : Factor w/ 7 levels \"\",\"A\",\"B\",\"C\",..: 2 2 2 2 2 2 2 2 2 2 ...\n",
      " $ QE_I18            : Factor w/ 6 levels \"\",\"A\",\"B\",\"C\",..: 2 4 2 2 2 2 2 2 2 2 ...\n",
      " $ QE_I19            : Factor w/ 8 levels \"\",\"A\",\"B\",\"C\",..: 3 4 3 3 3 3 3 3 3 3 ...\n",
      " $ QE_I20            : Factor w/ 12 levels \"\",\"A\",\"B\",\"C\",..: 10 9 2 2 9 7 9 10 4 9 ...\n",
      " $ QE_I21            : Factor w/ 3 levels \"\",\"A\",\"B\": 2 2 3 2 3 3 2 3 2 3 ...\n",
      " $ QE_I22            : Factor w/ 6 levels \"\",\"A\",\"B\",\"C\",..: 3 4 5 6 3 5 6 5 5 5 ...\n",
      " $ QE_I23            : Factor w/ 6 levels \"\",\"A\",\"B\",\"C\",..: 3 4 5 6 3 4 5 4 4 5 ...\n",
      " $ QE_I24            : Factor w/ 6 levels \"\",\"A\",\"B\",\"C\",..: 2 2 3 2 2 2 2 2 6 2 ...\n",
      " $ QE_I25            : Factor w/ 9 levels \"\",\"A\",\"B\",\"C\",..: 4 2 4 2 2 3 4 6 4 2 ...\n",
      " $ QE_I26            : Factor w/ 6 levels \"\",\"A\",\"B\",\"C\",..: 1 1 1 4 1 1 1 1 1 1 ...\n",
      " $ QE_I27            : int  6 6 6 6 6 6 6 6 6 6 ...\n",
      " $ QE_I28            : int  6 6 6 6 6 6 6 6 6 6 ...\n",
      " $ QE_I29            : int  6 6 6 6 6 6 6 6 6 6 ...\n",
      " $ QE_I30            : int  6 6 6 6 6 6 6 6 6 6 ...\n",
      "  [list output truncated]\n"
     ]
    }
   ],
   "source": [
    "dim(data)\n",
    "str(data)"
   ]
  },
  {
   "cell_type": "markdown",
   "id": "interracial-agenda",
   "metadata": {},
   "source": [
    "## Isolando de Ciências Econômicas\n",
    "### Caminho:\n",
    "> Ciências Econômicas(cód.:13)"
   ]
  },
  {
   "cell_type": "code",
   "execution_count": 222,
   "id": "alive-demonstration",
   "metadata": {},
   "outputs": [
    {
     "data": {
      "text/html": [
       "<table>\n",
       "<thead><tr><th></th><th scope=col>NU_ANO</th><th scope=col>CO_IES</th><th scope=col>CO_CATEGAD</th><th scope=col>CO_ORGACAD</th><th scope=col>CO_GRUPO</th><th scope=col>CO_CURSO</th><th scope=col>CO_MODALIDADE</th><th scope=col>CO_MUNIC_CURSO</th><th scope=col>CO_UF_CURSO</th><th scope=col>CO_REGIAO_CURSO</th><th scope=col>...</th><th scope=col>QE_I59</th><th scope=col>QE_I60</th><th scope=col>QE_I61</th><th scope=col>QE_I62</th><th scope=col>QE_I63</th><th scope=col>QE_I64</th><th scope=col>QE_I65</th><th scope=col>QE_I66</th><th scope=col>QE_I67</th><th scope=col>QE_I68</th></tr></thead>\n",
       "<tbody>\n",
       "\t<tr><th scope=row>177710</th><td>2018   </td><td>571    </td><td>10002  </td><td>10028  </td><td>13     </td><td>12571  </td><td>1      </td><td>4106902</td><td>41     </td><td>4      </td><td>...    </td><td> 5     </td><td>3      </td><td>5      </td><td>5      </td><td>5      </td><td>6      </td><td>NA     </td><td>4      </td><td>4      </td><td>4      </td></tr>\n",
       "\t<tr><th scope=row>177711</th><td>2018   </td><td>571    </td><td>10002  </td><td>10028  </td><td>13     </td><td>12571  </td><td>1      </td><td>4106902</td><td>41     </td><td>4      </td><td>...    </td><td> 1     </td><td>1      </td><td>1      </td><td>1      </td><td>1      </td><td>1      </td><td> 1     </td><td>1      </td><td>1      </td><td>1      </td></tr>\n",
       "\t<tr><th scope=row>177712</th><td>2018   </td><td>571    </td><td>10002  </td><td>10028  </td><td>13     </td><td>12571  </td><td>1      </td><td>4106902</td><td>41     </td><td>4      </td><td>...    </td><td> 1     </td><td>1      </td><td>1      </td><td>1      </td><td>1      </td><td>1      </td><td> 1     </td><td>1      </td><td>1      </td><td>1      </td></tr>\n",
       "\t<tr><th scope=row>177713</th><td>2018   </td><td>571    </td><td>10002  </td><td>10028  </td><td>13     </td><td>12571  </td><td>1      </td><td>4106902</td><td>41     </td><td>4      </td><td>...    </td><td>NA     </td><td>5      </td><td>4      </td><td>6      </td><td>6      </td><td>5      </td><td> 1     </td><td>6      </td><td>1      </td><td>5      </td></tr>\n",
       "\t<tr><th scope=row>177714</th><td>2018   </td><td>571    </td><td>10002  </td><td>10028  </td><td>13     </td><td>12571  </td><td>1      </td><td>4106902</td><td>41     </td><td>4      </td><td>...    </td><td> 1     </td><td>1      </td><td>1      </td><td>1      </td><td>1      </td><td>1      </td><td> 1     </td><td>1      </td><td>1      </td><td>1      </td></tr>\n",
       "\t<tr><th scope=row>177715</th><td>2018   </td><td>571    </td><td>10002  </td><td>10028  </td><td>13     </td><td>12571  </td><td>1      </td><td>4106902</td><td>41     </td><td>4      </td><td>...    </td><td> 1     </td><td>1      </td><td>1      </td><td>1      </td><td>1      </td><td>1      </td><td> 1     </td><td>1      </td><td>1      </td><td>1      </td></tr>\n",
       "</tbody>\n",
       "</table>\n"
      ],
      "text/latex": [
       "\\begin{tabular}{r|lllllllllllllllllllllllllllllllllllllllllllllllllllllllllllllllllllllllllllllllllllllllllllllllllllllllllllllllllllllllllllllllllllllllll}\n",
       "  & NU\\_ANO & CO\\_IES & CO\\_CATEGAD & CO\\_ORGACAD & CO\\_GRUPO & CO\\_CURSO & CO\\_MODALIDADE & CO\\_MUNIC\\_CURSO & CO\\_UF\\_CURSO & CO\\_REGIAO\\_CURSO & ... & QE\\_I59 & QE\\_I60 & QE\\_I61 & QE\\_I62 & QE\\_I63 & QE\\_I64 & QE\\_I65 & QE\\_I66 & QE\\_I67 & QE\\_I68\\\\\n",
       "\\hline\n",
       "\t177710 & 2018    & 571     & 10002   & 10028   & 13      & 12571   & 1       & 4106902 & 41      & 4       & ...     &  5      & 3       & 5       & 5       & 5       & 6       & NA      & 4       & 4       & 4      \\\\\n",
       "\t177711 & 2018    & 571     & 10002   & 10028   & 13      & 12571   & 1       & 4106902 & 41      & 4       & ...     &  1      & 1       & 1       & 1       & 1       & 1       &  1      & 1       & 1       & 1      \\\\\n",
       "\t177712 & 2018    & 571     & 10002   & 10028   & 13      & 12571   & 1       & 4106902 & 41      & 4       & ...     &  1      & 1       & 1       & 1       & 1       & 1       &  1      & 1       & 1       & 1      \\\\\n",
       "\t177713 & 2018    & 571     & 10002   & 10028   & 13      & 12571   & 1       & 4106902 & 41      & 4       & ...     & NA      & 5       & 4       & 6       & 6       & 5       &  1      & 6       & 1       & 5      \\\\\n",
       "\t177714 & 2018    & 571     & 10002   & 10028   & 13      & 12571   & 1       & 4106902 & 41      & 4       & ...     &  1      & 1       & 1       & 1       & 1       & 1       &  1      & 1       & 1       & 1      \\\\\n",
       "\t177715 & 2018    & 571     & 10002   & 10028   & 13      & 12571   & 1       & 4106902 & 41      & 4       & ...     &  1      & 1       & 1       & 1       & 1       & 1       &  1      & 1       & 1       & 1      \\\\\n",
       "\\end{tabular}\n"
      ],
      "text/markdown": [
       "\n",
       "| <!--/--> | NU_ANO | CO_IES | CO_CATEGAD | CO_ORGACAD | CO_GRUPO | CO_CURSO | CO_MODALIDADE | CO_MUNIC_CURSO | CO_UF_CURSO | CO_REGIAO_CURSO | ... | QE_I59 | QE_I60 | QE_I61 | QE_I62 | QE_I63 | QE_I64 | QE_I65 | QE_I66 | QE_I67 | QE_I68 |\n",
       "|---|---|---|---|---|---|---|---|---|---|---|---|---|---|---|---|---|---|---|---|---|---|\n",
       "| 177710 | 2018    | 571     | 10002   | 10028   | 13      | 12571   | 1       | 4106902 | 41      | 4       | ...     |  5      | 3       | 5       | 5       | 5       | 6       | NA      | 4       | 4       | 4       |\n",
       "| 177711 | 2018    | 571     | 10002   | 10028   | 13      | 12571   | 1       | 4106902 | 41      | 4       | ...     |  1      | 1       | 1       | 1       | 1       | 1       |  1      | 1       | 1       | 1       |\n",
       "| 177712 | 2018    | 571     | 10002   | 10028   | 13      | 12571   | 1       | 4106902 | 41      | 4       | ...     |  1      | 1       | 1       | 1       | 1       | 1       |  1      | 1       | 1       | 1       |\n",
       "| 177713 | 2018    | 571     | 10002   | 10028   | 13      | 12571   | 1       | 4106902 | 41      | 4       | ...     | NA      | 5       | 4       | 6       | 6       | 5       |  1      | 6       | 1       | 5       |\n",
       "| 177714 | 2018    | 571     | 10002   | 10028   | 13      | 12571   | 1       | 4106902 | 41      | 4       | ...     |  1      | 1       | 1       | 1       | 1       | 1       |  1      | 1       | 1       | 1       |\n",
       "| 177715 | 2018    | 571     | 10002   | 10028   | 13      | 12571   | 1       | 4106902 | 41      | 4       | ...     |  1      | 1       | 1       | 1       | 1       | 1       |  1      | 1       | 1       | 1       |\n",
       "\n"
      ],
      "text/plain": [
       "       NU_ANO CO_IES CO_CATEGAD CO_ORGACAD CO_GRUPO CO_CURSO CO_MODALIDADE\n",
       "177710 2018   571    10002      10028      13       12571    1            \n",
       "177711 2018   571    10002      10028      13       12571    1            \n",
       "177712 2018   571    10002      10028      13       12571    1            \n",
       "177713 2018   571    10002      10028      13       12571    1            \n",
       "177714 2018   571    10002      10028      13       12571    1            \n",
       "177715 2018   571    10002      10028      13       12571    1            \n",
       "       CO_MUNIC_CURSO CO_UF_CURSO CO_REGIAO_CURSO ... QE_I59 QE_I60 QE_I61\n",
       "177710 4106902        41          4               ...  5     3      5     \n",
       "177711 4106902        41          4               ...  1     1      1     \n",
       "177712 4106902        41          4               ...  1     1      1     \n",
       "177713 4106902        41          4               ... NA     5      4     \n",
       "177714 4106902        41          4               ...  1     1      1     \n",
       "177715 4106902        41          4               ...  1     1      1     \n",
       "       QE_I62 QE_I63 QE_I64 QE_I65 QE_I66 QE_I67 QE_I68\n",
       "177710 5      5      6      NA     4      4      4     \n",
       "177711 1      1      1       1     1      1      1     \n",
       "177712 1      1      1       1     1      1      1     \n",
       "177713 6      6      5       1     6      1      5     \n",
       "177714 1      1      1       1     1      1      1     \n",
       "177715 1      1      1       1     1      1      1     "
      ]
     },
     "metadata": {},
     "output_type": "display_data"
    },
    {
     "data": {
      "text/html": [
       "<ol class=list-inline>\n",
       "\t<li>114</li>\n",
       "\t<li>137</li>\n",
       "</ol>\n"
      ],
      "text/latex": [
       "\\begin{enumerate*}\n",
       "\\item 114\n",
       "\\item 137\n",
       "\\end{enumerate*}\n"
      ],
      "text/markdown": [
       "1. 114\n",
       "2. 137\n",
       "\n",
       "\n"
      ],
      "text/plain": [
       "[1] 114 137"
      ]
     },
     "metadata": {},
     "output_type": "display_data"
    }
   ],
   "source": [
    "#df = data[data$CO_IES == 571 & data$CO_GRUPO == 13,]\n",
    "df = data[data$CO_GRUPO == 13,]\n",
    "head(df)\n",
    "dim(df)\n"
   ]
  },
  {
   "cell_type": "code",
   "execution_count": 223,
   "id": "incredible-parameter",
   "metadata": {},
   "outputs": [],
   "source": [
    "df$CO_TURNO_GRADUACAO = as.factor(df$CO_TURNO_GRADUACAO)"
   ]
  },
  {
   "cell_type": "code",
   "execution_count": 224,
   "id": "veterinary-dating",
   "metadata": {},
   "outputs": [
    {
     "data": {
      "text/html": [
       "<dl class=dl-horizontal>\n",
       "\t<dt>1</dt>\n",
       "\t\t<dd>38</dd>\n",
       "\t<dt>4</dt>\n",
       "\t\t<dd>76</dd>\n",
       "</dl>\n"
      ],
      "text/latex": [
       "\\begin{description*}\n",
       "\\item[1] 38\n",
       "\\item[4] 76\n",
       "\\end{description*}\n"
      ],
      "text/markdown": [
       "1\n",
       ":   384\n",
       ":   76\n",
       "\n"
      ],
      "text/plain": [
       " 1  4 \n",
       "38 76 "
      ]
     },
     "metadata": {},
     "output_type": "display_data"
    },
    {
     "data": {
      "text/plain": [
       "   Min. 1st Qu.  Median    Mean 3rd Qu.    Max.    NA's \n",
       "   0.00   30.90   38.80   38.81   49.50   72.80      17 "
      ]
     },
     "metadata": {},
     "output_type": "display_data"
    }
   ],
   "source": [
    "colnames(df)[15] = 'turno'\n",
    "colnames(df)[45] = 'nota_geral'\n",
    "summary(df$turno)\n",
    "summary(df$nota_geral)"
   ]
  },
  {
   "cell_type": "code",
   "execution_count": 225,
   "id": "working-metabolism",
   "metadata": {},
   "outputs": [
    {
     "data": {
      "text/html": [
       "<ol class=list-inline>\n",
       "\t<li>114</li>\n",
       "\t<li>2</li>\n",
       "</ol>\n"
      ],
      "text/latex": [
       "\\begin{enumerate*}\n",
       "\\item 114\n",
       "\\item 2\n",
       "\\end{enumerate*}\n"
      ],
      "text/markdown": [
       "1. 114\n",
       "2. 2\n",
       "\n",
       "\n"
      ],
      "text/plain": [
       "[1] 114   2"
      ]
     },
     "metadata": {},
     "output_type": "display_data"
    }
   ],
   "source": [
    "df = select(df, turno, nota_geral)\n",
    "dim(df)"
   ]
  },
  {
   "cell_type": "code",
   "execution_count": 226,
   "id": "palestinian-arbitration",
   "metadata": {},
   "outputs": [
    {
     "data": {
      "text/html": [
       "<ol class=list-inline>\n",
       "\t<li>114</li>\n",
       "\t<li>2</li>\n",
       "</ol>\n"
      ],
      "text/latex": [
       "\\begin{enumerate*}\n",
       "\\item 114\n",
       "\\item 2\n",
       "\\end{enumerate*}\n"
      ],
      "text/markdown": [
       "1. 114\n",
       "2. 2\n",
       "\n",
       "\n"
      ],
      "text/plain": [
       "[1] 114   2"
      ]
     },
     "metadata": {},
     "output_type": "display_data"
    }
   ],
   "source": [
    "df = filter(df, turno==1 | turno==4)\n",
    "dim(df)"
   ]
  },
  {
   "cell_type": "markdown",
   "id": "equivalent-startup",
   "metadata": {},
   "source": [
    "# Valores missing"
   ]
  },
  {
   "cell_type": "code",
   "execution_count": 227,
   "id": "realistic-taxation",
   "metadata": {},
   "outputs": [
    {
     "data": {
      "text/html": [
       "<dl class=dl-horizontal>\n",
       "\t<dt>turno</dt>\n",
       "\t\t<dd>0</dd>\n",
       "\t<dt>nota_geral</dt>\n",
       "\t\t<dd>17</dd>\n",
       "</dl>\n"
      ],
      "text/latex": [
       "\\begin{description*}\n",
       "\\item[turno] 0\n",
       "\\item[nota\\textbackslash{}\\_geral] 17\n",
       "\\end{description*}\n"
      ],
      "text/markdown": [
       "turno\n",
       ":   0nota_geral\n",
       ":   17\n",
       "\n"
      ],
      "text/plain": [
       "     turno nota_geral \n",
       "         0         17 "
      ]
     },
     "metadata": {},
     "output_type": "display_data"
    }
   ],
   "source": [
    "sapply(df, function(x) sum(is.na(x)))\n"
   ]
  },
  {
   "cell_type": "markdown",
   "id": "quiet-channels",
   "metadata": {},
   "source": [
    "# Excluindo valores missing"
   ]
  },
  {
   "cell_type": "code",
   "execution_count": 228,
   "id": "national-output",
   "metadata": {},
   "outputs": [],
   "source": [
    "df = na.omit(df)"
   ]
  },
  {
   "cell_type": "code",
   "execution_count": 229,
   "id": "invalid-training",
   "metadata": {},
   "outputs": [
    {
     "data": {
      "text/html": [
       "<dl class=dl-horizontal>\n",
       "\t<dt>turno</dt>\n",
       "\t\t<dd>0</dd>\n",
       "\t<dt>nota_geral</dt>\n",
       "\t\t<dd>0</dd>\n",
       "</dl>\n"
      ],
      "text/latex": [
       "\\begin{description*}\n",
       "\\item[turno] 0\n",
       "\\item[nota\\textbackslash{}\\_geral] 0\n",
       "\\end{description*}\n"
      ],
      "text/markdown": [
       "turno\n",
       ":   0nota_geral\n",
       ":   0\n",
       "\n"
      ],
      "text/plain": [
       "     turno nota_geral \n",
       "         0          0 "
      ]
     },
     "metadata": {},
     "output_type": "display_data"
    },
    {
     "data": {
      "text/html": [
       "<ol class=list-inline>\n",
       "\t<li>97</li>\n",
       "\t<li>2</li>\n",
       "</ol>\n"
      ],
      "text/latex": [
       "\\begin{enumerate*}\n",
       "\\item 97\n",
       "\\item 2\n",
       "\\end{enumerate*}\n"
      ],
      "text/markdown": [
       "1. 97\n",
       "2. 2\n",
       "\n",
       "\n"
      ],
      "text/plain": [
       "[1] 97  2"
      ]
     },
     "metadata": {},
     "output_type": "display_data"
    }
   ],
   "source": [
    "sapply(df, function(x) sum(is.na(x)))\n",
    "dim(df)"
   ]
  },
  {
   "cell_type": "code",
   "execution_count": 230,
   "id": "variable-lexington",
   "metadata": {
    "scrolled": true
   },
   "outputs": [
    {
     "data": {
      "text/html": [
       "<table>\n",
       "<thead><tr><th scope=col>turno</th><th scope=col>nota_geral</th></tr></thead>\n",
       "<tbody>\n",
       "\t<tr><td>1   </td><td>38.8</td></tr>\n",
       "\t<tr><td>1   </td><td>59.5</td></tr>\n",
       "\t<tr><td>1   </td><td>49.5</td></tr>\n",
       "\t<tr><td>1   </td><td>21.3</td></tr>\n",
       "\t<tr><td>1   </td><td>55.8</td></tr>\n",
       "\t<tr><td>1   </td><td>55.6</td></tr>\n",
       "</tbody>\n",
       "</table>\n"
      ],
      "text/latex": [
       "\\begin{tabular}{r|ll}\n",
       " turno & nota\\_geral\\\\\n",
       "\\hline\n",
       "\t 1    & 38.8\\\\\n",
       "\t 1    & 59.5\\\\\n",
       "\t 1    & 49.5\\\\\n",
       "\t 1    & 21.3\\\\\n",
       "\t 1    & 55.8\\\\\n",
       "\t 1    & 55.6\\\\\n",
       "\\end{tabular}\n"
      ],
      "text/markdown": [
       "\n",
       "| turno | nota_geral |\n",
       "|---|---|\n",
       "| 1    | 38.8 |\n",
       "| 1    | 59.5 |\n",
       "| 1    | 49.5 |\n",
       "| 1    | 21.3 |\n",
       "| 1    | 55.8 |\n",
       "| 1    | 55.6 |\n",
       "\n"
      ],
      "text/plain": [
       "  turno nota_geral\n",
       "1 1     38.8      \n",
       "2 1     59.5      \n",
       "3 1     49.5      \n",
       "4 1     21.3      \n",
       "5 1     55.8      \n",
       "6 1     55.6      "
      ]
     },
     "metadata": {},
     "output_type": "display_data"
    },
    {
     "data": {
      "text/plain": [
       " turno    nota_geral   \n",
       " 1:37   Min.   : 0.00  \n",
       " 4:60   1st Qu.:30.90  \n",
       "        Median :38.80  \n",
       "        Mean   :38.81  \n",
       "        3rd Qu.:49.50  \n",
       "        Max.   :72.80  "
      ]
     },
     "metadata": {},
     "output_type": "display_data"
    }
   ],
   "source": [
    "head(df)\n",
    "summary(df)"
   ]
  },
  {
   "cell_type": "code",
   "execution_count": 231,
   "id": "collected-danger",
   "metadata": {},
   "outputs": [],
   "source": [
    "df$turno = factor(df$turno)"
   ]
  },
  {
   "cell_type": "code",
   "execution_count": 232,
   "id": "robust-setting",
   "metadata": {},
   "outputs": [
    {
     "data": {
      "text/plain": [
       " turno    nota_geral   \n",
       " 1:37   Min.   : 0.00  \n",
       " 4:60   1st Qu.:30.90  \n",
       "        Median :38.80  \n",
       "        Mean   :38.81  \n",
       "        3rd Qu.:49.50  \n",
       "        Max.   :72.80  "
      ]
     },
     "metadata": {},
     "output_type": "display_data"
    }
   ],
   "source": [
    "summary(df)"
   ]
  },
  {
   "cell_type": "code",
   "execution_count": 233,
   "id": "optical-december",
   "metadata": {},
   "outputs": [],
   "source": [
    "levels(df$turno) = c('matutino', 'noturno')"
   ]
  },
  {
   "cell_type": "code",
   "execution_count": 234,
   "id": "decimal-radio",
   "metadata": {},
   "outputs": [
    {
     "data": {
      "text/plain": [
       "      turno      nota_geral   \n",
       " matutino:37   Min.   : 0.00  \n",
       " noturno :60   1st Qu.:30.90  \n",
       "               Median :38.80  \n",
       "               Mean   :38.81  \n",
       "               3rd Qu.:49.50  \n",
       "               Max.   :72.80  "
      ]
     },
     "metadata": {},
     "output_type": "display_data"
    }
   ],
   "source": [
    "summary(df)"
   ]
  },
  {
   "cell_type": "code",
   "execution_count": 235,
   "id": "after-cancellation",
   "metadata": {},
   "outputs": [],
   "source": [
    "df <- df %>% mutate(id = row_number())"
   ]
  },
  {
   "cell_type": "code",
   "execution_count": 236,
   "id": "mature-ladder",
   "metadata": {},
   "outputs": [],
   "source": [
    "df <- df[c(\"id\", \"turno\", \"nota_geral\")]"
   ]
  },
  {
   "cell_type": "code",
   "execution_count": 237,
   "id": "previous-sherman",
   "metadata": {},
   "outputs": [
    {
     "data": {
      "text/html": [
       "<table>\n",
       "<thead><tr><th scope=col>id</th><th scope=col>turno</th><th scope=col>nota_geral</th></tr></thead>\n",
       "<tbody>\n",
       "\t<tr><td>1       </td><td>matutino</td><td>38.8    </td></tr>\n",
       "\t<tr><td>2       </td><td>matutino</td><td>59.5    </td></tr>\n",
       "\t<tr><td>3       </td><td>matutino</td><td>49.5    </td></tr>\n",
       "\t<tr><td>4       </td><td>matutino</td><td>21.3    </td></tr>\n",
       "\t<tr><td>5       </td><td>matutino</td><td>55.8    </td></tr>\n",
       "\t<tr><td>6       </td><td>matutino</td><td>55.6    </td></tr>\n",
       "</tbody>\n",
       "</table>\n"
      ],
      "text/latex": [
       "\\begin{tabular}{r|lll}\n",
       " id & turno & nota\\_geral\\\\\n",
       "\\hline\n",
       "\t 1        & matutino & 38.8    \\\\\n",
       "\t 2        & matutino & 59.5    \\\\\n",
       "\t 3        & matutino & 49.5    \\\\\n",
       "\t 4        & matutino & 21.3    \\\\\n",
       "\t 5        & matutino & 55.8    \\\\\n",
       "\t 6        & matutino & 55.6    \\\\\n",
       "\\end{tabular}\n"
      ],
      "text/markdown": [
       "\n",
       "| id | turno | nota_geral |\n",
       "|---|---|---|\n",
       "| 1        | matutino | 38.8     |\n",
       "| 2        | matutino | 59.5     |\n",
       "| 3        | matutino | 49.5     |\n",
       "| 4        | matutino | 21.3     |\n",
       "| 5        | matutino | 55.8     |\n",
       "| 6        | matutino | 55.6     |\n",
       "\n"
      ],
      "text/plain": [
       "  id turno    nota_geral\n",
       "1 1  matutino 38.8      \n",
       "2 2  matutino 59.5      \n",
       "3 3  matutino 49.5      \n",
       "4 4  matutino 21.3      \n",
       "5 5  matutino 55.8      \n",
       "6 6  matutino 55.6      "
      ]
     },
     "metadata": {},
     "output_type": "display_data"
    }
   ],
   "source": [
    "head(df)"
   ]
  },
  {
   "cell_type": "code",
   "execution_count": 238,
   "id": "wooden-undergraduate",
   "metadata": {},
   "outputs": [
    {
     "data": {
      "image/png": "[encoded data removed]",
      "text/plain": [
       "plot without title"
      ]
     },
     "metadata": {},
     "output_type": "display_data"
    }
   ],
   "source": [
    "### 2. Gráfico\n",
    "ggplot(data=df, aes(x=id, y=nota_geral))+\n",
    "    geom_point(aes(color=turno), size=1)+\n",
    "    ggtitle(\"Distribuição das notas dos alunos de economia\")+\n",
    "    labs(x=\"Alunos\", y=\"Notas Gerais\")+\n",
    "    theme_bw()+\n",
    "    theme(title=element_text(size=12,color=\"turquoise4\"))\n"
   ]
  },
  {
   "cell_type": "code",
   "execution_count": 239,
   "id": "numerous-lyric",
   "metadata": {},
   "outputs": [
    {
     "data": {
      "image/png": "[encoded data removed]",
      "text/plain": [
       "plot without title"
      ]
     },
     "metadata": {},
     "output_type": "display_data"
    }
   ],
   "source": [
    "ggplot(df, aes(x=nota_geral, color=turno, fill=turno)) +\n",
    "    geom_histogram(alpha=0.5, bins = 30)+\n",
    "    theme_bw()+\n",
    "    theme(title=element_text(size=12,color=\"turquoise4\"))"
   ]
  },
  {
   "cell_type": "code",
   "execution_count": 240,
   "id": "polar-company",
   "metadata": {},
   "outputs": [
    {
     "data": {
      "image/png": "[encoded data removed]",
      "text/plain": [
       "plot without title"
      ]
     },
     "metadata": {},
     "output_type": "display_data"
    }
   ],
   "source": [
    " ggplot(df, aes(x=turno, y=nota_geral, fill=turno)) +\n",
    "    geom_boxplot() +\n",
    "    ggtitle(\"Boxplot das notas matutino e noturno\") +\n",
    "    theme_bw()+\n",
    "    theme(title=element_text(size=12,color=\"turquoise4\"))+\n",
    "    xlab(\"Notas\")+\n",
    "    ylab(\"Turno\")\n"
   ]
  },
  {
   "cell_type": "code",
   "execution_count": 241,
   "id": "revised-grant",
   "metadata": {},
   "outputs": [
    {
     "data": {
      "image/png": "[encoded data removed]",
      "text/plain": [
       "Plot with title \"Heterogeneidade entre a média das notas\""
      ]
     },
     "metadata": {},
     "output_type": "display_data"
    }
   ],
   "source": [
    "plotmeans(nota_geral~turno, data=df, main=\"Heterogeneidade entre a média das notas\")"
   ]
  },
  {
   "cell_type": "code",
   "execution_count": 242,
   "id": "aquatic-palestinian",
   "metadata": {},
   "outputs": [],
   "source": [
    "mod = lm(nota_geral~turno, data=df)"
   ]
  },
  {
   "cell_type": "code",
   "execution_count": 243,
   "id": "elegant-samuel",
   "metadata": {},
   "outputs": [
    {
     "data": {
      "text/plain": [
       "\n",
       "Call:\n",
       "lm(formula = nota_geral ~ turno, data = df)\n",
       "\n",
       "Residuals:\n",
       "   Min     1Q Median     3Q    Max \n",
       "-36.61  -8.07  -1.47   8.63  36.19 \n",
       "\n",
       "Coefficients:\n",
       "             Estimate Std. Error t value Pr(>|t|)    \n",
       "(Intercept)    42.370      2.129  19.901   <2e-16 ***\n",
       "turnonoturno   -5.762      2.707  -2.129   0.0359 *  \n",
       "---\n",
       "Signif. codes:  0 '***' 0.001 '**' 0.01 '*' 0.05 '.' 0.1 ' ' 1\n",
       "\n",
       "Residual standard error: 12.95 on 95 degrees of freedom\n",
       "Multiple R-squared:  0.04552,\tAdjusted R-squared:  0.03547 \n",
       "F-statistic: 4.531 on 1 and 95 DF,  p-value: 0.03588\n"
      ]
     },
     "metadata": {},
     "output_type": "display_data"
    }
   ],
   "source": [
    "summary(mod)"
   ]
  },
  {
   "cell_type": "code",
   "execution_count": null,
   "id": "manufactured-affiliate",
   "metadata": {},
   "outputs": [],
   "source": []
  }
 ],
 "metadata": {
  "kernelspec": {
   "display_name": "R",
   "language": "R",
   "name": "ir"
  },
  "language_info": {
   "codemirror_mode": "r",
   "file_extension": ".r",
   "mimetype": "text/x-r-source",
   "name": "R",
   "pygments_lexer": "r",
   "version": "3.6.1"
  }
 },
 "nbformat": 4,
 "nbformat_minor": 5
}
