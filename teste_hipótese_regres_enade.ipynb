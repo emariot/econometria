{
 "cells": [
  {
   "cell_type": "markdown",
   "id": "italic-translation",
   "metadata": {},
   "source": [
    "# UFPR - Econometria\n",
    "> **Autor: Eduardo Mariot Araujo**\n",
    "---\n",
    "# Primeiro Relatório: Teste de Hipótese e Regressão Linear.\n",
    "* Amostra: Alunos de Ciências Econômicas que realizaram o exame em 2018. \n",
    "* Objetivo: Apontar se existe diferença de desempenho médio dos alunos do turno matutino, em relação ao turno noturno.\n",
    "* Dataset (Enade/2018): https://www.gov.br/inep/pt-br/acesso-a-informacao/dados-abertos/microdados/enade\n",
    "\n",
    "\n",
    "---"
   ]
  },
  {
   "cell_type": "code",
   "execution_count": 1,
   "id": "sufficient-booking",
   "metadata": {},
   "outputs": [
    {
     "name": "stdout",
     "output_type": "stream",
     "text": [
      "Data: Wed May 19 08:36:15 2021"
     ]
    }
   ],
   "source": [
    "cat(\"Data:\", date())"
   ]
  },
  {
   "cell_type": "code",
   "execution_count": 2,
   "id": "metric-montreal",
   "metadata": {},
   "outputs": [
    {
     "name": "stdout",
     "output_type": "stream",
     "text": [
      "Versão: R version 3.6.1 (2019-07-05)"
     ]
    }
   ],
   "source": [
    "cat(\"Versão:\", R.version.string)"
   ]
  },
  {
   "cell_type": "markdown",
   "id": "announced-estonia",
   "metadata": {},
   "source": [
    "# Desempenho dos alunos do curso de Ciências Econômicas no Enade 2018"
   ]
  },
  {
   "cell_type": "markdown",
   "id": "pacific-state",
   "metadata": {},
   "source": [
    "<img src=\"img/enade.PNG\">"
   ]
  },
  {
   "cell_type": "markdown",
   "id": "nominated-london",
   "metadata": {},
   "source": [
    "## Escopo do trabalho:\n",
    "O objetivo deste relatório é analisar os dados dos alunos de **Ciências Econômicas** dos turnos matutino e noturno, que realizaram o Enade 2018, e apontar se existe diferênça significativa de desempenho, tendo como base as notas gerais dos alunos. Para este fim, utilizaremos análises estatísticas e a linguagem R para manipulação, análise e visualização dos dados. "
   ]
  },
  {
   "cell_type": "markdown",
   "id": "personalized-edition",
   "metadata": {},
   "source": [
    "## Respostas:\n",
    "1. A que nível de significância posso rejeitar que não existem diferenças entre o desempenho médio dos alunos do noturno e do diurno?\n",
    "* Adotamos o nível padrão de 0.05 para rejeitar a hipótese nula.\n",
    "2. Qual a relação entre o intercepto estimado da regressão linear simples e a média geral do desempenho? Porque poderíamos esperar esta relação?\n",
    "* O coeficiente negativo significa que a diferênça de turno leva a uma queda de aproximadamente -4.8 na média geral do aluno. Suponho que esta relação se deva pela diferença entre as médias dos alunos, como esta demonstrado ao longo do relatório.\n",
    "3. O que acha que pode explicar a diferença de desempenho?\n",
    "* O modelo apenas nos provou que a turma matutina tem, em média, uma diferênça de aproximadamente 5 pontos a mais na média geral da amostra. Existem vários fatores que poderíamos buscar para poder responder esta questão e incrementar o modelo, como, por exemplo: idade, gênero, estado civil, número de filhos e demais dados demográficos. Além disso, fatores qualitativos, como: qualidade do sono ou tempo de estudo, por exemplo, poderia nos ajudar a formular boas hipóteses.  \n"
   ]
  },
  {
   "cell_type": "markdown",
   "id": "effective-light",
   "metadata": {},
   "source": [
    "# Carregamento dos pacotes:"
   ]
  },
  {
   "cell_type": "code",
   "execution_count": 4,
   "id": "plain-medicare",
   "metadata": {},
   "outputs": [],
   "source": [
    "library(dplyr)\n",
    "library(ggplot2)\n",
    "library(gplots)\n",
    "library(cowplot)\n",
    "library(graphics)\n",
    "library(lmtest)\n",
    "library(ggpubr)"
   ]
  },
  {
   "cell_type": "markdown",
   "id": "known-holder",
   "metadata": {},
   "source": [
    "# Carregamento do Dataset:"
   ]
  },
  {
   "cell_type": "code",
   "execution_count": 5,
   "id": "brief-baptist",
   "metadata": {},
   "outputs": [
    {
     "data": {
      "text/html": [
       "<table>\n",
       "<thead><tr><th scope=col>NU_ANO</th><th scope=col>CO_IES</th><th scope=col>CO_CATEGAD</th><th scope=col>CO_ORGACAD</th><th scope=col>CO_GRUPO</th><th scope=col>CO_CURSO</th><th scope=col>CO_MODALIDADE</th><th scope=col>CO_MUNIC_CURSO</th><th scope=col>CO_UF_CURSO</th><th scope=col>CO_REGIAO_CURSO</th><th scope=col>...</th><th scope=col>QE_I59</th><th scope=col>QE_I60</th><th scope=col>QE_I61</th><th scope=col>QE_I62</th><th scope=col>QE_I63</th><th scope=col>QE_I64</th><th scope=col>QE_I65</th><th scope=col>QE_I66</th><th scope=col>QE_I67</th><th scope=col>QE_I68</th></tr></thead>\n",
       "<tbody>\n",
       "\t<tr><td>2018   </td><td>1356   </td><td>10003  </td><td>10020  </td><td>1      </td><td>47116  </td><td>1      </td><td>3546603</td><td>35     </td><td>3      </td><td>...    </td><td>6      </td><td>6      </td><td>6      </td><td>6      </td><td>6      </td><td>6      </td><td>6      </td><td>6      </td><td>6      </td><td>5      </td></tr>\n",
       "\t<tr><td>2018   </td><td>1356   </td><td>10003  </td><td>10020  </td><td>1      </td><td>47116  </td><td>1      </td><td>3546603</td><td>35     </td><td>3      </td><td>...    </td><td>6      </td><td>6      </td><td>6      </td><td>6      </td><td>6      </td><td>6      </td><td>6      </td><td>6      </td><td>6      </td><td>6      </td></tr>\n",
       "\t<tr><td>2018   </td><td>1356   </td><td>10003  </td><td>10020  </td><td>1      </td><td>47116  </td><td>1      </td><td>3546603</td><td>35     </td><td>3      </td><td>...    </td><td>6      </td><td>6      </td><td>6      </td><td>6      </td><td>6      </td><td>6      </td><td>6      </td><td>6      </td><td>6      </td><td>5      </td></tr>\n",
       "\t<tr><td>2018   </td><td>1356   </td><td>10003  </td><td>10020  </td><td>1      </td><td>47116  </td><td>1      </td><td>3546603</td><td>35     </td><td>3      </td><td>...    </td><td>6      </td><td>6      </td><td>6      </td><td>6      </td><td>5      </td><td>6      </td><td>6      </td><td>6      </td><td>6      </td><td>4      </td></tr>\n",
       "\t<tr><td>2018   </td><td>1356   </td><td>10003  </td><td>10020  </td><td>1      </td><td>47116  </td><td>1      </td><td>3546603</td><td>35     </td><td>3      </td><td>...    </td><td>6      </td><td>6      </td><td>6      </td><td>6      </td><td>6      </td><td>6      </td><td>6      </td><td>6      </td><td>6      </td><td>6      </td></tr>\n",
       "\t<tr><td>2018   </td><td>1356   </td><td>10003  </td><td>10020  </td><td>1      </td><td>47116  </td><td>1      </td><td>3546603</td><td>35     </td><td>3      </td><td>...    </td><td>6      </td><td>5      </td><td>6      </td><td>6      </td><td>6      </td><td>6      </td><td>6      </td><td>6      </td><td>6      </td><td>5      </td></tr>\n",
       "</tbody>\n",
       "</table>\n"
      ],
      "text/latex": [
       "\\begin{tabular}{r|lllllllllllllllllllllllllllllllllllllllllllllllllllllllllllllllllllllllllllllllllllllllllllllllllllllllllllllllllllllllllllllllllllllllll}\n",
       " NU\\_ANO & CO\\_IES & CO\\_CATEGAD & CO\\_ORGACAD & CO\\_GRUPO & CO\\_CURSO & CO\\_MODALIDADE & CO\\_MUNIC\\_CURSO & CO\\_UF\\_CURSO & CO\\_REGIAO\\_CURSO & ... & QE\\_I59 & QE\\_I60 & QE\\_I61 & QE\\_I62 & QE\\_I63 & QE\\_I64 & QE\\_I65 & QE\\_I66 & QE\\_I67 & QE\\_I68\\\\\n",
       "\\hline\n",
       "\t 2018    & 1356    & 10003   & 10020   & 1       & 47116   & 1       & 3546603 & 35      & 3       & ...     & 6       & 6       & 6       & 6       & 6       & 6       & 6       & 6       & 6       & 5      \\\\\n",
       "\t 2018    & 1356    & 10003   & 10020   & 1       & 47116   & 1       & 3546603 & 35      & 3       & ...     & 6       & 6       & 6       & 6       & 6       & 6       & 6       & 6       & 6       & 6      \\\\\n",
       "\t 2018    & 1356    & 10003   & 10020   & 1       & 47116   & 1       & 3546603 & 35      & 3       & ...     & 6       & 6       & 6       & 6       & 6       & 6       & 6       & 6       & 6       & 5      \\\\\n",
       "\t 2018    & 1356    & 10003   & 10020   & 1       & 47116   & 1       & 3546603 & 35      & 3       & ...     & 6       & 6       & 6       & 6       & 5       & 6       & 6       & 6       & 6       & 4      \\\\\n",
       "\t 2018    & 1356    & 10003   & 10020   & 1       & 47116   & 1       & 3546603 & 35      & 3       & ...     & 6       & 6       & 6       & 6       & 6       & 6       & 6       & 6       & 6       & 6      \\\\\n",
       "\t 2018    & 1356    & 10003   & 10020   & 1       & 47116   & 1       & 3546603 & 35      & 3       & ...     & 6       & 5       & 6       & 6       & 6       & 6       & 6       & 6       & 6       & 5      \\\\\n",
       "\\end{tabular}\n"
      ],
      "text/markdown": [
       "\n",
       "| NU_ANO | CO_IES | CO_CATEGAD | CO_ORGACAD | CO_GRUPO | CO_CURSO | CO_MODALIDADE | CO_MUNIC_CURSO | CO_UF_CURSO | CO_REGIAO_CURSO | ... | QE_I59 | QE_I60 | QE_I61 | QE_I62 | QE_I63 | QE_I64 | QE_I65 | QE_I66 | QE_I67 | QE_I68 |\n",
       "|---|---|---|---|---|---|---|---|---|---|---|---|---|---|---|---|---|---|---|---|---|\n",
       "| 2018    | 1356    | 10003   | 10020   | 1       | 47116   | 1       | 3546603 | 35      | 3       | ...     | 6       | 6       | 6       | 6       | 6       | 6       | 6       | 6       | 6       | 5       |\n",
       "| 2018    | 1356    | 10003   | 10020   | 1       | 47116   | 1       | 3546603 | 35      | 3       | ...     | 6       | 6       | 6       | 6       | 6       | 6       | 6       | 6       | 6       | 6       |\n",
       "| 2018    | 1356    | 10003   | 10020   | 1       | 47116   | 1       | 3546603 | 35      | 3       | ...     | 6       | 6       | 6       | 6       | 6       | 6       | 6       | 6       | 6       | 5       |\n",
       "| 2018    | 1356    | 10003   | 10020   | 1       | 47116   | 1       | 3546603 | 35      | 3       | ...     | 6       | 6       | 6       | 6       | 5       | 6       | 6       | 6       | 6       | 4       |\n",
       "| 2018    | 1356    | 10003   | 10020   | 1       | 47116   | 1       | 3546603 | 35      | 3       | ...     | 6       | 6       | 6       | 6       | 6       | 6       | 6       | 6       | 6       | 6       |\n",
       "| 2018    | 1356    | 10003   | 10020   | 1       | 47116   | 1       | 3546603 | 35      | 3       | ...     | 6       | 5       | 6       | 6       | 6       | 6       | 6       | 6       | 6       | 5       |\n",
       "\n"
      ],
      "text/plain": [
       "  NU_ANO CO_IES CO_CATEGAD CO_ORGACAD CO_GRUPO CO_CURSO CO_MODALIDADE\n",
       "1 2018   1356   10003      10020      1        47116    1            \n",
       "2 2018   1356   10003      10020      1        47116    1            \n",
       "3 2018   1356   10003      10020      1        47116    1            \n",
       "4 2018   1356   10003      10020      1        47116    1            \n",
       "5 2018   1356   10003      10020      1        47116    1            \n",
       "6 2018   1356   10003      10020      1        47116    1            \n",
       "  CO_MUNIC_CURSO CO_UF_CURSO CO_REGIAO_CURSO ... QE_I59 QE_I60 QE_I61 QE_I62\n",
       "1 3546603        35          3               ... 6      6      6      6     \n",
       "2 3546603        35          3               ... 6      6      6      6     \n",
       "3 3546603        35          3               ... 6      6      6      6     \n",
       "4 3546603        35          3               ... 6      6      6      6     \n",
       "5 3546603        35          3               ... 6      6      6      6     \n",
       "6 3546603        35          3               ... 6      5      6      6     \n",
       "  QE_I63 QE_I64 QE_I65 QE_I66 QE_I67 QE_I68\n",
       "1 6      6      6      6      6      5     \n",
       "2 6      6      6      6      6      6     \n",
       "3 6      6      6      6      6      5     \n",
       "4 5      6      6      6      6      4     \n",
       "5 6      6      6      6      6      6     \n",
       "6 6      6      6      6      6      5     "
      ]
     },
     "metadata": {},
     "output_type": "display_data"
    }
   ],
   "source": [
    "data = read.table(\"dataset/enade.txt\",sep=\";\", dec = \",\", header = TRUE)\n",
    "head(data)"
   ]
  },
  {
   "cell_type": "markdown",
   "id": "senior-sitting",
   "metadata": {},
   "source": [
    "# Análise das variáveis, dimensões e tipos:"
   ]
  },
  {
   "cell_type": "code",
   "execution_count": 6,
   "id": "adequate-chapel",
   "metadata": {},
   "outputs": [
    {
     "data": {
      "text/html": [
       "<ol class=list-inline>\n",
       "\t<li>548127</li>\n",
       "\t<li>137</li>\n",
       "</ol>\n"
      ],
      "text/latex": [
       "\\begin{enumerate*}\n",
       "\\item 548127\n",
       "\\item 137\n",
       "\\end{enumerate*}\n"
      ],
      "text/markdown": [
       "1. 548127\n",
       "2. 137\n",
       "\n",
       "\n"
      ],
      "text/plain": [
       "[1] 548127    137"
      ]
     },
     "metadata": {},
     "output_type": "display_data"
    },
    {
     "name": "stdout",
     "output_type": "stream",
     "text": [
      "'data.frame':\t548127 obs. of  137 variables:\n",
      " $ NU_ANO            : int  2018 2018 2018 2018 2018 2018 2018 2018 2018 2018 ...\n",
      " $ CO_IES            : int  1356 1356 1356 1356 1356 1356 1356 1356 1356 1356 ...\n",
      " $ CO_CATEGAD        : int  10003 10003 10003 10003 10003 10003 10003 10003 10003 10003 ...\n",
      " $ CO_ORGACAD        : int  10020 10020 10020 10020 10020 10020 10020 10020 10020 10020 ...\n",
      " $ CO_GRUPO          : int  1 1 1 1 1 1 1 1 1 1 ...\n",
      " $ CO_CURSO          : int  47116 47116 47116 47116 47116 47116 47116 47116 47116 47116 ...\n",
      " $ CO_MODALIDADE     : int  1 1 1 1 1 1 1 1 1 1 ...\n",
      " $ CO_MUNIC_CURSO    : int  3546603 3546603 3546603 3546603 3546603 3546603 3546603 3546603 3546603 3546603 ...\n",
      " $ CO_UF_CURSO       : int  35 35 35 35 35 35 35 35 35 35 ...\n",
      " $ CO_REGIAO_CURSO   : int  3 3 3 3 3 3 3 3 3 3 ...\n",
      " $ NU_IDADE          : int  22 49 23 25 22 22 22 22 25 21 ...\n",
      " $ TP_SEXO           : Factor w/ 2 levels \"F\",\"M\": 2 1 2 2 1 2 2 1 2 1 ...\n",
      " $ ANO_FIM_EM        : int  2013 1988 2013 2011 2014 2014 2014 2014 2011 2014 ...\n",
      " $ ANO_IN_GRAD       : int  2015 2015 2015 2015 2015 2015 2015 2015 2015 2015 ...\n",
      " $ CO_TURNO_GRADUACAO: int  4 4 4 4 4 4 4 4 4 4 ...\n",
      " $ TP_INSCRICAO_ADM  : int  0 0 0 0 0 0 0 0 0 0 ...\n",
      " $ TP_INSCRICAO      : int  0 0 0 0 0 0 0 0 0 0 ...\n",
      " $ NU_ITEM_OFG       : int  8 8 8 8 8 8 8 8 8 8 ...\n",
      " $ NU_ITEM_OFG_Z     : int  0 0 0 0 0 0 0 0 0 0 ...\n",
      " $ NU_ITEM_OFG_X     : int  0 0 0 0 0 0 0 0 0 0 ...\n",
      " $ NU_ITEM_OFG_N     : int  0 0 0 0 0 0 0 0 0 0 ...\n",
      " $ NU_ITEM_OCE       : int  27 27 27 27 27 27 27 27 27 27 ...\n",
      " $ NU_ITEM_OCE_Z     : int  1 1 1 1 1 1 1 1 1 1 ...\n",
      " $ NU_ITEM_OCE_X     : int  8 8 8 8 8 8 8 8 8 8 ...\n",
      " $ NU_ITEM_OCE_N     : int  0 0 0 0 0 0 0 0 0 0 ...\n",
      " $ DS_VT_GAB_OFG_ORIG: Factor w/ 1 level \"CACBEBDE\": 1 1 1 1 1 1 1 1 1 1 ...\n",
      " $ DS_VT_GAB_OFG_FIN : Factor w/ 1 level \"CACBEBDE\": 1 1 1 1 1 1 1 1 1 1 ...\n",
      " $ DS_VT_GAB_OCE_ORIG: Factor w/ 27 levels \"ABBCCBDEBDCADDEDCACEAAECDCE\",..: 2 2 2 2 2 2 2 2 2 2 ...\n",
      " $ DS_VT_GAB_OCE_FIN : Factor w/ 27 levels \"ABXXCXDEBDCADXEDCACEAAECDCE\",..: 26 26 26 26 26 26 26 26 26 26 ...\n",
      " $ DS_VT_ESC_OFG     : Factor w/ 102007 levels \"\",\"********\",..: 47683 44517 42984 19569 45276 58010 43963 47684 2477 74465 ...\n",
      " $ DS_VT_ACE_OFG     : int  11100010 11001011 11000101 1000100 11010101 10001100 11000101 11100011 1000111 1111101 ...\n",
      " $ DS_VT_ESC_OCE     : Factor w/ 460676 levels \"\",\"***************************\",..: 134462 166783 310226 122176 231831 131728 206930 341393 113041 124111 ...\n",
      " $ DS_VT_ACE_OCE     : num  9.91e+26 9.91e+26 9.91e+26 9.91e+26 9.91e+26 ...\n",
      " $ TP_PRES           : int  555 555 555 555 555 555 555 555 555 555 ...\n",
      " $ TP_PR_GER         : int  555 555 555 555 555 555 555 555 555 555 ...\n",
      " $ TP_PR_OB_FG       : int  555 555 555 555 555 555 555 555 555 555 ...\n",
      " $ TP_PR_DI_FG       : int  555 555 555 555 555 555 555 555 333 555 ...\n",
      " $ TP_PR_OB_CE       : int  555 555 555 555 555 555 555 555 555 555 ...\n",
      " $ TP_PR_DI_CE       : int  555 555 555 555 555 555 555 333 555 555 ...\n",
      " $ TP_SFG_D1         : int  555 555 555 336 555 555 555 555 333 555 ...\n",
      " $ TP_SFG_D2         : int  555 555 555 333 555 333 555 555 333 555 ...\n",
      " $ TP_SCE_D1         : int  333 555 555 333 555 555 555 333 336 555 ...\n",
      " $ TP_SCE_D2         : int  333 555 555 555 555 555 555 333 336 555 ...\n",
      " $ TP_SCE_D3         : int  555 555 555 333 555 333 555 333 336 555 ...\n",
      " $ NT_GER            : num  42.8 59.3 60.9 25 42.4 40 55.1 38.7 50 50.6 ...\n",
      " $ NT_FG             : num  50.6 57.9 47.2 15 58.1 26.3 39.2 55.5 30 59.8 ...\n",
      " $ NT_OBJ_FG         : num  50 62.5 50 25 62.5 37.5 50 62.5 50 75 ...\n",
      " $ NT_DIS_FG         : num  51.5 51 43 0 51.5 9.5 23 45 0 37 ...\n",
      " $ NT_FG_D1          : int  63 55 33 0 42 19 36 47 0 48 ...\n",
      " $ NT_FG_D1_PT       : int  75 75 65 0 50 55 60 55 0 60 ...\n",
      " $ NT_FG_D1_CT       : int  60 50 25 0 40 10 30 45 0 45 ...\n",
      " $ NT_FG_D2          : int  40 47 53 0 61 0 10 43 0 26 ...\n",
      " $ NT_FG_D2_PT       : int  60 55 65 0 65 0 50 75 0 50 ...\n",
      " $ NT_FG_D2_CT       : int  35 45 50 0 60 0 0 35 0 20 ...\n",
      " $ NT_CE             : num  40.2 59.7 65.4 28.3 37.1 44.5 60.4 33.1 56.7 47.5 ...\n",
      " $ NT_OBJ_CE         : num  44.4 66.7 72.2 33.3 38.9 50 61.1 38.9 66.7 50 ...\n",
      " $ NT_DIS_CE         : num  16.7 20 26.7 0 26.7 13.3 56.7 0 0 33.3 ...\n",
      " $ NT_CE_D1          : int  0 40 40 0 40 40 40 0 0 30 ...\n",
      " $ NT_CE_D2          : int  0 20 40 0 40 0 80 0 0 20 ...\n",
      " $ NT_CE_D3          : int  50 0 0 0 0 0 50 0 0 50 ...\n",
      " $ CO_RS_I1          : Factor w/ 8 levels \"\",\"*\",\".\",\"A\",..: 7 5 6 7 7 7 6 7 6 6 ...\n",
      " $ CO_RS_I2          : Factor w/ 8 levels \"\",\"*\",\".\",\"A\",..: 7 6 6 6 7 7 6 7 6 7 ...\n",
      " $ CO_RS_I3          : Factor w/ 8 levels \"\",\"*\",\".\",\"A\",..: 6 4 6 8 4 7 5 6 6 6 ...\n",
      " $ CO_RS_I4          : Factor w/ 8 levels \"\",\"*\",\".\",\"A\",..: 4 4 5 5 6 4 5 5 5 5 ...\n",
      " $ CO_RS_I5          : Factor w/ 8 levels \"\",\"*\",\".\",\"A\",..: 4 6 5 5 5 4 5 5 5 5 ...\n",
      " $ CO_RS_I6          : Factor w/ 8 levels \"\",\"*\",\".\",\"A\",..: 6 5 6 5 7 4 7 6 6 6 ...\n",
      " $ CO_RS_I7          : Factor w/ 8 levels \"\",\"*\",\".\",\"A\",..: 4 5 5 5 4 6 5 5 8 5 ...\n",
      " $ CO_RS_I8          : Factor w/ 8 levels \"\",\"*\",\".\",\"A\",..: 7 7 7 7 7 7 6 7 8 7 ...\n",
      " $ CO_RS_I9          : Factor w/ 8 levels \"\",\"*\",\".\",\"A\",..: 7 7 7 8 8 8 7 8 7 7 ...\n",
      " $ QE_I01            : Factor w/ 6 levels \"\",\"A\",\"B\",\"C\",..: 2 3 2 2 2 2 2 2 2 2 ...\n",
      " $ QE_I02            : Factor w/ 7 levels \"\",\"A\",\"B\",\"C\",..: 5 2 2 2 3 2 2 2 2 5 ...\n",
      " $ QE_I03            : Factor w/ 4 levels \"\",\"A\",\"B\",\"C\": 2 2 2 2 2 2 2 2 2 2 ...\n",
      " $ QE_I04            : Factor w/ 7 levels \"\",\"A\",\"B\",\"C\",..: 5 3 5 5 4 5 5 5 4 4 ...\n",
      " $ QE_I05            : Factor w/ 7 levels \"\",\"A\",\"B\",\"C\",..: 5 3 5 5 4 5 7 5 4 4 ...\n",
      " $ QE_I06            : Factor w/ 7 levels \"\",\"A\",\"B\",\"C\",..: 3 4 3 3 3 2 3 3 3 3 ...\n",
      " $ QE_I07            : Factor w/ 9 levels \"\",\"A\",\"B\",\"C\",..: 6 5 6 5 5 2 5 5 6 6 ...\n",
      " $ QE_I08            : Factor w/ 8 levels \"\",\"A\",\"B\",\"C\",..: 4 5 6 5 6 7 6 4 3 4 ...\n",
      " $ QE_I09            : Factor w/ 7 levels \"\",\"A\",\"B\",\"C\",..: 3 6 5 5 5 4 5 4 6 3 ...\n",
      " $ QE_I10            : Factor w/ 6 levels \"\",\"A\",\"B\",\"C\",..: 2 6 6 2 2 6 6 2 6 2 ...\n",
      " $ QE_I11            : Factor w/ 12 levels \"\",\"A\",\"B\",\"C\",..: 9 9 9 9 9 9 9 9 8 9 ...\n",
      " $ QE_I12            : Factor w/ 7 levels \"\",\"A\",\"B\",\"C\",..: 2 2 2 2 2 2 2 2 2 2 ...\n",
      " $ QE_I13            : Factor w/ 7 levels \"\",\"A\",\"B\",\"C\",..: 5 5 3 3 2 2 3 3 2 5 ...\n",
      " $ QE_I14            : Factor w/ 7 levels \"\",\"A\",\"B\",\"C\",..: 2 7 2 2 2 2 6 2 2 2 ...\n",
      " $ QE_I15            : Factor w/ 7 levels \"\",\"A\",\"B\",\"C\",..: 2 2 2 2 2 2 2 2 2 2 ...\n",
      " $ QE_I16            : int  50 35 35 35 35 35 35 35 35 35 ...\n",
      " $ QE_I17            : Factor w/ 7 levels \"\",\"A\",\"B\",\"C\",..: 2 2 2 2 2 2 2 2 2 2 ...\n",
      " $ QE_I18            : Factor w/ 6 levels \"\",\"A\",\"B\",\"C\",..: 2 4 2 2 2 2 2 2 2 2 ...\n",
      " $ QE_I19            : Factor w/ 8 levels \"\",\"A\",\"B\",\"C\",..: 3 4 3 3 3 3 3 3 3 3 ...\n",
      " $ QE_I20            : Factor w/ 12 levels \"\",\"A\",\"B\",\"C\",..: 10 9 2 2 9 7 9 10 4 9 ...\n",
      " $ QE_I21            : Factor w/ 3 levels \"\",\"A\",\"B\": 2 2 3 2 3 3 2 3 2 3 ...\n",
      " $ QE_I22            : Factor w/ 6 levels \"\",\"A\",\"B\",\"C\",..: 3 4 5 6 3 5 6 5 5 5 ...\n",
      " $ QE_I23            : Factor w/ 6 levels \"\",\"A\",\"B\",\"C\",..: 3 4 5 6 3 4 5 4 4 5 ...\n",
      " $ QE_I24            : Factor w/ 6 levels \"\",\"A\",\"B\",\"C\",..: 2 2 3 2 2 2 2 2 6 2 ...\n",
      " $ QE_I25            : Factor w/ 9 levels \"\",\"A\",\"B\",\"C\",..: 4 2 4 2 2 3 4 6 4 2 ...\n",
      " $ QE_I26            : Factor w/ 6 levels \"\",\"A\",\"B\",\"C\",..: 1 1 1 4 1 1 1 1 1 1 ...\n",
      " $ QE_I27            : int  6 6 6 6 6 6 6 6 6 6 ...\n",
      " $ QE_I28            : int  6 6 6 6 6 6 6 6 6 6 ...\n",
      " $ QE_I29            : int  6 6 6 6 6 6 6 6 6 6 ...\n",
      " $ QE_I30            : int  6 6 6 6 6 6 6 6 6 6 ...\n",
      "  [list output truncated]\n"
     ]
    }
   ],
   "source": [
    "dim(data)\n",
    "str(data)"
   ]
  },
  {
   "cell_type": "markdown",
   "id": "interracial-agenda",
   "metadata": {},
   "source": [
    "# Filtrando os alunos de Ciências Econômicas que fizeram o Enade\n",
    "## Caminho:\n",
    "> Ciências Econômicas(cód.:13); TP_PRES (cód:555). "
   ]
  },
  {
   "cell_type": "code",
   "execution_count": 7,
   "id": "alive-demonstration",
   "metadata": {},
   "outputs": [
    {
     "data": {
      "text/html": [
       "<table>\n",
       "<thead><tr><th></th><th scope=col>NU_ANO</th><th scope=col>CO_IES</th><th scope=col>CO_CATEGAD</th><th scope=col>CO_ORGACAD</th><th scope=col>CO_GRUPO</th><th scope=col>CO_CURSO</th><th scope=col>CO_MODALIDADE</th><th scope=col>CO_MUNIC_CURSO</th><th scope=col>CO_UF_CURSO</th><th scope=col>CO_REGIAO_CURSO</th><th scope=col>...</th><th scope=col>QE_I59</th><th scope=col>QE_I60</th><th scope=col>QE_I61</th><th scope=col>QE_I62</th><th scope=col>QE_I63</th><th scope=col>QE_I64</th><th scope=col>QE_I65</th><th scope=col>QE_I66</th><th scope=col>QE_I67</th><th scope=col>QE_I68</th></tr></thead>\n",
       "<tbody>\n",
       "\t<tr><th scope=row>161</th><td>2018   </td><td>1780   </td><td>10008  </td><td>10022  </td><td>13     </td><td>81867  </td><td>1      </td><td>4309605</td><td>43     </td><td>4      </td><td>...    </td><td>6      </td><td>6      </td><td>6      </td><td>6      </td><td>6      </td><td>6      </td><td>6      </td><td>6      </td><td>6      </td><td>6      </td></tr>\n",
       "\t<tr><th scope=row>162</th><td>2018   </td><td>1780   </td><td>10008  </td><td>10022  </td><td>13     </td><td>81867  </td><td>1      </td><td>4309605</td><td>43     </td><td>4      </td><td>...    </td><td>6      </td><td>6      </td><td>6      </td><td>6      </td><td>6      </td><td>6      </td><td>6      </td><td>6      </td><td>6      </td><td>6      </td></tr>\n",
       "\t<tr><th scope=row>163</th><td>2018   </td><td>1780   </td><td>10008  </td><td>10022  </td><td>13     </td><td>81867  </td><td>1      </td><td>4309605</td><td>43     </td><td>4      </td><td>...    </td><td>6      </td><td>6      </td><td>6      </td><td>6      </td><td>6      </td><td>6      </td><td>6      </td><td>6      </td><td>6      </td><td>6      </td></tr>\n",
       "\t<tr><th scope=row>164</th><td>2018   </td><td>1780   </td><td>10008  </td><td>10022  </td><td>13     </td><td>81867  </td><td>1      </td><td>4309605</td><td>43     </td><td>4      </td><td>...    </td><td>6      </td><td>6      </td><td>6      </td><td>6      </td><td>6      </td><td>6      </td><td>6      </td><td>6      </td><td>6      </td><td>6      </td></tr>\n",
       "\t<tr><th scope=row>165</th><td>2018   </td><td>1780   </td><td>10008  </td><td>10022  </td><td>13     </td><td>81867  </td><td>1      </td><td>4309605</td><td>43     </td><td>4      </td><td>...    </td><td>6      </td><td>6      </td><td>6      </td><td>6      </td><td>6      </td><td>6      </td><td>6      </td><td>6      </td><td>6      </td><td>6      </td></tr>\n",
       "\t<tr><th scope=row>166</th><td>2018   </td><td>1780   </td><td>10008  </td><td>10022  </td><td>13     </td><td>81867  </td><td>1      </td><td>4309605</td><td>43     </td><td>4      </td><td>...    </td><td>6      </td><td>6      </td><td>6      </td><td>6      </td><td>6      </td><td>6      </td><td>6      </td><td>6      </td><td>6      </td><td>6      </td></tr>\n",
       "</tbody>\n",
       "</table>\n"
      ],
      "text/latex": [
       "\\begin{tabular}{r|lllllllllllllllllllllllllllllllllllllllllllllllllllllllllllllllllllllllllllllllllllllllllllllllllllllllllllllllllllllllllllllllllllllllll}\n",
       "  & NU\\_ANO & CO\\_IES & CO\\_CATEGAD & CO\\_ORGACAD & CO\\_GRUPO & CO\\_CURSO & CO\\_MODALIDADE & CO\\_MUNIC\\_CURSO & CO\\_UF\\_CURSO & CO\\_REGIAO\\_CURSO & ... & QE\\_I59 & QE\\_I60 & QE\\_I61 & QE\\_I62 & QE\\_I63 & QE\\_I64 & QE\\_I65 & QE\\_I66 & QE\\_I67 & QE\\_I68\\\\\n",
       "\\hline\n",
       "\t161 & 2018    & 1780    & 10008   & 10022   & 13      & 81867   & 1       & 4309605 & 43      & 4       & ...     & 6       & 6       & 6       & 6       & 6       & 6       & 6       & 6       & 6       & 6      \\\\\n",
       "\t162 & 2018    & 1780    & 10008   & 10022   & 13      & 81867   & 1       & 4309605 & 43      & 4       & ...     & 6       & 6       & 6       & 6       & 6       & 6       & 6       & 6       & 6       & 6      \\\\\n",
       "\t163 & 2018    & 1780    & 10008   & 10022   & 13      & 81867   & 1       & 4309605 & 43      & 4       & ...     & 6       & 6       & 6       & 6       & 6       & 6       & 6       & 6       & 6       & 6      \\\\\n",
       "\t164 & 2018    & 1780    & 10008   & 10022   & 13      & 81867   & 1       & 4309605 & 43      & 4       & ...     & 6       & 6       & 6       & 6       & 6       & 6       & 6       & 6       & 6       & 6      \\\\\n",
       "\t165 & 2018    & 1780    & 10008   & 10022   & 13      & 81867   & 1       & 4309605 & 43      & 4       & ...     & 6       & 6       & 6       & 6       & 6       & 6       & 6       & 6       & 6       & 6      \\\\\n",
       "\t166 & 2018    & 1780    & 10008   & 10022   & 13      & 81867   & 1       & 4309605 & 43      & 4       & ...     & 6       & 6       & 6       & 6       & 6       & 6       & 6       & 6       & 6       & 6      \\\\\n",
       "\\end{tabular}\n"
      ],
      "text/markdown": [
       "\n",
       "| <!--/--> | NU_ANO | CO_IES | CO_CATEGAD | CO_ORGACAD | CO_GRUPO | CO_CURSO | CO_MODALIDADE | CO_MUNIC_CURSO | CO_UF_CURSO | CO_REGIAO_CURSO | ... | QE_I59 | QE_I60 | QE_I61 | QE_I62 | QE_I63 | QE_I64 | QE_I65 | QE_I66 | QE_I67 | QE_I68 |\n",
       "|---|---|---|---|---|---|---|---|---|---|---|---|---|---|---|---|---|---|---|---|---|---|\n",
       "| 161 | 2018    | 1780    | 10008   | 10022   | 13      | 81867   | 1       | 4309605 | 43      | 4       | ...     | 6       | 6       | 6       | 6       | 6       | 6       | 6       | 6       | 6       | 6       |\n",
       "| 162 | 2018    | 1780    | 10008   | 10022   | 13      | 81867   | 1       | 4309605 | 43      | 4       | ...     | 6       | 6       | 6       | 6       | 6       | 6       | 6       | 6       | 6       | 6       |\n",
       "| 163 | 2018    | 1780    | 10008   | 10022   | 13      | 81867   | 1       | 4309605 | 43      | 4       | ...     | 6       | 6       | 6       | 6       | 6       | 6       | 6       | 6       | 6       | 6       |\n",
       "| 164 | 2018    | 1780    | 10008   | 10022   | 13      | 81867   | 1       | 4309605 | 43      | 4       | ...     | 6       | 6       | 6       | 6       | 6       | 6       | 6       | 6       | 6       | 6       |\n",
       "| 165 | 2018    | 1780    | 10008   | 10022   | 13      | 81867   | 1       | 4309605 | 43      | 4       | ...     | 6       | 6       | 6       | 6       | 6       | 6       | 6       | 6       | 6       | 6       |\n",
       "| 166 | 2018    | 1780    | 10008   | 10022   | 13      | 81867   | 1       | 4309605 | 43      | 4       | ...     | 6       | 6       | 6       | 6       | 6       | 6       | 6       | 6       | 6       | 6       |\n",
       "\n"
      ],
      "text/plain": [
       "    NU_ANO CO_IES CO_CATEGAD CO_ORGACAD CO_GRUPO CO_CURSO CO_MODALIDADE\n",
       "161 2018   1780   10008      10022      13       81867    1            \n",
       "162 2018   1780   10008      10022      13       81867    1            \n",
       "163 2018   1780   10008      10022      13       81867    1            \n",
       "164 2018   1780   10008      10022      13       81867    1            \n",
       "165 2018   1780   10008      10022      13       81867    1            \n",
       "166 2018   1780   10008      10022      13       81867    1            \n",
       "    CO_MUNIC_CURSO CO_UF_CURSO CO_REGIAO_CURSO ... QE_I59 QE_I60 QE_I61 QE_I62\n",
       "161 4309605        43          4               ... 6      6      6      6     \n",
       "162 4309605        43          4               ... 6      6      6      6     \n",
       "163 4309605        43          4               ... 6      6      6      6     \n",
       "164 4309605        43          4               ... 6      6      6      6     \n",
       "165 4309605        43          4               ... 6      6      6      6     \n",
       "166 4309605        43          4               ... 6      6      6      6     \n",
       "    QE_I63 QE_I64 QE_I65 QE_I66 QE_I67 QE_I68\n",
       "161 6      6      6      6      6      6     \n",
       "162 6      6      6      6      6      6     \n",
       "163 6      6      6      6      6      6     \n",
       "164 6      6      6      6      6      6     \n",
       "165 6      6      6      6      6      6     \n",
       "166 6      6      6      6      6      6     "
      ]
     },
     "metadata": {},
     "output_type": "display_data"
    },
    {
     "data": {
      "text/html": [
       "<ol class=list-inline>\n",
       "\t<li>8075</li>\n",
       "\t<li>137</li>\n",
       "</ol>\n"
      ],
      "text/latex": [
       "\\begin{enumerate*}\n",
       "\\item 8075\n",
       "\\item 137\n",
       "\\end{enumerate*}\n"
      ],
      "text/markdown": [
       "1. 8075\n",
       "2. 137\n",
       "\n",
       "\n"
      ],
      "text/plain": [
       "[1] 8075  137"
      ]
     },
     "metadata": {},
     "output_type": "display_data"
    }
   ],
   "source": [
    "df = data[data$CO_GRUPO == 13 & data$TP_PRES == 555,]\n",
    "head(df)\n",
    "dim(df)\n"
   ]
  },
  {
   "cell_type": "markdown",
   "id": "bottom-science",
   "metadata": {},
   "source": [
    "# Transformando a variável turno de 'int' para 'factor':"
   ]
  },
  {
   "cell_type": "code",
   "execution_count": 8,
   "id": "incredible-parameter",
   "metadata": {},
   "outputs": [],
   "source": [
    "df$CO_TURNO_GRADUACAO = as.factor(df$CO_TURNO_GRADUACAO)"
   ]
  },
  {
   "cell_type": "markdown",
   "id": "failing-judges",
   "metadata": {},
   "source": [
    "# Atribuindo nomes para as variáveis:\n",
    "* Analisando o sumário das variáveis é possível notar que existem 4 valores missings que precisam ser tratados."
   ]
  },
  {
   "cell_type": "code",
   "execution_count": 9,
   "id": "brave-privacy",
   "metadata": {},
   "outputs": [
    {
     "name": "stdout",
     "output_type": "stream",
     "text": [
      "[1] \"Analisando o sumário de ambas variáveis:\"\n"
     ]
    },
    {
     "data": {
      "text/html": [
       "<dl class=dl-horizontal>\n",
       "\t<dt>1</dt>\n",
       "\t\t<dd>1179</dd>\n",
       "\t<dt>2</dt>\n",
       "\t\t<dd>133</dd>\n",
       "\t<dt>3</dt>\n",
       "\t\t<dd>1956</dd>\n",
       "\t<dt>4</dt>\n",
       "\t\t<dd>4807</dd>\n",
       "</dl>\n"
      ],
      "text/latex": [
       "\\begin{description*}\n",
       "\\item[1] 1179\n",
       "\\item[2] 133\n",
       "\\item[3] 1956\n",
       "\\item[4] 4807\n",
       "\\end{description*}\n"
      ],
      "text/markdown": [
       "1\n",
       ":   11792\n",
       ":   1333\n",
       ":   19564\n",
       ":   4807\n",
       "\n"
      ],
      "text/plain": [
       "   1    2    3    4 \n",
       "1179  133 1956 4807 "
      ]
     },
     "metadata": {},
     "output_type": "display_data"
    },
    {
     "data": {
      "text/plain": [
       "   Min. 1st Qu.  Median    Mean 3rd Qu.    Max.    NA's \n",
       "   0.00   28.90   37.20   38.41   47.00   90.20       4 "
      ]
     },
     "metadata": {},
     "output_type": "display_data"
    }
   ],
   "source": [
    "colnames(df)[15] = 'turno'\n",
    "colnames(df)[45] = 'nota_geral'\n",
    "print('Analisando o sumário de ambas variáveis:')\n",
    "summary(df$turno)\n",
    "summary(df$nota_geral)"
   ]
  },
  {
   "cell_type": "markdown",
   "id": "proved-outdoors",
   "metadata": {},
   "source": [
    "# Isolando as variáveis e excluindo os alunos do Vespetino e Integral "
   ]
  },
  {
   "cell_type": "code",
   "execution_count": 10,
   "id": "future-northwest",
   "metadata": {},
   "outputs": [],
   "source": [
    "df = subset(df, turno == 1 | turno == 4, select = c(\"turno\", \"nota_geral\"))"
   ]
  },
  {
   "cell_type": "code",
   "execution_count": 11,
   "id": "palestinian-arbitration",
   "metadata": {},
   "outputs": [
    {
     "data": {
      "text/html": [
       "<ol class=list-inline>\n",
       "\t<li>5986</li>\n",
       "\t<li>2</li>\n",
       "</ol>\n"
      ],
      "text/latex": [
       "\\begin{enumerate*}\n",
       "\\item 5986\n",
       "\\item 2\n",
       "\\end{enumerate*}\n"
      ],
      "text/markdown": [
       "1. 5986\n",
       "2. 2\n",
       "\n",
       "\n"
      ],
      "text/plain": [
       "[1] 5986    2"
      ]
     },
     "metadata": {},
     "output_type": "display_data"
    }
   ],
   "source": [
    "dim(df)"
   ]
  },
  {
   "cell_type": "markdown",
   "id": "equivalent-startup",
   "metadata": {},
   "source": [
    "# Valores missing"
   ]
  },
  {
   "cell_type": "code",
   "execution_count": 12,
   "id": "realistic-taxation",
   "metadata": {},
   "outputs": [
    {
     "name": "stdout",
     "output_type": "stream",
     "text": [
      "[1] \"Restam-nos 3 dimensões com valores missings:\"\n"
     ]
    },
    {
     "data": {
      "text/html": [
       "<dl class=dl-horizontal>\n",
       "\t<dt>turno</dt>\n",
       "\t\t<dd>0</dd>\n",
       "\t<dt>nota_geral</dt>\n",
       "\t\t<dd>3</dd>\n",
       "</dl>\n"
      ],
      "text/latex": [
       "\\begin{description*}\n",
       "\\item[turno] 0\n",
       "\\item[nota\\textbackslash{}\\_geral] 3\n",
       "\\end{description*}\n"
      ],
      "text/markdown": [
       "turno\n",
       ":   0nota_geral\n",
       ":   3\n",
       "\n"
      ],
      "text/plain": [
       "     turno nota_geral \n",
       "         0          3 "
      ]
     },
     "metadata": {},
     "output_type": "display_data"
    }
   ],
   "source": [
    "print(\"Restam-nos 3 dimensões com valores missings:\")\n",
    "sapply(df, function(x) sum(is.na(x)))"
   ]
  },
  {
   "cell_type": "markdown",
   "id": "quiet-channels",
   "metadata": {},
   "source": [
    "# Excluindo valores missings"
   ]
  },
  {
   "cell_type": "code",
   "execution_count": 13,
   "id": "national-output",
   "metadata": {},
   "outputs": [],
   "source": [
    "df = na.omit(df)"
   ]
  },
  {
   "cell_type": "code",
   "execution_count": 14,
   "id": "invalid-training",
   "metadata": {},
   "outputs": [
    {
     "data": {
      "text/html": [
       "<dl class=dl-horizontal>\n",
       "\t<dt>turno</dt>\n",
       "\t\t<dd>0</dd>\n",
       "\t<dt>nota_geral</dt>\n",
       "\t\t<dd>0</dd>\n",
       "</dl>\n"
      ],
      "text/latex": [
       "\\begin{description*}\n",
       "\\item[turno] 0\n",
       "\\item[nota\\textbackslash{}\\_geral] 0\n",
       "\\end{description*}\n"
      ],
      "text/markdown": [
       "turno\n",
       ":   0nota_geral\n",
       ":   0\n",
       "\n"
      ],
      "text/plain": [
       "     turno nota_geral \n",
       "         0          0 "
      ]
     },
     "metadata": {},
     "output_type": "display_data"
    },
    {
     "data": {
      "text/html": [
       "<ol class=list-inline>\n",
       "\t<li>5983</li>\n",
       "\t<li>2</li>\n",
       "</ol>\n"
      ],
      "text/latex": [
       "\\begin{enumerate*}\n",
       "\\item 5983\n",
       "\\item 2\n",
       "\\end{enumerate*}\n"
      ],
      "text/markdown": [
       "1. 5983\n",
       "2. 2\n",
       "\n",
       "\n"
      ],
      "text/plain": [
       "[1] 5983    2"
      ]
     },
     "metadata": {},
     "output_type": "display_data"
    }
   ],
   "source": [
    "sapply(df, function(x) sum(is.na(x)))\n",
    "dim(df)"
   ]
  },
  {
   "cell_type": "code",
   "execution_count": 15,
   "id": "variable-lexington",
   "metadata": {
    "scrolled": true
   },
   "outputs": [
    {
     "data": {
      "text/html": [
       "<table>\n",
       "<thead><tr><th></th><th scope=col>turno</th><th scope=col>nota_geral</th></tr></thead>\n",
       "<tbody>\n",
       "\t<tr><th scope=row>161</th><td>4   </td><td>24.9</td></tr>\n",
       "\t<tr><th scope=row>162</th><td>4   </td><td>25.6</td></tr>\n",
       "\t<tr><th scope=row>163</th><td>4   </td><td>48.7</td></tr>\n",
       "\t<tr><th scope=row>164</th><td>4   </td><td>35.7</td></tr>\n",
       "\t<tr><th scope=row>165</th><td>4   </td><td>33.9</td></tr>\n",
       "\t<tr><th scope=row>166</th><td>4   </td><td>23.5</td></tr>\n",
       "</tbody>\n",
       "</table>\n"
      ],
      "text/latex": [
       "\\begin{tabular}{r|ll}\n",
       "  & turno & nota\\_geral\\\\\n",
       "\\hline\n",
       "\t161 & 4    & 24.9\\\\\n",
       "\t162 & 4    & 25.6\\\\\n",
       "\t163 & 4    & 48.7\\\\\n",
       "\t164 & 4    & 35.7\\\\\n",
       "\t165 & 4    & 33.9\\\\\n",
       "\t166 & 4    & 23.5\\\\\n",
       "\\end{tabular}\n"
      ],
      "text/markdown": [
       "\n",
       "| <!--/--> | turno | nota_geral |\n",
       "|---|---|---|\n",
       "| 161 | 4    | 24.9 |\n",
       "| 162 | 4    | 25.6 |\n",
       "| 163 | 4    | 48.7 |\n",
       "| 164 | 4    | 35.7 |\n",
       "| 165 | 4    | 33.9 |\n",
       "| 166 | 4    | 23.5 |\n",
       "\n"
      ],
      "text/plain": [
       "    turno nota_geral\n",
       "161 4     24.9      \n",
       "162 4     25.6      \n",
       "163 4     48.7      \n",
       "164 4     35.7      \n",
       "165 4     33.9      \n",
       "166 4     23.5      "
      ]
     },
     "metadata": {},
     "output_type": "display_data"
    },
    {
     "data": {
      "text/plain": [
       " turno      nota_geral   \n",
       " 1:1179   Min.   : 0.00  \n",
       " 4:4804   1st Qu.:28.00  \n",
       "          Median :35.80  \n",
       "          Mean   :37.05  \n",
       "          3rd Qu.:45.20  \n",
       "          Max.   :90.20  "
      ]
     },
     "metadata": {},
     "output_type": "display_data"
    }
   ],
   "source": [
    "head(df)\n",
    "df$turno = factor(df$turno)\n",
    "summary(df)"
   ]
  },
  {
   "cell_type": "markdown",
   "id": "cutting-combination",
   "metadata": {},
   "source": [
    "# Criando colunas: id e nota_bi "
   ]
  },
  {
   "cell_type": "code",
   "execution_count": 16,
   "id": "optical-december",
   "metadata": {},
   "outputs": [],
   "source": [
    "levels(df$turno) = c('matutino', 'noturno')"
   ]
  },
  {
   "cell_type": "code",
   "execution_count": 17,
   "id": "behavioral-promotion",
   "metadata": {},
   "outputs": [],
   "source": [
    "df <- df %>% mutate(id = row_number())\n",
    "df <- df[c(\"id\", \"turno\", \"nota_geral\")]"
   ]
  },
  {
   "cell_type": "code",
   "execution_count": 18,
   "id": "cleared-outside",
   "metadata": {},
   "outputs": [],
   "source": [
    "df = mutate(df, turno_bi = ifelse(turno==\"noturno\",1,0))"
   ]
  },
  {
   "cell_type": "markdown",
   "id": "bored-cologne",
   "metadata": {},
   "source": [
    "# Novo dataset tratado para análise:"
   ]
  },
  {
   "cell_type": "code",
   "execution_count": 19,
   "id": "decimal-radio",
   "metadata": {},
   "outputs": [
    {
     "data": {
      "text/html": [
       "<table>\n",
       "<thead><tr><th></th><th scope=col>id</th><th scope=col>turno</th><th scope=col>nota_geral</th><th scope=col>turno_bi</th></tr></thead>\n",
       "<tbody>\n",
       "\t<tr><th scope=row>161</th><td>1      </td><td>noturno</td><td>24.9   </td><td>1      </td></tr>\n",
       "\t<tr><th scope=row>162</th><td>2      </td><td>noturno</td><td>25.6   </td><td>1      </td></tr>\n",
       "\t<tr><th scope=row>163</th><td>3      </td><td>noturno</td><td>48.7   </td><td>1      </td></tr>\n",
       "\t<tr><th scope=row>164</th><td>4      </td><td>noturno</td><td>35.7   </td><td>1      </td></tr>\n",
       "\t<tr><th scope=row>165</th><td>5      </td><td>noturno</td><td>33.9   </td><td>1      </td></tr>\n",
       "\t<tr><th scope=row>166</th><td>6      </td><td>noturno</td><td>23.5   </td><td>1      </td></tr>\n",
       "</tbody>\n",
       "</table>\n"
      ],
      "text/latex": [
       "\\begin{tabular}{r|llll}\n",
       "  & id & turno & nota\\_geral & turno\\_bi\\\\\n",
       "\\hline\n",
       "\t161 & 1       & noturno & 24.9    & 1      \\\\\n",
       "\t162 & 2       & noturno & 25.6    & 1      \\\\\n",
       "\t163 & 3       & noturno & 48.7    & 1      \\\\\n",
       "\t164 & 4       & noturno & 35.7    & 1      \\\\\n",
       "\t165 & 5       & noturno & 33.9    & 1      \\\\\n",
       "\t166 & 6       & noturno & 23.5    & 1      \\\\\n",
       "\\end{tabular}\n"
      ],
      "text/markdown": [
       "\n",
       "| <!--/--> | id | turno | nota_geral | turno_bi |\n",
       "|---|---|---|---|---|\n",
       "| 161 | 1       | noturno | 24.9    | 1       |\n",
       "| 162 | 2       | noturno | 25.6    | 1       |\n",
       "| 163 | 3       | noturno | 48.7    | 1       |\n",
       "| 164 | 4       | noturno | 35.7    | 1       |\n",
       "| 165 | 5       | noturno | 33.9    | 1       |\n",
       "| 166 | 6       | noturno | 23.5    | 1       |\n",
       "\n"
      ],
      "text/plain": [
       "    id turno   nota_geral turno_bi\n",
       "161 1  noturno 24.9       1       \n",
       "162 2  noturno 25.6       1       \n",
       "163 3  noturno 48.7       1       \n",
       "164 4  noturno 35.7       1       \n",
       "165 5  noturno 33.9       1       \n",
       "166 6  noturno 23.5       1       "
      ]
     },
     "metadata": {},
     "output_type": "display_data"
    },
    {
     "data": {
      "text/html": [
       "<ol class=list-inline>\n",
       "\t<li>5983</li>\n",
       "\t<li>4</li>\n",
       "</ol>\n"
      ],
      "text/latex": [
       "\\begin{enumerate*}\n",
       "\\item 5983\n",
       "\\item 4\n",
       "\\end{enumerate*}\n"
      ],
      "text/markdown": [
       "1. 5983\n",
       "2. 4\n",
       "\n",
       "\n"
      ],
      "text/plain": [
       "[1] 5983    4"
      ]
     },
     "metadata": {},
     "output_type": "display_data"
    },
    {
     "data": {
      "text/plain": [
       "       id            turno        nota_geral       turno_bi     \n",
       " Min.   :   1   matutino:1179   Min.   : 0.00   Min.   :0.0000  \n",
       " 1st Qu.:1496   noturno :4804   1st Qu.:28.00   1st Qu.:1.0000  \n",
       " Median :2992                   Median :35.80   Median :1.0000  \n",
       " Mean   :2992                   Mean   :37.05   Mean   :0.8029  \n",
       " 3rd Qu.:4488                   3rd Qu.:45.20   3rd Qu.:1.0000  \n",
       " Max.   :5983                   Max.   :90.20   Max.   :1.0000  "
      ]
     },
     "metadata": {},
     "output_type": "display_data"
    }
   ],
   "source": [
    "head(df)\n",
    "dim(df)\n",
    "summary(df)"
   ]
  },
  {
   "cell_type": "markdown",
   "id": "curious-explorer",
   "metadata": {},
   "source": [
    "# Distribuição dos dados dos alunos do Matutino e Noturno por id:\n",
    "* Neste primeiro gráfico podemos observar que a grande maioria dos alunos é do turno da noite, mas que há uma leve preponderância dos alunos do matutino (pontos em coral) na metade superior do gráfico. "
   ]
  },
  {
   "cell_type": "code",
   "execution_count": 20,
   "id": "rational-efficiency",
   "metadata": {},
   "outputs": [
    {
     "data": {
      "image/png": "[encoded data removed]",
      "text/plain": [
       "plot without title"
      ]
     },
     "metadata": {},
     "output_type": "display_data"
    }
   ],
   "source": [
    "ggplot(data=df, aes(x=id, y=nota_geral))+\n",
    "    geom_point(aes(color=turno), size=0.8)+\n",
    "    ggtitle(\"Distribuição das notas dos alunos de economia\")+\n",
    "    labs(x=\"Alunos\", y=\"Notas Gerais\")+\n",
    "    theme_bw()+\n",
    "    theme(title=element_text(size=12,color=\"turquoise4\"))\n"
   ]
  },
  {
   "cell_type": "markdown",
   "id": "engaged-breeding",
   "metadata": {},
   "source": [
    "# Distribuição dos dados dos alunos do Matutino e Noturno por categoria:"
   ]
  },
  {
   "cell_type": "code",
   "execution_count": 21,
   "id": "nonprofit-samuel",
   "metadata": {},
   "outputs": [
    {
     "data": {
      "image/png": "[encoded data removed]",
      "text/plain": [
       "plot without title"
      ]
     },
     "metadata": {},
     "output_type": "display_data"
    }
   ],
   "source": [
    "options(repr.plot.width = 7, repr.plot.height = 5)\n",
    "ggplot(data=df, aes(y=nota_geral, x=turno_bi))+\n",
    "    geom_point(aes(color=turno), size=0.8)+\n",
    "    ggtitle(\"Distribuição das notas dos alunos de economia\")+\n",
    "    labs(x=\"Alunos\", y=\"Notas Gerais\")+\n",
    "    theme_bw()+\n",
    "    theme(title=element_text(size=12,color=\"turquoise4\"))"
   ]
  },
  {
   "cell_type": "markdown",
   "id": "numerical-smooth",
   "metadata": {},
   "source": [
    "# Boxplot\n",
    "* Aqui podemos confirmar a hipótese abstraída do gráfico anterior: verificamos que o desempenho médio do turno matutino é superior ao do noturno.\n",
    "* O matutino possui uma maior variabilidade das notas em relação ao noturno.\n",
    "* As distribuições são aproximadamente simétricas, pois a média esta muito próxima da mediana.\n",
    "> Conclusões: a) a turma matutino foi mais eficiênte; b) as distribuições podem ser normais."
   ]
  },
  {
   "cell_type": "code",
   "execution_count": 22,
   "id": "otherwise-victoria",
   "metadata": {},
   "outputs": [
    {
     "data": {
      "image/png": "[encoded data removed]",
      "text/plain": [
       "plot without title"
      ]
     },
     "metadata": {},
     "output_type": "display_data"
    }
   ],
   "source": [
    "options(repr.plot.width = 7, repr.plot.height = 5)\n",
    "ggplot(df, aes(x=turno, y=nota_geral, fill=turno)) +\n",
    "    geom_boxplot() +\n",
    "    stat_summary(aes(shape = \"média\"),\n",
    "               geom = \"point\",\n",
    "               fun = mean,\n",
    "               size = 1)+\n",
    "    ggtitle(\"Boxplot das notas matutino e noturno\") +\n",
    "    theme_bw()+\n",
    "    theme(title=element_text(size=12,color=\"turquoise4\"))+\n",
    "    xlab(\"Turnos\")+\n",
    "    ylab(\"Notas\")"
   ]
  },
  {
   "cell_type": "markdown",
   "id": "alternative-headline",
   "metadata": {},
   "source": [
    "# Métricas das variáveis:\n",
    "* As métricas confirmam o pressuposto: o desempenho médio do matutino foi mais eficiênte em todos as métricas sendo a média do matutino superior em 4.76 pontos.\n",
    "* A variabilidade do desempenho superior do matutino pode ser verificado com o desvio padrão levemente superior."
   ]
  },
  {
   "cell_type": "code",
   "execution_count": 23,
   "id": "legislative-england",
   "metadata": {},
   "outputs": [
    {
     "name": "stdout",
     "output_type": "stream",
     "text": [
      "[1] \"=========== Quartis + Mediana + Média + Máxim/Mínimo ============\"\n",
      "[1] \"Métricas das notas do turno noturno:\"\n"
     ]
    },
    {
     "data": {
      "text/plain": [
       "   Min. 1st Qu.  Median    Mean 3rd Qu.    Max. \n",
       "   0.00   27.40   34.85   36.10   43.90   81.50 "
      ]
     },
     "metadata": {},
     "output_type": "display_data"
    },
    {
     "name": "stdout",
     "output_type": "stream",
     "text": [
      "[1] \"Métricas das notas do turno matutino:\"\n"
     ]
    },
    {
     "data": {
      "text/plain": [
       "   Min. 1st Qu.  Median    Mean 3rd Qu.    Max. \n",
       "   1.90   30.45   40.40   40.89   49.95   90.20 "
      ]
     },
     "metadata": {},
     "output_type": "display_data"
    },
    {
     "name": "stdout",
     "output_type": "stream",
     "text": [
      "[1] \"=========== Variância ===============\"\n",
      "[1] \"Variância das notas do turno noturno: 151.57\"\n",
      "[1] \"Variância das notas do turno matutino: 180.05\"\n",
      "[1] \"=========== Desvio Padrão ============\"\n",
      "[1] \"Desvio Padrão das notas do turno noturno: 12.31\"\n",
      "[1] \"Desvio Padrão notas do turno matutino: 13.42\"\n"
     ]
    }
   ],
   "source": [
    "print('=========== Quartis + Mediana + Média + Máxim/Mínimo ============')\n",
    "print('Métricas das notas do turno noturno:')\n",
    "summary(df[df$turno=='noturno',3])\n",
    "print(('Métricas das notas do turno matutino:'))\n",
    "summary(df[df$turno=='matutino',3])\n",
    "print('=========== Variância ===============')\n",
    "print(paste0('Variância das notas do turno noturno: ', round(var(df[df$turno=='noturno',3]),2)))\n",
    "print(paste0('Variância das notas do turno matutino: ',round (var(df[df$turno=='matutino',3]),2)))\n",
    "print('=========== Desvio Padrão ============')\n",
    "print(paste0('Desvio Padrão das notas do turno noturno: ', round(sd(df[df$turno=='noturno',3]),2)))\n",
    "print(paste0('Desvio Padrão notas do turno matutino: ',round (sd(df[df$turno=='matutino',3]),2)))"
   ]
  },
  {
   "cell_type": "markdown",
   "id": "advanced-chambers",
   "metadata": {},
   "source": [
    "# Análise das médias\n",
    "* Permite constatar a diferença das médias entre as turmas"
   ]
  },
  {
   "cell_type": "code",
   "execution_count": 24,
   "id": "neither-spice",
   "metadata": {},
   "outputs": [
    {
     "data": {
      "image/png": "[encoded data removed]",
      "text/plain": [
       "Plot with title \"Heterogeneidade entre a média das notas\""
      ]
     },
     "metadata": {},
     "output_type": "display_data"
    }
   ],
   "source": [
    "plotmeans(nota_geral~turno, data=df, barwidth=3,main=\"Heterogeneidade entre a média das notas\")"
   ]
  },
  {
   "cell_type": "markdown",
   "id": "indoor-objective",
   "metadata": {},
   "source": [
    "# Normalidade\n",
    "* Para decidir qual teste de hipótese realizar, para confirmar se existe diferença significativa entre o desempenho, vamos verificar a normalidade das distribuições\n",
    "* Verificamos pelo gráfico e confirmamos pelo teste de normalidade que se tratam de distribuições normais."
   ]
  },
  {
   "cell_type": "code",
   "execution_count": 25,
   "id": "billion-consolidation",
   "metadata": {},
   "outputs": [
    {
     "name": "stdout",
     "output_type": "stream",
     "text": [
      "[1] \"Métricas das notas do turno noturno:\"\n"
     ]
    },
    {
     "data": {
      "text/plain": [
       "   Min. 1st Qu.  Median    Mean 3rd Qu.    Max. \n",
       "   0.00   27.40   34.85   36.10   43.90   81.50 "
      ]
     },
     "metadata": {},
     "output_type": "display_data"
    },
    {
     "name": "stdout",
     "output_type": "stream",
     "text": [
      "[1] \"Métricas das notas do turno matutino:\"\n"
     ]
    },
    {
     "data": {
      "text/plain": [
       "   Min. 1st Qu.  Median    Mean 3rd Qu.    Max. \n",
       "   1.90   30.45   40.40   40.89   49.95   90.20 "
      ]
     },
     "metadata": {},
     "output_type": "display_data"
    },
    {
     "data": {
      "image/png": "[encoded data removed]",
      "text/plain": [
       "plot without title"
      ]
     },
     "metadata": {},
     "output_type": "display_data"
    }
   ],
   "source": [
    "ggplot(df, aes(x=nota_geral, color=turno, fill=turno)) +\n",
    "    geom_histogram(alpha=0.5, bins = 30)+\n",
    "    theme_bw()+\n",
    "    theme(title=element_text(size=12,color=\"turquoise4\"))\n",
    "print('Métricas das notas do turno noturno:')\n",
    "summary(df[df$turno=='noturno',3])\n",
    "print(('Métricas das notas do turno matutino:'))\n",
    "summary(df[df$turno=='matutino',3])"
   ]
  },
  {
   "cell_type": "markdown",
   "id": "norman-vaccine",
   "metadata": {},
   "source": [
    "# Teste de Normalidade:\n",
    "* Confirma que ambas as distribuições são normais"
   ]
  },
  {
   "cell_type": "code",
   "execution_count": 26,
   "id": "maritime-wilson",
   "metadata": {},
   "outputs": [
    {
     "data": {
      "image/png": "[encoded data removed]",
      "text/plain": [
       "Plot with title \"Normal Q-Q plot: Matutino\""
      ]
     },
     "metadata": {},
     "output_type": "display_data"
    },
    {
     "data": {
      "image/png": "[encoded data removed]",
      "text/plain": [
       "Plot with title \"Normal Q-Q plot: Noturno\""
      ]
     },
     "metadata": {},
     "output_type": "display_data"
    }
   ],
   "source": [
    "noturno = df[df$turno=='noturno',3]\n",
    "matutino = df[df$turno=='matutino',3]\n",
    "qqnorm(matutino, main = \"Normal Q-Q plot: Matutino\")\n",
    "qqline(matutino, col=2)\n",
    "qqnorm(noturno, main = \"Normal Q-Q plot: Noturno\")\n",
    "qqline(noturno, col=2)"
   ]
  },
  {
   "cell_type": "markdown",
   "id": "partial-sperm",
   "metadata": {},
   "source": [
    "# Teste de Hipótese\n",
    "* Hipótese Nula H0 = Não há diferença nas médias -> Matutino = Média Noturno\n",
    "* Hipótese Alternativa  H1 = Há diferença entre as médias das turmas Médias -> Matutino != Média Noturno\n",
    "* *alfa*: Nível de significância = 0.05 -> 95% de certeza\n",
    "* p-value >= *alfa* -> não rejeita H0 (não há evidências)\n",
    "* p-value < *alfa* -> rejeita H0 (há evidências)\n",
    "---"
   ]
  },
  {
   "cell_type": "markdown",
   "id": "random-marketing",
   "metadata": {},
   "source": [
    "## T de Student:\n",
    "> O teste mais indicado para comparar as médias entre duas amostra com distribuição normal é o teste de Student. Ele permitirá saber se a diferença entre as médias é significativa."
   ]
  },
  {
   "cell_type": "code",
   "execution_count": 27,
   "id": "constant-bread",
   "metadata": {},
   "outputs": [
    {
     "name": "stdout",
     "output_type": "stream",
     "text": [
      "[1] \"Média do turno noturno: 36.1\"\n",
      "[1] \"Média do matutino: 40.89\"\n",
      "[1] \"Média total: 37.05\"\n",
      "[1] \"Variância das notas do turno noturno: 151.57\"\n",
      "[1] \"Variância das notas do turno matutino: 180.05\"\n",
      "[1] \"Variância total: 160.78\"\n"
     ]
    }
   ],
   "source": [
    "print(paste0('Média do turno noturno: ', round(mean(noturno),2)))\n",
    "print(paste0('Média do matutino: ', round(mean(matutino),2)))\n",
    "print(paste0('Média total: ', round(mean(df$nota_geral),2)))\n",
    "print(paste0('Variância das notas do turno noturno: ',round(var(noturno),2)))\n",
    "print(paste0('Variância das notas do turno matutino: ',round(var(matutino),2)))\n",
    "print(paste0('Variância total: ', round(var(df$nota_geral),2)))"
   ]
  },
  {
   "cell_type": "code",
   "execution_count": 28,
   "id": "affiliated-underwear",
   "metadata": {},
   "outputs": [
    {
     "data": {
      "text/plain": [
       "\n",
       "\tWelch Two Sample t-test\n",
       "\n",
       "data:  noturno and matutino\n",
       "t = -11.155, df = 1697.2, p-value < 2.2e-16\n",
       "alternative hypothesis: true difference in means is not equal to 0\n",
       "95 percent confidence interval:\n",
       " -5.63050 -3.94662\n",
       "sample estimates:\n",
       "mean of x mean of y \n",
       " 36.10169  40.89025 \n"
      ]
     },
     "metadata": {},
     "output_type": "display_data"
    }
   ],
   "source": [
    "t.test(noturno, matutino)"
   ]
  },
  {
   "cell_type": "markdown",
   "id": "genetic-malta",
   "metadata": {},
   "source": [
    "## p-value (2.2e-16) < *alfa* (0.05) -> Rejeita-se a hipótese nula.\n",
    "* Conclusão: Há evidencias significativas de que as médias são diferentes."
   ]
  },
  {
   "cell_type": "markdown",
   "id": "wound-assumption",
   "metadata": {},
   "source": [
    "# Regressão Linear Simples\n"
   ]
  },
  {
   "cell_type": "markdown",
   "id": "empty-liabilities",
   "metadata": {},
   "source": [
    "* Tentativa de montagem e interpretação da regressão linear simples com o R, onde:\n",
    "> nota_geral = noturno.b + e"
   ]
  },
  {
   "cell_type": "code",
   "execution_count": 29,
   "id": "agreed-friendly",
   "metadata": {},
   "outputs": [
    {
     "data": {
      "text/html": [
       "<table>\n",
       "<thead><tr><th></th><th scope=col>id</th><th scope=col>turno</th><th scope=col>nota_geral</th><th scope=col>turno_bi</th></tr></thead>\n",
       "<tbody>\n",
       "\t<tr><th scope=row>161</th><td>1      </td><td>noturno</td><td>24.9   </td><td>1      </td></tr>\n",
       "\t<tr><th scope=row>162</th><td>2      </td><td>noturno</td><td>25.6   </td><td>1      </td></tr>\n",
       "\t<tr><th scope=row>163</th><td>3      </td><td>noturno</td><td>48.7   </td><td>1      </td></tr>\n",
       "\t<tr><th scope=row>164</th><td>4      </td><td>noturno</td><td>35.7   </td><td>1      </td></tr>\n",
       "\t<tr><th scope=row>165</th><td>5      </td><td>noturno</td><td>33.9   </td><td>1      </td></tr>\n",
       "\t<tr><th scope=row>166</th><td>6      </td><td>noturno</td><td>23.5   </td><td>1      </td></tr>\n",
       "</tbody>\n",
       "</table>\n"
      ],
      "text/latex": [
       "\\begin{tabular}{r|llll}\n",
       "  & id & turno & nota\\_geral & turno\\_bi\\\\\n",
       "\\hline\n",
       "\t161 & 1       & noturno & 24.9    & 1      \\\\\n",
       "\t162 & 2       & noturno & 25.6    & 1      \\\\\n",
       "\t163 & 3       & noturno & 48.7    & 1      \\\\\n",
       "\t164 & 4       & noturno & 35.7    & 1      \\\\\n",
       "\t165 & 5       & noturno & 33.9    & 1      \\\\\n",
       "\t166 & 6       & noturno & 23.5    & 1      \\\\\n",
       "\\end{tabular}\n"
      ],
      "text/markdown": [
       "\n",
       "| <!--/--> | id | turno | nota_geral | turno_bi |\n",
       "|---|---|---|---|---|\n",
       "| 161 | 1       | noturno | 24.9    | 1       |\n",
       "| 162 | 2       | noturno | 25.6    | 1       |\n",
       "| 163 | 3       | noturno | 48.7    | 1       |\n",
       "| 164 | 4       | noturno | 35.7    | 1       |\n",
       "| 165 | 5       | noturno | 33.9    | 1       |\n",
       "| 166 | 6       | noturno | 23.5    | 1       |\n",
       "\n"
      ],
      "text/plain": [
       "    id turno   nota_geral turno_bi\n",
       "161 1  noturno 24.9       1       \n",
       "162 2  noturno 25.6       1       \n",
       "163 3  noturno 48.7       1       \n",
       "164 4  noturno 35.7       1       \n",
       "165 5  noturno 33.9       1       \n",
       "166 6  noturno 23.5       1       "
      ]
     },
     "metadata": {},
     "output_type": "display_data"
    }
   ],
   "source": [
    "head(df)"
   ]
  },
  {
   "cell_type": "markdown",
   "id": "covered-guess",
   "metadata": {},
   "source": [
    "## Verificação dos tipos"
   ]
  },
  {
   "cell_type": "code",
   "execution_count": 30,
   "id": "electronic-national",
   "metadata": {},
   "outputs": [
    {
     "name": "stdout",
     "output_type": "stream",
     "text": [
      "'data.frame':\t5983 obs. of  4 variables:\n",
      " $ id        : int  1 2 3 4 5 6 7 8 9 10 ...\n",
      " $ turno     : Factor w/ 2 levels \"matutino\",\"noturno\": 2 2 2 2 2 2 2 2 2 2 ...\n",
      " $ nota_geral: num  24.9 25.6 48.7 35.7 33.9 23.5 32.2 20.9 48.9 39.4 ...\n",
      " $ turno_bi  : num  1 1 1 1 1 1 1 1 1 1 ...\n",
      " num [1:4804] 24.9 25.6 48.7 35.7 33.9 23.5 32.2 20.9 48.9 39.4 ...\n"
     ]
    }
   ],
   "source": [
    "str(df)\n",
    "str(noturno)"
   ]
  },
  {
   "cell_type": "markdown",
   "id": "unlikely-lewis",
   "metadata": {},
   "source": [
    "# Verificando os pressupostos:\n",
    "## Relação linear"
   ]
  },
  {
   "cell_type": "markdown",
   "id": "rural-plant",
   "metadata": {},
   "source": [
    "### Não há linearidade entre alunos e notas"
   ]
  },
  {
   "cell_type": "code",
   "execution_count": 31,
   "id": "dynamic-analysis",
   "metadata": {},
   "outputs": [
    {
     "data": {
      "image/png": "[encoded data removed]",
      "text/plain": [
       "plot without title"
      ]
     },
     "metadata": {},
     "output_type": "display_data"
    }
   ],
   "source": [
    "plot2 = ggplot(data=df[df$turno=='noturno',], aes(x=id, y=nota_geral))+\n",
    "            geom_point(color=\"turquoise4\", size=0.8)+\n",
    "            ggtitle(\"Distribuição das notas dos alunos noturno\")+\n",
    "            labs(x=\"Alunos\", y=\"Notas Gerais\")+\n",
    "            theme_bw()+\n",
    "            theme(title=element_text(size=8,color=\"turquoise4\"))\n",
    "plot1 = ggplot(data=df[df$turno=='matutino',], aes(x=id, y=nota_geral))+\n",
    "            geom_point(color=\"coral1\",size=0.8)+\n",
    "            ggtitle(\"Distribuição das notas dos alunos matutino\")+\n",
    "            labs(x=\"Alunos\", y=\"Notas Gerais\")+\n",
    "            theme_bw()+\n",
    "            theme(title=element_text(size=8,color=\"turquoise4\"))\n",
    "plot_grid(plot1, plot2, labels = \"AUTO\")"
   ]
  },
  {
   "cell_type": "markdown",
   "id": "figured-shepherd",
   "metadata": {},
   "source": [
    "## A relação deve se basear entre as notas e o turno:\n",
    "* 0 -> matutino\n",
    "* 1 -> noturno"
   ]
  },
  {
   "cell_type": "code",
   "execution_count": 32,
   "id": "defensive-comparison",
   "metadata": {},
   "outputs": [
    {
     "data": {
      "image/png": "[encoded data removed]",
      "text/plain": [
       "plot without title"
      ]
     },
     "metadata": {},
     "output_type": "display_data"
    }
   ],
   "source": [
    "plot(df$turno_bi, df$nota_geral)"
   ]
  },
  {
   "cell_type": "markdown",
   "id": "figured-soccer",
   "metadata": {},
   "source": [
    "# Construção do modelo 1\n",
    "\n",
    "## Neste modelo os dados ficaram agrupados nos diferentes níveis das variáveis categóricas.\n",
    "---"
   ]
  },
  {
   "cell_type": "code",
   "execution_count": 33,
   "id": "demonstrated-participation",
   "metadata": {},
   "outputs": [
    {
     "data": {
      "text/plain": [
       "\n",
       "Call:\n",
       "lm(formula = nota_geral ~ turno_bi, data = df)\n",
       "\n",
       "Coefficients:\n",
       "(Intercept)     turno_bi  \n",
       "     40.890       -4.789  \n"
      ]
     },
     "metadata": {},
     "output_type": "display_data"
    }
   ],
   "source": [
    "mod = lm(nota_geral ~ turno_bi, df)\n",
    "mod"
   ]
  },
  {
   "cell_type": "code",
   "execution_count": 34,
   "id": "certain-ground",
   "metadata": {
    "scrolled": false
   },
   "outputs": [
    {
     "data": {
      "image/png": "[encoded data removed]",
      "text/plain": [
       "Plot with title \"\""
      ]
     },
     "metadata": {},
     "output_type": "display_data"
    }
   ],
   "source": [
    "par(mfrow=c(2,2))\n",
    "plot(mod)"
   ]
  },
  {
   "cell_type": "code",
   "execution_count": 35,
   "id": "technical-wells",
   "metadata": {},
   "outputs": [
    {
     "data": {
      "text/plain": [
       "\n",
       "Call:\n",
       "lm(formula = nota_geral ~ turno_bi, data = df)\n",
       "\n",
       "Residuals:\n",
       "    Min      1Q  Median      3Q     Max \n",
       "-38.990  -9.002  -1.102   8.098  49.310 \n",
       "\n",
       "Coefficients:\n",
       "            Estimate Std. Error t value Pr(>|t|)    \n",
       "(Intercept)  40.8902     0.3651  111.99   <2e-16 ***\n",
       "turno_bi     -4.7886     0.4075  -11.75   <2e-16 ***\n",
       "---\n",
       "Signif. codes:  0 '***' 0.001 '**' 0.01 '*' 0.05 '.' 0.1 ' ' 1\n",
       "\n",
       "Residual standard error: 12.54 on 5981 degrees of freedom\n",
       "Multiple R-squared:  0.02257,\tAdjusted R-squared:  0.02241 \n",
       "F-statistic: 138.1 on 1 and 5981 DF,  p-value: < 2.2e-16\n"
      ]
     },
     "metadata": {},
     "output_type": "display_data"
    }
   ],
   "source": [
    "summary(mod)"
   ]
  },
  {
   "cell_type": "markdown",
   "id": "gross-roman",
   "metadata": {},
   "source": [
    "# Interpretação do modelo:\n",
    "* A reta intercepta o eixo y em aproximadamente: 40.9\n",
    "* O valor de p foi menor que 5% de modo que o turno tem impacto na média geral dos alunos\n",
    "* O coeficiente negativo significa que a diferênça de turno leva a uma queda de aproximadamente -4.8 na média geral do aluno.\n",
    "* De acordo com o R^2 o turno do aluno explica 2% da nota geral."
   ]
  },
  {
   "cell_type": "markdown",
   "id": "chinese-camping",
   "metadata": {},
   "source": [
    "# Esquema gráfico do modelo e equação da reta:\n",
    "---"
   ]
  },
  {
   "cell_type": "code",
   "execution_count": 36,
   "id": "becoming-personality",
   "metadata": {},
   "outputs": [
    {
     "data": {
      "image/png": "[encoded data removed]",
      "text/plain": [
       "plot without title"
      ]
     },
     "metadata": {},
     "output_type": "display_data"
    }
   ],
   "source": [
    "ggplot(data=df, aes(y=nota_geral, x=turno_bi))+\n",
    "    geom_point(aes(color=turno), size=0.8)+\n",
    "    geom_smooth(method=\"lm\", formula= y ~ x, col=\"red\")+\n",
    "    stat_regline_equation(aes(label = paste(..eq.label.., ..adj.rr.label.., sep=\"*plain(\\\",\\\")~~\")), label.x = 0, label.y = 100)+\n",
    "    ggtitle(\"Distribuição das notas dos alunos de economia\")+\n",
    "    labs(x=\"Alunos\", y=\"Notas Gerais\")+\n",
    "    theme_bw()+\n",
    "    theme(title=element_text(size=12,color=\"turquoise4\"))\n"
   ]
  },
  {
   "cell_type": "markdown",
   "id": "floating-stranger",
   "metadata": {},
   "source": [
    "---\n",
    "### Fim"
   ]
  },
  {
   "cell_type": "code",
   "execution_count": null,
   "id": "structural-orbit",
   "metadata": {},
   "outputs": [],
   "source": []
  }
 ],
 "metadata": {
  "kernelspec": {
   "display_name": "R",
   "language": "R",
   "name": "ir"
  },
  "language_info": {
   "codemirror_mode": "r",
   "file_extension": ".r",
   "mimetype": "text/x-r-source",
   "name": "R",
   "pygments_lexer": "r",
   "version": "3.6.1"
  }
 },
 "nbformat": 4,
 "nbformat_minor": 5
}
