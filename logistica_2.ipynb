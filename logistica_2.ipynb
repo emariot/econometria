{
 "cells": [
  {
   "cell_type": "code",
   "execution_count": 217,
   "id": "preceding-track",
   "metadata": {},
   "outputs": [],
   "source": [
    "library(dplyr)\n",
    "library(ggplot2)\n",
    "library(scales)\n",
    "library(plyr)\n",
    "require(mfx)"
   ]
  },
  {
   "cell_type": "code",
   "execution_count": 215,
   "id": "suspended-absolute",
   "metadata": {},
   "outputs": [
    {
     "name": "stderr",
     "output_type": "stream",
     "text": [
      "also installing the dependencies 'flexmix', 'modeltools', 'betareg'\n",
      "\n",
      "\n"
     ]
    },
    {
     "name": "stdout",
     "output_type": "stream",
     "text": [
      "package 'flexmix' successfully unpacked and MD5 sums checked\n",
      "package 'modeltools' successfully unpacked and MD5 sums checked\n",
      "package 'betareg' successfully unpacked and MD5 sums checked\n",
      "package 'mfx' successfully unpacked and MD5 sums checked\n",
      "\n",
      "The downloaded binary packages are in\n",
      "\tC:\\Users\\Eduardo\\AppData\\Local\\Temp\\RtmpMpKC9t\\downloaded_packages\n"
     ]
    }
   ],
   "source": [
    "install.packages(\"mfx\")"
   ]
  },
  {
   "cell_type": "code",
   "execution_count": 1,
   "id": "dress-greece",
   "metadata": {},
   "outputs": [
    {
     "data": {
      "text/html": [
       "<table class=\"dataframe\">\n",
       "<caption>A data.frame: 6 × 137</caption>\n",
       "<thead>\n",
       "\t<tr><th></th><th scope=col>NU_ANO</th><th scope=col>CO_IES</th><th scope=col>CO_CATEGAD</th><th scope=col>CO_ORGACAD</th><th scope=col>CO_GRUPO</th><th scope=col>CO_CURSO</th><th scope=col>CO_MODALIDADE</th><th scope=col>CO_MUNIC_CURSO</th><th scope=col>CO_UF_CURSO</th><th scope=col>CO_REGIAO_CURSO</th><th scope=col>...</th><th scope=col>QE_I59</th><th scope=col>QE_I60</th><th scope=col>QE_I61</th><th scope=col>QE_I62</th><th scope=col>QE_I63</th><th scope=col>QE_I64</th><th scope=col>QE_I65</th><th scope=col>QE_I66</th><th scope=col>QE_I67</th><th scope=col>QE_I68</th></tr>\n",
       "\t<tr><th></th><th scope=col>&lt;int&gt;</th><th scope=col>&lt;int&gt;</th><th scope=col>&lt;int&gt;</th><th scope=col>&lt;int&gt;</th><th scope=col>&lt;int&gt;</th><th scope=col>&lt;int&gt;</th><th scope=col>&lt;int&gt;</th><th scope=col>&lt;int&gt;</th><th scope=col>&lt;int&gt;</th><th scope=col>&lt;int&gt;</th><th scope=col>...</th><th scope=col>&lt;int&gt;</th><th scope=col>&lt;int&gt;</th><th scope=col>&lt;int&gt;</th><th scope=col>&lt;int&gt;</th><th scope=col>&lt;int&gt;</th><th scope=col>&lt;int&gt;</th><th scope=col>&lt;int&gt;</th><th scope=col>&lt;int&gt;</th><th scope=col>&lt;int&gt;</th><th scope=col>&lt;int&gt;</th></tr>\n",
       "</thead>\n",
       "<tbody>\n",
       "\t<tr><th scope=row>1</th><td>2018</td><td>1356</td><td>10003</td><td>10020</td><td>1</td><td>47116</td><td>1</td><td>3546603</td><td>35</td><td>3</td><td>...</td><td>6</td><td>6</td><td>6</td><td>6</td><td>6</td><td>6</td><td>6</td><td>6</td><td>6</td><td>5</td></tr>\n",
       "\t<tr><th scope=row>2</th><td>2018</td><td>1356</td><td>10003</td><td>10020</td><td>1</td><td>47116</td><td>1</td><td>3546603</td><td>35</td><td>3</td><td>...</td><td>6</td><td>6</td><td>6</td><td>6</td><td>6</td><td>6</td><td>6</td><td>6</td><td>6</td><td>6</td></tr>\n",
       "\t<tr><th scope=row>3</th><td>2018</td><td>1356</td><td>10003</td><td>10020</td><td>1</td><td>47116</td><td>1</td><td>3546603</td><td>35</td><td>3</td><td>...</td><td>6</td><td>6</td><td>6</td><td>6</td><td>6</td><td>6</td><td>6</td><td>6</td><td>6</td><td>5</td></tr>\n",
       "\t<tr><th scope=row>4</th><td>2018</td><td>1356</td><td>10003</td><td>10020</td><td>1</td><td>47116</td><td>1</td><td>3546603</td><td>35</td><td>3</td><td>...</td><td>6</td><td>6</td><td>6</td><td>6</td><td>5</td><td>6</td><td>6</td><td>6</td><td>6</td><td>4</td></tr>\n",
       "\t<tr><th scope=row>5</th><td>2018</td><td>1356</td><td>10003</td><td>10020</td><td>1</td><td>47116</td><td>1</td><td>3546603</td><td>35</td><td>3</td><td>...</td><td>6</td><td>6</td><td>6</td><td>6</td><td>6</td><td>6</td><td>6</td><td>6</td><td>6</td><td>6</td></tr>\n",
       "\t<tr><th scope=row>6</th><td>2018</td><td>1356</td><td>10003</td><td>10020</td><td>1</td><td>47116</td><td>1</td><td>3546603</td><td>35</td><td>3</td><td>...</td><td>6</td><td>5</td><td>6</td><td>6</td><td>6</td><td>6</td><td>6</td><td>6</td><td>6</td><td>5</td></tr>\n",
       "</tbody>\n",
       "</table>\n"
      ],
      "text/latex": [
       "A data.frame: 6 × 137\n",
       "\\begin{tabular}{r|lllllllllllllllllllll}\n",
       "  & NU\\_ANO & CO\\_IES & CO\\_CATEGAD & CO\\_ORGACAD & CO\\_GRUPO & CO\\_CURSO & CO\\_MODALIDADE & CO\\_MUNIC\\_CURSO & CO\\_UF\\_CURSO & CO\\_REGIAO\\_CURSO & ... & QE\\_I59 & QE\\_I60 & QE\\_I61 & QE\\_I62 & QE\\_I63 & QE\\_I64 & QE\\_I65 & QE\\_I66 & QE\\_I67 & QE\\_I68\\\\\n",
       "  & <int> & <int> & <int> & <int> & <int> & <int> & <int> & <int> & <int> & <int> & ... & <int> & <int> & <int> & <int> & <int> & <int> & <int> & <int> & <int> & <int>\\\\\n",
       "\\hline\n",
       "\t1 & 2018 & 1356 & 10003 & 10020 & 1 & 47116 & 1 & 3546603 & 35 & 3 & ... & 6 & 6 & 6 & 6 & 6 & 6 & 6 & 6 & 6 & 5\\\\\n",
       "\t2 & 2018 & 1356 & 10003 & 10020 & 1 & 47116 & 1 & 3546603 & 35 & 3 & ... & 6 & 6 & 6 & 6 & 6 & 6 & 6 & 6 & 6 & 6\\\\\n",
       "\t3 & 2018 & 1356 & 10003 & 10020 & 1 & 47116 & 1 & 3546603 & 35 & 3 & ... & 6 & 6 & 6 & 6 & 6 & 6 & 6 & 6 & 6 & 5\\\\\n",
       "\t4 & 2018 & 1356 & 10003 & 10020 & 1 & 47116 & 1 & 3546603 & 35 & 3 & ... & 6 & 6 & 6 & 6 & 5 & 6 & 6 & 6 & 6 & 4\\\\\n",
       "\t5 & 2018 & 1356 & 10003 & 10020 & 1 & 47116 & 1 & 3546603 & 35 & 3 & ... & 6 & 6 & 6 & 6 & 6 & 6 & 6 & 6 & 6 & 6\\\\\n",
       "\t6 & 2018 & 1356 & 10003 & 10020 & 1 & 47116 & 1 & 3546603 & 35 & 3 & ... & 6 & 5 & 6 & 6 & 6 & 6 & 6 & 6 & 6 & 5\\\\\n",
       "\\end{tabular}\n"
      ],
      "text/markdown": [
       "\n",
       "A data.frame: 6 × 137\n",
       "\n",
       "| <!--/--> | NU_ANO &lt;int&gt; | CO_IES &lt;int&gt; | CO_CATEGAD &lt;int&gt; | CO_ORGACAD &lt;int&gt; | CO_GRUPO &lt;int&gt; | CO_CURSO &lt;int&gt; | CO_MODALIDADE &lt;int&gt; | CO_MUNIC_CURSO &lt;int&gt; | CO_UF_CURSO &lt;int&gt; | CO_REGIAO_CURSO &lt;int&gt; | ... ... | QE_I59 &lt;int&gt; | QE_I60 &lt;int&gt; | QE_I61 &lt;int&gt; | QE_I62 &lt;int&gt; | QE_I63 &lt;int&gt; | QE_I64 &lt;int&gt; | QE_I65 &lt;int&gt; | QE_I66 &lt;int&gt; | QE_I67 &lt;int&gt; | QE_I68 &lt;int&gt; |\n",
       "|---|---|---|---|---|---|---|---|---|---|---|---|---|---|---|---|---|---|---|---|---|---|\n",
       "| 1 | 2018 | 1356 | 10003 | 10020 | 1 | 47116 | 1 | 3546603 | 35 | 3 | ... | 6 | 6 | 6 | 6 | 6 | 6 | 6 | 6 | 6 | 5 |\n",
       "| 2 | 2018 | 1356 | 10003 | 10020 | 1 | 47116 | 1 | 3546603 | 35 | 3 | ... | 6 | 6 | 6 | 6 | 6 | 6 | 6 | 6 | 6 | 6 |\n",
       "| 3 | 2018 | 1356 | 10003 | 10020 | 1 | 47116 | 1 | 3546603 | 35 | 3 | ... | 6 | 6 | 6 | 6 | 6 | 6 | 6 | 6 | 6 | 5 |\n",
       "| 4 | 2018 | 1356 | 10003 | 10020 | 1 | 47116 | 1 | 3546603 | 35 | 3 | ... | 6 | 6 | 6 | 6 | 5 | 6 | 6 | 6 | 6 | 4 |\n",
       "| 5 | 2018 | 1356 | 10003 | 10020 | 1 | 47116 | 1 | 3546603 | 35 | 3 | ... | 6 | 6 | 6 | 6 | 6 | 6 | 6 | 6 | 6 | 6 |\n",
       "| 6 | 2018 | 1356 | 10003 | 10020 | 1 | 47116 | 1 | 3546603 | 35 | 3 | ... | 6 | 5 | 6 | 6 | 6 | 6 | 6 | 6 | 6 | 5 |\n",
       "\n"
      ],
      "text/plain": [
       "  NU_ANO CO_IES CO_CATEGAD CO_ORGACAD CO_GRUPO CO_CURSO CO_MODALIDADE\n",
       "1 2018   1356   10003      10020      1        47116    1            \n",
       "2 2018   1356   10003      10020      1        47116    1            \n",
       "3 2018   1356   10003      10020      1        47116    1            \n",
       "4 2018   1356   10003      10020      1        47116    1            \n",
       "5 2018   1356   10003      10020      1        47116    1            \n",
       "6 2018   1356   10003      10020      1        47116    1            \n",
       "  CO_MUNIC_CURSO CO_UF_CURSO CO_REGIAO_CURSO ... QE_I59 QE_I60 QE_I61 QE_I62\n",
       "1 3546603        35          3               ... 6      6      6      6     \n",
       "2 3546603        35          3               ... 6      6      6      6     \n",
       "3 3546603        35          3               ... 6      6      6      6     \n",
       "4 3546603        35          3               ... 6      6      6      6     \n",
       "5 3546603        35          3               ... 6      6      6      6     \n",
       "6 3546603        35          3               ... 6      5      6      6     \n",
       "  QE_I63 QE_I64 QE_I65 QE_I66 QE_I67 QE_I68\n",
       "1 6      6      6      6      6      5     \n",
       "2 6      6      6      6      6      6     \n",
       "3 6      6      6      6      6      5     \n",
       "4 5      6      6      6      6      4     \n",
       "5 6      6      6      6      6      6     \n",
       "6 6      6      6      6      6      5     "
      ]
     },
     "metadata": {},
     "output_type": "display_data"
    }
   ],
   "source": [
    "data = read.table(\"dataset/enade.txt\",sep=\";\", dec = \",\", header = TRUE)\n",
    "head(data)"
   ]
  },
  {
   "cell_type": "code",
   "execution_count": 3,
   "id": "classified-holmes",
   "metadata": {},
   "outputs": [
    {
     "data": {
      "text/html": [
       "<style>\n",
       ".list-inline {list-style: none; margin:0; padding: 0}\n",
       ".list-inline>li {display: inline-block}\n",
       ".list-inline>li:not(:last-child)::after {content: \"\\00b7\"; padding: 0 .5ex}\n",
       "</style>\n",
       "<ol class=list-inline><li>9582</li><li>137</li></ol>\n"
      ],
      "text/latex": [
       "\\begin{enumerate*}\n",
       "\\item 9582\n",
       "\\item 137\n",
       "\\end{enumerate*}\n"
      ],
      "text/markdown": [
       "1. 9582\n",
       "2. 137\n",
       "\n",
       "\n"
      ],
      "text/plain": [
       "[1] 9582  137"
      ]
     },
     "metadata": {},
     "output_type": "display_data"
    }
   ],
   "source": [
    "df = data[data$CO_GRUPO == 13,]\n",
    "dim(df)"
   ]
  },
  {
   "cell_type": "code",
   "execution_count": 97,
   "id": "religious-chrome",
   "metadata": {},
   "outputs": [],
   "source": [
    "df_= df %>%\n",
    "    select(CO_CATEGAD, TP_PRES)%>%\n",
    "    setNames(c(\"tipo\", \"presenca\"))\n"
   ]
  },
  {
   "cell_type": "code",
   "execution_count": 98,
   "id": "supreme-shelf",
   "metadata": {},
   "outputs": [],
   "source": [
    "df_$tipo = ifelse(df_$tipo==118|df_$tipo==120|df_$tipo==121|df_$tipo==10005\n",
    "      |df_$tipo==10006|df_$tipo==10007|df_$tipo==10008|df_$tipo==10009\n",
    "      |df_$tipo==17634, \"privada\", \"publica\")\n",
    "df_$presenca = ifelse(df_$presenca==222, \"ausente\", \"presente\")"
   ]
  },
  {
   "cell_type": "code",
   "execution_count": 99,
   "id": "harmful-dominican",
   "metadata": {},
   "outputs": [
    {
     "data": {
      "text/html": [
       "<table class=\"dataframe\">\n",
       "<caption>A data.frame: 6 × 2</caption>\n",
       "<thead>\n",
       "\t<tr><th></th><th scope=col>tipo</th><th scope=col>presenca</th></tr>\n",
       "\t<tr><th></th><th scope=col>&lt;fct&gt;</th><th scope=col>&lt;fct&gt;</th></tr>\n",
       "</thead>\n",
       "<tbody>\n",
       "\t<tr><th scope=row>161</th><td>privada</td><td>presente</td></tr>\n",
       "\t<tr><th scope=row>162</th><td>privada</td><td>presente</td></tr>\n",
       "\t<tr><th scope=row>163</th><td>privada</td><td>presente</td></tr>\n",
       "\t<tr><th scope=row>164</th><td>privada</td><td>presente</td></tr>\n",
       "\t<tr><th scope=row>165</th><td>privada</td><td>presente</td></tr>\n",
       "\t<tr><th scope=row>166</th><td>privada</td><td>presente</td></tr>\n",
       "</tbody>\n",
       "</table>\n"
      ],
      "text/latex": [
       "A data.frame: 6 × 2\n",
       "\\begin{tabular}{r|ll}\n",
       "  & tipo & presenca\\\\\n",
       "  & <fct> & <fct>\\\\\n",
       "\\hline\n",
       "\t161 & privada & presente\\\\\n",
       "\t162 & privada & presente\\\\\n",
       "\t163 & privada & presente\\\\\n",
       "\t164 & privada & presente\\\\\n",
       "\t165 & privada & presente\\\\\n",
       "\t166 & privada & presente\\\\\n",
       "\\end{tabular}\n"
      ],
      "text/markdown": [
       "\n",
       "A data.frame: 6 × 2\n",
       "\n",
       "| <!--/--> | tipo &lt;fct&gt; | presenca &lt;fct&gt; |\n",
       "|---|---|---|\n",
       "| 161 | privada | presente |\n",
       "| 162 | privada | presente |\n",
       "| 163 | privada | presente |\n",
       "| 164 | privada | presente |\n",
       "| 165 | privada | presente |\n",
       "| 166 | privada | presente |\n",
       "\n"
      ],
      "text/plain": [
       "    tipo    presenca\n",
       "161 privada presente\n",
       "162 privada presente\n",
       "163 privada presente\n",
       "164 privada presente\n",
       "165 privada presente\n",
       "166 privada presente"
      ]
     },
     "metadata": {},
     "output_type": "display_data"
    }
   ],
   "source": [
    "df_$tipo = as.factor(df_$tipo)\n",
    "df_$presenca = as.factor(df_$presenca)\n",
    "head(df_)"
   ]
  },
  {
   "cell_type": "code",
   "execution_count": 100,
   "id": "rental-auckland",
   "metadata": {},
   "outputs": [
    {
     "data": {
      "image/png": "[encoded data removed]",
      "text/plain": [
       "plot without title"
      ]
     },
     "metadata": {
      "image/png": {
       "height": 420,
       "width": 720
      }
     },
     "output_type": "display_data"
    }
   ],
   "source": [
    "options(repr.plot.width = 12, repr.plot.height = 7)\n",
    "levels(df_$tipo) = c(\"Privada\", \"Pública\")\n",
    "ggplot(df_, aes(x= presenca,  group=tipo)) + \n",
    "    geom_bar(aes(y = ..prop.., fill = factor(..x..)), stat=\"count\") +\n",
    "    geom_text(aes( label = scales::percent(..prop..),\n",
    "                   y= ..prop.. ), stat= \"count\", vjust = -.5) +\n",
    "    labs(title='Relação de ausentes entre instituições públicas e privadas', \n",
    "         y = \"Percent\", fill=\"Presença\",\n",
    "         caption=('Fonte: Enade/2018')) +\n",
    "    facet_grid(~tipo) +\n",
    "    scale_y_continuous(labels = scales::percent)+\n",
    "    theme(axis.text.x = element_text(angle = 45, vjust = 0.9, hjust=1),\n",
    "          axis.text = element_text(size = 14));\n",
    "    "
   ]
  },
  {
   "cell_type": "code",
   "execution_count": 158,
   "id": "unknown-battle",
   "metadata": {},
   "outputs": [],
   "source": [
    "df_boicote = df %>%\n",
    "    filter(TP_PRES==555)%>%\n",
    "    select(CO_CATEGAD, TP_PR_GER)%>%\n",
    "    setNames(c(\"tipo\", \"boicote\"))\n"
   ]
  },
  {
   "cell_type": "code",
   "execution_count": 159,
   "id": "completed-warren",
   "metadata": {},
   "outputs": [
    {
     "data": {
      "text/html": [
       "<style>\n",
       ".list-inline {list-style: none; margin:0; padding: 0}\n",
       ".list-inline>li {display: inline-block}\n",
       ".list-inline>li:not(:last-child)::after {content: \"\\00b7\"; padding: 0 .5ex}\n",
       "</style>\n",
       "<ol class=list-inline><li>333</li><li>333</li><li>333</li><li>333</li><li>333</li><li>333</li><li>333</li><li>333</li><li>333</li><li>333</li><li>333</li><li>333</li><li>333</li><li>333</li><li>333</li><li>333</li><li>333</li><li>333</li><li>333</li><li>333</li><li>333</li><li>333</li></ol>\n"
      ],
      "text/latex": [
       "\\begin{enumerate*}\n",
       "\\item 333\n",
       "\\item 333\n",
       "\\item 333\n",
       "\\item 333\n",
       "\\item 333\n",
       "\\item 333\n",
       "\\item 333\n",
       "\\item 333\n",
       "\\item 333\n",
       "\\item 333\n",
       "\\item 333\n",
       "\\item 333\n",
       "\\item 333\n",
       "\\item 333\n",
       "\\item 333\n",
       "\\item 333\n",
       "\\item 333\n",
       "\\item 333\n",
       "\\item 333\n",
       "\\item 333\n",
       "\\item 333\n",
       "\\item 333\n",
       "\\end{enumerate*}\n"
      ],
      "text/markdown": [
       "1. 333\n",
       "2. 333\n",
       "3. 333\n",
       "4. 333\n",
       "5. 333\n",
       "6. 333\n",
       "7. 333\n",
       "8. 333\n",
       "9. 333\n",
       "10. 333\n",
       "11. 333\n",
       "12. 333\n",
       "13. 333\n",
       "14. 333\n",
       "15. 333\n",
       "16. 333\n",
       "17. 333\n",
       "18. 333\n",
       "19. 333\n",
       "20. 333\n",
       "21. 333\n",
       "22. 333\n",
       "\n",
       "\n"
      ],
      "text/plain": [
       " [1] 333 333 333 333 333 333 333 333 333 333 333 333 333 333 333 333 333 333 333\n",
       "[20] 333 333 333"
      ]
     },
     "metadata": {},
     "output_type": "display_data"
    }
   ],
   "source": [
    "df_boicote$boicote[df_boicote$boicote==333]"
   ]
  },
  {
   "cell_type": "code",
   "execution_count": 147,
   "id": "catholic-plymouth",
   "metadata": {},
   "outputs": [
    {
     "data": {
      "text/html": [
       "<table class=\"dataframe\">\n",
       "<caption>A data.frame: 6 × 2</caption>\n",
       "<thead>\n",
       "\t<tr><th></th><th scope=col>tipo</th><th scope=col>boicote</th></tr>\n",
       "\t<tr><th></th><th scope=col>&lt;int&gt;</th><th scope=col>&lt;int&gt;</th></tr>\n",
       "</thead>\n",
       "<tbody>\n",
       "\t<tr><th scope=row>1</th><td>10008</td><td>555</td></tr>\n",
       "\t<tr><th scope=row>2</th><td>10008</td><td>555</td></tr>\n",
       "\t<tr><th scope=row>3</th><td>10008</td><td>555</td></tr>\n",
       "\t<tr><th scope=row>4</th><td>10008</td><td>555</td></tr>\n",
       "\t<tr><th scope=row>5</th><td>10008</td><td>555</td></tr>\n",
       "\t<tr><th scope=row>6</th><td>10008</td><td>555</td></tr>\n",
       "</tbody>\n",
       "</table>\n"
      ],
      "text/latex": [
       "A data.frame: 6 × 2\n",
       "\\begin{tabular}{r|ll}\n",
       "  & tipo & boicote\\\\\n",
       "  & <int> & <int>\\\\\n",
       "\\hline\n",
       "\t1 & 10008 & 555\\\\\n",
       "\t2 & 10008 & 555\\\\\n",
       "\t3 & 10008 & 555\\\\\n",
       "\t4 & 10008 & 555\\\\\n",
       "\t5 & 10008 & 555\\\\\n",
       "\t6 & 10008 & 555\\\\\n",
       "\\end{tabular}\n"
      ],
      "text/markdown": [
       "\n",
       "A data.frame: 6 × 2\n",
       "\n",
       "| <!--/--> | tipo &lt;int&gt; | boicote &lt;int&gt; |\n",
       "|---|---|---|\n",
       "| 1 | 10008 | 555 |\n",
       "| 2 | 10008 | 555 |\n",
       "| 3 | 10008 | 555 |\n",
       "| 4 | 10008 | 555 |\n",
       "| 5 | 10008 | 555 |\n",
       "| 6 | 10008 | 555 |\n",
       "\n"
      ],
      "text/plain": [
       "  tipo  boicote\n",
       "1 10008 555    \n",
       "2 10008 555    \n",
       "3 10008 555    \n",
       "4 10008 555    \n",
       "5 10008 555    \n",
       "6 10008 555    "
      ]
     },
     "metadata": {},
     "output_type": "display_data"
    }
   ],
   "source": [
    "head(df_boicote)"
   ]
  },
  {
   "cell_type": "code",
   "execution_count": 160,
   "id": "common-factory",
   "metadata": {},
   "outputs": [],
   "source": [
    "df_boicote$tipo = ifelse(df_boicote$tipo==118|df_boicote$tipo==120|df_boicote$tipo==121\n",
    "      |df_boicote$tipo==10005|df_boicote$tipo==10006|df_boicote$tipo==10007\n",
    "      |df_boicote$tipo==10008|df_boicote$tipo==10009|df_boicote$tipo==17634, \"privada\", \"publica\")\n",
    "df_boicote$boicote = ifelse(df_boicote$boicote==333, \"boicotou\", \"realizou\")"
   ]
  },
  {
   "cell_type": "code",
   "execution_count": 149,
   "id": "aggressive-science",
   "metadata": {
    "scrolled": true
   },
   "outputs": [
    {
     "data": {
      "text/html": [
       "<table class=\"dataframe\">\n",
       "<caption>A data.frame: 8075 × 2</caption>\n",
       "<thead>\n",
       "\t<tr><th scope=col>tipo</th><th scope=col>boicote</th></tr>\n",
       "\t<tr><th scope=col>&lt;fct&gt;</th><th scope=col>&lt;fct&gt;</th></tr>\n",
       "</thead>\n",
       "<tbody>\n",
       "\t<tr><td>privada</td><td>realizou</td></tr>\n",
       "\t<tr><td>privada</td><td>realizou</td></tr>\n",
       "\t<tr><td>privada</td><td>realizou</td></tr>\n",
       "\t<tr><td>privada</td><td>realizou</td></tr>\n",
       "\t<tr><td>privada</td><td>realizou</td></tr>\n",
       "\t<tr><td>privada</td><td>realizou</td></tr>\n",
       "\t<tr><td>privada</td><td>realizou</td></tr>\n",
       "\t<tr><td>privada</td><td>realizou</td></tr>\n",
       "\t<tr><td>privada</td><td>realizou</td></tr>\n",
       "\t<tr><td>privada</td><td>realizou</td></tr>\n",
       "\t<tr><td>privada</td><td>realizou</td></tr>\n",
       "\t<tr><td>privada</td><td>realizou</td></tr>\n",
       "\t<tr><td>privada</td><td>realizou</td></tr>\n",
       "\t<tr><td>privada</td><td>realizou</td></tr>\n",
       "\t<tr><td>privada</td><td>realizou</td></tr>\n",
       "\t<tr><td>privada</td><td>realizou</td></tr>\n",
       "\t<tr><td>privada</td><td>realizou</td></tr>\n",
       "\t<tr><td>privada</td><td>realizou</td></tr>\n",
       "\t<tr><td>privada</td><td>realizou</td></tr>\n",
       "\t<tr><td>privada</td><td>realizou</td></tr>\n",
       "\t<tr><td>privada</td><td>realizou</td></tr>\n",
       "\t<tr><td>privada</td><td>realizou</td></tr>\n",
       "\t<tr><td>privada</td><td>realizou</td></tr>\n",
       "\t<tr><td>privada</td><td>realizou</td></tr>\n",
       "\t<tr><td>privada</td><td>realizou</td></tr>\n",
       "\t<tr><td>privada</td><td>realizou</td></tr>\n",
       "\t<tr><td>privada</td><td>realizou</td></tr>\n",
       "\t<tr><td>privada</td><td>realizou</td></tr>\n",
       "\t<tr><td>privada</td><td>realizou</td></tr>\n",
       "\t<tr><td>privada</td><td>realizou</td></tr>\n",
       "\t<tr><td>...</td><td>...</td></tr>\n",
       "\t<tr><td>privada</td><td>realizou</td></tr>\n",
       "\t<tr><td>publica</td><td>realizou</td></tr>\n",
       "\t<tr><td>privada</td><td>realizou</td></tr>\n",
       "\t<tr><td>privada</td><td>realizou</td></tr>\n",
       "\t<tr><td>privada</td><td>realizou</td></tr>\n",
       "\t<tr><td>privada</td><td>realizou</td></tr>\n",
       "\t<tr><td>privada</td><td>realizou</td></tr>\n",
       "\t<tr><td>privada</td><td>realizou</td></tr>\n",
       "\t<tr><td>privada</td><td>realizou</td></tr>\n",
       "\t<tr><td>publica</td><td>realizou</td></tr>\n",
       "\t<tr><td>publica</td><td>realizou</td></tr>\n",
       "\t<tr><td>publica</td><td>realizou</td></tr>\n",
       "\t<tr><td>publica</td><td>realizou</td></tr>\n",
       "\t<tr><td>privada</td><td>realizou</td></tr>\n",
       "\t<tr><td>publica</td><td>realizou</td></tr>\n",
       "\t<tr><td>publica</td><td>realizou</td></tr>\n",
       "\t<tr><td>publica</td><td>realizou</td></tr>\n",
       "\t<tr><td>publica</td><td>realizou</td></tr>\n",
       "\t<tr><td>publica</td><td>realizou</td></tr>\n",
       "\t<tr><td>publica</td><td>realizou</td></tr>\n",
       "\t<tr><td>publica</td><td>realizou</td></tr>\n",
       "\t<tr><td>publica</td><td>realizou</td></tr>\n",
       "\t<tr><td>privada</td><td>realizou</td></tr>\n",
       "\t<tr><td>privada</td><td>realizou</td></tr>\n",
       "\t<tr><td>privada</td><td>realizou</td></tr>\n",
       "\t<tr><td>privada</td><td>realizou</td></tr>\n",
       "\t<tr><td>privada</td><td>realizou</td></tr>\n",
       "\t<tr><td>privada</td><td>realizou</td></tr>\n",
       "\t<tr><td>privada</td><td>realizou</td></tr>\n",
       "\t<tr><td>privada</td><td>realizou</td></tr>\n",
       "</tbody>\n",
       "</table>\n"
      ],
      "text/latex": [
       "A data.frame: 8075 × 2\n",
       "\\begin{tabular}{ll}\n",
       " tipo & boicote\\\\\n",
       " <fct> & <fct>\\\\\n",
       "\\hline\n",
       "\t privada & realizou\\\\\n",
       "\t privada & realizou\\\\\n",
       "\t privada & realizou\\\\\n",
       "\t privada & realizou\\\\\n",
       "\t privada & realizou\\\\\n",
       "\t privada & realizou\\\\\n",
       "\t privada & realizou\\\\\n",
       "\t privada & realizou\\\\\n",
       "\t privada & realizou\\\\\n",
       "\t privada & realizou\\\\\n",
       "\t privada & realizou\\\\\n",
       "\t privada & realizou\\\\\n",
       "\t privada & realizou\\\\\n",
       "\t privada & realizou\\\\\n",
       "\t privada & realizou\\\\\n",
       "\t privada & realizou\\\\\n",
       "\t privada & realizou\\\\\n",
       "\t privada & realizou\\\\\n",
       "\t privada & realizou\\\\\n",
       "\t privada & realizou\\\\\n",
       "\t privada & realizou\\\\\n",
       "\t privada & realizou\\\\\n",
       "\t privada & realizou\\\\\n",
       "\t privada & realizou\\\\\n",
       "\t privada & realizou\\\\\n",
       "\t privada & realizou\\\\\n",
       "\t privada & realizou\\\\\n",
       "\t privada & realizou\\\\\n",
       "\t privada & realizou\\\\\n",
       "\t privada & realizou\\\\\n",
       "\t ... & ...\\\\\n",
       "\t privada & realizou\\\\\n",
       "\t publica & realizou\\\\\n",
       "\t privada & realizou\\\\\n",
       "\t privada & realizou\\\\\n",
       "\t privada & realizou\\\\\n",
       "\t privada & realizou\\\\\n",
       "\t privada & realizou\\\\\n",
       "\t privada & realizou\\\\\n",
       "\t privada & realizou\\\\\n",
       "\t publica & realizou\\\\\n",
       "\t publica & realizou\\\\\n",
       "\t publica & realizou\\\\\n",
       "\t publica & realizou\\\\\n",
       "\t privada & realizou\\\\\n",
       "\t publica & realizou\\\\\n",
       "\t publica & realizou\\\\\n",
       "\t publica & realizou\\\\\n",
       "\t publica & realizou\\\\\n",
       "\t publica & realizou\\\\\n",
       "\t publica & realizou\\\\\n",
       "\t publica & realizou\\\\\n",
       "\t publica & realizou\\\\\n",
       "\t privada & realizou\\\\\n",
       "\t privada & realizou\\\\\n",
       "\t privada & realizou\\\\\n",
       "\t privada & realizou\\\\\n",
       "\t privada & realizou\\\\\n",
       "\t privada & realizou\\\\\n",
       "\t privada & realizou\\\\\n",
       "\t privada & realizou\\\\\n",
       "\\end{tabular}\n"
      ],
      "text/markdown": [
       "\n",
       "A data.frame: 8075 × 2\n",
       "\n",
       "| tipo &lt;fct&gt; | boicote &lt;fct&gt; |\n",
       "|---|---|\n",
       "| privada | realizou |\n",
       "| privada | realizou |\n",
       "| privada | realizou |\n",
       "| privada | realizou |\n",
       "| privada | realizou |\n",
       "| privada | realizou |\n",
       "| privada | realizou |\n",
       "| privada | realizou |\n",
       "| privada | realizou |\n",
       "| privada | realizou |\n",
       "| privada | realizou |\n",
       "| privada | realizou |\n",
       "| privada | realizou |\n",
       "| privada | realizou |\n",
       "| privada | realizou |\n",
       "| privada | realizou |\n",
       "| privada | realizou |\n",
       "| privada | realizou |\n",
       "| privada | realizou |\n",
       "| privada | realizou |\n",
       "| privada | realizou |\n",
       "| privada | realizou |\n",
       "| privada | realizou |\n",
       "| privada | realizou |\n",
       "| privada | realizou |\n",
       "| privada | realizou |\n",
       "| privada | realizou |\n",
       "| privada | realizou |\n",
       "| privada | realizou |\n",
       "| privada | realizou |\n",
       "| ... | ... |\n",
       "| privada | realizou |\n",
       "| publica | realizou |\n",
       "| privada | realizou |\n",
       "| privada | realizou |\n",
       "| privada | realizou |\n",
       "| privada | realizou |\n",
       "| privada | realizou |\n",
       "| privada | realizou |\n",
       "| privada | realizou |\n",
       "| publica | realizou |\n",
       "| publica | realizou |\n",
       "| publica | realizou |\n",
       "| publica | realizou |\n",
       "| privada | realizou |\n",
       "| publica | realizou |\n",
       "| publica | realizou |\n",
       "| publica | realizou |\n",
       "| publica | realizou |\n",
       "| publica | realizou |\n",
       "| publica | realizou |\n",
       "| publica | realizou |\n",
       "| publica | realizou |\n",
       "| privada | realizou |\n",
       "| privada | realizou |\n",
       "| privada | realizou |\n",
       "| privada | realizou |\n",
       "| privada | realizou |\n",
       "| privada | realizou |\n",
       "| privada | realizou |\n",
       "| privada | realizou |\n",
       "\n"
      ],
      "text/plain": [
       "     tipo    boicote \n",
       "1    privada realizou\n",
       "2    privada realizou\n",
       "3    privada realizou\n",
       "4    privada realizou\n",
       "5    privada realizou\n",
       "6    privada realizou\n",
       "7    privada realizou\n",
       "8    privada realizou\n",
       "9    privada realizou\n",
       "10   privada realizou\n",
       "11   privada realizou\n",
       "12   privada realizou\n",
       "13   privada realizou\n",
       "14   privada realizou\n",
       "15   privada realizou\n",
       "16   privada realizou\n",
       "17   privada realizou\n",
       "18   privada realizou\n",
       "19   privada realizou\n",
       "20   privada realizou\n",
       "21   privada realizou\n",
       "22   privada realizou\n",
       "23   privada realizou\n",
       "24   privada realizou\n",
       "25   privada realizou\n",
       "26   privada realizou\n",
       "27   privada realizou\n",
       "28   privada realizou\n",
       "29   privada realizou\n",
       "30   privada realizou\n",
       "...  ...     ...     \n",
       "8046 privada realizou\n",
       "8047 publica realizou\n",
       "8048 privada realizou\n",
       "8049 privada realizou\n",
       "8050 privada realizou\n",
       "8051 privada realizou\n",
       "8052 privada realizou\n",
       "8053 privada realizou\n",
       "8054 privada realizou\n",
       "8055 publica realizou\n",
       "8056 publica realizou\n",
       "8057 publica realizou\n",
       "8058 publica realizou\n",
       "8059 privada realizou\n",
       "8060 publica realizou\n",
       "8061 publica realizou\n",
       "8062 publica realizou\n",
       "8063 publica realizou\n",
       "8064 publica realizou\n",
       "8065 publica realizou\n",
       "8066 publica realizou\n",
       "8067 publica realizou\n",
       "8068 privada realizou\n",
       "8069 privada realizou\n",
       "8070 privada realizou\n",
       "8071 privada realizou\n",
       "8072 privada realizou\n",
       "8073 privada realizou\n",
       "8074 privada realizou\n",
       "8075 privada realizou"
      ]
     },
     "metadata": {},
     "output_type": "display_data"
    }
   ],
   "source": [
    "df_boicote$tipo = as.factor(df_boicote$tipo)\n",
    "df_boicote$boicote = as.factor(df_boicote$boicote)\n",
    "df_boicote"
   ]
  },
  {
   "cell_type": "code",
   "execution_count": 163,
   "id": "hundred-anime",
   "metadata": {},
   "outputs": [
    {
     "data": {
      "image/png": "[encoded data removed]",
      "text/plain": [
       "plot without title"
      ]
     },
     "metadata": {
      "image/png": {
       "height": 420,
       "width": 720
      }
     },
     "output_type": "display_data"
    }
   ],
   "source": [
    "options(repr.plot.width = 12, repr.plot.height = 7)\n",
    "levels(df_boicote$tipo) = c(\"Privada\", \"Pública\")\n",
    "ggplot(df_boicote, aes(x= boicote,  group=tipo)) + \n",
    "    geom_bar(aes(y = ..prop.., fill = factor(..x..)), stat=\"count\") +\n",
    "    geom_text(aes( label = scales::percent(..prop..),\n",
    "                   y= ..prop.. ), stat= \"count\", vjust = -.5) +\n",
    "    labs(title='Relação de alunos que boicotaram a prova entre instituições públicas e privadas', \n",
    "         y = \"Percent\", fill=\"Presença\",\n",
    "         caption=('Fonte: Enade/2018')) +\n",
    "    facet_grid(~tipo) +\n",
    "    scale_y_continuous(labels = scales::percent)+\n",
    "    theme(axis.text.x = element_text(angle = 45, vjust = 0.9, hjust=1),\n",
    "          axis.text = element_text(size = 14));\n",
    "    "
   ]
  },
  {
   "cell_type": "code",
   "execution_count": 201,
   "id": "alleged-mixer",
   "metadata": {},
   "outputs": [],
   "source": [
    "df_model_1 = df %>%\n",
    "    filter(TP_PRES==555)%>%\n",
    "    select(TP_PR_GER, TP_SEXO, NU_IDADE, QE_I02, QE_I01,CO_CATEGAD,CO_TURNO_GRADUACAO)%>%\n",
    "    setNames(c(\"boicote\", \"genero\", \"idade\", \"cor\", \"estado_civil\", \"instituicao\", \"turno\"))"
   ]
  },
  {
   "cell_type": "code",
   "execution_count": 202,
   "id": "compressed-battle",
   "metadata": {},
   "outputs": [],
   "source": [
    "df_model_1$instituicao = ifelse(df_model_1$instituicao==118|df_model_1$instituicao==120|df_model_1$instituicao==121\n",
    "      |df_model_1$instituicao==10005|df_model_1$instituicao==10006|df_model_1$instituicao==10007\n",
    "      |df_model_1$instituicao==10008|df_model_1$instituicao==10009|df_model_1$instituicao==17634, \"privada\", \"publica\")\n",
    "df_model_1$boicote = ifelse(df_model_1$boicote==333, \"boicotou\", \"realizou\")"
   ]
  },
  {
   "cell_type": "code",
   "execution_count": 203,
   "id": "printable-costs",
   "metadata": {},
   "outputs": [],
   "source": [
    "df_model_1$cor = mapvalues(df_model_1$cor, from=c(\"A\",\"B\",\"C\",\"D\",\"E\",\"F\"), to=c(\"branca\",\"preta\",\"amarela\",\"parda\",\"indigina\",\"não declarado\"))\n",
    "df_model_1$estado_civil = mapvalues(df_model_1$estado_civil, from=c(\"A\",\"B\",\"C\",\"D\",\"E\"), to=c(\"solteiro\",\"casado\",\"separado\",\"viuvo\",\"outro\"))\n",
    "df_model_1$turno = mapvalues(df_model_1$turno, from=c(1,2,3,4), to=c(\"matutino\",\"vespertino\",\"integral\",\"noturno\"))"
   ]
  },
  {
   "cell_type": "code",
   "execution_count": 204,
   "id": "efficient-championship",
   "metadata": {},
   "outputs": [],
   "source": [
    "df_model_1$instituicao = as.factor(df_model_1$instituicao)\n",
    "df_model_1$boicote = as.factor(df_model_1$boicote)\n",
    "df_model_1$turno = as.factor(df_model_1$turno)"
   ]
  },
  {
   "cell_type": "code",
   "execution_count": 205,
   "id": "fluid-livestock",
   "metadata": {
    "scrolled": true
   },
   "outputs": [
    {
     "data": {
      "text/html": [
       "<table class=\"dataframe\">\n",
       "<caption>A data.frame: 8075 × 7</caption>\n",
       "<thead>\n",
       "\t<tr><th scope=col>boicote</th><th scope=col>genero</th><th scope=col>idade</th><th scope=col>cor</th><th scope=col>estado_civil</th><th scope=col>instituicao</th><th scope=col>turno</th></tr>\n",
       "\t<tr><th scope=col>&lt;fct&gt;</th><th scope=col>&lt;fct&gt;</th><th scope=col>&lt;int&gt;</th><th scope=col>&lt;fct&gt;</th><th scope=col>&lt;fct&gt;</th><th scope=col>&lt;fct&gt;</th><th scope=col>&lt;fct&gt;</th></tr>\n",
       "</thead>\n",
       "<tbody>\n",
       "\t<tr><td>realizou</td><td>F</td><td>28</td><td>branca       </td><td>solteiro</td><td>privada</td><td>noturno</td></tr>\n",
       "\t<tr><td>realizou</td><td>M</td><td>30</td><td>branca       </td><td>solteiro</td><td>privada</td><td>noturno</td></tr>\n",
       "\t<tr><td>realizou</td><td>M</td><td>29</td><td>branca       </td><td>solteiro</td><td>privada</td><td>noturno</td></tr>\n",
       "\t<tr><td>realizou</td><td>F</td><td>22</td><td>branca       </td><td>casado  </td><td>privada</td><td>noturno</td></tr>\n",
       "\t<tr><td>realizou</td><td>M</td><td>47</td><td>branca       </td><td>casado  </td><td>privada</td><td>noturno</td></tr>\n",
       "\t<tr><td>realizou</td><td>M</td><td>27</td><td>branca       </td><td>solteiro</td><td>privada</td><td>noturno</td></tr>\n",
       "\t<tr><td>realizou</td><td>F</td><td>23</td><td>branca       </td><td>solteiro</td><td>privada</td><td>noturno</td></tr>\n",
       "\t<tr><td>realizou</td><td>F</td><td>48</td><td>branca       </td><td>solteiro</td><td>privada</td><td>noturno</td></tr>\n",
       "\t<tr><td>realizou</td><td>M</td><td>23</td><td>branca       </td><td>solteiro</td><td>privada</td><td>noturno</td></tr>\n",
       "\t<tr><td>realizou</td><td>F</td><td>21</td><td>parda        </td><td>solteiro</td><td>privada</td><td>noturno</td></tr>\n",
       "\t<tr><td>realizou</td><td>F</td><td>24</td><td>branca       </td><td>casado  </td><td>privada</td><td>noturno</td></tr>\n",
       "\t<tr><td>realizou</td><td>M</td><td>22</td><td>branca       </td><td>solteiro</td><td>privada</td><td>noturno</td></tr>\n",
       "\t<tr><td>realizou</td><td>M</td><td>35</td><td>parda        </td><td>casado  </td><td>privada</td><td>noturno</td></tr>\n",
       "\t<tr><td>realizou</td><td>M</td><td>22</td><td>branca       </td><td>solteiro</td><td>privada</td><td>noturno</td></tr>\n",
       "\t<tr><td>realizou</td><td>M</td><td>21</td><td>branca       </td><td>solteiro</td><td>privada</td><td>noturno</td></tr>\n",
       "\t<tr><td>realizou</td><td>M</td><td>36</td><td>branca       </td><td>solteiro</td><td>privada</td><td>noturno</td></tr>\n",
       "\t<tr><td>realizou</td><td>M</td><td>21</td><td>branca       </td><td>solteiro</td><td>privada</td><td>noturno</td></tr>\n",
       "\t<tr><td>realizou</td><td>F</td><td>24</td><td>branca       </td><td>casado  </td><td>privada</td><td>noturno</td></tr>\n",
       "\t<tr><td>realizou</td><td>F</td><td>22</td><td>branca       </td><td>solteiro</td><td>privada</td><td>noturno</td></tr>\n",
       "\t<tr><td>realizou</td><td>M</td><td>31</td><td>branca       </td><td>solteiro</td><td>privada</td><td>noturno</td></tr>\n",
       "\t<tr><td>realizou</td><td>F</td><td>23</td><td>branca       </td><td>solteiro</td><td>privada</td><td>noturno</td></tr>\n",
       "\t<tr><td>realizou</td><td>F</td><td>21</td><td>branca       </td><td>solteiro</td><td>privada</td><td>noturno</td></tr>\n",
       "\t<tr><td>realizou</td><td>M</td><td>23</td><td>branca       </td><td>solteiro</td><td>privada</td><td>noturno</td></tr>\n",
       "\t<tr><td>realizou</td><td>M</td><td>22</td><td>branca       </td><td>solteiro</td><td>privada</td><td>noturno</td></tr>\n",
       "\t<tr><td>realizou</td><td>M</td><td>22</td><td>não declarado</td><td>solteiro</td><td>privada</td><td>noturno</td></tr>\n",
       "\t<tr><td>realizou</td><td>M</td><td>23</td><td>branca       </td><td>solteiro</td><td>privada</td><td>noturno</td></tr>\n",
       "\t<tr><td>realizou</td><td>M</td><td>23</td><td>branca       </td><td>solteiro</td><td>privada</td><td>noturno</td></tr>\n",
       "\t<tr><td>realizou</td><td>M</td><td>26</td><td>branca       </td><td>solteiro</td><td>privada</td><td>noturno</td></tr>\n",
       "\t<tr><td>realizou</td><td>M</td><td>34</td><td>branca       </td><td>outro   </td><td>privada</td><td>noturno</td></tr>\n",
       "\t<tr><td>realizou</td><td>M</td><td>22</td><td>branca       </td><td>solteiro</td><td>privada</td><td>noturno</td></tr>\n",
       "\t<tr><td>...</td><td>...</td><td>...</td><td>...</td><td>...</td><td>...</td><td>...</td></tr>\n",
       "\t<tr><td>realizou</td><td>M</td><td>29</td><td>branca       </td><td>solteiro</td><td>privada</td><td>noturno </td></tr>\n",
       "\t<tr><td>realizou</td><td>M</td><td>27</td><td>branca       </td><td>solteiro</td><td>publica</td><td>noturno </td></tr>\n",
       "\t<tr><td>realizou</td><td>M</td><td>32</td><td>branca       </td><td>outro   </td><td>privada</td><td>noturno </td></tr>\n",
       "\t<tr><td>realizou</td><td>M</td><td>31</td><td>branca       </td><td>casado  </td><td>privada</td><td>noturno </td></tr>\n",
       "\t<tr><td>realizou</td><td>F</td><td>61</td><td>branca       </td><td>viuvo   </td><td>privada</td><td>noturno </td></tr>\n",
       "\t<tr><td>realizou</td><td>F</td><td>22</td><td>amarela      </td><td>solteiro</td><td>privada</td><td>integral</td></tr>\n",
       "\t<tr><td>realizou</td><td>M</td><td>23</td><td>branca       </td><td>solteiro</td><td>privada</td><td>noturno </td></tr>\n",
       "\t<tr><td>realizou</td><td>M</td><td>31</td><td>parda        </td><td>casado  </td><td>privada</td><td>noturno </td></tr>\n",
       "\t<tr><td>realizou</td><td>M</td><td>29</td><td>branca       </td><td>solteiro</td><td>privada</td><td>noturno </td></tr>\n",
       "\t<tr><td>realizou</td><td>M</td><td>24</td><td>não declarado</td><td>solteiro</td><td>publica</td><td>integral</td></tr>\n",
       "\t<tr><td>realizou</td><td>F</td><td>22</td><td>branca       </td><td>solteiro</td><td>publica</td><td>integral</td></tr>\n",
       "\t<tr><td>realizou</td><td>M</td><td>23</td><td>branca       </td><td>solteiro</td><td>publica</td><td>integral</td></tr>\n",
       "\t<tr><td>realizou</td><td>M</td><td>32</td><td>preta        </td><td>casado  </td><td>publica</td><td>noturno </td></tr>\n",
       "\t<tr><td>realizou</td><td>F</td><td>25</td><td>parda        </td><td>solteiro</td><td>privada</td><td>integral</td></tr>\n",
       "\t<tr><td>realizou</td><td>F</td><td>30</td><td>parda        </td><td>solteiro</td><td>publica</td><td>noturno </td></tr>\n",
       "\t<tr><td>realizou</td><td>M</td><td>23</td><td>branca       </td><td>solteiro</td><td>publica</td><td>integral</td></tr>\n",
       "\t<tr><td>realizou</td><td>M</td><td>24</td><td>branca       </td><td>solteiro</td><td>publica</td><td>noturno </td></tr>\n",
       "\t<tr><td>realizou</td><td>F</td><td>23</td><td>branca       </td><td>solteiro</td><td>publica</td><td>integral</td></tr>\n",
       "\t<tr><td>realizou</td><td>M</td><td>37</td><td>branca       </td><td>solteiro</td><td>publica</td><td>noturno </td></tr>\n",
       "\t<tr><td>realizou</td><td>M</td><td>31</td><td>branca       </td><td>solteiro</td><td>publica</td><td>noturno </td></tr>\n",
       "\t<tr><td>realizou</td><td>F</td><td>24</td><td>amarela      </td><td>solteiro</td><td>publica</td><td>integral</td></tr>\n",
       "\t<tr><td>realizou</td><td>M</td><td>30</td><td>branca       </td><td>solteiro</td><td>publica</td><td>noturno </td></tr>\n",
       "\t<tr><td>realizou</td><td>F</td><td>28</td><td>branca       </td><td>solteiro</td><td>privada</td><td>noturno </td></tr>\n",
       "\t<tr><td>realizou</td><td>M</td><td>24</td><td>parda        </td><td>solteiro</td><td>privada</td><td>noturno </td></tr>\n",
       "\t<tr><td>realizou</td><td>M</td><td>23</td><td>parda        </td><td>solteiro</td><td>privada</td><td>noturno </td></tr>\n",
       "\t<tr><td>realizou</td><td>F</td><td>27</td><td>branca       </td><td>solteiro</td><td>privada</td><td>noturno </td></tr>\n",
       "\t<tr><td>realizou</td><td>M</td><td>41</td><td>branca       </td><td>solteiro</td><td>privada</td><td>noturno </td></tr>\n",
       "\t<tr><td>realizou</td><td>M</td><td>26</td><td>parda        </td><td>solteiro</td><td>privada</td><td>noturno </td></tr>\n",
       "\t<tr><td>realizou</td><td>M</td><td>30</td><td>preta        </td><td>solteiro</td><td>privada</td><td>noturno </td></tr>\n",
       "\t<tr><td>realizou</td><td>F</td><td>23</td><td>branca       </td><td>solteiro</td><td>privada</td><td>noturno </td></tr>\n",
       "</tbody>\n",
       "</table>\n"
      ],
      "text/latex": [
       "A data.frame: 8075 × 7\n",
       "\\begin{tabular}{lllllll}\n",
       " boicote & genero & idade & cor & estado\\_civil & instituicao & turno\\\\\n",
       " <fct> & <fct> & <int> & <fct> & <fct> & <fct> & <fct>\\\\\n",
       "\\hline\n",
       "\t realizou & F & 28 & branca        & solteiro & privada & noturno\\\\\n",
       "\t realizou & M & 30 & branca        & solteiro & privada & noturno\\\\\n",
       "\t realizou & M & 29 & branca        & solteiro & privada & noturno\\\\\n",
       "\t realizou & F & 22 & branca        & casado   & privada & noturno\\\\\n",
       "\t realizou & M & 47 & branca        & casado   & privada & noturno\\\\\n",
       "\t realizou & M & 27 & branca        & solteiro & privada & noturno\\\\\n",
       "\t realizou & F & 23 & branca        & solteiro & privada & noturno\\\\\n",
       "\t realizou & F & 48 & branca        & solteiro & privada & noturno\\\\\n",
       "\t realizou & M & 23 & branca        & solteiro & privada & noturno\\\\\n",
       "\t realizou & F & 21 & parda         & solteiro & privada & noturno\\\\\n",
       "\t realizou & F & 24 & branca        & casado   & privada & noturno\\\\\n",
       "\t realizou & M & 22 & branca        & solteiro & privada & noturno\\\\\n",
       "\t realizou & M & 35 & parda         & casado   & privada & noturno\\\\\n",
       "\t realizou & M & 22 & branca        & solteiro & privada & noturno\\\\\n",
       "\t realizou & M & 21 & branca        & solteiro & privada & noturno\\\\\n",
       "\t realizou & M & 36 & branca        & solteiro & privada & noturno\\\\\n",
       "\t realizou & M & 21 & branca        & solteiro & privada & noturno\\\\\n",
       "\t realizou & F & 24 & branca        & casado   & privada & noturno\\\\\n",
       "\t realizou & F & 22 & branca        & solteiro & privada & noturno\\\\\n",
       "\t realizou & M & 31 & branca        & solteiro & privada & noturno\\\\\n",
       "\t realizou & F & 23 & branca        & solteiro & privada & noturno\\\\\n",
       "\t realizou & F & 21 & branca        & solteiro & privada & noturno\\\\\n",
       "\t realizou & M & 23 & branca        & solteiro & privada & noturno\\\\\n",
       "\t realizou & M & 22 & branca        & solteiro & privada & noturno\\\\\n",
       "\t realizou & M & 22 & não declarado & solteiro & privada & noturno\\\\\n",
       "\t realizou & M & 23 & branca        & solteiro & privada & noturno\\\\\n",
       "\t realizou & M & 23 & branca        & solteiro & privada & noturno\\\\\n",
       "\t realizou & M & 26 & branca        & solteiro & privada & noturno\\\\\n",
       "\t realizou & M & 34 & branca        & outro    & privada & noturno\\\\\n",
       "\t realizou & M & 22 & branca        & solteiro & privada & noturno\\\\\n",
       "\t ... & ... & ... & ... & ... & ... & ...\\\\\n",
       "\t realizou & M & 29 & branca        & solteiro & privada & noturno \\\\\n",
       "\t realizou & M & 27 & branca        & solteiro & publica & noturno \\\\\n",
       "\t realizou & M & 32 & branca        & outro    & privada & noturno \\\\\n",
       "\t realizou & M & 31 & branca        & casado   & privada & noturno \\\\\n",
       "\t realizou & F & 61 & branca        & viuvo    & privada & noturno \\\\\n",
       "\t realizou & F & 22 & amarela       & solteiro & privada & integral\\\\\n",
       "\t realizou & M & 23 & branca        & solteiro & privada & noturno \\\\\n",
       "\t realizou & M & 31 & parda         & casado   & privada & noturno \\\\\n",
       "\t realizou & M & 29 & branca        & solteiro & privada & noturno \\\\\n",
       "\t realizou & M & 24 & não declarado & solteiro & publica & integral\\\\\n",
       "\t realizou & F & 22 & branca        & solteiro & publica & integral\\\\\n",
       "\t realizou & M & 23 & branca        & solteiro & publica & integral\\\\\n",
       "\t realizou & M & 32 & preta         & casado   & publica & noturno \\\\\n",
       "\t realizou & F & 25 & parda         & solteiro & privada & integral\\\\\n",
       "\t realizou & F & 30 & parda         & solteiro & publica & noturno \\\\\n",
       "\t realizou & M & 23 & branca        & solteiro & publica & integral\\\\\n",
       "\t realizou & M & 24 & branca        & solteiro & publica & noturno \\\\\n",
       "\t realizou & F & 23 & branca        & solteiro & publica & integral\\\\\n",
       "\t realizou & M & 37 & branca        & solteiro & publica & noturno \\\\\n",
       "\t realizou & M & 31 & branca        & solteiro & publica & noturno \\\\\n",
       "\t realizou & F & 24 & amarela       & solteiro & publica & integral\\\\\n",
       "\t realizou & M & 30 & branca        & solteiro & publica & noturno \\\\\n",
       "\t realizou & F & 28 & branca        & solteiro & privada & noturno \\\\\n",
       "\t realizou & M & 24 & parda         & solteiro & privada & noturno \\\\\n",
       "\t realizou & M & 23 & parda         & solteiro & privada & noturno \\\\\n",
       "\t realizou & F & 27 & branca        & solteiro & privada & noturno \\\\\n",
       "\t realizou & M & 41 & branca        & solteiro & privada & noturno \\\\\n",
       "\t realizou & M & 26 & parda         & solteiro & privada & noturno \\\\\n",
       "\t realizou & M & 30 & preta         & solteiro & privada & noturno \\\\\n",
       "\t realizou & F & 23 & branca        & solteiro & privada & noturno \\\\\n",
       "\\end{tabular}\n"
      ],
      "text/markdown": [
       "\n",
       "A data.frame: 8075 × 7\n",
       "\n",
       "| boicote &lt;fct&gt; | genero &lt;fct&gt; | idade &lt;int&gt; | cor &lt;fct&gt; | estado_civil &lt;fct&gt; | instituicao &lt;fct&gt; | turno &lt;fct&gt; |\n",
       "|---|---|---|---|---|---|---|\n",
       "| realizou | F | 28 | branca        | solteiro | privada | noturno |\n",
       "| realizou | M | 30 | branca        | solteiro | privada | noturno |\n",
       "| realizou | M | 29 | branca        | solteiro | privada | noturno |\n",
       "| realizou | F | 22 | branca        | casado   | privada | noturno |\n",
       "| realizou | M | 47 | branca        | casado   | privada | noturno |\n",
       "| realizou | M | 27 | branca        | solteiro | privada | noturno |\n",
       "| realizou | F | 23 | branca        | solteiro | privada | noturno |\n",
       "| realizou | F | 48 | branca        | solteiro | privada | noturno |\n",
       "| realizou | M | 23 | branca        | solteiro | privada | noturno |\n",
       "| realizou | F | 21 | parda         | solteiro | privada | noturno |\n",
       "| realizou | F | 24 | branca        | casado   | privada | noturno |\n",
       "| realizou | M | 22 | branca        | solteiro | privada | noturno |\n",
       "| realizou | M | 35 | parda         | casado   | privada | noturno |\n",
       "| realizou | M | 22 | branca        | solteiro | privada | noturno |\n",
       "| realizou | M | 21 | branca        | solteiro | privada | noturno |\n",
       "| realizou | M | 36 | branca        | solteiro | privada | noturno |\n",
       "| realizou | M | 21 | branca        | solteiro | privada | noturno |\n",
       "| realizou | F | 24 | branca        | casado   | privada | noturno |\n",
       "| realizou | F | 22 | branca        | solteiro | privada | noturno |\n",
       "| realizou | M | 31 | branca        | solteiro | privada | noturno |\n",
       "| realizou | F | 23 | branca        | solteiro | privada | noturno |\n",
       "| realizou | F | 21 | branca        | solteiro | privada | noturno |\n",
       "| realizou | M | 23 | branca        | solteiro | privada | noturno |\n",
       "| realizou | M | 22 | branca        | solteiro | privada | noturno |\n",
       "| realizou | M | 22 | não declarado | solteiro | privada | noturno |\n",
       "| realizou | M | 23 | branca        | solteiro | privada | noturno |\n",
       "| realizou | M | 23 | branca        | solteiro | privada | noturno |\n",
       "| realizou | M | 26 | branca        | solteiro | privada | noturno |\n",
       "| realizou | M | 34 | branca        | outro    | privada | noturno |\n",
       "| realizou | M | 22 | branca        | solteiro | privada | noturno |\n",
       "| ... | ... | ... | ... | ... | ... | ... |\n",
       "| realizou | M | 29 | branca        | solteiro | privada | noturno  |\n",
       "| realizou | M | 27 | branca        | solteiro | publica | noturno  |\n",
       "| realizou | M | 32 | branca        | outro    | privada | noturno  |\n",
       "| realizou | M | 31 | branca        | casado   | privada | noturno  |\n",
       "| realizou | F | 61 | branca        | viuvo    | privada | noturno  |\n",
       "| realizou | F | 22 | amarela       | solteiro | privada | integral |\n",
       "| realizou | M | 23 | branca        | solteiro | privada | noturno  |\n",
       "| realizou | M | 31 | parda         | casado   | privada | noturno  |\n",
       "| realizou | M | 29 | branca        | solteiro | privada | noturno  |\n",
       "| realizou | M | 24 | não declarado | solteiro | publica | integral |\n",
       "| realizou | F | 22 | branca        | solteiro | publica | integral |\n",
       "| realizou | M | 23 | branca        | solteiro | publica | integral |\n",
       "| realizou | M | 32 | preta         | casado   | publica | noturno  |\n",
       "| realizou | F | 25 | parda         | solteiro | privada | integral |\n",
       "| realizou | F | 30 | parda         | solteiro | publica | noturno  |\n",
       "| realizou | M | 23 | branca        | solteiro | publica | integral |\n",
       "| realizou | M | 24 | branca        | solteiro | publica | noturno  |\n",
       "| realizou | F | 23 | branca        | solteiro | publica | integral |\n",
       "| realizou | M | 37 | branca        | solteiro | publica | noturno  |\n",
       "| realizou | M | 31 | branca        | solteiro | publica | noturno  |\n",
       "| realizou | F | 24 | amarela       | solteiro | publica | integral |\n",
       "| realizou | M | 30 | branca        | solteiro | publica | noturno  |\n",
       "| realizou | F | 28 | branca        | solteiro | privada | noturno  |\n",
       "| realizou | M | 24 | parda         | solteiro | privada | noturno  |\n",
       "| realizou | M | 23 | parda         | solteiro | privada | noturno  |\n",
       "| realizou | F | 27 | branca        | solteiro | privada | noturno  |\n",
       "| realizou | M | 41 | branca        | solteiro | privada | noturno  |\n",
       "| realizou | M | 26 | parda         | solteiro | privada | noturno  |\n",
       "| realizou | M | 30 | preta         | solteiro | privada | noturno  |\n",
       "| realizou | F | 23 | branca        | solteiro | privada | noturno  |\n",
       "\n"
      ],
      "text/plain": [
       "     boicote  genero idade cor           estado_civil instituicao turno   \n",
       "1    realizou F      28    branca        solteiro     privada     noturno \n",
       "2    realizou M      30    branca        solteiro     privada     noturno \n",
       "3    realizou M      29    branca        solteiro     privada     noturno \n",
       "4    realizou F      22    branca        casado       privada     noturno \n",
       "5    realizou M      47    branca        casado       privada     noturno \n",
       "6    realizou M      27    branca        solteiro     privada     noturno \n",
       "7    realizou F      23    branca        solteiro     privada     noturno \n",
       "8    realizou F      48    branca        solteiro     privada     noturno \n",
       "9    realizou M      23    branca        solteiro     privada     noturno \n",
       "10   realizou F      21    parda         solteiro     privada     noturno \n",
       "11   realizou F      24    branca        casado       privada     noturno \n",
       "12   realizou M      22    branca        solteiro     privada     noturno \n",
       "13   realizou M      35    parda         casado       privada     noturno \n",
       "14   realizou M      22    branca        solteiro     privada     noturno \n",
       "15   realizou M      21    branca        solteiro     privada     noturno \n",
       "16   realizou M      36    branca        solteiro     privada     noturno \n",
       "17   realizou M      21    branca        solteiro     privada     noturno \n",
       "18   realizou F      24    branca        casado       privada     noturno \n",
       "19   realizou F      22    branca        solteiro     privada     noturno \n",
       "20   realizou M      31    branca        solteiro     privada     noturno \n",
       "21   realizou F      23    branca        solteiro     privada     noturno \n",
       "22   realizou F      21    branca        solteiro     privada     noturno \n",
       "23   realizou M      23    branca        solteiro     privada     noturno \n",
       "24   realizou M      22    branca        solteiro     privada     noturno \n",
       "25   realizou M      22    não declarado solteiro     privada     noturno \n",
       "26   realizou M      23    branca        solteiro     privada     noturno \n",
       "27   realizou M      23    branca        solteiro     privada     noturno \n",
       "28   realizou M      26    branca        solteiro     privada     noturno \n",
       "29   realizou M      34    branca        outro        privada     noturno \n",
       "30   realizou M      22    branca        solteiro     privada     noturno \n",
       "...  ...      ...    ...   ...           ...          ...         ...     \n",
       "8046 realizou M      29    branca        solteiro     privada     noturno \n",
       "8047 realizou M      27    branca        solteiro     publica     noturno \n",
       "8048 realizou M      32    branca        outro        privada     noturno \n",
       "8049 realizou M      31    branca        casado       privada     noturno \n",
       "8050 realizou F      61    branca        viuvo        privada     noturno \n",
       "8051 realizou F      22    amarela       solteiro     privada     integral\n",
       "8052 realizou M      23    branca        solteiro     privada     noturno \n",
       "8053 realizou M      31    parda         casado       privada     noturno \n",
       "8054 realizou M      29    branca        solteiro     privada     noturno \n",
       "8055 realizou M      24    não declarado solteiro     publica     integral\n",
       "8056 realizou F      22    branca        solteiro     publica     integral\n",
       "8057 realizou M      23    branca        solteiro     publica     integral\n",
       "8058 realizou M      32    preta         casado       publica     noturno \n",
       "8059 realizou F      25    parda         solteiro     privada     integral\n",
       "8060 realizou F      30    parda         solteiro     publica     noturno \n",
       "8061 realizou M      23    branca        solteiro     publica     integral\n",
       "8062 realizou M      24    branca        solteiro     publica     noturno \n",
       "8063 realizou F      23    branca        solteiro     publica     integral\n",
       "8064 realizou M      37    branca        solteiro     publica     noturno \n",
       "8065 realizou M      31    branca        solteiro     publica     noturno \n",
       "8066 realizou F      24    amarela       solteiro     publica     integral\n",
       "8067 realizou M      30    branca        solteiro     publica     noturno \n",
       "8068 realizou F      28    branca        solteiro     privada     noturno \n",
       "8069 realizou M      24    parda         solteiro     privada     noturno \n",
       "8070 realizou M      23    parda         solteiro     privada     noturno \n",
       "8071 realizou F      27    branca        solteiro     privada     noturno \n",
       "8072 realizou M      41    branca        solteiro     privada     noturno \n",
       "8073 realizou M      26    parda         solteiro     privada     noturno \n",
       "8074 realizou M      30    preta         solteiro     privada     noturno \n",
       "8075 realizou F      23    branca        solteiro     privada     noturno "
      ]
     },
     "metadata": {},
     "output_type": "display_data"
    }
   ],
   "source": [
    "df_model_1"
   ]
  },
  {
   "cell_type": "code",
   "execution_count": 188,
   "id": "martial-harassment",
   "metadata": {},
   "outputs": [
    {
     "data": {
      "text/html": [
       "<style>\n",
       ".list-inline {list-style: none; margin:0; padding: 0}\n",
       ".list-inline>li {display: inline-block}\n",
       ".list-inline>li:not(:last-child)::after {content: \"\\00b7\"; padding: 0 .5ex}\n",
       "</style>\n",
       "<ol class=list-inline><li>'boicotou'</li><li>'realizou'</li></ol>\n"
      ],
      "text/latex": [
       "\\begin{enumerate*}\n",
       "\\item 'boicotou'\n",
       "\\item 'realizou'\n",
       "\\end{enumerate*}\n"
      ],
      "text/markdown": [
       "1. 'boicotou'\n",
       "2. 'realizou'\n",
       "\n",
       "\n"
      ],
      "text/plain": [
       "[1] \"boicotou\" \"realizou\""
      ]
     },
     "metadata": {},
     "output_type": "display_data"
    }
   ],
   "source": [
    "levels(df_model_1$boicote)"
   ]
  },
  {
   "cell_type": "code",
   "execution_count": 208,
   "id": "acting-performer",
   "metadata": {},
   "outputs": [
    {
     "data": {
      "text/html": [
       "<style>\n",
       ".list-inline {list-style: none; margin:0; padding: 0}\n",
       ".list-inline>li {display: inline-block}\n",
       ".list-inline>li:not(:last-child)::after {content: \"\\00b7\"; padding: 0 .5ex}\n",
       "</style>\n",
       "<ol class=list-inline><li>'privada'</li><li>'publica'</li></ol>\n"
      ],
      "text/latex": [
       "\\begin{enumerate*}\n",
       "\\item 'privada'\n",
       "\\item 'publica'\n",
       "\\end{enumerate*}\n"
      ],
      "text/markdown": [
       "1. 'privada'\n",
       "2. 'publica'\n",
       "\n",
       "\n"
      ],
      "text/plain": [
       "[1] \"privada\" \"publica\""
      ]
     },
     "metadata": {},
     "output_type": "display_data"
    }
   ],
   "source": [
    "levels(df_model_1$instituicao)"
   ]
  },
  {
   "cell_type": "code",
   "execution_count": 209,
   "id": "negative-bermuda",
   "metadata": {},
   "outputs": [
    {
     "name": "stderr",
     "output_type": "stream",
     "text": [
      "Warning message:\n",
      "\"glm.fit: fitted probabilities numerically 0 or 1 occurred\"\n"
     ]
    }
   ],
   "source": [
    "model = glm(boicote~., data=df_model_1, family=binomial(link='logit'))"
   ]
  },
  {
   "cell_type": "code",
   "execution_count": 210,
   "id": "civilian-writer",
   "metadata": {},
   "outputs": [
    {
     "data": {
      "text/plain": [
       "\n",
       "Call:\n",
       "glm(formula = boicote ~ ., family = binomial(link = \"logit\"), \n",
       "    data = df_model_1)\n",
       "\n",
       "Deviance Residuals: \n",
       "    Min       1Q   Median       3Q      Max  \n",
       "-3.9189   0.0286   0.0528   0.0812   0.6053  \n",
       "\n",
       "Coefficients: (1 not defined because of singularities)\n",
       "                       Estimate Std. Error z value Pr(>|z|)    \n",
       "(Intercept)           5.605e+00  1.573e+00   3.562 0.000368 ***\n",
       "generoM               7.330e-01  4.366e-01   1.679 0.093139 .  \n",
       "idade                -6.153e-02  2.942e-02  -2.091 0.036524 *  \n",
       "corbranca             1.552e-01  1.267e+00   0.123 0.902470    \n",
       "corpreta              8.877e-01  1.588e+00   0.559 0.576045    \n",
       "coramarela            1.684e+01  3.237e+03   0.005 0.995850    \n",
       "corparda              1.087e+00  1.352e+00   0.804 0.421166    \n",
       "corindigina           1.636e+01  1.016e+04   0.002 0.998716    \n",
       "cornão declarado      1.674e+01  3.369e+03   0.005 0.996035    \n",
       "estado_civilsolteiro  1.478e+00  7.968e-01   1.855 0.063564 .  \n",
       "estado_civilcasado    1.918e+00  1.012e+00   1.895 0.058135 .  \n",
       "estado_civilseparado  7.094e-01  1.254e+00   0.566 0.571596    \n",
       "estado_civilviuvo     1.962e+01  1.574e+04   0.001 0.999006    \n",
       "estado_civiloutro            NA         NA      NA       NA    \n",
       "instituicaopublica    1.122e+00  4.672e-01   2.401 0.016359 *  \n",
       "turnomatutino         1.537e+01  1.340e+03   0.011 0.990851    \n",
       "turnonoturno         -1.109e+00  7.511e-01  -1.477 0.139686    \n",
       "turnovespertino       1.506e+01  4.056e+03   0.004 0.997038    \n",
       "---\n",
       "Signif. codes:  0 '***' 0.001 '**' 0.01 '*' 0.05 '.' 0.1 ' ' 1\n",
       "\n",
       "(Dispersion parameter for binomial family taken to be 1)\n",
       "\n",
       "    Null deviance: 303.78  on 8074  degrees of freedom\n",
       "Residual deviance: 267.50  on 8058  degrees of freedom\n",
       "AIC: 301.5\n",
       "\n",
       "Number of Fisher Scoring iterations: 21\n"
      ]
     },
     "metadata": {},
     "output_type": "display_data"
    }
   ],
   "source": [
    "summary(model)"
   ]
  },
  {
   "cell_type": "code",
   "execution_count": 228,
   "id": "controlled-amber",
   "metadata": {},
   "outputs": [
    {
     "data": {
      "text/html": [
       "<table class=\"dataframe\">\n",
       "<caption>A matrix: 18 × 3 of type dbl</caption>\n",
       "<thead>\n",
       "\t<tr><th></th><th scope=col>OR</th><th scope=col>2.5 %</th><th scope=col>97.5 %</th></tr>\n",
       "</thead>\n",
       "<tbody>\n",
       "\t<tr><th scope=row>(Intercept)</th><td>2.718453e+02</td><td>12.44469716</td><td>5938.2621615</td></tr>\n",
       "\t<tr><th scope=row>generoM</th><td>2.081380e+00</td><td> 0.88458897</td><td>   4.8973500</td></tr>\n",
       "\t<tr><th scope=row>idade</th><td>9.403270e-01</td><td> 0.88763183</td><td>   0.9961504</td></tr>\n",
       "\t<tr><th scope=row>corbranca</th><td>1.167894e+00</td><td> 0.09757384</td><td>  13.9789052</td></tr>\n",
       "\t<tr><th scope=row>corpreta</th><td>2.429520e+00</td><td> 0.10819928</td><td>  54.5527470</td></tr>\n",
       "\t<tr><th scope=row>coramarela</th><td>2.048201e+07</td><td> 0.00000000</td><td>         Inf</td></tr>\n",
       "\t<tr><th scope=row>corparda</th><td>2.965907e+00</td><td> 0.20975913</td><td>  41.9367004</td></tr>\n",
       "\t<tr><th scope=row>corindigina</th><td>1.269114e+07</td><td> 0.00000000</td><td>         Inf</td></tr>\n",
       "\t<tr><th scope=row>cornão declarado</th><td>1.870559e+07</td><td> 0.00000000</td><td>         Inf</td></tr>\n",
       "\t<tr><th scope=row>estado_civilsolteiro</th><td>4.385612e+00</td><td> 0.91992835</td><td>  20.9077031</td></tr>\n",
       "\t<tr><th scope=row>estado_civilcasado</th><td>6.807478e+00</td><td> 0.93604923</td><td>  49.5078190</td></tr>\n",
       "\t<tr><th scope=row>estado_civilseparado</th><td>2.032836e+00</td><td> 0.17403348</td><td>  23.7449896</td></tr>\n",
       "\t<tr><th scope=row>estado_civilviuvo</th><td>3.323150e+08</td><td> 0.00000000</td><td>         Inf</td></tr>\n",
       "\t<tr><th scope=row>estado_civiloutro</th><td>          NA</td><td>         NA</td><td>          NA</td></tr>\n",
       "\t<tr><th scope=row>instituicaopublica</th><td>3.070039e+00</td><td> 1.22871625</td><td>   7.6707221</td></tr>\n",
       "\t<tr><th scope=row>turnomatutino</th><td>4.736832e+06</td><td> 0.00000000</td><td>         Inf</td></tr>\n",
       "\t<tr><th scope=row>turnonoturno</th><td>3.297896e-01</td><td> 0.07567036</td><td>   1.4373023</td></tr>\n",
       "\t<tr><th scope=row>turnovespertino</th><td>3.457568e+06</td><td> 0.00000000</td><td>         Inf</td></tr>\n",
       "</tbody>\n",
       "</table>\n"
      ],
      "text/latex": [
       "A matrix: 18 × 3 of type dbl\n",
       "\\begin{tabular}{r|lll}\n",
       "  & OR & 2.5 \\% & 97.5 \\%\\\\\n",
       "\\hline\n",
       "\t(Intercept) & 2.718453e+02 & 12.44469716 & 5938.2621615\\\\\n",
       "\tgeneroM & 2.081380e+00 &  0.88458897 &    4.8973500\\\\\n",
       "\tidade & 9.403270e-01 &  0.88763183 &    0.9961504\\\\\n",
       "\tcorbranca & 1.167894e+00 &  0.09757384 &   13.9789052\\\\\n",
       "\tcorpreta & 2.429520e+00 &  0.10819928 &   54.5527470\\\\\n",
       "\tcoramarela & 2.048201e+07 &  0.00000000 &          Inf\\\\\n",
       "\tcorparda & 2.965907e+00 &  0.20975913 &   41.9367004\\\\\n",
       "\tcorindigina & 1.269114e+07 &  0.00000000 &          Inf\\\\\n",
       "\tcornão declarado & 1.870559e+07 &  0.00000000 &          Inf\\\\\n",
       "\testado\\_civilsolteiro & 4.385612e+00 &  0.91992835 &   20.9077031\\\\\n",
       "\testado\\_civilcasado & 6.807478e+00 &  0.93604923 &   49.5078190\\\\\n",
       "\testado\\_civilseparado & 2.032836e+00 &  0.17403348 &   23.7449896\\\\\n",
       "\testado\\_civilviuvo & 3.323150e+08 &  0.00000000 &          Inf\\\\\n",
       "\testado\\_civiloutro &           NA &          NA &           NA\\\\\n",
       "\tinstituicaopublica & 3.070039e+00 &  1.22871625 &    7.6707221\\\\\n",
       "\tturnomatutino & 4.736832e+06 &  0.00000000 &          Inf\\\\\n",
       "\tturnonoturno & 3.297896e-01 &  0.07567036 &    1.4373023\\\\\n",
       "\tturnovespertino & 3.457568e+06 &  0.00000000 &          Inf\\\\\n",
       "\\end{tabular}\n"
      ],
      "text/markdown": [
       "\n",
       "A matrix: 18 × 3 of type dbl\n",
       "\n",
       "| <!--/--> | OR | 2.5 % | 97.5 % |\n",
       "|---|---|---|---|\n",
       "| (Intercept) | 2.718453e+02 | 12.44469716 | 5938.2621615 |\n",
       "| generoM | 2.081380e+00 |  0.88458897 |    4.8973500 |\n",
       "| idade | 9.403270e-01 |  0.88763183 |    0.9961504 |\n",
       "| corbranca | 1.167894e+00 |  0.09757384 |   13.9789052 |\n",
       "| corpreta | 2.429520e+00 |  0.10819928 |   54.5527470 |\n",
       "| coramarela | 2.048201e+07 |  0.00000000 |          Inf |\n",
       "| corparda | 2.965907e+00 |  0.20975913 |   41.9367004 |\n",
       "| corindigina | 1.269114e+07 |  0.00000000 |          Inf |\n",
       "| cornão declarado | 1.870559e+07 |  0.00000000 |          Inf |\n",
       "| estado_civilsolteiro | 4.385612e+00 |  0.91992835 |   20.9077031 |\n",
       "| estado_civilcasado | 6.807478e+00 |  0.93604923 |   49.5078190 |\n",
       "| estado_civilseparado | 2.032836e+00 |  0.17403348 |   23.7449896 |\n",
       "| estado_civilviuvo | 3.323150e+08 |  0.00000000 |          Inf |\n",
       "| estado_civiloutro |           NA |          NA |           NA |\n",
       "| instituicaopublica | 3.070039e+00 |  1.22871625 |    7.6707221 |\n",
       "| turnomatutino | 4.736832e+06 |  0.00000000 |          Inf |\n",
       "| turnonoturno | 3.297896e-01 |  0.07567036 |    1.4373023 |\n",
       "| turnovespertino | 3.457568e+06 |  0.00000000 |          Inf |\n",
       "\n"
      ],
      "text/plain": [
       "                     OR           2.5 %       97.5 %      \n",
       "(Intercept)          2.718453e+02 12.44469716 5938.2621615\n",
       "generoM              2.081380e+00  0.88458897    4.8973500\n",
       "idade                9.403270e-01  0.88763183    0.9961504\n",
       "corbranca            1.167894e+00  0.09757384   13.9789052\n",
       "corpreta             2.429520e+00  0.10819928   54.5527470\n",
       "coramarela           2.048201e+07  0.00000000          Inf\n",
       "corparda             2.965907e+00  0.20975913   41.9367004\n",
       "corindigina          1.269114e+07  0.00000000          Inf\n",
       "cornão declarado     1.870559e+07  0.00000000          Inf\n",
       "estado_civilsolteiro 4.385612e+00  0.91992835   20.9077031\n",
       "estado_civilcasado   6.807478e+00  0.93604923   49.5078190\n",
       "estado_civilseparado 2.032836e+00  0.17403348   23.7449896\n",
       "estado_civilviuvo    3.323150e+08  0.00000000          Inf\n",
       "estado_civiloutro              NA          NA           NA\n",
       "instituicaopublica   3.070039e+00  1.22871625    7.6707221\n",
       "turnomatutino        4.736832e+06  0.00000000          Inf\n",
       "turnonoturno         3.297896e-01  0.07567036    1.4373023\n",
       "turnovespertino      3.457568e+06  0.00000000          Inf"
      ]
     },
     "metadata": {},
     "output_type": "display_data"
    }
   ],
   "source": [
    "exp(cbind(OR = coef(model), confint.default(model)))"
   ]
  },
  {
   "cell_type": "code",
   "execution_count": 284,
   "id": "processed-compensation",
   "metadata": {},
   "outputs": [
    {
     "data": {
      "text/html": [
       "<table class=\"dataframe\">\n",
       "<caption>A data.frame: 1 × 6</caption>\n",
       "<thead>\n",
       "\t<tr><th scope=col>genero</th><th scope=col>idade</th><th scope=col>cor</th><th scope=col>estado_civil</th><th scope=col>instituicao</th><th scope=col>turno</th></tr>\n",
       "\t<tr><th scope=col>&lt;fct&gt;</th><th scope=col>&lt;dbl&gt;</th><th scope=col>&lt;fct&gt;</th><th scope=col>&lt;fct&gt;</th><th scope=col>&lt;fct&gt;</th><th scope=col>&lt;fct&gt;</th></tr>\n",
       "</thead>\n",
       "<tbody>\n",
       "\t<tr><td>M</td><td>26.66953</td><td>branca</td><td>solteiro</td><td>publica</td><td>noturno</td></tr>\n",
       "</tbody>\n",
       "</table>\n"
      ],
      "text/latex": [
       "A data.frame: 1 × 6\n",
       "\\begin{tabular}{llllll}\n",
       " genero & idade & cor & estado\\_civil & instituicao & turno\\\\\n",
       " <fct> & <dbl> & <fct> & <fct> & <fct> & <fct>\\\\\n",
       "\\hline\n",
       "\t M & 26.66953 & branca & solteiro & publica & noturno\\\\\n",
       "\\end{tabular}\n"
      ],
      "text/markdown": [
       "\n",
       "A data.frame: 1 × 6\n",
       "\n",
       "| genero &lt;fct&gt; | idade &lt;dbl&gt; | cor &lt;fct&gt; | estado_civil &lt;fct&gt; | instituicao &lt;fct&gt; | turno &lt;fct&gt; |\n",
       "|---|---|---|---|---|---|\n",
       "| M | 26.66953 | branca | solteiro | publica | noturno |\n",
       "\n"
      ],
      "text/plain": [
       "  genero idade    cor    estado_civil instituicao turno  \n",
       "1 M      26.66953 branca solteiro     publica     noturno"
      ]
     },
     "metadata": {},
     "output_type": "display_data"
    },
    {
     "data": {
      "text/html": [
       "<table class=\"dataframe\">\n",
       "<caption>A data.frame: 1 × 6</caption>\n",
       "<thead>\n",
       "\t<tr><th scope=col>genero</th><th scope=col>idade</th><th scope=col>cor</th><th scope=col>estado_civil</th><th scope=col>instituicao</th><th scope=col>turno</th></tr>\n",
       "\t<tr><th scope=col>&lt;fct&gt;</th><th scope=col>&lt;dbl&gt;</th><th scope=col>&lt;fct&gt;</th><th scope=col>&lt;fct&gt;</th><th scope=col>&lt;fct&gt;</th><th scope=col>&lt;fct&gt;</th></tr>\n",
       "</thead>\n",
       "<tbody>\n",
       "\t<tr><td>M</td><td>46.66953</td><td>branca</td><td>solteiro</td><td>publica</td><td>noturno</td></tr>\n",
       "</tbody>\n",
       "</table>\n"
      ],
      "text/latex": [
       "A data.frame: 1 × 6\n",
       "\\begin{tabular}{llllll}\n",
       " genero & idade & cor & estado\\_civil & instituicao & turno\\\\\n",
       " <fct> & <dbl> & <fct> & <fct> & <fct> & <fct>\\\\\n",
       "\\hline\n",
       "\t M & 46.66953 & branca & solteiro & publica & noturno\\\\\n",
       "\\end{tabular}\n"
      ],
      "text/markdown": [
       "\n",
       "A data.frame: 1 × 6\n",
       "\n",
       "| genero &lt;fct&gt; | idade &lt;dbl&gt; | cor &lt;fct&gt; | estado_civil &lt;fct&gt; | instituicao &lt;fct&gt; | turno &lt;fct&gt; |\n",
       "|---|---|---|---|---|---|\n",
       "| M | 46.66953 | branca | solteiro | publica | noturno |\n",
       "\n"
      ],
      "text/plain": [
       "  genero idade    cor    estado_civil instituicao turno  \n",
       "1 M      46.66953 branca solteiro     publica     noturno"
      ]
     },
     "metadata": {},
     "output_type": "display_data"
    },
    {
     "data": {
      "text/html": [
       "<table class=\"dataframe\">\n",
       "<caption>A data.frame: 1 × 6</caption>\n",
       "<thead>\n",
       "\t<tr><th scope=col>genero</th><th scope=col>idade</th><th scope=col>cor</th><th scope=col>estado_civil</th><th scope=col>instituicao</th><th scope=col>turno</th></tr>\n",
       "\t<tr><th scope=col>&lt;fct&gt;</th><th scope=col>&lt;dbl&gt;</th><th scope=col>&lt;fct&gt;</th><th scope=col>&lt;fct&gt;</th><th scope=col>&lt;fct&gt;</th><th scope=col>&lt;fct&gt;</th></tr>\n",
       "</thead>\n",
       "<tbody>\n",
       "\t<tr><td>M</td><td>46.66953</td><td>branca</td><td>solteiro</td><td>privada</td><td>noturno</td></tr>\n",
       "</tbody>\n",
       "</table>\n"
      ],
      "text/latex": [
       "A data.frame: 1 × 6\n",
       "\\begin{tabular}{llllll}\n",
       " genero & idade & cor & estado\\_civil & instituicao & turno\\\\\n",
       " <fct> & <dbl> & <fct> & <fct> & <fct> & <fct>\\\\\n",
       "\\hline\n",
       "\t M & 46.66953 & branca & solteiro & privada & noturno\\\\\n",
       "\\end{tabular}\n"
      ],
      "text/markdown": [
       "\n",
       "A data.frame: 1 × 6\n",
       "\n",
       "| genero &lt;fct&gt; | idade &lt;dbl&gt; | cor &lt;fct&gt; | estado_civil &lt;fct&gt; | instituicao &lt;fct&gt; | turno &lt;fct&gt; |\n",
       "|---|---|---|---|---|---|\n",
       "| M | 46.66953 | branca | solteiro | privada | noturno |\n",
       "\n"
      ],
      "text/plain": [
       "  genero idade    cor    estado_civil instituicao turno  \n",
       "1 M      46.66953 branca solteiro     privada     noturno"
      ]
     },
     "metadata": {},
     "output_type": "display_data"
    }
   ],
   "source": [
    "media = data.frame(genero=c(\"M\"),idade=mean(mean(df_model_1$idade[df_model_1$genero==\"M\"])), cor=\"branca\", \n",
    "                   estado_civil=\"solteiro\",instituicao=\"publica\",turno=\"noturno\")\n",
    "\n",
    "media\n",
    "media_ = data.frame(genero=c(\"M\"),idade=mean(mean(df_model_1$idade[df_model_1$genero==\"M\"]+20)), cor=\"branca\", \n",
    "                   estado_civil=\"solteiro\",instituicao=\"publica\",turno=\"noturno\")\n",
    "\n",
    "media_\n",
    "media_3 = data.frame(genero=c(\"M\"),idade=mean(mean(df_model_1$idade[df_model_1$genero==\"M\"]+20)), cor=\"branca\", \n",
    "                   estado_civil=\"solteiro\",instituicao=\"privada\",turno=\"noturno\")\n",
    "\n",
    "media_3"
   ]
  },
  {
   "cell_type": "code",
   "execution_count": 285,
   "id": "charged-shooting",
   "metadata": {},
   "outputs": [
    {
     "name": "stderr",
     "output_type": "stream",
     "text": [
      "Warning message in predict.lm(object, newdata, se.fit, scale = 1, type = if (type == :\n",
      "\"prediction from a rank-deficient fit may be misleading\"\n"
     ]
    },
    {
     "data": {
      "text/html": [
       "<table class=\"dataframe\">\n",
       "<caption>A data.frame: 1 × 7</caption>\n",
       "<thead>\n",
       "\t<tr><th scope=col>genero</th><th scope=col>idade</th><th scope=col>cor</th><th scope=col>estado_civil</th><th scope=col>instituicao</th><th scope=col>turno</th><th scope=col>pred.prob</th></tr>\n",
       "\t<tr><th scope=col>&lt;fct&gt;</th><th scope=col>&lt;dbl&gt;</th><th scope=col>&lt;fct&gt;</th><th scope=col>&lt;fct&gt;</th><th scope=col>&lt;fct&gt;</th><th scope=col>&lt;fct&gt;</th><th scope=col>&lt;dbl&gt;</th></tr>\n",
       "</thead>\n",
       "<tbody>\n",
       "\t<tr><td>M</td><td>26.66953</td><td>branca</td><td>solteiro</td><td>publica</td><td>noturno</td><td>0.9982445</td></tr>\n",
       "</tbody>\n",
       "</table>\n"
      ],
      "text/latex": [
       "A data.frame: 1 × 7\n",
       "\\begin{tabular}{lllllll}\n",
       " genero & idade & cor & estado\\_civil & instituicao & turno & pred.prob\\\\\n",
       " <fct> & <dbl> & <fct> & <fct> & <fct> & <fct> & <dbl>\\\\\n",
       "\\hline\n",
       "\t M & 26.66953 & branca & solteiro & publica & noturno & 0.9982445\\\\\n",
       "\\end{tabular}\n"
      ],
      "text/markdown": [
       "\n",
       "A data.frame: 1 × 7\n",
       "\n",
       "| genero &lt;fct&gt; | idade &lt;dbl&gt; | cor &lt;fct&gt; | estado_civil &lt;fct&gt; | instituicao &lt;fct&gt; | turno &lt;fct&gt; | pred.prob &lt;dbl&gt; |\n",
       "|---|---|---|---|---|---|---|\n",
       "| M | 26.66953 | branca | solteiro | publica | noturno | 0.9982445 |\n",
       "\n"
      ],
      "text/plain": [
       "  genero idade    cor    estado_civil instituicao turno   pred.prob\n",
       "1 M      26.66953 branca solteiro     publica     noturno 0.9982445"
      ]
     },
     "metadata": {},
     "output_type": "display_data"
    }
   ],
   "source": [
    "media$pred.prob = predict(model, newdata=media, type=\"response\")\n",
    "media"
   ]
  },
  {
   "cell_type": "code",
   "execution_count": 286,
   "id": "broad-shipping",
   "metadata": {},
   "outputs": [
    {
     "name": "stderr",
     "output_type": "stream",
     "text": [
      "Warning message in predict.lm(object, newdata, se.fit, scale = 1, type = if (type == :\n",
      "\"prediction from a rank-deficient fit may be misleading\"\n"
     ]
    },
    {
     "data": {
      "text/html": [
       "<table class=\"dataframe\">\n",
       "<caption>A data.frame: 1 × 7</caption>\n",
       "<thead>\n",
       "\t<tr><th scope=col>genero</th><th scope=col>idade</th><th scope=col>cor</th><th scope=col>estado_civil</th><th scope=col>instituicao</th><th scope=col>turno</th><th scope=col>pred.prob</th></tr>\n",
       "\t<tr><th scope=col>&lt;fct&gt;</th><th scope=col>&lt;dbl&gt;</th><th scope=col>&lt;fct&gt;</th><th scope=col>&lt;fct&gt;</th><th scope=col>&lt;fct&gt;</th><th scope=col>&lt;fct&gt;</th><th scope=col>&lt;dbl&gt;</th></tr>\n",
       "</thead>\n",
       "<tbody>\n",
       "\t<tr><td>M</td><td>46.66953</td><td>branca</td><td>solteiro</td><td>publica</td><td>noturno</td><td>0.9940163</td></tr>\n",
       "</tbody>\n",
       "</table>\n"
      ],
      "text/latex": [
       "A data.frame: 1 × 7\n",
       "\\begin{tabular}{lllllll}\n",
       " genero & idade & cor & estado\\_civil & instituicao & turno & pred.prob\\\\\n",
       " <fct> & <dbl> & <fct> & <fct> & <fct> & <fct> & <dbl>\\\\\n",
       "\\hline\n",
       "\t M & 46.66953 & branca & solteiro & publica & noturno & 0.9940163\\\\\n",
       "\\end{tabular}\n"
      ],
      "text/markdown": [
       "\n",
       "A data.frame: 1 × 7\n",
       "\n",
       "| genero &lt;fct&gt; | idade &lt;dbl&gt; | cor &lt;fct&gt; | estado_civil &lt;fct&gt; | instituicao &lt;fct&gt; | turno &lt;fct&gt; | pred.prob &lt;dbl&gt; |\n",
       "|---|---|---|---|---|---|---|\n",
       "| M | 46.66953 | branca | solteiro | publica | noturno | 0.9940163 |\n",
       "\n"
      ],
      "text/plain": [
       "  genero idade    cor    estado_civil instituicao turno   pred.prob\n",
       "1 M      46.66953 branca solteiro     publica     noturno 0.9940163"
      ]
     },
     "metadata": {},
     "output_type": "display_data"
    }
   ],
   "source": [
    "media_$pred.prob = predict(model, newdata=media_, type=\"response\")\n",
    "media_"
   ]
  },
  {
   "cell_type": "code",
   "execution_count": 287,
   "id": "conditional-screen",
   "metadata": {},
   "outputs": [
    {
     "name": "stderr",
     "output_type": "stream",
     "text": [
      "Warning message in predict.lm(object, newdata, se.fit, scale = 1, type = if (type == :\n",
      "\"prediction from a rank-deficient fit may be misleading\"\n"
     ]
    },
    {
     "data": {
      "text/html": [
       "<table class=\"dataframe\">\n",
       "<caption>A data.frame: 1 × 7</caption>\n",
       "<thead>\n",
       "\t<tr><th scope=col>genero</th><th scope=col>idade</th><th scope=col>cor</th><th scope=col>estado_civil</th><th scope=col>instituicao</th><th scope=col>turno</th><th scope=col>pred.prob</th></tr>\n",
       "\t<tr><th scope=col>&lt;fct&gt;</th><th scope=col>&lt;dbl&gt;</th><th scope=col>&lt;fct&gt;</th><th scope=col>&lt;fct&gt;</th><th scope=col>&lt;fct&gt;</th><th scope=col>&lt;fct&gt;</th><th scope=col>&lt;dbl&gt;</th></tr>\n",
       "</thead>\n",
       "<tbody>\n",
       "\t<tr><td>M</td><td>46.66953</td><td>branca</td><td>solteiro</td><td>privada</td><td>noturno</td><td>0.9818547</td></tr>\n",
       "</tbody>\n",
       "</table>\n"
      ],
      "text/latex": [
       "A data.frame: 1 × 7\n",
       "\\begin{tabular}{lllllll}\n",
       " genero & idade & cor & estado\\_civil & instituicao & turno & pred.prob\\\\\n",
       " <fct> & <dbl> & <fct> & <fct> & <fct> & <fct> & <dbl>\\\\\n",
       "\\hline\n",
       "\t M & 46.66953 & branca & solteiro & privada & noturno & 0.9818547\\\\\n",
       "\\end{tabular}\n"
      ],
      "text/markdown": [
       "\n",
       "A data.frame: 1 × 7\n",
       "\n",
       "| genero &lt;fct&gt; | idade &lt;dbl&gt; | cor &lt;fct&gt; | estado_civil &lt;fct&gt; | instituicao &lt;fct&gt; | turno &lt;fct&gt; | pred.prob &lt;dbl&gt; |\n",
       "|---|---|---|---|---|---|---|\n",
       "| M | 46.66953 | branca | solteiro | privada | noturno | 0.9818547 |\n",
       "\n"
      ],
      "text/plain": [
       "  genero idade    cor    estado_civil instituicao turno   pred.prob\n",
       "1 M      46.66953 branca solteiro     privada     noturno 0.9818547"
      ]
     },
     "metadata": {},
     "output_type": "display_data"
    }
   ],
   "source": [
    "media_3$pred.prob = predict(model, newdata=media_3, type=\"response\")\n",
    "media_3"
   ]
  },
  {
   "cell_type": "code",
   "execution_count": null,
   "id": "protected-glance",
   "metadata": {},
   "outputs": [],
   "source": []
  }
 ],
 "metadata": {
  "kernelspec": {
   "display_name": "R",
   "language": "R",
   "name": "ir"
  },
  "language_info": {
   "codemirror_mode": "r",
   "file_extension": ".r",
   "mimetype": "text/x-r-source",
   "name": "R",
   "pygments_lexer": "r",
   "version": "3.6.1"
  }
 },
 "nbformat": 4,
 "nbformat_minor": 5
}
