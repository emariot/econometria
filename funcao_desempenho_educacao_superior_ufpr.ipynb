{
 "cells": [
  {
   "cell_type": "markdown",
   "id": "infrared-mexican",
   "metadata": {},
   "source": [
    "## Pacotes"
   ]
  },
  {
   "cell_type": "code",
   "execution_count": 225,
   "id": "congressional-treat",
   "metadata": {},
   "outputs": [],
   "source": [
    "library(dplyr)\n",
    "library(ggplot2)\n",
    "library(plyr)\n",
    "library(cowplot)\n",
    "library(scales)"
   ]
  },
  {
   "cell_type": "code",
   "execution_count": 3,
   "id": "civilian-poultry",
   "metadata": {},
   "outputs": [
    {
     "data": {
      "text/html": [
       "<table class=\"dataframe\">\n",
       "<caption>A data.frame: 6 × 137</caption>\n",
       "<thead>\n",
       "\t<tr><th></th><th scope=col>NU_ANO</th><th scope=col>CO_IES</th><th scope=col>CO_CATEGAD</th><th scope=col>CO_ORGACAD</th><th scope=col>CO_GRUPO</th><th scope=col>CO_CURSO</th><th scope=col>CO_MODALIDADE</th><th scope=col>CO_MUNIC_CURSO</th><th scope=col>CO_UF_CURSO</th><th scope=col>CO_REGIAO_CURSO</th><th scope=col>...</th><th scope=col>QE_I59</th><th scope=col>QE_I60</th><th scope=col>QE_I61</th><th scope=col>QE_I62</th><th scope=col>QE_I63</th><th scope=col>QE_I64</th><th scope=col>QE_I65</th><th scope=col>QE_I66</th><th scope=col>QE_I67</th><th scope=col>QE_I68</th></tr>\n",
       "\t<tr><th></th><th scope=col>&lt;int&gt;</th><th scope=col>&lt;int&gt;</th><th scope=col>&lt;int&gt;</th><th scope=col>&lt;int&gt;</th><th scope=col>&lt;int&gt;</th><th scope=col>&lt;int&gt;</th><th scope=col>&lt;int&gt;</th><th scope=col>&lt;int&gt;</th><th scope=col>&lt;int&gt;</th><th scope=col>&lt;int&gt;</th><th scope=col>...</th><th scope=col>&lt;int&gt;</th><th scope=col>&lt;int&gt;</th><th scope=col>&lt;int&gt;</th><th scope=col>&lt;int&gt;</th><th scope=col>&lt;int&gt;</th><th scope=col>&lt;int&gt;</th><th scope=col>&lt;int&gt;</th><th scope=col>&lt;int&gt;</th><th scope=col>&lt;int&gt;</th><th scope=col>&lt;int&gt;</th></tr>\n",
       "</thead>\n",
       "<tbody>\n",
       "\t<tr><th scope=row>1</th><td>2018</td><td>1356</td><td>10003</td><td>10020</td><td>1</td><td>47116</td><td>1</td><td>3546603</td><td>35</td><td>3</td><td>...</td><td>6</td><td>6</td><td>6</td><td>6</td><td>6</td><td>6</td><td>6</td><td>6</td><td>6</td><td>5</td></tr>\n",
       "\t<tr><th scope=row>2</th><td>2018</td><td>1356</td><td>10003</td><td>10020</td><td>1</td><td>47116</td><td>1</td><td>3546603</td><td>35</td><td>3</td><td>...</td><td>6</td><td>6</td><td>6</td><td>6</td><td>6</td><td>6</td><td>6</td><td>6</td><td>6</td><td>6</td></tr>\n",
       "\t<tr><th scope=row>3</th><td>2018</td><td>1356</td><td>10003</td><td>10020</td><td>1</td><td>47116</td><td>1</td><td>3546603</td><td>35</td><td>3</td><td>...</td><td>6</td><td>6</td><td>6</td><td>6</td><td>6</td><td>6</td><td>6</td><td>6</td><td>6</td><td>5</td></tr>\n",
       "\t<tr><th scope=row>4</th><td>2018</td><td>1356</td><td>10003</td><td>10020</td><td>1</td><td>47116</td><td>1</td><td>3546603</td><td>35</td><td>3</td><td>...</td><td>6</td><td>6</td><td>6</td><td>6</td><td>5</td><td>6</td><td>6</td><td>6</td><td>6</td><td>4</td></tr>\n",
       "\t<tr><th scope=row>5</th><td>2018</td><td>1356</td><td>10003</td><td>10020</td><td>1</td><td>47116</td><td>1</td><td>3546603</td><td>35</td><td>3</td><td>...</td><td>6</td><td>6</td><td>6</td><td>6</td><td>6</td><td>6</td><td>6</td><td>6</td><td>6</td><td>6</td></tr>\n",
       "\t<tr><th scope=row>6</th><td>2018</td><td>1356</td><td>10003</td><td>10020</td><td>1</td><td>47116</td><td>1</td><td>3546603</td><td>35</td><td>3</td><td>...</td><td>6</td><td>5</td><td>6</td><td>6</td><td>6</td><td>6</td><td>6</td><td>6</td><td>6</td><td>5</td></tr>\n",
       "</tbody>\n",
       "</table>\n"
      ],
      "text/latex": [
       "A data.frame: 6 × 137\n",
       "\\begin{tabular}{r|lllllllllllllllllllll}\n",
       "  & NU\\_ANO & CO\\_IES & CO\\_CATEGAD & CO\\_ORGACAD & CO\\_GRUPO & CO\\_CURSO & CO\\_MODALIDADE & CO\\_MUNIC\\_CURSO & CO\\_UF\\_CURSO & CO\\_REGIAO\\_CURSO & ... & QE\\_I59 & QE\\_I60 & QE\\_I61 & QE\\_I62 & QE\\_I63 & QE\\_I64 & QE\\_I65 & QE\\_I66 & QE\\_I67 & QE\\_I68\\\\\n",
       "  & <int> & <int> & <int> & <int> & <int> & <int> & <int> & <int> & <int> & <int> & ... & <int> & <int> & <int> & <int> & <int> & <int> & <int> & <int> & <int> & <int>\\\\\n",
       "\\hline\n",
       "\t1 & 2018 & 1356 & 10003 & 10020 & 1 & 47116 & 1 & 3546603 & 35 & 3 & ... & 6 & 6 & 6 & 6 & 6 & 6 & 6 & 6 & 6 & 5\\\\\n",
       "\t2 & 2018 & 1356 & 10003 & 10020 & 1 & 47116 & 1 & 3546603 & 35 & 3 & ... & 6 & 6 & 6 & 6 & 6 & 6 & 6 & 6 & 6 & 6\\\\\n",
       "\t3 & 2018 & 1356 & 10003 & 10020 & 1 & 47116 & 1 & 3546603 & 35 & 3 & ... & 6 & 6 & 6 & 6 & 6 & 6 & 6 & 6 & 6 & 5\\\\\n",
       "\t4 & 2018 & 1356 & 10003 & 10020 & 1 & 47116 & 1 & 3546603 & 35 & 3 & ... & 6 & 6 & 6 & 6 & 5 & 6 & 6 & 6 & 6 & 4\\\\\n",
       "\t5 & 2018 & 1356 & 10003 & 10020 & 1 & 47116 & 1 & 3546603 & 35 & 3 & ... & 6 & 6 & 6 & 6 & 6 & 6 & 6 & 6 & 6 & 6\\\\\n",
       "\t6 & 2018 & 1356 & 10003 & 10020 & 1 & 47116 & 1 & 3546603 & 35 & 3 & ... & 6 & 5 & 6 & 6 & 6 & 6 & 6 & 6 & 6 & 5\\\\\n",
       "\\end{tabular}\n"
      ],
      "text/markdown": [
       "\n",
       "A data.frame: 6 × 137\n",
       "\n",
       "| <!--/--> | NU_ANO &lt;int&gt; | CO_IES &lt;int&gt; | CO_CATEGAD &lt;int&gt; | CO_ORGACAD &lt;int&gt; | CO_GRUPO &lt;int&gt; | CO_CURSO &lt;int&gt; | CO_MODALIDADE &lt;int&gt; | CO_MUNIC_CURSO &lt;int&gt; | CO_UF_CURSO &lt;int&gt; | CO_REGIAO_CURSO &lt;int&gt; | ... ... | QE_I59 &lt;int&gt; | QE_I60 &lt;int&gt; | QE_I61 &lt;int&gt; | QE_I62 &lt;int&gt; | QE_I63 &lt;int&gt; | QE_I64 &lt;int&gt; | QE_I65 &lt;int&gt; | QE_I66 &lt;int&gt; | QE_I67 &lt;int&gt; | QE_I68 &lt;int&gt; |\n",
       "|---|---|---|---|---|---|---|---|---|---|---|---|---|---|---|---|---|---|---|---|---|---|\n",
       "| 1 | 2018 | 1356 | 10003 | 10020 | 1 | 47116 | 1 | 3546603 | 35 | 3 | ... | 6 | 6 | 6 | 6 | 6 | 6 | 6 | 6 | 6 | 5 |\n",
       "| 2 | 2018 | 1356 | 10003 | 10020 | 1 | 47116 | 1 | 3546603 | 35 | 3 | ... | 6 | 6 | 6 | 6 | 6 | 6 | 6 | 6 | 6 | 6 |\n",
       "| 3 | 2018 | 1356 | 10003 | 10020 | 1 | 47116 | 1 | 3546603 | 35 | 3 | ... | 6 | 6 | 6 | 6 | 6 | 6 | 6 | 6 | 6 | 5 |\n",
       "| 4 | 2018 | 1356 | 10003 | 10020 | 1 | 47116 | 1 | 3546603 | 35 | 3 | ... | 6 | 6 | 6 | 6 | 5 | 6 | 6 | 6 | 6 | 4 |\n",
       "| 5 | 2018 | 1356 | 10003 | 10020 | 1 | 47116 | 1 | 3546603 | 35 | 3 | ... | 6 | 6 | 6 | 6 | 6 | 6 | 6 | 6 | 6 | 6 |\n",
       "| 6 | 2018 | 1356 | 10003 | 10020 | 1 | 47116 | 1 | 3546603 | 35 | 3 | ... | 6 | 5 | 6 | 6 | 6 | 6 | 6 | 6 | 6 | 5 |\n",
       "\n"
      ],
      "text/plain": [
       "  NU_ANO CO_IES CO_CATEGAD CO_ORGACAD CO_GRUPO CO_CURSO CO_MODALIDADE\n",
       "1 2018   1356   10003      10020      1        47116    1            \n",
       "2 2018   1356   10003      10020      1        47116    1            \n",
       "3 2018   1356   10003      10020      1        47116    1            \n",
       "4 2018   1356   10003      10020      1        47116    1            \n",
       "5 2018   1356   10003      10020      1        47116    1            \n",
       "6 2018   1356   10003      10020      1        47116    1            \n",
       "  CO_MUNIC_CURSO CO_UF_CURSO CO_REGIAO_CURSO ... QE_I59 QE_I60 QE_I61 QE_I62\n",
       "1 3546603        35          3               ... 6      6      6      6     \n",
       "2 3546603        35          3               ... 6      6      6      6     \n",
       "3 3546603        35          3               ... 6      6      6      6     \n",
       "4 3546603        35          3               ... 6      6      6      6     \n",
       "5 3546603        35          3               ... 6      6      6      6     \n",
       "6 3546603        35          3               ... 6      5      6      6     \n",
       "  QE_I63 QE_I64 QE_I65 QE_I66 QE_I67 QE_I68\n",
       "1 6      6      6      6      6      5     \n",
       "2 6      6      6      6      6      6     \n",
       "3 6      6      6      6      6      5     \n",
       "4 5      6      6      6      6      4     \n",
       "5 6      6      6      6      6      6     \n",
       "6 6      6      6      6      6      5     "
      ]
     },
     "metadata": {},
     "output_type": "display_data"
    }
   ],
   "source": [
    "data = read.table(\"dataset/enade.txt\",sep=\";\", dec = \",\", header = TRUE)\n",
    "head(data)"
   ]
  },
  {
   "cell_type": "code",
   "execution_count": 4,
   "id": "terminal-edmonton",
   "metadata": {},
   "outputs": [],
   "source": [
    "df = data[data$CO_GRUPO == 13,]"
   ]
  },
  {
   "cell_type": "code",
   "execution_count": 6,
   "id": "organized-indie",
   "metadata": {},
   "outputs": [
    {
     "data": {
      "text/html": [
       "<style>\n",
       ".list-inline {list-style: none; margin:0; padding: 0}\n",
       ".list-inline>li {display: inline-block}\n",
       ".list-inline>li:not(:last-child)::after {content: \"\\00b7\"; padding: 0 .5ex}\n",
       "</style>\n",
       "<ol class=list-inline><li>9582</li><li>137</li></ol>\n"
      ],
      "text/latex": [
       "\\begin{enumerate*}\n",
       "\\item 9582\n",
       "\\item 137\n",
       "\\end{enumerate*}\n"
      ],
      "text/markdown": [
       "1. 9582\n",
       "2. 137\n",
       "\n",
       "\n"
      ],
      "text/plain": [
       "[1] 9582  137"
      ]
     },
     "metadata": {},
     "output_type": "display_data"
    }
   ],
   "source": [
    "dim(df)"
   ]
  },
  {
   "cell_type": "markdown",
   "id": "alternative-sheet",
   "metadata": {},
   "source": [
    "## Criando uma variável Dummy para UFPR IES 571\n",
    "* Número de verificações = 114"
   ]
  },
  {
   "cell_type": "code",
   "execution_count": 7,
   "id": "thousand-waste",
   "metadata": {},
   "outputs": [],
   "source": [
    "df$ufpr = as.factor(ifelse(df$CO_IES == 571,1,0))"
   ]
  },
  {
   "cell_type": "code",
   "execution_count": 45,
   "id": "confidential-bandwidth",
   "metadata": {},
   "outputs": [
    {
     "data": {
      "text/plain": [
       "\n",
       "   0    1 \n",
       "9468  114 "
      ]
     },
     "metadata": {},
     "output_type": "display_data"
    }
   ],
   "source": [
    "table(df$ufpr)"
   ]
  },
  {
   "cell_type": "code",
   "execution_count": 9,
   "id": "classified-empty",
   "metadata": {},
   "outputs": [],
   "source": [
    "df_1 = df %>% \n",
    "        select(NT_GER, ufpr, TP_SEXO, NU_IDADE,QE_I02, QE_I08, QE_I21, QE_I10,QE_I23) %>% \n",
    "        setNames(c(\"nota\", \"ufpr\", \"genero\", \"idade\",\"cor\", \"renda\", \"escolaridade_pais\",\"trabalho\", \"esforco\"))"
   ]
  },
  {
   "cell_type": "code",
   "execution_count": 10,
   "id": "improving-appearance",
   "metadata": {},
   "outputs": [
    {
     "data": {
      "text/html": [
       "<table class=\"dataframe\">\n",
       "<caption>A data.frame: 6 × 9</caption>\n",
       "<thead>\n",
       "\t<tr><th></th><th scope=col>nota</th><th scope=col>ufpr</th><th scope=col>genero</th><th scope=col>idade</th><th scope=col>cor</th><th scope=col>renda</th><th scope=col>escolaridade_pais</th><th scope=col>trabalho</th><th scope=col>esforco</th></tr>\n",
       "\t<tr><th></th><th scope=col>&lt;dbl&gt;</th><th scope=col>&lt;fct&gt;</th><th scope=col>&lt;fct&gt;</th><th scope=col>&lt;int&gt;</th><th scope=col>&lt;fct&gt;</th><th scope=col>&lt;fct&gt;</th><th scope=col>&lt;fct&gt;</th><th scope=col>&lt;fct&gt;</th><th scope=col>&lt;fct&gt;</th></tr>\n",
       "</thead>\n",
       "<tbody>\n",
       "\t<tr><th scope=row>161</th><td>24.9</td><td>0</td><td>F</td><td>28</td><td>A</td><td>C</td><td>B</td><td>E</td><td>C</td></tr>\n",
       "\t<tr><th scope=row>162</th><td>25.6</td><td>0</td><td>M</td><td>30</td><td>A</td><td>D</td><td>A</td><td>E</td><td>B</td></tr>\n",
       "\t<tr><th scope=row>163</th><td>48.7</td><td>0</td><td>M</td><td>29</td><td>A</td><td>C</td><td>B</td><td>E</td><td>C</td></tr>\n",
       "\t<tr><th scope=row>164</th><td>35.7</td><td>0</td><td>F</td><td>22</td><td>A</td><td>B</td><td>A</td><td>E</td><td>B</td></tr>\n",
       "\t<tr><th scope=row>165</th><td>33.9</td><td>0</td><td>M</td><td>47</td><td>A</td><td>B</td><td>A</td><td>E</td><td>C</td></tr>\n",
       "\t<tr><th scope=row>166</th><td>23.5</td><td>0</td><td>M</td><td>27</td><td>A</td><td>C</td><td>B</td><td>E</td><td>C</td></tr>\n",
       "</tbody>\n",
       "</table>\n"
      ],
      "text/latex": [
       "A data.frame: 6 × 9\n",
       "\\begin{tabular}{r|lllllllll}\n",
       "  & nota & ufpr & genero & idade & cor & renda & escolaridade\\_pais & trabalho & esforco\\\\\n",
       "  & <dbl> & <fct> & <fct> & <int> & <fct> & <fct> & <fct> & <fct> & <fct>\\\\\n",
       "\\hline\n",
       "\t161 & 24.9 & 0 & F & 28 & A & C & B & E & C\\\\\n",
       "\t162 & 25.6 & 0 & M & 30 & A & D & A & E & B\\\\\n",
       "\t163 & 48.7 & 0 & M & 29 & A & C & B & E & C\\\\\n",
       "\t164 & 35.7 & 0 & F & 22 & A & B & A & E & B\\\\\n",
       "\t165 & 33.9 & 0 & M & 47 & A & B & A & E & C\\\\\n",
       "\t166 & 23.5 & 0 & M & 27 & A & C & B & E & C\\\\\n",
       "\\end{tabular}\n"
      ],
      "text/markdown": [
       "\n",
       "A data.frame: 6 × 9\n",
       "\n",
       "| <!--/--> | nota &lt;dbl&gt; | ufpr &lt;fct&gt; | genero &lt;fct&gt; | idade &lt;int&gt; | cor &lt;fct&gt; | renda &lt;fct&gt; | escolaridade_pais &lt;fct&gt; | trabalho &lt;fct&gt; | esforco &lt;fct&gt; |\n",
       "|---|---|---|---|---|---|---|---|---|---|\n",
       "| 161 | 24.9 | 0 | F | 28 | A | C | B | E | C |\n",
       "| 162 | 25.6 | 0 | M | 30 | A | D | A | E | B |\n",
       "| 163 | 48.7 | 0 | M | 29 | A | C | B | E | C |\n",
       "| 164 | 35.7 | 0 | F | 22 | A | B | A | E | B |\n",
       "| 165 | 33.9 | 0 | M | 47 | A | B | A | E | C |\n",
       "| 166 | 23.5 | 0 | M | 27 | A | C | B | E | C |\n",
       "\n"
      ],
      "text/plain": [
       "    nota ufpr genero idade cor renda escolaridade_pais trabalho esforco\n",
       "161 24.9 0    F      28    A   C     B                 E        C      \n",
       "162 25.6 0    M      30    A   D     A                 E        B      \n",
       "163 48.7 0    M      29    A   C     B                 E        C      \n",
       "164 35.7 0    F      22    A   B     A                 E        B      \n",
       "165 33.9 0    M      47    A   B     A                 E        C      \n",
       "166 23.5 0    M      27    A   C     B                 E        C      "
      ]
     },
     "metadata": {},
     "output_type": "display_data"
    }
   ],
   "source": [
    "head(df_1)"
   ]
  },
  {
   "cell_type": "code",
   "execution_count": 14,
   "id": "entitled-agenda",
   "metadata": {},
   "outputs": [],
   "source": [
    "df_1$cor = mapvalues(df_1$cor, from=c(\"A\",\"B\",\"C\",\"D\",\"E\",\"F\"), to=c(\"branca\",\"preta\",\"amarela\",\"parda\",\"indigina\",\"não declarado\"))\n",
    "df_1$renda = mapvalues(df_1$renda, from=c(\"A\",\"B\",\"C\",\"D\",\"E\",\"F\",\"G\"), to=c(\"Até 1.5 salário mínimo\",\"De 1.5 a 3 salários mínimos\",\n",
    "                                                                \"De 3 a 4.5 salários mínimos\",\"De 4.5 a 6 salários mínimos\",\"De 6 a 10 salários mínimos\",\n",
    "                                                                                \"10 a 30 salários mínimos\", \"Acima de 30 salários mínimos\"))\n",
    "df_1$escolaridade_pais = mapvalues(df_1$escolaridade_pais, from=c(\"A\",\"B\"), to=c(\"sim\",\"não\"))\n",
    "df_1$trabalho = mapvalues(df_1$trabalho, from=c(\"A\",\"B\",\"C\",\"D\",\"E\"), to=c(\"Não trabalha\",\n",
    "                                                                  \"Trabalha eventualmente\",\n",
    "                                                                 \"Trabalha até 20 hrs. semanais\",\n",
    "                                                                 \"Trabalha de 21 a 39 hrs. semanais\",\n",
    "                                                                 \"Trabalha 40 hrs. semanais ou mais\"))\n",
    "df_1$esforco = mapvalues(df_1$esforco, from=c(\"A\",\"B\",\"C\",\"D\",\"E\"), to=c(\"Nenhuma, apenas assistindo as aulas\",\"De uma a três\",\n",
    "                                                                \"De quatro a sete\",\"De oito adoze\",\"Mais de doze\"))"
   ]
  },
  {
   "cell_type": "code",
   "execution_count": 15,
   "id": "raising-poetry",
   "metadata": {
    "scrolled": true
   },
   "outputs": [
    {
     "data": {
      "text/html": [
       "<table class=\"dataframe\">\n",
       "<caption>A data.frame: 6 × 9</caption>\n",
       "<thead>\n",
       "\t<tr><th></th><th scope=col>nota</th><th scope=col>ufpr</th><th scope=col>genero</th><th scope=col>idade</th><th scope=col>cor</th><th scope=col>renda</th><th scope=col>escolaridade_pais</th><th scope=col>trabalho</th><th scope=col>esforco</th></tr>\n",
       "\t<tr><th></th><th scope=col>&lt;dbl&gt;</th><th scope=col>&lt;fct&gt;</th><th scope=col>&lt;fct&gt;</th><th scope=col>&lt;int&gt;</th><th scope=col>&lt;fct&gt;</th><th scope=col>&lt;fct&gt;</th><th scope=col>&lt;fct&gt;</th><th scope=col>&lt;fct&gt;</th><th scope=col>&lt;fct&gt;</th></tr>\n",
       "</thead>\n",
       "<tbody>\n",
       "\t<tr><th scope=row>161</th><td>24.9</td><td>0</td><td>F</td><td>28</td><td>branca</td><td>De 3 a 4.5 salários mínimos</td><td>não</td><td>Trabalha 40 hrs. semanais ou mais</td><td>De quatro a sete</td></tr>\n",
       "\t<tr><th scope=row>162</th><td>25.6</td><td>0</td><td>M</td><td>30</td><td>branca</td><td>De 4.5 a 6 salários mínimos</td><td>sim</td><td>Trabalha 40 hrs. semanais ou mais</td><td>De uma a três   </td></tr>\n",
       "\t<tr><th scope=row>163</th><td>48.7</td><td>0</td><td>M</td><td>29</td><td>branca</td><td>De 3 a 4.5 salários mínimos</td><td>não</td><td>Trabalha 40 hrs. semanais ou mais</td><td>De quatro a sete</td></tr>\n",
       "\t<tr><th scope=row>164</th><td>35.7</td><td>0</td><td>F</td><td>22</td><td>branca</td><td>De 1.5 a 3 salários mínimos</td><td>sim</td><td>Trabalha 40 hrs. semanais ou mais</td><td>De uma a três   </td></tr>\n",
       "\t<tr><th scope=row>165</th><td>33.9</td><td>0</td><td>M</td><td>47</td><td>branca</td><td>De 1.5 a 3 salários mínimos</td><td>sim</td><td>Trabalha 40 hrs. semanais ou mais</td><td>De quatro a sete</td></tr>\n",
       "\t<tr><th scope=row>166</th><td>23.5</td><td>0</td><td>M</td><td>27</td><td>branca</td><td>De 3 a 4.5 salários mínimos</td><td>não</td><td>Trabalha 40 hrs. semanais ou mais</td><td>De quatro a sete</td></tr>\n",
       "</tbody>\n",
       "</table>\n"
      ],
      "text/latex": [
       "A data.frame: 6 × 9\n",
       "\\begin{tabular}{r|lllllllll}\n",
       "  & nota & ufpr & genero & idade & cor & renda & escolaridade\\_pais & trabalho & esforco\\\\\n",
       "  & <dbl> & <fct> & <fct> & <int> & <fct> & <fct> & <fct> & <fct> & <fct>\\\\\n",
       "\\hline\n",
       "\t161 & 24.9 & 0 & F & 28 & branca & De 3 a 4.5 salários mínimos & não & Trabalha 40 hrs. semanais ou mais & De quatro a sete\\\\\n",
       "\t162 & 25.6 & 0 & M & 30 & branca & De 4.5 a 6 salários mínimos & sim & Trabalha 40 hrs. semanais ou mais & De uma a três   \\\\\n",
       "\t163 & 48.7 & 0 & M & 29 & branca & De 3 a 4.5 salários mínimos & não & Trabalha 40 hrs. semanais ou mais & De quatro a sete\\\\\n",
       "\t164 & 35.7 & 0 & F & 22 & branca & De 1.5 a 3 salários mínimos & sim & Trabalha 40 hrs. semanais ou mais & De uma a três   \\\\\n",
       "\t165 & 33.9 & 0 & M & 47 & branca & De 1.5 a 3 salários mínimos & sim & Trabalha 40 hrs. semanais ou mais & De quatro a sete\\\\\n",
       "\t166 & 23.5 & 0 & M & 27 & branca & De 3 a 4.5 salários mínimos & não & Trabalha 40 hrs. semanais ou mais & De quatro a sete\\\\\n",
       "\\end{tabular}\n"
      ],
      "text/markdown": [
       "\n",
       "A data.frame: 6 × 9\n",
       "\n",
       "| <!--/--> | nota &lt;dbl&gt; | ufpr &lt;fct&gt; | genero &lt;fct&gt; | idade &lt;int&gt; | cor &lt;fct&gt; | renda &lt;fct&gt; | escolaridade_pais &lt;fct&gt; | trabalho &lt;fct&gt; | esforco &lt;fct&gt; |\n",
       "|---|---|---|---|---|---|---|---|---|---|\n",
       "| 161 | 24.9 | 0 | F | 28 | branca | De 3 a 4.5 salários mínimos | não | Trabalha 40 hrs. semanais ou mais | De quatro a sete |\n",
       "| 162 | 25.6 | 0 | M | 30 | branca | De 4.5 a 6 salários mínimos | sim | Trabalha 40 hrs. semanais ou mais | De uma a três    |\n",
       "| 163 | 48.7 | 0 | M | 29 | branca | De 3 a 4.5 salários mínimos | não | Trabalha 40 hrs. semanais ou mais | De quatro a sete |\n",
       "| 164 | 35.7 | 0 | F | 22 | branca | De 1.5 a 3 salários mínimos | sim | Trabalha 40 hrs. semanais ou mais | De uma a três    |\n",
       "| 165 | 33.9 | 0 | M | 47 | branca | De 1.5 a 3 salários mínimos | sim | Trabalha 40 hrs. semanais ou mais | De quatro a sete |\n",
       "| 166 | 23.5 | 0 | M | 27 | branca | De 3 a 4.5 salários mínimos | não | Trabalha 40 hrs. semanais ou mais | De quatro a sete |\n",
       "\n"
      ],
      "text/plain": [
       "    nota ufpr genero idade cor    renda                       escolaridade_pais\n",
       "161 24.9 0    F      28    branca De 3 a 4.5 salários mínimos não              \n",
       "162 25.6 0    M      30    branca De 4.5 a 6 salários mínimos sim              \n",
       "163 48.7 0    M      29    branca De 3 a 4.5 salários mínimos não              \n",
       "164 35.7 0    F      22    branca De 1.5 a 3 salários mínimos sim              \n",
       "165 33.9 0    M      47    branca De 1.5 a 3 salários mínimos sim              \n",
       "166 23.5 0    M      27    branca De 3 a 4.5 salários mínimos não              \n",
       "    trabalho                          esforco         \n",
       "161 Trabalha 40 hrs. semanais ou mais De quatro a sete\n",
       "162 Trabalha 40 hrs. semanais ou mais De uma a três   \n",
       "163 Trabalha 40 hrs. semanais ou mais De quatro a sete\n",
       "164 Trabalha 40 hrs. semanais ou mais De uma a três   \n",
       "165 Trabalha 40 hrs. semanais ou mais De quatro a sete\n",
       "166 Trabalha 40 hrs. semanais ou mais De quatro a sete"
      ]
     },
     "metadata": {},
     "output_type": "display_data"
    }
   ],
   "source": [
    "head(df_1)"
   ]
  },
  {
   "cell_type": "code",
   "execution_count": 159,
   "id": "caring-january",
   "metadata": {},
   "outputs": [],
   "source": [
    "df_ufpr = df_1[df_1$ufpr==1,]"
   ]
  },
  {
   "cell_type": "markdown",
   "id": "expired-edition",
   "metadata": {},
   "source": [
    "## Dados altantes em UFPR"
   ]
  },
  {
   "cell_type": "code",
   "execution_count": 181,
   "id": "auburn-afghanistan",
   "metadata": {},
   "outputs": [],
   "source": [
    "# Nas notas gerais havia alunos que não preencheram, porém obteram nota. Na ufpr os alunos que não preencheram também não obteram nota. Por isso, estava criando uma categoria sem nota. "
   ]
  },
  {
   "cell_type": "code",
   "execution_count": 160,
   "id": "polish-paris",
   "metadata": {},
   "outputs": [
    {
     "data": {
      "text/html": [
       "<style>\n",
       ".dl-inline {width: auto; margin:0; padding: 0}\n",
       ".dl-inline>dt, .dl-inline>dd {float: none; width: auto; display: inline-block}\n",
       ".dl-inline>dt::after {content: \":\\0020\"; padding-right: .5ex}\n",
       ".dl-inline>dt:not(:first-of-type) {padding-left: .5ex}\n",
       "</style><dl class=dl-inline><dt>nota</dt><dd>17</dd><dt>ufpr</dt><dd>0</dd><dt>genero</dt><dd>0</dd><dt>idade</dt><dd>0</dd><dt>cor</dt><dd>0</dd><dt>renda</dt><dd>0</dd><dt>escolaridade_pais</dt><dd>0</dd><dt>trabalho</dt><dd>0</dd><dt>esforco</dt><dd>0</dd></dl>\n"
      ],
      "text/latex": [
       "\\begin{description*}\n",
       "\\item[nota] 17\n",
       "\\item[ufpr] 0\n",
       "\\item[genero] 0\n",
       "\\item[idade] 0\n",
       "\\item[cor] 0\n",
       "\\item[renda] 0\n",
       "\\item[escolaridade\\textbackslash{}\\_pais] 0\n",
       "\\item[trabalho] 0\n",
       "\\item[esforco] 0\n",
       "\\end{description*}\n"
      ],
      "text/markdown": [
       "nota\n",
       ":   17ufpr\n",
       ":   0genero\n",
       ":   0idade\n",
       ":   0cor\n",
       ":   0renda\n",
       ":   0escolaridade_pais\n",
       ":   0trabalho\n",
       ":   0esforco\n",
       ":   0\n",
       "\n"
      ],
      "text/plain": [
       "             nota              ufpr            genero             idade \n",
       "               17                 0                 0                 0 \n",
       "              cor             renda escolaridade_pais          trabalho \n",
       "                0                 0                 0                 0 \n",
       "          esforco \n",
       "                0 "
      ]
     },
     "metadata": {},
     "output_type": "display_data"
    }
   ],
   "source": [
    "sapply(df_ufpr, function(x) sum(is.na(x)))"
   ]
  },
  {
   "cell_type": "code",
   "execution_count": 228,
   "id": "composed-cloud",
   "metadata": {},
   "outputs": [
    {
     "data": {
      "text/html": [
       "<style>\n",
       ".dl-inline {width: auto; margin:0; padding: 0}\n",
       ".dl-inline>dt, .dl-inline>dd {float: none; width: auto; display: inline-block}\n",
       ".dl-inline>dt::after {content: \":\\0020\"; padding-right: .5ex}\n",
       ".dl-inline>dt:not(:first-of-type) {padding-left: .5ex}\n",
       "</style><dl class=dl-inline><dt>nota</dt><dd>1509</dd><dt>ufpr</dt><dd>0</dd><dt>genero</dt><dd>0</dd><dt>idade</dt><dd>0</dd><dt>cor</dt><dd>0</dd><dt>renda</dt><dd>0</dd><dt>escolaridade_pais</dt><dd>0</dd><dt>trabalho</dt><dd>0</dd><dt>esforco</dt><dd>0</dd></dl>\n"
      ],
      "text/latex": [
       "\\begin{description*}\n",
       "\\item[nota] 1509\n",
       "\\item[ufpr] 0\n",
       "\\item[genero] 0\n",
       "\\item[idade] 0\n",
       "\\item[cor] 0\n",
       "\\item[renda] 0\n",
       "\\item[escolaridade\\textbackslash{}\\_pais] 0\n",
       "\\item[trabalho] 0\n",
       "\\item[esforco] 0\n",
       "\\end{description*}\n"
      ],
      "text/markdown": [
       "nota\n",
       ":   1509ufpr\n",
       ":   0genero\n",
       ":   0idade\n",
       ":   0cor\n",
       ":   0renda\n",
       ":   0escolaridade_pais\n",
       ":   0trabalho\n",
       ":   0esforco\n",
       ":   0\n",
       "\n"
      ],
      "text/plain": [
       "             nota              ufpr            genero             idade \n",
       "             1509                 0                 0                 0 \n",
       "              cor             renda escolaridade_pais          trabalho \n",
       "                0                 0                 0                 0 \n",
       "          esforco \n",
       "                0 "
      ]
     },
     "metadata": {},
     "output_type": "display_data"
    }
   ],
   "source": [
    "sapply(df_1, function(x) sum(is.na(x)))"
   ]
  },
  {
   "cell_type": "code",
   "execution_count": 148,
   "id": "pretty-professor",
   "metadata": {},
   "outputs": [
    {
     "data": {
      "text/html": [
       "<table class=\"dataframe\">\n",
       "<caption>A data.frame: 17 × 9</caption>\n",
       "<thead>\n",
       "\t<tr><th></th><th scope=col>nota</th><th scope=col>ufpr</th><th scope=col>genero</th><th scope=col>idade</th><th scope=col>cor</th><th scope=col>renda</th><th scope=col>escolaridade_pais</th><th scope=col>trabalho</th><th scope=col>esforco</th></tr>\n",
       "\t<tr><th></th><th scope=col>&lt;dbl&gt;</th><th scope=col>&lt;fct&gt;</th><th scope=col>&lt;fct&gt;</th><th scope=col>&lt;int&gt;</th><th scope=col>&lt;fct&gt;</th><th scope=col>&lt;fct&gt;</th><th scope=col>&lt;fct&gt;</th><th scope=col>&lt;fct&gt;</th><th scope=col>&lt;fct&gt;</th></tr>\n",
       "</thead>\n",
       "<tbody>\n",
       "\t<tr><th scope=row>177745</th><td>NA</td><td>1</td><td>M</td><td>35</td><td>branca</td><td>Até 1.5 salário mínimo      </td><td>sim</td><td>Não trabalha                     </td><td>Nenhuma, apenas assistindo as aulas</td></tr>\n",
       "\t<tr><th scope=row>178029</th><td>NA</td><td>1</td><td>M</td><td>26</td><td>      </td><td>                            </td><td>   </td><td>                                 </td><td>                                   </td></tr>\n",
       "\t<tr><th scope=row>178030</th><td>NA</td><td>1</td><td>M</td><td>30</td><td>      </td><td>                            </td><td>   </td><td>                                 </td><td>                                   </td></tr>\n",
       "\t<tr><th scope=row>178031</th><td>NA</td><td>1</td><td>M</td><td>27</td><td>branca</td><td>De 1.5 a 3 salários mínimos </td><td>sim</td><td>Não trabalha                     </td><td>De quatro a sete                   </td></tr>\n",
       "\t<tr><th scope=row>178036</th><td>NA</td><td>1</td><td>F</td><td>29</td><td>      </td><td>                            </td><td>   </td><td>                                 </td><td>                                   </td></tr>\n",
       "\t<tr><th scope=row>178038</th><td>NA</td><td>1</td><td>F</td><td>29</td><td>branca</td><td>Até 1.5 salário mínimo      </td><td>sim</td><td>Não trabalha                     </td><td>Mais de doze                       </td></tr>\n",
       "\t<tr><th scope=row>178048</th><td>NA</td><td>1</td><td>F</td><td>26</td><td>branca</td><td>10 a 30 salários mínimos    </td><td>sim</td><td>Não trabalha                     </td><td>De uma a três                      </td></tr>\n",
       "\t<tr><th scope=row>178053</th><td>NA</td><td>1</td><td>M</td><td>25</td><td>branca</td><td>Até 1.5 salário mínimo      </td><td>sim</td><td>Não trabalha                     </td><td>De quatro a sete                   </td></tr>\n",
       "\t<tr><th scope=row>178054</th><td>NA</td><td>1</td><td>M</td><td>29</td><td>parda </td><td>Acima de 30 salários mínimos</td><td>sim</td><td>Trabalha 40 hrs. semanais ou mais</td><td>De uma a três                      </td></tr>\n",
       "\t<tr><th scope=row>178061</th><td>NA</td><td>1</td><td>M</td><td>31</td><td>      </td><td>                            </td><td>   </td><td>                                 </td><td>                                   </td></tr>\n",
       "\t<tr><th scope=row>178062</th><td>NA</td><td>1</td><td>M</td><td>31</td><td>branca</td><td>Até 1.5 salário mínimo      </td><td>sim</td><td>Não trabalha                     </td><td>Nenhuma, apenas assistindo as aulas</td></tr>\n",
       "\t<tr><th scope=row>178072</th><td>NA</td><td>1</td><td>F</td><td>25</td><td>branca</td><td>Até 1.5 salário mínimo      </td><td>sim</td><td>Não trabalha                     </td><td>Nenhuma, apenas assistindo as aulas</td></tr>\n",
       "\t<tr><th scope=row>178078</th><td>NA</td><td>1</td><td>M</td><td>28</td><td>branca</td><td>De 6 a 10 salários mínimos  </td><td>sim</td><td>Trabalha 40 hrs. semanais ou mais</td><td>De uma a três                      </td></tr>\n",
       "\t<tr><th scope=row>178086</th><td>NA</td><td>1</td><td>M</td><td>26</td><td>      </td><td>                            </td><td>   </td><td>                                 </td><td>                                   </td></tr>\n",
       "\t<tr><th scope=row>178089</th><td>NA</td><td>1</td><td>F</td><td>27</td><td>branca</td><td>Até 1.5 salário mínimo      </td><td>sim</td><td>Não trabalha                     </td><td>Nenhuma, apenas assistindo as aulas</td></tr>\n",
       "\t<tr><th scope=row>178090</th><td>NA</td><td>1</td><td>F</td><td>28</td><td>branca</td><td>Até 1.5 salário mínimo      </td><td>sim</td><td>Não trabalha                     </td><td>Nenhuma, apenas assistindo as aulas</td></tr>\n",
       "\t<tr><th scope=row>178096</th><td>NA</td><td>1</td><td>M</td><td>32</td><td>      </td><td>                            </td><td>   </td><td>                                 </td><td>                                   </td></tr>\n",
       "</tbody>\n",
       "</table>\n"
      ],
      "text/latex": [
       "A data.frame: 17 × 9\n",
       "\\begin{tabular}{r|lllllllll}\n",
       "  & nota & ufpr & genero & idade & cor & renda & escolaridade\\_pais & trabalho & esforco\\\\\n",
       "  & <dbl> & <fct> & <fct> & <int> & <fct> & <fct> & <fct> & <fct> & <fct>\\\\\n",
       "\\hline\n",
       "\t177745 & NA & 1 & M & 35 & branca & Até 1.5 salário mínimo       & sim & Não trabalha                      & Nenhuma, apenas assistindo as aulas\\\\\n",
       "\t178029 & NA & 1 & M & 26 &        &                              &     &                                   &                                    \\\\\n",
       "\t178030 & NA & 1 & M & 30 &        &                              &     &                                   &                                    \\\\\n",
       "\t178031 & NA & 1 & M & 27 & branca & De 1.5 a 3 salários mínimos  & sim & Não trabalha                      & De quatro a sete                   \\\\\n",
       "\t178036 & NA & 1 & F & 29 &        &                              &     &                                   &                                    \\\\\n",
       "\t178038 & NA & 1 & F & 29 & branca & Até 1.5 salário mínimo       & sim & Não trabalha                      & Mais de doze                       \\\\\n",
       "\t178048 & NA & 1 & F & 26 & branca & 10 a 30 salários mínimos     & sim & Não trabalha                      & De uma a três                      \\\\\n",
       "\t178053 & NA & 1 & M & 25 & branca & Até 1.5 salário mínimo       & sim & Não trabalha                      & De quatro a sete                   \\\\\n",
       "\t178054 & NA & 1 & M & 29 & parda  & Acima de 30 salários mínimos & sim & Trabalha 40 hrs. semanais ou mais & De uma a três                      \\\\\n",
       "\t178061 & NA & 1 & M & 31 &        &                              &     &                                   &                                    \\\\\n",
       "\t178062 & NA & 1 & M & 31 & branca & Até 1.5 salário mínimo       & sim & Não trabalha                      & Nenhuma, apenas assistindo as aulas\\\\\n",
       "\t178072 & NA & 1 & F & 25 & branca & Até 1.5 salário mínimo       & sim & Não trabalha                      & Nenhuma, apenas assistindo as aulas\\\\\n",
       "\t178078 & NA & 1 & M & 28 & branca & De 6 a 10 salários mínimos   & sim & Trabalha 40 hrs. semanais ou mais & De uma a três                      \\\\\n",
       "\t178086 & NA & 1 & M & 26 &        &                              &     &                                   &                                    \\\\\n",
       "\t178089 & NA & 1 & F & 27 & branca & Até 1.5 salário mínimo       & sim & Não trabalha                      & Nenhuma, apenas assistindo as aulas\\\\\n",
       "\t178090 & NA & 1 & F & 28 & branca & Até 1.5 salário mínimo       & sim & Não trabalha                      & Nenhuma, apenas assistindo as aulas\\\\\n",
       "\t178096 & NA & 1 & M & 32 &        &                              &     &                                   &                                    \\\\\n",
       "\\end{tabular}\n"
      ],
      "text/markdown": [
       "\n",
       "A data.frame: 17 × 9\n",
       "\n",
       "| <!--/--> | nota &lt;dbl&gt; | ufpr &lt;fct&gt; | genero &lt;fct&gt; | idade &lt;int&gt; | cor &lt;fct&gt; | renda &lt;fct&gt; | escolaridade_pais &lt;fct&gt; | trabalho &lt;fct&gt; | esforco &lt;fct&gt; |\n",
       "|---|---|---|---|---|---|---|---|---|---|\n",
       "| 177745 | NA | 1 | M | 35 | branca | Até 1.5 salário mínimo       | sim | Não trabalha                      | Nenhuma, apenas assistindo as aulas |\n",
       "| 178029 | NA | 1 | M | 26 | <!----> | <!----> | <!----> | <!----> | <!----> |\n",
       "| 178030 | NA | 1 | M | 30 | <!----> | <!----> | <!----> | <!----> | <!----> |\n",
       "| 178031 | NA | 1 | M | 27 | branca | De 1.5 a 3 salários mínimos  | sim | Não trabalha                      | De quatro a sete                    |\n",
       "| 178036 | NA | 1 | F | 29 | <!----> | <!----> | <!----> | <!----> | <!----> |\n",
       "| 178038 | NA | 1 | F | 29 | branca | Até 1.5 salário mínimo       | sim | Não trabalha                      | Mais de doze                        |\n",
       "| 178048 | NA | 1 | F | 26 | branca | 10 a 30 salários mínimos     | sim | Não trabalha                      | De uma a três                       |\n",
       "| 178053 | NA | 1 | M | 25 | branca | Até 1.5 salário mínimo       | sim | Não trabalha                      | De quatro a sete                    |\n",
       "| 178054 | NA | 1 | M | 29 | parda  | Acima de 30 salários mínimos | sim | Trabalha 40 hrs. semanais ou mais | De uma a três                       |\n",
       "| 178061 | NA | 1 | M | 31 | <!----> | <!----> | <!----> | <!----> | <!----> |\n",
       "| 178062 | NA | 1 | M | 31 | branca | Até 1.5 salário mínimo       | sim | Não trabalha                      | Nenhuma, apenas assistindo as aulas |\n",
       "| 178072 | NA | 1 | F | 25 | branca | Até 1.5 salário mínimo       | sim | Não trabalha                      | Nenhuma, apenas assistindo as aulas |\n",
       "| 178078 | NA | 1 | M | 28 | branca | De 6 a 10 salários mínimos   | sim | Trabalha 40 hrs. semanais ou mais | De uma a três                       |\n",
       "| 178086 | NA | 1 | M | 26 | <!----> | <!----> | <!----> | <!----> | <!----> |\n",
       "| 178089 | NA | 1 | F | 27 | branca | Até 1.5 salário mínimo       | sim | Não trabalha                      | Nenhuma, apenas assistindo as aulas |\n",
       "| 178090 | NA | 1 | F | 28 | branca | Até 1.5 salário mínimo       | sim | Não trabalha                      | Nenhuma, apenas assistindo as aulas |\n",
       "| 178096 | NA | 1 | M | 32 | <!----> | <!----> | <!----> | <!----> | <!----> |\n",
       "\n"
      ],
      "text/plain": [
       "       nota ufpr genero idade cor    renda                       \n",
       "177745 NA   1    M      35    branca Até 1.5 salário mínimo      \n",
       "178029 NA   1    M      26                                       \n",
       "178030 NA   1    M      30                                       \n",
       "178031 NA   1    M      27    branca De 1.5 a 3 salários mínimos \n",
       "178036 NA   1    F      29                                       \n",
       "178038 NA   1    F      29    branca Até 1.5 salário mínimo      \n",
       "178048 NA   1    F      26    branca 10 a 30 salários mínimos    \n",
       "178053 NA   1    M      25    branca Até 1.5 salário mínimo      \n",
       "178054 NA   1    M      29    parda  Acima de 30 salários mínimos\n",
       "178061 NA   1    M      31                                       \n",
       "178062 NA   1    M      31    branca Até 1.5 salário mínimo      \n",
       "178072 NA   1    F      25    branca Até 1.5 salário mínimo      \n",
       "178078 NA   1    M      28    branca De 6 a 10 salários mínimos  \n",
       "178086 NA   1    M      26                                       \n",
       "178089 NA   1    F      27    branca Até 1.5 salário mínimo      \n",
       "178090 NA   1    F      28    branca Até 1.5 salário mínimo      \n",
       "178096 NA   1    M      32                                       \n",
       "       escolaridade_pais trabalho                         \n",
       "177745 sim               Não trabalha                     \n",
       "178029                                                    \n",
       "178030                                                    \n",
       "178031 sim               Não trabalha                     \n",
       "178036                                                    \n",
       "178038 sim               Não trabalha                     \n",
       "178048 sim               Não trabalha                     \n",
       "178053 sim               Não trabalha                     \n",
       "178054 sim               Trabalha 40 hrs. semanais ou mais\n",
       "178061                                                    \n",
       "178062 sim               Não trabalha                     \n",
       "178072 sim               Não trabalha                     \n",
       "178078 sim               Trabalha 40 hrs. semanais ou mais\n",
       "178086                                                    \n",
       "178089 sim               Não trabalha                     \n",
       "178090 sim               Não trabalha                     \n",
       "178096                                                    \n",
       "       esforco                            \n",
       "177745 Nenhuma, apenas assistindo as aulas\n",
       "178029                                    \n",
       "178030                                    \n",
       "178031 De quatro a sete                   \n",
       "178036                                    \n",
       "178038 Mais de doze                       \n",
       "178048 De uma a três                      \n",
       "178053 De quatro a sete                   \n",
       "178054 De uma a três                      \n",
       "178061                                    \n",
       "178062 Nenhuma, apenas assistindo as aulas\n",
       "178072 Nenhuma, apenas assistindo as aulas\n",
       "178078 De uma a três                      \n",
       "178086                                    \n",
       "178089 Nenhuma, apenas assistindo as aulas\n",
       "178090 Nenhuma, apenas assistindo as aulas\n",
       "178096                                    "
      ]
     },
     "metadata": {},
     "output_type": "display_data"
    }
   ],
   "source": [
    "df_ufpr[is.na(df_ufpr),]"
   ]
  },
  {
   "cell_type": "code",
   "execution_count": 151,
   "id": "amended-basketball",
   "metadata": {},
   "outputs": [
    {
     "data": {
      "image/png": "[encoded data removed]",
      "text/plain": [
       "plot without title"
      ]
     },
     "metadata": {
      "image/png": {
       "height": 420,
       "width": 480
      }
     },
     "output_type": "display_data"
    }
   ],
   "source": [
    "ggplot(df_1, aes(x=nota)) +\n",
    "    geom_histogram(alpha=0.5, bins = 30, fill=\"turquoise4\", color='blue',na.rm = TRUE)+\n",
    "    ggtitle(\"Distribuição geral das notas de Economia\")+\n",
    "    theme_bw()+\n",
    "    theme(title=element_text(size=10,color=\"turquoise4\"))"
   ]
  },
  {
   "cell_type": "code",
   "execution_count": 19,
   "id": "elder-communications",
   "metadata": {},
   "outputs": [
    {
     "data": {
      "image/png": "[encoded data removed]",
      "text/plain": [
       "plot without title"
      ]
     },
     "metadata": {
      "image/png": {
       "height": 420,
       "width": 420
      }
     },
     "output_type": "display_data"
    }
   ],
   "source": [
    "ggplot(df_ufpr, aes(x=nota)) +\n",
    "    geom_histogram(alpha=0.5, bins = 10, fill=\"turquoise4\", na.rm = TRUE)+\n",
    "    ggtitle(\"Distribuição das notas de Economia da UFPR\")+\n",
    "    theme_bw()+\n",
    "    theme(title=element_text(size=10,color=\"turquoise4\"))"
   ]
  },
  {
   "cell_type": "markdown",
   "id": "studied-judgment",
   "metadata": {},
   "source": [
    "## A média das notas da Ufpr são levemente maiores"
   ]
  },
  {
   "cell_type": "code",
   "execution_count": 22,
   "id": "civic-cambodia",
   "metadata": {},
   "outputs": [
    {
     "name": "stdout",
     "output_type": "stream",
     "text": [
      "[1] \"Geral\"\n"
     ]
    },
    {
     "data": {
      "text/plain": [
       "   Min. 1st Qu.  Median    Mean 3rd Qu.    Max.    NA's \n",
       "    0.0    28.9    37.2    38.4    47.0    90.2    1509 "
      ]
     },
     "metadata": {},
     "output_type": "display_data"
    },
    {
     "name": "stdout",
     "output_type": "stream",
     "text": [
      "[1] \"Ufpr\"\n"
     ]
    },
    {
     "data": {
      "text/plain": [
       "   Min. 1st Qu.  Median    Mean 3rd Qu.    Max.    NA's \n",
       "   0.00   30.90   38.80   38.81   49.50   72.80      17 "
      ]
     },
     "metadata": {},
     "output_type": "display_data"
    }
   ],
   "source": [
    "# Mediadas\n",
    "print('Geral')\n",
    "summary(df_1$nota)\n",
    "print('Ufpr')\n",
    "summary(df_ufpr$nota)"
   ]
  },
  {
   "cell_type": "code",
   "execution_count": 154,
   "id": "documented-paint",
   "metadata": {},
   "outputs": [
    {
     "data": {
      "image/png": "[encoded data removed]",
      "text/plain": [
       "plot without title"
      ]
     },
     "metadata": {
      "image/png": {
       "height": 360,
       "width": 420
      }
     },
     "output_type": "display_data"
    }
   ],
   "source": [
    "options(repr.plot.width = 7, repr.plot.height = 6)\n",
    "ggplot(df_1, aes(x=ufpr, y=nota, fill=ufpr)) +\n",
    "    geom_boxplot(na.rm = TRUE) +\n",
    "    stat_summary(aes(shape = \"média\"),\n",
    "               geom = \"point\",\n",
    "               fun = mean,\n",
    "               size = 1,\n",
    "               na.rm = TRUE)+\n",
    "    ggtitle(\"Notas geral X notas ufpr\")+\n",
    "    xlab(\"Notas Ufpr\")+\n",
    "    ylab(\"Notas\")+\n",
    "    theme(axis.text.x = element_text(angle = 45, vjust = 0.9, hjust=1));"
   ]
  },
  {
   "cell_type": "markdown",
   "id": "future-significance",
   "metadata": {},
   "source": [
    "# Notas por Cor/Raça"
   ]
  },
  {
   "cell_type": "code",
   "execution_count": 166,
   "id": "ultimate-judge",
   "metadata": {},
   "outputs": [
    {
     "name": "stdout",
     "output_type": "stream",
     "text": [
      "[1] \"Geral\"\n"
     ]
    },
    {
     "data": {
      "text/plain": [
       "\n",
       "                     branca         preta       amarela         parda \n",
       "  0.113441870   0.541327489   0.068357337   0.020768107   0.234293467 \n",
       "     indigina não declarado \n",
       "  0.001982885   0.019828846 "
      ]
     },
     "metadata": {},
     "output_type": "display_data"
    },
    {
     "name": "stdout",
     "output_type": "stream",
     "text": [
      "[1] \"Ufpr\"\n"
     ]
    },
    {
     "data": {
      "text/plain": [
       "\n",
       "                     branca         preta       amarela         parda \n",
       "   0.05263158    0.78070175    0.01754386    0.04385965    0.08771930 \n",
       "     indigina não declarado \n",
       "   0.00000000    0.01754386 "
      ]
     },
     "metadata": {},
     "output_type": "display_data"
    }
   ],
   "source": [
    "print('Geral')\n",
    "prop.table(table(df_1$cor))\n",
    "print('Ufpr')\n",
    "prop.table(table(df_ufpr$cor))"
   ]
  },
  {
   "cell_type": "code",
   "execution_count": 167,
   "id": "stuck-public",
   "metadata": {},
   "outputs": [
    {
     "name": "stdout",
     "output_type": "stream",
     "text": [
      "[1] \"Geral\"\n"
     ]
    },
    {
     "data": {
      "text/html": [
       "<style>\n",
       ".dl-inline {width: auto; margin:0; padding: 0}\n",
       ".dl-inline>dt, .dl-inline>dd {float: none; width: auto; display: inline-block}\n",
       ".dl-inline>dt::after {content: \":\\0020\"; padding-right: .5ex}\n",
       ".dl-inline>dt:not(:first-of-type) {padding-left: .5ex}\n",
       "</style><dl class=dl-inline><dt>1</dt><dd>34.5163265306122</dd><dt>branca</dt><dd>39.4289538210053</dd><dt>preta</dt><dd>35.6385113268608</dd><dt>amarela</dt><dd>38.3365591397849</dd><dt>parda</dt><dd>36.8162441314554</dd><dt>indigina</dt><dd>31.5842105263158</dd><dt>não declarado</dt><dd>40.4062146892655</dd></dl>\n"
      ],
      "text/latex": [
       "\\begin{description*}\n",
       "\\item[1] 34.5163265306122\n",
       "\\item[branca] 39.4289538210053\n",
       "\\item[preta] 35.6385113268608\n",
       "\\item[amarela] 38.3365591397849\n",
       "\\item[parda] 36.8162441314554\n",
       "\\item[indigina] 31.5842105263158\n",
       "\\item[não declarado] 40.4062146892655\n",
       "\\end{description*}\n"
      ],
      "text/markdown": [
       "1\n",
       ":   34.5163265306122branca\n",
       ":   39.4289538210053preta\n",
       ":   35.6385113268608amarela\n",
       ":   38.3365591397849parda\n",
       ":   36.8162441314554indigina\n",
       ":   31.5842105263158não declarado\n",
       ":   40.4062146892655\n",
       "\n"
      ],
      "text/plain": [
       "                     branca         preta       amarela         parda \n",
       "     34.51633      39.42895      35.63851      38.33656      36.81624 \n",
       "     indigina não declarado \n",
       "     31.58421      40.40621 "
      ]
     },
     "metadata": {},
     "output_type": "display_data"
    },
    {
     "name": "stdout",
     "output_type": "stream",
     "text": [
      "[1] \"Ufpr\"\n"
     ]
    },
    {
     "data": {
      "text/html": [
       "<style>\n",
       ".dl-inline {width: auto; margin:0; padding: 0}\n",
       ".dl-inline>dt, .dl-inline>dd {float: none; width: auto; display: inline-block}\n",
       ".dl-inline>dt::after {content: \":\\0020\"; padding-right: .5ex}\n",
       ".dl-inline>dt:not(:first-of-type) {padding-left: .5ex}\n",
       "</style><dl class=dl-inline><dt>1</dt><dd>NaN</dd><dt>branca</dt><dd>37.9050632911392</dd><dt>preta</dt><dd>38.7</dd><dt>amarela</dt><dd>39.38</dd><dt>parda</dt><dd>48.5888888888889</dd><dt>indigina</dt><dd>&lt;NA&gt;</dd><dt>não declarado</dt><dd>29.05</dd></dl>\n"
      ],
      "text/latex": [
       "\\begin{description*}\n",
       "\\item[1] NaN\n",
       "\\item[branca] 37.9050632911392\n",
       "\\item[preta] 38.7\n",
       "\\item[amarela] 39.38\n",
       "\\item[parda] 48.5888888888889\n",
       "\\item[indigina] <NA>\n",
       "\\item[não declarado] 29.05\n",
       "\\end{description*}\n"
      ],
      "text/markdown": [
       "1\n",
       ":   NaNbranca\n",
       ":   37.9050632911392preta\n",
       ":   38.7amarela\n",
       ":   39.38parda\n",
       ":   48.5888888888889indigina\n",
       ":   &lt;NA&gt;não declarado\n",
       ":   29.05\n",
       "\n"
      ],
      "text/plain": [
       "                     branca         preta       amarela         parda \n",
       "          NaN      37.90506      38.70000      39.38000      48.58889 \n",
       "     indigina não declarado \n",
       "           NA      29.05000 "
      ]
     },
     "metadata": {},
     "output_type": "display_data"
    }
   ],
   "source": [
    "print('Geral')\n",
    "tapply(df_1$nota, df_1$cor, FUN=mean, na.rm=T)\n",
    "print('Ufpr')\n",
    "tapply(df_ufpr$nota, df_ufpr$cor, FUN=mean, na.rm=T)"
   ]
  },
  {
   "cell_type": "code",
   "execution_count": 182,
   "id": "weighted-electronics",
   "metadata": {},
   "outputs": [
    {
     "data": {
      "image/png": "[encoded data removed]",
      "text/plain": [
       "plot without title"
      ]
     },
     "metadata": {
      "image/png": {
       "height": 420,
       "width": 480
      }
     },
     "output_type": "display_data"
    }
   ],
   "source": [
    "options(repr.plot.width = 8, repr.plot.height = 7)\n",
    "b1 = ggplot(df_1, aes(x=cor, y=nota)) +\n",
    "        geom_boxplot(na.rm = TRUE, fill=\"turquoise4\") +\n",
    "        scale_y_continuous(limits = c(0, 100))+\n",
    "        stat_summary(geom = \"point\",\n",
    "               fun = mean,\n",
    "               size = 1,\n",
    "               na.rm = TRUE)+\n",
    "        ggtitle(\"Notas por cor: Geral\")+ \n",
    "        ylab(\"Notas\")+\n",
    "        xlab(\"\")+\n",
    "        theme(axis.text.x = element_text(angle = 45, vjust = 0.9, hjust=1),\n",
    "             axis.text = element_text(size = 14), \n",
    "             plot.title = element_text(size=15, face=\"bold\"));\n",
    "b2 = ggplot(data=subset(df_ufpr,!is.na(nota)), aes(x=cor, y=nota)) +\n",
    "        geom_boxplot(na.rm = TRUE, fill=\"coral\") +\n",
    "        scale_y_continuous(limits = c(0, 100))+\n",
    "        stat_summary(geom = \"point\",\n",
    "               fun = mean,\n",
    "               size = 1,\n",
    "               na.rm = TRUE)+  \n",
    "        ggtitle(\"UFPR\")+ \n",
    "        ylab(\"\")+\n",
    "        xlab(\"\")+\n",
    "        theme(axis.text.x = element_text(angle = 45, vjust = 0.9, hjust=1),\n",
    "             axis.text = element_text(size = 14),\n",
    "             plot.title = element_text(size=15, face=\"bold\"));\n",
    "plot_grid(b1, b2)"
   ]
  },
  {
   "cell_type": "markdown",
   "id": "protective-awareness",
   "metadata": {},
   "source": [
    "# Notas por Gênero"
   ]
  },
  {
   "cell_type": "code",
   "execution_count": 168,
   "id": "satisfactory-moscow",
   "metadata": {},
   "outputs": [
    {
     "name": "stdout",
     "output_type": "stream",
     "text": [
      "[1] \"Geral\"\n"
     ]
    },
    {
     "data": {
      "text/plain": [
       "\n",
       "        F         M \n",
       "0.3956377 0.6043623 "
      ]
     },
     "metadata": {},
     "output_type": "display_data"
    },
    {
     "name": "stdout",
     "output_type": "stream",
     "text": [
      "[1] \"Ufpr\"\n"
     ]
    },
    {
     "data": {
      "text/plain": [
       "\n",
       "        F         M \n",
       "0.3333333 0.6666667 "
      ]
     },
     "metadata": {},
     "output_type": "display_data"
    }
   ],
   "source": [
    "print('Geral')\n",
    "prop.table(table(df_1$genero))\n",
    "print('Ufpr')\n",
    "prop.table(table(df_ufpr$genero))"
   ]
  },
  {
   "cell_type": "code",
   "execution_count": 171,
   "id": "freelance-muslim",
   "metadata": {},
   "outputs": [
    {
     "name": "stdout",
     "output_type": "stream",
     "text": [
      "[1] \"Geral\"\n"
     ]
    },
    {
     "data": {
      "text/html": [
       "<style>\n",
       ".dl-inline {width: auto; margin:0; padding: 0}\n",
       ".dl-inline>dt, .dl-inline>dd {float: none; width: auto; display: inline-block}\n",
       ".dl-inline>dt::after {content: \":\\0020\"; padding-right: .5ex}\n",
       ".dl-inline>dt:not(:first-of-type) {padding-left: .5ex}\n",
       "</style><dl class=dl-inline><dt>F</dt><dd>34.9280691118521</dd><dt>M</dt><dd>40.7948680351906</dd></dl>\n"
      ],
      "text/latex": [
       "\\begin{description*}\n",
       "\\item[F] 34.9280691118521\n",
       "\\item[M] 40.7948680351906\n",
       "\\end{description*}\n"
      ],
      "text/markdown": [
       "F\n",
       ":   34.9280691118521M\n",
       ":   40.7948680351906\n",
       "\n"
      ],
      "text/plain": [
       "       F        M \n",
       "34.92807 40.79487 "
      ]
     },
     "metadata": {},
     "output_type": "display_data"
    },
    {
     "name": "stdout",
     "output_type": "stream",
     "text": [
      "[1] \"Ufpr\"\n"
     ]
    },
    {
     "data": {
      "text/html": [
       "<style>\n",
       ".dl-inline {width: auto; margin:0; padding: 0}\n",
       ".dl-inline>dt, .dl-inline>dd {float: none; width: auto; display: inline-block}\n",
       ".dl-inline>dt::after {content: \":\\0020\"; padding-right: .5ex}\n",
       ".dl-inline>dt:not(:first-of-type) {padding-left: .5ex}\n",
       "</style><dl class=dl-inline><dt>F</dt><dd>37.83125</dd><dt>M</dt><dd>39.2861538461538</dd></dl>\n"
      ],
      "text/latex": [
       "\\begin{description*}\n",
       "\\item[F] 37.83125\n",
       "\\item[M] 39.2861538461538\n",
       "\\end{description*}\n"
      ],
      "text/markdown": [
       "F\n",
       ":   37.83125M\n",
       ":   39.2861538461538\n",
       "\n"
      ],
      "text/plain": [
       "       F        M \n",
       "37.83125 39.28615 "
      ]
     },
     "metadata": {},
     "output_type": "display_data"
    }
   ],
   "source": [
    "print('Geral')\n",
    "tapply(df_1$nota, df_1$genero, FUN=mean, na.rm=T)\n",
    "print('Ufpr')\n",
    "tapply(df_ufpr$nota, df_ufpr$genero, FUN=mean, na.rm=T)"
   ]
  },
  {
   "cell_type": "code",
   "execution_count": 183,
   "id": "coastal-horse",
   "metadata": {},
   "outputs": [
    {
     "data": {
      "image/png": "[encoded data removed]",
      "text/plain": [
       "plot without title"
      ]
     },
     "metadata": {
      "image/png": {
       "height": 420,
       "width": 480
      }
     },
     "output_type": "display_data"
    }
   ],
   "source": [
    "options(repr.plot.width = 8, repr.plot.height = 7)\n",
    "b1 = ggplot(df_1, aes(x=genero, y=nota)) +\n",
    "        geom_boxplot(na.rm = TRUE, fill=\"turquoise4\") +\n",
    "        scale_y_continuous(limits = c(0, 100))+\n",
    "        stat_summary(geom = \"point\",\n",
    "               fun = mean,\n",
    "               size = 1,\n",
    "               na.rm = TRUE)+\n",
    "        ggtitle(\"Notas por gênero: Geral\")+ \n",
    "        ylab(\"Notas\")+\n",
    "        xlab(\"\")+\n",
    "        theme(axis.text.x = element_text(angle = 45, vjust = 0.9, hjust=1),\n",
    "             axis.text = element_text(size = 14), \n",
    "             plot.title = element_text(size=15, face=\"bold\"));\n",
    "b2 = ggplot(data=subset(df_ufpr,!is.na(nota)), aes(x=genero, y=nota)) +\n",
    "        geom_boxplot(na.rm = TRUE, fill=\"coral\") +\n",
    "        scale_y_continuous(limits = c(0, 100))+\n",
    "        stat_summary(geom = \"point\",\n",
    "               fun = mean,\n",
    "               size = 1,\n",
    "               na.rm = TRUE)+  \n",
    "        ggtitle(\"UFPR\")+ \n",
    "        ylab(\"\")+\n",
    "        xlab(\"\")+\n",
    "        theme(axis.text.x = element_text(angle = 45, vjust = 0.9, hjust=1),\n",
    "             axis.text = element_text(size = 14),\n",
    "             plot.title = element_text(size=15, face=\"bold\"));\n",
    "plot_grid(b1, b2)"
   ]
  },
  {
   "cell_type": "markdown",
   "id": "worse-berry",
   "metadata": {},
   "source": [
    "# Notas por Renda"
   ]
  },
  {
   "cell_type": "code",
   "execution_count": 177,
   "id": "comic-spending",
   "metadata": {},
   "outputs": [
    {
     "name": "stdout",
     "output_type": "stream",
     "text": [
      "[1] \"Geral\"\n"
     ]
    },
    {
     "data": {
      "text/plain": [
       "\n",
       "                                   Até 1.5 salário mínimo \n",
       "                  0.11344187                   0.13420998 \n",
       " De 1.5 a 3 salários mínimos  De 3 a 4.5 salários mínimos \n",
       "                  0.16301398                   0.15737842 \n",
       " De 4.5 a 6 salários mínimos   De 6 a 10 salários mínimos \n",
       "                  0.10363181                   0.13963682 \n",
       "    10 a 30 salários mínimos Acima de 30 salários mínimos \n",
       "                  0.13661031                   0.05207681 "
      ]
     },
     "metadata": {},
     "output_type": "display_data"
    },
    {
     "name": "stdout",
     "output_type": "stream",
     "text": [
      "[1] \"Ufpr\"\n"
     ]
    },
    {
     "data": {
      "text/plain": [
       "\n",
       "                                   Até 1.5 salário mínimo \n",
       "                  0.05263158                   0.34210526 \n",
       " De 1.5 a 3 salários mínimos  De 3 a 4.5 salários mínimos \n",
       "                  0.08771930                   0.09649123 \n",
       " De 4.5 a 6 salários mínimos   De 6 a 10 salários mínimos \n",
       "                  0.09649123                   0.16666667 \n",
       "    10 a 30 salários mínimos Acima de 30 salários mínimos \n",
       "                  0.13157895                   0.02631579 "
      ]
     },
     "metadata": {},
     "output_type": "display_data"
    }
   ],
   "source": [
    "print('Geral')\n",
    "prop.table(table(df_1$renda))\n",
    "print('Ufpr')\n",
    "prop.table(table(df_ufpr$renda))"
   ]
  },
  {
   "cell_type": "code",
   "execution_count": 178,
   "id": "responsible-editor",
   "metadata": {},
   "outputs": [
    {
     "name": "stdout",
     "output_type": "stream",
     "text": [
      "[1] \"Geral\"\n"
     ]
    },
    {
     "data": {
      "text/html": [
       "<style>\n",
       ".dl-inline {width: auto; margin:0; padding: 0}\n",
       ".dl-inline>dt, .dl-inline>dd {float: none; width: auto; display: inline-block}\n",
       ".dl-inline>dt::after {content: \":\\0020\"; padding-right: .5ex}\n",
       ".dl-inline>dt:not(:first-of-type) {padding-left: .5ex}\n",
       "</style><dl class=dl-inline><dt>1</dt><dd>34.5163265306122</dd><dt>Até 1.5 salário mínimo</dt><dd>34.4106400665004</dd><dt>De 1.5 a 3 salários mínimos</dt><dd>35.2974324324324</dd><dt>De 3 a 4.5 salários mínimos</dt><dd>36.2945682451253</dd><dt>De 4.5 a 6 salários mínimos</dt><dd>38.0471778487753</dd><dt>De 6 a 10 salários mínimos</dt><dd>40.2816890292028</dd><dt>10 a 30 salários mínimos</dt><dd>44.1079610073111</dd><dt>Acima de 30 salários mínimos</dt><dd>45.8884615384615</dd></dl>\n"
      ],
      "text/latex": [
       "\\begin{description*}\n",
       "\\item[1] 34.5163265306122\n",
       "\\item[Até 1.5 salário mínimo] 34.4106400665004\n",
       "\\item[De 1.5 a 3 salários mínimos] 35.2974324324324\n",
       "\\item[De 3 a 4.5 salários mínimos] 36.2945682451253\n",
       "\\item[De 4.5 a 6 salários mínimos] 38.0471778487753\n",
       "\\item[De 6 a 10 salários mínimos] 40.2816890292028\n",
       "\\item[10 a 30 salários mínimos] 44.1079610073111\n",
       "\\item[Acima de 30 salários mínimos] 45.8884615384615\n",
       "\\end{description*}\n"
      ],
      "text/markdown": [
       "1\n",
       ":   34.5163265306122Até 1.5 salário mínimo\n",
       ":   34.4106400665004De 1.5 a 3 salários mínimos\n",
       ":   35.2974324324324De 3 a 4.5 salários mínimos\n",
       ":   36.2945682451253De 4.5 a 6 salários mínimos\n",
       ":   38.0471778487753De 6 a 10 salários mínimos\n",
       ":   40.281689029202810 a 30 salários mínimos\n",
       ":   44.1079610073111Acima de 30 salários mínimos\n",
       ":   45.8884615384615\n",
       "\n"
      ],
      "text/plain": [
       "                                   Até 1.5 salário mínimo \n",
       "                    34.51633                     34.41064 \n",
       " De 1.5 a 3 salários mínimos  De 3 a 4.5 salários mínimos \n",
       "                    35.29743                     36.29457 \n",
       " De 4.5 a 6 salários mínimos   De 6 a 10 salários mínimos \n",
       "                    38.04718                     40.28169 \n",
       "    10 a 30 salários mínimos Acima de 30 salários mínimos \n",
       "                    44.10796                     45.88846 "
      ]
     },
     "metadata": {},
     "output_type": "display_data"
    },
    {
     "name": "stdout",
     "output_type": "stream",
     "text": [
      "[1] \"Ufpr\"\n"
     ]
    },
    {
     "data": {
      "text/html": [
       "<style>\n",
       ".dl-inline {width: auto; margin:0; padding: 0}\n",
       ".dl-inline>dt, .dl-inline>dd {float: none; width: auto; display: inline-block}\n",
       ".dl-inline>dt::after {content: \":\\0020\"; padding-right: .5ex}\n",
       ".dl-inline>dt:not(:first-of-type) {padding-left: .5ex}\n",
       "</style><dl class=dl-inline><dt>1</dt><dd>NaN</dd><dt>Até 1.5 salário mínimo</dt><dd>35.634375</dd><dt>De 1.5 a 3 salários mínimos</dt><dd>37.8444444444444</dd><dt>De 3 a 4.5 salários mínimos</dt><dd>43.3909090909091</dd><dt>De 4.5 a 6 salários mínimos</dt><dd>38.7818181818182</dd><dt>De 6 a 10 salários mínimos</dt><dd>39.4888888888889</dd><dt>10 a 30 salários mínimos</dt><dd>42.5928571428571</dd><dt>Acima de 30 salários mínimos</dt><dd>36.15</dd></dl>\n"
      ],
      "text/latex": [
       "\\begin{description*}\n",
       "\\item[1] NaN\n",
       "\\item[Até 1.5 salário mínimo] 35.634375\n",
       "\\item[De 1.5 a 3 salários mínimos] 37.8444444444444\n",
       "\\item[De 3 a 4.5 salários mínimos] 43.3909090909091\n",
       "\\item[De 4.5 a 6 salários mínimos] 38.7818181818182\n",
       "\\item[De 6 a 10 salários mínimos] 39.4888888888889\n",
       "\\item[10 a 30 salários mínimos] 42.5928571428571\n",
       "\\item[Acima de 30 salários mínimos] 36.15\n",
       "\\end{description*}\n"
      ],
      "text/markdown": [
       "1\n",
       ":   NaNAté 1.5 salário mínimo\n",
       ":   35.634375De 1.5 a 3 salários mínimos\n",
       ":   37.8444444444444De 3 a 4.5 salários mínimos\n",
       ":   43.3909090909091De 4.5 a 6 salários mínimos\n",
       ":   38.7818181818182De 6 a 10 salários mínimos\n",
       ":   39.488888888888910 a 30 salários mínimos\n",
       ":   42.5928571428571Acima de 30 salários mínimos\n",
       ":   36.15\n",
       "\n"
      ],
      "text/plain": [
       "                                   Até 1.5 salário mínimo \n",
       "                         NaN                     35.63437 \n",
       " De 1.5 a 3 salários mínimos  De 3 a 4.5 salários mínimos \n",
       "                    37.84444                     43.39091 \n",
       " De 4.5 a 6 salários mínimos   De 6 a 10 salários mínimos \n",
       "                    38.78182                     39.48889 \n",
       "    10 a 30 salários mínimos Acima de 30 salários mínimos \n",
       "                    42.59286                     36.15000 "
      ]
     },
     "metadata": {},
     "output_type": "display_data"
    }
   ],
   "source": [
    "print('Geral')\n",
    "tapply(df_1$nota, df_1$renda, FUN=mean, na.rm=T)\n",
    "print('Ufpr')\n",
    "tapply(df_ufpr$nota, df_ufpr$renda, FUN=mean, na.rm=T)"
   ]
  },
  {
   "cell_type": "code",
   "execution_count": 180,
   "id": "hispanic-banks",
   "metadata": {},
   "outputs": [
    {
     "data": {
      "image/png": "[encoded data removed]",
      "text/plain": [
       "plot without title"
      ]
     },
     "metadata": {
      "image/png": {
       "height": 420,
       "width": 480
      }
     },
     "output_type": "display_data"
    }
   ],
   "source": [
    "options(repr.plot.width = 8, repr.plot.height = 7)\n",
    "b1 = ggplot(df_1, aes(x=renda, y=nota)) +\n",
    "        geom_boxplot(na.rm = TRUE, fill=\"turquoise4\") +\n",
    "        scale_y_continuous(limits = c(0, 100))+\n",
    "        stat_summary(geom = \"point\",\n",
    "               fun = mean,\n",
    "               size = 1,\n",
    "               na.rm = TRUE)+\n",
    "        ggtitle(\"Nota por renda: Geral\")+ \n",
    "        ylab(\"Notas\")+\n",
    "        xlab(\"\")+\n",
    "        theme(axis.text.x = element_text(angle = 45, vjust = 0.9, hjust=1),\n",
    "             axis.text = element_text(size = 14), \n",
    "             plot.title = element_text(size=15, face=\"bold\"));\n",
    "b2 = ggplot(data=subset(df_ufpr,!is.na(nota)), aes(x=renda, y=nota)) +\n",
    "        geom_boxplot(na.rm = TRUE, fill=\"coral\") +\n",
    "        scale_y_continuous(limits = c(0, 100))+\n",
    "        stat_summary(geom = \"point\",\n",
    "               fun = mean,\n",
    "               size = 1,\n",
    "               na.rm = TRUE)+  \n",
    "        ggtitle(\"UFPR\")+ \n",
    "        ylab(\"\")+\n",
    "        xlab(\"\")+\n",
    "        theme(axis.text.x = element_text(angle = 45, vjust = 0.9, hjust=1),\n",
    "             axis.text = element_text(size = 14),\n",
    "             plot.title = element_text(size=15, face=\"bold\"));\n",
    "plot_grid(b1, b2)"
   ]
  },
  {
   "cell_type": "markdown",
   "id": "posted-resort",
   "metadata": {},
   "source": [
    "# Notas por escolaridade dos pais"
   ]
  },
  {
   "cell_type": "code",
   "execution_count": 184,
   "id": "separated-prevention",
   "metadata": {},
   "outputs": [
    {
     "name": "stdout",
     "output_type": "stream",
     "text": [
      "[1] \"Geral\"\n"
     ]
    },
    {
     "data": {
      "text/plain": [
       "\n",
       "                sim       não \n",
       "0.1134419 0.6793989 0.2071593 "
      ]
     },
     "metadata": {},
     "output_type": "display_data"
    },
    {
     "name": "stdout",
     "output_type": "stream",
     "text": [
      "[1] \"Ufpr\"\n"
     ]
    },
    {
     "data": {
      "text/plain": [
       "\n",
       "                  sim        não \n",
       "0.05263158 0.82456140 0.12280702 "
      ]
     },
     "metadata": {},
     "output_type": "display_data"
    }
   ],
   "source": [
    "print('Geral')\n",
    "prop.table(table(df_1$escolaridade_pais))\n",
    "print('Ufpr')\n",
    "prop.table(table(df_ufpr$escolaridade_pais))"
   ]
  },
  {
   "cell_type": "code",
   "execution_count": 185,
   "id": "dirty-packaging",
   "metadata": {},
   "outputs": [
    {
     "name": "stdout",
     "output_type": "stream",
     "text": [
      "[1] \"Geral\"\n"
     ]
    },
    {
     "data": {
      "text/html": [
       "<style>\n",
       ".dl-inline {width: auto; margin:0; padding: 0}\n",
       ".dl-inline>dt, .dl-inline>dd {float: none; width: auto; display: inline-block}\n",
       ".dl-inline>dt::after {content: \":\\0020\"; padding-right: .5ex}\n",
       ".dl-inline>dt:not(:first-of-type) {padding-left: .5ex}\n",
       "</style><dl class=dl-inline><dt>1</dt><dd>34.5163265306122</dd><dt>sim</dt><dd>39.3579033311561</dd><dt>não</dt><dd>35.4017368421053</dd></dl>\n"
      ],
      "text/latex": [
       "\\begin{description*}\n",
       "\\item[1] 34.5163265306122\n",
       "\\item[sim] 39.3579033311561\n",
       "\\item[não] 35.4017368421053\n",
       "\\end{description*}\n"
      ],
      "text/markdown": [
       "1\n",
       ":   34.5163265306122sim\n",
       ":   39.3579033311561não\n",
       ":   35.4017368421053\n",
       "\n"
      ],
      "text/plain": [
       "              sim      não \n",
       "34.51633 39.35790 35.40174 "
      ]
     },
     "metadata": {},
     "output_type": "display_data"
    },
    {
     "name": "stdout",
     "output_type": "stream",
     "text": [
      "[1] \"Ufpr\"\n"
     ]
    },
    {
     "data": {
      "text/html": [
       "<style>\n",
       ".dl-inline {width: auto; margin:0; padding: 0}\n",
       ".dl-inline>dt, .dl-inline>dd {float: none; width: auto; display: inline-block}\n",
       ".dl-inline>dt::after {content: \":\\0020\"; padding-right: .5ex}\n",
       ".dl-inline>dt:not(:first-of-type) {padding-left: .5ex}\n",
       "</style><dl class=dl-inline><dt>1</dt><dd>NaN</dd><dt>sim</dt><dd>39.1277108433735</dd><dt>não</dt><dd>36.9</dd></dl>\n"
      ],
      "text/latex": [
       "\\begin{description*}\n",
       "\\item[1] NaN\n",
       "\\item[sim] 39.1277108433735\n",
       "\\item[não] 36.9\n",
       "\\end{description*}\n"
      ],
      "text/markdown": [
       "1\n",
       ":   NaNsim\n",
       ":   39.1277108433735não\n",
       ":   36.9\n",
       "\n"
      ],
      "text/plain": [
       "              sim      não \n",
       "     NaN 39.12771 36.90000 "
      ]
     },
     "metadata": {},
     "output_type": "display_data"
    }
   ],
   "source": [
    "print('Geral')\n",
    "tapply(df_1$nota, df_1$escolaridade_pais, FUN=mean, na.rm=T)\n",
    "print('Ufpr')\n",
    "tapply(df_ufpr$nota, df_ufpr$escolaridade_pais, FUN=mean, na.rm=T)"
   ]
  },
  {
   "cell_type": "code",
   "execution_count": 186,
   "id": "declared-delaware",
   "metadata": {},
   "outputs": [
    {
     "data": {
      "image/png": "[encoded data removed]",
      "text/plain": [
       "plot without title"
      ]
     },
     "metadata": {
      "image/png": {
       "height": 420,
       "width": 480
      }
     },
     "output_type": "display_data"
    }
   ],
   "source": [
    "options(repr.plot.width = 8, repr.plot.height = 7)\n",
    "b1 = ggplot(df_1, aes(x=escolaridade_pais, y=nota)) +\n",
    "        geom_boxplot(na.rm = TRUE, fill=\"turquoise4\") +\n",
    "        scale_y_continuous(limits = c(0, 100))+\n",
    "        stat_summary(geom = \"point\",\n",
    "               fun = mean,\n",
    "               size = 1,\n",
    "               na.rm = TRUE)+\n",
    "        ggtitle(\"Nota por escolaridade pais: Geral\")+ \n",
    "        ylab(\"Notas\")+\n",
    "        xlab(\"\")+\n",
    "        theme(axis.text.x = element_text(angle = 45, vjust = 0.9, hjust=1),\n",
    "             axis.text = element_text(size = 14), \n",
    "             plot.title = element_text(size=15, face=\"bold\"));\n",
    "b2 = ggplot(data=subset(df_ufpr,!is.na(nota)), aes(x=escolaridade_pais, y=nota)) +\n",
    "        geom_boxplot(na.rm = TRUE, fill=\"coral\") +\n",
    "        scale_y_continuous(limits = c(0, 100))+\n",
    "        stat_summary(geom = \"point\",\n",
    "               fun = mean,\n",
    "               size = 1,\n",
    "               na.rm = TRUE)+  \n",
    "        ggtitle(\"UFPR\")+ \n",
    "        ylab(\"\")+\n",
    "        xlab(\"\")+\n",
    "        theme(axis.text.x = element_text(angle = 45, vjust = 0.9, hjust=1),\n",
    "             axis.text = element_text(size = 14),\n",
    "             plot.title = element_text(size=15, face=\"bold\"));\n",
    "plot_grid(b1, b2)"
   ]
  },
  {
   "cell_type": "markdown",
   "id": "hidden-seafood",
   "metadata": {},
   "source": [
    "# Notas por trabalho\n",
    "---"
   ]
  },
  {
   "cell_type": "code",
   "execution_count": 187,
   "id": "reserved-poultry",
   "metadata": {},
   "outputs": [
    {
     "name": "stdout",
     "output_type": "stream",
     "text": [
      "[1] \"Geral\"\n"
     ]
    },
    {
     "data": {
      "text/plain": [
       "\n",
       "                                                       Não trabalha \n",
       "                       0.11344187                        0.35170111 \n",
       "           Trabalha eventualmente     Trabalha até 20 hrs. semanais \n",
       "                       0.03934460                        0.03871843 \n",
       "Trabalha de 21 a 39 hrs. semanais Trabalha 40 hrs. semanais ou mais \n",
       "                       0.12888750                        0.32790649 "
      ]
     },
     "metadata": {},
     "output_type": "display_data"
    },
    {
     "name": "stdout",
     "output_type": "stream",
     "text": [
      "[1] \"Ufpr\"\n"
     ]
    },
    {
     "data": {
      "text/plain": [
       "\n",
       "                                                       Não trabalha \n",
       "                       0.05263158                        0.53508772 \n",
       "           Trabalha eventualmente     Trabalha até 20 hrs. semanais \n",
       "                       0.04385965                        0.00000000 \n",
       "Trabalha de 21 a 39 hrs. semanais Trabalha 40 hrs. semanais ou mais \n",
       "                       0.10526316                        0.26315789 "
      ]
     },
     "metadata": {},
     "output_type": "display_data"
    }
   ],
   "source": [
    "print('Geral')\n",
    "prop.table(table(df_1$trabalho))\n",
    "print('Ufpr')\n",
    "prop.table(table(df_ufpr$trabalho))"
   ]
  },
  {
   "cell_type": "code",
   "execution_count": 188,
   "id": "furnished-layout",
   "metadata": {},
   "outputs": [
    {
     "name": "stdout",
     "output_type": "stream",
     "text": [
      "[1] \"Geral\"\n"
     ]
    },
    {
     "data": {
      "text/html": [
       "<style>\n",
       ".dl-inline {width: auto; margin:0; padding: 0}\n",
       ".dl-inline>dt, .dl-inline>dd {float: none; width: auto; display: inline-block}\n",
       ".dl-inline>dt::after {content: \":\\0020\"; padding-right: .5ex}\n",
       ".dl-inline>dt:not(:first-of-type) {padding-left: .5ex}\n",
       "</style><dl class=dl-inline><dt>1</dt><dd>34.5163265306122</dd><dt>Não trabalha</dt><dd>40.3472534332085</dd><dt>Trabalha eventualmente</dt><dd>38.9900874635569</dd><dt>Trabalha até 20 hrs. semanais</dt><dd>38.5839650145773</dd><dt>Trabalha de 21 a 39 hrs. semanais</dt><dd>38.4669198312236</dd><dt>Trabalha 40 hrs. semanais ou mais</dt><dd>36.2249237029502</dd></dl>\n"
      ],
      "text/latex": [
       "\\begin{description*}\n",
       "\\item[1] 34.5163265306122\n",
       "\\item[Não trabalha] 40.3472534332085\n",
       "\\item[Trabalha eventualmente] 38.9900874635569\n",
       "\\item[Trabalha até 20 hrs. semanais] 38.5839650145773\n",
       "\\item[Trabalha de 21 a 39 hrs. semanais] 38.4669198312236\n",
       "\\item[Trabalha 40 hrs. semanais ou mais] 36.2249237029502\n",
       "\\end{description*}\n"
      ],
      "text/markdown": [
       "1\n",
       ":   34.5163265306122Não trabalha\n",
       ":   40.3472534332085Trabalha eventualmente\n",
       ":   38.9900874635569Trabalha até 20 hrs. semanais\n",
       ":   38.5839650145773Trabalha de 21 a 39 hrs. semanais\n",
       ":   38.4669198312236Trabalha 40 hrs. semanais ou mais\n",
       ":   36.2249237029502\n",
       "\n"
      ],
      "text/plain": [
       "                                                       Não trabalha \n",
       "                         34.51633                          40.34725 \n",
       "           Trabalha eventualmente     Trabalha até 20 hrs. semanais \n",
       "                         38.99009                          38.58397 \n",
       "Trabalha de 21 a 39 hrs. semanais Trabalha 40 hrs. semanais ou mais \n",
       "                         38.46692                          36.22492 "
      ]
     },
     "metadata": {},
     "output_type": "display_data"
    },
    {
     "name": "stdout",
     "output_type": "stream",
     "text": [
      "[1] \"Ufpr\"\n"
     ]
    },
    {
     "data": {
      "text/html": [
       "<style>\n",
       ".dl-inline {width: auto; margin:0; padding: 0}\n",
       ".dl-inline>dt, .dl-inline>dd {float: none; width: auto; display: inline-block}\n",
       ".dl-inline>dt::after {content: \":\\0020\"; padding-right: .5ex}\n",
       ".dl-inline>dt:not(:first-of-type) {padding-left: .5ex}\n",
       "</style><dl class=dl-inline><dt>1</dt><dd>NaN</dd><dt>Não trabalha</dt><dd>39.1903846153846</dd><dt>Trabalha eventualmente</dt><dd>42.12</dd><dt>Trabalha até 20 hrs. semanais</dt><dd>&lt;NA&gt;</dd><dt>Trabalha de 21 a 39 hrs. semanais</dt><dd>38.225</dd><dt>Trabalha 40 hrs. semanais ou mais</dt><dd>37.75</dd></dl>\n"
      ],
      "text/latex": [
       "\\begin{description*}\n",
       "\\item[1] NaN\n",
       "\\item[Não trabalha] 39.1903846153846\n",
       "\\item[Trabalha eventualmente] 42.12\n",
       "\\item[Trabalha até 20 hrs. semanais] <NA>\n",
       "\\item[Trabalha de 21 a 39 hrs. semanais] 38.225\n",
       "\\item[Trabalha 40 hrs. semanais ou mais] 37.75\n",
       "\\end{description*}\n"
      ],
      "text/markdown": [
       "1\n",
       ":   NaNNão trabalha\n",
       ":   39.1903846153846Trabalha eventualmente\n",
       ":   42.12Trabalha até 20 hrs. semanais\n",
       ":   &lt;NA&gt;Trabalha de 21 a 39 hrs. semanais\n",
       ":   38.225Trabalha 40 hrs. semanais ou mais\n",
       ":   37.75\n",
       "\n"
      ],
      "text/plain": [
       "                                                       Não trabalha \n",
       "                              NaN                          39.19038 \n",
       "           Trabalha eventualmente     Trabalha até 20 hrs. semanais \n",
       "                         42.12000                                NA \n",
       "Trabalha de 21 a 39 hrs. semanais Trabalha 40 hrs. semanais ou mais \n",
       "                         38.22500                          37.75000 "
      ]
     },
     "metadata": {},
     "output_type": "display_data"
    }
   ],
   "source": [
    "print('Geral')\n",
    "tapply(df_1$nota, df_1$trabalho, FUN=mean, na.rm=T)\n",
    "print('Ufpr')\n",
    "tapply(df_ufpr$nota, df_ufpr$trabalho, FUN=mean, na.rm=T)"
   ]
  },
  {
   "cell_type": "code",
   "execution_count": 192,
   "id": "intensive-rotation",
   "metadata": {},
   "outputs": [
    {
     "data": {
      "image/png": "[encoded data removed]",
      "text/plain": [
       "plot without title"
      ]
     },
     "metadata": {
      "image/png": {
       "height": 480,
       "width": 480
      }
     },
     "output_type": "display_data"
    }
   ],
   "source": [
    "options(repr.plot.width = 8, repr.plot.height = 8)\n",
    "b1 = ggplot(df_1, aes(x=trabalho, y=nota)) +\n",
    "        geom_boxplot(na.rm = TRUE, fill=\"turquoise4\") +\n",
    "        scale_y_continuous(limits = c(0, 100))+\n",
    "        stat_summary(geom = \"point\",\n",
    "               fun = mean,\n",
    "               size = 1,\n",
    "               na.rm = TRUE)+\n",
    "        ggtitle(\"Nota por trabalho: Geral\")+ \n",
    "        ylab(\"Notas\")+\n",
    "        xlab(\"\")+\n",
    "        theme(axis.text.x = element_text(angle = 45, vjust = 0.9, hjust=1),\n",
    "             axis.text = element_text(size = 14), \n",
    "             plot.title = element_text(size=15, face=\"bold\"));\n",
    "b2 = ggplot(data=subset(df_ufpr,!is.na(nota)), aes(x=trabalho, y=nota)) +\n",
    "        geom_boxplot(na.rm = TRUE, fill=\"coral\") +\n",
    "        scale_y_continuous(limits = c(0, 100))+\n",
    "        stat_summary(geom = \"point\",\n",
    "               fun = mean,\n",
    "               size = 1,\n",
    "               na.rm = TRUE)+  \n",
    "        ggtitle(\"UFPR\")+ \n",
    "        ylab(\"\")+\n",
    "        xlab(\"\")+\n",
    "        theme(axis.text.x = element_text(angle = 45, vjust = 0.9, hjust=1),\n",
    "             axis.text = element_text(size = 14),\n",
    "             plot.title = element_text(size=15, face=\"bold\"));\n",
    "plot_grid(b1, b2)"
   ]
  },
  {
   "cell_type": "markdown",
   "id": "conscious-positive",
   "metadata": {},
   "source": [
    "# Notas por esforço\n",
    "---"
   ]
  },
  {
   "cell_type": "code",
   "execution_count": 193,
   "id": "polish-twins",
   "metadata": {},
   "outputs": [
    {
     "name": "stdout",
     "output_type": "stream",
     "text": [
      "[1] \"Geral\"\n"
     ]
    },
    {
     "data": {
      "text/plain": [
       "\n",
       "                                    Nenhuma, apenas assistindo as aulas \n",
       "                         0.11344187                          0.08035901 \n",
       "                      De uma a três                    De quatro a sete \n",
       "                         0.34554373                          0.27134210 \n",
       "                      De oito adoze                        Mais de doze \n",
       "                         0.10321436                          0.08609894 "
      ]
     },
     "metadata": {},
     "output_type": "display_data"
    },
    {
     "name": "stdout",
     "output_type": "stream",
     "text": [
      "[1] \"Ufpr\"\n"
     ]
    },
    {
     "data": {
      "text/plain": [
       "\n",
       "                                    Nenhuma, apenas assistindo as aulas \n",
       "                         0.05263158                          0.33333333 \n",
       "                      De uma a três                    De quatro a sete \n",
       "                         0.35087719                          0.12280702 \n",
       "                      De oito adoze                        Mais de doze \n",
       "                         0.07017544                          0.07017544 "
      ]
     },
     "metadata": {},
     "output_type": "display_data"
    }
   ],
   "source": [
    "print('Geral')\n",
    "prop.table(table(df_1$esforco))\n",
    "print('Ufpr')\n",
    "prop.table(table(df_ufpr$esforco))"
   ]
  },
  {
   "cell_type": "code",
   "execution_count": 194,
   "id": "earlier-short",
   "metadata": {},
   "outputs": [
    {
     "name": "stdout",
     "output_type": "stream",
     "text": [
      "[1] \"Geral\"\n"
     ]
    },
    {
     "data": {
      "text/html": [
       "<style>\n",
       ".dl-inline {width: auto; margin:0; padding: 0}\n",
       ".dl-inline>dt, .dl-inline>dd {float: none; width: auto; display: inline-block}\n",
       ".dl-inline>dt::after {content: \":\\0020\"; padding-right: .5ex}\n",
       ".dl-inline>dt:not(:first-of-type) {padding-left: .5ex}\n",
       "</style><dl class=dl-inline><dt>1</dt><dd>34.5163265306122</dd><dt>Nenhuma, apenas assistindo as aulas</dt><dd>36.8050287356322</dd><dt>De uma a três</dt><dd>36.6378438899552</dd><dt>De quatro a sete</dt><dd>38.6564620355412</dd><dt>De oito adoze</dt><dd>41.1735949098621</dd><dt>Mais de doze</dt><dd>42.9180076628353</dd></dl>\n"
      ],
      "text/latex": [
       "\\begin{description*}\n",
       "\\item[1] 34.5163265306122\n",
       "\\item[Nenhuma, apenas assistindo as aulas] 36.8050287356322\n",
       "\\item[De uma a três] 36.6378438899552\n",
       "\\item[De quatro a sete] 38.6564620355412\n",
       "\\item[De oito adoze] 41.1735949098621\n",
       "\\item[Mais de doze] 42.9180076628353\n",
       "\\end{description*}\n"
      ],
      "text/markdown": [
       "1\n",
       ":   34.5163265306122Nenhuma, apenas assistindo as aulas\n",
       ":   36.8050287356322De uma a três\n",
       ":   36.6378438899552De quatro a sete\n",
       ":   38.6564620355412De oito adoze\n",
       ":   41.1735949098621Mais de doze\n",
       ":   42.9180076628353\n",
       "\n"
      ],
      "text/plain": [
       "                                    Nenhuma, apenas assistindo as aulas \n",
       "                           34.51633                            36.80503 \n",
       "                      De uma a três                    De quatro a sete \n",
       "                           36.63784                            38.65646 \n",
       "                      De oito adoze                        Mais de doze \n",
       "                           41.17359                            42.91801 "
      ]
     },
     "metadata": {},
     "output_type": "display_data"
    },
    {
     "name": "stdout",
     "output_type": "stream",
     "text": [
      "[1] \"Ufpr\"\n"
     ]
    },
    {
     "data": {
      "text/html": [
       "<style>\n",
       ".dl-inline {width: auto; margin:0; padding: 0}\n",
       ".dl-inline>dt, .dl-inline>dd {float: none; width: auto; display: inline-block}\n",
       ".dl-inline>dt::after {content: \":\\0020\"; padding-right: .5ex}\n",
       ".dl-inline>dt:not(:first-of-type) {padding-left: .5ex}\n",
       "</style><dl class=dl-inline><dt>1</dt><dd>NaN</dd><dt>Nenhuma, apenas assistindo as aulas</dt><dd>33.6363636363636</dd><dt>De uma a três</dt><dd>39.7837837837838</dd><dt>De quatro a sete</dt><dd>43.2333333333333</dd><dt>De oito adoze</dt><dd>42.6125</dd><dt>Mais de doze</dt><dd>46.0714285714286</dd></dl>\n"
      ],
      "text/latex": [
       "\\begin{description*}\n",
       "\\item[1] NaN\n",
       "\\item[Nenhuma, apenas assistindo as aulas] 33.6363636363636\n",
       "\\item[De uma a três] 39.7837837837838\n",
       "\\item[De quatro a sete] 43.2333333333333\n",
       "\\item[De oito adoze] 42.6125\n",
       "\\item[Mais de doze] 46.0714285714286\n",
       "\\end{description*}\n"
      ],
      "text/markdown": [
       "1\n",
       ":   NaNNenhuma, apenas assistindo as aulas\n",
       ":   33.6363636363636De uma a três\n",
       ":   39.7837837837838De quatro a sete\n",
       ":   43.2333333333333De oito adoze\n",
       ":   42.6125Mais de doze\n",
       ":   46.0714285714286\n",
       "\n"
      ],
      "text/plain": [
       "                                    Nenhuma, apenas assistindo as aulas \n",
       "                                NaN                            33.63636 \n",
       "                      De uma a três                    De quatro a sete \n",
       "                           39.78378                            43.23333 \n",
       "                      De oito adoze                        Mais de doze \n",
       "                           42.61250                            46.07143 "
      ]
     },
     "metadata": {},
     "output_type": "display_data"
    }
   ],
   "source": [
    "print('Geral')\n",
    "tapply(df_1$nota, df_1$esforco, FUN=mean, na.rm=T)\n",
    "print('Ufpr')\n",
    "tapply(df_ufpr$nota, df_ufpr$esforco, FUN=mean, na.rm=T)"
   ]
  },
  {
   "cell_type": "code",
   "execution_count": 195,
   "id": "visible-wings",
   "metadata": {},
   "outputs": [
    {
     "data": {
      "image/png": "[encoded data removed]",
      "text/plain": [
       "plot without title"
      ]
     },
     "metadata": {
      "image/png": {
       "height": 480,
       "width": 480
      }
     },
     "output_type": "display_data"
    }
   ],
   "source": [
    "options(repr.plot.width = 8, repr.plot.height = 8)\n",
    "b1 = ggplot(df_1, aes(x=esforco, y=nota)) +\n",
    "        geom_boxplot(na.rm = TRUE, fill=\"turquoise4\") +\n",
    "        scale_y_continuous(limits = c(0, 100))+\n",
    "        stat_summary(geom = \"point\",\n",
    "               fun = mean,\n",
    "               size = 1,\n",
    "               na.rm = TRUE)+\n",
    "        ggtitle(\"Nota por esforço: Geral\")+ \n",
    "        ylab(\"Notas\")+\n",
    "        xlab(\"\")+\n",
    "        theme(axis.text.x = element_text(angle = 45, vjust = 0.9, hjust=1),\n",
    "             axis.text = element_text(size = 14), \n",
    "             plot.title = element_text(size=15, face=\"bold\"));\n",
    "b2 = ggplot(data=subset(df_ufpr,!is.na(nota)), aes(x=esforco, y=nota)) +\n",
    "        geom_boxplot(na.rm = TRUE, fill=\"coral\") +\n",
    "        scale_y_continuous(limits = c(0, 100))+\n",
    "        stat_summary(geom = \"point\",\n",
    "               fun = mean,\n",
    "               size = 1,\n",
    "               na.rm = TRUE)+  \n",
    "        ggtitle(\"UFPR\")+ \n",
    "        ylab(\"\")+\n",
    "        xlab(\"\")+\n",
    "        theme(axis.text.x = element_text(angle = 45, vjust = 0.9, hjust=1),\n",
    "             axis.text = element_text(size = 14),\n",
    "             plot.title = element_text(size=15, face=\"bold\"));\n",
    "plot_grid(b1, b2)"
   ]
  },
  {
   "cell_type": "code",
   "execution_count": 227,
   "id": "roman-franklin",
   "metadata": {},
   "outputs": [
    {
     "name": "stderr",
     "output_type": "stream",
     "text": [
      "Warning message:\n",
      "\"Removed 1509 rows containing missing values (position_stack).\"\n"
     ]
    },
    {
     "data": {
      "image/png": "[encoded data removed]",
      "text/plain": [
       "plot without title"
      ]
     },
     "metadata": {
      "image/png": {
       "height": 360,
       "width": 480
      }
     },
     "output_type": "display_data"
    }
   ],
   "source": [
    "options(repr.plot.width = 8, repr.plot.height = 6)\n",
    "b1 = ggplot(df_1, aes(y = nota, x = esforco)) +\n",
    "  geom_bar(fill=\"turquoise4\", stat = \"identity\")+\n",
    "  theme(axis.text.x = element_text(angle = 45, vjust = 0.9, hjust=1));\n",
    "b2 = ggplot(data=subset(df_ufpr,!is.na(nota)), aes(y = nota, x = esforco)) +\n",
    "  geom_bar(fill=\"coral\", stat = \"identity\") +\n",
    "  theme(axis.text.x = element_text(angle = 45, vjust = 0.9, hjust=1));\n",
    "plot_grid(b1, b2)"
   ]
  },
  {
   "cell_type": "code",
   "execution_count": 245,
   "id": "respective-underwear",
   "metadata": {
    "scrolled": false
   },
   "outputs": [
    {
     "data": {
      "text/plain": [
       "\n",
       "Call:\n",
       "lm(formula = nota ~ genero + idade + cor + renda + escolaridade_pais + \n",
       "    trabalho + esforco + ufpr * genero + ufpr * cor + ufpr * \n",
       "    renda + ufpr * trabalho + ufpr * esforco, data = df_1)\n",
       "\n",
       "Residuals:\n",
       "    Min      1Q  Median      3Q     Max \n",
       "-42.292  -8.278  -0.480   7.832  41.344 \n",
       "\n",
       "Coefficients: (10 not defined because of singularities)\n",
       "                                                  Estimate Std. Error t value\n",
       "(Intercept)                                       39.99660    1.85721  21.536\n",
       "generoM                                            5.25723    0.28036  18.752\n",
       "idade                                             -0.30569    0.02608 -11.719\n",
       "corbranca                                          8.56059    1.87503   4.566\n",
       "corpreta                                           7.45762    1.93608   3.852\n",
       "coramarela                                         8.72538    2.07153   4.212\n",
       "corparda                                           8.09141    1.89324   4.274\n",
       "corindigina                                        1.51845    3.33764   0.455\n",
       "cornão declarado                                   9.42511    2.07636   4.539\n",
       "rendaAté 1.5 salário mínimo                       -9.31582    0.69985 -13.311\n",
       "rendaDe 1.5 a 3 salários mínimos                  -7.30306    0.66582 -10.969\n",
       "rendaDe 3 a 4.5 salários mínimos                  -6.36455    0.65991  -9.645\n",
       "rendaDe 4.5 a 6 salários mínimos                  -5.06188    0.69370  -7.297\n",
       "rendaDe 6 a 10 salários mínimos                   -3.28948    0.65822  -4.998\n",
       "renda10 a 30 salários mínimos                     -0.47373    0.65559  -0.723\n",
       "rendaAcima de 30 salários mínimos                       NA         NA      NA\n",
       "escolaridade_paissim                               1.34073    0.33353   4.020\n",
       "escolaridade_paisnão                                    NA         NA      NA\n",
       "trabalhoNão trabalha                               4.02083    0.33047  12.167\n",
       "trabalhoTrabalha eventualmente                     2.53157    0.69352   3.650\n",
       "trabalhoTrabalha até 20 hrs. semanais              2.17317    0.68780   3.160\n",
       "trabalhoTrabalha de 21 a 39 hrs. semanais          1.27934    0.41628   3.073\n",
       "trabalhoTrabalha 40 hrs. semanais ou mais               NA         NA      NA\n",
       "esforcoNenhuma, apenas assistindo as aulas        -4.10001    0.65724  -6.238\n",
       "esforcoDe uma a três                              -4.39869    0.48844  -9.006\n",
       "esforcoDe quatro a sete                           -2.65161    0.49631  -5.343\n",
       "esforcoDe oito adoze                              -0.78671    0.58287  -1.350\n",
       "esforcoMais de doze                                     NA         NA      NA\n",
       "ufpr1                                            -18.23674   14.00467  -1.302\n",
       "generoM:ufpr1                                     -2.36146    2.76209  -0.855\n",
       "corbranca:ufpr1                                    9.17736    9.92789   0.924\n",
       "corpreta:ufpr1                                     8.94685   12.09170   0.740\n",
       "coramarela:ufpr1                                  13.51854   12.15221   1.112\n",
       "corparda:ufpr1                                    16.33642   10.81907   1.510\n",
       "corindigina:ufpr1                                       NA         NA      NA\n",
       "cornão declarado:ufpr1                                  NA         NA      NA\n",
       "rendaAté 1.5 salário mínimo:ufpr1                 24.28329   10.25897   2.367\n",
       "rendaDe 1.5 a 3 salários mínimos:ufpr1             9.88281   10.18599   0.970\n",
       "rendaDe 3 a 4.5 salários mínimos:ufpr1            15.56455    9.74999   1.596\n",
       "rendaDe 4.5 a 6 salários mínimos:ufpr1             8.08412   10.06593   0.803\n",
       "rendaDe 6 a 10 salários mínimos:ufpr1             11.49242    9.43484   1.218\n",
       "renda10 a 30 salários mínimos:ufpr1               10.97636    9.79546   1.121\n",
       "rendaAcima de 30 salários mínimos:ufpr1                 NA         NA      NA\n",
       "trabalhoNão trabalha:ufpr1                         1.07549    4.07146   0.264\n",
       "trabalhoTrabalha eventualmente:ufpr1              -0.73531    6.26025  -0.117\n",
       "trabalhoTrabalha até 20 hrs. semanais:ufpr1             NA         NA      NA\n",
       "trabalhoTrabalha de 21 a 39 hrs. semanais:ufpr1   -3.74068    4.81167  -0.777\n",
       "trabalhoTrabalha 40 hrs. semanais ou mais:ufpr1         NA         NA      NA\n",
       "esforcoNenhuma, apenas assistindo as aulas:ufpr1 -16.14227    7.02268  -2.299\n",
       "esforcoDe uma a três:ufpr1                         1.00105    5.32009   0.188\n",
       "esforcoDe quatro a sete:ufpr1                      1.08458    6.52941   0.166\n",
       "esforcoDe oito adoze:ufpr1                         0.13337    6.79119   0.020\n",
       "esforcoMais de doze:ufpr1                               NA         NA      NA\n",
       "                                                 Pr(>|t|)    \n",
       "(Intercept)                                       < 2e-16 ***\n",
       "generoM                                           < 2e-16 ***\n",
       "idade                                             < 2e-16 ***\n",
       "corbranca                                        5.06e-06 ***\n",
       "corpreta                                         0.000118 ***\n",
       "coramarela                                       2.56e-05 ***\n",
       "corparda                                         1.94e-05 ***\n",
       "corindigina                                      0.649159    \n",
       "cornão declarado                                 5.73e-06 ***\n",
       "rendaAté 1.5 salário mínimo                       < 2e-16 ***\n",
       "rendaDe 1.5 a 3 salários mínimos                  < 2e-16 ***\n",
       "rendaDe 3 a 4.5 salários mínimos                  < 2e-16 ***\n",
       "rendaDe 4.5 a 6 salários mínimos                 3.22e-13 ***\n",
       "rendaDe 6 a 10 salários mínimos                  5.93e-07 ***\n",
       "renda10 a 30 salários mínimos                    0.469942    \n",
       "rendaAcima de 30 salários mínimos                      NA    \n",
       "escolaridade_paissim                             5.88e-05 ***\n",
       "escolaridade_paisnão                                   NA    \n",
       "trabalhoNão trabalha                              < 2e-16 ***\n",
       "trabalhoTrabalha eventualmente                   0.000264 ***\n",
       "trabalhoTrabalha até 20 hrs. semanais            0.001586 ** \n",
       "trabalhoTrabalha de 21 a 39 hrs. semanais        0.002124 ** \n",
       "trabalhoTrabalha 40 hrs. semanais ou mais              NA    \n",
       "esforcoNenhuma, apenas assistindo as aulas       4.65e-10 ***\n",
       "esforcoDe uma a três                              < 2e-16 ***\n",
       "esforcoDe quatro a sete                          9.41e-08 ***\n",
       "esforcoDe oito adoze                             0.177142    \n",
       "esforcoMais de doze                                    NA    \n",
       "ufpr1                                            0.192889    \n",
       "generoM:ufpr1                                    0.392602    \n",
       "corbranca:ufpr1                                  0.355305    \n",
       "corpreta:ufpr1                                   0.459372    \n",
       "coramarela:ufpr1                                 0.265985    \n",
       "corparda:ufpr1                                   0.131092    \n",
       "corindigina:ufpr1                                      NA    \n",
       "cornão declarado:ufpr1                                 NA    \n",
       "rendaAté 1.5 salário mínimo:ufpr1                0.017955 *  \n",
       "rendaDe 1.5 a 3 salários mínimos:ufpr1           0.331958    \n",
       "rendaDe 3 a 4.5 salários mínimos:ufpr1           0.110446    \n",
       "rendaDe 4.5 a 6 salários mínimos:ufpr1           0.421931    \n",
       "rendaDe 6 a 10 salários mínimos:ufpr1            0.223228    \n",
       "renda10 a 30 salários mínimos:ufpr1              0.262510    \n",
       "rendaAcima de 30 salários mínimos:ufpr1                NA    \n",
       "trabalhoNão trabalha:ufpr1                       0.791669    \n",
       "trabalhoTrabalha eventualmente:ufpr1             0.906501    \n",
       "trabalhoTrabalha até 20 hrs. semanais:ufpr1            NA    \n",
       "trabalhoTrabalha de 21 a 39 hrs. semanais:ufpr1  0.436934    \n",
       "trabalhoTrabalha 40 hrs. semanais ou mais:ufpr1        NA    \n",
       "esforcoNenhuma, apenas assistindo as aulas:ufpr1 0.021554 *  \n",
       "esforcoDe uma a três:ufpr1                       0.850753    \n",
       "esforcoDe quatro a sete:ufpr1                    0.868077    \n",
       "esforcoDe oito adoze:ufpr1                       0.984332    \n",
       "esforcoMais de doze:ufpr1                              NA    \n",
       "---\n",
       "Signif. codes:  0 '***' 0.001 '**' 0.01 '*' 0.05 '.' 0.1 ' ' 1\n",
       "\n",
       "Residual standard error: 11.97 on 8030 degrees of freedom\n",
       "  (1509 observations deleted due to missingness)\n",
       "Multiple R-squared:  0.1744,\tAdjusted R-squared:  0.1701 \n",
       "F-statistic: 40.39 on 42 and 8030 DF,  p-value: < 2.2e-16\n"
      ]
     },
     "metadata": {},
     "output_type": "display_data"
    }
   ],
   "source": [
    "mod_2 = lm(nota~genero+idade+cor+renda+escolaridade_pais+trabalho+esforco+ufpr*genero+ufpr*cor+ufpr*renda+ufpr*trabalho+ufpr*esforco, data=df_1)\n",
    "summary(mod_2)"
   ]
  },
  {
   "cell_type": "code",
   "execution_count": 246,
   "id": "centered-oregon",
   "metadata": {
    "scrolled": false
   },
   "outputs": [
    {
     "data": {
      "image/png": "[encoded data removed]",
      "text/plain": [
       "Plot with title \"\""
      ]
     },
     "metadata": {
      "image/png": {
       "height": 360,
       "width": 480
      }
     },
     "output_type": "display_data"
    },
    {
     "data": {
      "image/png": "[encoded data removed]",
      "text/plain": [
       "Plot with title \"\""
      ]
     },
     "metadata": {
      "image/png": {
       "height": 360,
       "width": 480
      }
     },
     "output_type": "display_data"
    },
    {
     "data": {
      "image/png": "[encoded data removed]",
      "text/plain": [
       "Plot with title \"\""
      ]
     },
     "metadata": {
      "image/png": {
       "height": 360,
       "width": 480
      }
     },
     "output_type": "display_data"
    },
    {
     "data": {
      "image/png": "[encoded data removed]",
      "text/plain": [
       "Plot with title \"\""
      ]
     },
     "metadata": {
      "image/png": {
       "height": 360,
       "width": 480
      }
     },
     "output_type": "display_data"
    }
   ],
   "source": [
    "plot(mod_2)"
   ]
  },
  {
   "cell_type": "code",
   "execution_count": null,
   "id": "sunset-emerald",
   "metadata": {},
   "outputs": [],
   "source": []
  }
 ],
 "metadata": {
  "kernelspec": {
   "display_name": "R",
   "language": "R",
   "name": "ir"
  },
  "language_info": {
   "codemirror_mode": "r",
   "file_extension": ".r",
   "mimetype": "text/x-r-source",
   "name": "R",
   "pygments_lexer": "r",
   "version": "3.6.1"
  }
 },
 "nbformat": 4,
 "nbformat_minor": 5
}
