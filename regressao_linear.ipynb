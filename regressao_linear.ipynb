{
 "cells": [
  {
   "cell_type": "markdown",
   "id": "fatal-consultation",
   "metadata": {},
   "source": [
    "# Regressão Linear Simples com R\n",
    "* Verificar os pressupostos da regressão linear: relação linear entre as variáveis, normalidade, homocedasticidade, ausência de outliers, independência dos resíduos;\n",
    "* MOntar e interprtetar o modelo de regressão linear simples;\n",
    "* Montar um gráfico incluindo a equação da reta;\n",
    "* Descrever os resultados\n",
    "---"
   ]
  },
  {
   "cell_type": "markdown",
   "id": "convertible-prototype",
   "metadata": {},
   "source": [
    "### Dataset: investimento em publicidade e vendas de CDs por uma gravadora.\n",
    "Carregamento dos pacotes e dos dados:"
   ]
  },
  {
   "cell_type": "code",
   "execution_count": 4,
   "id": "underlying-tracker",
   "metadata": {},
   "outputs": [],
   "source": [
    "library(dplyr)\n",
    "library(car)\n",
    "library(ggplot2)\n",
    "library(rstatix)\n",
    "library(lmtest)\n",
    "library(ggpubr)"
   ]
  },
  {
   "cell_type": "code",
   "execution_count": 6,
   "id": "traditional-jaguar",
   "metadata": {},
   "outputs": [
    {
     "data": {
      "text/html": [
       "<table>\n",
       "<thead><tr><th scope=col>Publicidade</th><th scope=col>Vendas</th></tr></thead>\n",
       "<tbody>\n",
       "\t<tr><td> 985.69</td><td>120    </td></tr>\n",
       "\t<tr><td>1445.56</td><td>360    </td></tr>\n",
       "\t<tr><td>1188.19</td><td>270    </td></tr>\n",
       "\t<tr><td> 574.51</td><td>220    </td></tr>\n",
       "\t<tr><td> 568.95</td><td>170    </td></tr>\n",
       "\t<tr><td> 471.81</td><td> 70    </td></tr>\n",
       "</tbody>\n",
       "</table>\n"
      ],
      "text/latex": [
       "\\begin{tabular}{r|ll}\n",
       " Publicidade & Vendas\\\\\n",
       "\\hline\n",
       "\t  985.69 & 120    \\\\\n",
       "\t 1445.56 & 360    \\\\\n",
       "\t 1188.19 & 270    \\\\\n",
       "\t  574.51 & 220    \\\\\n",
       "\t  568.95 & 170    \\\\\n",
       "\t  471.81 &  70    \\\\\n",
       "\\end{tabular}\n"
      ],
      "text/markdown": [
       "\n",
       "| Publicidade | Vendas |\n",
       "|---|---|\n",
       "|  985.69 | 120     |\n",
       "| 1445.56 | 360     |\n",
       "| 1188.19 | 270     |\n",
       "|  574.51 | 220     |\n",
       "|  568.95 | 170     |\n",
       "|  471.81 |  70     |\n",
       "\n"
      ],
      "text/plain": [
       "  Publicidade Vendas\n",
       "1  985.69     120   \n",
       "2 1445.56     360   \n",
       "3 1188.19     270   \n",
       "4  574.51     220   \n",
       "5  568.95     170   \n",
       "6  471.81      70   "
      ]
     },
     "metadata": {},
     "output_type": "display_data"
    }
   ],
   "source": [
    "data = read.csv2(\"dataset/regressao.csv\")\n",
    "head(data)"
   ]
  },
  {
   "cell_type": "code",
   "execution_count": 7,
   "id": "engaging-lambda",
   "metadata": {},
   "outputs": [
    {
     "name": "stdout",
     "output_type": "stream",
     "text": [
      "Rows: 187\n",
      "Columns: 2\n",
      "$ Publicidade <dbl> 985.69, 1445.56, 1188.19, 574.51, 568.95, 471.81, 537.35, ~\n",
      "$ Vendas      <int> 120, 360, 270, 220, 170, 70, 210, 200, 70, 150, 190, 240, ~\n"
     ]
    }
   ],
   "source": [
    "glimpse(data)"
   ]
  },
  {
   "cell_type": "markdown",
   "id": "charitable-elevation",
   "metadata": {},
   "source": [
    "### Verificando a relação das variáveis dependentes (vendas) e independentes (publicidade)\n"
   ]
  },
  {
   "cell_type": "code",
   "execution_count": 8,
   "id": "therapeutic-texas",
   "metadata": {},
   "outputs": [
    {
     "data": {
      "image/png": "[encoded data removed]",
      "text/plain": [
       "plot without title"
      ]
     },
     "metadata": {},
     "output_type": "display_data"
    }
   ],
   "source": [
    "plot(data$Publicidade, data$Vendas)"
   ]
  },
  {
   "cell_type": "markdown",
   "id": "ahead-springer",
   "metadata": {},
   "source": [
    "### Modelo"
   ]
  },
  {
   "cell_type": "code",
   "execution_count": 9,
   "id": "detailed-effectiveness",
   "metadata": {},
   "outputs": [],
   "source": [
    "mod = lm(Vendas ~ Publicidade, data)"
   ]
  },
  {
   "cell_type": "markdown",
   "id": "boring-johnston",
   "metadata": {},
   "source": [
    "### Pressupostos\n",
    "\n",
    "* Residuals vs Fitted: Resíduos pelos valores previstos. Análise da linearidade e da homocedasticidade.\n",
    "    * Linearidade: linha vermelha horizontal acompanha a linha tracejada.\n",
    "    * Homocedasticidade (oposto de Heterocedasticidade): significa o homogeinidade de variâncias. Dispesão dos pontos no gráfico constante ao longo dos valores previstos de 'y'. \n",
    "* Normal Q-Q: permite ver se os resíduos tem uma distribuição normal.\n",
    "    * os resíduos aompanham a linha diagonal pontilhada\n",
    "* Scale-Location: homocedasticidade.\n",
    "    * A linha vermelha deve estar aproximadamente vertical e os pontos dispersos de maneira homogênia e retangular.\n",
    "* Residuals vs Leverage: se existe resíduos outliers e pontos de alavancagem.\n",
    "    * Valores discrepantes formando pontos de alavancagem, que influenciem a estimação do modelo.\n",
    "    * Valores fora da faixa 3 e -3.\n",
    "> https://data.library.virginia.edu/diagnostic-plots/\n",
    "\n",
    " "
   ]
  },
  {
   "cell_type": "code",
   "execution_count": 10,
   "id": "heard-scheduling",
   "metadata": {},
   "outputs": [
    {
     "data": {
      "image/png": "[encoded data removed]",
      "text/plain": [
       "Plot with title \"\""
      ]
     },
     "metadata": {},
     "output_type": "display_data"
    }
   ],
   "source": [
    "par(mfrow=c(2,2))\n",
    "plot(mod)"
   ]
  },
  {
   "cell_type": "markdown",
   "id": "detailed-spencer",
   "metadata": {},
   "source": [
    "### Testes estatísticos\n",
    "---\n",
    "par(mfrow=c(1,1))"
   ]
  },
  {
   "cell_type": "markdown",
   "id": "electronic-leader",
   "metadata": {},
   "source": [
    "### Normalidade dos resíduos: \n",
    "* (hipótese nula)  H0: distribuição dos dados = normal -> p > 0.05\n",
    "* (hipótese alternativa) H1: distribuição dos dados !=normal -> p <= 0.05"
   ]
  },
  {
   "cell_type": "code",
   "execution_count": 12,
   "id": "growing-appointment",
   "metadata": {},
   "outputs": [
    {
     "data": {
      "text/plain": [
       "\n",
       "\tShapiro-Wilk normality test\n",
       "\n",
       "data:  mod$residuals\n",
       "W = 0.99193, p-value = 0.3856\n"
      ]
     },
     "metadata": {},
     "output_type": "display_data"
    }
   ],
   "source": [
    "shapiro.test(mod$residuals)"
   ]
  },
  {
   "cell_type": "markdown",
   "id": "equal-difficulty",
   "metadata": {},
   "source": [
    "### Outliers nos resíduos:\n",
    "* média próxima de zero e valores entre 3 e -3"
   ]
  },
  {
   "cell_type": "code",
   "execution_count": 13,
   "id": "critical-income",
   "metadata": {},
   "outputs": [
    {
     "data": {
      "text/plain": [
       "      Min.    1st Qu.     Median       Mean    3rd Qu.       Max. \n",
       "-2.1981347 -0.7064734  0.0392186 -0.0000075  0.6828619  2.3753897 "
      ]
     },
     "metadata": {},
     "output_type": "display_data"
    }
   ],
   "source": [
    "summary(rstandard(mod))"
   ]
  },
  {
   "cell_type": "markdown",
   "id": "editorial-gathering",
   "metadata": {},
   "source": [
    "### Independência dos resíduos (Durbin-Watson):\n",
    "* A estatística deve estar próximade 2 e p != 0"
   ]
  },
  {
   "cell_type": "code",
   "execution_count": 14,
   "id": "failing-croatia",
   "metadata": {},
   "outputs": [
    {
     "data": {
      "text/plain": [
       " lag Autocorrelation D-W Statistic p-value\n",
       "   1     -0.01039454       1.98891   0.922\n",
       " Alternative hypothesis: rho != 0"
      ]
     },
     "metadata": {},
     "output_type": "display_data"
    }
   ],
   "source": [
    "durbinWatsonTest(mod)"
   ]
  },
  {
   "cell_type": "markdown",
   "id": "lasting-duplicate",
   "metadata": {},
   "source": [
    "### Homocedasticidade (Breusch-Pagan)\n",
    "* H0: há homocedasticidade p > 0.05\n",
    "* H1: não há homocedasticidade p <= 0.05"
   ]
  },
  {
   "cell_type": "code",
   "execution_count": 15,
   "id": "ecological-address",
   "metadata": {},
   "outputs": [
    {
     "data": {
      "text/plain": [
       "\n",
       "\tstudentized Breusch-Pagan test\n",
       "\n",
       "data:  mod\n",
       "BP = 1.4245, df = 1, p-value = 0.2327\n"
      ]
     },
     "metadata": {},
     "output_type": "display_data"
    }
   ],
   "source": [
    "bptest(mod)"
   ]
  },
  {
   "cell_type": "markdown",
   "id": "combined-setup",
   "metadata": {},
   "source": [
    "## Análise do modelo\n",
    "---\n",
    "* cada 10 reais gasto em publícidade corresponde a 1 venda.\n",
    "* R^2: o investimento em publicidade explica 36% das vendas"
   ]
  },
  {
   "cell_type": "code",
   "execution_count": 16,
   "id": "gross-failure",
   "metadata": {},
   "outputs": [
    {
     "data": {
      "text/plain": [
       "\n",
       "Call:\n",
       "lm(formula = Vendas ~ Publicidade, data = data)\n",
       "\n",
       "Residuals:\n",
       "     Min       1Q   Median       3Q      Max \n",
       "-131.840  -42.283    2.344   40.945  142.455 \n",
       "\n",
       "Coefficients:\n",
       "             Estimate Std. Error t value Pr(>|t|)    \n",
       "(Intercept) 125.17951    7.43140   16.84   <2e-16 ***\n",
       "Publicidade   0.10495    0.01021   10.28   <2e-16 ***\n",
       "---\n",
       "Signif. codes:  0 '***' 0.001 '**' 0.01 '*' 0.05 '.' 0.1 ' ' 1\n",
       "\n",
       "Residual standard error: 60.14 on 185 degrees of freedom\n",
       "Multiple R-squared:  0.3634,\tAdjusted R-squared:   0.36 \n",
       "F-statistic: 105.6 on 1 and 185 DF,  p-value: < 2.2e-16\n"
      ]
     },
     "metadata": {},
     "output_type": "display_data"
    }
   ],
   "source": [
    "summary(mod)"
   ]
  },
  {
   "cell_type": "code",
   "execution_count": 25,
   "id": "minor-webster",
   "metadata": {
    "scrolled": false
   },
   "outputs": [
    {
     "name": "stderr",
     "output_type": "stream",
     "text": [
      "`geom_smooth()` using formula 'y ~ x'\n"
     ]
    },
    {
     "data": {
      "image/png": "[encoded data removed]",
      "text/plain": [
       "plot without title"
      ]
     },
     "metadata": {},
     "output_type": "display_data"
    }
   ],
   "source": [
    "ggplot(data = data, mapping = aes(x=Publicidade, y= Vendas))+\n",
    "    geom_point()+\n",
    "    geom_smooth(method = \"lm\", col = \"red\")+\n",
    "    stat_regline_equation(aes(label = paste(..eq.label.., ..adj.rr.label.., sep=\"*plain(\\\",\\\")~~\")), label.x = 0, label.y = 380)+\n",
    "    theme_classic();"
   ]
  },
  {
   "cell_type": "code",
   "execution_count": null,
   "id": "coral-chosen",
   "metadata": {},
   "outputs": [],
   "source": []
  }
 ],
 "metadata": {
  "kernelspec": {
   "display_name": "R",
   "language": "R",
   "name": "ir"
  },
  "language_info": {
   "codemirror_mode": "r",
   "file_extension": ".r",
   "mimetype": "text/x-r-source",
   "name": "R",
   "pygments_lexer": "r",
   "version": "3.6.1"
  }
 },
 "nbformat": 4,
 "nbformat_minor": 5
}
