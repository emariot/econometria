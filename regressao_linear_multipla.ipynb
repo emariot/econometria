{
 "cells": [
  {
   "cell_type": "markdown",
   "id": "casual-baghdad",
   "metadata": {},
   "source": [
    "# Regressão Linar Múltipla com os dados do Enade 2018\n",
    "## Alunos dos cursos de Ciências Economia \n",
    "---\n",
    "* Incorporar variáveis independentes que expliquem o fenômeno\n",
    "* Função de produção educacional\n",
    "> Variáveis: esforço, nível econômico, nível social da família, conhecimento"
   ]
  },
  {
   "cell_type": "code",
   "execution_count": 10,
   "id": "spiritual-mambo",
   "metadata": {},
   "outputs": [
    {
     "name": "stderr",
     "output_type": "stream",
     "text": [
      "Warning message:\n",
      "\"package 'ggpubr' is in use and will not be installed\""
     ]
    }
   ],
   "source": [
    "install.packages(\"ggpubr\")"
   ]
  },
  {
   "cell_type": "code",
   "execution_count": 47,
   "id": "institutional-rocket",
   "metadata": {},
   "outputs": [],
   "source": [
    "library(dplyr)\n",
    "library(ggplot2)\n",
    "library(AER)\n",
    "library(gvlma)\n",
    "library(lmtest)\n",
    "library(nortest)\n",
    "library(ggpubr)\n",
    "library(plyr)\n"
   ]
  },
  {
   "cell_type": "code",
   "execution_count": 48,
   "id": "atomic-phase",
   "metadata": {},
   "outputs": [
    {
     "data": {
      "text/html": [
       "<table>\n",
       "<thead><tr><th scope=col>NU_ANO</th><th scope=col>CO_IES</th><th scope=col>CO_CATEGAD</th><th scope=col>CO_ORGACAD</th><th scope=col>CO_GRUPO</th><th scope=col>CO_CURSO</th><th scope=col>CO_MODALIDADE</th><th scope=col>CO_MUNIC_CURSO</th><th scope=col>CO_UF_CURSO</th><th scope=col>CO_REGIAO_CURSO</th><th scope=col>...</th><th scope=col>QE_I59</th><th scope=col>QE_I60</th><th scope=col>QE_I61</th><th scope=col>QE_I62</th><th scope=col>QE_I63</th><th scope=col>QE_I64</th><th scope=col>QE_I65</th><th scope=col>QE_I66</th><th scope=col>QE_I67</th><th scope=col>QE_I68</th></tr></thead>\n",
       "<tbody>\n",
       "\t<tr><td>2018   </td><td>1356   </td><td>10003  </td><td>10020  </td><td>1      </td><td>47116  </td><td>1      </td><td>3546603</td><td>35     </td><td>3      </td><td>...    </td><td>6      </td><td>6      </td><td>6      </td><td>6      </td><td>6      </td><td>6      </td><td>6      </td><td>6      </td><td>6      </td><td>5      </td></tr>\n",
       "\t<tr><td>2018   </td><td>1356   </td><td>10003  </td><td>10020  </td><td>1      </td><td>47116  </td><td>1      </td><td>3546603</td><td>35     </td><td>3      </td><td>...    </td><td>6      </td><td>6      </td><td>6      </td><td>6      </td><td>6      </td><td>6      </td><td>6      </td><td>6      </td><td>6      </td><td>6      </td></tr>\n",
       "\t<tr><td>2018   </td><td>1356   </td><td>10003  </td><td>10020  </td><td>1      </td><td>47116  </td><td>1      </td><td>3546603</td><td>35     </td><td>3      </td><td>...    </td><td>6      </td><td>6      </td><td>6      </td><td>6      </td><td>6      </td><td>6      </td><td>6      </td><td>6      </td><td>6      </td><td>5      </td></tr>\n",
       "\t<tr><td>2018   </td><td>1356   </td><td>10003  </td><td>10020  </td><td>1      </td><td>47116  </td><td>1      </td><td>3546603</td><td>35     </td><td>3      </td><td>...    </td><td>6      </td><td>6      </td><td>6      </td><td>6      </td><td>5      </td><td>6      </td><td>6      </td><td>6      </td><td>6      </td><td>4      </td></tr>\n",
       "\t<tr><td>2018   </td><td>1356   </td><td>10003  </td><td>10020  </td><td>1      </td><td>47116  </td><td>1      </td><td>3546603</td><td>35     </td><td>3      </td><td>...    </td><td>6      </td><td>6      </td><td>6      </td><td>6      </td><td>6      </td><td>6      </td><td>6      </td><td>6      </td><td>6      </td><td>6      </td></tr>\n",
       "\t<tr><td>2018   </td><td>1356   </td><td>10003  </td><td>10020  </td><td>1      </td><td>47116  </td><td>1      </td><td>3546603</td><td>35     </td><td>3      </td><td>...    </td><td>6      </td><td>5      </td><td>6      </td><td>6      </td><td>6      </td><td>6      </td><td>6      </td><td>6      </td><td>6      </td><td>5      </td></tr>\n",
       "</tbody>\n",
       "</table>\n"
      ],
      "text/latex": [
       "\\begin{tabular}{r|lllllllllllllllllllllllllllllllllllllllllllllllllllllllllllllllllllllllllllllllllllllllllllllllllllllllllllllllllllllllllllllllllllllllll}\n",
       " NU\\_ANO & CO\\_IES & CO\\_CATEGAD & CO\\_ORGACAD & CO\\_GRUPO & CO\\_CURSO & CO\\_MODALIDADE & CO\\_MUNIC\\_CURSO & CO\\_UF\\_CURSO & CO\\_REGIAO\\_CURSO & ... & QE\\_I59 & QE\\_I60 & QE\\_I61 & QE\\_I62 & QE\\_I63 & QE\\_I64 & QE\\_I65 & QE\\_I66 & QE\\_I67 & QE\\_I68\\\\\n",
       "\\hline\n",
       "\t 2018    & 1356    & 10003   & 10020   & 1       & 47116   & 1       & 3546603 & 35      & 3       & ...     & 6       & 6       & 6       & 6       & 6       & 6       & 6       & 6       & 6       & 5      \\\\\n",
       "\t 2018    & 1356    & 10003   & 10020   & 1       & 47116   & 1       & 3546603 & 35      & 3       & ...     & 6       & 6       & 6       & 6       & 6       & 6       & 6       & 6       & 6       & 6      \\\\\n",
       "\t 2018    & 1356    & 10003   & 10020   & 1       & 47116   & 1       & 3546603 & 35      & 3       & ...     & 6       & 6       & 6       & 6       & 6       & 6       & 6       & 6       & 6       & 5      \\\\\n",
       "\t 2018    & 1356    & 10003   & 10020   & 1       & 47116   & 1       & 3546603 & 35      & 3       & ...     & 6       & 6       & 6       & 6       & 5       & 6       & 6       & 6       & 6       & 4      \\\\\n",
       "\t 2018    & 1356    & 10003   & 10020   & 1       & 47116   & 1       & 3546603 & 35      & 3       & ...     & 6       & 6       & 6       & 6       & 6       & 6       & 6       & 6       & 6       & 6      \\\\\n",
       "\t 2018    & 1356    & 10003   & 10020   & 1       & 47116   & 1       & 3546603 & 35      & 3       & ...     & 6       & 5       & 6       & 6       & 6       & 6       & 6       & 6       & 6       & 5      \\\\\n",
       "\\end{tabular}\n"
      ],
      "text/markdown": [
       "\n",
       "| NU_ANO | CO_IES | CO_CATEGAD | CO_ORGACAD | CO_GRUPO | CO_CURSO | CO_MODALIDADE | CO_MUNIC_CURSO | CO_UF_CURSO | CO_REGIAO_CURSO | ... | QE_I59 | QE_I60 | QE_I61 | QE_I62 | QE_I63 | QE_I64 | QE_I65 | QE_I66 | QE_I67 | QE_I68 |\n",
       "|---|---|---|---|---|---|---|---|---|---|---|---|---|---|---|---|---|---|---|---|---|\n",
       "| 2018    | 1356    | 10003   | 10020   | 1       | 47116   | 1       | 3546603 | 35      | 3       | ...     | 6       | 6       | 6       | 6       | 6       | 6       | 6       | 6       | 6       | 5       |\n",
       "| 2018    | 1356    | 10003   | 10020   | 1       | 47116   | 1       | 3546603 | 35      | 3       | ...     | 6       | 6       | 6       | 6       | 6       | 6       | 6       | 6       | 6       | 6       |\n",
       "| 2018    | 1356    | 10003   | 10020   | 1       | 47116   | 1       | 3546603 | 35      | 3       | ...     | 6       | 6       | 6       | 6       | 6       | 6       | 6       | 6       | 6       | 5       |\n",
       "| 2018    | 1356    | 10003   | 10020   | 1       | 47116   | 1       | 3546603 | 35      | 3       | ...     | 6       | 6       | 6       | 6       | 5       | 6       | 6       | 6       | 6       | 4       |\n",
       "| 2018    | 1356    | 10003   | 10020   | 1       | 47116   | 1       | 3546603 | 35      | 3       | ...     | 6       | 6       | 6       | 6       | 6       | 6       | 6       | 6       | 6       | 6       |\n",
       "| 2018    | 1356    | 10003   | 10020   | 1       | 47116   | 1       | 3546603 | 35      | 3       | ...     | 6       | 5       | 6       | 6       | 6       | 6       | 6       | 6       | 6       | 5       |\n",
       "\n"
      ],
      "text/plain": [
       "  NU_ANO CO_IES CO_CATEGAD CO_ORGACAD CO_GRUPO CO_CURSO CO_MODALIDADE\n",
       "1 2018   1356   10003      10020      1        47116    1            \n",
       "2 2018   1356   10003      10020      1        47116    1            \n",
       "3 2018   1356   10003      10020      1        47116    1            \n",
       "4 2018   1356   10003      10020      1        47116    1            \n",
       "5 2018   1356   10003      10020      1        47116    1            \n",
       "6 2018   1356   10003      10020      1        47116    1            \n",
       "  CO_MUNIC_CURSO CO_UF_CURSO CO_REGIAO_CURSO ... QE_I59 QE_I60 QE_I61 QE_I62\n",
       "1 3546603        35          3               ... 6      6      6      6     \n",
       "2 3546603        35          3               ... 6      6      6      6     \n",
       "3 3546603        35          3               ... 6      6      6      6     \n",
       "4 3546603        35          3               ... 6      6      6      6     \n",
       "5 3546603        35          3               ... 6      6      6      6     \n",
       "6 3546603        35          3               ... 6      5      6      6     \n",
       "  QE_I63 QE_I64 QE_I65 QE_I66 QE_I67 QE_I68\n",
       "1 6      6      6      6      6      5     \n",
       "2 6      6      6      6      6      6     \n",
       "3 6      6      6      6      6      5     \n",
       "4 5      6      6      6      6      4     \n",
       "5 6      6      6      6      6      6     \n",
       "6 6      6      6      6      6      5     "
      ]
     },
     "metadata": {},
     "output_type": "display_data"
    }
   ],
   "source": [
    "data = read.table(\"dataset/enade.txt\",sep=\";\", dec = \",\", header = TRUE)\n",
    "head(data)"
   ]
  },
  {
   "cell_type": "code",
   "execution_count": 69,
   "id": "impressive-appreciation",
   "metadata": {},
   "outputs": [],
   "source": [
    "df = data[data$CO_GRUPO == 13,]"
   ]
  },
  {
   "cell_type": "code",
   "execution_count": 70,
   "id": "requested-singles",
   "metadata": {},
   "outputs": [
    {
     "name": "stdout",
     "output_type": "stream",
     "text": [
      "'data.frame':\t9582 obs. of  137 variables:\n",
      " $ NU_ANO            : int  2018 2018 2018 2018 2018 2018 2018 2018 2018 2018 ...\n",
      " $ CO_IES            : int  1780 1780 1780 1780 1780 1780 1780 1780 1780 1780 ...\n",
      " $ CO_CATEGAD        : int  10008 10008 10008 10008 10008 10008 10008 10008 10008 10008 ...\n",
      " $ CO_ORGACAD        : int  10022 10022 10022 10022 10022 10022 10022 10022 10022 10022 ...\n",
      " $ CO_GRUPO          : int  13 13 13 13 13 13 13 13 13 13 ...\n",
      " $ CO_CURSO          : int  81867 81867 81867 81867 81867 81867 81867 81867 81867 81867 ...\n",
      " $ CO_MODALIDADE     : int  1 1 1 1 1 1 1 1 1 1 ...\n",
      " $ CO_MUNIC_CURSO    : int  4309605 4309605 4309605 4309605 4309605 4309605 4309605 4309605 4309605 4309605 ...\n",
      " $ CO_UF_CURSO       : int  43 43 43 43 43 43 43 43 43 43 ...\n",
      " $ CO_REGIAO_CURSO   : int  4 4 4 4 4 4 4 4 4 4 ...\n",
      " $ NU_IDADE          : int  28 30 29 22 47 27 23 48 23 21 ...\n",
      " $ TP_SEXO           : Factor w/ 2 levels \"F\",\"M\": 1 2 2 1 2 2 1 1 2 1 ...\n",
      " $ ANO_FIM_EM        : int  2008 2006 2006 2013 1998 2009 2013 1988 2012 2014 ...\n",
      " $ ANO_IN_GRAD       : int  2014 2016 2015 2014 2012 2011 2014 2013 2015 2015 ...\n",
      " $ CO_TURNO_GRADUACAO: int  4 4 4 4 4 4 4 4 4 4 ...\n",
      " $ TP_INSCRICAO_ADM  : int  0 0 0 0 0 0 0 0 0 0 ...\n",
      " $ TP_INSCRICAO      : int  0 0 0 0 0 0 0 0 0 0 ...\n",
      " $ NU_ITEM_OFG       : int  8 8 8 8 8 8 8 8 8 8 ...\n",
      " $ NU_ITEM_OFG_Z     : int  0 0 0 0 0 0 0 0 0 0 ...\n",
      " $ NU_ITEM_OFG_X     : int  0 0 0 0 0 0 0 0 0 0 ...\n",
      " $ NU_ITEM_OFG_N     : int  0 0 0 0 0 0 0 0 0 0 ...\n",
      " $ NU_ITEM_OCE       : int  27 27 27 27 27 27 27 27 27 27 ...\n",
      " $ NU_ITEM_OCE_Z     : int  0 0 0 0 0 0 0 0 0 0 ...\n",
      " $ NU_ITEM_OCE_X     : int  4 4 4 4 4 4 4 4 4 4 ...\n",
      " $ NU_ITEM_OCE_N     : int  0 0 0 0 0 0 0 0 0 0 ...\n",
      " $ DS_VT_GAB_OFG_ORIG: Factor w/ 1 level \"CACBEBDE\": 1 1 1 1 1 1 1 1 1 1 ...\n",
      " $ DS_VT_GAB_OFG_FIN : Factor w/ 1 level \"CACBEBDE\": 1 1 1 1 1 1 1 1 1 1 ...\n",
      " $ DS_VT_GAB_OCE_ORIG: Factor w/ 27 levels \"ABBCCBDEBDCADDEDCACEAAECDCE\",..: 13 13 13 13 13 13 13 13 13 13 ...\n",
      " $ DS_VT_GAB_OCE_FIN : Factor w/ 27 levels \"ABXXCXDEBDCADXEDCACEAAECDCE\",..: 11 11 11 11 11 11 11 11 11 11 ...\n",
      " $ DS_VT_ESC_OFG     : Factor w/ 102007 levels \"\",\"********\",..: 71794 22207 48272 22583 59387 51188 47239 48894 47239 22282 ...\n",
      " $ DS_VT_ACE_OFG     : int  1010110 1100110 11101110 1100011 10001010 11010110 11111011 11000010 11111011 1100001 ...\n",
      " $ DS_VT_ESC_OCE     : Factor w/ 460676 levels \"\",\"***************************\",..: 335142 183393 384602 301843 69892 206005 386206 383939 305559 75881 ...\n",
      " $ DS_VT_ACE_OCE     : num  1.0e+21 1.1e+22 1.0e+25 1.1e+26 1.0e+25 ...\n",
      " $ TP_PRES           : int  555 555 555 555 555 555 555 555 555 555 ...\n",
      " $ TP_PR_GER         : int  555 555 555 555 555 555 555 555 555 555 ...\n",
      " $ TP_PR_OB_FG       : int  555 555 555 555 555 555 555 555 555 555 ...\n",
      " $ TP_PR_DI_FG       : int  555 555 555 555 555 555 555 555 555 555 ...\n",
      " $ TP_PR_OB_CE       : int  555 555 555 555 555 555 555 555 555 555 ...\n",
      " $ TP_PR_DI_CE       : int  555 555 555 555 555 555 555 555 555 555 ...\n",
      " $ TP_SFG_D1         : int  555 555 555 555 555 555 555 336 555 555 ...\n",
      " $ TP_SFG_D2         : int  555 555 555 555 555 555 555 336 555 555 ...\n",
      " $ TP_SCE_D1         : int  555 555 555 555 555 555 555 555 555 555 ...\n",
      " $ TP_SCE_D2         : int  555 555 555 555 555 555 555 555 555 555 ...\n",
      " $ TP_SCE_D3         : int  555 555 555 555 555 555 555 555 555 555 ...\n",
      " $ NT_GER            : num  24.9 25.6 48.7 35.7 33.9 23.5 32.2 20.9 48.9 39.4 ...\n",
      " $ NT_FG             : num  47.8 41.8 62.2 46.4 34.1 49.7 65.7 22.5 78.1 44.9 ...\n",
      " $ NT_OBJ_FG         : num  50 50 75 50 37.5 62.5 87.5 37.5 87.5 37.5 ...\n",
      " $ NT_DIS_FG         : num  44.5 29.5 43 41 29 30.5 33 0 64 56 ...\n",
      " $ NT_FG_D1          : int  60 25 39 44 38 43 37 0 77 57 ...\n",
      " $ NT_FG_D1_PT       : int  80 45 75 60 70 35 65 0 85 65 ...\n",
      " $ NT_FG_D1_CT       : int  55 20 30 40 30 45 30 0 75 55 ...\n",
      " $ NT_FG_D2          : int  29 34 47 38 20 18 29 0 51 55 ...\n",
      " $ NT_FG_D2_PT       : int  65 70 55 70 60 50 45 0 55 75 ...\n",
      " $ NT_FG_D2_CT       : int  20 25 45 30 10 10 25 0 50 50 ...\n",
      " $ NT_CE             : num  17.3 20.2 44.2 32.1 33.8 14.8 21 20.4 39.2 37.6 ...\n",
      " $ NT_OBJ_CE         : num  17.4 21.7 43.5 34.8 34.8 13 21.7 21.7 43.5 34.8 ...\n",
      " $ NT_DIS_CE         : num  16.7 11.7 48.3 16.7 28.3 25 16.7 13.3 15 53.3 ...\n",
      " $ NT_CE_D1          : int  0 10 20 0 40 50 0 40 20 90 ...\n",
      " $ NT_CE_D2          : int  50 0 50 50 20 0 0 0 0 70 ...\n",
      " $ NT_CE_D3          : int  0 25 75 0 25 25 50 0 25 0 ...\n",
      " $ CO_RS_I1          : Factor w/ 8 levels \"\",\"*\",\".\",\"A\",..: 7 6 6 5 7 6 6 6 6 7 ...\n",
      " $ CO_RS_I2          : Factor w/ 8 levels \"\",\"*\",\".\",\"A\",..: 7 6 7 5 7 7 6 7 7 7 ...\n",
      " $ CO_RS_I3          : Factor w/ 8 levels \"\",\"*\",\".\",\"A\",..: 6 6 6 6 4 6 5 4 6 5 ...\n",
      " $ CO_RS_I4          : Factor w/ 8 levels \"\",\"*\",\".\",\"A\",..: 5 5 5 4 7 6 5 4 7 5 ...\n",
      " $ CO_RS_I5          : Factor w/ 8 levels \"\",\"*\",\".\",\"A\",..: 5 5 6 4 7 7 6 6 7 5 ...\n",
      " $ CO_RS_I6          : Factor w/ 8 levels \"\",\"*\",\".\",\"A\",..: 6 6 6 5 7 6 6 6 4 7 ...\n",
      " $ CO_RS_I7          : Factor w/ 8 levels \"\",\"*\",\".\",\"A\",..: 5 8 5 8 5 5 5 4 7 5 ...\n",
      " $ CO_RS_I8          : Factor w/ 8 levels \"\",\"*\",\".\",\"A\",..: 7 8 7 8 8 7 7 6 7 7 ...\n",
      " $ CO_RS_I9          : Factor w/ 8 levels \"\",\"*\",\".\",\"A\",..: 7 7 6 6 7 7 7 7 6 7 ...\n",
      " $ QE_I01            : Factor w/ 6 levels \"\",\"A\",\"B\",\"C\",..: 2 2 2 3 3 2 2 2 2 2 ...\n",
      " $ QE_I02            : Factor w/ 7 levels \"\",\"A\",\"B\",\"C\",..: 2 2 2 2 2 2 2 2 2 5 ...\n",
      " $ QE_I03            : Factor w/ 4 levels \"\",\"A\",\"B\",\"C\": 2 2 2 2 2 2 2 2 2 2 ...\n",
      " $ QE_I04            : Factor w/ 7 levels \"\",\"A\",\"B\",\"C\",..: 5 5 5 3 3 3 4 3 4 3 ...\n",
      " $ QE_I05            : Factor w/ 7 levels \"\",\"A\",\"B\",\"C\",..: 5 3 5 4 5 3 5 3 5 4 ...\n",
      " $ QE_I06            : Factor w/ 7 levels \"\",\"A\",\"B\",\"C\",..: 4 2 4 4 4 3 3 4 3 3 ...\n",
      " $ QE_I07            : Factor w/ 9 levels \"\",\"A\",\"B\",\"C\",..: 4 4 4 5 3 4 6 4 5 4 ...\n",
      " $ QE_I08            : Factor w/ 8 levels \"\",\"A\",\"B\",\"C\",..: 4 5 4 3 3 4 3 4 5 4 ...\n",
      " $ QE_I09            : Factor w/ 7 levels \"\",\"A\",\"B\",\"C\",..: 7 6 4 6 6 6 3 7 4 5 ...\n",
      " $ QE_I10            : Factor w/ 6 levels \"\",\"A\",\"B\",\"C\",..: 6 6 6 6 6 6 2 6 4 5 ...\n",
      " $ QE_I11            : Factor w/ 12 levels \"\",\"A\",\"B\",\"C\",..: 4 3 4 6 9 3 4 9 3 4 ...\n",
      " $ QE_I12            : Factor w/ 7 levels \"\",\"A\",\"B\",\"C\",..: 2 2 2 2 2 4 2 2 2 2 ...\n",
      " $ QE_I13            : Factor w/ 7 levels \"\",\"A\",\"B\",\"C\",..: 2 2 2 2 2 7 2 2 7 2 ...\n",
      " $ QE_I14            : Factor w/ 7 levels \"\",\"A\",\"B\",\"C\",..: 2 2 2 2 6 2 2 2 2 2 ...\n",
      " $ QE_I15            : Factor w/ 7 levels \"\",\"A\",\"B\",\"C\",..: 2 2 4 2 4 2 4 2 2 2 ...\n",
      " $ QE_I16            : int  43 43 43 43 43 43 43 43 43 43 ...\n",
      " $ QE_I17            : Factor w/ 7 levels \"\",\"A\",\"B\",\"C\",..: 2 5 5 2 3 3 2 3 2 2 ...\n",
      " $ QE_I18            : Factor w/ 6 levels \"\",\"A\",\"B\",\"C\",..: 2 3 2 2 5 3 2 3 2 2 ...\n",
      " $ QE_I19            : Factor w/ 8 levels \"\",\"A\",\"B\",\"C\",..: 3 3 2 3 3 3 3 4 3 3 ...\n",
      " $ QE_I20            : Factor w/ 12 levels \"\",\"A\",\"B\",\"C\",..: 8 9 4 4 2 9 2 12 8 4 ...\n",
      " $ QE_I21            : Factor w/ 3 levels \"\",\"A\",\"B\": 3 2 3 2 2 3 3 2 2 3 ...\n",
      " $ QE_I22            : Factor w/ 6 levels \"\",\"A\",\"B\",\"C\",..: 4 4 5 3 6 4 6 4 4 3 ...\n",
      " $ QE_I23            : Factor w/ 6 levels \"\",\"A\",\"B\",\"C\",..: 4 3 4 3 4 4 6 4 6 3 ...\n",
      " $ QE_I24            : Factor w/ 6 levels \"\",\"A\",\"B\",\"C\",..: 2 2 2 2 2 2 2 2 2 2 ...\n",
      " $ QE_I25            : Factor w/ 9 levels \"\",\"A\",\"B\",\"C\",..: 4 4 4 4 2 2 6 4 6 2 ...\n",
      " $ QE_I26            : Factor w/ 6 levels \"\",\"A\",\"B\",\"C\",..: 1 1 2 1 1 4 4 1 1 1 ...\n",
      " $ QE_I27            : int  6 6 6 6 6 6 6 6 6 6 ...\n",
      " $ QE_I28            : int  6 6 6 6 NA 6 6 6 6 6 ...\n",
      " $ QE_I29            : int  6 6 6 6 6 6 6 6 6 6 ...\n",
      " $ QE_I30            : int  6 6 6 6 6 6 6 6 6 6 ...\n",
      "  [list output truncated]\n"
     ]
    }
   ],
   "source": [
    "str(df)"
   ]
  },
  {
   "cell_type": "code",
   "execution_count": 71,
   "id": "unable-sunrise",
   "metadata": {},
   "outputs": [
    {
     "data": {
      "text/plain": [
       "   Min. 1st Qu.  Median    Mean 3rd Qu.    Max.    NA's \n",
       "    0.0    28.9    37.2    38.4    47.0    90.2    1509 "
      ]
     },
     "metadata": {},
     "output_type": "display_data"
    }
   ],
   "source": [
    "summary(notas)"
   ]
  },
  {
   "cell_type": "code",
   "execution_count": 72,
   "id": "hidden-productivity",
   "metadata": {},
   "outputs": [
    {
     "data": {
      "image/png": "[encoded data removed]",
      "text/plain": [
       "Plot with title \"Histogram of notas\""
      ]
     },
     "metadata": {},
     "output_type": "display_data"
    }
   ],
   "source": [
    "hist(notas)"
   ]
  },
  {
   "cell_type": "code",
   "execution_count": 103,
   "id": "authorized-customer",
   "metadata": {},
   "outputs": [],
   "source": [
    "modalidade = as.factor(df$CO_MODALIDADE) "
   ]
  },
  {
   "cell_type": "code",
   "execution_count": 104,
   "id": "industrial-north",
   "metadata": {},
   "outputs": [
    {
     "data": {
      "text/plain": [
       "modalidade\n",
       "   1    2 \n",
       "9431  151 "
      ]
     },
     "metadata": {},
     "output_type": "display_data"
    }
   ],
   "source": [
    "table(modalidade)"
   ]
  },
  {
   "cell_type": "code",
   "execution_count": 105,
   "id": "quarterly-robert",
   "metadata": {},
   "outputs": [],
   "source": [
    "modalidade = mapvalues(df$CO_MODALIDADE, from=c(1,2), to=c(\"presencial\",\"distancia\"))"
   ]
  },
  {
   "cell_type": "code",
   "execution_count": 106,
   "id": "herbal-greene",
   "metadata": {},
   "outputs": [
    {
     "data": {
      "text/plain": [
       "modalidade\n",
       " distancia presencial \n",
       "0.01575871 0.98424129 "
      ]
     },
     "metadata": {},
     "output_type": "display_data"
    }
   ],
   "source": [
    "prop.table(table(modalidade))"
   ]
  },
  {
   "cell_type": "markdown",
   "id": "junior-edgar",
   "metadata": {},
   "source": [
    "# Comportamento das notas detas categorias\n",
    "---\n",
    "* Não existe muita diferênça na média entre o ensino presencial e à distância"
   ]
  },
  {
   "cell_type": "code",
   "execution_count": 107,
   "id": "lightweight-concord",
   "metadata": {},
   "outputs": [
    {
     "data": {
      "text/html": [
       "<dl class=dl-horizontal>\n",
       "\t<dt>distancia</dt>\n",
       "\t\t<dd>38.283</dd>\n",
       "\t<dt>presencial</dt>\n",
       "\t\t<dd>38.3988586479368</dd>\n",
       "</dl>\n"
      ],
      "text/latex": [
       "\\begin{description*}\n",
       "\\item[distancia] 38.283\n",
       "\\item[presencial] 38.3988586479368\n",
       "\\end{description*}\n"
      ],
      "text/markdown": [
       "distancia\n",
       ":   38.283presencial\n",
       ":   38.3988586479368\n",
       "\n"
      ],
      "text/plain": [
       " distancia presencial \n",
       "  38.28300   38.39886 "
      ]
     },
     "metadata": {},
     "output_type": "display_data"
    }
   ],
   "source": [
    "tapply(notas, modalidade, FUN=mean,na.rm=TRUE)"
   ]
  },
  {
   "cell_type": "code",
   "execution_count": 108,
   "id": "upset-being",
   "metadata": {},
   "outputs": [
    {
     "name": "stderr",
     "output_type": "stream",
     "text": [
      "Warning message:\n",
      "\"Removed 1509 rows containing non-finite values (stat_summary).\""
     ]
    },
    {
     "data": {
      "image/png": "[encoded data removed]",
      "text/plain": [
       "plot without title"
      ]
     },
     "metadata": {},
     "output_type": "display_data"
    }
   ],
   "source": [
    "options(repr.plot.width = 5, repr.plot.height = 4)\n",
    "ggplot(df, aes(x=modalidade, y=notas, fill=modalidade)) +\n",
    "    geom_boxplot(na.rm = TRUE) +\n",
    "    stat_summary(aes(shape = \"média\"),\n",
    "               geom = \"point\",\n",
    "               fun = mean,\n",
    "               size = 1)+\n",
    "    xlab(\"gênero\")+\n",
    "    ylab(\"Notas\");"
   ]
  },
  {
   "cell_type": "code",
   "execution_count": null,
   "id": "recognized-vegetation",
   "metadata": {},
   "outputs": [],
   "source": []
  }
 ],
 "metadata": {
  "kernelspec": {
   "display_name": "R",
   "language": "R",
   "name": "ir"
  },
  "language_info": {
   "codemirror_mode": "r",
   "file_extension": ".r",
   "mimetype": "text/x-r-source",
   "name": "R",
   "pygments_lexer": "r",
   "version": "3.6.1"
  }
 },
 "nbformat": 4,
 "nbformat_minor": 5
}
