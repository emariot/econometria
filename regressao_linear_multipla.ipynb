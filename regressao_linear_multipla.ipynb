{
 "cells": [
  {
   "cell_type": "markdown",
   "id": "casual-baghdad",
   "metadata": {},
   "source": [
    "# Regressão Linar Múltipla com os dados do Enade 2018\n",
    "## Alunos dos cursos de Ciências Economia \n",
    "---\n",
    "* Incorporar variáveis independentes que expliquem o fenômeno\n",
    "* Função de produção educacional\n",
    "> Variáveis: esforço, nível econômico, nível social da família, conhecimento"
   ]
  },
  {
   "cell_type": "code",
   "execution_count": 10,
   "id": "spiritual-mambo",
   "metadata": {},
   "outputs": [
    {
     "name": "stderr",
     "output_type": "stream",
     "text": [
      "Warning message:\n",
      "\"package 'ggpubr' is in use and will not be installed\""
     ]
    }
   ],
   "source": [
    "install.packages(\"ggpubr\")"
   ]
  },
  {
   "cell_type": "code",
   "execution_count": 2,
   "id": "institutional-rocket",
   "metadata": {},
   "outputs": [],
   "source": [
    "library(dplyr)\n",
    "library(ggplot2)\n",
    "library(AER)\n",
    "library(gvlma)\n",
    "library(lmtest)\n",
    "library(nortest)\n",
    "library(ggpubr)\n",
    "library(plyr)\n"
   ]
  },
  {
   "cell_type": "code",
   "execution_count": 3,
   "id": "atomic-phase",
   "metadata": {},
   "outputs": [
    {
     "data": {
      "text/html": [
       "<table>\n",
       "<thead><tr><th scope=col>NU_ANO</th><th scope=col>CO_IES</th><th scope=col>CO_CATEGAD</th><th scope=col>CO_ORGACAD</th><th scope=col>CO_GRUPO</th><th scope=col>CO_CURSO</th><th scope=col>CO_MODALIDADE</th><th scope=col>CO_MUNIC_CURSO</th><th scope=col>CO_UF_CURSO</th><th scope=col>CO_REGIAO_CURSO</th><th scope=col>...</th><th scope=col>QE_I59</th><th scope=col>QE_I60</th><th scope=col>QE_I61</th><th scope=col>QE_I62</th><th scope=col>QE_I63</th><th scope=col>QE_I64</th><th scope=col>QE_I65</th><th scope=col>QE_I66</th><th scope=col>QE_I67</th><th scope=col>QE_I68</th></tr></thead>\n",
       "<tbody>\n",
       "\t<tr><td>2018   </td><td>1356   </td><td>10003  </td><td>10020  </td><td>1      </td><td>47116  </td><td>1      </td><td>3546603</td><td>35     </td><td>3      </td><td>...    </td><td>6      </td><td>6      </td><td>6      </td><td>6      </td><td>6      </td><td>6      </td><td>6      </td><td>6      </td><td>6      </td><td>5      </td></tr>\n",
       "\t<tr><td>2018   </td><td>1356   </td><td>10003  </td><td>10020  </td><td>1      </td><td>47116  </td><td>1      </td><td>3546603</td><td>35     </td><td>3      </td><td>...    </td><td>6      </td><td>6      </td><td>6      </td><td>6      </td><td>6      </td><td>6      </td><td>6      </td><td>6      </td><td>6      </td><td>6      </td></tr>\n",
       "\t<tr><td>2018   </td><td>1356   </td><td>10003  </td><td>10020  </td><td>1      </td><td>47116  </td><td>1      </td><td>3546603</td><td>35     </td><td>3      </td><td>...    </td><td>6      </td><td>6      </td><td>6      </td><td>6      </td><td>6      </td><td>6      </td><td>6      </td><td>6      </td><td>6      </td><td>5      </td></tr>\n",
       "\t<tr><td>2018   </td><td>1356   </td><td>10003  </td><td>10020  </td><td>1      </td><td>47116  </td><td>1      </td><td>3546603</td><td>35     </td><td>3      </td><td>...    </td><td>6      </td><td>6      </td><td>6      </td><td>6      </td><td>5      </td><td>6      </td><td>6      </td><td>6      </td><td>6      </td><td>4      </td></tr>\n",
       "\t<tr><td>2018   </td><td>1356   </td><td>10003  </td><td>10020  </td><td>1      </td><td>47116  </td><td>1      </td><td>3546603</td><td>35     </td><td>3      </td><td>...    </td><td>6      </td><td>6      </td><td>6      </td><td>6      </td><td>6      </td><td>6      </td><td>6      </td><td>6      </td><td>6      </td><td>6      </td></tr>\n",
       "\t<tr><td>2018   </td><td>1356   </td><td>10003  </td><td>10020  </td><td>1      </td><td>47116  </td><td>1      </td><td>3546603</td><td>35     </td><td>3      </td><td>...    </td><td>6      </td><td>5      </td><td>6      </td><td>6      </td><td>6      </td><td>6      </td><td>6      </td><td>6      </td><td>6      </td><td>5      </td></tr>\n",
       "</tbody>\n",
       "</table>\n"
      ],
      "text/latex": [
       "\\begin{tabular}{r|lllllllllllllllllllllllllllllllllllllllllllllllllllllllllllllllllllllllllllllllllllllllllllllllllllllllllllllllllllllllllllllllllllllllll}\n",
       " NU\\_ANO & CO\\_IES & CO\\_CATEGAD & CO\\_ORGACAD & CO\\_GRUPO & CO\\_CURSO & CO\\_MODALIDADE & CO\\_MUNIC\\_CURSO & CO\\_UF\\_CURSO & CO\\_REGIAO\\_CURSO & ... & QE\\_I59 & QE\\_I60 & QE\\_I61 & QE\\_I62 & QE\\_I63 & QE\\_I64 & QE\\_I65 & QE\\_I66 & QE\\_I67 & QE\\_I68\\\\\n",
       "\\hline\n",
       "\t 2018    & 1356    & 10003   & 10020   & 1       & 47116   & 1       & 3546603 & 35      & 3       & ...     & 6       & 6       & 6       & 6       & 6       & 6       & 6       & 6       & 6       & 5      \\\\\n",
       "\t 2018    & 1356    & 10003   & 10020   & 1       & 47116   & 1       & 3546603 & 35      & 3       & ...     & 6       & 6       & 6       & 6       & 6       & 6       & 6       & 6       & 6       & 6      \\\\\n",
       "\t 2018    & 1356    & 10003   & 10020   & 1       & 47116   & 1       & 3546603 & 35      & 3       & ...     & 6       & 6       & 6       & 6       & 6       & 6       & 6       & 6       & 6       & 5      \\\\\n",
       "\t 2018    & 1356    & 10003   & 10020   & 1       & 47116   & 1       & 3546603 & 35      & 3       & ...     & 6       & 6       & 6       & 6       & 5       & 6       & 6       & 6       & 6       & 4      \\\\\n",
       "\t 2018    & 1356    & 10003   & 10020   & 1       & 47116   & 1       & 3546603 & 35      & 3       & ...     & 6       & 6       & 6       & 6       & 6       & 6       & 6       & 6       & 6       & 6      \\\\\n",
       "\t 2018    & 1356    & 10003   & 10020   & 1       & 47116   & 1       & 3546603 & 35      & 3       & ...     & 6       & 5       & 6       & 6       & 6       & 6       & 6       & 6       & 6       & 5      \\\\\n",
       "\\end{tabular}\n"
      ],
      "text/markdown": [
       "\n",
       "| NU_ANO | CO_IES | CO_CATEGAD | CO_ORGACAD | CO_GRUPO | CO_CURSO | CO_MODALIDADE | CO_MUNIC_CURSO | CO_UF_CURSO | CO_REGIAO_CURSO | ... | QE_I59 | QE_I60 | QE_I61 | QE_I62 | QE_I63 | QE_I64 | QE_I65 | QE_I66 | QE_I67 | QE_I68 |\n",
       "|---|---|---|---|---|---|---|---|---|---|---|---|---|---|---|---|---|---|---|---|---|\n",
       "| 2018    | 1356    | 10003   | 10020   | 1       | 47116   | 1       | 3546603 | 35      | 3       | ...     | 6       | 6       | 6       | 6       | 6       | 6       | 6       | 6       | 6       | 5       |\n",
       "| 2018    | 1356    | 10003   | 10020   | 1       | 47116   | 1       | 3546603 | 35      | 3       | ...     | 6       | 6       | 6       | 6       | 6       | 6       | 6       | 6       | 6       | 6       |\n",
       "| 2018    | 1356    | 10003   | 10020   | 1       | 47116   | 1       | 3546603 | 35      | 3       | ...     | 6       | 6       | 6       | 6       | 6       | 6       | 6       | 6       | 6       | 5       |\n",
       "| 2018    | 1356    | 10003   | 10020   | 1       | 47116   | 1       | 3546603 | 35      | 3       | ...     | 6       | 6       | 6       | 6       | 5       | 6       | 6       | 6       | 6       | 4       |\n",
       "| 2018    | 1356    | 10003   | 10020   | 1       | 47116   | 1       | 3546603 | 35      | 3       | ...     | 6       | 6       | 6       | 6       | 6       | 6       | 6       | 6       | 6       | 6       |\n",
       "| 2018    | 1356    | 10003   | 10020   | 1       | 47116   | 1       | 3546603 | 35      | 3       | ...     | 6       | 5       | 6       | 6       | 6       | 6       | 6       | 6       | 6       | 5       |\n",
       "\n"
      ],
      "text/plain": [
       "  NU_ANO CO_IES CO_CATEGAD CO_ORGACAD CO_GRUPO CO_CURSO CO_MODALIDADE\n",
       "1 2018   1356   10003      10020      1        47116    1            \n",
       "2 2018   1356   10003      10020      1        47116    1            \n",
       "3 2018   1356   10003      10020      1        47116    1            \n",
       "4 2018   1356   10003      10020      1        47116    1            \n",
       "5 2018   1356   10003      10020      1        47116    1            \n",
       "6 2018   1356   10003      10020      1        47116    1            \n",
       "  CO_MUNIC_CURSO CO_UF_CURSO CO_REGIAO_CURSO ... QE_I59 QE_I60 QE_I61 QE_I62\n",
       "1 3546603        35          3               ... 6      6      6      6     \n",
       "2 3546603        35          3               ... 6      6      6      6     \n",
       "3 3546603        35          3               ... 6      6      6      6     \n",
       "4 3546603        35          3               ... 6      6      6      6     \n",
       "5 3546603        35          3               ... 6      6      6      6     \n",
       "6 3546603        35          3               ... 6      5      6      6     \n",
       "  QE_I63 QE_I64 QE_I65 QE_I66 QE_I67 QE_I68\n",
       "1 6      6      6      6      6      5     \n",
       "2 6      6      6      6      6      6     \n",
       "3 6      6      6      6      6      5     \n",
       "4 5      6      6      6      6      4     \n",
       "5 6      6      6      6      6      6     \n",
       "6 6      6      6      6      6      5     "
      ]
     },
     "metadata": {},
     "output_type": "display_data"
    }
   ],
   "source": [
    "data = read.table(\"dataset/enade.txt\",sep=\";\", dec = \",\", header = TRUE)\n",
    "head(data)"
   ]
  },
  {
   "cell_type": "code",
   "execution_count": 4,
   "id": "impressive-appreciation",
   "metadata": {},
   "outputs": [],
   "source": [
    "df = data[data$CO_GRUPO == 13,]"
   ]
  },
  {
   "cell_type": "code",
   "execution_count": 5,
   "id": "requested-singles",
   "metadata": {},
   "outputs": [
    {
     "name": "stdout",
     "output_type": "stream",
     "text": [
      "'data.frame':\t9582 obs. of  137 variables:\n",
      " $ NU_ANO            : int  2018 2018 2018 2018 2018 2018 2018 2018 2018 2018 ...\n",
      " $ CO_IES            : int  1780 1780 1780 1780 1780 1780 1780 1780 1780 1780 ...\n",
      " $ CO_CATEGAD        : int  10008 10008 10008 10008 10008 10008 10008 10008 10008 10008 ...\n",
      " $ CO_ORGACAD        : int  10022 10022 10022 10022 10022 10022 10022 10022 10022 10022 ...\n",
      " $ CO_GRUPO          : int  13 13 13 13 13 13 13 13 13 13 ...\n",
      " $ CO_CURSO          : int  81867 81867 81867 81867 81867 81867 81867 81867 81867 81867 ...\n",
      " $ CO_MODALIDADE     : int  1 1 1 1 1 1 1 1 1 1 ...\n",
      " $ CO_MUNIC_CURSO    : int  4309605 4309605 4309605 4309605 4309605 4309605 4309605 4309605 4309605 4309605 ...\n",
      " $ CO_UF_CURSO       : int  43 43 43 43 43 43 43 43 43 43 ...\n",
      " $ CO_REGIAO_CURSO   : int  4 4 4 4 4 4 4 4 4 4 ...\n",
      " $ NU_IDADE          : int  28 30 29 22 47 27 23 48 23 21 ...\n",
      " $ TP_SEXO           : Factor w/ 2 levels \"F\",\"M\": 1 2 2 1 2 2 1 1 2 1 ...\n",
      " $ ANO_FIM_EM        : int  2008 2006 2006 2013 1998 2009 2013 1988 2012 2014 ...\n",
      " $ ANO_IN_GRAD       : int  2014 2016 2015 2014 2012 2011 2014 2013 2015 2015 ...\n",
      " $ CO_TURNO_GRADUACAO: int  4 4 4 4 4 4 4 4 4 4 ...\n",
      " $ TP_INSCRICAO_ADM  : int  0 0 0 0 0 0 0 0 0 0 ...\n",
      " $ TP_INSCRICAO      : int  0 0 0 0 0 0 0 0 0 0 ...\n",
      " $ NU_ITEM_OFG       : int  8 8 8 8 8 8 8 8 8 8 ...\n",
      " $ NU_ITEM_OFG_Z     : int  0 0 0 0 0 0 0 0 0 0 ...\n",
      " $ NU_ITEM_OFG_X     : int  0 0 0 0 0 0 0 0 0 0 ...\n",
      " $ NU_ITEM_OFG_N     : int  0 0 0 0 0 0 0 0 0 0 ...\n",
      " $ NU_ITEM_OCE       : int  27 27 27 27 27 27 27 27 27 27 ...\n",
      " $ NU_ITEM_OCE_Z     : int  0 0 0 0 0 0 0 0 0 0 ...\n",
      " $ NU_ITEM_OCE_X     : int  4 4 4 4 4 4 4 4 4 4 ...\n",
      " $ NU_ITEM_OCE_N     : int  0 0 0 0 0 0 0 0 0 0 ...\n",
      " $ DS_VT_GAB_OFG_ORIG: Factor w/ 1 level \"CACBEBDE\": 1 1 1 1 1 1 1 1 1 1 ...\n",
      " $ DS_VT_GAB_OFG_FIN : Factor w/ 1 level \"CACBEBDE\": 1 1 1 1 1 1 1 1 1 1 ...\n",
      " $ DS_VT_GAB_OCE_ORIG: Factor w/ 27 levels \"ABBCCBDEBDCADDEDCACEAAECDCE\",..: 13 13 13 13 13 13 13 13 13 13 ...\n",
      " $ DS_VT_GAB_OCE_FIN : Factor w/ 27 levels \"ABXXCXDEBDCADXEDCACEAAECDCE\",..: 11 11 11 11 11 11 11 11 11 11 ...\n",
      " $ DS_VT_ESC_OFG     : Factor w/ 102007 levels \"\",\"********\",..: 71794 22207 48272 22583 59387 51188 47239 48894 47239 22282 ...\n",
      " $ DS_VT_ACE_OFG     : int  1010110 1100110 11101110 1100011 10001010 11010110 11111011 11000010 11111011 1100001 ...\n",
      " $ DS_VT_ESC_OCE     : Factor w/ 460676 levels \"\",\"***************************\",..: 335142 183393 384602 301843 69892 206005 386206 383939 305559 75881 ...\n",
      " $ DS_VT_ACE_OCE     : num  1.0e+21 1.1e+22 1.0e+25 1.1e+26 1.0e+25 ...\n",
      " $ TP_PRES           : int  555 555 555 555 555 555 555 555 555 555 ...\n",
      " $ TP_PR_GER         : int  555 555 555 555 555 555 555 555 555 555 ...\n",
      " $ TP_PR_OB_FG       : int  555 555 555 555 555 555 555 555 555 555 ...\n",
      " $ TP_PR_DI_FG       : int  555 555 555 555 555 555 555 555 555 555 ...\n",
      " $ TP_PR_OB_CE       : int  555 555 555 555 555 555 555 555 555 555 ...\n",
      " $ TP_PR_DI_CE       : int  555 555 555 555 555 555 555 555 555 555 ...\n",
      " $ TP_SFG_D1         : int  555 555 555 555 555 555 555 336 555 555 ...\n",
      " $ TP_SFG_D2         : int  555 555 555 555 555 555 555 336 555 555 ...\n",
      " $ TP_SCE_D1         : int  555 555 555 555 555 555 555 555 555 555 ...\n",
      " $ TP_SCE_D2         : int  555 555 555 555 555 555 555 555 555 555 ...\n",
      " $ TP_SCE_D3         : int  555 555 555 555 555 555 555 555 555 555 ...\n",
      " $ NT_GER            : num  24.9 25.6 48.7 35.7 33.9 23.5 32.2 20.9 48.9 39.4 ...\n",
      " $ NT_FG             : num  47.8 41.8 62.2 46.4 34.1 49.7 65.7 22.5 78.1 44.9 ...\n",
      " $ NT_OBJ_FG         : num  50 50 75 50 37.5 62.5 87.5 37.5 87.5 37.5 ...\n",
      " $ NT_DIS_FG         : num  44.5 29.5 43 41 29 30.5 33 0 64 56 ...\n",
      " $ NT_FG_D1          : int  60 25 39 44 38 43 37 0 77 57 ...\n",
      " $ NT_FG_D1_PT       : int  80 45 75 60 70 35 65 0 85 65 ...\n",
      " $ NT_FG_D1_CT       : int  55 20 30 40 30 45 30 0 75 55 ...\n",
      " $ NT_FG_D2          : int  29 34 47 38 20 18 29 0 51 55 ...\n",
      " $ NT_FG_D2_PT       : int  65 70 55 70 60 50 45 0 55 75 ...\n",
      " $ NT_FG_D2_CT       : int  20 25 45 30 10 10 25 0 50 50 ...\n",
      " $ NT_CE             : num  17.3 20.2 44.2 32.1 33.8 14.8 21 20.4 39.2 37.6 ...\n",
      " $ NT_OBJ_CE         : num  17.4 21.7 43.5 34.8 34.8 13 21.7 21.7 43.5 34.8 ...\n",
      " $ NT_DIS_CE         : num  16.7 11.7 48.3 16.7 28.3 25 16.7 13.3 15 53.3 ...\n",
      " $ NT_CE_D1          : int  0 10 20 0 40 50 0 40 20 90 ...\n",
      " $ NT_CE_D2          : int  50 0 50 50 20 0 0 0 0 70 ...\n",
      " $ NT_CE_D3          : int  0 25 75 0 25 25 50 0 25 0 ...\n",
      " $ CO_RS_I1          : Factor w/ 8 levels \"\",\"*\",\".\",\"A\",..: 7 6 6 5 7 6 6 6 6 7 ...\n",
      " $ CO_RS_I2          : Factor w/ 8 levels \"\",\"*\",\".\",\"A\",..: 7 6 7 5 7 7 6 7 7 7 ...\n",
      " $ CO_RS_I3          : Factor w/ 8 levels \"\",\"*\",\".\",\"A\",..: 6 6 6 6 4 6 5 4 6 5 ...\n",
      " $ CO_RS_I4          : Factor w/ 8 levels \"\",\"*\",\".\",\"A\",..: 5 5 5 4 7 6 5 4 7 5 ...\n",
      " $ CO_RS_I5          : Factor w/ 8 levels \"\",\"*\",\".\",\"A\",..: 5 5 6 4 7 7 6 6 7 5 ...\n",
      " $ CO_RS_I6          : Factor w/ 8 levels \"\",\"*\",\".\",\"A\",..: 6 6 6 5 7 6 6 6 4 7 ...\n",
      " $ CO_RS_I7          : Factor w/ 8 levels \"\",\"*\",\".\",\"A\",..: 5 8 5 8 5 5 5 4 7 5 ...\n",
      " $ CO_RS_I8          : Factor w/ 8 levels \"\",\"*\",\".\",\"A\",..: 7 8 7 8 8 7 7 6 7 7 ...\n",
      " $ CO_RS_I9          : Factor w/ 8 levels \"\",\"*\",\".\",\"A\",..: 7 7 6 6 7 7 7 7 6 7 ...\n",
      " $ QE_I01            : Factor w/ 6 levels \"\",\"A\",\"B\",\"C\",..: 2 2 2 3 3 2 2 2 2 2 ...\n",
      " $ QE_I02            : Factor w/ 7 levels \"\",\"A\",\"B\",\"C\",..: 2 2 2 2 2 2 2 2 2 5 ...\n",
      " $ QE_I03            : Factor w/ 4 levels \"\",\"A\",\"B\",\"C\": 2 2 2 2 2 2 2 2 2 2 ...\n",
      " $ QE_I04            : Factor w/ 7 levels \"\",\"A\",\"B\",\"C\",..: 5 5 5 3 3 3 4 3 4 3 ...\n",
      " $ QE_I05            : Factor w/ 7 levels \"\",\"A\",\"B\",\"C\",..: 5 3 5 4 5 3 5 3 5 4 ...\n",
      " $ QE_I06            : Factor w/ 7 levels \"\",\"A\",\"B\",\"C\",..: 4 2 4 4 4 3 3 4 3 3 ...\n",
      " $ QE_I07            : Factor w/ 9 levels \"\",\"A\",\"B\",\"C\",..: 4 4 4 5 3 4 6 4 5 4 ...\n",
      " $ QE_I08            : Factor w/ 8 levels \"\",\"A\",\"B\",\"C\",..: 4 5 4 3 3 4 3 4 5 4 ...\n",
      " $ QE_I09            : Factor w/ 7 levels \"\",\"A\",\"B\",\"C\",..: 7 6 4 6 6 6 3 7 4 5 ...\n",
      " $ QE_I10            : Factor w/ 6 levels \"\",\"A\",\"B\",\"C\",..: 6 6 6 6 6 6 2 6 4 5 ...\n",
      " $ QE_I11            : Factor w/ 12 levels \"\",\"A\",\"B\",\"C\",..: 4 3 4 6 9 3 4 9 3 4 ...\n",
      " $ QE_I12            : Factor w/ 7 levels \"\",\"A\",\"B\",\"C\",..: 2 2 2 2 2 4 2 2 2 2 ...\n",
      " $ QE_I13            : Factor w/ 7 levels \"\",\"A\",\"B\",\"C\",..: 2 2 2 2 2 7 2 2 7 2 ...\n",
      " $ QE_I14            : Factor w/ 7 levels \"\",\"A\",\"B\",\"C\",..: 2 2 2 2 6 2 2 2 2 2 ...\n",
      " $ QE_I15            : Factor w/ 7 levels \"\",\"A\",\"B\",\"C\",..: 2 2 4 2 4 2 4 2 2 2 ...\n",
      " $ QE_I16            : int  43 43 43 43 43 43 43 43 43 43 ...\n",
      " $ QE_I17            : Factor w/ 7 levels \"\",\"A\",\"B\",\"C\",..: 2 5 5 2 3 3 2 3 2 2 ...\n",
      " $ QE_I18            : Factor w/ 6 levels \"\",\"A\",\"B\",\"C\",..: 2 3 2 2 5 3 2 3 2 2 ...\n",
      " $ QE_I19            : Factor w/ 8 levels \"\",\"A\",\"B\",\"C\",..: 3 3 2 3 3 3 3 4 3 3 ...\n",
      " $ QE_I20            : Factor w/ 12 levels \"\",\"A\",\"B\",\"C\",..: 8 9 4 4 2 9 2 12 8 4 ...\n",
      " $ QE_I21            : Factor w/ 3 levels \"\",\"A\",\"B\": 3 2 3 2 2 3 3 2 2 3 ...\n",
      " $ QE_I22            : Factor w/ 6 levels \"\",\"A\",\"B\",\"C\",..: 4 4 5 3 6 4 6 4 4 3 ...\n",
      " $ QE_I23            : Factor w/ 6 levels \"\",\"A\",\"B\",\"C\",..: 4 3 4 3 4 4 6 4 6 3 ...\n",
      " $ QE_I24            : Factor w/ 6 levels \"\",\"A\",\"B\",\"C\",..: 2 2 2 2 2 2 2 2 2 2 ...\n",
      " $ QE_I25            : Factor w/ 9 levels \"\",\"A\",\"B\",\"C\",..: 4 4 4 4 2 2 6 4 6 2 ...\n",
      " $ QE_I26            : Factor w/ 6 levels \"\",\"A\",\"B\",\"C\",..: 1 1 2 1 1 4 4 1 1 1 ...\n",
      " $ QE_I27            : int  6 6 6 6 6 6 6 6 6 6 ...\n",
      " $ QE_I28            : int  6 6 6 6 NA 6 6 6 6 6 ...\n",
      " $ QE_I29            : int  6 6 6 6 6 6 6 6 6 6 ...\n",
      " $ QE_I30            : int  6 6 6 6 6 6 6 6 6 6 ...\n",
      "  [list output truncated]\n"
     ]
    }
   ],
   "source": [
    "str(df)"
   ]
  },
  {
   "cell_type": "markdown",
   "id": "streaming-hierarchy",
   "metadata": {},
   "source": [
    "# Notas\n",
    "---"
   ]
  },
  {
   "cell_type": "code",
   "execution_count": 6,
   "id": "least-burlington",
   "metadata": {},
   "outputs": [],
   "source": [
    "notas = df$NT_GER"
   ]
  },
  {
   "cell_type": "code",
   "execution_count": 7,
   "id": "unable-sunrise",
   "metadata": {},
   "outputs": [
    {
     "data": {
      "text/plain": [
       "   Min. 1st Qu.  Median    Mean 3rd Qu.    Max.    NA's \n",
       "    0.0    28.9    37.2    38.4    47.0    90.2    1509 "
      ]
     },
     "metadata": {},
     "output_type": "display_data"
    }
   ],
   "source": [
    "summary(notas)"
   ]
  },
  {
   "cell_type": "code",
   "execution_count": 8,
   "id": "hidden-productivity",
   "metadata": {},
   "outputs": [
    {
     "data": {
      "image/png": "[encoded data removed]",
      "text/plain": [
       "Plot with title \"Histogram of notas\""
      ]
     },
     "metadata": {},
     "output_type": "display_data"
    }
   ],
   "source": [
    "hist(notas)"
   ]
  },
  {
   "cell_type": "code",
   "execution_count": 9,
   "id": "authorized-customer",
   "metadata": {},
   "outputs": [],
   "source": [
    "modalidade = as.factor(df$CO_MODALIDADE) "
   ]
  },
  {
   "cell_type": "code",
   "execution_count": 10,
   "id": "industrial-north",
   "metadata": {},
   "outputs": [
    {
     "data": {
      "text/plain": [
       "modalidade\n",
       "   1    2 \n",
       "9431  151 "
      ]
     },
     "metadata": {},
     "output_type": "display_data"
    }
   ],
   "source": [
    "table(modalidade)"
   ]
  },
  {
   "cell_type": "code",
   "execution_count": 11,
   "id": "quarterly-robert",
   "metadata": {},
   "outputs": [],
   "source": [
    "modalidade = mapvalues(df$CO_MODALIDADE, from=c(1,2), to=c(\"presencial\",\"distancia\"))"
   ]
  },
  {
   "cell_type": "code",
   "execution_count": 12,
   "id": "herbal-greene",
   "metadata": {},
   "outputs": [
    {
     "data": {
      "text/plain": [
       "modalidade\n",
       " distancia presencial \n",
       "0.01575871 0.98424129 "
      ]
     },
     "metadata": {},
     "output_type": "display_data"
    }
   ],
   "source": [
    "prop.table(table(modalidade))"
   ]
  },
  {
   "cell_type": "markdown",
   "id": "junior-edgar",
   "metadata": {},
   "source": [
    "# Comportamento das notas detas categorias\n",
    "---\n",
    "* Não existe muita diferênça na média entre o ensino presencial e à distância"
   ]
  },
  {
   "cell_type": "code",
   "execution_count": 13,
   "id": "lightweight-concord",
   "metadata": {},
   "outputs": [
    {
     "data": {
      "text/html": [
       "<dl class=dl-horizontal>\n",
       "\t<dt>distancia</dt>\n",
       "\t\t<dd>38.283</dd>\n",
       "\t<dt>presencial</dt>\n",
       "\t\t<dd>38.3988586479368</dd>\n",
       "</dl>\n"
      ],
      "text/latex": [
       "\\begin{description*}\n",
       "\\item[distancia] 38.283\n",
       "\\item[presencial] 38.3988586479368\n",
       "\\end{description*}\n"
      ],
      "text/markdown": [
       "distancia\n",
       ":   38.283presencial\n",
       ":   38.3988586479368\n",
       "\n"
      ],
      "text/plain": [
       " distancia presencial \n",
       "  38.28300   38.39886 "
      ]
     },
     "metadata": {},
     "output_type": "display_data"
    }
   ],
   "source": [
    "tapply(notas, modalidade, FUN=mean,na.rm=TRUE)"
   ]
  },
  {
   "cell_type": "code",
   "execution_count": 14,
   "id": "upset-being",
   "metadata": {},
   "outputs": [
    {
     "name": "stderr",
     "output_type": "stream",
     "text": [
      "Warning message:\n",
      "\"Removed 1509 rows containing non-finite values (stat_summary).\""
     ]
    },
    {
     "data": {
      "image/png": "[encoded data removed]",
      "text/plain": [
       "plot without title"
      ]
     },
     "metadata": {},
     "output_type": "display_data"
    }
   ],
   "source": [
    "options(repr.plot.width = 5, repr.plot.height = 4)\n",
    "ggplot(df, aes(x=modalidade, y=notas, fill=modalidade)) +\n",
    "    geom_boxplot(na.rm = TRUE) +\n",
    "    stat_summary(aes(shape = \"média\"),\n",
    "               geom = \"point\",\n",
    "               fun = mean,\n",
    "               size = 1)+\n",
    "    xlab(\"gênero\")+\n",
    "    ylab(\"Notas\");"
   ]
  },
  {
   "cell_type": "markdown",
   "id": "distinct-invention",
   "metadata": {},
   "source": [
    "# Esforço: horas dedicadas as estudo\n",
    "---\n",
    "* Muita variância, principalmente para quem diz que estuda mais que 12 horas;\n",
    "* Quanto mais estuda mais aumenta a média do aluno\n",
    "* Da indícios de que quanto maior o esforço maior o desempenho"
   ]
  },
  {
   "cell_type": "code",
   "execution_count": 15,
   "id": "satellite-lebanon",
   "metadata": {},
   "outputs": [
    {
     "data": {
      "text/plain": [
       "esforco\n",
       "                                    Nenhuma, apenas assistindo as aulas \n",
       "                         0.11344187                          0.08035901 \n",
       "                      De uma a três                    De quatro a sete \n",
       "                         0.34554373                          0.27134210 \n",
       "                      De oito adoze                        Mais de doze \n",
       "                         0.10321436                          0.08609894 "
      ]
     },
     "metadata": {},
     "output_type": "display_data"
    }
   ],
   "source": [
    "esforco = as.factor(df$QE_I23)\n",
    "esforco = mapvalues(df$QE_I23, from=c(\"A\",\"B\",\"C\",\"D\",\"E\"), to=c(\"Nenhuma, apenas assistindo as aulas\",\"De uma a três\",\n",
    "                                                                \"De quatro a sete\",\"De oito adoze\",\"Mais de doze\"))\n",
    "prop.table(table(esforco))"
   ]
  },
  {
   "cell_type": "code",
   "execution_count": 16,
   "id": "civilian-association",
   "metadata": {},
   "outputs": [
    {
     "data": {
      "text/html": [
       "<dl class=dl-horizontal>\n",
       "\t<dt>1</dt>\n",
       "\t\t<dd>34.5163265306122</dd>\n",
       "\t<dt>Nenhuma, apenas assistindo as aulas</dt>\n",
       "\t\t<dd>36.8050287356322</dd>\n",
       "\t<dt>De uma a três</dt>\n",
       "\t\t<dd>36.6378438899552</dd>\n",
       "\t<dt>De quatro a sete</dt>\n",
       "\t\t<dd>38.6564620355412</dd>\n",
       "\t<dt>De oito adoze</dt>\n",
       "\t\t<dd>41.1735949098621</dd>\n",
       "\t<dt>Mais de doze</dt>\n",
       "\t\t<dd>42.9180076628353</dd>\n",
       "</dl>\n"
      ],
      "text/latex": [
       "\\begin{description*}\n",
       "\\item[1] 34.5163265306122\n",
       "\\item[Nenhuma, apenas assistindo as aulas] 36.8050287356322\n",
       "\\item[De uma a três] 36.6378438899552\n",
       "\\item[De quatro a sete] 38.6564620355412\n",
       "\\item[De oito adoze] 41.1735949098621\n",
       "\\item[Mais de doze] 42.9180076628353\n",
       "\\end{description*}\n"
      ],
      "text/markdown": [
       "1\n",
       ":   34.5163265306122Nenhuma, apenas assistindo as aulas\n",
       ":   36.8050287356322De uma a três\n",
       ":   36.6378438899552De quatro a sete\n",
       ":   38.6564620355412De oito adoze\n",
       ":   41.1735949098621Mais de doze\n",
       ":   42.9180076628353\n",
       "\n"
      ],
      "text/plain": [
       "                                    Nenhuma, apenas assistindo as aulas \n",
       "                           34.51633                            36.80503 \n",
       "                      De uma a três                    De quatro a sete \n",
       "                           36.63784                            38.65646 \n",
       "                      De oito adoze                        Mais de doze \n",
       "                           41.17359                            42.91801 "
      ]
     },
     "metadata": {},
     "output_type": "display_data"
    }
   ],
   "source": [
    "tapply(notas, esforco, FUN=mean, na.rm=T)"
   ]
  },
  {
   "cell_type": "code",
   "execution_count": 17,
   "id": "dangerous-municipality",
   "metadata": {},
   "outputs": [
    {
     "name": "stderr",
     "output_type": "stream",
     "text": [
      "Warning message:\n",
      "\"Removed 1509 rows containing non-finite values (stat_summary).\""
     ]
    },
    {
     "data": {
      "image/png": "[encoded data removed]",
      "text/plain": [
       "plot without title"
      ]
     },
     "metadata": {},
     "output_type": "display_data"
    }
   ],
   "source": [
    "options(repr.plot.width = 6, repr.plot.height = 4)\n",
    "ggplot(df, aes(x=esforco, y=notas, fill=esforco)) +\n",
    "    geom_boxplot(na.rm = TRUE) +\n",
    "    stat_summary(aes(shape = \"média\"),\n",
    "               geom = \"point\",\n",
    "               fun = mean,\n",
    "               size = 1)+\n",
    "    xlab(\"gênero\")+\n",
    "    ylab(\"Notas\")+\n",
    "    theme(axis.text.x = element_text(angle = 45, vjust = 0.9, hjust=1));"
   ]
  },
  {
   "cell_type": "markdown",
   "id": "premier-survivor",
   "metadata": {},
   "source": [
    "# Faixa de Renda\n",
    "---\n",
    "* Quanto maior a renda maior o desempenho"
   ]
  },
  {
   "cell_type": "code",
   "execution_count": 18,
   "id": "graduate-introduction",
   "metadata": {},
   "outputs": [
    {
     "data": {
      "text/plain": [
       "renda\n",
       "                                   Até 1.5 salário mínimo \n",
       "                  0.11344187                   0.13420998 \n",
       " De 1.5 a 3 salários mínimos  De 3 a 4.5 salários mínimos \n",
       "                  0.16301398                   0.15737842 \n",
       " De 4.5 a 6 salários mínimos   De 6 a 10 salários mínimos \n",
       "                  0.10363181                   0.13963682 \n",
       "    10 a 30 salários mínimos Acima de 30 salários mínimos \n",
       "                  0.13661031                   0.05207681 "
      ]
     },
     "metadata": {},
     "output_type": "display_data"
    }
   ],
   "source": [
    "renda = df$QE_I08\n",
    "renda = mapvalues(df$QE_I08, from=c(\"A\",\"B\",\"C\",\"D\",\"E\",\"F\",\"G\"), to=c(\"Até 1.5 salário mínimo\",\"De 1.5 a 3 salários mínimos\",\n",
    "                                                                \"De 3 a 4.5 salários mínimos\",\"De 4.5 a 6 salários mínimos\",\"De 6 a 10 salários mínimos\",\n",
    "                                                                                \"10 a 30 salários mínimos\", \"Acima de 30 salários mínimos\"))\n",
    "prop.table(table(renda))"
   ]
  },
  {
   "cell_type": "code",
   "execution_count": 19,
   "id": "visible-voice",
   "metadata": {},
   "outputs": [
    {
     "data": {
      "text/html": [
       "<dl class=dl-horizontal>\n",
       "\t<dt>1</dt>\n",
       "\t\t<dd>34.5163265306122</dd>\n",
       "\t<dt>Até 1.5 salário mínimo</dt>\n",
       "\t\t<dd>34.4106400665004</dd>\n",
       "\t<dt>De 1.5 a 3 salários mínimos</dt>\n",
       "\t\t<dd>35.2974324324324</dd>\n",
       "\t<dt>De 3 a 4.5 salários mínimos</dt>\n",
       "\t\t<dd>36.2945682451253</dd>\n",
       "\t<dt>De 4.5 a 6 salários mínimos</dt>\n",
       "\t\t<dd>38.0471778487753</dd>\n",
       "\t<dt>De 6 a 10 salários mínimos</dt>\n",
       "\t\t<dd>40.2816890292028</dd>\n",
       "\t<dt>10 a 30 salários mínimos</dt>\n",
       "\t\t<dd>44.1079610073111</dd>\n",
       "\t<dt>Acima de 30 salários mínimos</dt>\n",
       "\t\t<dd>45.8884615384615</dd>\n",
       "</dl>\n"
      ],
      "text/latex": [
       "\\begin{description*}\n",
       "\\item[1] 34.5163265306122\n",
       "\\item[Até 1.5 salário mínimo] 34.4106400665004\n",
       "\\item[De 1.5 a 3 salários mínimos] 35.2974324324324\n",
       "\\item[De 3 a 4.5 salários mínimos] 36.2945682451253\n",
       "\\item[De 4.5 a 6 salários mínimos] 38.0471778487753\n",
       "\\item[De 6 a 10 salários mínimos] 40.2816890292028\n",
       "\\item[10 a 30 salários mínimos] 44.1079610073111\n",
       "\\item[Acima de 30 salários mínimos] 45.8884615384615\n",
       "\\end{description*}\n"
      ],
      "text/markdown": [
       "1\n",
       ":   34.5163265306122Até 1.5 salário mínimo\n",
       ":   34.4106400665004De 1.5 a 3 salários mínimos\n",
       ":   35.2974324324324De 3 a 4.5 salários mínimos\n",
       ":   36.2945682451253De 4.5 a 6 salários mínimos\n",
       ":   38.0471778487753De 6 a 10 salários mínimos\n",
       ":   40.281689029202810 a 30 salários mínimos\n",
       ":   44.1079610073111Acima de 30 salários mínimos\n",
       ":   45.8884615384615\n",
       "\n"
      ],
      "text/plain": [
       "                                   Até 1.5 salário mínimo \n",
       "                    34.51633                     34.41064 \n",
       " De 1.5 a 3 salários mínimos  De 3 a 4.5 salários mínimos \n",
       "                    35.29743                     36.29457 \n",
       " De 4.5 a 6 salários mínimos   De 6 a 10 salários mínimos \n",
       "                    38.04718                     40.28169 \n",
       "    10 a 30 salários mínimos Acima de 30 salários mínimos \n",
       "                    44.10796                     45.88846 "
      ]
     },
     "metadata": {},
     "output_type": "display_data"
    }
   ],
   "source": [
    "tapply(notas, renda, FUN=mean, na.rm=T)"
   ]
  },
  {
   "cell_type": "code",
   "execution_count": 20,
   "id": "plain-driving",
   "metadata": {},
   "outputs": [
    {
     "name": "stderr",
     "output_type": "stream",
     "text": [
      "Warning message:\n",
      "\"Removed 1509 rows containing non-finite values (stat_summary).\""
     ]
    },
    {
     "data": {
      "image/png": "[encoded data removed]",
      "text/plain": [
       "plot without title"
      ]
     },
     "metadata": {},
     "output_type": "display_data"
    }
   ],
   "source": [
    "options(repr.plot.width = 6, repr.plot.height = 4)\n",
    "ggplot(df, aes(x=renda, y=notas, fill=renda)) +\n",
    "    geom_boxplot(na.rm = TRUE) +\n",
    "    stat_summary(aes(shape = \"média\"),\n",
    "               geom = \"point\",\n",
    "               fun = mean,\n",
    "               size = 1)+\n",
    "    xlab(\"Faixa de Renda\")+\n",
    "    ylab(\"Nota\")+\n",
    "    theme(axis.text.x = element_text(angle = 45, vjust = 0.9, hjust=1));"
   ]
  },
  {
   "cell_type": "markdown",
   "id": "august-execution",
   "metadata": {},
   "source": [
    "# Escolaridade dos Pais\n",
    "---\n",
    "* Proxis de nível social\n",
    "* Alunos com pais que concluiram o ensino superior possuem média de notas maiores\n"
   ]
  },
  {
   "cell_type": "code",
   "execution_count": 21,
   "id": "infinite-consolidation",
   "metadata": {},
   "outputs": [
    {
     "data": {
      "text/plain": [
       "escolaridade\n",
       "                sim       não \n",
       "0.1134419 0.6793989 0.2071593 "
      ]
     },
     "metadata": {},
     "output_type": "display_data"
    }
   ],
   "source": [
    "escolaridade = as.factor(df$QE_I21)\n",
    "escolaridade = mapvalues(df$QE_I21, from=c(\"A\",\"B\"), to=c(\"sim\",\"não\"))\n",
    "prop.table(table(escolaridade))"
   ]
  },
  {
   "cell_type": "code",
   "execution_count": 22,
   "id": "psychological-orlando",
   "metadata": {},
   "outputs": [
    {
     "data": {
      "text/html": [
       "<dl class=dl-horizontal>\n",
       "\t<dt>1</dt>\n",
       "\t\t<dd>34.5163265306122</dd>\n",
       "\t<dt>sim</dt>\n",
       "\t\t<dd>39.3579033311561</dd>\n",
       "\t<dt>não</dt>\n",
       "\t\t<dd>35.4017368421053</dd>\n",
       "</dl>\n"
      ],
      "text/latex": [
       "\\begin{description*}\n",
       "\\item[1] 34.5163265306122\n",
       "\\item[sim] 39.3579033311561\n",
       "\\item[não] 35.4017368421053\n",
       "\\end{description*}\n"
      ],
      "text/markdown": [
       "1\n",
       ":   34.5163265306122sim\n",
       ":   39.3579033311561não\n",
       ":   35.4017368421053\n",
       "\n"
      ],
      "text/plain": [
       "              sim      não \n",
       "34.51633 39.35790 35.40174 "
      ]
     },
     "metadata": {},
     "output_type": "display_data"
    }
   ],
   "source": [
    "tapply(notas, escolaridade, FUN=mean, na.rm=T)"
   ]
  },
  {
   "cell_type": "code",
   "execution_count": 23,
   "id": "double-marks",
   "metadata": {},
   "outputs": [
    {
     "name": "stderr",
     "output_type": "stream",
     "text": [
      "Warning message:\n",
      "\"Removed 1509 rows containing non-finite values (stat_summary).\""
     ]
    },
    {
     "data": {
      "image/png": "[encoded data removed]",
      "text/plain": [
       "plot without title"
      ]
     },
     "metadata": {},
     "output_type": "display_data"
    }
   ],
   "source": [
    "options(repr.plot.width = 6, repr.plot.height = 4)\n",
    "ggplot(df, aes(x=escolaridade, y=notas, fill=escolaridade)) +\n",
    "    geom_boxplot(na.rm = TRUE) +\n",
    "    stat_summary(aes(shape = \"média\"),\n",
    "               geom = \"point\",\n",
    "               fun = mean,\n",
    "               size = 1)+\n",
    "    xlab(\"Escolaridade\")+\n",
    "    ylab(\"Nota\")+\n",
    "    theme(axis.text.x = element_text(angle = 45, vjust = 0.9, hjust=1));"
   ]
  },
  {
   "cell_type": "markdown",
   "id": "specialized-skirt",
   "metadata": {},
   "source": [
    "# Idade\n",
    "---"
   ]
  },
  {
   "cell_type": "code",
   "execution_count": 24,
   "id": "incoming-composer",
   "metadata": {},
   "outputs": [],
   "source": [
    "idade = df$NU_IDADE"
   ]
  },
  {
   "cell_type": "markdown",
   "id": "herbal-alexandria",
   "metadata": {},
   "source": [
    "# Trabalho\n",
    "---\n",
    "* Quem não trabalho possui média de notas maiores\n",
    "* Existe suspeitas que as horas de trabalho influenciam o desempenho, mas não certeza estatística"
   ]
  },
  {
   "cell_type": "code",
   "execution_count": 25,
   "id": "devoted-manual",
   "metadata": {},
   "outputs": [
    {
     "data": {
      "text/plain": [
       "trabalho\n",
       "                                                       Não trabalha \n",
       "                       0.11344187                        0.35170111 \n",
       "           Trabalha eventualmente     Trabalha até 20 hrs. semanais \n",
       "                       0.03934460                        0.03871843 \n",
       "Trabalha de 21 a 39 hrs. semanais Trabalha 40 hrs. semanais ou mais \n",
       "                       0.12888750                        0.32790649 "
      ]
     },
     "metadata": {},
     "output_type": "display_data"
    }
   ],
   "source": [
    "trabalho = as.factor(df$QE_I10)\n",
    "trabalho = mapvalues(df$QE_I10, from=c(\"A\",\"B\",\"C\",\"D\",\"E\"), to=c(\"Não trabalha\",\n",
    "                                                                  \"Trabalha eventualmente\",\n",
    "                                                                 \"Trabalha até 20 hrs. semanais\",\n",
    "                                                                 \"Trabalha de 21 a 39 hrs. semanais\",\n",
    "                                                                 \"Trabalha 40 hrs. semanais ou mais\"))\n",
    "prop.table(table(trabalho))"
   ]
  },
  {
   "cell_type": "code",
   "execution_count": 26,
   "id": "silent-contract",
   "metadata": {},
   "outputs": [
    {
     "data": {
      "text/html": [
       "<dl class=dl-horizontal>\n",
       "\t<dt>1</dt>\n",
       "\t\t<dd>34.5163265306122</dd>\n",
       "\t<dt>Não trabalha</dt>\n",
       "\t\t<dd>40.3472534332085</dd>\n",
       "\t<dt>Trabalha eventualmente</dt>\n",
       "\t\t<dd>38.9900874635569</dd>\n",
       "\t<dt>Trabalha até 20 hrs. semanais</dt>\n",
       "\t\t<dd>38.5839650145773</dd>\n",
       "\t<dt>Trabalha de 21 a 39 hrs. semanais</dt>\n",
       "\t\t<dd>38.4669198312236</dd>\n",
       "\t<dt>Trabalha 40 hrs. semanais ou mais</dt>\n",
       "\t\t<dd>36.2249237029502</dd>\n",
       "</dl>\n"
      ],
      "text/latex": [
       "\\begin{description*}\n",
       "\\item[1] 34.5163265306122\n",
       "\\item[Não trabalha] 40.3472534332085\n",
       "\\item[Trabalha eventualmente] 38.9900874635569\n",
       "\\item[Trabalha até 20 hrs. semanais] 38.5839650145773\n",
       "\\item[Trabalha de 21 a 39 hrs. semanais] 38.4669198312236\n",
       "\\item[Trabalha 40 hrs. semanais ou mais] 36.2249237029502\n",
       "\\end{description*}\n"
      ],
      "text/markdown": [
       "1\n",
       ":   34.5163265306122Não trabalha\n",
       ":   40.3472534332085Trabalha eventualmente\n",
       ":   38.9900874635569Trabalha até 20 hrs. semanais\n",
       ":   38.5839650145773Trabalha de 21 a 39 hrs. semanais\n",
       ":   38.4669198312236Trabalha 40 hrs. semanais ou mais\n",
       ":   36.2249237029502\n",
       "\n"
      ],
      "text/plain": [
       "                                                       Não trabalha \n",
       "                         34.51633                          40.34725 \n",
       "           Trabalha eventualmente     Trabalha até 20 hrs. semanais \n",
       "                         38.99009                          38.58397 \n",
       "Trabalha de 21 a 39 hrs. semanais Trabalha 40 hrs. semanais ou mais \n",
       "                         38.46692                          36.22492 "
      ]
     },
     "metadata": {},
     "output_type": "display_data"
    }
   ],
   "source": [
    "tapply(notas, trabalho, FUN=mean, na.rm=T)"
   ]
  },
  {
   "cell_type": "code",
   "execution_count": 27,
   "id": "excellent-testimony",
   "metadata": {},
   "outputs": [
    {
     "name": "stderr",
     "output_type": "stream",
     "text": [
      "Warning message:\n",
      "\"Removed 1509 rows containing non-finite values (stat_summary).\""
     ]
    },
    {
     "data": {
      "image/png": "[encoded data removed]",
      "text/plain": [
       "plot without title"
      ]
     },
     "metadata": {},
     "output_type": "display_data"
    }
   ],
   "source": [
    "options(repr.plot.width = 6, repr.plot.height = 4)\n",
    "ggplot(df, aes(x=trabalho, y=notas, fill=trabalho)) +\n",
    "    geom_boxplot(na.rm = TRUE) +\n",
    "    stat_summary(aes(shape = \"média\"),\n",
    "               geom = \"point\",\n",
    "               fun = mean,\n",
    "               size = 1)+\n",
    "    xlab(\"Trabalho\")+\n",
    "    ylab(\"Nota\")+\n",
    "    theme(axis.text.x = element_text(angle = 45, vjust = 0.9, hjust=1));"
   ]
  },
  {
   "cell_type": "markdown",
   "id": "naughty-aspect",
   "metadata": {},
   "source": [
    "# Data Frame"
   ]
  },
  {
   "cell_type": "code",
   "execution_count": 28,
   "id": "ancient-channels",
   "metadata": {},
   "outputs": [],
   "source": [
    "df_1 = data.frame(notas=notas, modalidade=modalidade, esforco=esforco, idade=idade, renda=renda, trabalho=trabalho,\n",
    "         escolaridade=escolaridade)"
   ]
  },
  {
   "cell_type": "code",
   "execution_count": 29,
   "id": "annual-burton",
   "metadata": {},
   "outputs": [
    {
     "data": {
      "text/html": [
       "<table>\n",
       "<thead><tr><th scope=col>notas</th><th scope=col>modalidade</th><th scope=col>esforco</th><th scope=col>idade</th><th scope=col>renda</th><th scope=col>trabalho</th><th scope=col>escolaridade</th></tr></thead>\n",
       "<tbody>\n",
       "\t<tr><td>24.9                             </td><td>presencial                       </td><td>De quatro a sete                 </td><td>28                               </td><td>De 3 a 4.5 salários mínimos      </td><td>Trabalha 40 hrs. semanais ou mais</td><td>não                              </td></tr>\n",
       "\t<tr><td>25.6                             </td><td>presencial                       </td><td>De uma a três                    </td><td>30                               </td><td>De 4.5 a 6 salários mínimos      </td><td>Trabalha 40 hrs. semanais ou mais</td><td>sim                              </td></tr>\n",
       "\t<tr><td>48.7                             </td><td>presencial                       </td><td>De quatro a sete                 </td><td>29                               </td><td>De 3 a 4.5 salários mínimos      </td><td>Trabalha 40 hrs. semanais ou mais</td><td>não                              </td></tr>\n",
       "\t<tr><td>35.7                             </td><td>presencial                       </td><td>De uma a três                    </td><td>22                               </td><td>De 1.5 a 3 salários mínimos      </td><td>Trabalha 40 hrs. semanais ou mais</td><td>sim                              </td></tr>\n",
       "\t<tr><td>33.9                             </td><td>presencial                       </td><td>De quatro a sete                 </td><td>47                               </td><td>De 1.5 a 3 salários mínimos      </td><td>Trabalha 40 hrs. semanais ou mais</td><td>sim                              </td></tr>\n",
       "\t<tr><td>23.5                             </td><td>presencial                       </td><td>De quatro a sete                 </td><td>27                               </td><td>De 3 a 4.5 salários mínimos      </td><td>Trabalha 40 hrs. semanais ou mais</td><td>não                              </td></tr>\n",
       "</tbody>\n",
       "</table>\n"
      ],
      "text/latex": [
       "\\begin{tabular}{r|lllllll}\n",
       " notas & modalidade & esforco & idade & renda & trabalho & escolaridade\\\\\n",
       "\\hline\n",
       "\t 24.9                              & presencial                        & De quatro a sete                  & 28                                & De 3 a 4.5 salários mínimos       & Trabalha 40 hrs. semanais ou mais & não                              \\\\\n",
       "\t 25.6                              & presencial                        & De uma a três                     & 30                                & De 4.5 a 6 salários mínimos       & Trabalha 40 hrs. semanais ou mais & sim                              \\\\\n",
       "\t 48.7                              & presencial                        & De quatro a sete                  & 29                                & De 3 a 4.5 salários mínimos       & Trabalha 40 hrs. semanais ou mais & não                              \\\\\n",
       "\t 35.7                              & presencial                        & De uma a três                     & 22                                & De 1.5 a 3 salários mínimos       & Trabalha 40 hrs. semanais ou mais & sim                              \\\\\n",
       "\t 33.9                              & presencial                        & De quatro a sete                  & 47                                & De 1.5 a 3 salários mínimos       & Trabalha 40 hrs. semanais ou mais & sim                              \\\\\n",
       "\t 23.5                              & presencial                        & De quatro a sete                  & 27                                & De 3 a 4.5 salários mínimos       & Trabalha 40 hrs. semanais ou mais & não                              \\\\\n",
       "\\end{tabular}\n"
      ],
      "text/markdown": [
       "\n",
       "| notas | modalidade | esforco | idade | renda | trabalho | escolaridade |\n",
       "|---|---|---|---|---|---|---|\n",
       "| 24.9                              | presencial                        | De quatro a sete                  | 28                                | De 3 a 4.5 salários mínimos       | Trabalha 40 hrs. semanais ou mais | não                               |\n",
       "| 25.6                              | presencial                        | De uma a três                     | 30                                | De 4.5 a 6 salários mínimos       | Trabalha 40 hrs. semanais ou mais | sim                               |\n",
       "| 48.7                              | presencial                        | De quatro a sete                  | 29                                | De 3 a 4.5 salários mínimos       | Trabalha 40 hrs. semanais ou mais | não                               |\n",
       "| 35.7                              | presencial                        | De uma a três                     | 22                                | De 1.5 a 3 salários mínimos       | Trabalha 40 hrs. semanais ou mais | sim                               |\n",
       "| 33.9                              | presencial                        | De quatro a sete                  | 47                                | De 1.5 a 3 salários mínimos       | Trabalha 40 hrs. semanais ou mais | sim                               |\n",
       "| 23.5                              | presencial                        | De quatro a sete                  | 27                                | De 3 a 4.5 salários mínimos       | Trabalha 40 hrs. semanais ou mais | não                               |\n",
       "\n"
      ],
      "text/plain": [
       "  notas modalidade esforco          idade renda                      \n",
       "1 24.9  presencial De quatro a sete 28    De 3 a 4.5 salários mínimos\n",
       "2 25.6  presencial De uma a três    30    De 4.5 a 6 salários mínimos\n",
       "3 48.7  presencial De quatro a sete 29    De 3 a 4.5 salários mínimos\n",
       "4 35.7  presencial De uma a três    22    De 1.5 a 3 salários mínimos\n",
       "5 33.9  presencial De quatro a sete 47    De 1.5 a 3 salários mínimos\n",
       "6 23.5  presencial De quatro a sete 27    De 3 a 4.5 salários mínimos\n",
       "  trabalho                          escolaridade\n",
       "1 Trabalha 40 hrs. semanais ou mais não         \n",
       "2 Trabalha 40 hrs. semanais ou mais sim         \n",
       "3 Trabalha 40 hrs. semanais ou mais não         \n",
       "4 Trabalha 40 hrs. semanais ou mais sim         \n",
       "5 Trabalha 40 hrs. semanais ou mais sim         \n",
       "6 Trabalha 40 hrs. semanais ou mais não         "
      ]
     },
     "metadata": {},
     "output_type": "display_data"
    }
   ],
   "source": [
    "head(df_1)"
   ]
  },
  {
   "cell_type": "code",
   "execution_count": 37,
   "id": "russian-humor",
   "metadata": {},
   "outputs": [
    {
     "data": {
      "text/plain": [
       "modalidade\n",
       " distancia presencial \n",
       "       151       9431 "
      ]
     },
     "metadata": {},
     "output_type": "display_data"
    }
   ],
   "source": [
    "table(modalidade)"
   ]
  },
  {
   "cell_type": "markdown",
   "id": "whole-regular",
   "metadata": {},
   "source": [
    "# Teste Anova\n",
    "---\n",
    "* Como temoas apenas variáveis categóricas, vamos gerar uma regressão Anova\n",
    "* A Anova mostra que as diferenças entre as categorias são estatisticamente significantes\n",
    "* A modalidade é estatisticamente insignificante\n"
   ]
  },
  {
   "cell_type": "code",
   "execution_count": 30,
   "id": "acoustic-arrival",
   "metadata": {},
   "outputs": [
    {
     "data": {
      "text/plain": [
       "               Df  Sum Sq Mean Sq F value   Pr(>F)    \n",
       "esforco         5   35617    7123  47.601  < 2e-16 ***\n",
       "modalidade      1      41      41   0.274    0.601    \n",
       "idade           1   31118   31118 207.948  < 2e-16 ***\n",
       "renda           6   95007   15834 105.813  < 2e-16 ***\n",
       "trabalho        4   23369    5842  39.041  < 2e-16 ***\n",
       "escolaridade    1    2838    2838  18.962 1.35e-05 ***\n",
       "Residuals    8054 1205243     150                     \n",
       "---\n",
       "Signif. codes:  0 '***' 0.001 '**' 0.01 '*' 0.05 '.' 0.1 ' ' 1\n",
       "1509 observations deleted due to missingness"
      ]
     },
     "metadata": {},
     "output_type": "display_data"
    }
   ],
   "source": [
    "anova = aov(notas ~ esforco+modalidade+idade+renda+trabalho+escolaridade)\n",
    "summary(anova)"
   ]
  },
  {
   "cell_type": "markdown",
   "id": "atlantic-deadline",
   "metadata": {},
   "source": [
    "# Regressão Lineaqr Múltipla\n",
    "---\n",
    "* Inferências \n",
    "* Trabalho: quem não trabalha tem 13 pontos a cima de quem não respondeu nada.\n",
    "    * Todas as dummys são significantes, e decrescentes, a medida que aumenta o numero de trabalho semanal, menor a produtividade do ensino.\n",
    "* Idade: Quando maior a idade, menor a nota esperada: 0.26 pontos a menos a cada ano a mais de idade.\n",
    "* Escolariadde da família: pais com curso superior tem esperado 1.47 a mais na nota.\n",
    "* Faixa de renda: maior renda possui 10 pontos esperados a mais que os alunos de menor renda\n",
    "> As variáveis independentes explicam 13.45% a variância da variavel dependente.\n"
   ]
  },
  {
   "cell_type": "code",
   "execution_count": 40,
   "id": "forced-mistress",
   "metadata": {},
   "outputs": [
    {
     "data": {
      "text/plain": [
       "\n",
       "Call:\n",
       "lm(formula = notas ~ trabalho + idade + escolaridade + renda + \n",
       "    esforco, data = df_1)\n",
       "\n",
       "Residuals:\n",
       "    Min      1Q  Median      3Q     Max \n",
       "-42.742  -8.530  -0.662   8.141  43.370 \n",
       "\n",
       "Coefficients: (3 not defined because of singularities)\n",
       "                                            Estimate Std. Error t value\n",
       "(Intercept)                                 41.69629    1.89557  21.997\n",
       "trabalhoNão trabalha                        13.57677    1.91381   7.094\n",
       "trabalhoTrabalha eventualmente              12.92888    2.01713   6.410\n",
       "trabalhoTrabalha até 20 hrs. semanais       11.70894    2.00929   5.827\n",
       "trabalhoTrabalha de 21 a 39 hrs. semanais   10.85083    1.93272   5.614\n",
       "trabalhoTrabalha 40 hrs. semanais ou mais    9.64179    1.91346   5.039\n",
       "idade                                       -0.25869    0.02643  -9.787\n",
       "escolaridadesim                              1.46994    0.33883   4.338\n",
       "escolaridadenão                                   NA         NA      NA\n",
       "rendaAté 1.5 salário mínimo                -10.92307    0.70082 -15.586\n",
       "rendaDe 1.5 a 3 salários mínimos            -8.86258    0.66603 -13.307\n",
       "rendaDe 3 a 4.5 salários mínimos            -7.66397    0.66377 -11.546\n",
       "rendaDe 4.5 a 6 salários mínimos            -6.01352    0.70116  -8.577\n",
       "rendaDe 6 a 10 salários mínimos             -3.96287    0.66762  -5.936\n",
       "renda10 a 30 salários mínimos               -0.65880    0.66767  -0.987\n",
       "rendaAcima de 30 salários mínimos                 NA         NA      NA\n",
       "esforcoNenhuma, apenas assistindo as aulas  -3.71827    0.66085  -5.626\n",
       "esforcoDe uma a três                        -4.53404    0.49672  -9.128\n",
       "esforcoDe quatro a sete                     -3.05253    0.50469  -6.048\n",
       "esforcoDe oito adoze                        -1.06655    0.59302  -1.798\n",
       "esforcoMais de doze                               NA         NA      NA\n",
       "                                           Pr(>|t|)    \n",
       "(Intercept)                                 < 2e-16 ***\n",
       "trabalhoNão trabalha                       1.41e-12 ***\n",
       "trabalhoTrabalha eventualmente             1.54e-10 ***\n",
       "trabalhoTrabalha até 20 hrs. semanais      5.85e-09 ***\n",
       "trabalhoTrabalha de 21 a 39 hrs. semanais  2.04e-08 ***\n",
       "trabalhoTrabalha 40 hrs. semanais ou mais  4.78e-07 ***\n",
       "idade                                       < 2e-16 ***\n",
       "escolaridadesim                            1.45e-05 ***\n",
       "escolaridadenão                                  NA    \n",
       "rendaAté 1.5 salário mínimo                 < 2e-16 ***\n",
       "rendaDe 1.5 a 3 salários mínimos            < 2e-16 ***\n",
       "rendaDe 3 a 4.5 salários mínimos            < 2e-16 ***\n",
       "rendaDe 4.5 a 6 salários mínimos            < 2e-16 ***\n",
       "rendaDe 6 a 10 salários mínimos            3.04e-09 ***\n",
       "renda10 a 30 salários mínimos                0.3238    \n",
       "rendaAcima de 30 salários mínimos                NA    \n",
       "esforcoNenhuma, apenas assistindo as aulas 1.90e-08 ***\n",
       "esforcoDe uma a três                        < 2e-16 ***\n",
       "esforcoDe quatro a sete                    1.53e-09 ***\n",
       "esforcoDe oito adoze                         0.0721 .  \n",
       "esforcoMais de doze                              NA    \n",
       "---\n",
       "Signif. codes:  0 '***' 0.001 '**' 0.01 '*' 0.05 '.' 0.1 ' ' 1\n",
       "\n",
       "Residual standard error: 12.23 on 8055 degrees of freedom\n",
       "  (1509 observations deleted due to missingness)\n",
       "Multiple R-squared:  0.1345,\tAdjusted R-squared:  0.1327 \n",
       "F-statistic: 73.66 on 17 and 8055 DF,  p-value: < 2.2e-16\n"
      ]
     },
     "metadata": {},
     "output_type": "display_data"
    }
   ],
   "source": [
    "mod = lm(notas~trabalho+idade+escolaridade+renda+esforco, data=df_1)\n",
    "summary(mod)"
   ]
  },
  {
   "cell_type": "code",
   "execution_count": 41,
   "id": "integral-compact",
   "metadata": {},
   "outputs": [
    {
     "data": {
      "image/png": "[encoded data removed]",
      "text/plain": [
       "Plot with title \"\""
      ]
     },
     "metadata": {},
     "output_type": "display_data"
    },
    {
     "data": {
      "image/png": "[encoded data removed]",
      "text/plain": [
       "Plot with title \"\""
      ]
     },
     "metadata": {},
     "output_type": "display_data"
    },
    {
     "data": {
      "image/png": "[encoded data removed]",
      "text/plain": [
       "Plot with title \"\""
      ]
     },
     "metadata": {},
     "output_type": "display_data"
    },
    {
     "data": {
      "image/png": "[encoded data removed]",
      "text/plain": [
       "Plot with title \"\""
      ]
     },
     "metadata": {},
     "output_type": "display_data"
    }
   ],
   "source": [
    "plot(mod)"
   ]
  },
  {
   "cell_type": "markdown",
   "id": "duplicate-equivalent",
   "metadata": {},
   "source": [
    "# Independência dos resíduos: Durbin-Watson\n",
    "---\n",
    "* Não pode rejeitar a hipótese nula"
   ]
  },
  {
   "cell_type": "code",
   "execution_count": 42,
   "id": "functioning-rainbow",
   "metadata": {},
   "outputs": [
    {
     "data": {
      "text/plain": [
       "\n",
       "\tDurbin-Watson test\n",
       "\n",
       "data:  mod\n",
       "DW = 1.7613, p-value = 0.7813\n",
       "alternative hypothesis: true autocorrelation is greater than 0\n"
      ]
     },
     "metadata": {},
     "output_type": "display_data"
    }
   ],
   "source": [
    "dwtest(mod)"
   ]
  },
  {
   "cell_type": "markdown",
   "id": "exempt-dealing",
   "metadata": {},
   "source": [
    "# Teste Breusch–Pagan: Homocedasticidade\n",
    "---\n",
    "* Rejeição da heterocedasticidade"
   ]
  },
  {
   "cell_type": "code",
   "execution_count": 43,
   "id": "minute-piece",
   "metadata": {},
   "outputs": [
    {
     "data": {
      "text/plain": [
       "\n",
       "\tstudentized Breusch-Pagan test\n",
       "\n",
       "data:  mod\n",
       "BP = 126.46, df = 17, p-value < 2.2e-16\n"
      ]
     },
     "metadata": {},
     "output_type": "display_data"
    }
   ],
   "source": [
    "bptest(mod)"
   ]
  },
  {
   "cell_type": "markdown",
   "id": "express-liability",
   "metadata": {},
   "source": [
    "# Teste de normalidade dos resíduos\n",
    "---\n",
    "* Os erros são normais e é válido a regressão"
   ]
  },
  {
   "cell_type": "code",
   "execution_count": 47,
   "id": "second-crime",
   "metadata": {},
   "outputs": [
    {
     "data": {
      "text/plain": [
       "\n",
       "\tAnderson-Darling normality test\n",
       "\n",
       "data:  mod$residuals\n",
       "A = 9.3722, p-value < 2.2e-16\n"
      ]
     },
     "metadata": {},
     "output_type": "display_data"
    }
   ],
   "source": [
    "ad.test(mod$residuals)"
   ]
  },
  {
   "cell_type": "code",
   "execution_count": null,
   "id": "thorough-northwest",
   "metadata": {},
   "outputs": [],
   "source": []
  }
 ],
 "metadata": {
  "kernelspec": {
   "display_name": "R",
   "language": "R",
   "name": "ir"
  },
  "language_info": {
   "codemirror_mode": "r",
   "file_extension": ".r",
   "mimetype": "text/x-r-source",
   "name": "R",
   "pygments_lexer": "r",
   "version": "3.6.1"
  }
 },
 "nbformat": 4,
 "nbformat_minor": 5
}
