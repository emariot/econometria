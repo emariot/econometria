{
 "cells": [
  {
   "cell_type": "markdown",
   "id": "recreational-person",
   "metadata": {},
   "source": [
    "# Regressão Linear Múltipla\n",
    "* Criar uma função de produção de educação dos cursos de economia no Brasil ou função de desempenho\n",
    "* Variáveis que traduzem características do aluno como: esforço, família, história, estrutura, sexo e cor\n"
   ]
  },
  {
   "cell_type": "code",
   "execution_count": 4,
   "id": "acquired-enclosure",
   "metadata": {},
   "outputs": [],
   "source": [
    "library(dplyr)\n",
    "library(ggplot2)\n",
    "library(gplots)\n",
    "library(cowplot)\n",
    "library(graphics)\n",
    "library(lmtest)\n",
    "library(ggpubr)"
   ]
  },
  {
   "cell_type": "code",
   "execution_count": 20,
   "id": "presidential-packing",
   "metadata": {},
   "outputs": [],
   "source": [
    "library(Amelia)"
   ]
  },
  {
   "cell_type": "code",
   "execution_count": 5,
   "id": "cross-nebraska",
   "metadata": {},
   "outputs": [
    {
     "data": {
      "text/html": [
       "<table>\n",
       "<thead><tr><th scope=col>NU_ANO</th><th scope=col>CO_IES</th><th scope=col>CO_CATEGAD</th><th scope=col>CO_ORGACAD</th><th scope=col>CO_GRUPO</th><th scope=col>CO_CURSO</th><th scope=col>CO_MODALIDADE</th><th scope=col>CO_MUNIC_CURSO</th><th scope=col>CO_UF_CURSO</th><th scope=col>CO_REGIAO_CURSO</th><th scope=col>...</th><th scope=col>QE_I59</th><th scope=col>QE_I60</th><th scope=col>QE_I61</th><th scope=col>QE_I62</th><th scope=col>QE_I63</th><th scope=col>QE_I64</th><th scope=col>QE_I65</th><th scope=col>QE_I66</th><th scope=col>QE_I67</th><th scope=col>QE_I68</th></tr></thead>\n",
       "<tbody>\n",
       "\t<tr><td>2018   </td><td>1356   </td><td>10003  </td><td>10020  </td><td>1      </td><td>47116  </td><td>1      </td><td>3546603</td><td>35     </td><td>3      </td><td>...    </td><td>6      </td><td>6      </td><td>6      </td><td>6      </td><td>6      </td><td>6      </td><td>6      </td><td>6      </td><td>6      </td><td>5      </td></tr>\n",
       "\t<tr><td>2018   </td><td>1356   </td><td>10003  </td><td>10020  </td><td>1      </td><td>47116  </td><td>1      </td><td>3546603</td><td>35     </td><td>3      </td><td>...    </td><td>6      </td><td>6      </td><td>6      </td><td>6      </td><td>6      </td><td>6      </td><td>6      </td><td>6      </td><td>6      </td><td>6      </td></tr>\n",
       "\t<tr><td>2018   </td><td>1356   </td><td>10003  </td><td>10020  </td><td>1      </td><td>47116  </td><td>1      </td><td>3546603</td><td>35     </td><td>3      </td><td>...    </td><td>6      </td><td>6      </td><td>6      </td><td>6      </td><td>6      </td><td>6      </td><td>6      </td><td>6      </td><td>6      </td><td>5      </td></tr>\n",
       "\t<tr><td>2018   </td><td>1356   </td><td>10003  </td><td>10020  </td><td>1      </td><td>47116  </td><td>1      </td><td>3546603</td><td>35     </td><td>3      </td><td>...    </td><td>6      </td><td>6      </td><td>6      </td><td>6      </td><td>5      </td><td>6      </td><td>6      </td><td>6      </td><td>6      </td><td>4      </td></tr>\n",
       "\t<tr><td>2018   </td><td>1356   </td><td>10003  </td><td>10020  </td><td>1      </td><td>47116  </td><td>1      </td><td>3546603</td><td>35     </td><td>3      </td><td>...    </td><td>6      </td><td>6      </td><td>6      </td><td>6      </td><td>6      </td><td>6      </td><td>6      </td><td>6      </td><td>6      </td><td>6      </td></tr>\n",
       "\t<tr><td>2018   </td><td>1356   </td><td>10003  </td><td>10020  </td><td>1      </td><td>47116  </td><td>1      </td><td>3546603</td><td>35     </td><td>3      </td><td>...    </td><td>6      </td><td>5      </td><td>6      </td><td>6      </td><td>6      </td><td>6      </td><td>6      </td><td>6      </td><td>6      </td><td>5      </td></tr>\n",
       "</tbody>\n",
       "</table>\n"
      ],
      "text/latex": [
       "\\begin{tabular}{r|lllllllllllllllllllllllllllllllllllllllllllllllllllllllllllllllllllllllllllllllllllllllllllllllllllllllllllllllllllllllllllllllllllllllll}\n",
       " NU\\_ANO & CO\\_IES & CO\\_CATEGAD & CO\\_ORGACAD & CO\\_GRUPO & CO\\_CURSO & CO\\_MODALIDADE & CO\\_MUNIC\\_CURSO & CO\\_UF\\_CURSO & CO\\_REGIAO\\_CURSO & ... & QE\\_I59 & QE\\_I60 & QE\\_I61 & QE\\_I62 & QE\\_I63 & QE\\_I64 & QE\\_I65 & QE\\_I66 & QE\\_I67 & QE\\_I68\\\\\n",
       "\\hline\n",
       "\t 2018    & 1356    & 10003   & 10020   & 1       & 47116   & 1       & 3546603 & 35      & 3       & ...     & 6       & 6       & 6       & 6       & 6       & 6       & 6       & 6       & 6       & 5      \\\\\n",
       "\t 2018    & 1356    & 10003   & 10020   & 1       & 47116   & 1       & 3546603 & 35      & 3       & ...     & 6       & 6       & 6       & 6       & 6       & 6       & 6       & 6       & 6       & 6      \\\\\n",
       "\t 2018    & 1356    & 10003   & 10020   & 1       & 47116   & 1       & 3546603 & 35      & 3       & ...     & 6       & 6       & 6       & 6       & 6       & 6       & 6       & 6       & 6       & 5      \\\\\n",
       "\t 2018    & 1356    & 10003   & 10020   & 1       & 47116   & 1       & 3546603 & 35      & 3       & ...     & 6       & 6       & 6       & 6       & 5       & 6       & 6       & 6       & 6       & 4      \\\\\n",
       "\t 2018    & 1356    & 10003   & 10020   & 1       & 47116   & 1       & 3546603 & 35      & 3       & ...     & 6       & 6       & 6       & 6       & 6       & 6       & 6       & 6       & 6       & 6      \\\\\n",
       "\t 2018    & 1356    & 10003   & 10020   & 1       & 47116   & 1       & 3546603 & 35      & 3       & ...     & 6       & 5       & 6       & 6       & 6       & 6       & 6       & 6       & 6       & 5      \\\\\n",
       "\\end{tabular}\n"
      ],
      "text/markdown": [
       "\n",
       "| NU_ANO | CO_IES | CO_CATEGAD | CO_ORGACAD | CO_GRUPO | CO_CURSO | CO_MODALIDADE | CO_MUNIC_CURSO | CO_UF_CURSO | CO_REGIAO_CURSO | ... | QE_I59 | QE_I60 | QE_I61 | QE_I62 | QE_I63 | QE_I64 | QE_I65 | QE_I66 | QE_I67 | QE_I68 |\n",
       "|---|---|---|---|---|---|---|---|---|---|---|---|---|---|---|---|---|---|---|---|---|\n",
       "| 2018    | 1356    | 10003   | 10020   | 1       | 47116   | 1       | 3546603 | 35      | 3       | ...     | 6       | 6       | 6       | 6       | 6       | 6       | 6       | 6       | 6       | 5       |\n",
       "| 2018    | 1356    | 10003   | 10020   | 1       | 47116   | 1       | 3546603 | 35      | 3       | ...     | 6       | 6       | 6       | 6       | 6       | 6       | 6       | 6       | 6       | 6       |\n",
       "| 2018    | 1356    | 10003   | 10020   | 1       | 47116   | 1       | 3546603 | 35      | 3       | ...     | 6       | 6       | 6       | 6       | 6       | 6       | 6       | 6       | 6       | 5       |\n",
       "| 2018    | 1356    | 10003   | 10020   | 1       | 47116   | 1       | 3546603 | 35      | 3       | ...     | 6       | 6       | 6       | 6       | 5       | 6       | 6       | 6       | 6       | 4       |\n",
       "| 2018    | 1356    | 10003   | 10020   | 1       | 47116   | 1       | 3546603 | 35      | 3       | ...     | 6       | 6       | 6       | 6       | 6       | 6       | 6       | 6       | 6       | 6       |\n",
       "| 2018    | 1356    | 10003   | 10020   | 1       | 47116   | 1       | 3546603 | 35      | 3       | ...     | 6       | 5       | 6       | 6       | 6       | 6       | 6       | 6       | 6       | 5       |\n",
       "\n"
      ],
      "text/plain": [
       "  NU_ANO CO_IES CO_CATEGAD CO_ORGACAD CO_GRUPO CO_CURSO CO_MODALIDADE\n",
       "1 2018   1356   10003      10020      1        47116    1            \n",
       "2 2018   1356   10003      10020      1        47116    1            \n",
       "3 2018   1356   10003      10020      1        47116    1            \n",
       "4 2018   1356   10003      10020      1        47116    1            \n",
       "5 2018   1356   10003      10020      1        47116    1            \n",
       "6 2018   1356   10003      10020      1        47116    1            \n",
       "  CO_MUNIC_CURSO CO_UF_CURSO CO_REGIAO_CURSO ... QE_I59 QE_I60 QE_I61 QE_I62\n",
       "1 3546603        35          3               ... 6      6      6      6     \n",
       "2 3546603        35          3               ... 6      6      6      6     \n",
       "3 3546603        35          3               ... 6      6      6      6     \n",
       "4 3546603        35          3               ... 6      6      6      6     \n",
       "5 3546603        35          3               ... 6      6      6      6     \n",
       "6 3546603        35          3               ... 6      5      6      6     \n",
       "  QE_I63 QE_I64 QE_I65 QE_I66 QE_I67 QE_I68\n",
       "1 6      6      6      6      6      5     \n",
       "2 6      6      6      6      6      6     \n",
       "3 6      6      6      6      6      5     \n",
       "4 5      6      6      6      6      4     \n",
       "5 6      6      6      6      6      6     \n",
       "6 6      6      6      6      6      5     "
      ]
     },
     "metadata": {},
     "output_type": "display_data"
    }
   ],
   "source": [
    "data = read.table(\"dataset/enade.txt\",sep=\";\", dec = \",\", header = TRUE)\n",
    "head(data)"
   ]
  },
  {
   "cell_type": "code",
   "execution_count": 6,
   "id": "natural-wrong",
   "metadata": {},
   "outputs": [
    {
     "data": {
      "text/html": [
       "<ol class=list-inline>\n",
       "\t<li>548127</li>\n",
       "\t<li>137</li>\n",
       "</ol>\n"
      ],
      "text/latex": [
       "\\begin{enumerate*}\n",
       "\\item 548127\n",
       "\\item 137\n",
       "\\end{enumerate*}\n"
      ],
      "text/markdown": [
       "1. 548127\n",
       "2. 137\n",
       "\n",
       "\n"
      ],
      "text/plain": [
       "[1] 548127    137"
      ]
     },
     "metadata": {},
     "output_type": "display_data"
    }
   ],
   "source": [
    "dim(data)"
   ]
  },
  {
   "cell_type": "markdown",
   "id": "perfect-slovakia",
   "metadata": {},
   "source": [
    "# Alunos de Ciências Econômicas que fizeram o Enade\n"
   ]
  },
  {
   "cell_type": "code",
   "execution_count": 48,
   "id": "imperial-creativity",
   "metadata": {
    "scrolled": true
   },
   "outputs": [
    {
     "data": {
      "text/html": [
       "<table>\n",
       "<thead><tr><th></th><th scope=col>NU_ANO</th><th scope=col>CO_IES</th><th scope=col>CO_CATEGAD</th><th scope=col>CO_ORGACAD</th><th scope=col>CO_GRUPO</th><th scope=col>CO_CURSO</th><th scope=col>CO_MODALIDADE</th><th scope=col>CO_MUNIC_CURSO</th><th scope=col>CO_UF_CURSO</th><th scope=col>CO_REGIAO_CURSO</th><th scope=col>...</th><th scope=col>QE_I59</th><th scope=col>QE_I60</th><th scope=col>QE_I61</th><th scope=col>QE_I62</th><th scope=col>QE_I63</th><th scope=col>QE_I64</th><th scope=col>QE_I65</th><th scope=col>QE_I66</th><th scope=col>QE_I67</th><th scope=col>QE_I68</th></tr></thead>\n",
       "<tbody>\n",
       "\t<tr><th scope=row>161</th><td>2018   </td><td>1780   </td><td>10008  </td><td>10022  </td><td>13     </td><td>81867  </td><td>1      </td><td>4309605</td><td>43     </td><td>4      </td><td>...    </td><td>6      </td><td>6      </td><td>6      </td><td>6      </td><td>6      </td><td>6      </td><td>6      </td><td>6      </td><td>6      </td><td>6      </td></tr>\n",
       "\t<tr><th scope=row>162</th><td>2018   </td><td>1780   </td><td>10008  </td><td>10022  </td><td>13     </td><td>81867  </td><td>1      </td><td>4309605</td><td>43     </td><td>4      </td><td>...    </td><td>6      </td><td>6      </td><td>6      </td><td>6      </td><td>6      </td><td>6      </td><td>6      </td><td>6      </td><td>6      </td><td>6      </td></tr>\n",
       "\t<tr><th scope=row>163</th><td>2018   </td><td>1780   </td><td>10008  </td><td>10022  </td><td>13     </td><td>81867  </td><td>1      </td><td>4309605</td><td>43     </td><td>4      </td><td>...    </td><td>6      </td><td>6      </td><td>6      </td><td>6      </td><td>6      </td><td>6      </td><td>6      </td><td>6      </td><td>6      </td><td>6      </td></tr>\n",
       "\t<tr><th scope=row>164</th><td>2018   </td><td>1780   </td><td>10008  </td><td>10022  </td><td>13     </td><td>81867  </td><td>1      </td><td>4309605</td><td>43     </td><td>4      </td><td>...    </td><td>6      </td><td>6      </td><td>6      </td><td>6      </td><td>6      </td><td>6      </td><td>6      </td><td>6      </td><td>6      </td><td>6      </td></tr>\n",
       "\t<tr><th scope=row>165</th><td>2018   </td><td>1780   </td><td>10008  </td><td>10022  </td><td>13     </td><td>81867  </td><td>1      </td><td>4309605</td><td>43     </td><td>4      </td><td>...    </td><td>6      </td><td>6      </td><td>6      </td><td>6      </td><td>6      </td><td>6      </td><td>6      </td><td>6      </td><td>6      </td><td>6      </td></tr>\n",
       "\t<tr><th scope=row>166</th><td>2018   </td><td>1780   </td><td>10008  </td><td>10022  </td><td>13     </td><td>81867  </td><td>1      </td><td>4309605</td><td>43     </td><td>4      </td><td>...    </td><td>6      </td><td>6      </td><td>6      </td><td>6      </td><td>6      </td><td>6      </td><td>6      </td><td>6      </td><td>6      </td><td>6      </td></tr>\n",
       "</tbody>\n",
       "</table>\n"
      ],
      "text/latex": [
       "\\begin{tabular}{r|lllllllllllllllllllllllllllllllllllllllllllllllllllllllllllllllllllllllllllllllllllllllllllllllllllllllllllllllllllllllllllllllllllllllll}\n",
       "  & NU\\_ANO & CO\\_IES & CO\\_CATEGAD & CO\\_ORGACAD & CO\\_GRUPO & CO\\_CURSO & CO\\_MODALIDADE & CO\\_MUNIC\\_CURSO & CO\\_UF\\_CURSO & CO\\_REGIAO\\_CURSO & ... & QE\\_I59 & QE\\_I60 & QE\\_I61 & QE\\_I62 & QE\\_I63 & QE\\_I64 & QE\\_I65 & QE\\_I66 & QE\\_I67 & QE\\_I68\\\\\n",
       "\\hline\n",
       "\t161 & 2018    & 1780    & 10008   & 10022   & 13      & 81867   & 1       & 4309605 & 43      & 4       & ...     & 6       & 6       & 6       & 6       & 6       & 6       & 6       & 6       & 6       & 6      \\\\\n",
       "\t162 & 2018    & 1780    & 10008   & 10022   & 13      & 81867   & 1       & 4309605 & 43      & 4       & ...     & 6       & 6       & 6       & 6       & 6       & 6       & 6       & 6       & 6       & 6      \\\\\n",
       "\t163 & 2018    & 1780    & 10008   & 10022   & 13      & 81867   & 1       & 4309605 & 43      & 4       & ...     & 6       & 6       & 6       & 6       & 6       & 6       & 6       & 6       & 6       & 6      \\\\\n",
       "\t164 & 2018    & 1780    & 10008   & 10022   & 13      & 81867   & 1       & 4309605 & 43      & 4       & ...     & 6       & 6       & 6       & 6       & 6       & 6       & 6       & 6       & 6       & 6      \\\\\n",
       "\t165 & 2018    & 1780    & 10008   & 10022   & 13      & 81867   & 1       & 4309605 & 43      & 4       & ...     & 6       & 6       & 6       & 6       & 6       & 6       & 6       & 6       & 6       & 6      \\\\\n",
       "\t166 & 2018    & 1780    & 10008   & 10022   & 13      & 81867   & 1       & 4309605 & 43      & 4       & ...     & 6       & 6       & 6       & 6       & 6       & 6       & 6       & 6       & 6       & 6      \\\\\n",
       "\\end{tabular}\n"
      ],
      "text/markdown": [
       "\n",
       "| <!--/--> | NU_ANO | CO_IES | CO_CATEGAD | CO_ORGACAD | CO_GRUPO | CO_CURSO | CO_MODALIDADE | CO_MUNIC_CURSO | CO_UF_CURSO | CO_REGIAO_CURSO | ... | QE_I59 | QE_I60 | QE_I61 | QE_I62 | QE_I63 | QE_I64 | QE_I65 | QE_I66 | QE_I67 | QE_I68 |\n",
       "|---|---|---|---|---|---|---|---|---|---|---|---|---|---|---|---|---|---|---|---|---|---|\n",
       "| 161 | 2018    | 1780    | 10008   | 10022   | 13      | 81867   | 1       | 4309605 | 43      | 4       | ...     | 6       | 6       | 6       | 6       | 6       | 6       | 6       | 6       | 6       | 6       |\n",
       "| 162 | 2018    | 1780    | 10008   | 10022   | 13      | 81867   | 1       | 4309605 | 43      | 4       | ...     | 6       | 6       | 6       | 6       | 6       | 6       | 6       | 6       | 6       | 6       |\n",
       "| 163 | 2018    | 1780    | 10008   | 10022   | 13      | 81867   | 1       | 4309605 | 43      | 4       | ...     | 6       | 6       | 6       | 6       | 6       | 6       | 6       | 6       | 6       | 6       |\n",
       "| 164 | 2018    | 1780    | 10008   | 10022   | 13      | 81867   | 1       | 4309605 | 43      | 4       | ...     | 6       | 6       | 6       | 6       | 6       | 6       | 6       | 6       | 6       | 6       |\n",
       "| 165 | 2018    | 1780    | 10008   | 10022   | 13      | 81867   | 1       | 4309605 | 43      | 4       | ...     | 6       | 6       | 6       | 6       | 6       | 6       | 6       | 6       | 6       | 6       |\n",
       "| 166 | 2018    | 1780    | 10008   | 10022   | 13      | 81867   | 1       | 4309605 | 43      | 4       | ...     | 6       | 6       | 6       | 6       | 6       | 6       | 6       | 6       | 6       | 6       |\n",
       "\n"
      ],
      "text/plain": [
       "    NU_ANO CO_IES CO_CATEGAD CO_ORGACAD CO_GRUPO CO_CURSO CO_MODALIDADE\n",
       "161 2018   1780   10008      10022      13       81867    1            \n",
       "162 2018   1780   10008      10022      13       81867    1            \n",
       "163 2018   1780   10008      10022      13       81867    1            \n",
       "164 2018   1780   10008      10022      13       81867    1            \n",
       "165 2018   1780   10008      10022      13       81867    1            \n",
       "166 2018   1780   10008      10022      13       81867    1            \n",
       "    CO_MUNIC_CURSO CO_UF_CURSO CO_REGIAO_CURSO ... QE_I59 QE_I60 QE_I61 QE_I62\n",
       "161 4309605        43          4               ... 6      6      6      6     \n",
       "162 4309605        43          4               ... 6      6      6      6     \n",
       "163 4309605        43          4               ... 6      6      6      6     \n",
       "164 4309605        43          4               ... 6      6      6      6     \n",
       "165 4309605        43          4               ... 6      6      6      6     \n",
       "166 4309605        43          4               ... 6      6      6      6     \n",
       "    QE_I63 QE_I64 QE_I65 QE_I66 QE_I67 QE_I68\n",
       "161 6      6      6      6      6      6     \n",
       "162 6      6      6      6      6      6     \n",
       "163 6      6      6      6      6      6     \n",
       "164 6      6      6      6      6      6     \n",
       "165 6      6      6      6      6      6     \n",
       "166 6      6      6      6      6      6     "
      ]
     },
     "metadata": {},
     "output_type": "display_data"
    },
    {
     "data": {
      "text/html": [
       "<ol class=list-inline>\n",
       "\t<li>8075</li>\n",
       "\t<li>137</li>\n",
       "</ol>\n"
      ],
      "text/latex": [
       "\\begin{enumerate*}\n",
       "\\item 8075\n",
       "\\item 137\n",
       "\\end{enumerate*}\n"
      ],
      "text/markdown": [
       "1. 8075\n",
       "2. 137\n",
       "\n",
       "\n"
      ],
      "text/plain": [
       "[1] 8075  137"
      ]
     },
     "metadata": {},
     "output_type": "display_data"
    }
   ],
   "source": [
    "df = data[data$CO_GRUPO == 13 & data$TP_PRES == 555,]\n",
    "head(df)\n",
    "dim(df)\n"
   ]
  },
  {
   "attachments": {},
   "cell_type": "markdown",
   "id": "funded-thread",
   "metadata": {},
   "source": [
    "# Variáveis de interesse\n",
    "### Ponderação: esforço, família, história, estrutura da universidade, sexo e raça\n",
    "* Notas Gerais = 45 NT_GER\n",
    "1. Sexo = 12 TP_SEXO\n",
    "2. Raça ou Cor = 71 QE_I02\n",
    "## Família\n",
    "3. Estado Civil = 70 QE_I01\n",
    "4. Escolaridade do pai = 73 QE_I04\n",
    "5. Escolaridade da mãe = 74 QE_I05\n",
    "6. Moradia = 75 QE_I06\n",
    "7. Quantas pessoas moram com o estudante = 76 74 QE_I07\n",
    "8. Renda total da família = 77 QE_I08\n",
    "9. Situação Financeira = 78 QE_I09\n",
    "10. Situação de Trabalho = 79 QE_I10\n",
    "11. Contemplado com bolsa = 80 QE_I11\n",
    "12. Se recebeu algum tipo de bolsa de permanência = 81 QE_I12\n",
    "13. Se recebeu algum tipo de bolsa acadêmica = 82 QE_I13\n",
    "14. Ingresso por meio de política de ação afirmativa ou inclusão social = 84 QE_I15\n",
    "15. Tipo de escola cursou o ensino médio = 86 QE_I17\n",
    "16. Modalidade de ensino = 87 QE_I18\n",
    "17. Incentivo = 88 QE_I19\n",
    "18. Grupo que ajudou a enfrentar dificuldades = 89 QE_I20\n",
    "19. Alguêm da família que concluiu o ensino superir = 90 QE_I21\n",
    "20. Quantidade de livros lido = 91 QE_I22\n",
    "21. Horas dedicadas as estudo = 92 QE_I23\n",
    "22. Motivo para ter escolhido a instituição de ensino = 94 QE_I25\n",
    "23. O curso ofereceu oportunidades para superar dificuldades = 109 QE_I40\n",
    "24. O curso exigiu organização e dedicação aos estudos = 111 QE_I42\n",
    "## Estrutura da universidade\n",
    "25. Metodologia de ensino = 98 QE_I29\n",
    "26. Plano de ensino = 107 QE_I38\n",
    "27. Coordenação = 110 QE_I41\n",
    "28. Enventos = 114 QE_I45 \n",
    "29. Domínio do conteúdo pelos professores = 126 QE_I57\n",
    "30. Tecnologia da informação TIC's = 127 QE_I58\n",
    "31. Quantidade de funcionários de apoio = 128 QE_I59\n",
    "32. Infraestrutura das salas = 130 QE_I61\n",
    "33. Equipamentos e materiais para aulas práticas em número suficiente = 131 QE_I62\n",
    "34. Ambientes e equipamentos para aulas práticas adequados = 132 QE_I63\n",
    "35. Biblioteca = 133 QE_I64\n",
    "36. Refeitorio, cantina e banheiros em condições adequadas = 137 QE_I68\n",
    "\n"
   ]
  },
  {
   "cell_type": "code",
   "execution_count": 49,
   "id": "monthly-float",
   "metadata": {},
   "outputs": [],
   "source": [
    "df = select(df, 45, 12, 71, 70, 73, 74, 75, 76, 77, 78, 79, 80, 81, 82, 84, 86, 87, 88, 89, 90, 91, 92, 94, 109, 111, 98, 107, 110, 114, 126, 127, 128, 130, 131, 132, 133, 137)"
   ]
  },
  {
   "cell_type": "code",
   "execution_count": 50,
   "id": "prepared-defeat",
   "metadata": {},
   "outputs": [
    {
     "data": {
      "text/html": [
       "<ol class=list-inline>\n",
       "\t<li>8075</li>\n",
       "\t<li>37</li>\n",
       "</ol>\n"
      ],
      "text/latex": [
       "\\begin{enumerate*}\n",
       "\\item 8075\n",
       "\\item 37\n",
       "\\end{enumerate*}\n"
      ],
      "text/markdown": [
       "1. 8075\n",
       "2. 37\n",
       "\n",
       "\n"
      ],
      "text/plain": [
       "[1] 8075   37"
      ]
     },
     "metadata": {},
     "output_type": "display_data"
    }
   ],
   "source": [
    "dim(df)"
   ]
  },
  {
   "cell_type": "code",
   "execution_count": 51,
   "id": "authentic-monster",
   "metadata": {},
   "outputs": [
    {
     "name": "stdout",
     "output_type": "stream",
     "text": [
      "'data.frame':\t8075 obs. of  37 variables:\n",
      " $ NT_GER : num  24.9 25.6 48.7 35.7 33.9 23.5 32.2 20.9 48.9 39.4 ...\n",
      " $ TP_SEXO: Factor w/ 2 levels \"F\",\"M\": 1 2 2 1 2 2 1 1 2 1 ...\n",
      " $ QE_I02 : Factor w/ 7 levels \"\",\"A\",\"B\",\"C\",..: 2 2 2 2 2 2 2 2 2 5 ...\n",
      " $ QE_I01 : Factor w/ 6 levels \"\",\"A\",\"B\",\"C\",..: 2 2 2 3 3 2 2 2 2 2 ...\n",
      " $ QE_I04 : Factor w/ 7 levels \"\",\"A\",\"B\",\"C\",..: 5 5 5 3 3 3 4 3 4 3 ...\n",
      " $ QE_I05 : Factor w/ 7 levels \"\",\"A\",\"B\",\"C\",..: 5 3 5 4 5 3 5 3 5 4 ...\n",
      " $ QE_I06 : Factor w/ 7 levels \"\",\"A\",\"B\",\"C\",..: 4 2 4 4 4 3 3 4 3 3 ...\n",
      " $ QE_I07 : Factor w/ 9 levels \"\",\"A\",\"B\",\"C\",..: 4 4 4 5 3 4 6 4 5 4 ...\n",
      " $ QE_I08 : Factor w/ 8 levels \"\",\"A\",\"B\",\"C\",..: 4 5 4 3 3 4 3 4 5 4 ...\n",
      " $ QE_I09 : Factor w/ 7 levels \"\",\"A\",\"B\",\"C\",..: 7 6 4 6 6 6 3 7 4 5 ...\n",
      " $ QE_I10 : Factor w/ 6 levels \"\",\"A\",\"B\",\"C\",..: 6 6 6 6 6 6 2 6 4 5 ...\n",
      " $ QE_I11 : Factor w/ 12 levels \"\",\"A\",\"B\",\"C\",..: 4 3 4 6 9 3 4 9 3 4 ...\n",
      " $ QE_I12 : Factor w/ 7 levels \"\",\"A\",\"B\",\"C\",..: 2 2 2 2 2 4 2 2 2 2 ...\n",
      " $ QE_I13 : Factor w/ 7 levels \"\",\"A\",\"B\",\"C\",..: 2 2 2 2 2 7 2 2 7 2 ...\n",
      " $ QE_I15 : Factor w/ 7 levels \"\",\"A\",\"B\",\"C\",..: 2 2 4 2 4 2 4 2 2 2 ...\n",
      " $ QE_I17 : Factor w/ 7 levels \"\",\"A\",\"B\",\"C\",..: 2 5 5 2 3 3 2 3 2 2 ...\n",
      " $ QE_I18 : Factor w/ 6 levels \"\",\"A\",\"B\",\"C\",..: 2 3 2 2 5 3 2 3 2 2 ...\n",
      " $ QE_I19 : Factor w/ 8 levels \"\",\"A\",\"B\",\"C\",..: 3 3 2 3 3 3 3 4 3 3 ...\n",
      " $ QE_I20 : Factor w/ 12 levels \"\",\"A\",\"B\",\"C\",..: 8 9 4 4 2 9 2 12 8 4 ...\n",
      " $ QE_I21 : Factor w/ 3 levels \"\",\"A\",\"B\": 3 2 3 2 2 3 3 2 2 3 ...\n",
      " $ QE_I22 : Factor w/ 6 levels \"\",\"A\",\"B\",\"C\",..: 4 4 5 3 6 4 6 4 4 3 ...\n",
      " $ QE_I23 : Factor w/ 6 levels \"\",\"A\",\"B\",\"C\",..: 4 3 4 3 4 4 6 4 6 3 ...\n",
      " $ QE_I25 : Factor w/ 9 levels \"\",\"A\",\"B\",\"C\",..: 4 4 4 4 2 2 6 4 6 2 ...\n",
      " $ QE_I40 : int  6 6 6 6 6 6 6 6 6 6 ...\n",
      " $ QE_I42 : int  6 6 6 6 6 6 6 6 6 6 ...\n",
      " $ QE_I29 : int  6 6 6 6 6 6 6 6 6 6 ...\n",
      " $ QE_I38 : int  6 6 6 6 6 6 6 6 6 6 ...\n",
      " $ QE_I41 : int  6 6 6 6 6 6 6 6 6 6 ...\n",
      " $ QE_I45 : int  6 6 6 6 6 6 6 6 6 6 ...\n",
      " $ QE_I57 : int  6 6 6 6 6 6 6 6 6 6 ...\n",
      " $ QE_I58 : int  6 6 6 6 6 6 6 6 6 6 ...\n",
      " $ QE_I59 : int  6 6 6 6 6 6 6 6 6 6 ...\n",
      " $ QE_I61 : int  6 6 6 6 6 6 6 6 6 6 ...\n",
      " $ QE_I62 : int  6 6 6 6 6 6 6 6 6 6 ...\n",
      " $ QE_I63 : int  6 6 6 6 6 6 6 6 6 6 ...\n",
      " $ QE_I64 : int  6 6 6 6 6 6 6 6 6 6 ...\n",
      " $ QE_I68 : int  6 6 6 6 6 6 6 6 6 6 ...\n"
     ]
    }
   ],
   "source": [
    "str(df)"
   ]
  },
  {
   "cell_type": "markdown",
   "id": "unable-surgery",
   "metadata": {},
   "source": [
    "# Valores ausentes"
   ]
  },
  {
   "cell_type": "code",
   "execution_count": 39,
   "id": "demanding-certificate",
   "metadata": {},
   "outputs": [
    {
     "data": {
      "text/html": [
       "<dl class=dl-horizontal>\n",
       "\t<dt>TP_SEXO</dt>\n",
       "\t\t<dd>0</dd>\n",
       "\t<dt>QE_I02</dt>\n",
       "\t\t<dd>0</dd>\n",
       "\t<dt>QE_I01</dt>\n",
       "\t\t<dd>0</dd>\n",
       "\t<dt>QE_I04</dt>\n",
       "\t\t<dd>0</dd>\n",
       "\t<dt>QE_I05</dt>\n",
       "\t\t<dd>0</dd>\n",
       "\t<dt>QE_I06</dt>\n",
       "\t\t<dd>0</dd>\n",
       "\t<dt>QE_I07</dt>\n",
       "\t\t<dd>0</dd>\n",
       "\t<dt>QE_I08</dt>\n",
       "\t\t<dd>0</dd>\n",
       "\t<dt>QE_I09</dt>\n",
       "\t\t<dd>0</dd>\n",
       "\t<dt>QE_I10</dt>\n",
       "\t\t<dd>0</dd>\n",
       "\t<dt>QE_I11</dt>\n",
       "\t\t<dd>0</dd>\n",
       "\t<dt>QE_I12</dt>\n",
       "\t\t<dd>0</dd>\n",
       "\t<dt>QE_I13</dt>\n",
       "\t\t<dd>0</dd>\n",
       "\t<dt>QE_I15</dt>\n",
       "\t\t<dd>0</dd>\n",
       "\t<dt>QE_I17</dt>\n",
       "\t\t<dd>0</dd>\n",
       "\t<dt>QE_I18</dt>\n",
       "\t\t<dd>0</dd>\n",
       "\t<dt>QE_I19</dt>\n",
       "\t\t<dd>0</dd>\n",
       "\t<dt>QE_I20</dt>\n",
       "\t\t<dd>0</dd>\n",
       "\t<dt>QE_I21</dt>\n",
       "\t\t<dd>0</dd>\n",
       "\t<dt>QE_I22</dt>\n",
       "\t\t<dd>0</dd>\n",
       "\t<dt>QE_I23</dt>\n",
       "\t\t<dd>0</dd>\n",
       "\t<dt>QE_I25</dt>\n",
       "\t\t<dd>0</dd>\n",
       "\t<dt>QE_I40</dt>\n",
       "\t\t<dd>435</dd>\n",
       "\t<dt>QE_I42</dt>\n",
       "\t\t<dd>103</dd>\n",
       "\t<dt>QE_I29</dt>\n",
       "\t\t<dd>101</dd>\n",
       "\t<dt>QE_I38</dt>\n",
       "\t\t<dd>128</dd>\n",
       "\t<dt>QE_I41</dt>\n",
       "\t\t<dd>217</dd>\n",
       "\t<dt>QE_I45</dt>\n",
       "\t\t<dd>267</dd>\n",
       "\t<dt>QE_I57</dt>\n",
       "\t\t<dd>99</dd>\n",
       "\t<dt>QE_I58</dt>\n",
       "\t\t<dd>180</dd>\n",
       "\t<dt>QE_I59</dt>\n",
       "\t\t<dd>267</dd>\n",
       "\t<dt>QE_I61</dt>\n",
       "\t\t<dd>139</dd>\n",
       "\t<dt>QE_I62</dt>\n",
       "\t\t<dd>1024</dd>\n",
       "\t<dt>QE_I63</dt>\n",
       "\t\t<dd>1273</dd>\n",
       "\t<dt>QE_I64</dt>\n",
       "\t\t<dd>210</dd>\n",
       "\t<dt>QE_I68</dt>\n",
       "\t\t<dd>199</dd>\n",
       "</dl>\n"
      ],
      "text/latex": [
       "\\begin{description*}\n",
       "\\item[TP\\textbackslash{}\\_SEXO] 0\n",
       "\\item[QE\\textbackslash{}\\_I02] 0\n",
       "\\item[QE\\textbackslash{}\\_I01] 0\n",
       "\\item[QE\\textbackslash{}\\_I04] 0\n",
       "\\item[QE\\textbackslash{}\\_I05] 0\n",
       "\\item[QE\\textbackslash{}\\_I06] 0\n",
       "\\item[QE\\textbackslash{}\\_I07] 0\n",
       "\\item[QE\\textbackslash{}\\_I08] 0\n",
       "\\item[QE\\textbackslash{}\\_I09] 0\n",
       "\\item[QE\\textbackslash{}\\_I10] 0\n",
       "\\item[QE\\textbackslash{}\\_I11] 0\n",
       "\\item[QE\\textbackslash{}\\_I12] 0\n",
       "\\item[QE\\textbackslash{}\\_I13] 0\n",
       "\\item[QE\\textbackslash{}\\_I15] 0\n",
       "\\item[QE\\textbackslash{}\\_I17] 0\n",
       "\\item[QE\\textbackslash{}\\_I18] 0\n",
       "\\item[QE\\textbackslash{}\\_I19] 0\n",
       "\\item[QE\\textbackslash{}\\_I20] 0\n",
       "\\item[QE\\textbackslash{}\\_I21] 0\n",
       "\\item[QE\\textbackslash{}\\_I22] 0\n",
       "\\item[QE\\textbackslash{}\\_I23] 0\n",
       "\\item[QE\\textbackslash{}\\_I25] 0\n",
       "\\item[QE\\textbackslash{}\\_I40] 435\n",
       "\\item[QE\\textbackslash{}\\_I42] 103\n",
       "\\item[QE\\textbackslash{}\\_I29] 101\n",
       "\\item[QE\\textbackslash{}\\_I38] 128\n",
       "\\item[QE\\textbackslash{}\\_I41] 217\n",
       "\\item[QE\\textbackslash{}\\_I45] 267\n",
       "\\item[QE\\textbackslash{}\\_I57] 99\n",
       "\\item[QE\\textbackslash{}\\_I58] 180\n",
       "\\item[QE\\textbackslash{}\\_I59] 267\n",
       "\\item[QE\\textbackslash{}\\_I61] 139\n",
       "\\item[QE\\textbackslash{}\\_I62] 1024\n",
       "\\item[QE\\textbackslash{}\\_I63] 1273\n",
       "\\item[QE\\textbackslash{}\\_I64] 210\n",
       "\\item[QE\\textbackslash{}\\_I68] 199\n",
       "\\end{description*}\n"
      ],
      "text/markdown": [
       "TP_SEXO\n",
       ":   0QE_I02\n",
       ":   0QE_I01\n",
       ":   0QE_I04\n",
       ":   0QE_I05\n",
       ":   0QE_I06\n",
       ":   0QE_I07\n",
       ":   0QE_I08\n",
       ":   0QE_I09\n",
       ":   0QE_I10\n",
       ":   0QE_I11\n",
       ":   0QE_I12\n",
       ":   0QE_I13\n",
       ":   0QE_I15\n",
       ":   0QE_I17\n",
       ":   0QE_I18\n",
       ":   0QE_I19\n",
       ":   0QE_I20\n",
       ":   0QE_I21\n",
       ":   0QE_I22\n",
       ":   0QE_I23\n",
       ":   0QE_I25\n",
       ":   0QE_I40\n",
       ":   435QE_I42\n",
       ":   103QE_I29\n",
       ":   101QE_I38\n",
       ":   128QE_I41\n",
       ":   217QE_I45\n",
       ":   267QE_I57\n",
       ":   99QE_I58\n",
       ":   180QE_I59\n",
       ":   267QE_I61\n",
       ":   139QE_I62\n",
       ":   1024QE_I63\n",
       ":   1273QE_I64\n",
       ":   210QE_I68\n",
       ":   199\n",
       "\n"
      ],
      "text/plain": [
       "TP_SEXO  QE_I02  QE_I01  QE_I04  QE_I05  QE_I06  QE_I07  QE_I08  QE_I09  QE_I10 \n",
       "      0       0       0       0       0       0       0       0       0       0 \n",
       " QE_I11  QE_I12  QE_I13  QE_I15  QE_I17  QE_I18  QE_I19  QE_I20  QE_I21  QE_I22 \n",
       "      0       0       0       0       0       0       0       0       0       0 \n",
       " QE_I23  QE_I25  QE_I40  QE_I42  QE_I29  QE_I38  QE_I41  QE_I45  QE_I57  QE_I58 \n",
       "      0       0     435     103     101     128     217     267      99     180 \n",
       " QE_I59  QE_I61  QE_I62  QE_I63  QE_I64  QE_I68 \n",
       "    267     139    1024    1273     210     199 "
      ]
     },
     "metadata": {},
     "output_type": "display_data"
    }
   ],
   "source": [
    "sapply(df, function(x) sum(is.na(x)))"
   ]
  },
  {
   "cell_type": "code",
   "execution_count": 21,
   "id": "broad-buying",
   "metadata": {},
   "outputs": [
    {
     "data": {
      "image/png": "[encoded data removed]",
      "text/plain": [
       "Plot with title \"Valores Missing Observados\""
      ]
     },
     "metadata": {},
     "output_type": "display_data"
    }
   ],
   "source": [
    "missmap(df, main=\"Valores Missing Observados\")"
   ]
  },
  {
   "cell_type": "code",
   "execution_count": null,
   "id": "bearing-mention",
   "metadata": {},
   "outputs": [],
   "source": []
  }
 ],
 "metadata": {
  "kernelspec": {
   "display_name": "R",
   "language": "R",
   "name": "ir"
  },
  "language_info": {
   "codemirror_mode": "r",
   "file_extension": ".r",
   "mimetype": "text/x-r-source",
   "name": "R",
   "pygments_lexer": "r",
   "version": "3.6.1"
  }
 },
 "nbformat": 4,
 "nbformat_minor": 5
}
