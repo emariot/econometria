{
 "cells": [
  {
   "cell_type": "markdown",
   "id": "recreational-person",
   "metadata": {},
   "source": [
    "# Regressão Linear Múltipla\n",
    "* Criar uma função de produção de educação dos cursos de economia no Brasil ou função de desempenho\n",
    "* Variáveis que traduzem características do aluno como: esforço, família, história, estrutura, sexo e cor\n",
    "*  É utilizada para controlar outros fatores que estejam relacionados à variável dependente: variável de interesse e variável de controle. \n",
    "* Busca da explicação da correlação entre as variáveis para explicar o desempenho dos alunos de economia do país.\n",
    "* Individuar a variável de interesse e controlar o conjunto de variáveis de controle de mesmo grupo, mantendo todo o resto constante. Isso mantêm as mesmas características.\n",
    "* Controlar outros fatores que estejam relacionados a variável de interesse. Caso contrário eles devem refletir no termo erro e resultar num padrão de comportamento que não esta nas variáveis independentes.\n",
    "> Problema: muitas das variáveis independentes podem ser correlacionadas entre si e resultar em  multicolinearidade.\n",
    "\n",
    "    > A multicolinearidade deixa o estimador ineficiente: ou seja, ele não é o estimador com a menor variância possível, a estatística T deve ficar menor, provavelmente regeitando a hipótese nula. Induzindo a multicolinearidade as estatísticas ficam menores, regeitando a hipótese nula por uma característica que não é do modelo e sim de das variáveis. \n",
    "    \n",
    "    > Testes ('F') para saber qual variável se adequa mais ao modelo. Talvez criar um avariável que tome conta de todas\n",
    "    \n",
    "* Hoje em dia é possível construir fatores para driblar o problema da multicolinearidade. \n",
    "* Vetores Ortogonais: Umvetor de variável não esta correlacionado com o outro (análise fatorial)\n",
    "* Construção de um índice utilizando todas as variáveis correlacionadas \n",
    "---\n",
    "1. Matriz de correlação entre as variáveis\n",
    "\n",
    "\n"
   ]
  },
  {
   "cell_type": "code",
   "execution_count": 3,
   "id": "acquired-enclosure",
   "metadata": {},
   "outputs": [],
   "source": [
    "library(dplyr)\n",
    "library(ggplot2)\n",
    "library(gplots)\n",
    "library(cowplot)\n",
    "library(graphics)\n",
    "library(lmtest)\n",
    "library(ggpubr)"
   ]
  },
  {
   "cell_type": "code",
   "execution_count": 4,
   "id": "presidential-packing",
   "metadata": {},
   "outputs": [],
   "source": [
    "library(Amelia)"
   ]
  },
  {
   "cell_type": "code",
   "execution_count": 221,
   "id": "democratic-hierarchy",
   "metadata": {},
   "outputs": [
    {
     "name": "stdout",
     "output_type": "stream",
     "text": [
      "package 'plyr' successfully unpacked and MD5 sums checked\n",
      "\n",
      "The downloaded binary packages are in\n",
      "\tC:\\Users\\Eduardo\\AppData\\Local\\Temp\\RtmpSgpgsh\\downloaded_packages\n"
     ]
    }
   ],
   "source": [
    "#install.packages('plyr')"
   ]
  },
  {
   "cell_type": "code",
   "execution_count": 6,
   "id": "ongoing-groove",
   "metadata": {},
   "outputs": [],
   "source": [
    "library(plyr)"
   ]
  },
  {
   "cell_type": "code",
   "execution_count": 8,
   "id": "mechanical-portfolio",
   "metadata": {},
   "outputs": [],
   "source": [
    "library(fastDummies)"
   ]
  },
  {
   "cell_type": "code",
   "execution_count": 10,
   "id": "faced-polyester",
   "metadata": {},
   "outputs": [],
   "source": [
    "library(corrgram)"
   ]
  },
  {
   "cell_type": "code",
   "execution_count": 11,
   "id": "cross-nebraska",
   "metadata": {},
   "outputs": [
    {
     "data": {
      "text/html": [
       "<table>\n",
       "<thead><tr><th scope=col>NU_ANO</th><th scope=col>CO_IES</th><th scope=col>CO_CATEGAD</th><th scope=col>CO_ORGACAD</th><th scope=col>CO_GRUPO</th><th scope=col>CO_CURSO</th><th scope=col>CO_MODALIDADE</th><th scope=col>CO_MUNIC_CURSO</th><th scope=col>CO_UF_CURSO</th><th scope=col>CO_REGIAO_CURSO</th><th scope=col>...</th><th scope=col>QE_I59</th><th scope=col>QE_I60</th><th scope=col>QE_I61</th><th scope=col>QE_I62</th><th scope=col>QE_I63</th><th scope=col>QE_I64</th><th scope=col>QE_I65</th><th scope=col>QE_I66</th><th scope=col>QE_I67</th><th scope=col>QE_I68</th></tr></thead>\n",
       "<tbody>\n",
       "\t<tr><td>2018   </td><td>1356   </td><td>10003  </td><td>10020  </td><td>1      </td><td>47116  </td><td>1      </td><td>3546603</td><td>35     </td><td>3      </td><td>...    </td><td>6      </td><td>6      </td><td>6      </td><td>6      </td><td>6      </td><td>6      </td><td>6      </td><td>6      </td><td>6      </td><td>5      </td></tr>\n",
       "\t<tr><td>2018   </td><td>1356   </td><td>10003  </td><td>10020  </td><td>1      </td><td>47116  </td><td>1      </td><td>3546603</td><td>35     </td><td>3      </td><td>...    </td><td>6      </td><td>6      </td><td>6      </td><td>6      </td><td>6      </td><td>6      </td><td>6      </td><td>6      </td><td>6      </td><td>6      </td></tr>\n",
       "\t<tr><td>2018   </td><td>1356   </td><td>10003  </td><td>10020  </td><td>1      </td><td>47116  </td><td>1      </td><td>3546603</td><td>35     </td><td>3      </td><td>...    </td><td>6      </td><td>6      </td><td>6      </td><td>6      </td><td>6      </td><td>6      </td><td>6      </td><td>6      </td><td>6      </td><td>5      </td></tr>\n",
       "\t<tr><td>2018   </td><td>1356   </td><td>10003  </td><td>10020  </td><td>1      </td><td>47116  </td><td>1      </td><td>3546603</td><td>35     </td><td>3      </td><td>...    </td><td>6      </td><td>6      </td><td>6      </td><td>6      </td><td>5      </td><td>6      </td><td>6      </td><td>6      </td><td>6      </td><td>4      </td></tr>\n",
       "\t<tr><td>2018   </td><td>1356   </td><td>10003  </td><td>10020  </td><td>1      </td><td>47116  </td><td>1      </td><td>3546603</td><td>35     </td><td>3      </td><td>...    </td><td>6      </td><td>6      </td><td>6      </td><td>6      </td><td>6      </td><td>6      </td><td>6      </td><td>6      </td><td>6      </td><td>6      </td></tr>\n",
       "\t<tr><td>2018   </td><td>1356   </td><td>10003  </td><td>10020  </td><td>1      </td><td>47116  </td><td>1      </td><td>3546603</td><td>35     </td><td>3      </td><td>...    </td><td>6      </td><td>5      </td><td>6      </td><td>6      </td><td>6      </td><td>6      </td><td>6      </td><td>6      </td><td>6      </td><td>5      </td></tr>\n",
       "</tbody>\n",
       "</table>\n"
      ],
      "text/latex": [
       "\\begin{tabular}{r|lllllllllllllllllllllllllllllllllllllllllllllllllllllllllllllllllllllllllllllllllllllllllllllllllllllllllllllllllllllllllllllllllllllllll}\n",
       " NU\\_ANO & CO\\_IES & CO\\_CATEGAD & CO\\_ORGACAD & CO\\_GRUPO & CO\\_CURSO & CO\\_MODALIDADE & CO\\_MUNIC\\_CURSO & CO\\_UF\\_CURSO & CO\\_REGIAO\\_CURSO & ... & QE\\_I59 & QE\\_I60 & QE\\_I61 & QE\\_I62 & QE\\_I63 & QE\\_I64 & QE\\_I65 & QE\\_I66 & QE\\_I67 & QE\\_I68\\\\\n",
       "\\hline\n",
       "\t 2018    & 1356    & 10003   & 10020   & 1       & 47116   & 1       & 3546603 & 35      & 3       & ...     & 6       & 6       & 6       & 6       & 6       & 6       & 6       & 6       & 6       & 5      \\\\\n",
       "\t 2018    & 1356    & 10003   & 10020   & 1       & 47116   & 1       & 3546603 & 35      & 3       & ...     & 6       & 6       & 6       & 6       & 6       & 6       & 6       & 6       & 6       & 6      \\\\\n",
       "\t 2018    & 1356    & 10003   & 10020   & 1       & 47116   & 1       & 3546603 & 35      & 3       & ...     & 6       & 6       & 6       & 6       & 6       & 6       & 6       & 6       & 6       & 5      \\\\\n",
       "\t 2018    & 1356    & 10003   & 10020   & 1       & 47116   & 1       & 3546603 & 35      & 3       & ...     & 6       & 6       & 6       & 6       & 5       & 6       & 6       & 6       & 6       & 4      \\\\\n",
       "\t 2018    & 1356    & 10003   & 10020   & 1       & 47116   & 1       & 3546603 & 35      & 3       & ...     & 6       & 6       & 6       & 6       & 6       & 6       & 6       & 6       & 6       & 6      \\\\\n",
       "\t 2018    & 1356    & 10003   & 10020   & 1       & 47116   & 1       & 3546603 & 35      & 3       & ...     & 6       & 5       & 6       & 6       & 6       & 6       & 6       & 6       & 6       & 5      \\\\\n",
       "\\end{tabular}\n"
      ],
      "text/markdown": [
       "\n",
       "| NU_ANO | CO_IES | CO_CATEGAD | CO_ORGACAD | CO_GRUPO | CO_CURSO | CO_MODALIDADE | CO_MUNIC_CURSO | CO_UF_CURSO | CO_REGIAO_CURSO | ... | QE_I59 | QE_I60 | QE_I61 | QE_I62 | QE_I63 | QE_I64 | QE_I65 | QE_I66 | QE_I67 | QE_I68 |\n",
       "|---|---|---|---|---|---|---|---|---|---|---|---|---|---|---|---|---|---|---|---|---|\n",
       "| 2018    | 1356    | 10003   | 10020   | 1       | 47116   | 1       | 3546603 | 35      | 3       | ...     | 6       | 6       | 6       | 6       | 6       | 6       | 6       | 6       | 6       | 5       |\n",
       "| 2018    | 1356    | 10003   | 10020   | 1       | 47116   | 1       | 3546603 | 35      | 3       | ...     | 6       | 6       | 6       | 6       | 6       | 6       | 6       | 6       | 6       | 6       |\n",
       "| 2018    | 1356    | 10003   | 10020   | 1       | 47116   | 1       | 3546603 | 35      | 3       | ...     | 6       | 6       | 6       | 6       | 6       | 6       | 6       | 6       | 6       | 5       |\n",
       "| 2018    | 1356    | 10003   | 10020   | 1       | 47116   | 1       | 3546603 | 35      | 3       | ...     | 6       | 6       | 6       | 6       | 5       | 6       | 6       | 6       | 6       | 4       |\n",
       "| 2018    | 1356    | 10003   | 10020   | 1       | 47116   | 1       | 3546603 | 35      | 3       | ...     | 6       | 6       | 6       | 6       | 6       | 6       | 6       | 6       | 6       | 6       |\n",
       "| 2018    | 1356    | 10003   | 10020   | 1       | 47116   | 1       | 3546603 | 35      | 3       | ...     | 6       | 5       | 6       | 6       | 6       | 6       | 6       | 6       | 6       | 5       |\n",
       "\n"
      ],
      "text/plain": [
       "  NU_ANO CO_IES CO_CATEGAD CO_ORGACAD CO_GRUPO CO_CURSO CO_MODALIDADE\n",
       "1 2018   1356   10003      10020      1        47116    1            \n",
       "2 2018   1356   10003      10020      1        47116    1            \n",
       "3 2018   1356   10003      10020      1        47116    1            \n",
       "4 2018   1356   10003      10020      1        47116    1            \n",
       "5 2018   1356   10003      10020      1        47116    1            \n",
       "6 2018   1356   10003      10020      1        47116    1            \n",
       "  CO_MUNIC_CURSO CO_UF_CURSO CO_REGIAO_CURSO ... QE_I59 QE_I60 QE_I61 QE_I62\n",
       "1 3546603        35          3               ... 6      6      6      6     \n",
       "2 3546603        35          3               ... 6      6      6      6     \n",
       "3 3546603        35          3               ... 6      6      6      6     \n",
       "4 3546603        35          3               ... 6      6      6      6     \n",
       "5 3546603        35          3               ... 6      6      6      6     \n",
       "6 3546603        35          3               ... 6      5      6      6     \n",
       "  QE_I63 QE_I64 QE_I65 QE_I66 QE_I67 QE_I68\n",
       "1 6      6      6      6      6      5     \n",
       "2 6      6      6      6      6      6     \n",
       "3 6      6      6      6      6      5     \n",
       "4 5      6      6      6      6      4     \n",
       "5 6      6      6      6      6      6     \n",
       "6 6      6      6      6      6      5     "
      ]
     },
     "metadata": {},
     "output_type": "display_data"
    }
   ],
   "source": [
    "data = read.table(\"dataset/enade.txt\",sep=\";\", dec = \",\", header = TRUE, stringsAsFactors = FALSE)\n",
    "head(data)"
   ]
  },
  {
   "cell_type": "code",
   "execution_count": 12,
   "id": "natural-wrong",
   "metadata": {},
   "outputs": [
    {
     "data": {
      "text/html": [
       "<ol class=list-inline>\n",
       "\t<li>548127</li>\n",
       "\t<li>137</li>\n",
       "</ol>\n"
      ],
      "text/latex": [
       "\\begin{enumerate*}\n",
       "\\item 548127\n",
       "\\item 137\n",
       "\\end{enumerate*}\n"
      ],
      "text/markdown": [
       "1. 548127\n",
       "2. 137\n",
       "\n",
       "\n"
      ],
      "text/plain": [
       "[1] 548127    137"
      ]
     },
     "metadata": {},
     "output_type": "display_data"
    }
   ],
   "source": [
    "dim(data)"
   ]
  },
  {
   "cell_type": "markdown",
   "id": "perfect-slovakia",
   "metadata": {},
   "source": [
    "# Alunos de Ciências Econômicas que fizeram o Enade\n"
   ]
  },
  {
   "cell_type": "code",
   "execution_count": 13,
   "id": "imperial-creativity",
   "metadata": {
    "scrolled": true
   },
   "outputs": [
    {
     "data": {
      "text/html": [
       "<table>\n",
       "<thead><tr><th></th><th scope=col>NU_ANO</th><th scope=col>CO_IES</th><th scope=col>CO_CATEGAD</th><th scope=col>CO_ORGACAD</th><th scope=col>CO_GRUPO</th><th scope=col>CO_CURSO</th><th scope=col>CO_MODALIDADE</th><th scope=col>CO_MUNIC_CURSO</th><th scope=col>CO_UF_CURSO</th><th scope=col>CO_REGIAO_CURSO</th><th scope=col>...</th><th scope=col>QE_I59</th><th scope=col>QE_I60</th><th scope=col>QE_I61</th><th scope=col>QE_I62</th><th scope=col>QE_I63</th><th scope=col>QE_I64</th><th scope=col>QE_I65</th><th scope=col>QE_I66</th><th scope=col>QE_I67</th><th scope=col>QE_I68</th></tr></thead>\n",
       "<tbody>\n",
       "\t<tr><th scope=row>161</th><td>2018   </td><td>1780   </td><td>10008  </td><td>10022  </td><td>13     </td><td>81867  </td><td>1      </td><td>4309605</td><td>43     </td><td>4      </td><td>...    </td><td>6      </td><td>6      </td><td>6      </td><td>6      </td><td>6      </td><td>6      </td><td>6      </td><td>6      </td><td>6      </td><td>6      </td></tr>\n",
       "\t<tr><th scope=row>162</th><td>2018   </td><td>1780   </td><td>10008  </td><td>10022  </td><td>13     </td><td>81867  </td><td>1      </td><td>4309605</td><td>43     </td><td>4      </td><td>...    </td><td>6      </td><td>6      </td><td>6      </td><td>6      </td><td>6      </td><td>6      </td><td>6      </td><td>6      </td><td>6      </td><td>6      </td></tr>\n",
       "\t<tr><th scope=row>163</th><td>2018   </td><td>1780   </td><td>10008  </td><td>10022  </td><td>13     </td><td>81867  </td><td>1      </td><td>4309605</td><td>43     </td><td>4      </td><td>...    </td><td>6      </td><td>6      </td><td>6      </td><td>6      </td><td>6      </td><td>6      </td><td>6      </td><td>6      </td><td>6      </td><td>6      </td></tr>\n",
       "\t<tr><th scope=row>164</th><td>2018   </td><td>1780   </td><td>10008  </td><td>10022  </td><td>13     </td><td>81867  </td><td>1      </td><td>4309605</td><td>43     </td><td>4      </td><td>...    </td><td>6      </td><td>6      </td><td>6      </td><td>6      </td><td>6      </td><td>6      </td><td>6      </td><td>6      </td><td>6      </td><td>6      </td></tr>\n",
       "\t<tr><th scope=row>165</th><td>2018   </td><td>1780   </td><td>10008  </td><td>10022  </td><td>13     </td><td>81867  </td><td>1      </td><td>4309605</td><td>43     </td><td>4      </td><td>...    </td><td>6      </td><td>6      </td><td>6      </td><td>6      </td><td>6      </td><td>6      </td><td>6      </td><td>6      </td><td>6      </td><td>6      </td></tr>\n",
       "\t<tr><th scope=row>166</th><td>2018   </td><td>1780   </td><td>10008  </td><td>10022  </td><td>13     </td><td>81867  </td><td>1      </td><td>4309605</td><td>43     </td><td>4      </td><td>...    </td><td>6      </td><td>6      </td><td>6      </td><td>6      </td><td>6      </td><td>6      </td><td>6      </td><td>6      </td><td>6      </td><td>6      </td></tr>\n",
       "</tbody>\n",
       "</table>\n"
      ],
      "text/latex": [
       "\\begin{tabular}{r|lllllllllllllllllllllllllllllllllllllllllllllllllllllllllllllllllllllllllllllllllllllllllllllllllllllllllllllllllllllllllllllllllllllllll}\n",
       "  & NU\\_ANO & CO\\_IES & CO\\_CATEGAD & CO\\_ORGACAD & CO\\_GRUPO & CO\\_CURSO & CO\\_MODALIDADE & CO\\_MUNIC\\_CURSO & CO\\_UF\\_CURSO & CO\\_REGIAO\\_CURSO & ... & QE\\_I59 & QE\\_I60 & QE\\_I61 & QE\\_I62 & QE\\_I63 & QE\\_I64 & QE\\_I65 & QE\\_I66 & QE\\_I67 & QE\\_I68\\\\\n",
       "\\hline\n",
       "\t161 & 2018    & 1780    & 10008   & 10022   & 13      & 81867   & 1       & 4309605 & 43      & 4       & ...     & 6       & 6       & 6       & 6       & 6       & 6       & 6       & 6       & 6       & 6      \\\\\n",
       "\t162 & 2018    & 1780    & 10008   & 10022   & 13      & 81867   & 1       & 4309605 & 43      & 4       & ...     & 6       & 6       & 6       & 6       & 6       & 6       & 6       & 6       & 6       & 6      \\\\\n",
       "\t163 & 2018    & 1780    & 10008   & 10022   & 13      & 81867   & 1       & 4309605 & 43      & 4       & ...     & 6       & 6       & 6       & 6       & 6       & 6       & 6       & 6       & 6       & 6      \\\\\n",
       "\t164 & 2018    & 1780    & 10008   & 10022   & 13      & 81867   & 1       & 4309605 & 43      & 4       & ...     & 6       & 6       & 6       & 6       & 6       & 6       & 6       & 6       & 6       & 6      \\\\\n",
       "\t165 & 2018    & 1780    & 10008   & 10022   & 13      & 81867   & 1       & 4309605 & 43      & 4       & ...     & 6       & 6       & 6       & 6       & 6       & 6       & 6       & 6       & 6       & 6      \\\\\n",
       "\t166 & 2018    & 1780    & 10008   & 10022   & 13      & 81867   & 1       & 4309605 & 43      & 4       & ...     & 6       & 6       & 6       & 6       & 6       & 6       & 6       & 6       & 6       & 6      \\\\\n",
       "\\end{tabular}\n"
      ],
      "text/markdown": [
       "\n",
       "| <!--/--> | NU_ANO | CO_IES | CO_CATEGAD | CO_ORGACAD | CO_GRUPO | CO_CURSO | CO_MODALIDADE | CO_MUNIC_CURSO | CO_UF_CURSO | CO_REGIAO_CURSO | ... | QE_I59 | QE_I60 | QE_I61 | QE_I62 | QE_I63 | QE_I64 | QE_I65 | QE_I66 | QE_I67 | QE_I68 |\n",
       "|---|---|---|---|---|---|---|---|---|---|---|---|---|---|---|---|---|---|---|---|---|---|\n",
       "| 161 | 2018    | 1780    | 10008   | 10022   | 13      | 81867   | 1       | 4309605 | 43      | 4       | ...     | 6       | 6       | 6       | 6       | 6       | 6       | 6       | 6       | 6       | 6       |\n",
       "| 162 | 2018    | 1780    | 10008   | 10022   | 13      | 81867   | 1       | 4309605 | 43      | 4       | ...     | 6       | 6       | 6       | 6       | 6       | 6       | 6       | 6       | 6       | 6       |\n",
       "| 163 | 2018    | 1780    | 10008   | 10022   | 13      | 81867   | 1       | 4309605 | 43      | 4       | ...     | 6       | 6       | 6       | 6       | 6       | 6       | 6       | 6       | 6       | 6       |\n",
       "| 164 | 2018    | 1780    | 10008   | 10022   | 13      | 81867   | 1       | 4309605 | 43      | 4       | ...     | 6       | 6       | 6       | 6       | 6       | 6       | 6       | 6       | 6       | 6       |\n",
       "| 165 | 2018    | 1780    | 10008   | 10022   | 13      | 81867   | 1       | 4309605 | 43      | 4       | ...     | 6       | 6       | 6       | 6       | 6       | 6       | 6       | 6       | 6       | 6       |\n",
       "| 166 | 2018    | 1780    | 10008   | 10022   | 13      | 81867   | 1       | 4309605 | 43      | 4       | ...     | 6       | 6       | 6       | 6       | 6       | 6       | 6       | 6       | 6       | 6       |\n",
       "\n"
      ],
      "text/plain": [
       "    NU_ANO CO_IES CO_CATEGAD CO_ORGACAD CO_GRUPO CO_CURSO CO_MODALIDADE\n",
       "161 2018   1780   10008      10022      13       81867    1            \n",
       "162 2018   1780   10008      10022      13       81867    1            \n",
       "163 2018   1780   10008      10022      13       81867    1            \n",
       "164 2018   1780   10008      10022      13       81867    1            \n",
       "165 2018   1780   10008      10022      13       81867    1            \n",
       "166 2018   1780   10008      10022      13       81867    1            \n",
       "    CO_MUNIC_CURSO CO_UF_CURSO CO_REGIAO_CURSO ... QE_I59 QE_I60 QE_I61 QE_I62\n",
       "161 4309605        43          4               ... 6      6      6      6     \n",
       "162 4309605        43          4               ... 6      6      6      6     \n",
       "163 4309605        43          4               ... 6      6      6      6     \n",
       "164 4309605        43          4               ... 6      6      6      6     \n",
       "165 4309605        43          4               ... 6      6      6      6     \n",
       "166 4309605        43          4               ... 6      6      6      6     \n",
       "    QE_I63 QE_I64 QE_I65 QE_I66 QE_I67 QE_I68\n",
       "161 6      6      6      6      6      6     \n",
       "162 6      6      6      6      6      6     \n",
       "163 6      6      6      6      6      6     \n",
       "164 6      6      6      6      6      6     \n",
       "165 6      6      6      6      6      6     \n",
       "166 6      6      6      6      6      6     "
      ]
     },
     "metadata": {},
     "output_type": "display_data"
    },
    {
     "data": {
      "text/html": [
       "<ol class=list-inline>\n",
       "\t<li>8075</li>\n",
       "\t<li>137</li>\n",
       "</ol>\n"
      ],
      "text/latex": [
       "\\begin{enumerate*}\n",
       "\\item 8075\n",
       "\\item 137\n",
       "\\end{enumerate*}\n"
      ],
      "text/markdown": [
       "1. 8075\n",
       "2. 137\n",
       "\n",
       "\n"
      ],
      "text/plain": [
       "[1] 8075  137"
      ]
     },
     "metadata": {},
     "output_type": "display_data"
    }
   ],
   "source": [
    "df = data[data$CO_GRUPO == 13 & data$TP_PRES == 555,]\n",
    "head(df)\n",
    "dim(df)\n"
   ]
  },
  {
   "cell_type": "markdown",
   "id": "funded-thread",
   "metadata": {},
   "source": [
    "# Variáveis de interesse\n",
    "### Ponderação: esforço, família, história, estrutura da universidade, sexo e raça\n",
    "* Notas Gerais = 45 NT_GER\n",
    "1. Sexo = 12 TP_SEXO\n",
    "2. Raça ou Cor = 71 QE_I02\n",
    "## Família\n",
    "3. Estado Civil = 70 QE_I01\n",
    "4. Escolaridade do pai = 73 QE_I04\n",
    "5. Escolaridade da mãe = 74 QE_I05\n",
    "6. Moradia = 75 QE_I06\n",
    "7. Quantas pessoas moram com o estudante = 76 74 QE_I07\n",
    "8. Renda total da família = 77 QE_I08\n",
    "9. Situação Financeira = 78 QE_I09\n",
    "10. Situação de Trabalho = 79 QE_I10\n",
    "11. Contemplado com bolsa = 80 QE_I11\n",
    "12. Se recebeu algum tipo de bolsa de permanência = 81 QE_I12\n",
    "13. Se recebeu algum tipo de bolsa acadêmica = 82 QE_I13\n",
    "14. Ingresso por meio de política de ação afirmativa ou inclusão social = 84 QE_I15\n",
    "15. Tipo de escola cursou o ensino médio = 86 QE_I17\n",
    "16. Modalidade de ensino = 87 QE_I18\n",
    "17. Incentivo = 88 QE_I19\n",
    "18. Grupo que ajudou a enfrentar dificuldades = 89 QE_I20\n",
    "19. Alguêm da família que concluiu o ensino superir = 90 QE_I21\n",
    "20. Quantidade de livros lido = 91 QE_I22\n",
    "21. Horas dedicadas as estudo = 92 QE_I23\n",
    "22. Motivo para ter escolhido a instituição de ensino = 94 QE_I25\n",
    "23. O curso ofereceu oportunidades para superar dificuldades = 109 QE_I40\n",
    "24. O curso exigiu organização e dedicação aos estudos = 111 QE_I42\n",
    "## Estrutura da universidade\n",
    "25. Metodologia de ensino = 98 QE_I29\n",
    "26. Plano de ensino = 107 QE_I38\n",
    "27. Coordenação = 110 QE_I41\n",
    "28. Enventos = 114 QE_I45 \n",
    "29. Domínio do conteúdo pelos professores = 126 QE_I57\n",
    "30. Tecnologia da informação TIC's = 127 QE_I58\n",
    "31. Quantidade de funcionários de apoio = 128 QE_I59\n",
    "32. Infraestrutura das salas = 130 QE_I61\n",
    "33. Equipamentos e materiais para aulas práticas em número suficiente = 131 QE_I62\n",
    "34. Ambientes e equipamentos para aulas práticas adequados = 132 QE_I63\n",
    "35. Biblioteca = 133 QE_I64\n",
    "36. Refeitorio, cantina e banheiros em condições adequadas = 137 QE_I68\n",
    "\n"
   ]
  },
  {
   "cell_type": "code",
   "execution_count": 14,
   "id": "monthly-float",
   "metadata": {},
   "outputs": [],
   "source": [
    "df = select(df, 45, 12, 71, 70, 73, 74, 75, 76, 77, 78, 79, 80, 81, 82, 84, 86, 87, 88, 89, 90, 91, 92, 94, 109, 111, 98, 107, 110, 114, 126, 127, 128, 130, 131, 132, 133, 137)"
   ]
  },
  {
   "cell_type": "code",
   "execution_count": 15,
   "id": "prepared-defeat",
   "metadata": {},
   "outputs": [
    {
     "data": {
      "text/html": [
       "<ol class=list-inline>\n",
       "\t<li>8075</li>\n",
       "\t<li>37</li>\n",
       "</ol>\n"
      ],
      "text/latex": [
       "\\begin{enumerate*}\n",
       "\\item 8075\n",
       "\\item 37\n",
       "\\end{enumerate*}\n"
      ],
      "text/markdown": [
       "1. 8075\n",
       "2. 37\n",
       "\n",
       "\n"
      ],
      "text/plain": [
       "[1] 8075   37"
      ]
     },
     "metadata": {},
     "output_type": "display_data"
    }
   ],
   "source": [
    "dim(df)"
   ]
  },
  {
   "cell_type": "code",
   "execution_count": 35,
   "id": "authentic-monster",
   "metadata": {},
   "outputs": [
    {
     "name": "stdout",
     "output_type": "stream",
     "text": [
      "'data.frame':\t8022 obs. of  37 variables:\n",
      " $ NT_GER : num  24.9 25.6 48.7 35.7 33.9 23.5 32.2 20.9 48.9 39.4 ...\n",
      " $ TP_SEXO: chr  \"F\" \"M\" \"M\" \"F\" ...\n",
      " $ QE_I02 : chr  \"A\" \"A\" \"A\" \"A\" ...\n",
      " $ QE_I01 : chr  \"A\" \"A\" \"A\" \"B\" ...\n",
      " $ QE_I04 : chr  \"D\" \"D\" \"D\" \"B\" ...\n",
      " $ QE_I05 : chr  \"D\" \"B\" \"D\" \"C\" ...\n",
      " $ QE_I06 : chr  \"C\" \"A\" \"C\" \"C\" ...\n",
      " $ QE_I07 : chr  \"C\" \"C\" \"C\" \"D\" ...\n",
      " $ QE_I08 : chr  \"C\" \"D\" \"C\" \"B\" ...\n",
      " $ QE_I09 : chr  \"F\" \"E\" \"C\" \"E\" ...\n",
      " $ QE_I10 : chr  \"E\" \"E\" \"E\" \"E\" ...\n",
      " $ QE_I11 : chr  \"C\" \"B\" \"C\" \"E\" ...\n",
      " $ QE_I12 : chr  \"A\" \"A\" \"A\" \"A\" ...\n",
      " $ QE_I13 : chr  \"A\" \"A\" \"A\" \"A\" ...\n",
      " $ QE_I15 : chr  \"A\" \"A\" \"C\" \"A\" ...\n",
      " $ QE_I17 : chr  \"A\" \"D\" \"D\" \"A\" ...\n",
      " $ QE_I18 : chr  \"A\" \"B\" \"A\" \"A\" ...\n",
      " $ QE_I19 : chr  \"B\" \"B\" \"A\" \"B\" ...\n",
      " $ QE_I20 : chr  \"G\" \"H\" \"C\" \"C\" ...\n",
      " $ QE_I21 : chr  \"B\" \"A\" \"B\" \"A\" ...\n",
      " $ QE_I22 : chr  \"C\" \"C\" \"D\" \"B\" ...\n",
      " $ QE_I23 : chr  \"C\" \"B\" \"C\" \"B\" ...\n",
      " $ QE_I25 : chr  \"C\" \"C\" \"C\" \"C\" ...\n",
      " $ QE_I40 : int  6 6 6 6 6 6 6 6 6 6 ...\n",
      " $ QE_I42 : int  6 6 6 6 6 6 6 6 6 6 ...\n",
      " $ QE_I29 : int  6 6 6 6 6 6 6 6 6 6 ...\n",
      " $ QE_I38 : int  6 6 6 6 6 6 6 6 6 6 ...\n",
      " $ QE_I41 : int  6 6 6 6 6 6 6 6 6 6 ...\n",
      " $ QE_I45 : int  6 6 6 6 6 6 6 6 6 6 ...\n",
      " $ QE_I57 : int  6 6 6 6 6 6 6 6 6 6 ...\n",
      " $ QE_I58 : int  6 6 6 6 6 6 6 6 6 6 ...\n",
      " $ QE_I59 : int  6 6 6 6 6 6 6 6 6 6 ...\n",
      " $ QE_I61 : int  6 6 6 6 6 6 6 6 6 6 ...\n",
      " $ QE_I62 : int  6 6 6 6 6 6 6 6 6 6 ...\n",
      " $ QE_I63 : int  6 6 6 6 6 6 6 6 6 6 ...\n",
      " $ QE_I64 : int  6 6 6 6 6 6 6 6 6 6 ...\n",
      " $ QE_I68 : int  6 6 6 6 6 6 6 6 6 6 ...\n"
     ]
    }
   ],
   "source": [
    "str(df)"
   ]
  },
  {
   "cell_type": "markdown",
   "id": "unable-surgery",
   "metadata": {},
   "source": [
    "# Valores ausentes"
   ]
  },
  {
   "cell_type": "code",
   "execution_count": 17,
   "id": "demanding-certificate",
   "metadata": {},
   "outputs": [
    {
     "data": {
      "text/html": [
       "<dl class=dl-horizontal>\n",
       "\t<dt>NT_GER</dt>\n",
       "\t\t<dd>4</dd>\n",
       "\t<dt>TP_SEXO</dt>\n",
       "\t\t<dd>0</dd>\n",
       "\t<dt>QE_I02</dt>\n",
       "\t\t<dd>0</dd>\n",
       "\t<dt>QE_I01</dt>\n",
       "\t\t<dd>0</dd>\n",
       "\t<dt>QE_I04</dt>\n",
       "\t\t<dd>0</dd>\n",
       "\t<dt>QE_I05</dt>\n",
       "\t\t<dd>0</dd>\n",
       "\t<dt>QE_I06</dt>\n",
       "\t\t<dd>0</dd>\n",
       "\t<dt>QE_I07</dt>\n",
       "\t\t<dd>0</dd>\n",
       "\t<dt>QE_I08</dt>\n",
       "\t\t<dd>0</dd>\n",
       "\t<dt>QE_I09</dt>\n",
       "\t\t<dd>0</dd>\n",
       "\t<dt>QE_I10</dt>\n",
       "\t\t<dd>0</dd>\n",
       "\t<dt>QE_I11</dt>\n",
       "\t\t<dd>0</dd>\n",
       "\t<dt>QE_I12</dt>\n",
       "\t\t<dd>0</dd>\n",
       "\t<dt>QE_I13</dt>\n",
       "\t\t<dd>0</dd>\n",
       "\t<dt>QE_I15</dt>\n",
       "\t\t<dd>0</dd>\n",
       "\t<dt>QE_I17</dt>\n",
       "\t\t<dd>0</dd>\n",
       "\t<dt>QE_I18</dt>\n",
       "\t\t<dd>0</dd>\n",
       "\t<dt>QE_I19</dt>\n",
       "\t\t<dd>0</dd>\n",
       "\t<dt>QE_I20</dt>\n",
       "\t\t<dd>0</dd>\n",
       "\t<dt>QE_I21</dt>\n",
       "\t\t<dd>0</dd>\n",
       "\t<dt>QE_I22</dt>\n",
       "\t\t<dd>0</dd>\n",
       "\t<dt>QE_I23</dt>\n",
       "\t\t<dd>0</dd>\n",
       "\t<dt>QE_I25</dt>\n",
       "\t\t<dd>0</dd>\n",
       "\t<dt>QE_I40</dt>\n",
       "\t\t<dd>435</dd>\n",
       "\t<dt>QE_I42</dt>\n",
       "\t\t<dd>103</dd>\n",
       "\t<dt>QE_I29</dt>\n",
       "\t\t<dd>101</dd>\n",
       "\t<dt>QE_I38</dt>\n",
       "\t\t<dd>128</dd>\n",
       "\t<dt>QE_I41</dt>\n",
       "\t\t<dd>217</dd>\n",
       "\t<dt>QE_I45</dt>\n",
       "\t\t<dd>267</dd>\n",
       "\t<dt>QE_I57</dt>\n",
       "\t\t<dd>99</dd>\n",
       "\t<dt>QE_I58</dt>\n",
       "\t\t<dd>180</dd>\n",
       "\t<dt>QE_I59</dt>\n",
       "\t\t<dd>267</dd>\n",
       "\t<dt>QE_I61</dt>\n",
       "\t\t<dd>139</dd>\n",
       "\t<dt>QE_I62</dt>\n",
       "\t\t<dd>1024</dd>\n",
       "\t<dt>QE_I63</dt>\n",
       "\t\t<dd>1273</dd>\n",
       "\t<dt>QE_I64</dt>\n",
       "\t\t<dd>210</dd>\n",
       "\t<dt>QE_I68</dt>\n",
       "\t\t<dd>199</dd>\n",
       "</dl>\n"
      ],
      "text/latex": [
       "\\begin{description*}\n",
       "\\item[NT\\textbackslash{}\\_GER] 4\n",
       "\\item[TP\\textbackslash{}\\_SEXO] 0\n",
       "\\item[QE\\textbackslash{}\\_I02] 0\n",
       "\\item[QE\\textbackslash{}\\_I01] 0\n",
       "\\item[QE\\textbackslash{}\\_I04] 0\n",
       "\\item[QE\\textbackslash{}\\_I05] 0\n",
       "\\item[QE\\textbackslash{}\\_I06] 0\n",
       "\\item[QE\\textbackslash{}\\_I07] 0\n",
       "\\item[QE\\textbackslash{}\\_I08] 0\n",
       "\\item[QE\\textbackslash{}\\_I09] 0\n",
       "\\item[QE\\textbackslash{}\\_I10] 0\n",
       "\\item[QE\\textbackslash{}\\_I11] 0\n",
       "\\item[QE\\textbackslash{}\\_I12] 0\n",
       "\\item[QE\\textbackslash{}\\_I13] 0\n",
       "\\item[QE\\textbackslash{}\\_I15] 0\n",
       "\\item[QE\\textbackslash{}\\_I17] 0\n",
       "\\item[QE\\textbackslash{}\\_I18] 0\n",
       "\\item[QE\\textbackslash{}\\_I19] 0\n",
       "\\item[QE\\textbackslash{}\\_I20] 0\n",
       "\\item[QE\\textbackslash{}\\_I21] 0\n",
       "\\item[QE\\textbackslash{}\\_I22] 0\n",
       "\\item[QE\\textbackslash{}\\_I23] 0\n",
       "\\item[QE\\textbackslash{}\\_I25] 0\n",
       "\\item[QE\\textbackslash{}\\_I40] 435\n",
       "\\item[QE\\textbackslash{}\\_I42] 103\n",
       "\\item[QE\\textbackslash{}\\_I29] 101\n",
       "\\item[QE\\textbackslash{}\\_I38] 128\n",
       "\\item[QE\\textbackslash{}\\_I41] 217\n",
       "\\item[QE\\textbackslash{}\\_I45] 267\n",
       "\\item[QE\\textbackslash{}\\_I57] 99\n",
       "\\item[QE\\textbackslash{}\\_I58] 180\n",
       "\\item[QE\\textbackslash{}\\_I59] 267\n",
       "\\item[QE\\textbackslash{}\\_I61] 139\n",
       "\\item[QE\\textbackslash{}\\_I62] 1024\n",
       "\\item[QE\\textbackslash{}\\_I63] 1273\n",
       "\\item[QE\\textbackslash{}\\_I64] 210\n",
       "\\item[QE\\textbackslash{}\\_I68] 199\n",
       "\\end{description*}\n"
      ],
      "text/markdown": [
       "NT_GER\n",
       ":   4TP_SEXO\n",
       ":   0QE_I02\n",
       ":   0QE_I01\n",
       ":   0QE_I04\n",
       ":   0QE_I05\n",
       ":   0QE_I06\n",
       ":   0QE_I07\n",
       ":   0QE_I08\n",
       ":   0QE_I09\n",
       ":   0QE_I10\n",
       ":   0QE_I11\n",
       ":   0QE_I12\n",
       ":   0QE_I13\n",
       ":   0QE_I15\n",
       ":   0QE_I17\n",
       ":   0QE_I18\n",
       ":   0QE_I19\n",
       ":   0QE_I20\n",
       ":   0QE_I21\n",
       ":   0QE_I22\n",
       ":   0QE_I23\n",
       ":   0QE_I25\n",
       ":   0QE_I40\n",
       ":   435QE_I42\n",
       ":   103QE_I29\n",
       ":   101QE_I38\n",
       ":   128QE_I41\n",
       ":   217QE_I45\n",
       ":   267QE_I57\n",
       ":   99QE_I58\n",
       ":   180QE_I59\n",
       ":   267QE_I61\n",
       ":   139QE_I62\n",
       ":   1024QE_I63\n",
       ":   1273QE_I64\n",
       ":   210QE_I68\n",
       ":   199\n",
       "\n"
      ],
      "text/plain": [
       " NT_GER TP_SEXO  QE_I02  QE_I01  QE_I04  QE_I05  QE_I06  QE_I07  QE_I08  QE_I09 \n",
       "      4       0       0       0       0       0       0       0       0       0 \n",
       " QE_I10  QE_I11  QE_I12  QE_I13  QE_I15  QE_I17  QE_I18  QE_I19  QE_I20  QE_I21 \n",
       "      0       0       0       0       0       0       0       0       0       0 \n",
       " QE_I22  QE_I23  QE_I25  QE_I40  QE_I42  QE_I29  QE_I38  QE_I41  QE_I45  QE_I57 \n",
       "      0       0       0     435     103     101     128     217     267      99 \n",
       " QE_I58  QE_I59  QE_I61  QE_I62  QE_I63  QE_I64  QE_I68 \n",
       "    180     267     139    1024    1273     210     199 "
      ]
     },
     "metadata": {},
     "output_type": "display_data"
    }
   ],
   "source": [
    "sapply(df, function(x) sum(is.na(x)))"
   ]
  },
  {
   "cell_type": "code",
   "execution_count": 18,
   "id": "addressed-bedroom",
   "metadata": {},
   "outputs": [],
   "source": [
    "df = df[!is.na(df$NT_GER),]"
   ]
  },
  {
   "cell_type": "code",
   "execution_count": 19,
   "id": "adverse-purpose",
   "metadata": {},
   "outputs": [
    {
     "data": {
      "text/html": [
       "<dl class=dl-horizontal>\n",
       "\t<dt>NT_GER</dt>\n",
       "\t\t<dd>0</dd>\n",
       "\t<dt>TP_SEXO</dt>\n",
       "\t\t<dd>0</dd>\n",
       "\t<dt>QE_I02</dt>\n",
       "\t\t<dd>0</dd>\n",
       "\t<dt>QE_I01</dt>\n",
       "\t\t<dd>0</dd>\n",
       "\t<dt>QE_I04</dt>\n",
       "\t\t<dd>0</dd>\n",
       "\t<dt>QE_I05</dt>\n",
       "\t\t<dd>0</dd>\n",
       "\t<dt>QE_I06</dt>\n",
       "\t\t<dd>0</dd>\n",
       "\t<dt>QE_I07</dt>\n",
       "\t\t<dd>0</dd>\n",
       "\t<dt>QE_I08</dt>\n",
       "\t\t<dd>0</dd>\n",
       "\t<dt>QE_I09</dt>\n",
       "\t\t<dd>0</dd>\n",
       "\t<dt>QE_I10</dt>\n",
       "\t\t<dd>0</dd>\n",
       "\t<dt>QE_I11</dt>\n",
       "\t\t<dd>0</dd>\n",
       "\t<dt>QE_I12</dt>\n",
       "\t\t<dd>0</dd>\n",
       "\t<dt>QE_I13</dt>\n",
       "\t\t<dd>0</dd>\n",
       "\t<dt>QE_I15</dt>\n",
       "\t\t<dd>0</dd>\n",
       "\t<dt>QE_I17</dt>\n",
       "\t\t<dd>0</dd>\n",
       "\t<dt>QE_I18</dt>\n",
       "\t\t<dd>0</dd>\n",
       "\t<dt>QE_I19</dt>\n",
       "\t\t<dd>0</dd>\n",
       "\t<dt>QE_I20</dt>\n",
       "\t\t<dd>0</dd>\n",
       "\t<dt>QE_I21</dt>\n",
       "\t\t<dd>0</dd>\n",
       "\t<dt>QE_I22</dt>\n",
       "\t\t<dd>0</dd>\n",
       "\t<dt>QE_I23</dt>\n",
       "\t\t<dd>0</dd>\n",
       "\t<dt>QE_I25</dt>\n",
       "\t\t<dd>0</dd>\n",
       "\t<dt>QE_I40</dt>\n",
       "\t\t<dd>434</dd>\n",
       "\t<dt>QE_I42</dt>\n",
       "\t\t<dd>103</dd>\n",
       "\t<dt>QE_I29</dt>\n",
       "\t\t<dd>101</dd>\n",
       "\t<dt>QE_I38</dt>\n",
       "\t\t<dd>128</dd>\n",
       "\t<dt>QE_I41</dt>\n",
       "\t\t<dd>217</dd>\n",
       "\t<dt>QE_I45</dt>\n",
       "\t\t<dd>267</dd>\n",
       "\t<dt>QE_I57</dt>\n",
       "\t\t<dd>99</dd>\n",
       "\t<dt>QE_I58</dt>\n",
       "\t\t<dd>180</dd>\n",
       "\t<dt>QE_I59</dt>\n",
       "\t\t<dd>267</dd>\n",
       "\t<dt>QE_I61</dt>\n",
       "\t\t<dd>139</dd>\n",
       "\t<dt>QE_I62</dt>\n",
       "\t\t<dd>1023</dd>\n",
       "\t<dt>QE_I63</dt>\n",
       "\t\t<dd>1272</dd>\n",
       "\t<dt>QE_I64</dt>\n",
       "\t\t<dd>210</dd>\n",
       "\t<dt>QE_I68</dt>\n",
       "\t\t<dd>199</dd>\n",
       "</dl>\n"
      ],
      "text/latex": [
       "\\begin{description*}\n",
       "\\item[NT\\textbackslash{}\\_GER] 0\n",
       "\\item[TP\\textbackslash{}\\_SEXO] 0\n",
       "\\item[QE\\textbackslash{}\\_I02] 0\n",
       "\\item[QE\\textbackslash{}\\_I01] 0\n",
       "\\item[QE\\textbackslash{}\\_I04] 0\n",
       "\\item[QE\\textbackslash{}\\_I05] 0\n",
       "\\item[QE\\textbackslash{}\\_I06] 0\n",
       "\\item[QE\\textbackslash{}\\_I07] 0\n",
       "\\item[QE\\textbackslash{}\\_I08] 0\n",
       "\\item[QE\\textbackslash{}\\_I09] 0\n",
       "\\item[QE\\textbackslash{}\\_I10] 0\n",
       "\\item[QE\\textbackslash{}\\_I11] 0\n",
       "\\item[QE\\textbackslash{}\\_I12] 0\n",
       "\\item[QE\\textbackslash{}\\_I13] 0\n",
       "\\item[QE\\textbackslash{}\\_I15] 0\n",
       "\\item[QE\\textbackslash{}\\_I17] 0\n",
       "\\item[QE\\textbackslash{}\\_I18] 0\n",
       "\\item[QE\\textbackslash{}\\_I19] 0\n",
       "\\item[QE\\textbackslash{}\\_I20] 0\n",
       "\\item[QE\\textbackslash{}\\_I21] 0\n",
       "\\item[QE\\textbackslash{}\\_I22] 0\n",
       "\\item[QE\\textbackslash{}\\_I23] 0\n",
       "\\item[QE\\textbackslash{}\\_I25] 0\n",
       "\\item[QE\\textbackslash{}\\_I40] 434\n",
       "\\item[QE\\textbackslash{}\\_I42] 103\n",
       "\\item[QE\\textbackslash{}\\_I29] 101\n",
       "\\item[QE\\textbackslash{}\\_I38] 128\n",
       "\\item[QE\\textbackslash{}\\_I41] 217\n",
       "\\item[QE\\textbackslash{}\\_I45] 267\n",
       "\\item[QE\\textbackslash{}\\_I57] 99\n",
       "\\item[QE\\textbackslash{}\\_I58] 180\n",
       "\\item[QE\\textbackslash{}\\_I59] 267\n",
       "\\item[QE\\textbackslash{}\\_I61] 139\n",
       "\\item[QE\\textbackslash{}\\_I62] 1023\n",
       "\\item[QE\\textbackslash{}\\_I63] 1272\n",
       "\\item[QE\\textbackslash{}\\_I64] 210\n",
       "\\item[QE\\textbackslash{}\\_I68] 199\n",
       "\\end{description*}\n"
      ],
      "text/markdown": [
       "NT_GER\n",
       ":   0TP_SEXO\n",
       ":   0QE_I02\n",
       ":   0QE_I01\n",
       ":   0QE_I04\n",
       ":   0QE_I05\n",
       ":   0QE_I06\n",
       ":   0QE_I07\n",
       ":   0QE_I08\n",
       ":   0QE_I09\n",
       ":   0QE_I10\n",
       ":   0QE_I11\n",
       ":   0QE_I12\n",
       ":   0QE_I13\n",
       ":   0QE_I15\n",
       ":   0QE_I17\n",
       ":   0QE_I18\n",
       ":   0QE_I19\n",
       ":   0QE_I20\n",
       ":   0QE_I21\n",
       ":   0QE_I22\n",
       ":   0QE_I23\n",
       ":   0QE_I25\n",
       ":   0QE_I40\n",
       ":   434QE_I42\n",
       ":   103QE_I29\n",
       ":   101QE_I38\n",
       ":   128QE_I41\n",
       ":   217QE_I45\n",
       ":   267QE_I57\n",
       ":   99QE_I58\n",
       ":   180QE_I59\n",
       ":   267QE_I61\n",
       ":   139QE_I62\n",
       ":   1023QE_I63\n",
       ":   1272QE_I64\n",
       ":   210QE_I68\n",
       ":   199\n",
       "\n"
      ],
      "text/plain": [
       " NT_GER TP_SEXO  QE_I02  QE_I01  QE_I04  QE_I05  QE_I06  QE_I07  QE_I08  QE_I09 \n",
       "      0       0       0       0       0       0       0       0       0       0 \n",
       " QE_I10  QE_I11  QE_I12  QE_I13  QE_I15  QE_I17  QE_I18  QE_I19  QE_I20  QE_I21 \n",
       "      0       0       0       0       0       0       0       0       0       0 \n",
       " QE_I22  QE_I23  QE_I25  QE_I40  QE_I42  QE_I29  QE_I38  QE_I41  QE_I45  QE_I57 \n",
       "      0       0       0     434     103     101     128     217     267      99 \n",
       " QE_I58  QE_I59  QE_I61  QE_I62  QE_I63  QE_I64  QE_I68 \n",
       "    180     267     139    1023    1272     210     199 "
      ]
     },
     "metadata": {},
     "output_type": "display_data"
    },
    {
     "data": {
      "text/html": [
       "<ol class=list-inline>\n",
       "\t<li>8071</li>\n",
       "\t<li>37</li>\n",
       "</ol>\n"
      ],
      "text/latex": [
       "\\begin{enumerate*}\n",
       "\\item 8071\n",
       "\\item 37\n",
       "\\end{enumerate*}\n"
      ],
      "text/markdown": [
       "1. 8071\n",
       "2. 37\n",
       "\n",
       "\n"
      ],
      "text/plain": [
       "[1] 8071   37"
      ]
     },
     "metadata": {},
     "output_type": "display_data"
    }
   ],
   "source": [
    "sapply(df, function(x) sum(is.na(x)))\n",
    "dim(df)"
   ]
  },
  {
   "cell_type": "code",
   "execution_count": 281,
   "id": "broad-buying",
   "metadata": {},
   "outputs": [
    {
     "data": {
      "image/png": "[encoded data removed]",
      "text/plain": [
       "Plot with title \"Valores Missing Observados\""
      ]
     },
     "metadata": {},
     "output_type": "display_data"
    }
   ],
   "source": [
    "missmap(df, main=\"Valores Missing Observados\")"
   ]
  },
  {
   "cell_type": "code",
   "execution_count": 20,
   "id": "existing-information",
   "metadata": {},
   "outputs": [
    {
     "data": {
      "text/html": [
       "49"
      ],
      "text/latex": [
       "49"
      ],
      "text/markdown": [
       "49"
      ],
      "text/plain": [
       "[1] 49"
      ]
     },
     "metadata": {},
     "output_type": "display_data"
    }
   ],
   "source": [
    "sum(df$QE_I02 == \"\")"
   ]
  },
  {
   "cell_type": "code",
   "execution_count": 21,
   "id": "voluntary-times",
   "metadata": {},
   "outputs": [],
   "source": [
    "df = subset(df, QE_I02 != \"\")"
   ]
  },
  {
   "cell_type": "code",
   "execution_count": 22,
   "id": "committed-sport",
   "metadata": {},
   "outputs": [
    {
     "data": {
      "text/html": [
       "0"
      ],
      "text/latex": [
       "0"
      ],
      "text/markdown": [
       "0"
      ],
      "text/plain": [
       "[1] 0"
      ]
     },
     "metadata": {},
     "output_type": "display_data"
    }
   ],
   "source": [
    "sum(df$QE_I08 == \"\")"
   ]
  },
  {
   "cell_type": "markdown",
   "id": "protective-fountain",
   "metadata": {},
   "source": [
    "# primeiro modelo:\n",
    "* Notas Gerais = 45 NT_GER\n",
    "* Sexo = 12 TP_SEXO\n",
    "* Raça ou Cor = 71 QE_I02\n",
    "* Renda total da família = 77 QE_I08"
   ]
  },
  {
   "cell_type": "code",
   "execution_count": 38,
   "id": "social-cable",
   "metadata": {},
   "outputs": [
    {
     "data": {
      "text/html": [
       "<table>\n",
       "<thead><tr><th></th><th scope=col>nota</th><th scope=col>genero</th><th scope=col>cor</th><th scope=col>renda</th></tr></thead>\n",
       "<tbody>\n",
       "\t<tr><th scope=row>161</th><td>24.9</td><td>F   </td><td>A   </td><td>C   </td></tr>\n",
       "\t<tr><th scope=row>162</th><td>25.6</td><td>M   </td><td>A   </td><td>D   </td></tr>\n",
       "\t<tr><th scope=row>163</th><td>48.7</td><td>M   </td><td>A   </td><td>C   </td></tr>\n",
       "\t<tr><th scope=row>164</th><td>35.7</td><td>F   </td><td>A   </td><td>B   </td></tr>\n",
       "\t<tr><th scope=row>165</th><td>33.9</td><td>M   </td><td>A   </td><td>B   </td></tr>\n",
       "\t<tr><th scope=row>166</th><td>23.5</td><td>M   </td><td>A   </td><td>C   </td></tr>\n",
       "\t<tr><th scope=row>167</th><td>32.2</td><td>F   </td><td>A   </td><td>B   </td></tr>\n",
       "\t<tr><th scope=row>168</th><td>20.9</td><td>F   </td><td>A   </td><td>C   </td></tr>\n",
       "\t<tr><th scope=row>169</th><td>48.9</td><td>M   </td><td>A   </td><td>D   </td></tr>\n",
       "\t<tr><th scope=row>170</th><td>39.4</td><td>F   </td><td>D   </td><td>C   </td></tr>\n",
       "\t<tr><th scope=row>172</th><td>16.6</td><td>F   </td><td>A   </td><td>B   </td></tr>\n",
       "\t<tr><th scope=row>5496</th><td>34.1</td><td>M   </td><td>A   </td><td>F   </td></tr>\n",
       "\t<tr><th scope=row>5497</th><td>38.5</td><td>M   </td><td>D   </td><td>C   </td></tr>\n",
       "\t<tr><th scope=row>5498</th><td>57.4</td><td>M   </td><td>A   </td><td>A   </td></tr>\n",
       "\t<tr><th scope=row>5499</th><td>29.3</td><td>M   </td><td>A   </td><td>C   </td></tr>\n",
       "\t<tr><th scope=row>5500</th><td>35.6</td><td>M   </td><td>A   </td><td>G   </td></tr>\n",
       "\t<tr><th scope=row>5501</th><td>44.8</td><td>M   </td><td>A   </td><td>F   </td></tr>\n",
       "\t<tr><th scope=row>5502</th><td>38.4</td><td>F   </td><td>A   </td><td>C   </td></tr>\n",
       "\t<tr><th scope=row>5503</th><td>44.9</td><td>F   </td><td>A   </td><td>B   </td></tr>\n",
       "\t<tr><th scope=row>5504</th><td>42.5</td><td>M   </td><td>A   </td><td>E   </td></tr>\n",
       "\t<tr><th scope=row>5505</th><td>52.8</td><td>F   </td><td>A   </td><td>D   </td></tr>\n",
       "\t<tr><th scope=row>5506</th><td>30.0</td><td>F   </td><td>A   </td><td>C   </td></tr>\n",
       "\t<tr><th scope=row>5508</th><td>37.7</td><td>M   </td><td>A   </td><td>E   </td></tr>\n",
       "\t<tr><th scope=row>5509</th><td>37.1</td><td>M   </td><td>A   </td><td>C   </td></tr>\n",
       "\t<tr><th scope=row>5510</th><td>24.1</td><td>M   </td><td>F   </td><td>B   </td></tr>\n",
       "\t<tr><th scope=row>5511</th><td>48.4</td><td>M   </td><td>A   </td><td>E   </td></tr>\n",
       "\t<tr><th scope=row>5512</th><td>31.2</td><td>M   </td><td>A   </td><td>E   </td></tr>\n",
       "\t<tr><th scope=row>5513</th><td>33.3</td><td>M   </td><td>A   </td><td>B   </td></tr>\n",
       "\t<tr><th scope=row>5514</th><td>17.8</td><td>M   </td><td>A   </td><td>E   </td></tr>\n",
       "\t<tr><th scope=row>5515</th><td>44.1</td><td>M   </td><td>A   </td><td>E   </td></tr>\n",
       "\t<tr><th scope=row>...</th><td>...</td><td>...</td><td>...</td><td>...</td></tr>\n",
       "\t<tr><th scope=row>539410</th><td>54.0</td><td>M   </td><td>A   </td><td>E   </td></tr>\n",
       "\t<tr><th scope=row>539567</th><td>30.4</td><td>M   </td><td>A   </td><td>E   </td></tr>\n",
       "\t<tr><th scope=row>539831</th><td>47.0</td><td>M   </td><td>A   </td><td>B   </td></tr>\n",
       "\t<tr><th scope=row>539860</th><td>25.5</td><td>M   </td><td>A   </td><td>B   </td></tr>\n",
       "\t<tr><th scope=row>539888</th><td>28.1</td><td>F   </td><td>A   </td><td>C   </td></tr>\n",
       "\t<tr><th scope=row>540329</th><td>48.2</td><td>F   </td><td>C   </td><td>G   </td></tr>\n",
       "\t<tr><th scope=row>541064</th><td>21.6</td><td>M   </td><td>A   </td><td>A   </td></tr>\n",
       "\t<tr><th scope=row>541068</th><td>42.3</td><td>M   </td><td>D   </td><td>E   </td></tr>\n",
       "\t<tr><th scope=row>541069</th><td>42.7</td><td>M   </td><td>A   </td><td>C   </td></tr>\n",
       "\t<tr><th scope=row>541172</th><td>51.4</td><td>M   </td><td>F   </td><td>F   </td></tr>\n",
       "\t<tr><th scope=row>541333</th><td>54.2</td><td>F   </td><td>A   </td><td>F   </td></tr>\n",
       "\t<tr><th scope=row>541409</th><td>49.4</td><td>M   </td><td>A   </td><td>A   </td></tr>\n",
       "\t<tr><th scope=row>541440</th><td>52.5</td><td>M   </td><td>B   </td><td>E   </td></tr>\n",
       "\t<tr><th scope=row>541446</th><td>44.2</td><td>F   </td><td>D   </td><td>F   </td></tr>\n",
       "\t<tr><th scope=row>541516</th><td>53.4</td><td>F   </td><td>D   </td><td>E   </td></tr>\n",
       "\t<tr><th scope=row>541570</th><td>45.2</td><td>M   </td><td>A   </td><td>A   </td></tr>\n",
       "\t<tr><th scope=row>541654</th><td>50.3</td><td>M   </td><td>A   </td><td>G   </td></tr>\n",
       "\t<tr><th scope=row>541726</th><td>74.1</td><td>F   </td><td>A   </td><td>G   </td></tr>\n",
       "\t<tr><th scope=row>541760</th><td>45.6</td><td>M   </td><td>A   </td><td>A   </td></tr>\n",
       "\t<tr><th scope=row>541789</th><td>65.0</td><td>M   </td><td>A   </td><td>E   </td></tr>\n",
       "\t<tr><th scope=row>541823</th><td>11.5</td><td>F   </td><td>C   </td><td>A   </td></tr>\n",
       "\t<tr><th scope=row>541844</th><td>56.1</td><td>M   </td><td>A   </td><td>G   </td></tr>\n",
       "\t<tr><th scope=row>541990</th><td>24.2</td><td>F   </td><td>A   </td><td>C   </td></tr>\n",
       "\t<tr><th scope=row>543811</th><td>35.4</td><td>M   </td><td>D   </td><td>G   </td></tr>\n",
       "\t<tr><th scope=row>546435</th><td>34.1</td><td>M   </td><td>D   </td><td>C   </td></tr>\n",
       "\t<tr><th scope=row>546660</th><td>40.9</td><td>F   </td><td>A   </td><td>F   </td></tr>\n",
       "\t<tr><th scope=row>547634</th><td>32.2</td><td>M   </td><td>A   </td><td>A   </td></tr>\n",
       "\t<tr><th scope=row>547635</th><td>27.8</td><td>M   </td><td>D   </td><td>C   </td></tr>\n",
       "\t<tr><th scope=row>547636</th><td>30.2</td><td>M   </td><td>B   </td><td>A   </td></tr>\n",
       "\t<tr><th scope=row>547637</th><td>34.2</td><td>F   </td><td>A   </td><td>C   </td></tr>\n",
       "</tbody>\n",
       "</table>\n"
      ],
      "text/latex": [
       "\\begin{tabular}{r|llll}\n",
       "  & nota & genero & cor & renda\\\\\n",
       "\\hline\n",
       "\t161 & 24.9 & F    & A    & C   \\\\\n",
       "\t162 & 25.6 & M    & A    & D   \\\\\n",
       "\t163 & 48.7 & M    & A    & C   \\\\\n",
       "\t164 & 35.7 & F    & A    & B   \\\\\n",
       "\t165 & 33.9 & M    & A    & B   \\\\\n",
       "\t166 & 23.5 & M    & A    & C   \\\\\n",
       "\t167 & 32.2 & F    & A    & B   \\\\\n",
       "\t168 & 20.9 & F    & A    & C   \\\\\n",
       "\t169 & 48.9 & M    & A    & D   \\\\\n",
       "\t170 & 39.4 & F    & D    & C   \\\\\n",
       "\t172 & 16.6 & F    & A    & B   \\\\\n",
       "\t5496 & 34.1 & M    & A    & F   \\\\\n",
       "\t5497 & 38.5 & M    & D    & C   \\\\\n",
       "\t5498 & 57.4 & M    & A    & A   \\\\\n",
       "\t5499 & 29.3 & M    & A    & C   \\\\\n",
       "\t5500 & 35.6 & M    & A    & G   \\\\\n",
       "\t5501 & 44.8 & M    & A    & F   \\\\\n",
       "\t5502 & 38.4 & F    & A    & C   \\\\\n",
       "\t5503 & 44.9 & F    & A    & B   \\\\\n",
       "\t5504 & 42.5 & M    & A    & E   \\\\\n",
       "\t5505 & 52.8 & F    & A    & D   \\\\\n",
       "\t5506 & 30.0 & F    & A    & C   \\\\\n",
       "\t5508 & 37.7 & M    & A    & E   \\\\\n",
       "\t5509 & 37.1 & M    & A    & C   \\\\\n",
       "\t5510 & 24.1 & M    & F    & B   \\\\\n",
       "\t5511 & 48.4 & M    & A    & E   \\\\\n",
       "\t5512 & 31.2 & M    & A    & E   \\\\\n",
       "\t5513 & 33.3 & M    & A    & B   \\\\\n",
       "\t5514 & 17.8 & M    & A    & E   \\\\\n",
       "\t5515 & 44.1 & M    & A    & E   \\\\\n",
       "\t... & ... & ... & ... & ...\\\\\n",
       "\t539410 & 54.0 & M    & A    & E   \\\\\n",
       "\t539567 & 30.4 & M    & A    & E   \\\\\n",
       "\t539831 & 47.0 & M    & A    & B   \\\\\n",
       "\t539860 & 25.5 & M    & A    & B   \\\\\n",
       "\t539888 & 28.1 & F    & A    & C   \\\\\n",
       "\t540329 & 48.2 & F    & C    & G   \\\\\n",
       "\t541064 & 21.6 & M    & A    & A   \\\\\n",
       "\t541068 & 42.3 & M    & D    & E   \\\\\n",
       "\t541069 & 42.7 & M    & A    & C   \\\\\n",
       "\t541172 & 51.4 & M    & F    & F   \\\\\n",
       "\t541333 & 54.2 & F    & A    & F   \\\\\n",
       "\t541409 & 49.4 & M    & A    & A   \\\\\n",
       "\t541440 & 52.5 & M    & B    & E   \\\\\n",
       "\t541446 & 44.2 & F    & D    & F   \\\\\n",
       "\t541516 & 53.4 & F    & D    & E   \\\\\n",
       "\t541570 & 45.2 & M    & A    & A   \\\\\n",
       "\t541654 & 50.3 & M    & A    & G   \\\\\n",
       "\t541726 & 74.1 & F    & A    & G   \\\\\n",
       "\t541760 & 45.6 & M    & A    & A   \\\\\n",
       "\t541789 & 65.0 & M    & A    & E   \\\\\n",
       "\t541823 & 11.5 & F    & C    & A   \\\\\n",
       "\t541844 & 56.1 & M    & A    & G   \\\\\n",
       "\t541990 & 24.2 & F    & A    & C   \\\\\n",
       "\t543811 & 35.4 & M    & D    & G   \\\\\n",
       "\t546435 & 34.1 & M    & D    & C   \\\\\n",
       "\t546660 & 40.9 & F    & A    & F   \\\\\n",
       "\t547634 & 32.2 & M    & A    & A   \\\\\n",
       "\t547635 & 27.8 & M    & D    & C   \\\\\n",
       "\t547636 & 30.2 & M    & B    & A   \\\\\n",
       "\t547637 & 34.2 & F    & A    & C   \\\\\n",
       "\\end{tabular}\n"
      ],
      "text/markdown": [
       "\n",
       "| <!--/--> | nota | genero | cor | renda |\n",
       "|---|---|---|---|---|\n",
       "| 161 | 24.9 | F    | A    | C    |\n",
       "| 162 | 25.6 | M    | A    | D    |\n",
       "| 163 | 48.7 | M    | A    | C    |\n",
       "| 164 | 35.7 | F    | A    | B    |\n",
       "| 165 | 33.9 | M    | A    | B    |\n",
       "| 166 | 23.5 | M    | A    | C    |\n",
       "| 167 | 32.2 | F    | A    | B    |\n",
       "| 168 | 20.9 | F    | A    | C    |\n",
       "| 169 | 48.9 | M    | A    | D    |\n",
       "| 170 | 39.4 | F    | D    | C    |\n",
       "| 172 | 16.6 | F    | A    | B    |\n",
       "| 5496 | 34.1 | M    | A    | F    |\n",
       "| 5497 | 38.5 | M    | D    | C    |\n",
       "| 5498 | 57.4 | M    | A    | A    |\n",
       "| 5499 | 29.3 | M    | A    | C    |\n",
       "| 5500 | 35.6 | M    | A    | G    |\n",
       "| 5501 | 44.8 | M    | A    | F    |\n",
       "| 5502 | 38.4 | F    | A    | C    |\n",
       "| 5503 | 44.9 | F    | A    | B    |\n",
       "| 5504 | 42.5 | M    | A    | E    |\n",
       "| 5505 | 52.8 | F    | A    | D    |\n",
       "| 5506 | 30.0 | F    | A    | C    |\n",
       "| 5508 | 37.7 | M    | A    | E    |\n",
       "| 5509 | 37.1 | M    | A    | C    |\n",
       "| 5510 | 24.1 | M    | F    | B    |\n",
       "| 5511 | 48.4 | M    | A    | E    |\n",
       "| 5512 | 31.2 | M    | A    | E    |\n",
       "| 5513 | 33.3 | M    | A    | B    |\n",
       "| 5514 | 17.8 | M    | A    | E    |\n",
       "| 5515 | 44.1 | M    | A    | E    |\n",
       "| ... | ... | ... | ... | ... |\n",
       "| 539410 | 54.0 | M    | A    | E    |\n",
       "| 539567 | 30.4 | M    | A    | E    |\n",
       "| 539831 | 47.0 | M    | A    | B    |\n",
       "| 539860 | 25.5 | M    | A    | B    |\n",
       "| 539888 | 28.1 | F    | A    | C    |\n",
       "| 540329 | 48.2 | F    | C    | G    |\n",
       "| 541064 | 21.6 | M    | A    | A    |\n",
       "| 541068 | 42.3 | M    | D    | E    |\n",
       "| 541069 | 42.7 | M    | A    | C    |\n",
       "| 541172 | 51.4 | M    | F    | F    |\n",
       "| 541333 | 54.2 | F    | A    | F    |\n",
       "| 541409 | 49.4 | M    | A    | A    |\n",
       "| 541440 | 52.5 | M    | B    | E    |\n",
       "| 541446 | 44.2 | F    | D    | F    |\n",
       "| 541516 | 53.4 | F    | D    | E    |\n",
       "| 541570 | 45.2 | M    | A    | A    |\n",
       "| 541654 | 50.3 | M    | A    | G    |\n",
       "| 541726 | 74.1 | F    | A    | G    |\n",
       "| 541760 | 45.6 | M    | A    | A    |\n",
       "| 541789 | 65.0 | M    | A    | E    |\n",
       "| 541823 | 11.5 | F    | C    | A    |\n",
       "| 541844 | 56.1 | M    | A    | G    |\n",
       "| 541990 | 24.2 | F    | A    | C    |\n",
       "| 543811 | 35.4 | M    | D    | G    |\n",
       "| 546435 | 34.1 | M    | D    | C    |\n",
       "| 546660 | 40.9 | F    | A    | F    |\n",
       "| 547634 | 32.2 | M    | A    | A    |\n",
       "| 547635 | 27.8 | M    | D    | C    |\n",
       "| 547636 | 30.2 | M    | B    | A    |\n",
       "| 547637 | 34.2 | F    | A    | C    |\n",
       "\n"
      ],
      "text/plain": [
       "       nota genero cor renda\n",
       "161    24.9 F      A   C    \n",
       "162    25.6 M      A   D    \n",
       "163    48.7 M      A   C    \n",
       "164    35.7 F      A   B    \n",
       "165    33.9 M      A   B    \n",
       "166    23.5 M      A   C    \n",
       "167    32.2 F      A   B    \n",
       "168    20.9 F      A   C    \n",
       "169    48.9 M      A   D    \n",
       "170    39.4 F      D   C    \n",
       "172    16.6 F      A   B    \n",
       "5496   34.1 M      A   F    \n",
       "5497   38.5 M      D   C    \n",
       "5498   57.4 M      A   A    \n",
       "5499   29.3 M      A   C    \n",
       "5500   35.6 M      A   G    \n",
       "5501   44.8 M      A   F    \n",
       "5502   38.4 F      A   C    \n",
       "5503   44.9 F      A   B    \n",
       "5504   42.5 M      A   E    \n",
       "5505   52.8 F      A   D    \n",
       "5506   30.0 F      A   C    \n",
       "5508   37.7 M      A   E    \n",
       "5509   37.1 M      A   C    \n",
       "5510   24.1 M      F   B    \n",
       "5511   48.4 M      A   E    \n",
       "5512   31.2 M      A   E    \n",
       "5513   33.3 M      A   B    \n",
       "5514   17.8 M      A   E    \n",
       "5515   44.1 M      A   E    \n",
       "...    ...  ...    ... ...  \n",
       "539410 54.0 M      A   E    \n",
       "539567 30.4 M      A   E    \n",
       "539831 47.0 M      A   B    \n",
       "539860 25.5 M      A   B    \n",
       "539888 28.1 F      A   C    \n",
       "540329 48.2 F      C   G    \n",
       "541064 21.6 M      A   A    \n",
       "541068 42.3 M      D   E    \n",
       "541069 42.7 M      A   C    \n",
       "541172 51.4 M      F   F    \n",
       "541333 54.2 F      A   F    \n",
       "541409 49.4 M      A   A    \n",
       "541440 52.5 M      B   E    \n",
       "541446 44.2 F      D   F    \n",
       "541516 53.4 F      D   E    \n",
       "541570 45.2 M      A   A    \n",
       "541654 50.3 M      A   G    \n",
       "541726 74.1 F      A   G    \n",
       "541760 45.6 M      A   A    \n",
       "541789 65.0 M      A   E    \n",
       "541823 11.5 F      C   A    \n",
       "541844 56.1 M      A   G    \n",
       "541990 24.2 F      A   C    \n",
       "543811 35.4 M      D   G    \n",
       "546435 34.1 M      D   C    \n",
       "546660 40.9 F      A   F    \n",
       "547634 32.2 M      A   A    \n",
       "547635 27.8 M      D   C    \n",
       "547636 30.2 M      B   A    \n",
       "547637 34.2 F      A   C    "
      ]
     },
     "metadata": {},
     "output_type": "display_data"
    }
   ],
   "source": [
    "df %>% \n",
    "    select(NT_GER, TP_SEXO, QE_I02, QE_I08) %>% \n",
    "    setNames(c(\"nota\", \"genero\", \"cor\", \"renda\"))"
   ]
  },
  {
   "cell_type": "code",
   "execution_count": 25,
   "id": "ancient-offset",
   "metadata": {},
   "outputs": [
    {
     "data": {
      "text/html": [
       "<table>\n",
       "<thead><tr><th></th><th scope=col>NT_GER</th><th scope=col>TP_SEXO</th><th scope=col>QE_I02</th><th scope=col>QE_I01</th><th scope=col>QE_I04</th><th scope=col>QE_I05</th><th scope=col>QE_I06</th><th scope=col>QE_I07</th><th scope=col>QE_I08</th><th scope=col>QE_I09</th><th scope=col>...</th><th scope=col>QE_I41</th><th scope=col>QE_I45</th><th scope=col>QE_I57</th><th scope=col>QE_I58</th><th scope=col>QE_I59</th><th scope=col>QE_I61</th><th scope=col>QE_I62</th><th scope=col>QE_I63</th><th scope=col>QE_I64</th><th scope=col>QE_I68</th></tr></thead>\n",
       "<tbody>\n",
       "\t<tr><th scope=row>161</th><td>24.9</td><td>F   </td><td>A   </td><td>A   </td><td>D   </td><td>D   </td><td>C   </td><td>C   </td><td>C   </td><td>F   </td><td>... </td><td>6   </td><td>6   </td><td>6   </td><td>6   </td><td>6   </td><td>6   </td><td>6   </td><td>6   </td><td>6   </td><td>6   </td></tr>\n",
       "\t<tr><th scope=row>162</th><td>25.6</td><td>M   </td><td>A   </td><td>A   </td><td>D   </td><td>B   </td><td>A   </td><td>C   </td><td>D   </td><td>E   </td><td>... </td><td>6   </td><td>6   </td><td>6   </td><td>6   </td><td>6   </td><td>6   </td><td>6   </td><td>6   </td><td>6   </td><td>6   </td></tr>\n",
       "\t<tr><th scope=row>163</th><td>48.7</td><td>M   </td><td>A   </td><td>A   </td><td>D   </td><td>D   </td><td>C   </td><td>C   </td><td>C   </td><td>C   </td><td>... </td><td>6   </td><td>6   </td><td>6   </td><td>6   </td><td>6   </td><td>6   </td><td>6   </td><td>6   </td><td>6   </td><td>6   </td></tr>\n",
       "\t<tr><th scope=row>164</th><td>35.7</td><td>F   </td><td>A   </td><td>B   </td><td>B   </td><td>C   </td><td>C   </td><td>D   </td><td>B   </td><td>E   </td><td>... </td><td>6   </td><td>6   </td><td>6   </td><td>6   </td><td>6   </td><td>6   </td><td>6   </td><td>6   </td><td>6   </td><td>6   </td></tr>\n",
       "\t<tr><th scope=row>165</th><td>33.9</td><td>M   </td><td>A   </td><td>B   </td><td>B   </td><td>D   </td><td>C   </td><td>B   </td><td>B   </td><td>E   </td><td>... </td><td>6   </td><td>6   </td><td>6   </td><td>6   </td><td>6   </td><td>6   </td><td>6   </td><td>6   </td><td>6   </td><td>6   </td></tr>\n",
       "\t<tr><th scope=row>166</th><td>23.5</td><td>M   </td><td>A   </td><td>A   </td><td>B   </td><td>B   </td><td>B   </td><td>C   </td><td>C   </td><td>E   </td><td>... </td><td>6   </td><td>6   </td><td>6   </td><td>6   </td><td>6   </td><td>6   </td><td>6   </td><td>6   </td><td>6   </td><td>6   </td></tr>\n",
       "</tbody>\n",
       "</table>\n"
      ],
      "text/latex": [
       "\\begin{tabular}{r|lllllllllllllllllllllllllllllllllllll}\n",
       "  & NT\\_GER & TP\\_SEXO & QE\\_I02 & QE\\_I01 & QE\\_I04 & QE\\_I05 & QE\\_I06 & QE\\_I07 & QE\\_I08 & QE\\_I09 & ... & QE\\_I41 & QE\\_I45 & QE\\_I57 & QE\\_I58 & QE\\_I59 & QE\\_I61 & QE\\_I62 & QE\\_I63 & QE\\_I64 & QE\\_I68\\\\\n",
       "\\hline\n",
       "\t161 & 24.9 & F    & A    & A    & D    & D    & C    & C    & C    & F    & ...  & 6    & 6    & 6    & 6    & 6    & 6    & 6    & 6    & 6    & 6   \\\\\n",
       "\t162 & 25.6 & M    & A    & A    & D    & B    & A    & C    & D    & E    & ...  & 6    & 6    & 6    & 6    & 6    & 6    & 6    & 6    & 6    & 6   \\\\\n",
       "\t163 & 48.7 & M    & A    & A    & D    & D    & C    & C    & C    & C    & ...  & 6    & 6    & 6    & 6    & 6    & 6    & 6    & 6    & 6    & 6   \\\\\n",
       "\t164 & 35.7 & F    & A    & B    & B    & C    & C    & D    & B    & E    & ...  & 6    & 6    & 6    & 6    & 6    & 6    & 6    & 6    & 6    & 6   \\\\\n",
       "\t165 & 33.9 & M    & A    & B    & B    & D    & C    & B    & B    & E    & ...  & 6    & 6    & 6    & 6    & 6    & 6    & 6    & 6    & 6    & 6   \\\\\n",
       "\t166 & 23.5 & M    & A    & A    & B    & B    & B    & C    & C    & E    & ...  & 6    & 6    & 6    & 6    & 6    & 6    & 6    & 6    & 6    & 6   \\\\\n",
       "\\end{tabular}\n"
      ],
      "text/markdown": [
       "\n",
       "| <!--/--> | NT_GER | TP_SEXO | QE_I02 | QE_I01 | QE_I04 | QE_I05 | QE_I06 | QE_I07 | QE_I08 | QE_I09 | ... | QE_I41 | QE_I45 | QE_I57 | QE_I58 | QE_I59 | QE_I61 | QE_I62 | QE_I63 | QE_I64 | QE_I68 |\n",
       "|---|---|---|---|---|---|---|---|---|---|---|---|---|---|---|---|---|---|---|---|---|---|\n",
       "| 161 | 24.9 | F    | A    | A    | D    | D    | C    | C    | C    | F    | ...  | 6    | 6    | 6    | 6    | 6    | 6    | 6    | 6    | 6    | 6    |\n",
       "| 162 | 25.6 | M    | A    | A    | D    | B    | A    | C    | D    | E    | ...  | 6    | 6    | 6    | 6    | 6    | 6    | 6    | 6    | 6    | 6    |\n",
       "| 163 | 48.7 | M    | A    | A    | D    | D    | C    | C    | C    | C    | ...  | 6    | 6    | 6    | 6    | 6    | 6    | 6    | 6    | 6    | 6    |\n",
       "| 164 | 35.7 | F    | A    | B    | B    | C    | C    | D    | B    | E    | ...  | 6    | 6    | 6    | 6    | 6    | 6    | 6    | 6    | 6    | 6    |\n",
       "| 165 | 33.9 | M    | A    | B    | B    | D    | C    | B    | B    | E    | ...  | 6    | 6    | 6    | 6    | 6    | 6    | 6    | 6    | 6    | 6    |\n",
       "| 166 | 23.5 | M    | A    | A    | B    | B    | B    | C    | C    | E    | ...  | 6    | 6    | 6    | 6    | 6    | 6    | 6    | 6    | 6    | 6    |\n",
       "\n"
      ],
      "text/plain": [
       "    NT_GER TP_SEXO QE_I02 QE_I01 QE_I04 QE_I05 QE_I06 QE_I07 QE_I08 QE_I09 ...\n",
       "161 24.9   F       A      A      D      D      C      C      C      F      ...\n",
       "162 25.6   M       A      A      D      B      A      C      D      E      ...\n",
       "163 48.7   M       A      A      D      D      C      C      C      C      ...\n",
       "164 35.7   F       A      B      B      C      C      D      B      E      ...\n",
       "165 33.9   M       A      B      B      D      C      B      B      E      ...\n",
       "166 23.5   M       A      A      B      B      B      C      C      E      ...\n",
       "    QE_I41 QE_I45 QE_I57 QE_I58 QE_I59 QE_I61 QE_I62 QE_I63 QE_I64 QE_I68\n",
       "161 6      6      6      6      6      6      6      6      6      6     \n",
       "162 6      6      6      6      6      6      6      6      6      6     \n",
       "163 6      6      6      6      6      6      6      6      6      6     \n",
       "164 6      6      6      6      6      6      6      6      6      6     \n",
       "165 6      6      6      6      6      6      6      6      6      6     \n",
       "166 6      6      6      6      6      6      6      6      6      6     "
      ]
     },
     "metadata": {},
     "output_type": "display_data"
    }
   ],
   "source": [
    "head(df)"
   ]
  },
  {
   "cell_type": "code",
   "execution_count": 211,
   "id": "defensive-compilation",
   "metadata": {},
   "outputs": [
    {
     "data": {
      "text/html": [
       "0"
      ],
      "text/latex": [
       "0"
      ],
      "text/markdown": [
       "0"
      ],
      "text/plain": [
       "[1] 0"
      ]
     },
     "metadata": {},
     "output_type": "display_data"
    }
   ],
   "source": [
    "sum(df_1$renda == \"\")"
   ]
  },
  {
   "cell_type": "code",
   "execution_count": 212,
   "id": "fourth-involvement",
   "metadata": {},
   "outputs": [
    {
     "data": {
      "text/html": [
       "0"
      ],
      "text/latex": [
       "0"
      ],
      "text/markdown": [
       "0"
      ],
      "text/plain": [
       "[1] 0"
      ]
     },
     "metadata": {},
     "output_type": "display_data"
    }
   ],
   "source": [
    "sum(df_1$cor == \"\")"
   ]
  },
  {
   "cell_type": "code",
   "execution_count": 272,
   "id": "abstract-drain",
   "metadata": {},
   "outputs": [],
   "source": [
    "df_1 = dummy_cols(df_1, remove_first_dummy = TRUE)"
   ]
  },
  {
   "cell_type": "code",
   "execution_count": 273,
   "id": "permanent-moment",
   "metadata": {},
   "outputs": [
    {
     "data": {
      "text/html": [
       "<table>\n",
       "<thead><tr><th scope=col>nota</th><th scope=col>genero</th><th scope=col>cor</th><th scope=col>renda</th><th scope=col>genero_M</th><th scope=col>cor_B</th><th scope=col>cor_C</th><th scope=col>cor_D</th><th scope=col>cor_E</th><th scope=col>cor_F</th><th scope=col>...</th><th scope=col>renda_C</th><th scope=col>renda_D</th><th scope=col>renda_E</th><th scope=col>renda_F</th><th scope=col>renda_G</th><th scope=col>cor_parda</th><th scope=col>cor_preta</th><th scope=col>cor_amarela</th><th scope=col>cor_não declarado</th><th scope=col>cor_indigina</th></tr></thead>\n",
       "<tbody>\n",
       "\t<tr><td>24.9  </td><td>F     </td><td>branca</td><td>C     </td><td>0     </td><td>0     </td><td>0     </td><td>0     </td><td>0     </td><td>0     </td><td>...   </td><td>1     </td><td>0     </td><td>0     </td><td>0     </td><td>0     </td><td>0     </td><td>0     </td><td>0     </td><td>0     </td><td>0     </td></tr>\n",
       "\t<tr><td>25.6  </td><td>M     </td><td>branca</td><td>D     </td><td>1     </td><td>0     </td><td>0     </td><td>0     </td><td>0     </td><td>0     </td><td>...   </td><td>0     </td><td>1     </td><td>0     </td><td>0     </td><td>0     </td><td>0     </td><td>0     </td><td>0     </td><td>0     </td><td>0     </td></tr>\n",
       "\t<tr><td>48.7  </td><td>M     </td><td>branca</td><td>C     </td><td>1     </td><td>0     </td><td>0     </td><td>0     </td><td>0     </td><td>0     </td><td>...   </td><td>1     </td><td>0     </td><td>0     </td><td>0     </td><td>0     </td><td>0     </td><td>0     </td><td>0     </td><td>0     </td><td>0     </td></tr>\n",
       "\t<tr><td>35.7  </td><td>F     </td><td>branca</td><td>B     </td><td>0     </td><td>0     </td><td>0     </td><td>0     </td><td>0     </td><td>0     </td><td>...   </td><td>0     </td><td>0     </td><td>0     </td><td>0     </td><td>0     </td><td>0     </td><td>0     </td><td>0     </td><td>0     </td><td>0     </td></tr>\n",
       "\t<tr><td>33.9  </td><td>M     </td><td>branca</td><td>B     </td><td>1     </td><td>0     </td><td>0     </td><td>0     </td><td>0     </td><td>0     </td><td>...   </td><td>0     </td><td>0     </td><td>0     </td><td>0     </td><td>0     </td><td>0     </td><td>0     </td><td>0     </td><td>0     </td><td>0     </td></tr>\n",
       "\t<tr><td>23.5  </td><td>M     </td><td>branca</td><td>C     </td><td>1     </td><td>0     </td><td>0     </td><td>0     </td><td>0     </td><td>0     </td><td>...   </td><td>1     </td><td>0     </td><td>0     </td><td>0     </td><td>0     </td><td>0     </td><td>0     </td><td>0     </td><td>0     </td><td>0     </td></tr>\n",
       "</tbody>\n",
       "</table>\n"
      ],
      "text/latex": [
       "\\begin{tabular}{r|lllllllllllllllllllll}\n",
       " nota & genero & cor & renda & genero\\_M & cor\\_B & cor\\_C & cor\\_D & cor\\_E & cor\\_F & ... & renda\\_C & renda\\_D & renda\\_E & renda\\_F & renda\\_G & cor\\_parda & cor\\_preta & cor\\_amarela & cor\\_não declarado & cor\\_indigina\\\\\n",
       "\\hline\n",
       "\t 24.9   & F      & branca & C      & 0      & 0      & 0      & 0      & 0      & 0      & ...    & 1      & 0      & 0      & 0      & 0      & 0      & 0      & 0      & 0      & 0     \\\\\n",
       "\t 25.6   & M      & branca & D      & 1      & 0      & 0      & 0      & 0      & 0      & ...    & 0      & 1      & 0      & 0      & 0      & 0      & 0      & 0      & 0      & 0     \\\\\n",
       "\t 48.7   & M      & branca & C      & 1      & 0      & 0      & 0      & 0      & 0      & ...    & 1      & 0      & 0      & 0      & 0      & 0      & 0      & 0      & 0      & 0     \\\\\n",
       "\t 35.7   & F      & branca & B      & 0      & 0      & 0      & 0      & 0      & 0      & ...    & 0      & 0      & 0      & 0      & 0      & 0      & 0      & 0      & 0      & 0     \\\\\n",
       "\t 33.9   & M      & branca & B      & 1      & 0      & 0      & 0      & 0      & 0      & ...    & 0      & 0      & 0      & 0      & 0      & 0      & 0      & 0      & 0      & 0     \\\\\n",
       "\t 23.5   & M      & branca & C      & 1      & 0      & 0      & 0      & 0      & 0      & ...    & 1      & 0      & 0      & 0      & 0      & 0      & 0      & 0      & 0      & 0     \\\\\n",
       "\\end{tabular}\n"
      ],
      "text/markdown": [
       "\n",
       "| nota | genero | cor | renda | genero_M | cor_B | cor_C | cor_D | cor_E | cor_F | ... | renda_C | renda_D | renda_E | renda_F | renda_G | cor_parda | cor_preta | cor_amarela | cor_não declarado | cor_indigina |\n",
       "|---|---|---|---|---|---|---|---|---|---|---|---|---|---|---|---|---|---|---|---|---|\n",
       "| 24.9   | F      | branca | C      | 0      | 0      | 0      | 0      | 0      | 0      | ...    | 1      | 0      | 0      | 0      | 0      | 0      | 0      | 0      | 0      | 0      |\n",
       "| 25.6   | M      | branca | D      | 1      | 0      | 0      | 0      | 0      | 0      | ...    | 0      | 1      | 0      | 0      | 0      | 0      | 0      | 0      | 0      | 0      |\n",
       "| 48.7   | M      | branca | C      | 1      | 0      | 0      | 0      | 0      | 0      | ...    | 1      | 0      | 0      | 0      | 0      | 0      | 0      | 0      | 0      | 0      |\n",
       "| 35.7   | F      | branca | B      | 0      | 0      | 0      | 0      | 0      | 0      | ...    | 0      | 0      | 0      | 0      | 0      | 0      | 0      | 0      | 0      | 0      |\n",
       "| 33.9   | M      | branca | B      | 1      | 0      | 0      | 0      | 0      | 0      | ...    | 0      | 0      | 0      | 0      | 0      | 0      | 0      | 0      | 0      | 0      |\n",
       "| 23.5   | M      | branca | C      | 1      | 0      | 0      | 0      | 0      | 0      | ...    | 1      | 0      | 0      | 0      | 0      | 0      | 0      | 0      | 0      | 0      |\n",
       "\n"
      ],
      "text/plain": [
       "  nota genero cor    renda genero_M cor_B cor_C cor_D cor_E cor_F ... renda_C\n",
       "1 24.9 F      branca C     0        0     0     0     0     0     ... 1      \n",
       "2 25.6 M      branca D     1        0     0     0     0     0     ... 0      \n",
       "3 48.7 M      branca C     1        0     0     0     0     0     ... 1      \n",
       "4 35.7 F      branca B     0        0     0     0     0     0     ... 0      \n",
       "5 33.9 M      branca B     1        0     0     0     0     0     ... 0      \n",
       "6 23.5 M      branca C     1        0     0     0     0     0     ... 1      \n",
       "  renda_D renda_E renda_F renda_G cor_parda cor_preta cor_amarela\n",
       "1 0       0       0       0       0         0         0          \n",
       "2 1       0       0       0       0         0         0          \n",
       "3 0       0       0       0       0         0         0          \n",
       "4 0       0       0       0       0         0         0          \n",
       "5 0       0       0       0       0         0         0          \n",
       "6 0       0       0       0       0         0         0          \n",
       "  cor_não declarado cor_indigina\n",
       "1 0                 0           \n",
       "2 0                 0           \n",
       "3 0                 0           \n",
       "4 0                 0           \n",
       "5 0                 0           \n",
       "6 0                 0           "
      ]
     },
     "metadata": {},
     "output_type": "display_data"
    }
   ],
   "source": [
    "head(df_1)"
   ]
  },
  {
   "cell_type": "code",
   "execution_count": 219,
   "id": "sexual-audit",
   "metadata": {},
   "outputs": [
    {
     "data": {
      "text/plain": [
       "\n",
       "   A    B    C    D    E    F \n",
       "4893  618  186 2129   19  177 "
      ]
     },
     "metadata": {},
     "output_type": "display_data"
    }
   ],
   "source": [
    "table(df_1$cor)\n"
   ]
  },
  {
   "cell_type": "code",
   "execution_count": 232,
   "id": "divine-colors",
   "metadata": {},
   "outputs": [],
   "source": [
    "df_1$cor = mapvalues(df_1$cor, from=c(\"A\",\"B\",\"C\",\"D\",\"E\",\"F\"), to=c(\"branca\",\"preta\",\"amarela\",\"parda\",\"indigina\",\"não declarado\"))"
   ]
  },
  {
   "cell_type": "code",
   "execution_count": 267,
   "id": "excellent-fancy",
   "metadata": {},
   "outputs": [
    {
     "data": {
      "image/png": "[encoded data removed]",
      "text/plain": [
       "plot without title"
      ]
     },
     "metadata": {},
     "output_type": "display_data"
    }
   ],
   "source": [
    "options(repr.plot.width = 7, repr.plot.height = 5)\n",
    "ggplot(data=df_1, aes(y=nota, x=genero_M))+\n",
    "    geom_point(aes(color=genero), size=0.8)+\n",
    "    ggtitle(\"Distribuição das notas dos alunos de economia por gênero\")+\n",
    "    labs(x=\"Alunos\", y=\"Notas\")+\n",
    "    theme_bw()+\n",
    "    theme(title=element_text(size=12,color=\"turquoise4\"))"
   ]
  },
  {
   "cell_type": "code",
   "execution_count": 265,
   "id": "under-reproduction",
   "metadata": {},
   "outputs": [
    {
     "data": {
      "image/png": "[encoded data removed]",
      "text/plain": [
       "plot without title"
      ]
     },
     "metadata": {},
     "output_type": "display_data"
    }
   ],
   "source": [
    "df_1$cor = factor(df_1$cor, levels=names(sort(table(df_1$cor), decreasing=TRUE)))\n",
    "ggplot(data=df_1, aes(y=nota, x=cor))+\n",
    "    geom_point(aes(color=cor), size=0.8)+\n",
    "    ggtitle(\"Distribuição das notas dos alunos de economia por cor\")+\n",
    "    labs(x=\"Cor\", y=\"Notas\")+\n",
    "    theme_bw()+\n",
    "    theme(title=element_text(size=12,color=\"turquoise4\"))"
   ]
  },
  {
   "cell_type": "code",
   "execution_count": 266,
   "id": "curious-interpretation",
   "metadata": {},
   "outputs": [
    {
     "data": {
      "image/png": "[encoded data removed]",
      "text/plain": [
       "plot without title"
      ]
     },
     "metadata": {},
     "output_type": "display_data"
    }
   ],
   "source": [
    "ggplot(data=df_1, aes(y=nota, x=renda))+\n",
    "    geom_point(aes(color=renda), size=0.8)+\n",
    "    ggtitle(\"Distribuição das notas dos alunos de economia por renda\")+\n",
    "    labs(x=\"Classe de Renda\", y=\"Notas\")+\n",
    "    theme_bw()+\n",
    "    theme(title=element_text(size=12,color=\"turquoise4\"))"
   ]
  },
  {
   "cell_type": "code",
   "execution_count": 269,
   "id": "public-circuit",
   "metadata": {},
   "outputs": [
    {
     "name": "stdout",
     "output_type": "stream",
     "text": [
      "'data.frame':\t8022 obs. of  16 variables:\n",
      " $ nota    : num  24.9 25.6 48.7 35.7 33.9 23.5 32.2 20.9 48.9 39.4 ...\n",
      " $ genero  : chr  \"F\" \"M\" \"M\" \"F\" ...\n",
      " $ cor     : Factor w/ 6 levels \"branca\",\"parda\",..: 1 1 1 1 1 1 1 1 1 2 ...\n",
      " $ renda   : chr  \"C\" \"D\" \"C\" \"B\" ...\n",
      " $ genero_M: int  0 1 1 0 1 1 0 0 1 0 ...\n",
      " $ cor_B   : int  0 0 0 0 0 0 0 0 0 0 ...\n",
      " $ cor_C   : int  0 0 0 0 0 0 0 0 0 0 ...\n",
      " $ cor_D   : int  0 0 0 0 0 0 0 0 0 1 ...\n",
      " $ cor_E   : int  0 0 0 0 0 0 0 0 0 0 ...\n",
      " $ cor_F   : int  0 0 0 0 0 0 0 0 0 0 ...\n",
      " $ renda_B : int  0 0 0 1 1 0 1 0 0 0 ...\n",
      " $ renda_C : int  1 0 1 0 0 1 0 1 0 1 ...\n",
      " $ renda_D : int  0 1 0 0 0 0 0 0 1 0 ...\n",
      " $ renda_E : int  0 0 0 0 0 0 0 0 0 0 ...\n",
      " $ renda_F : int  0 0 0 0 0 0 0 0 0 0 ...\n",
      " $ renda_G : int  0 0 0 0 0 0 0 0 0 0 ...\n"
     ]
    }
   ],
   "source": [
    "str(df_1)"
   ]
  },
  {
   "cell_type": "code",
   "execution_count": null,
   "id": "sacred-generation",
   "metadata": {},
   "outputs": [],
   "source": []
  }
 ],
 "metadata": {
  "kernelspec": {
   "display_name": "R",
   "language": "R",
   "name": "ir"
  },
  "language_info": {
   "codemirror_mode": "r",
   "file_extension": ".r",
   "mimetype": "text/x-r-source",
   "name": "R",
   "pygments_lexer": "r",
   "version": "3.6.1"
  }
 },
 "nbformat": 4,
 "nbformat_minor": 5
}
