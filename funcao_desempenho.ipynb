{
 "cells": [
  {
   "cell_type": "markdown",
   "id": "recreational-person",
   "metadata": {},
   "source": [
    "# Regressão Linear Múltipla\n",
    "* Criar uma função de produção de educação dos cursos de economia no Brasil ou função de desempenho\n",
    "* Variáveis que traduzem características do aluno como: esforço, família, história, estrutura, sexo e cor\n",
    "*  É utilizada para controlar outros fatores que estejam relacionados à variável dependente: variável de interesse e variável de controle. \n",
    "* Busca da explicação da correlação entre as variáveis para explicar o desempenho dos alunos de economia do país.\n",
    "* Individuar a variável de interesse e controlar o conjunto de variáveis de controle de mesmo grupo, mantendo todo o resto constante. Isso mantêm as mesmas características.\n",
    "* Controlar outros fatores que estejam relacionados a variável de interesse. Caso contrário eles devem refletir no termo erro e resultar num padrão de comportamento que não esta nas variáveis independentes.\n",
    "> Problema: muitas das variáveis independentes podem ser correlacionadas entre si e resultar em  multicolinearidade.\n",
    "\n",
    "    > A multicolinearidade deixa o estimador ineficiente: ou seja, ele não é o estimador com a menor variância possível, a estatística T deve ficar menor, provavelmente regeitando a hipótese nula. Induzindo a multicolinearidade as estatísticas ficam menores, regeitando a hipótese nula por uma característica que não é do modelo e sim de das variáveis. \n",
    "    \n",
    "    > Testes ('F') para saber qual variável se adequa mais ao modelo. Talvez criar um avariável que tome conta de todas\n",
    "    \n",
    "* Hoje em dia é possível construir fatores para driblar o problema da multicolinearidade. \n",
    "* Vetores Ortogonais: Umvetor de variável não esta correlacionado com o outro (análise fatorial)\n",
    "* Construção de um índice utilizando todas as variáveis correlacionadas \n",
    "---\n",
    "1. Matriz de correlação entre as variáveis\n",
    "\n",
    "\n"
   ]
  },
  {
   "cell_type": "code",
   "execution_count": 2,
   "id": "acquired-enclosure",
   "metadata": {},
   "outputs": [],
   "source": [
    "library(dplyr)\n",
    "library(ggplot2)\n",
    "library(gplots)\n",
    "library(cowplot)\n",
    "library(graphics)\n",
    "library(lmtest)\n",
    "library(ggpubr)\n",
    "library(Amelia)\n",
    "library(plyr)\n",
    "library(fastDummies)"
   ]
  },
  {
   "cell_type": "code",
   "execution_count": 8,
   "id": "cross-nebraska",
   "metadata": {},
   "outputs": [
    {
     "data": {
      "text/html": [
       "<table>\n",
       "<thead><tr><th scope=col>NU_ANO</th><th scope=col>CO_IES</th><th scope=col>CO_CATEGAD</th><th scope=col>CO_ORGACAD</th><th scope=col>CO_GRUPO</th><th scope=col>CO_CURSO</th><th scope=col>CO_MODALIDADE</th><th scope=col>CO_MUNIC_CURSO</th><th scope=col>CO_UF_CURSO</th><th scope=col>CO_REGIAO_CURSO</th><th scope=col>...</th><th scope=col>QE_I59</th><th scope=col>QE_I60</th><th scope=col>QE_I61</th><th scope=col>QE_I62</th><th scope=col>QE_I63</th><th scope=col>QE_I64</th><th scope=col>QE_I65</th><th scope=col>QE_I66</th><th scope=col>QE_I67</th><th scope=col>QE_I68</th></tr></thead>\n",
       "<tbody>\n",
       "\t<tr><td>2018   </td><td>1356   </td><td>10003  </td><td>10020  </td><td>1      </td><td>47116  </td><td>1      </td><td>3546603</td><td>35     </td><td>3      </td><td>...    </td><td>6      </td><td>6      </td><td>6      </td><td>6      </td><td>6      </td><td>6      </td><td>6      </td><td>6      </td><td>6      </td><td>5      </td></tr>\n",
       "\t<tr><td>2018   </td><td>1356   </td><td>10003  </td><td>10020  </td><td>1      </td><td>47116  </td><td>1      </td><td>3546603</td><td>35     </td><td>3      </td><td>...    </td><td>6      </td><td>6      </td><td>6      </td><td>6      </td><td>6      </td><td>6      </td><td>6      </td><td>6      </td><td>6      </td><td>6      </td></tr>\n",
       "\t<tr><td>2018   </td><td>1356   </td><td>10003  </td><td>10020  </td><td>1      </td><td>47116  </td><td>1      </td><td>3546603</td><td>35     </td><td>3      </td><td>...    </td><td>6      </td><td>6      </td><td>6      </td><td>6      </td><td>6      </td><td>6      </td><td>6      </td><td>6      </td><td>6      </td><td>5      </td></tr>\n",
       "\t<tr><td>2018   </td><td>1356   </td><td>10003  </td><td>10020  </td><td>1      </td><td>47116  </td><td>1      </td><td>3546603</td><td>35     </td><td>3      </td><td>...    </td><td>6      </td><td>6      </td><td>6      </td><td>6      </td><td>5      </td><td>6      </td><td>6      </td><td>6      </td><td>6      </td><td>4      </td></tr>\n",
       "\t<tr><td>2018   </td><td>1356   </td><td>10003  </td><td>10020  </td><td>1      </td><td>47116  </td><td>1      </td><td>3546603</td><td>35     </td><td>3      </td><td>...    </td><td>6      </td><td>6      </td><td>6      </td><td>6      </td><td>6      </td><td>6      </td><td>6      </td><td>6      </td><td>6      </td><td>6      </td></tr>\n",
       "\t<tr><td>2018   </td><td>1356   </td><td>10003  </td><td>10020  </td><td>1      </td><td>47116  </td><td>1      </td><td>3546603</td><td>35     </td><td>3      </td><td>...    </td><td>6      </td><td>5      </td><td>6      </td><td>6      </td><td>6      </td><td>6      </td><td>6      </td><td>6      </td><td>6      </td><td>5      </td></tr>\n",
       "</tbody>\n",
       "</table>\n"
      ],
      "text/latex": [
       "\\begin{tabular}{r|lllllllllllllllllllllllllllllllllllllllllllllllllllllllllllllllllllllllllllllllllllllllllllllllllllllllllllllllllllllllllllllllllllllllll}\n",
       " NU\\_ANO & CO\\_IES & CO\\_CATEGAD & CO\\_ORGACAD & CO\\_GRUPO & CO\\_CURSO & CO\\_MODALIDADE & CO\\_MUNIC\\_CURSO & CO\\_UF\\_CURSO & CO\\_REGIAO\\_CURSO & ... & QE\\_I59 & QE\\_I60 & QE\\_I61 & QE\\_I62 & QE\\_I63 & QE\\_I64 & QE\\_I65 & QE\\_I66 & QE\\_I67 & QE\\_I68\\\\\n",
       "\\hline\n",
       "\t 2018    & 1356    & 10003   & 10020   & 1       & 47116   & 1       & 3546603 & 35      & 3       & ...     & 6       & 6       & 6       & 6       & 6       & 6       & 6       & 6       & 6       & 5      \\\\\n",
       "\t 2018    & 1356    & 10003   & 10020   & 1       & 47116   & 1       & 3546603 & 35      & 3       & ...     & 6       & 6       & 6       & 6       & 6       & 6       & 6       & 6       & 6       & 6      \\\\\n",
       "\t 2018    & 1356    & 10003   & 10020   & 1       & 47116   & 1       & 3546603 & 35      & 3       & ...     & 6       & 6       & 6       & 6       & 6       & 6       & 6       & 6       & 6       & 5      \\\\\n",
       "\t 2018    & 1356    & 10003   & 10020   & 1       & 47116   & 1       & 3546603 & 35      & 3       & ...     & 6       & 6       & 6       & 6       & 5       & 6       & 6       & 6       & 6       & 4      \\\\\n",
       "\t 2018    & 1356    & 10003   & 10020   & 1       & 47116   & 1       & 3546603 & 35      & 3       & ...     & 6       & 6       & 6       & 6       & 6       & 6       & 6       & 6       & 6       & 6      \\\\\n",
       "\t 2018    & 1356    & 10003   & 10020   & 1       & 47116   & 1       & 3546603 & 35      & 3       & ...     & 6       & 5       & 6       & 6       & 6       & 6       & 6       & 6       & 6       & 5      \\\\\n",
       "\\end{tabular}\n"
      ],
      "text/markdown": [
       "\n",
       "| NU_ANO | CO_IES | CO_CATEGAD | CO_ORGACAD | CO_GRUPO | CO_CURSO | CO_MODALIDADE | CO_MUNIC_CURSO | CO_UF_CURSO | CO_REGIAO_CURSO | ... | QE_I59 | QE_I60 | QE_I61 | QE_I62 | QE_I63 | QE_I64 | QE_I65 | QE_I66 | QE_I67 | QE_I68 |\n",
       "|---|---|---|---|---|---|---|---|---|---|---|---|---|---|---|---|---|---|---|---|---|\n",
       "| 2018    | 1356    | 10003   | 10020   | 1       | 47116   | 1       | 3546603 | 35      | 3       | ...     | 6       | 6       | 6       | 6       | 6       | 6       | 6       | 6       | 6       | 5       |\n",
       "| 2018    | 1356    | 10003   | 10020   | 1       | 47116   | 1       | 3546603 | 35      | 3       | ...     | 6       | 6       | 6       | 6       | 6       | 6       | 6       | 6       | 6       | 6       |\n",
       "| 2018    | 1356    | 10003   | 10020   | 1       | 47116   | 1       | 3546603 | 35      | 3       | ...     | 6       | 6       | 6       | 6       | 6       | 6       | 6       | 6       | 6       | 5       |\n",
       "| 2018    | 1356    | 10003   | 10020   | 1       | 47116   | 1       | 3546603 | 35      | 3       | ...     | 6       | 6       | 6       | 6       | 5       | 6       | 6       | 6       | 6       | 4       |\n",
       "| 2018    | 1356    | 10003   | 10020   | 1       | 47116   | 1       | 3546603 | 35      | 3       | ...     | 6       | 6       | 6       | 6       | 6       | 6       | 6       | 6       | 6       | 6       |\n",
       "| 2018    | 1356    | 10003   | 10020   | 1       | 47116   | 1       | 3546603 | 35      | 3       | ...     | 6       | 5       | 6       | 6       | 6       | 6       | 6       | 6       | 6       | 5       |\n",
       "\n"
      ],
      "text/plain": [
       "  NU_ANO CO_IES CO_CATEGAD CO_ORGACAD CO_GRUPO CO_CURSO CO_MODALIDADE\n",
       "1 2018   1356   10003      10020      1        47116    1            \n",
       "2 2018   1356   10003      10020      1        47116    1            \n",
       "3 2018   1356   10003      10020      1        47116    1            \n",
       "4 2018   1356   10003      10020      1        47116    1            \n",
       "5 2018   1356   10003      10020      1        47116    1            \n",
       "6 2018   1356   10003      10020      1        47116    1            \n",
       "  CO_MUNIC_CURSO CO_UF_CURSO CO_REGIAO_CURSO ... QE_I59 QE_I60 QE_I61 QE_I62\n",
       "1 3546603        35          3               ... 6      6      6      6     \n",
       "2 3546603        35          3               ... 6      6      6      6     \n",
       "3 3546603        35          3               ... 6      6      6      6     \n",
       "4 3546603        35          3               ... 6      6      6      6     \n",
       "5 3546603        35          3               ... 6      6      6      6     \n",
       "6 3546603        35          3               ... 6      5      6      6     \n",
       "  QE_I63 QE_I64 QE_I65 QE_I66 QE_I67 QE_I68\n",
       "1 6      6      6      6      6      5     \n",
       "2 6      6      6      6      6      6     \n",
       "3 6      6      6      6      6      5     \n",
       "4 5      6      6      6      6      4     \n",
       "5 6      6      6      6      6      6     \n",
       "6 6      6      6      6      6      5     "
      ]
     },
     "metadata": {},
     "output_type": "display_data"
    }
   ],
   "source": [
    "data = read.table(\"dataset/enade.txt\",sep=\";\", dec = \",\", header = TRUE)\n",
    "head(data)"
   ]
  },
  {
   "cell_type": "code",
   "execution_count": 4,
   "id": "natural-wrong",
   "metadata": {},
   "outputs": [
    {
     "data": {
      "text/html": [
       "<ol class=list-inline>\n",
       "\t<li>548127</li>\n",
       "\t<li>137</li>\n",
       "</ol>\n"
      ],
      "text/latex": [
       "\\begin{enumerate*}\n",
       "\\item 548127\n",
       "\\item 137\n",
       "\\end{enumerate*}\n"
      ],
      "text/markdown": [
       "1. 548127\n",
       "2. 137\n",
       "\n",
       "\n"
      ],
      "text/plain": [
       "[1] 548127    137"
      ]
     },
     "metadata": {},
     "output_type": "display_data"
    }
   ],
   "source": [
    "dim(data)"
   ]
  },
  {
   "cell_type": "markdown",
   "id": "perfect-slovakia",
   "metadata": {},
   "source": [
    "# Alunos de Ciências Econômicas que fizeram o Enade\n"
   ]
  },
  {
   "cell_type": "code",
   "execution_count": 9,
   "id": "imperial-creativity",
   "metadata": {
    "scrolled": true
   },
   "outputs": [
    {
     "data": {
      "text/html": [
       "<table>\n",
       "<thead><tr><th></th><th scope=col>NU_ANO</th><th scope=col>CO_IES</th><th scope=col>CO_CATEGAD</th><th scope=col>CO_ORGACAD</th><th scope=col>CO_GRUPO</th><th scope=col>CO_CURSO</th><th scope=col>CO_MODALIDADE</th><th scope=col>CO_MUNIC_CURSO</th><th scope=col>CO_UF_CURSO</th><th scope=col>CO_REGIAO_CURSO</th><th scope=col>...</th><th scope=col>QE_I59</th><th scope=col>QE_I60</th><th scope=col>QE_I61</th><th scope=col>QE_I62</th><th scope=col>QE_I63</th><th scope=col>QE_I64</th><th scope=col>QE_I65</th><th scope=col>QE_I66</th><th scope=col>QE_I67</th><th scope=col>QE_I68</th></tr></thead>\n",
       "<tbody>\n",
       "\t<tr><th scope=row>161</th><td>2018   </td><td>1780   </td><td>10008  </td><td>10022  </td><td>13     </td><td>81867  </td><td>1      </td><td>4309605</td><td>43     </td><td>4      </td><td>...    </td><td>6      </td><td>6      </td><td>6      </td><td>6      </td><td>6      </td><td>6      </td><td>6      </td><td>6      </td><td>6      </td><td>6      </td></tr>\n",
       "\t<tr><th scope=row>162</th><td>2018   </td><td>1780   </td><td>10008  </td><td>10022  </td><td>13     </td><td>81867  </td><td>1      </td><td>4309605</td><td>43     </td><td>4      </td><td>...    </td><td>6      </td><td>6      </td><td>6      </td><td>6      </td><td>6      </td><td>6      </td><td>6      </td><td>6      </td><td>6      </td><td>6      </td></tr>\n",
       "\t<tr><th scope=row>163</th><td>2018   </td><td>1780   </td><td>10008  </td><td>10022  </td><td>13     </td><td>81867  </td><td>1      </td><td>4309605</td><td>43     </td><td>4      </td><td>...    </td><td>6      </td><td>6      </td><td>6      </td><td>6      </td><td>6      </td><td>6      </td><td>6      </td><td>6      </td><td>6      </td><td>6      </td></tr>\n",
       "\t<tr><th scope=row>164</th><td>2018   </td><td>1780   </td><td>10008  </td><td>10022  </td><td>13     </td><td>81867  </td><td>1      </td><td>4309605</td><td>43     </td><td>4      </td><td>...    </td><td>6      </td><td>6      </td><td>6      </td><td>6      </td><td>6      </td><td>6      </td><td>6      </td><td>6      </td><td>6      </td><td>6      </td></tr>\n",
       "\t<tr><th scope=row>165</th><td>2018   </td><td>1780   </td><td>10008  </td><td>10022  </td><td>13     </td><td>81867  </td><td>1      </td><td>4309605</td><td>43     </td><td>4      </td><td>...    </td><td>6      </td><td>6      </td><td>6      </td><td>6      </td><td>6      </td><td>6      </td><td>6      </td><td>6      </td><td>6      </td><td>6      </td></tr>\n",
       "\t<tr><th scope=row>166</th><td>2018   </td><td>1780   </td><td>10008  </td><td>10022  </td><td>13     </td><td>81867  </td><td>1      </td><td>4309605</td><td>43     </td><td>4      </td><td>...    </td><td>6      </td><td>6      </td><td>6      </td><td>6      </td><td>6      </td><td>6      </td><td>6      </td><td>6      </td><td>6      </td><td>6      </td></tr>\n",
       "</tbody>\n",
       "</table>\n"
      ],
      "text/latex": [
       "\\begin{tabular}{r|lllllllllllllllllllllllllllllllllllllllllllllllllllllllllllllllllllllllllllllllllllllllllllllllllllllllllllllllllllllllllllllllllllllllll}\n",
       "  & NU\\_ANO & CO\\_IES & CO\\_CATEGAD & CO\\_ORGACAD & CO\\_GRUPO & CO\\_CURSO & CO\\_MODALIDADE & CO\\_MUNIC\\_CURSO & CO\\_UF\\_CURSO & CO\\_REGIAO\\_CURSO & ... & QE\\_I59 & QE\\_I60 & QE\\_I61 & QE\\_I62 & QE\\_I63 & QE\\_I64 & QE\\_I65 & QE\\_I66 & QE\\_I67 & QE\\_I68\\\\\n",
       "\\hline\n",
       "\t161 & 2018    & 1780    & 10008   & 10022   & 13      & 81867   & 1       & 4309605 & 43      & 4       & ...     & 6       & 6       & 6       & 6       & 6       & 6       & 6       & 6       & 6       & 6      \\\\\n",
       "\t162 & 2018    & 1780    & 10008   & 10022   & 13      & 81867   & 1       & 4309605 & 43      & 4       & ...     & 6       & 6       & 6       & 6       & 6       & 6       & 6       & 6       & 6       & 6      \\\\\n",
       "\t163 & 2018    & 1780    & 10008   & 10022   & 13      & 81867   & 1       & 4309605 & 43      & 4       & ...     & 6       & 6       & 6       & 6       & 6       & 6       & 6       & 6       & 6       & 6      \\\\\n",
       "\t164 & 2018    & 1780    & 10008   & 10022   & 13      & 81867   & 1       & 4309605 & 43      & 4       & ...     & 6       & 6       & 6       & 6       & 6       & 6       & 6       & 6       & 6       & 6      \\\\\n",
       "\t165 & 2018    & 1780    & 10008   & 10022   & 13      & 81867   & 1       & 4309605 & 43      & 4       & ...     & 6       & 6       & 6       & 6       & 6       & 6       & 6       & 6       & 6       & 6      \\\\\n",
       "\t166 & 2018    & 1780    & 10008   & 10022   & 13      & 81867   & 1       & 4309605 & 43      & 4       & ...     & 6       & 6       & 6       & 6       & 6       & 6       & 6       & 6       & 6       & 6      \\\\\n",
       "\\end{tabular}\n"
      ],
      "text/markdown": [
       "\n",
       "| <!--/--> | NU_ANO | CO_IES | CO_CATEGAD | CO_ORGACAD | CO_GRUPO | CO_CURSO | CO_MODALIDADE | CO_MUNIC_CURSO | CO_UF_CURSO | CO_REGIAO_CURSO | ... | QE_I59 | QE_I60 | QE_I61 | QE_I62 | QE_I63 | QE_I64 | QE_I65 | QE_I66 | QE_I67 | QE_I68 |\n",
       "|---|---|---|---|---|---|---|---|---|---|---|---|---|---|---|---|---|---|---|---|---|---|\n",
       "| 161 | 2018    | 1780    | 10008   | 10022   | 13      | 81867   | 1       | 4309605 | 43      | 4       | ...     | 6       | 6       | 6       | 6       | 6       | 6       | 6       | 6       | 6       | 6       |\n",
       "| 162 | 2018    | 1780    | 10008   | 10022   | 13      | 81867   | 1       | 4309605 | 43      | 4       | ...     | 6       | 6       | 6       | 6       | 6       | 6       | 6       | 6       | 6       | 6       |\n",
       "| 163 | 2018    | 1780    | 10008   | 10022   | 13      | 81867   | 1       | 4309605 | 43      | 4       | ...     | 6       | 6       | 6       | 6       | 6       | 6       | 6       | 6       | 6       | 6       |\n",
       "| 164 | 2018    | 1780    | 10008   | 10022   | 13      | 81867   | 1       | 4309605 | 43      | 4       | ...     | 6       | 6       | 6       | 6       | 6       | 6       | 6       | 6       | 6       | 6       |\n",
       "| 165 | 2018    | 1780    | 10008   | 10022   | 13      | 81867   | 1       | 4309605 | 43      | 4       | ...     | 6       | 6       | 6       | 6       | 6       | 6       | 6       | 6       | 6       | 6       |\n",
       "| 166 | 2018    | 1780    | 10008   | 10022   | 13      | 81867   | 1       | 4309605 | 43      | 4       | ...     | 6       | 6       | 6       | 6       | 6       | 6       | 6       | 6       | 6       | 6       |\n",
       "\n"
      ],
      "text/plain": [
       "    NU_ANO CO_IES CO_CATEGAD CO_ORGACAD CO_GRUPO CO_CURSO CO_MODALIDADE\n",
       "161 2018   1780   10008      10022      13       81867    1            \n",
       "162 2018   1780   10008      10022      13       81867    1            \n",
       "163 2018   1780   10008      10022      13       81867    1            \n",
       "164 2018   1780   10008      10022      13       81867    1            \n",
       "165 2018   1780   10008      10022      13       81867    1            \n",
       "166 2018   1780   10008      10022      13       81867    1            \n",
       "    CO_MUNIC_CURSO CO_UF_CURSO CO_REGIAO_CURSO ... QE_I59 QE_I60 QE_I61 QE_I62\n",
       "161 4309605        43          4               ... 6      6      6      6     \n",
       "162 4309605        43          4               ... 6      6      6      6     \n",
       "163 4309605        43          4               ... 6      6      6      6     \n",
       "164 4309605        43          4               ... 6      6      6      6     \n",
       "165 4309605        43          4               ... 6      6      6      6     \n",
       "166 4309605        43          4               ... 6      6      6      6     \n",
       "    QE_I63 QE_I64 QE_I65 QE_I66 QE_I67 QE_I68\n",
       "161 6      6      6      6      6      6     \n",
       "162 6      6      6      6      6      6     \n",
       "163 6      6      6      6      6      6     \n",
       "164 6      6      6      6      6      6     \n",
       "165 6      6      6      6      6      6     \n",
       "166 6      6      6      6      6      6     "
      ]
     },
     "metadata": {},
     "output_type": "display_data"
    },
    {
     "data": {
      "text/html": [
       "<ol class=list-inline>\n",
       "\t<li>8075</li>\n",
       "\t<li>137</li>\n",
       "</ol>\n"
      ],
      "text/latex": [
       "\\begin{enumerate*}\n",
       "\\item 8075\n",
       "\\item 137\n",
       "\\end{enumerate*}\n"
      ],
      "text/markdown": [
       "1. 8075\n",
       "2. 137\n",
       "\n",
       "\n"
      ],
      "text/plain": [
       "[1] 8075  137"
      ]
     },
     "metadata": {},
     "output_type": "display_data"
    }
   ],
   "source": [
    "df = data[data$CO_GRUPO == 13 & data$TP_PRES == 555,]\n",
    "head(df)\n",
    "dim(df)\n"
   ]
  },
  {
   "cell_type": "markdown",
   "id": "funded-thread",
   "metadata": {},
   "source": [
    "# Variáveis de interesse\n",
    "### Ponderação: esforço, família, história, estrutura da universidade, sexo e raça\n",
    "* Notas Gerais = 45 NT_GER\n",
    "* Código da IES = 3 CO_CATEGAD\n",
    "1. Sexo = 12 TP_SEXO\n",
    "2. Raça ou Cor = 71 QE_I02\n",
    "## Família\n",
    "3. Estado Civil = 70 QE_I01\n",
    "4. Escolaridade do pai = 73 QE_I04\n",
    "5. Escolaridade da mãe = 74 QE_I05\n",
    "6. Moradia = 75 QE_I06\n",
    "7. Quantas pessoas moram com o estudante = 76 74 QE_I07\n",
    "8. Renda total da família = 77 QE_I08\n",
    "9. Situação Financeira = 78 QE_I09\n",
    "10. Situação de Trabalho = 79 QE_I10\n",
    "11. Contemplado com bolsa = 80 QE_I11\n",
    "12. Se recebeu algum tipo de bolsa de permanência = 81 QE_I12\n",
    "13. Se recebeu algum tipo de bolsa acadêmica = 82 QE_I13\n",
    "14. Ingresso por meio de política de ação afirmativa ou inclusão social = 84 QE_I15\n",
    "15. Tipo de escola cursou o ensino médio = 86 QE_I17\n",
    "16. Modalidade de ensino = 87 QE_I18\n",
    "17. Incentivo = 88 QE_I19\n",
    "18. Grupo que ajudou a enfrentar dificuldades = 89 QE_I20\n",
    "19. Alguêm da família que concluiu o ensino superir = 90 QE_I21\n",
    "20. Quantidade de livros lido = 91 QE_I22\n",
    "21. Horas dedicadas as estudo = 92 QE_I23\n",
    "22. Motivo para ter escolhido a instituição de ensino = 94 QE_I25\n",
    "23. O curso ofereceu oportunidades para superar dificuldades = 109 QE_I40\n",
    "24. O curso exigiu organização e dedicação aos estudos = 111 QE_I42\n",
    "## Estrutura da universidade\n",
    "25. Metodologia de ensino = 98 QE_I29\n",
    "26. Plano de ensino = 107 QE_I38\n",
    "27. Coordenação = 110 QE_I41\n",
    "28. Enventos = 114 QE_I45 \n",
    "29. Domínio do conteúdo pelos professores = 126 QE_I57\n",
    "30. Tecnologia da informação TIC's = 127 QE_I58\n",
    "31. Quantidade de funcionários de apoio = 128 QE_I59\n",
    "32. Infraestrutura das salas = 130 QE_I61\n",
    "33. Equipamentos e materiais para aulas práticas em número suficiente = 131 QE_I62\n",
    "34. Ambientes e equipamentos para aulas práticas adequados = 132 QE_I63\n",
    "35. Biblioteca = 133 QE_I64\n",
    "36. Refeitorio, cantina e banheiros em condições adequadas = 137 QE_I68\n",
    "\n"
   ]
  },
  {
   "cell_type": "code",
   "execution_count": 12,
   "id": "monthly-float",
   "metadata": {},
   "outputs": [],
   "source": [
    "df = select(df, 3, 45, 12, 71, 70, 73, 74, 75, 76, 77, 78, 79, 80, 81, 82, 84, 86, 87, 88, 89, 90, 91, 92, 94, 109, 111, 98, 107, 110, 114, 126, 127, 128, 130, 131, 132, 133, 137)"
   ]
  },
  {
   "cell_type": "code",
   "execution_count": 13,
   "id": "prepared-defeat",
   "metadata": {},
   "outputs": [
    {
     "data": {
      "text/html": [
       "<ol class=list-inline>\n",
       "\t<li>8075</li>\n",
       "\t<li>38</li>\n",
       "</ol>\n"
      ],
      "text/latex": [
       "\\begin{enumerate*}\n",
       "\\item 8075\n",
       "\\item 38\n",
       "\\end{enumerate*}\n"
      ],
      "text/markdown": [
       "1. 8075\n",
       "2. 38\n",
       "\n",
       "\n"
      ],
      "text/plain": [
       "[1] 8075   38"
      ]
     },
     "metadata": {},
     "output_type": "display_data"
    }
   ],
   "source": [
    "dim(df)"
   ]
  },
  {
   "cell_type": "code",
   "execution_count": 14,
   "id": "authentic-monster",
   "metadata": {
    "scrolled": false
   },
   "outputs": [
    {
     "name": "stdout",
     "output_type": "stream",
     "text": [
      "'data.frame':\t8075 obs. of  38 variables:\n",
      " $ CO_CATEGAD: int  10008 10008 10008 10008 10008 10008 10008 10008 10008 10008 ...\n",
      " $ NT_GER    : num  24.9 25.6 48.7 35.7 33.9 23.5 32.2 20.9 48.9 39.4 ...\n",
      " $ TP_SEXO   : Factor w/ 2 levels \"F\",\"M\": 1 2 2 1 2 2 1 1 2 1 ...\n",
      " $ QE_I02    : Factor w/ 7 levels \"\",\"A\",\"B\",\"C\",..: 2 2 2 2 2 2 2 2 2 5 ...\n",
      " $ QE_I01    : Factor w/ 6 levels \"\",\"A\",\"B\",\"C\",..: 2 2 2 3 3 2 2 2 2 2 ...\n",
      " $ QE_I04    : Factor w/ 7 levels \"\",\"A\",\"B\",\"C\",..: 5 5 5 3 3 3 4 3 4 3 ...\n",
      " $ QE_I05    : Factor w/ 7 levels \"\",\"A\",\"B\",\"C\",..: 5 3 5 4 5 3 5 3 5 4 ...\n",
      " $ QE_I06    : Factor w/ 7 levels \"\",\"A\",\"B\",\"C\",..: 4 2 4 4 4 3 3 4 3 3 ...\n",
      " $ QE_I07    : Factor w/ 9 levels \"\",\"A\",\"B\",\"C\",..: 4 4 4 5 3 4 6 4 5 4 ...\n",
      " $ QE_I08    : Factor w/ 8 levels \"\",\"A\",\"B\",\"C\",..: 4 5 4 3 3 4 3 4 5 4 ...\n",
      " $ QE_I09    : Factor w/ 7 levels \"\",\"A\",\"B\",\"C\",..: 7 6 4 6 6 6 3 7 4 5 ...\n",
      " $ QE_I10    : Factor w/ 6 levels \"\",\"A\",\"B\",\"C\",..: 6 6 6 6 6 6 2 6 4 5 ...\n",
      " $ QE_I11    : Factor w/ 12 levels \"\",\"A\",\"B\",\"C\",..: 4 3 4 6 9 3 4 9 3 4 ...\n",
      " $ QE_I12    : Factor w/ 7 levels \"\",\"A\",\"B\",\"C\",..: 2 2 2 2 2 4 2 2 2 2 ...\n",
      " $ QE_I13    : Factor w/ 7 levels \"\",\"A\",\"B\",\"C\",..: 2 2 2 2 2 7 2 2 7 2 ...\n",
      " $ QE_I15    : Factor w/ 7 levels \"\",\"A\",\"B\",\"C\",..: 2 2 4 2 4 2 4 2 2 2 ...\n",
      " $ QE_I17    : Factor w/ 7 levels \"\",\"A\",\"B\",\"C\",..: 2 5 5 2 3 3 2 3 2 2 ...\n",
      " $ QE_I18    : Factor w/ 6 levels \"\",\"A\",\"B\",\"C\",..: 2 3 2 2 5 3 2 3 2 2 ...\n",
      " $ QE_I19    : Factor w/ 8 levels \"\",\"A\",\"B\",\"C\",..: 3 3 2 3 3 3 3 4 3 3 ...\n",
      " $ QE_I20    : Factor w/ 12 levels \"\",\"A\",\"B\",\"C\",..: 8 9 4 4 2 9 2 12 8 4 ...\n",
      " $ QE_I21    : Factor w/ 3 levels \"\",\"A\",\"B\": 3 2 3 2 2 3 3 2 2 3 ...\n",
      " $ QE_I22    : Factor w/ 6 levels \"\",\"A\",\"B\",\"C\",..: 4 4 5 3 6 4 6 4 4 3 ...\n",
      " $ QE_I23    : Factor w/ 6 levels \"\",\"A\",\"B\",\"C\",..: 4 3 4 3 4 4 6 4 6 3 ...\n",
      " $ QE_I25    : Factor w/ 9 levels \"\",\"A\",\"B\",\"C\",..: 4 4 4 4 2 2 6 4 6 2 ...\n",
      " $ QE_I40    : int  6 6 6 6 6 6 6 6 6 6 ...\n",
      " $ QE_I42    : int  6 6 6 6 6 6 6 6 6 6 ...\n",
      " $ QE_I29    : int  6 6 6 6 6 6 6 6 6 6 ...\n",
      " $ QE_I38    : int  6 6 6 6 6 6 6 6 6 6 ...\n",
      " $ QE_I41    : int  6 6 6 6 6 6 6 6 6 6 ...\n",
      " $ QE_I45    : int  6 6 6 6 6 6 6 6 6 6 ...\n",
      " $ QE_I57    : int  6 6 6 6 6 6 6 6 6 6 ...\n",
      " $ QE_I58    : int  6 6 6 6 6 6 6 6 6 6 ...\n",
      " $ QE_I59    : int  6 6 6 6 6 6 6 6 6 6 ...\n",
      " $ QE_I61    : int  6 6 6 6 6 6 6 6 6 6 ...\n",
      " $ QE_I62    : int  6 6 6 6 6 6 6 6 6 6 ...\n",
      " $ QE_I63    : int  6 6 6 6 6 6 6 6 6 6 ...\n",
      " $ QE_I64    : int  6 6 6 6 6 6 6 6 6 6 ...\n",
      " $ QE_I68    : int  6 6 6 6 6 6 6 6 6 6 ...\n"
     ]
    }
   ],
   "source": [
    "str(df)"
   ]
  },
  {
   "cell_type": "markdown",
   "id": "unable-surgery",
   "metadata": {},
   "source": [
    "# Valores ausentes"
   ]
  },
  {
   "cell_type": "code",
   "execution_count": 15,
   "id": "demanding-certificate",
   "metadata": {},
   "outputs": [
    {
     "data": {
      "text/html": [
       "<dl class=dl-horizontal>\n",
       "\t<dt>CO_CATEGAD</dt>\n",
       "\t\t<dd>0</dd>\n",
       "\t<dt>NT_GER</dt>\n",
       "\t\t<dd>4</dd>\n",
       "\t<dt>TP_SEXO</dt>\n",
       "\t\t<dd>0</dd>\n",
       "\t<dt>QE_I02</dt>\n",
       "\t\t<dd>0</dd>\n",
       "\t<dt>QE_I01</dt>\n",
       "\t\t<dd>0</dd>\n",
       "\t<dt>QE_I04</dt>\n",
       "\t\t<dd>0</dd>\n",
       "\t<dt>QE_I05</dt>\n",
       "\t\t<dd>0</dd>\n",
       "\t<dt>QE_I06</dt>\n",
       "\t\t<dd>0</dd>\n",
       "\t<dt>QE_I07</dt>\n",
       "\t\t<dd>0</dd>\n",
       "\t<dt>QE_I08</dt>\n",
       "\t\t<dd>0</dd>\n",
       "\t<dt>QE_I09</dt>\n",
       "\t\t<dd>0</dd>\n",
       "\t<dt>QE_I10</dt>\n",
       "\t\t<dd>0</dd>\n",
       "\t<dt>QE_I11</dt>\n",
       "\t\t<dd>0</dd>\n",
       "\t<dt>QE_I12</dt>\n",
       "\t\t<dd>0</dd>\n",
       "\t<dt>QE_I13</dt>\n",
       "\t\t<dd>0</dd>\n",
       "\t<dt>QE_I15</dt>\n",
       "\t\t<dd>0</dd>\n",
       "\t<dt>QE_I17</dt>\n",
       "\t\t<dd>0</dd>\n",
       "\t<dt>QE_I18</dt>\n",
       "\t\t<dd>0</dd>\n",
       "\t<dt>QE_I19</dt>\n",
       "\t\t<dd>0</dd>\n",
       "\t<dt>QE_I20</dt>\n",
       "\t\t<dd>0</dd>\n",
       "\t<dt>QE_I21</dt>\n",
       "\t\t<dd>0</dd>\n",
       "\t<dt>QE_I22</dt>\n",
       "\t\t<dd>0</dd>\n",
       "\t<dt>QE_I23</dt>\n",
       "\t\t<dd>0</dd>\n",
       "\t<dt>QE_I25</dt>\n",
       "\t\t<dd>0</dd>\n",
       "\t<dt>QE_I40</dt>\n",
       "\t\t<dd>435</dd>\n",
       "\t<dt>QE_I42</dt>\n",
       "\t\t<dd>103</dd>\n",
       "\t<dt>QE_I29</dt>\n",
       "\t\t<dd>101</dd>\n",
       "\t<dt>QE_I38</dt>\n",
       "\t\t<dd>128</dd>\n",
       "\t<dt>QE_I41</dt>\n",
       "\t\t<dd>217</dd>\n",
       "\t<dt>QE_I45</dt>\n",
       "\t\t<dd>267</dd>\n",
       "\t<dt>QE_I57</dt>\n",
       "\t\t<dd>99</dd>\n",
       "\t<dt>QE_I58</dt>\n",
       "\t\t<dd>180</dd>\n",
       "\t<dt>QE_I59</dt>\n",
       "\t\t<dd>267</dd>\n",
       "\t<dt>QE_I61</dt>\n",
       "\t\t<dd>139</dd>\n",
       "\t<dt>QE_I62</dt>\n",
       "\t\t<dd>1024</dd>\n",
       "\t<dt>QE_I63</dt>\n",
       "\t\t<dd>1273</dd>\n",
       "\t<dt>QE_I64</dt>\n",
       "\t\t<dd>210</dd>\n",
       "\t<dt>QE_I68</dt>\n",
       "\t\t<dd>199</dd>\n",
       "</dl>\n"
      ],
      "text/latex": [
       "\\begin{description*}\n",
       "\\item[CO\\textbackslash{}\\_CATEGAD] 0\n",
       "\\item[NT\\textbackslash{}\\_GER] 4\n",
       "\\item[TP\\textbackslash{}\\_SEXO] 0\n",
       "\\item[QE\\textbackslash{}\\_I02] 0\n",
       "\\item[QE\\textbackslash{}\\_I01] 0\n",
       "\\item[QE\\textbackslash{}\\_I04] 0\n",
       "\\item[QE\\textbackslash{}\\_I05] 0\n",
       "\\item[QE\\textbackslash{}\\_I06] 0\n",
       "\\item[QE\\textbackslash{}\\_I07] 0\n",
       "\\item[QE\\textbackslash{}\\_I08] 0\n",
       "\\item[QE\\textbackslash{}\\_I09] 0\n",
       "\\item[QE\\textbackslash{}\\_I10] 0\n",
       "\\item[QE\\textbackslash{}\\_I11] 0\n",
       "\\item[QE\\textbackslash{}\\_I12] 0\n",
       "\\item[QE\\textbackslash{}\\_I13] 0\n",
       "\\item[QE\\textbackslash{}\\_I15] 0\n",
       "\\item[QE\\textbackslash{}\\_I17] 0\n",
       "\\item[QE\\textbackslash{}\\_I18] 0\n",
       "\\item[QE\\textbackslash{}\\_I19] 0\n",
       "\\item[QE\\textbackslash{}\\_I20] 0\n",
       "\\item[QE\\textbackslash{}\\_I21] 0\n",
       "\\item[QE\\textbackslash{}\\_I22] 0\n",
       "\\item[QE\\textbackslash{}\\_I23] 0\n",
       "\\item[QE\\textbackslash{}\\_I25] 0\n",
       "\\item[QE\\textbackslash{}\\_I40] 435\n",
       "\\item[QE\\textbackslash{}\\_I42] 103\n",
       "\\item[QE\\textbackslash{}\\_I29] 101\n",
       "\\item[QE\\textbackslash{}\\_I38] 128\n",
       "\\item[QE\\textbackslash{}\\_I41] 217\n",
       "\\item[QE\\textbackslash{}\\_I45] 267\n",
       "\\item[QE\\textbackslash{}\\_I57] 99\n",
       "\\item[QE\\textbackslash{}\\_I58] 180\n",
       "\\item[QE\\textbackslash{}\\_I59] 267\n",
       "\\item[QE\\textbackslash{}\\_I61] 139\n",
       "\\item[QE\\textbackslash{}\\_I62] 1024\n",
       "\\item[QE\\textbackslash{}\\_I63] 1273\n",
       "\\item[QE\\textbackslash{}\\_I64] 210\n",
       "\\item[QE\\textbackslash{}\\_I68] 199\n",
       "\\end{description*}\n"
      ],
      "text/markdown": [
       "CO_CATEGAD\n",
       ":   0NT_GER\n",
       ":   4TP_SEXO\n",
       ":   0QE_I02\n",
       ":   0QE_I01\n",
       ":   0QE_I04\n",
       ":   0QE_I05\n",
       ":   0QE_I06\n",
       ":   0QE_I07\n",
       ":   0QE_I08\n",
       ":   0QE_I09\n",
       ":   0QE_I10\n",
       ":   0QE_I11\n",
       ":   0QE_I12\n",
       ":   0QE_I13\n",
       ":   0QE_I15\n",
       ":   0QE_I17\n",
       ":   0QE_I18\n",
       ":   0QE_I19\n",
       ":   0QE_I20\n",
       ":   0QE_I21\n",
       ":   0QE_I22\n",
       ":   0QE_I23\n",
       ":   0QE_I25\n",
       ":   0QE_I40\n",
       ":   435QE_I42\n",
       ":   103QE_I29\n",
       ":   101QE_I38\n",
       ":   128QE_I41\n",
       ":   217QE_I45\n",
       ":   267QE_I57\n",
       ":   99QE_I58\n",
       ":   180QE_I59\n",
       ":   267QE_I61\n",
       ":   139QE_I62\n",
       ":   1024QE_I63\n",
       ":   1273QE_I64\n",
       ":   210QE_I68\n",
       ":   199\n",
       "\n"
      ],
      "text/plain": [
       "CO_CATEGAD     NT_GER    TP_SEXO     QE_I02     QE_I01     QE_I04     QE_I05 \n",
       "         0          4          0          0          0          0          0 \n",
       "    QE_I06     QE_I07     QE_I08     QE_I09     QE_I10     QE_I11     QE_I12 \n",
       "         0          0          0          0          0          0          0 \n",
       "    QE_I13     QE_I15     QE_I17     QE_I18     QE_I19     QE_I20     QE_I21 \n",
       "         0          0          0          0          0          0          0 \n",
       "    QE_I22     QE_I23     QE_I25     QE_I40     QE_I42     QE_I29     QE_I38 \n",
       "         0          0          0        435        103        101        128 \n",
       "    QE_I41     QE_I45     QE_I57     QE_I58     QE_I59     QE_I61     QE_I62 \n",
       "       217        267         99        180        267        139       1024 \n",
       "    QE_I63     QE_I64     QE_I68 \n",
       "      1273        210        199 "
      ]
     },
     "metadata": {},
     "output_type": "display_data"
    }
   ],
   "source": [
    "sapply(df, function(x) sum(is.na(x)))"
   ]
  },
  {
   "cell_type": "code",
   "execution_count": 163,
   "id": "valued-superintendent",
   "metadata": {},
   "outputs": [
    {
     "data": {
      "text/html": [
       "<table>\n",
       "<thead><tr><th></th><th scope=col>CO_CATEGAD</th><th scope=col>NT_GER</th><th scope=col>TP_SEXO</th><th scope=col>QE_I02</th><th scope=col>QE_I01</th><th scope=col>QE_I04</th><th scope=col>QE_I05</th><th scope=col>QE_I06</th><th scope=col>QE_I07</th><th scope=col>QE_I08</th><th scope=col>...</th><th scope=col>QE_I41</th><th scope=col>QE_I45</th><th scope=col>QE_I57</th><th scope=col>QE_I58</th><th scope=col>QE_I59</th><th scope=col>QE_I61</th><th scope=col>QE_I62</th><th scope=col>QE_I63</th><th scope=col>QE_I64</th><th scope=col>QE_I68</th></tr></thead>\n",
       "<tbody>\n",
       "\t<tr><th scope=row>161</th><td>10008</td><td>24.9 </td><td>F    </td><td>A    </td><td>A    </td><td>D    </td><td>D    </td><td>C    </td><td>C    </td><td>C    </td><td>...  </td><td>6    </td><td>6    </td><td>6    </td><td>6    </td><td>6    </td><td>6    </td><td>6    </td><td>6    </td><td>6    </td><td>6    </td></tr>\n",
       "\t<tr><th scope=row>162</th><td>10008</td><td>25.6 </td><td>M    </td><td>A    </td><td>A    </td><td>D    </td><td>B    </td><td>A    </td><td>C    </td><td>D    </td><td>...  </td><td>6    </td><td>6    </td><td>6    </td><td>6    </td><td>6    </td><td>6    </td><td>6    </td><td>6    </td><td>6    </td><td>6    </td></tr>\n",
       "\t<tr><th scope=row>163</th><td>10008</td><td>48.7 </td><td>M    </td><td>A    </td><td>A    </td><td>D    </td><td>D    </td><td>C    </td><td>C    </td><td>C    </td><td>...  </td><td>6    </td><td>6    </td><td>6    </td><td>6    </td><td>6    </td><td>6    </td><td>6    </td><td>6    </td><td>6    </td><td>6    </td></tr>\n",
       "\t<tr><th scope=row>164</th><td>10008</td><td>35.7 </td><td>F    </td><td>A    </td><td>B    </td><td>B    </td><td>C    </td><td>C    </td><td>D    </td><td>B    </td><td>...  </td><td>6    </td><td>6    </td><td>6    </td><td>6    </td><td>6    </td><td>6    </td><td>6    </td><td>6    </td><td>6    </td><td>6    </td></tr>\n",
       "\t<tr><th scope=row>165</th><td>10008</td><td>33.9 </td><td>M    </td><td>A    </td><td>B    </td><td>B    </td><td>D    </td><td>C    </td><td>B    </td><td>B    </td><td>...  </td><td>6    </td><td>6    </td><td>6    </td><td>6    </td><td>6    </td><td>6    </td><td>6    </td><td>6    </td><td>6    </td><td>6    </td></tr>\n",
       "\t<tr><th scope=row>166</th><td>10008</td><td>23.5 </td><td>M    </td><td>A    </td><td>A    </td><td>B    </td><td>B    </td><td>B    </td><td>C    </td><td>C    </td><td>...  </td><td>6    </td><td>6    </td><td>6    </td><td>6    </td><td>6    </td><td>6    </td><td>6    </td><td>6    </td><td>6    </td><td>6    </td></tr>\n",
       "</tbody>\n",
       "</table>\n"
      ],
      "text/latex": [
       "\\begin{tabular}{r|llllllllllllllllllllllllllllllllllllll}\n",
       "  & CO\\_CATEGAD & NT\\_GER & TP\\_SEXO & QE\\_I02 & QE\\_I01 & QE\\_I04 & QE\\_I05 & QE\\_I06 & QE\\_I07 & QE\\_I08 & ... & QE\\_I41 & QE\\_I45 & QE\\_I57 & QE\\_I58 & QE\\_I59 & QE\\_I61 & QE\\_I62 & QE\\_I63 & QE\\_I64 & QE\\_I68\\\\\n",
       "\\hline\n",
       "\t161 & 10008 & 24.9  & F     & A     & A     & D     & D     & C     & C     & C     & ...   & 6     & 6     & 6     & 6     & 6     & 6     & 6     & 6     & 6     & 6    \\\\\n",
       "\t162 & 10008 & 25.6  & M     & A     & A     & D     & B     & A     & C     & D     & ...   & 6     & 6     & 6     & 6     & 6     & 6     & 6     & 6     & 6     & 6    \\\\\n",
       "\t163 & 10008 & 48.7  & M     & A     & A     & D     & D     & C     & C     & C     & ...   & 6     & 6     & 6     & 6     & 6     & 6     & 6     & 6     & 6     & 6    \\\\\n",
       "\t164 & 10008 & 35.7  & F     & A     & B     & B     & C     & C     & D     & B     & ...   & 6     & 6     & 6     & 6     & 6     & 6     & 6     & 6     & 6     & 6    \\\\\n",
       "\t165 & 10008 & 33.9  & M     & A     & B     & B     & D     & C     & B     & B     & ...   & 6     & 6     & 6     & 6     & 6     & 6     & 6     & 6     & 6     & 6    \\\\\n",
       "\t166 & 10008 & 23.5  & M     & A     & A     & B     & B     & B     & C     & C     & ...   & 6     & 6     & 6     & 6     & 6     & 6     & 6     & 6     & 6     & 6    \\\\\n",
       "\\end{tabular}\n"
      ],
      "text/markdown": [
       "\n",
       "| <!--/--> | CO_CATEGAD | NT_GER | TP_SEXO | QE_I02 | QE_I01 | QE_I04 | QE_I05 | QE_I06 | QE_I07 | QE_I08 | ... | QE_I41 | QE_I45 | QE_I57 | QE_I58 | QE_I59 | QE_I61 | QE_I62 | QE_I63 | QE_I64 | QE_I68 |\n",
       "|---|---|---|---|---|---|---|---|---|---|---|---|---|---|---|---|---|---|---|---|---|---|\n",
       "| 161 | 10008 | 24.9  | F     | A     | A     | D     | D     | C     | C     | C     | ...   | 6     | 6     | 6     | 6     | 6     | 6     | 6     | 6     | 6     | 6     |\n",
       "| 162 | 10008 | 25.6  | M     | A     | A     | D     | B     | A     | C     | D     | ...   | 6     | 6     | 6     | 6     | 6     | 6     | 6     | 6     | 6     | 6     |\n",
       "| 163 | 10008 | 48.7  | M     | A     | A     | D     | D     | C     | C     | C     | ...   | 6     | 6     | 6     | 6     | 6     | 6     | 6     | 6     | 6     | 6     |\n",
       "| 164 | 10008 | 35.7  | F     | A     | B     | B     | C     | C     | D     | B     | ...   | 6     | 6     | 6     | 6     | 6     | 6     | 6     | 6     | 6     | 6     |\n",
       "| 165 | 10008 | 33.9  | M     | A     | B     | B     | D     | C     | B     | B     | ...   | 6     | 6     | 6     | 6     | 6     | 6     | 6     | 6     | 6     | 6     |\n",
       "| 166 | 10008 | 23.5  | M     | A     | A     | B     | B     | B     | C     | C     | ...   | 6     | 6     | 6     | 6     | 6     | 6     | 6     | 6     | 6     | 6     |\n",
       "\n"
      ],
      "text/plain": [
       "    CO_CATEGAD NT_GER TP_SEXO QE_I02 QE_I01 QE_I04 QE_I05 QE_I06 QE_I07 QE_I08\n",
       "161 10008      24.9   F       A      A      D      D      C      C      C     \n",
       "162 10008      25.6   M       A      A      D      B      A      C      D     \n",
       "163 10008      48.7   M       A      A      D      D      C      C      C     \n",
       "164 10008      35.7   F       A      B      B      C      C      D      B     \n",
       "165 10008      33.9   M       A      B      B      D      C      B      B     \n",
       "166 10008      23.5   M       A      A      B      B      B      C      C     \n",
       "    ... QE_I41 QE_I45 QE_I57 QE_I58 QE_I59 QE_I61 QE_I62 QE_I63 QE_I64 QE_I68\n",
       "161 ... 6      6      6      6      6      6      6      6      6      6     \n",
       "162 ... 6      6      6      6      6      6      6      6      6      6     \n",
       "163 ... 6      6      6      6      6      6      6      6      6      6     \n",
       "164 ... 6      6      6      6      6      6      6      6      6      6     \n",
       "165 ... 6      6      6      6      6      6      6      6      6      6     \n",
       "166 ... 6      6      6      6      6      6      6      6      6      6     "
      ]
     },
     "metadata": {},
     "output_type": "display_data"
    }
   ],
   "source": [
    "head(df)"
   ]
  },
  {
   "cell_type": "markdown",
   "id": "protective-fountain",
   "metadata": {},
   "source": [
    "# Variáveis do primeiro modelo:\n",
    "* Notas Gerais = 45 NT_GER\n",
    "* IES = 3 CO_CATEGAD\n",
    "* Sexo = 12 TP_SEXO\n",
    "* Raça ou Cor = 71 QE_I02\n",
    "* Renda total da família = 77 QE_I08\n",
    "* Estado Civil = 70 QE_I01\n",
    "* Moradia = 75 QE_I06\n",
    "* Situação Financeira = 78 QE_I09\n",
    "* Situação de Trabalho = 79 QE_I10\n",
    "* Tipo de escola cursou o ensino médio = 86 QE_I17\n",
    "* Alguêm da família que concluiu o ensino superir = 90 QE_I21\n",
    "* Horas dedicadas as estudo = 92 QE_I23\n",
    "* Infraestrutura das salas = 130 QE_I61\n",
    "* Metodologia de ensino = 98 QE_I29\n",
    "* Biblioteca = 133 QE_I64\n",
    "* Incentivo = 88 QE_I19"
   ]
  },
  {
   "cell_type": "code",
   "execution_count": 22,
   "id": "social-cable",
   "metadata": {},
   "outputs": [],
   "source": [
    "df_1 = df %>% \n",
    "        select(NT_GER, CO_CATEGAD, TP_SEXO, QE_I02, QE_I08, QE_I01, QE_I09, QE_I10, QE_I17, QE_I21, QE_I23,\n",
    "              QE_I61, QE_I64, QE_I29, QE_I06, QE_I19) %>% \n",
    "        setNames(c(\"nota\", \"IES\", \"genero\", \"cor\", \"renda\", \"estado_civil\", \"situacao_financeira\", \"trabalho\",\n",
    "                  \"ensino_medio\", \"ensino_superior\", \"horas_estudo\", \"infra_salas\", \"biblioteca\",  \"metodologia\",\n",
    "                  \"moradia\", \"incentivo\"))"
   ]
  },
  {
   "cell_type": "code",
   "execution_count": 23,
   "id": "ancient-offset",
   "metadata": {},
   "outputs": [
    {
     "name": "stdout",
     "output_type": "stream",
     "text": [
      "'data.frame':\t8075 obs. of  16 variables:\n",
      " $ nota               : num  24.9 25.6 48.7 35.7 33.9 23.5 32.2 20.9 48.9 39.4 ...\n",
      " $ IES                : int  10008 10008 10008 10008 10008 10008 10008 10008 10008 10008 ...\n",
      " $ genero             : Factor w/ 2 levels \"F\",\"M\": 1 2 2 1 2 2 1 1 2 1 ...\n",
      " $ cor                : Factor w/ 7 levels \"\",\"A\",\"B\",\"C\",..: 2 2 2 2 2 2 2 2 2 5 ...\n",
      " $ renda              : Factor w/ 8 levels \"\",\"A\",\"B\",\"C\",..: 4 5 4 3 3 4 3 4 5 4 ...\n",
      " $ estado_civil       : Factor w/ 6 levels \"\",\"A\",\"B\",\"C\",..: 2 2 2 3 3 2 2 2 2 2 ...\n",
      " $ situacao_financeira: Factor w/ 7 levels \"\",\"A\",\"B\",\"C\",..: 7 6 4 6 6 6 3 7 4 5 ...\n",
      " $ trabalho           : Factor w/ 6 levels \"\",\"A\",\"B\",\"C\",..: 6 6 6 6 6 6 2 6 4 5 ...\n",
      " $ ensino_medio       : Factor w/ 7 levels \"\",\"A\",\"B\",\"C\",..: 2 5 5 2 3 3 2 3 2 2 ...\n",
      " $ ensino_superior    : Factor w/ 3 levels \"\",\"A\",\"B\": 3 2 3 2 2 3 3 2 2 3 ...\n",
      " $ horas_estudo       : Factor w/ 6 levels \"\",\"A\",\"B\",\"C\",..: 4 3 4 3 4 4 6 4 6 3 ...\n",
      " $ infra_salas        : int  6 6 6 6 6 6 6 6 6 6 ...\n",
      " $ biblioteca         : int  6 6 6 6 6 6 6 6 6 6 ...\n",
      " $ metodologia        : int  6 6 6 6 6 6 6 6 6 6 ...\n",
      " $ moradia            : Factor w/ 7 levels \"\",\"A\",\"B\",\"C\",..: 4 2 4 4 4 3 3 4 3 3 ...\n",
      " $ incentivo          : Factor w/ 8 levels \"\",\"A\",\"B\",\"C\",..: 3 3 2 3 3 3 3 4 3 3 ...\n"
     ]
    }
   ],
   "source": [
    "str(df_1)"
   ]
  },
  {
   "cell_type": "code",
   "execution_count": 24,
   "id": "defensive-compilation",
   "metadata": {},
   "outputs": [
    {
     "data": {
      "text/html": [
       "<ol class=list-inline>\n",
       "\t<li>8075</li>\n",
       "\t<li>16</li>\n",
       "</ol>\n"
      ],
      "text/latex": [
       "\\begin{enumerate*}\n",
       "\\item 8075\n",
       "\\item 16\n",
       "\\end{enumerate*}\n"
      ],
      "text/markdown": [
       "1. 8075\n",
       "2. 16\n",
       "\n",
       "\n"
      ],
      "text/plain": [
       "[1] 8075   16"
      ]
     },
     "metadata": {},
     "output_type": "display_data"
    }
   ],
   "source": [
    "dim(df_1)"
   ]
  },
  {
   "cell_type": "code",
   "execution_count": 27,
   "id": "fourth-involvement",
   "metadata": {},
   "outputs": [
    {
     "data": {
      "text/html": [
       "<dl class=dl-horizontal>\n",
       "\t<dt>nota</dt>\n",
       "\t\t<dd>4</dd>\n",
       "\t<dt>IES</dt>\n",
       "\t\t<dd>0</dd>\n",
       "\t<dt>genero</dt>\n",
       "\t\t<dd>0</dd>\n",
       "\t<dt>cor</dt>\n",
       "\t\t<dd>0</dd>\n",
       "\t<dt>renda</dt>\n",
       "\t\t<dd>0</dd>\n",
       "\t<dt>estado_civil</dt>\n",
       "\t\t<dd>0</dd>\n",
       "\t<dt>situacao_financeira</dt>\n",
       "\t\t<dd>0</dd>\n",
       "\t<dt>trabalho</dt>\n",
       "\t\t<dd>0</dd>\n",
       "\t<dt>ensino_medio</dt>\n",
       "\t\t<dd>0</dd>\n",
       "\t<dt>ensino_superior</dt>\n",
       "\t\t<dd>0</dd>\n",
       "\t<dt>horas_estudo</dt>\n",
       "\t\t<dd>0</dd>\n",
       "\t<dt>infra_salas</dt>\n",
       "\t\t<dd>139</dd>\n",
       "\t<dt>biblioteca</dt>\n",
       "\t\t<dd>210</dd>\n",
       "\t<dt>metodologia</dt>\n",
       "\t\t<dd>101</dd>\n",
       "\t<dt>moradia</dt>\n",
       "\t\t<dd>0</dd>\n",
       "\t<dt>incentivo</dt>\n",
       "\t\t<dd>0</dd>\n",
       "</dl>\n"
      ],
      "text/latex": [
       "\\begin{description*}\n",
       "\\item[nota] 4\n",
       "\\item[IES] 0\n",
       "\\item[genero] 0\n",
       "\\item[cor] 0\n",
       "\\item[renda] 0\n",
       "\\item[estado\\textbackslash{}\\_civil] 0\n",
       "\\item[situacao\\textbackslash{}\\_financeira] 0\n",
       "\\item[trabalho] 0\n",
       "\\item[ensino\\textbackslash{}\\_medio] 0\n",
       "\\item[ensino\\textbackslash{}\\_superior] 0\n",
       "\\item[horas\\textbackslash{}\\_estudo] 0\n",
       "\\item[infra\\textbackslash{}\\_salas] 139\n",
       "\\item[biblioteca] 210\n",
       "\\item[metodologia] 101\n",
       "\\item[moradia] 0\n",
       "\\item[incentivo] 0\n",
       "\\end{description*}\n"
      ],
      "text/markdown": [
       "nota\n",
       ":   4IES\n",
       ":   0genero\n",
       ":   0cor\n",
       ":   0renda\n",
       ":   0estado_civil\n",
       ":   0situacao_financeira\n",
       ":   0trabalho\n",
       ":   0ensino_medio\n",
       ":   0ensino_superior\n",
       ":   0horas_estudo\n",
       ":   0infra_salas\n",
       ":   139biblioteca\n",
       ":   210metodologia\n",
       ":   101moradia\n",
       ":   0incentivo\n",
       ":   0\n",
       "\n"
      ],
      "text/plain": [
       "               nota                 IES              genero                 cor \n",
       "                  4                   0                   0                   0 \n",
       "              renda        estado_civil situacao_financeira            trabalho \n",
       "                  0                   0                   0                   0 \n",
       "       ensino_medio     ensino_superior        horas_estudo         infra_salas \n",
       "                  0                   0                   0                 139 \n",
       "         biblioteca         metodologia             moradia           incentivo \n",
       "                210                 101                   0                   0 "
      ]
     },
     "metadata": {},
     "output_type": "display_data"
    }
   ],
   "source": [
    "sapply(df_1, function(x) sum(is.na(x)))"
   ]
  },
  {
   "cell_type": "code",
   "execution_count": 28,
   "id": "stunning-master",
   "metadata": {},
   "outputs": [],
   "source": [
    "df_1 = na.omit(df_1)"
   ]
  },
  {
   "cell_type": "code",
   "execution_count": 29,
   "id": "divided-intelligence",
   "metadata": {},
   "outputs": [
    {
     "data": {
      "text/html": [
       "<dl class=dl-horizontal>\n",
       "\t<dt>nota</dt>\n",
       "\t\t<dd>0</dd>\n",
       "\t<dt>IES</dt>\n",
       "\t\t<dd>0</dd>\n",
       "\t<dt>genero</dt>\n",
       "\t\t<dd>0</dd>\n",
       "\t<dt>cor</dt>\n",
       "\t\t<dd>0</dd>\n",
       "\t<dt>renda</dt>\n",
       "\t\t<dd>0</dd>\n",
       "\t<dt>estado_civil</dt>\n",
       "\t\t<dd>0</dd>\n",
       "\t<dt>situacao_financeira</dt>\n",
       "\t\t<dd>0</dd>\n",
       "\t<dt>trabalho</dt>\n",
       "\t\t<dd>0</dd>\n",
       "\t<dt>ensino_medio</dt>\n",
       "\t\t<dd>0</dd>\n",
       "\t<dt>ensino_superior</dt>\n",
       "\t\t<dd>0</dd>\n",
       "\t<dt>horas_estudo</dt>\n",
       "\t\t<dd>0</dd>\n",
       "\t<dt>infra_salas</dt>\n",
       "\t\t<dd>0</dd>\n",
       "\t<dt>biblioteca</dt>\n",
       "\t\t<dd>0</dd>\n",
       "\t<dt>metodologia</dt>\n",
       "\t\t<dd>0</dd>\n",
       "\t<dt>moradia</dt>\n",
       "\t\t<dd>0</dd>\n",
       "\t<dt>incentivo</dt>\n",
       "\t\t<dd>0</dd>\n",
       "</dl>\n"
      ],
      "text/latex": [
       "\\begin{description*}\n",
       "\\item[nota] 0\n",
       "\\item[IES] 0\n",
       "\\item[genero] 0\n",
       "\\item[cor] 0\n",
       "\\item[renda] 0\n",
       "\\item[estado\\textbackslash{}\\_civil] 0\n",
       "\\item[situacao\\textbackslash{}\\_financeira] 0\n",
       "\\item[trabalho] 0\n",
       "\\item[ensino\\textbackslash{}\\_medio] 0\n",
       "\\item[ensino\\textbackslash{}\\_superior] 0\n",
       "\\item[horas\\textbackslash{}\\_estudo] 0\n",
       "\\item[infra\\textbackslash{}\\_salas] 0\n",
       "\\item[biblioteca] 0\n",
       "\\item[metodologia] 0\n",
       "\\item[moradia] 0\n",
       "\\item[incentivo] 0\n",
       "\\end{description*}\n"
      ],
      "text/markdown": [
       "nota\n",
       ":   0IES\n",
       ":   0genero\n",
       ":   0cor\n",
       ":   0renda\n",
       ":   0estado_civil\n",
       ":   0situacao_financeira\n",
       ":   0trabalho\n",
       ":   0ensino_medio\n",
       ":   0ensino_superior\n",
       ":   0horas_estudo\n",
       ":   0infra_salas\n",
       ":   0biblioteca\n",
       ":   0metodologia\n",
       ":   0moradia\n",
       ":   0incentivo\n",
       ":   0\n",
       "\n"
      ],
      "text/plain": [
       "               nota                 IES              genero                 cor \n",
       "                  0                   0                   0                   0 \n",
       "              renda        estado_civil situacao_financeira            trabalho \n",
       "                  0                   0                   0                   0 \n",
       "       ensino_medio     ensino_superior        horas_estudo         infra_salas \n",
       "                  0                   0                   0                   0 \n",
       "         biblioteca         metodologia             moradia           incentivo \n",
       "                  0                   0                   0                   0 "
      ]
     },
     "metadata": {},
     "output_type": "display_data"
    }
   ],
   "source": [
    "sapply(df_1, function(x) sum(is.na(x)))"
   ]
  },
  {
   "cell_type": "code",
   "execution_count": 30,
   "id": "known-shark",
   "metadata": {},
   "outputs": [
    {
     "data": {
      "text/html": [
       "<ol class=list-inline>\n",
       "\t<li>7801</li>\n",
       "\t<li>16</li>\n",
       "</ol>\n"
      ],
      "text/latex": [
       "\\begin{enumerate*}\n",
       "\\item 7801\n",
       "\\item 16\n",
       "\\end{enumerate*}\n"
      ],
      "text/markdown": [
       "1. 7801\n",
       "2. 16\n",
       "\n",
       "\n"
      ],
      "text/plain": [
       "[1] 7801   16"
      ]
     },
     "metadata": {},
     "output_type": "display_data"
    }
   ],
   "source": [
    "dim(df_1)"
   ]
  },
  {
   "cell_type": "code",
   "execution_count": 31,
   "id": "banner-volleyball",
   "metadata": {},
   "outputs": [
    {
     "data": {
      "text/html": [
       "<table>\n",
       "<thead><tr><th></th><th scope=col>nota</th><th scope=col>IES</th><th scope=col>genero</th><th scope=col>cor</th><th scope=col>renda</th><th scope=col>estado_civil</th><th scope=col>situacao_financeira</th><th scope=col>trabalho</th><th scope=col>ensino_medio</th><th scope=col>ensino_superior</th><th scope=col>horas_estudo</th><th scope=col>infra_salas</th><th scope=col>biblioteca</th><th scope=col>metodologia</th><th scope=col>moradia</th><th scope=col>incentivo</th></tr></thead>\n",
       "<tbody>\n",
       "\t<tr><th scope=row>161</th><td>24.9 </td><td>10008</td><td>F    </td><td>A    </td><td>C    </td><td>A    </td><td>F    </td><td>E    </td><td>A    </td><td>B    </td><td>C    </td><td>6    </td><td>6    </td><td>6    </td><td>C    </td><td>B    </td></tr>\n",
       "\t<tr><th scope=row>162</th><td>25.6 </td><td>10008</td><td>M    </td><td>A    </td><td>D    </td><td>A    </td><td>E    </td><td>E    </td><td>D    </td><td>A    </td><td>B    </td><td>6    </td><td>6    </td><td>6    </td><td>A    </td><td>B    </td></tr>\n",
       "\t<tr><th scope=row>163</th><td>48.7 </td><td>10008</td><td>M    </td><td>A    </td><td>C    </td><td>A    </td><td>C    </td><td>E    </td><td>D    </td><td>B    </td><td>C    </td><td>6    </td><td>6    </td><td>6    </td><td>C    </td><td>A    </td></tr>\n",
       "\t<tr><th scope=row>164</th><td>35.7 </td><td>10008</td><td>F    </td><td>A    </td><td>B    </td><td>B    </td><td>E    </td><td>E    </td><td>A    </td><td>A    </td><td>B    </td><td>6    </td><td>6    </td><td>6    </td><td>C    </td><td>B    </td></tr>\n",
       "\t<tr><th scope=row>165</th><td>33.9 </td><td>10008</td><td>M    </td><td>A    </td><td>B    </td><td>B    </td><td>E    </td><td>E    </td><td>B    </td><td>A    </td><td>C    </td><td>6    </td><td>6    </td><td>6    </td><td>C    </td><td>B    </td></tr>\n",
       "\t<tr><th scope=row>166</th><td>23.5 </td><td>10008</td><td>M    </td><td>A    </td><td>C    </td><td>A    </td><td>E    </td><td>E    </td><td>B    </td><td>B    </td><td>C    </td><td>6    </td><td>6    </td><td>6    </td><td>B    </td><td>B    </td></tr>\n",
       "</tbody>\n",
       "</table>\n"
      ],
      "text/latex": [
       "\\begin{tabular}{r|llllllllllllllll}\n",
       "  & nota & IES & genero & cor & renda & estado\\_civil & situacao\\_financeira & trabalho & ensino\\_medio & ensino\\_superior & horas\\_estudo & infra\\_salas & biblioteca & metodologia & moradia & incentivo\\\\\n",
       "\\hline\n",
       "\t161 & 24.9  & 10008 & F     & A     & C     & A     & F     & E     & A     & B     & C     & 6     & 6     & 6     & C     & B    \\\\\n",
       "\t162 & 25.6  & 10008 & M     & A     & D     & A     & E     & E     & D     & A     & B     & 6     & 6     & 6     & A     & B    \\\\\n",
       "\t163 & 48.7  & 10008 & M     & A     & C     & A     & C     & E     & D     & B     & C     & 6     & 6     & 6     & C     & A    \\\\\n",
       "\t164 & 35.7  & 10008 & F     & A     & B     & B     & E     & E     & A     & A     & B     & 6     & 6     & 6     & C     & B    \\\\\n",
       "\t165 & 33.9  & 10008 & M     & A     & B     & B     & E     & E     & B     & A     & C     & 6     & 6     & 6     & C     & B    \\\\\n",
       "\t166 & 23.5  & 10008 & M     & A     & C     & A     & E     & E     & B     & B     & C     & 6     & 6     & 6     & B     & B    \\\\\n",
       "\\end{tabular}\n"
      ],
      "text/markdown": [
       "\n",
       "| <!--/--> | nota | IES | genero | cor | renda | estado_civil | situacao_financeira | trabalho | ensino_medio | ensino_superior | horas_estudo | infra_salas | biblioteca | metodologia | moradia | incentivo |\n",
       "|---|---|---|---|---|---|---|---|---|---|---|---|---|---|---|---|---|\n",
       "| 161 | 24.9  | 10008 | F     | A     | C     | A     | F     | E     | A     | B     | C     | 6     | 6     | 6     | C     | B     |\n",
       "| 162 | 25.6  | 10008 | M     | A     | D     | A     | E     | E     | D     | A     | B     | 6     | 6     | 6     | A     | B     |\n",
       "| 163 | 48.7  | 10008 | M     | A     | C     | A     | C     | E     | D     | B     | C     | 6     | 6     | 6     | C     | A     |\n",
       "| 164 | 35.7  | 10008 | F     | A     | B     | B     | E     | E     | A     | A     | B     | 6     | 6     | 6     | C     | B     |\n",
       "| 165 | 33.9  | 10008 | M     | A     | B     | B     | E     | E     | B     | A     | C     | 6     | 6     | 6     | C     | B     |\n",
       "| 166 | 23.5  | 10008 | M     | A     | C     | A     | E     | E     | B     | B     | C     | 6     | 6     | 6     | B     | B     |\n",
       "\n"
      ],
      "text/plain": [
       "    nota IES   genero cor renda estado_civil situacao_financeira trabalho\n",
       "161 24.9 10008 F      A   C     A            F                   E       \n",
       "162 25.6 10008 M      A   D     A            E                   E       \n",
       "163 48.7 10008 M      A   C     A            C                   E       \n",
       "164 35.7 10008 F      A   B     B            E                   E       \n",
       "165 33.9 10008 M      A   B     B            E                   E       \n",
       "166 23.5 10008 M      A   C     A            E                   E       \n",
       "    ensino_medio ensino_superior horas_estudo infra_salas biblioteca\n",
       "161 A            B               C            6           6         \n",
       "162 D            A               B            6           6         \n",
       "163 D            B               C            6           6         \n",
       "164 A            A               B            6           6         \n",
       "165 B            A               C            6           6         \n",
       "166 B            B               C            6           6         \n",
       "    metodologia moradia incentivo\n",
       "161 6           C       B        \n",
       "162 6           A       B        \n",
       "163 6           C       A        \n",
       "164 6           C       B        \n",
       "165 6           C       B        \n",
       "166 6           B       B        "
      ]
     },
     "metadata": {},
     "output_type": "display_data"
    }
   ],
   "source": [
    "head(df_1)"
   ]
  },
  {
   "cell_type": "markdown",
   "id": "polish-welding",
   "metadata": {},
   "source": [
    "## Categorizando IES\n",
    "* privada = c(118,120,121,10005,10007,10008,10009,17634)\n",
    "* publica = c(93,115,116,10001,10002,10003)"
   ]
  },
  {
   "cell_type": "code",
   "execution_count": 41,
   "id": "informal-essence",
   "metadata": {},
   "outputs": [
    {
     "data": {
      "text/plain": [
       "\n",
       "   93   115   116   118   120   121 10001 10002 10003 10005 10007 10008 10009 \n",
       "  413   901    46   367    24   258   545  3059    57   506   131  1431    21 \n",
       "17634 \n",
       "   42 "
      ]
     },
     "metadata": {},
     "output_type": "display_data"
    }
   ],
   "source": [
    "table(df_1$IES)"
   ]
  },
  {
   "cell_type": "code",
   "execution_count": 53,
   "id": "moving-empty",
   "metadata": {
    "scrolled": false
   },
   "outputs": [],
   "source": [
    "df_1$IES_ = ifelse(df_1$IES == 93|df_1$IES == 115|df_1$IES == 116|df_1$IES == 10001|df_1$IES == 10002|df_1$IES == 10003,0,1)\n"
   ]
  },
  {
   "cell_type": "code",
   "execution_count": 54,
   "id": "stuffed-mouth",
   "metadata": {},
   "outputs": [
    {
     "data": {
      "text/plain": [
       "\n",
       "   0    1 \n",
       "5021 2780 "
      ]
     },
     "metadata": {},
     "output_type": "display_data"
    }
   ],
   "source": [
    "table(df_1$IES_)"
   ]
  },
  {
   "cell_type": "code",
   "execution_count": 56,
   "id": "occasional-practice",
   "metadata": {},
   "outputs": [],
   "source": [
    "df_1$IES_ = as.factor(df_1$IES_)"
   ]
  },
  {
   "cell_type": "code",
   "execution_count": 58,
   "id": "romantic-burton",
   "metadata": {},
   "outputs": [
    {
     "name": "stdout",
     "output_type": "stream",
     "text": [
      "'data.frame':\t7801 obs. of  17 variables:\n",
      " $ nota               : num  24.9 25.6 48.7 35.7 33.9 23.5 32.2 20.9 48.9 39.4 ...\n",
      " $ IES                : int  10008 10008 10008 10008 10008 10008 10008 10008 10008 10008 ...\n",
      " $ genero             : Factor w/ 2 levels \"F\",\"M\": 1 2 2 1 2 2 1 1 2 1 ...\n",
      " $ cor                : Factor w/ 7 levels \"\",\"A\",\"B\",\"C\",..: 2 2 2 2 2 2 2 2 2 5 ...\n",
      " $ renda              : Factor w/ 8 levels \"\",\"A\",\"B\",\"C\",..: 4 5 4 3 3 4 3 4 5 4 ...\n",
      " $ estado_civil       : Factor w/ 6 levels \"\",\"A\",\"B\",\"C\",..: 2 2 2 3 3 2 2 2 2 2 ...\n",
      " $ situacao_financeira: Factor w/ 7 levels \"\",\"A\",\"B\",\"C\",..: 7 6 4 6 6 6 3 7 4 5 ...\n",
      " $ trabalho           : Factor w/ 6 levels \"\",\"A\",\"B\",\"C\",..: 6 6 6 6 6 6 2 6 4 5 ...\n",
      " $ ensino_medio       : Factor w/ 7 levels \"\",\"A\",\"B\",\"C\",..: 2 5 5 2 3 3 2 3 2 2 ...\n",
      " $ ensino_superior    : Factor w/ 3 levels \"\",\"A\",\"B\": 3 2 3 2 2 3 3 2 2 3 ...\n",
      " $ horas_estudo       : Factor w/ 6 levels \"\",\"A\",\"B\",\"C\",..: 4 3 4 3 4 4 6 4 6 3 ...\n",
      " $ infra_salas        : int  6 6 6 6 6 6 6 6 6 6 ...\n",
      " $ biblioteca         : int  6 6 6 6 6 6 6 6 6 6 ...\n",
      " $ metodologia        : int  6 6 6 6 6 6 6 6 6 6 ...\n",
      " $ moradia            : Factor w/ 7 levels \"\",\"A\",\"B\",\"C\",..: 4 2 4 4 4 3 3 4 3 3 ...\n",
      " $ incentivo          : Factor w/ 8 levels \"\",\"A\",\"B\",\"C\",..: 3 3 2 3 3 3 3 4 3 3 ...\n",
      " $ IES_               : Factor w/ 2 levels \"0\",\"1\": 2 2 2 2 2 2 2 2 2 2 ...\n",
      " - attr(*, \"na.action\")= 'omit' Named int  62 291 322 349 359 531 562 563 567 589 ...\n",
      "  ..- attr(*, \"names\")= chr  \"6922\" \"21885\" \"23419\" \"24487\" ...\n"
     ]
    }
   ],
   "source": [
    "str(df_1)"
   ]
  },
  {
   "cell_type": "code",
   "execution_count": 61,
   "id": "statistical-shirt",
   "metadata": {},
   "outputs": [],
   "source": [
    "df_1$IES_ = mapvalues(df_1$IES_, from=c(0,1), to=c(\"público\",\"privado\"))"
   ]
  },
  {
   "cell_type": "code",
   "execution_count": 62,
   "id": "filled-outside",
   "metadata": {},
   "outputs": [
    {
     "data": {
      "image/png": "[encoded data removed]",
      "text/plain": [
       "plot without title"
      ]
     },
     "metadata": {},
     "output_type": "display_data"
    }
   ],
   "source": [
    "options(repr.plot.width = 7, repr.plot.height = 5)\n",
    "ggplot(data=df_1, aes(y=nota, x=IES_))+\n",
    "    geom_point(aes(color=IES_), size=0.8)+\n",
    "    ggtitle(\"1. Distribuição das notas dos alunos de economia por gênero\")+\n",
    "    labs(x=\"Alunos\", y=\"Notas\")+\n",
    "    theme_bw()+\n",
    "    theme(title=element_text(size=12,color=\"turquoise4\"))"
   ]
  },
  {
   "cell_type": "code",
   "execution_count": null,
   "id": "unusual-praise",
   "metadata": {},
   "outputs": [],
   "source": []
  },
  {
   "cell_type": "code",
   "execution_count": 150,
   "id": "sexual-audit",
   "metadata": {
    "scrolled": true
   },
   "outputs": [
    {
     "data": {
      "text/plain": [
       "\n",
       "   F    M \n",
       "3196 4605 "
      ]
     },
     "metadata": {},
     "output_type": "display_data"
    }
   ],
   "source": [
    "table(df_1$genero)\n"
   ]
  },
  {
   "cell_type": "code",
   "execution_count": 59,
   "id": "divine-colors",
   "metadata": {},
   "outputs": [],
   "source": [
    "df_1$cor = mapvalues(df_1$cor, from=c(\"A\",\"B\",\"C\",\"D\",\"E\",\"F\"), to=c(\"branca\",\"preta\",\"amarela\",\"parda\",\"indigina\",\"não declarado\"))"
   ]
  },
  {
   "cell_type": "code",
   "execution_count": 60,
   "id": "excellent-fancy",
   "metadata": {},
   "outputs": [
    {
     "data": {
      "image/png": "[encoded data removed]",
      "text/plain": [
       "plot without title"
      ]
     },
     "metadata": {},
     "output_type": "display_data"
    }
   ],
   "source": [
    "options(repr.plot.width = 7, repr.plot.height = 5)\n",
    "ggplot(data=df_1, aes(y=nota, x=genero))+\n",
    "    geom_point(aes(color=genero), size=0.8)+\n",
    "    ggtitle(\"1. Distribuição das notas dos alunos de economia por gênero\")+\n",
    "    labs(x=\"Alunos\", y=\"Notas\")+\n",
    "    theme_bw()+\n",
    "    theme(title=element_text(size=12,color=\"turquoise4\"))"
   ]
  },
  {
   "cell_type": "code",
   "execution_count": 32,
   "id": "under-reproduction",
   "metadata": {},
   "outputs": [
    {
     "data": {
      "image/png": "[encoded data removed]",
      "text/plain": [
       "plot without title"
      ]
     },
     "metadata": {},
     "output_type": "display_data"
    }
   ],
   "source": [
    "df_1$cor = factor(df_1$cor, levels=names(sort(table(df_1$cor), decreasing=TRUE)))\n",
    "ggplot(data=df_1, aes(y=nota, x=cor))+\n",
    "    geom_point(aes(color=cor), size=0.8)+\n",
    "    ggtitle(\"2. Distribuição das notas dos alunos de economia por cor\")+\n",
    "    labs(x=\"Cor\", y=\"Notas\")+\n",
    "    theme_bw()+\n",
    "    theme(title=element_text(size=12,color=\"turquoise4\"))"
   ]
  },
  {
   "cell_type": "code",
   "execution_count": 113,
   "id": "curious-interpretation",
   "metadata": {},
   "outputs": [
    {
     "data": {
      "image/png": "[encoded data removed]",
      "text/plain": [
       "plot without title"
      ]
     },
     "metadata": {},
     "output_type": "display_data"
    }
   ],
   "source": [
    "ggplot(data=df_1, aes(y=nota, x=renda))+\n",
    "    geom_point(aes(color=renda), size=0.8)+\n",
    "    ggtitle(\"3. Distribuição das notas dos alunos de economia por renda\")+\n",
    "    labs(x=\"Classe de Renda\", y=\"Notas\")+\n",
    "    theme_bw()+\n",
    "    theme(title=element_text(size=12,color=\"turquoise4\"))"
   ]
  },
  {
   "cell_type": "code",
   "execution_count": 80,
   "id": "generic-estimate",
   "metadata": {},
   "outputs": [],
   "source": [
    "df_1$estado_civil = mapvalues(df_1$estado_civil, from=c(\"A\",\"B\",\"C\",\"D\",\"E\"), to=c(\"solteiro\",\"casado\",\"separado\",\"viuvo\",\"outro\"))"
   ]
  },
  {
   "cell_type": "code",
   "execution_count": 114,
   "id": "sacred-generation",
   "metadata": {},
   "outputs": [
    {
     "data": {
      "image/png": "[encoded data removed]",
      "text/plain": [
       "plot without title"
      ]
     },
     "metadata": {},
     "output_type": "display_data"
    }
   ],
   "source": [
    "df_1$estado_civil = factor(df_1$estado_civil, levels=names(sort(table(df_1$estado_civil), decreasing=TRUE)))\n",
    "ggplot(data=df_1, aes(y=nota, x=estado_civil))+\n",
    "    geom_point(aes(color=estado_civil), size=0.8)+\n",
    "    ggtitle(\"4. Distribuição das notas dos alunos de economia por estado civil\")+\n",
    "    labs(x=\"Classe de Renda\", y=\"Notas\")+\n",
    "    theme_bw()+\n",
    "    theme(title=element_text(size=12,color=\"turquoise4\"))"
   ]
  },
  {
   "cell_type": "code",
   "execution_count": 85,
   "id": "further-racing",
   "metadata": {},
   "outputs": [
    {
     "data": {
      "text/plain": [
       "\n",
       "          com_renda com_renda_contribui   com_renda_familia          mantenedor \n",
       "               1252                1261                2372                 428 \n",
       "  sem_renda_familia       sem_renda_gov \n",
       "               1870                 618 "
      ]
     },
     "metadata": {},
     "output_type": "display_data"
    }
   ],
   "source": [
    "table(df_1$situacao_financeira)"
   ]
  },
  {
   "cell_type": "code",
   "execution_count": 84,
   "id": "dutch-queue",
   "metadata": {},
   "outputs": [],
   "source": [
    "df_1$situacao_financeira = mapvalues(df_1$situacao_financeira, from=c(\"A\",\"B\",\"C\",\"D\",\"E\", \"F\"), to=c(\"sem_renda_gov\",\"sem_renda_familia\",\"com_renda_familia\",\"com_renda\",\"com_renda_contribui\",\"mantenedor\"))"
   ]
  },
  {
   "cell_type": "code",
   "execution_count": 116,
   "id": "impressed-chicago",
   "metadata": {},
   "outputs": [
    {
     "data": {
      "image/png": "[encoded data removed]",
      "text/plain": [
       "plot without title"
      ]
     },
     "metadata": {},
     "output_type": "display_data"
    }
   ],
   "source": [
    "ggplot(data=df_1, aes(y=nota, x=situacao_financeira))+\n",
    "    geom_point(aes(color=situacao_financeira), size=0.8)+\n",
    "    ggtitle(\"5. Distribuição das notas dos alunos de economia pela situação financeira\")+\n",
    "    labs(x=\"Classe de Renda\", y=\"Notas\")+\n",
    "    theme_bw()+\n",
    "    theme(title=element_text(size=10,color=\"turquoise4\"), \n",
    "         axis.text.x = element_text(angle = 45, vjust = 0.9, hjust=1))"
   ]
  },
  {
   "cell_type": "code",
   "execution_count": 106,
   "id": "offensive-murray",
   "metadata": {},
   "outputs": [],
   "source": [
    "df_1$trabalho = mapvalues(df_1$trabalho, from=c(\"A\",\"B\",\"C\",\"D\",\"E\"), to=c(\"nao_trabalha\",\"trabalho_eventual\",\"20h\",\"21h_39h\",\"40h\"))"
   ]
  },
  {
   "cell_type": "code",
   "execution_count": 109,
   "id": "equal-burlington",
   "metadata": {},
   "outputs": [
    {
     "data": {
      "text/plain": [
       "\n",
       "              20h           21h_39h               40h      nao_trabalha \n",
       "              336              1151              2866              3120 \n",
       "trabalho_eventual \n",
       "              328 "
      ]
     },
     "metadata": {},
     "output_type": "display_data"
    }
   ],
   "source": [
    "table(df_1$trabalho)"
   ]
  },
  {
   "cell_type": "code",
   "execution_count": 117,
   "id": "assisted-concert",
   "metadata": {},
   "outputs": [
    {
     "data": {
      "image/png": "[encoded data removed]",
      "text/plain": [
       "plot without title"
      ]
     },
     "metadata": {},
     "output_type": "display_data"
    }
   ],
   "source": [
    "ggplot(data=df_1, aes(y=nota, x=trabalho))+\n",
    "    geom_point(aes(color=trabalho), size=0.8)+\n",
    "    ggtitle(\"6. Distribuição das notas dos alunos de economia por trabalho\")+\n",
    "    labs(x=\"Situação de emprego\", y=\"Notas\")+\n",
    "    theme_bw()+\n",
    "    theme(title=element_text(size=12,color=\"turquoise4\"), \n",
    "         axis.text.x = element_text(angle = 45, vjust = 0.9, hjust=1))"
   ]
  },
  {
   "cell_type": "code",
   "execution_count": 100,
   "id": "demanding-positive",
   "metadata": {},
   "outputs": [],
   "source": [
    "df_1$ensino_medio = mapvalues(df_1$ensino_medio, from=c(\"A\",\"B\",\"C\",\"D\",\"E\", \"F\"), to=c(\"publica\",\"privada\",\"exterior\",\"mais_publica\",\"mais_privada\",\"brasil_exterior\"))"
   ]
  },
  {
   "cell_type": "code",
   "execution_count": 119,
   "id": "express-brazil",
   "metadata": {},
   "outputs": [
    {
     "data": {
      "image/png": "[encoded data removed]",
      "text/plain": [
       "plot without title"
      ]
     },
     "metadata": {},
     "output_type": "display_data"
    }
   ],
   "source": [
    "df_1$ensino_medio = factor(df_1$ensino_medio, levels=names(sort(table(df_1$ensino_medio), decreasing=TRUE)))\n",
    "ggplot(data=df_1, aes(y=nota, x=ensino_medio))+\n",
    "    geom_point(aes(color=ensino_medio), size=0.8)+\n",
    "    ggtitle(\"7. Distribuição das notas dos alunos de economia pela conclusão do ensino médio\")+\n",
    "    labs(x=\"Tipo de ensino\", y=\"Notas\")+\n",
    "    theme_bw()+\n",
    "    theme(title=element_text(size=10,color=\"turquoise4\"), \n",
    "         axis.text.x = element_text(angle = 45, vjust = 0.9, hjust=1))"
   ]
  },
  {
   "cell_type": "code",
   "execution_count": 122,
   "id": "helpful-energy",
   "metadata": {},
   "outputs": [
    {
     "data": {
      "text/plain": [
       "\n",
       "   A    B \n",
       "5946 1855 "
      ]
     },
     "metadata": {},
     "output_type": "display_data"
    }
   ],
   "source": [
    "table(df_1$ensino_superior)"
   ]
  },
  {
   "cell_type": "code",
   "execution_count": 126,
   "id": "governing-yemen",
   "metadata": {},
   "outputs": [],
   "source": [
    "df_1$ensino_superior = mapvalues(df_1$ensino_superior, from=c(\"A\",\"B\"), to=c(\"sim\",\"não\"))"
   ]
  },
  {
   "cell_type": "code",
   "execution_count": 130,
   "id": "greatest-duration",
   "metadata": {},
   "outputs": [
    {
     "data": {
      "image/png": "[encoded data removed]",
      "text/plain": [
       "plot without title"
      ]
     },
     "metadata": {},
     "output_type": "display_data"
    }
   ],
   "source": [
    "df_1$ensino_superior = factor(df_1$ensino_superior, levels=names(sort(table(df_1$ensino_superior), decreasing=TRUE)))\n",
    "ggplot(data=df_1, aes(y=nota, x=ensino_superior))+\n",
    "    geom_point(aes(color=ensino_superior), size=0.8)+\n",
    "    ggtitle(\"8. Distribuição das notas dos alunos que tiveram alguém na familia com curso superior\")+\n",
    "    labs(x=\"Concluiu na família o curso superior\", y=\"Notas\")+\n",
    "    theme_bw()+\n",
    "    theme(title=element_text(size=10,color=\"turquoise4\"), \n",
    "         axis.text.x = element_text(angle = 45, vjust = 0.9, hjust=1))"
   ]
  },
  {
   "cell_type": "code",
   "execution_count": 132,
   "id": "temporal-jersey",
   "metadata": {},
   "outputs": [
    {
     "data": {
      "text/plain": [
       "\n",
       "   A    B    C    D    E \n",
       " 672 3026 2423  922  758 "
      ]
     },
     "metadata": {},
     "output_type": "display_data"
    }
   ],
   "source": [
    "table(df_1$horas_estudo)"
   ]
  },
  {
   "cell_type": "code",
   "execution_count": 134,
   "id": "responsible-planet",
   "metadata": {},
   "outputs": [],
   "source": [
    "df_1$horas_estudo = mapvalues(df_1$horas_estudo, from=c(\"A\",\"B\",\"C\",\"D\",\"E\"), to=c(\"nenhuma\",\"1h_3h\",\"4h_7h\",\"8h_12h\",\"12h_\"))"
   ]
  },
  {
   "cell_type": "code",
   "execution_count": 135,
   "id": "outdoor-dylan",
   "metadata": {},
   "outputs": [
    {
     "data": {
      "image/png": "[encoded data removed]",
      "text/plain": [
       "plot without title"
      ]
     },
     "metadata": {},
     "output_type": "display_data"
    }
   ],
   "source": [
    "ggplot(data=df_1, aes(y=nota, x=horas_estudo))+\n",
    "    geom_point(aes(color=horas_estudo), size=0.8)+\n",
    "    ggtitle(\"9. Distribuição das notas dos alunos por horas de estudo\")+\n",
    "    labs(x=\"Horas de estudo\", y=\"Notas\")+\n",
    "    theme_bw()+\n",
    "    theme(title=element_text(size=10,color=\"turquoise4\"), \n",
    "         axis.text.x = element_text(angle = 45, vjust = 0.9, hjust=1))"
   ]
  },
  {
   "cell_type": "code",
   "execution_count": 136,
   "id": "former-pennsylvania",
   "metadata": {},
   "outputs": [
    {
     "data": {
      "text/plain": [
       "\n",
       "   1    2    3    4    5    6 \n",
       " 595  423  726 1239 1769 3049 "
      ]
     },
     "metadata": {},
     "output_type": "display_data"
    }
   ],
   "source": [
    "table(df_1$infra_salas)"
   ]
  },
  {
   "cell_type": "code",
   "execution_count": 138,
   "id": "suffering-shepherd",
   "metadata": {},
   "outputs": [
    {
     "data": {
      "image/png": "[encoded data removed]",
      "text/plain": [
       "plot without title"
      ]
     },
     "metadata": {},
     "output_type": "display_data"
    }
   ],
   "source": [
    "ggplot(data=df_1, aes(y=nota, x=infra_salas))+\n",
    "    geom_point(aes(color=infra_salas), size=0.8)+\n",
    "    ggtitle(\"10. Distribuição das notas dos alunos por estrutura de salas de aula\")+\n",
    "    labs(x=\"Infra estrutura\", y=\"Notas\")+\n",
    "    theme_bw()+\n",
    "    theme(title=element_text(size=10,color=\"turquoise4\"), \n",
    "         axis.text.x = element_text(angle = 45, vjust = 0.9, hjust=1))"
   ]
  },
  {
   "cell_type": "code",
   "execution_count": 139,
   "id": "precious-samoa",
   "metadata": {},
   "outputs": [
    {
     "data": {
      "image/png": "[encoded data removed]",
      "text/plain": [
       "plot without title"
      ]
     },
     "metadata": {},
     "output_type": "display_data"
    }
   ],
   "source": [
    "ggplot(data=df_1, aes(y=nota, x=biblioteca))+\n",
    "    geom_point(aes(color=biblioteca), size=0.8)+\n",
    "    ggtitle(\"11. Distribuição das notas dos alunos quanto a biblioteca\")+\n",
    "    labs(x=\"Biblioteca\", y=\"Notas\")+\n",
    "    theme_bw()+\n",
    "    theme(title=element_text(size=10,color=\"turquoise4\"), \n",
    "         axis.text.x = element_text(angle = 45, vjust = 0.9, hjust=1))"
   ]
  },
  {
   "cell_type": "code",
   "execution_count": 140,
   "id": "regulated-destination",
   "metadata": {},
   "outputs": [
    {
     "data": {
      "image/png": "[encoded data removed]",
      "text/plain": [
       "plot without title"
      ]
     },
     "metadata": {},
     "output_type": "display_data"
    }
   ],
   "source": [
    "ggplot(data=df_1, aes(y=nota, x=metodologia))+\n",
    "    geom_point(aes(color=metodologia), size=0.8)+\n",
    "    ggtitle(\"12. Distribuição das notas dos alunos pela metodologia\")+\n",
    "    labs(x=\"Metodologia\", y=\"Notas\")+\n",
    "    theme_bw()+\n",
    "    theme(title=element_text(size=10,color=\"turquoise4\"), \n",
    "         axis.text.x = element_text(angle = 45, vjust = 0.9, hjust=1))"
   ]
  },
  {
   "cell_type": "code",
   "execution_count": 143,
   "id": "loved-cancer",
   "metadata": {},
   "outputs": [],
   "source": [
    "# Análise de Variância"
   ]
  },
  {
   "cell_type": "code",
   "execution_count": null,
   "id": "dying-preservation",
   "metadata": {},
   "outputs": [],
   "source": []
  },
  {
   "cell_type": "code",
   "execution_count": 70,
   "id": "tired-atmosphere",
   "metadata": {},
   "outputs": [
    {
     "data": {
      "image/png": "[encoded data removed]",
      "text/plain": [
       "plot without title"
      ]
     },
     "metadata": {},
     "output_type": "display_data"
    }
   ],
   "source": [
    "ggplot(df_1, aes(x=nota, color=IES_, fill=IES_)) +\n",
    "    geom_histogram(alpha=0.5, bins = 30)+\n",
    "    ggtitle(\"Distribuição das notas Ensino público e privado\")+\n",
    "    theme_bw()+\n",
    "    theme(title=element_text(size=10,color=\"turquoise4\"))\n"
   ]
  },
  {
   "cell_type": "code",
   "execution_count": 71,
   "id": "composite-thanksgiving",
   "metadata": {},
   "outputs": [
    {
     "data": {
      "image/png": "[encoded data removed]",
      "text/plain": [
       "plot without title"
      ]
     },
     "metadata": {},
     "output_type": "display_data"
    }
   ],
   "source": [
    "options(repr.plot.width = 5, repr.plot.height = 4)\n",
    "ggplot(df_1, aes(x=IES_, y=nota, fill=IES_)) +\n",
    "    geom_boxplot() +\n",
    "    stat_summary(aes(shape = \"média\"),\n",
    "               geom = \"point\",\n",
    "               fun = mean,\n",
    "               size = 1)+\n",
    "    ggtitle(\"Boxplot das notas Ensino público e privado\") +\n",
    "    theme_bw()+\n",
    "    theme(title=element_text(size=10,color=\"turquoise4\"))+\n",
    "    xlab(\"Público e Privado\")+\n",
    "    ylab(\"Notas\")"
   ]
  },
  {
   "cell_type": "code",
   "execution_count": 73,
   "id": "raised-malta",
   "metadata": {},
   "outputs": [
    {
     "name": "stdout",
     "output_type": "stream",
     "text": [
      "'data.frame':\t7801 obs. of  17 variables:\n",
      " $ nota               : num  24.9 25.6 48.7 35.7 33.9 23.5 32.2 20.9 48.9 39.4 ...\n",
      " $ IES                : int  10008 10008 10008 10008 10008 10008 10008 10008 10008 10008 ...\n",
      " $ genero             : Factor w/ 2 levels \"F\",\"M\": 1 2 2 1 2 2 1 1 2 1 ...\n",
      " $ cor                : Factor w/ 7 levels \"\",\"branca\",\"preta\",..: 2 2 2 2 2 2 2 2 2 5 ...\n",
      " $ renda              : Factor w/ 8 levels \"\",\"A\",\"B\",\"C\",..: 4 5 4 3 3 4 3 4 5 4 ...\n",
      " $ estado_civil       : Factor w/ 6 levels \"\",\"A\",\"B\",\"C\",..: 2 2 2 3 3 2 2 2 2 2 ...\n",
      " $ situacao_financeira: Factor w/ 7 levels \"\",\"A\",\"B\",\"C\",..: 7 6 4 6 6 6 3 7 4 5 ...\n",
      " $ trabalho           : Factor w/ 6 levels \"\",\"A\",\"B\",\"C\",..: 6 6 6 6 6 6 2 6 4 5 ...\n",
      " $ ensino_medio       : Factor w/ 7 levels \"\",\"A\",\"B\",\"C\",..: 2 5 5 2 3 3 2 3 2 2 ...\n",
      " $ ensino_superior    : Factor w/ 3 levels \"\",\"A\",\"B\": 3 2 3 2 2 3 3 2 2 3 ...\n",
      " $ horas_estudo       : Factor w/ 6 levels \"\",\"A\",\"B\",\"C\",..: 4 3 4 3 4 4 6 4 6 3 ...\n",
      " $ infra_salas        : int  6 6 6 6 6 6 6 6 6 6 ...\n",
      " $ biblioteca         : int  6 6 6 6 6 6 6 6 6 6 ...\n",
      " $ metodologia        : int  6 6 6 6 6 6 6 6 6 6 ...\n",
      " $ moradia            : Factor w/ 7 levels \"\",\"A\",\"B\",\"C\",..: 4 2 4 4 4 3 3 4 3 3 ...\n",
      " $ incentivo          : Factor w/ 8 levels \"\",\"A\",\"B\",\"C\",..: 3 3 2 3 3 3 3 4 3 3 ...\n",
      " $ IES_               : Factor w/ 2 levels \"público\",\"privado\": 2 2 2 2 2 2 2 2 2 2 ...\n",
      " - attr(*, \"na.action\")= 'omit' Named int  62 291 322 349 359 531 562 563 567 589 ...\n",
      "  ..- attr(*, \"names\")= chr  \"6922\" \"21885\" \"23419\" \"24487\" ...\n"
     ]
    }
   ],
   "source": [
    "str(df_1)"
   ]
  },
  {
   "cell_type": "code",
   "execution_count": 75,
   "id": "beneficial-wright",
   "metadata": {},
   "outputs": [
    {
     "data": {
      "text/plain": [
       "              Df  Sum Sq Mean Sq F value Pr(>F)\n",
       "IES_           1      94   94.39   0.552  0.457\n",
       "Residuals   7799 1332993  170.92               "
      ]
     },
     "metadata": {},
     "output_type": "display_data"
    }
   ],
   "source": [
    "anova = aov(nota ~ IES_,data=df_1)\n",
    "summary(anova)"
   ]
  },
  {
   "cell_type": "code",
   "execution_count": 166,
   "id": "graduate-weekend",
   "metadata": {},
   "outputs": [
    {
     "data": {
      "image/png": "[encoded data removed]",
      "text/plain": [
       "plot without title"
      ]
     },
     "metadata": {},
     "output_type": "display_data"
    }
   ],
   "source": [
    "options(repr.plot.width = 5, repr.plot.height = 4)\n",
    "ggplot(df_1, aes(x=genero, y=nota, fill=genero)) +\n",
    "    geom_boxplot() +\n",
    "    stat_summary(aes(shape = \"média\"),\n",
    "               geom = \"point\",\n",
    "               fun = mean,\n",
    "               size = 1)+\n",
    "    ggtitle(\"Boxplot das notas em relação ao gênero\") +\n",
    "    theme_bw()+\n",
    "    theme(title=element_text(size=10,color=\"turquoise4\"))+\n",
    "    xlab(\"gênero\")+\n",
    "    ylab(\"Notas\")"
   ]
  },
  {
   "cell_type": "code",
   "execution_count": 188,
   "id": "ideal-orlando",
   "metadata": {},
   "outputs": [],
   "source": [
    "anova_1 = aov(nota ~ as.factor(genero),data=df_1)"
   ]
  },
  {
   "cell_type": "code",
   "execution_count": 189,
   "id": "general-honey",
   "metadata": {},
   "outputs": [
    {
     "data": {
      "text/plain": [
       "                    Df  Sum Sq Mean Sq F value Pr(>F)    \n",
       "as.factor(genero)    1   62333   62333   382.6 <2e-16 ***\n",
       "Residuals         7799 1270754     163                   \n",
       "---\n",
       "Signif. codes:  0 '***' 0.001 '**' 0.01 '*' 0.05 '.' 0.1 ' ' 1"
      ]
     },
     "metadata": {},
     "output_type": "display_data"
    }
   ],
   "source": [
    "summary(anova_1)"
   ]
  },
  {
   "cell_type": "markdown",
   "id": "hybrid-implement",
   "metadata": {},
   "source": [
    "# Cor"
   ]
  },
  {
   "cell_type": "code",
   "execution_count": 50,
   "id": "acoustic-temple",
   "metadata": {},
   "outputs": [
    {
     "data": {
      "image/png": "[encoded data removed]",
      "text/plain": [
       "plot without title"
      ]
     },
     "metadata": {},
     "output_type": "display_data"
    }
   ],
   "source": [
    "ggplot(df_1, aes(x=cor, y=nota, fill=cor)) +\n",
    "    geom_boxplot() +\n",
    "    stat_summary(aes(shape = \"média\"),\n",
    "               geom = \"point\",\n",
    "               fun = mean,\n",
    "               size = 1)+\n",
    "    ggtitle(\"Boxplot das notas em relação a cor\") +\n",
    "    theme_bw()+\n",
    "    theme(title=element_text(size=10,color=\"turquoise4\"),\n",
    "         axis.text.x = element_text(angle = 45, vjust = 0.9, hjust=1))+\n",
    "    xlab(\"Cor\")+\n",
    "    ylab(\"Notas\")"
   ]
  },
  {
   "cell_type": "code",
   "execution_count": 48,
   "id": "celtic-ambassador",
   "metadata": {},
   "outputs": [],
   "source": [
    "anova_2 = aov(nota ~ as.factor(cor),data=df_1)"
   ]
  },
  {
   "cell_type": "code",
   "execution_count": 49,
   "id": "novel-flash",
   "metadata": {},
   "outputs": [
    {
     "data": {
      "text/plain": [
       "                 Df  Sum Sq Mean Sq F value Pr(>F)    \n",
       "as.factor(cor)    5   16736    3347   19.82 <2e-16 ***\n",
       "Residuals      7795 1316351     169                   \n",
       "---\n",
       "Signif. codes:  0 '***' 0.001 '**' 0.01 '*' 0.05 '.' 0.1 ' ' 1"
      ]
     },
     "metadata": {},
     "output_type": "display_data"
    }
   ],
   "source": [
    "summary(anova_2)"
   ]
  },
  {
   "cell_type": "markdown",
   "id": "vulnerable-boutique",
   "metadata": {},
   "source": [
    "# Renda"
   ]
  },
  {
   "cell_type": "code",
   "execution_count": 163,
   "id": "compact-madonna",
   "metadata": {},
   "outputs": [
    {
     "data": {
      "image/png": "[encoded data removed]",
      "text/plain": [
       "plot without title"
      ]
     },
     "metadata": {},
     "output_type": "display_data"
    }
   ],
   "source": [
    "ggplot(df_1, aes(x=renda, y=nota, fill=renda)) +\n",
    "    geom_boxplot() +\n",
    "    stat_summary(aes(shape = \"média\"),\n",
    "               geom = \"point\",\n",
    "               fun = mean,\n",
    "               size = 1)+\n",
    "    ggtitle(\"Boxplot das notas em relação à renda\") +\n",
    "    theme_bw()+\n",
    "    theme(title=element_text(size=10,color=\"turquoise4\"))+\n",
    "    xlab(\"Renda\")+\n",
    "    ylab(\"Notas\")"
   ]
  },
  {
   "cell_type": "code",
   "execution_count": 51,
   "id": "nutritional-modem",
   "metadata": {},
   "outputs": [
    {
     "data": {
      "text/plain": [
       "                   Df  Sum Sq Mean Sq F value Pr(>F)    \n",
       "as.factor(renda)    6  106568   17761   112.9 <2e-16 ***\n",
       "Residuals        7794 1226519     157                   \n",
       "---\n",
       "Signif. codes:  0 '***' 0.001 '**' 0.01 '*' 0.05 '.' 0.1 ' ' 1"
      ]
     },
     "metadata": {},
     "output_type": "display_data"
    }
   ],
   "source": [
    "anova_3 = aov(nota ~ as.factor(renda),data=df_1)\n",
    "summary(anova_3)"
   ]
  },
  {
   "cell_type": "markdown",
   "id": "velvet-province",
   "metadata": {},
   "source": [
    "# Estado Civil"
   ]
  },
  {
   "cell_type": "code",
   "execution_count": 170,
   "id": "accepted-kitty",
   "metadata": {},
   "outputs": [
    {
     "data": {
      "image/png": "[encoded data removed]",
      "text/plain": [
       "plot without title"
      ]
     },
     "metadata": {},
     "output_type": "display_data"
    }
   ],
   "source": [
    "ggplot(df_1, aes(x=estado_civil, y=nota, fill=estado_civil)) +\n",
    "    geom_boxplot() +\n",
    "    stat_summary(aes(shape = \"média\"),\n",
    "               geom = \"point\",\n",
    "               fun = mean,\n",
    "               size = 1)+\n",
    "    ggtitle(\"Boxplot das notas em relação ao estado civil\") +\n",
    "    theme_bw()+\n",
    "    theme(title=element_text(size=10,color=\"turquoise4\"))+\n",
    "    xlab(\"Estado Civil\")+\n",
    "    ylab(\"Notas\")"
   ]
  },
  {
   "cell_type": "code",
   "execution_count": 52,
   "id": "remarkable-ability",
   "metadata": {},
   "outputs": [
    {
     "data": {
      "text/plain": [
       "                   Df  Sum Sq Mean Sq F value Pr(>F)    \n",
       "as.factor(renda)    6  106568   17761   112.9 <2e-16 ***\n",
       "Residuals        7794 1226519     157                   \n",
       "---\n",
       "Signif. codes:  0 '***' 0.001 '**' 0.01 '*' 0.05 '.' 0.1 ' ' 1"
      ]
     },
     "metadata": {},
     "output_type": "display_data"
    }
   ],
   "source": [
    "anova_4 = aov(nota ~ as.factor(estado_civil),data=df_1)\n",
    "summary(anova_3)"
   ]
  },
  {
   "cell_type": "markdown",
   "id": "statewide-concept",
   "metadata": {},
   "source": [
    "# Situação Financeira"
   ]
  },
  {
   "cell_type": "code",
   "execution_count": 172,
   "id": "median-sugar",
   "metadata": {},
   "outputs": [
    {
     "data": {
      "image/png": "[encoded data removed]",
      "text/plain": [
       "plot without title"
      ]
     },
     "metadata": {},
     "output_type": "display_data"
    }
   ],
   "source": [
    "ggplot(df_1, aes(x=situacao_financeira, y=nota, fill=situacao_financeira)) +\n",
    "    geom_boxplot() +\n",
    "    stat_summary(aes(shape = \"média\"),\n",
    "               geom = \"point\",\n",
    "               fun = mean,\n",
    "               size = 1)+\n",
    "    ggtitle(\"Boxplot das notas em relação a situação financeira\") +\n",
    "    theme_bw()+\n",
    "    theme(title=element_text(size=10,color=\"turquoise4\"), \n",
    "          axis.text.x = element_text(angle = 45, vjust = 0.9, hjust=1))+\n",
    "    xlab(\"Situação Financeira\")+\n",
    "    ylab(\"Notas\")"
   ]
  },
  {
   "cell_type": "code",
   "execution_count": 54,
   "id": "terminal-modeling",
   "metadata": {},
   "outputs": [
    {
     "data": {
      "text/plain": [
       "                                 Df  Sum Sq Mean Sq F value Pr(>F)    \n",
       "as.factor(situacao_financeira)    5   26972    5394   32.19 <2e-16 ***\n",
       "Residuals                      7795 1306116     168                   \n",
       "---\n",
       "Signif. codes:  0 '***' 0.001 '**' 0.01 '*' 0.05 '.' 0.1 ' ' 1"
      ]
     },
     "metadata": {},
     "output_type": "display_data"
    }
   ],
   "source": [
    "anova_5 = aov(nota ~ as.factor(situacao_financeira),data=df_1)\n",
    "summary(anova_5)"
   ]
  },
  {
   "cell_type": "markdown",
   "id": "indonesian-announcement",
   "metadata": {},
   "source": [
    "# Trabalho"
   ]
  },
  {
   "cell_type": "code",
   "execution_count": 174,
   "id": "extensive-difficulty",
   "metadata": {},
   "outputs": [
    {
     "data": {
      "image/png": "[encoded data removed]",
      "text/plain": [
       "plot without title"
      ]
     },
     "metadata": {},
     "output_type": "display_data"
    }
   ],
   "source": [
    "ggplot(df_1, aes(x=trabalho, y=nota, fill=trabalho)) +\n",
    "    geom_boxplot() +\n",
    "    stat_summary(aes(shape = \"média\"),\n",
    "               geom = \"point\",\n",
    "               fun = mean,\n",
    "               size = 1)+\n",
    "    ggtitle(\"Boxplot das notas em relação ao trabalho\") +\n",
    "    theme_bw()+\n",
    "    theme(title=element_text(size=10,color=\"turquoise4\"), \n",
    "          axis.text.x = element_text(angle = 45, vjust = 0.9, hjust=1))+\n",
    "    xlab(\"Trabalho\")+\n",
    "    ylab(\"Notas\")"
   ]
  },
  {
   "cell_type": "code",
   "execution_count": 55,
   "id": "progressive-crossing",
   "metadata": {},
   "outputs": [
    {
     "data": {
      "text/plain": [
       "                   Df  Sum Sq Mean Sq F value Pr(>F)    \n",
       "as.factor(renda)    6  106568   17761   112.9 <2e-16 ***\n",
       "Residuals        7794 1226519     157                   \n",
       "---\n",
       "Signif. codes:  0 '***' 0.001 '**' 0.01 '*' 0.05 '.' 0.1 ' ' 1"
      ]
     },
     "metadata": {},
     "output_type": "display_data"
    }
   ],
   "source": [
    "anova_6 = aov(nota ~ as.factor(renda),data=df_1)\n",
    "summary(anova_6)"
   ]
  },
  {
   "cell_type": "markdown",
   "id": "controlling-sample",
   "metadata": {},
   "source": [
    "# Ensino Médio"
   ]
  },
  {
   "cell_type": "code",
   "execution_count": 175,
   "id": "conservative-humanitarian",
   "metadata": {},
   "outputs": [
    {
     "data": {
      "image/png": "[encoded data removed]",
      "text/plain": [
       "plot without title"
      ]
     },
     "metadata": {},
     "output_type": "display_data"
    }
   ],
   "source": [
    "ggplot(df_1, aes(x=ensino_medio, y=nota, fill=ensino_medio)) +\n",
    "    geom_boxplot() +\n",
    "    stat_summary(aes(shape = \"média\"),\n",
    "               geom = \"point\",\n",
    "               fun = mean,\n",
    "               size = 1)+\n",
    "    ggtitle(\"Boxplot das notas em relação à conclusão do ensino médio\") +\n",
    "    theme_bw()+\n",
    "    theme(title=element_text(size=10,color=\"turquoise4\"), \n",
    "          axis.text.x = element_text(angle = 45, vjust = 0.9, hjust=1))+\n",
    "    xlab(\"Ensino Médio\")+\n",
    "    ylab(\"Notas\")"
   ]
  },
  {
   "cell_type": "code",
   "execution_count": 56,
   "id": "strange-creation",
   "metadata": {},
   "outputs": [
    {
     "data": {
      "text/plain": [
       "                          Df  Sum Sq Mean Sq F value Pr(>F)    \n",
       "as.factor(ensino_medio)    5   65143   13029    80.1 <2e-16 ***\n",
       "Residuals               7795 1267944     163                   \n",
       "---\n",
       "Signif. codes:  0 '***' 0.001 '**' 0.01 '*' 0.05 '.' 0.1 ' ' 1"
      ]
     },
     "metadata": {},
     "output_type": "display_data"
    }
   ],
   "source": [
    "anova_7 = aov(nota ~ as.factor(ensino_medio),data=df_1)\n",
    "summary(anova_7)"
   ]
  },
  {
   "cell_type": "markdown",
   "id": "median-colombia",
   "metadata": {},
   "source": [
    "# Ensino Superior"
   ]
  },
  {
   "cell_type": "code",
   "execution_count": 176,
   "id": "southern-extraction",
   "metadata": {},
   "outputs": [
    {
     "data": {
      "image/png": "[encoded data removed]",
      "text/plain": [
       "plot without title"
      ]
     },
     "metadata": {},
     "output_type": "display_data"
    }
   ],
   "source": [
    "ggplot(df_1, aes(x=ensino_superior, y=nota, fill=ensino_superior)) +\n",
    "    geom_boxplot() +\n",
    "    stat_summary(aes(shape = \"média\"),\n",
    "               geom = \"point\",\n",
    "               fun = mean,\n",
    "               size = 1)+\n",
    "    ggtitle(\"Boxplot das notas de alunos que tiveram parente com ensino superior\") +\n",
    "    theme_bw()+\n",
    "    theme(title=element_text(size=10,color=\"turquoise4\"), \n",
    "          axis.text.x = element_text(angle = 45, vjust = 0.9, hjust=1))+\n",
    "    xlab(\"Parente com ensino superior\")+\n",
    "    ylab(\"Notas\")"
   ]
  },
  {
   "cell_type": "code",
   "execution_count": 57,
   "id": "electronic-undergraduate",
   "metadata": {},
   "outputs": [
    {
     "data": {
      "text/plain": [
       "                             Df  Sum Sq Mean Sq F value Pr(>F)    \n",
       "as.factor(ensino_superior)    1   22649   22649   134.8 <2e-16 ***\n",
       "Residuals                  7799 1310438     168                   \n",
       "---\n",
       "Signif. codes:  0 '***' 0.001 '**' 0.01 '*' 0.05 '.' 0.1 ' ' 1"
      ]
     },
     "metadata": {},
     "output_type": "display_data"
    }
   ],
   "source": [
    "anova_8 = aov(nota ~ as.factor(ensino_superior),data=df_1)\n",
    "summary(anova_8)"
   ]
  },
  {
   "cell_type": "markdown",
   "id": "compressed-brazil",
   "metadata": {},
   "source": [
    "# Horas Estudo"
   ]
  },
  {
   "cell_type": "code",
   "execution_count": 177,
   "id": "through-arcade",
   "metadata": {},
   "outputs": [
    {
     "data": {
      "image/png": "[encoded data removed]",
      "text/plain": [
       "plot without title"
      ]
     },
     "metadata": {},
     "output_type": "display_data"
    }
   ],
   "source": [
    "ggplot(df_1, aes(x=horas_estudo, y=nota, fill=horas_estudo)) +\n",
    "    geom_boxplot() +\n",
    "    stat_summary(aes(shape = \"média\"),\n",
    "               geom = \"point\",\n",
    "               fun = mean,\n",
    "               size = 1)+\n",
    "    ggtitle(\"Boxplot das notas em relação às horas de estudo\") +\n",
    "    theme_bw()+\n",
    "    theme(title=element_text(size=10,color=\"turquoise4\"), \n",
    "          axis.text.x = element_text(angle = 45, vjust = 0.9, hjust=1))+\n",
    "    xlab(\"Horas de estudos\")+\n",
    "    ylab(\"Notas\")"
   ]
  },
  {
   "cell_type": "code",
   "execution_count": 58,
   "id": "frank-ontario",
   "metadata": {},
   "outputs": [
    {
     "data": {
      "text/plain": [
       "                          Df  Sum Sq Mean Sq F value Pr(>F)    \n",
       "as.factor(horas_estudo)    4   33691    8423   50.53 <2e-16 ***\n",
       "Residuals               7796 1299396     167                   \n",
       "---\n",
       "Signif. codes:  0 '***' 0.001 '**' 0.01 '*' 0.05 '.' 0.1 ' ' 1"
      ]
     },
     "metadata": {},
     "output_type": "display_data"
    }
   ],
   "source": [
    "anova_9 = aov(nota ~ as.factor(horas_estudo),data=df_1)\n",
    "summary(anova_9)"
   ]
  },
  {
   "cell_type": "markdown",
   "id": "modified-consensus",
   "metadata": {},
   "source": [
    "# Infra Salas"
   ]
  },
  {
   "cell_type": "code",
   "execution_count": 183,
   "id": "seventh-conviction",
   "metadata": {},
   "outputs": [
    {
     "data": {
      "image/png": "[encoded data removed]",
      "text/plain": [
       "plot without title"
      ]
     },
     "metadata": {},
     "output_type": "display_data"
    }
   ],
   "source": [
    "ggplot(df_1, aes(x=infra_salas, y=nota, fill=infra_salas)) +\n",
    "    geom_boxplot() +\n",
    "    stat_summary(aes(shape = \"média\"),\n",
    "               geom = \"point\",\n",
    "               fun = mean,\n",
    "               size = 1)+\n",
    "    ggtitle(\"Boxplot das notas em relação à satisfação dos alunos com relação a estrutura das salas de aula\") +\n",
    "    theme_bw()+\n",
    "    theme(title=element_text(size=6,color=\"turquoise4\"), \n",
    "          axis.text.x = element_text(angle = 45, vjust = 0.9, hjust=1))+\n",
    "    xlab(\"Sala de aula\")+\n",
    "    ylab(\"Notas\")"
   ]
  },
  {
   "cell_type": "code",
   "execution_count": 60,
   "id": "round-canadian",
   "metadata": {},
   "outputs": [
    {
     "data": {
      "text/plain": [
       "                         Df  Sum Sq Mean Sq F value  Pr(>F)    \n",
       "as.factor(infra_salas)    5    5926  1185.3   6.962 1.7e-06 ***\n",
       "Residuals              7795 1327161   170.3                    \n",
       "---\n",
       "Signif. codes:  0 '***' 0.001 '**' 0.01 '*' 0.05 '.' 0.1 ' ' 1"
      ]
     },
     "metadata": {},
     "output_type": "display_data"
    }
   ],
   "source": [
    "anova_10 = aov(nota ~ as.factor(infra_salas),data=df_1)\n",
    "summary(anova_10)"
   ]
  },
  {
   "cell_type": "markdown",
   "id": "beneficial-underwear",
   "metadata": {},
   "source": [
    "# Biblioteca"
   ]
  },
  {
   "cell_type": "code",
   "execution_count": 185,
   "id": "false-crown",
   "metadata": {},
   "outputs": [
    {
     "data": {
      "image/png": "[encoded data removed]",
      "text/plain": [
       "plot without title"
      ]
     },
     "metadata": {},
     "output_type": "display_data"
    }
   ],
   "source": [
    "ggplot(df_1, aes(x=biblioteca, y=nota, fill=biblioteca)) +\n",
    "    geom_boxplot() +\n",
    "    stat_summary(aes(shape = \"média\"),\n",
    "               geom = \"point\",\n",
    "               fun = mean,\n",
    "               size = 1)+\n",
    "    ggtitle(\"Boxplot das notas em relação à satisfação dos alunos em relação à biblioteca\") +\n",
    "    theme_bw()+\n",
    "    theme(title=element_text(size=7,color=\"turquoise4\"), \n",
    "          axis.text.x = element_text(angle = 45, vjust = 0.9, hjust=1))+\n",
    "    xlab(\"Biblioteca\")+\n",
    "    ylab(\"Notas\")"
   ]
  },
  {
   "cell_type": "code",
   "execution_count": 61,
   "id": "pending-danish",
   "metadata": {},
   "outputs": [
    {
     "data": {
      "text/plain": [
       "                        Df  Sum Sq Mean Sq F value   Pr(>F)    \n",
       "as.factor(biblioteca)    5    7091  1418.2   8.337 7.16e-08 ***\n",
       "Residuals             7795 1325996   170.1                     \n",
       "---\n",
       "Signif. codes:  0 '***' 0.001 '**' 0.01 '*' 0.05 '.' 0.1 ' ' 1"
      ]
     },
     "metadata": {},
     "output_type": "display_data"
    }
   ],
   "source": [
    "anova_11 = aov(nota ~ as.factor(biblioteca),data=df_1)\n",
    "summary(anova_11)"
   ]
  },
  {
   "cell_type": "markdown",
   "id": "requested-medicare",
   "metadata": {},
   "source": [
    "# Metodologia"
   ]
  },
  {
   "cell_type": "code",
   "execution_count": 186,
   "id": "rolled-husband",
   "metadata": {},
   "outputs": [
    {
     "data": {
      "image/png": "[encoded data removed]",
      "text/plain": [
       "plot without title"
      ]
     },
     "metadata": {},
     "output_type": "display_data"
    }
   ],
   "source": [
    "ggplot(df_1, aes(x=metodologia, y=nota, fill=metodologia)) +\n",
    "    geom_boxplot() +\n",
    "    stat_summary(aes(shape = \"média\"),\n",
    "               geom = \"point\",\n",
    "               fun = mean,\n",
    "               size = 1)+\n",
    "    ggtitle(\"Boxplot das notas em relação à satisfação à metodologia\") +\n",
    "    theme_bw()+\n",
    "    theme(title=element_text(size=7,color=\"turquoise4\"), \n",
    "          axis.text.x = element_text(angle = 45, vjust = 0.9, hjust=1))+\n",
    "    xlab(\"Metodologia\")+\n",
    "    ylab(\"Notas\")"
   ]
  },
  {
   "cell_type": "code",
   "execution_count": 62,
   "id": "alternative-bridal",
   "metadata": {},
   "outputs": [
    {
     "data": {
      "text/plain": [
       "                         Df  Sum Sq Mean Sq F value Pr(>F)  \n",
       "as.factor(metodologia)    5    2002   400.3   2.344 0.0389 *\n",
       "Residuals              7795 1331086   170.8                 \n",
       "---\n",
       "Signif. codes:  0 '***' 0.001 '**' 0.01 '*' 0.05 '.' 0.1 ' ' 1"
      ]
     },
     "metadata": {},
     "output_type": "display_data"
    }
   ],
   "source": [
    "anova_12 = aov(nota ~ as.factor(metodologia),data=df_1)\n",
    "summary(anova_12)"
   ]
  },
  {
   "cell_type": "markdown",
   "id": "opened-wheel",
   "metadata": {},
   "source": [
    "# Moradia"
   ]
  },
  {
   "cell_type": "code",
   "execution_count": 83,
   "id": "dominican-cylinder",
   "metadata": {},
   "outputs": [],
   "source": [
    "df_1$moradia = mapvalues(df_1$moradia, from=c(\"A\",\"B\",\"C\",\"D\",\"E\",\"F\"), to=c(\"sozinho\",\"pais\",\"cônjuge\"\n",
    "                                                                             ,\"outras_pessoas\",\"universidade\",\n",
    "                                                                            \"outros\"))"
   ]
  },
  {
   "cell_type": "code",
   "execution_count": 84,
   "id": "aggressive-kazakhstan",
   "metadata": {},
   "outputs": [
    {
     "data": {
      "image/png": "[encoded data removed]",
      "text/plain": [
       "plot without title"
      ]
     },
     "metadata": {},
     "output_type": "display_data"
    }
   ],
   "source": [
    "ggplot(df_1, aes(x=moradia, y=nota, fill=moradia)) +\n",
    "    geom_boxplot() +\n",
    "    stat_summary(aes(shape = \"média\"),\n",
    "               geom = \"point\",\n",
    "               fun = mean,\n",
    "               size = 1)+\n",
    "    ggtitle(\"Boxplot das notas em relação à moradia dos alunos\") +\n",
    "    theme_bw()+\n",
    "    theme(title=element_text(size=7,color=\"turquoise4\"), \n",
    "          axis.text.x = element_text(angle = 45, vjust = 0.9, hjust=1))+\n",
    "    xlab(\"Moradia\")+\n",
    "    ylab(\"Notas\")"
   ]
  },
  {
   "cell_type": "code",
   "execution_count": 82,
   "id": "adapted-coupon",
   "metadata": {},
   "outputs": [
    {
     "data": {
      "text/plain": [
       "              Df  Sum Sq Mean Sq F value Pr(>F)    \n",
       "moradia        5   25342    5068   30.21 <2e-16 ***\n",
       "Residuals   7795 1307745     168                   \n",
       "---\n",
       "Signif. codes:  0 '***' 0.001 '**' 0.01 '*' 0.05 '.' 0.1 ' ' 1"
      ]
     },
     "metadata": {},
     "output_type": "display_data"
    }
   ],
   "source": [
    "anova_13 = aov(nota ~ moradia,data=df_1)\n",
    "summary(anova_13)"
   ]
  },
  {
   "cell_type": "markdown",
   "id": "disciplinary-month",
   "metadata": {},
   "source": [
    "# Incentivo"
   ]
  },
  {
   "cell_type": "code",
   "execution_count": 86,
   "id": "graphic-conviction",
   "metadata": {},
   "outputs": [],
   "source": [
    "df_1$incentivo = mapvalues(df_1$incentivo, from=c(\"A\",\"B\",\"C\",\"D\",\"E\",\"F\",\"G\"), \n",
    "                           to=c(\"ninguém\",\"pais\",\"outros_familia\",\"professores\",\n",
    "                                \"líder_religião\", \"colegas_amigos\",\"outros\"))\n"
   ]
  },
  {
   "cell_type": "code",
   "execution_count": 87,
   "id": "initial-seller",
   "metadata": {},
   "outputs": [
    {
     "data": {
      "image/png": "[encoded data removed]",
      "text/plain": [
       "plot without title"
      ]
     },
     "metadata": {},
     "output_type": "display_data"
    }
   ],
   "source": [
    "ggplot(df_1, aes(x=incentivo, y=nota, fill=incentivo)) +\n",
    "    geom_boxplot() +\n",
    "    stat_summary(aes(shape = \"média\"),\n",
    "               geom = \"point\",\n",
    "               fun = mean,\n",
    "               size = 1)+\n",
    "    ggtitle(\"Boxplot das notas em relação ao incentivo dos alunos\") +\n",
    "    theme_bw()+\n",
    "    theme(title=element_text(size=7,color=\"turquoise4\"), \n",
    "          axis.text.x = element_text(angle = 45, vjust = 0.9, hjust=1))+\n",
    "    xlab(\"Incentivo\")+\n",
    "    ylab(\"Notas\")"
   ]
  },
  {
   "cell_type": "code",
   "execution_count": 88,
   "id": "designing-association",
   "metadata": {},
   "outputs": [
    {
     "data": {
      "text/plain": [
       "              Df  Sum Sq Mean Sq F value   Pr(>F)    \n",
       "incentivo      6    6736  1122.6   6.597 5.73e-07 ***\n",
       "Residuals   7794 1326351   170.2                     \n",
       "---\n",
       "Signif. codes:  0 '***' 0.001 '**' 0.01 '*' 0.05 '.' 0.1 ' ' 1"
      ]
     },
     "metadata": {},
     "output_type": "display_data"
    }
   ],
   "source": [
    "anova_15 = aov(nota ~ incentivo,data=df_1)\n",
    "summary(anova_15)"
   ]
  },
  {
   "cell_type": "markdown",
   "id": "trying-refrigerator",
   "metadata": {},
   "source": [
    "# Propostas de modelos:"
   ]
  },
  {
   "cell_type": "markdown",
   "id": "substantial-drain",
   "metadata": {},
   "source": [
    "* Ponderação: esforço, família, história, estrutura da universidade, sexo e raça\n"
   ]
  },
  {
   "cell_type": "code",
   "execution_count": 80,
   "id": "corresponding-provincial",
   "metadata": {},
   "outputs": [
    {
     "name": "stdout",
     "output_type": "stream",
     "text": [
      "'data.frame':\t7801 obs. of  17 variables:\n",
      " $ nota               : num  24.9 25.6 48.7 35.7 33.9 23.5 32.2 20.9 48.9 39.4 ...\n",
      " $ IES                : int  10008 10008 10008 10008 10008 10008 10008 10008 10008 10008 ...\n",
      " $ genero             : Factor w/ 2 levels \"F\",\"M\": 1 2 2 1 2 2 1 1 2 1 ...\n",
      " $ cor                : Factor w/ 7 levels \"\",\"branca\",\"preta\",..: 2 2 2 2 2 2 2 2 2 5 ...\n",
      " $ renda              : Factor w/ 8 levels \"\",\"A\",\"B\",\"C\",..: 4 5 4 3 3 4 3 4 5 4 ...\n",
      " $ estado_civil       : Factor w/ 6 levels \"\",\"A\",\"B\",\"C\",..: 2 2 2 3 3 2 2 2 2 2 ...\n",
      " $ situacao_financeira: Factor w/ 7 levels \"\",\"A\",\"B\",\"C\",..: 7 6 4 6 6 6 3 7 4 5 ...\n",
      " $ trabalho           : Factor w/ 6 levels \"\",\"A\",\"B\",\"C\",..: 6 6 6 6 6 6 2 6 4 5 ...\n",
      " $ ensino_medio       : Factor w/ 7 levels \"\",\"A\",\"B\",\"C\",..: 2 5 5 2 3 3 2 3 2 2 ...\n",
      " $ ensino_superior    : Factor w/ 3 levels \"\",\"A\",\"B\": 3 2 3 2 2 3 3 2 2 3 ...\n",
      " $ horas_estudo       : Factor w/ 6 levels \"\",\"A\",\"B\",\"C\",..: 4 3 4 3 4 4 6 4 6 3 ...\n",
      " $ infra_salas        : int  6 6 6 6 6 6 6 6 6 6 ...\n",
      " $ biblioteca         : int  6 6 6 6 6 6 6 6 6 6 ...\n",
      " $ metodologia        : int  6 6 6 6 6 6 6 6 6 6 ...\n",
      " $ moradia            : Factor w/ 7 levels \"\",\"A\",\"B\",\"C\",..: 4 2 4 4 4 3 3 4 3 3 ...\n",
      " $ incentivo          : Factor w/ 8 levels \"\",\"A\",\"B\",\"C\",..: 3 3 2 3 3 3 3 4 3 3 ...\n",
      " $ IES_               : Factor w/ 2 levels \"público\",\"privado\": 2 2 2 2 2 2 2 2 2 2 ...\n",
      " - attr(*, \"na.action\")= 'omit' Named int  62 291 322 349 359 531 562 563 567 589 ...\n",
      "  ..- attr(*, \"names\")= chr  \"6922\" \"21885\" \"23419\" \"24487\" ...\n"
     ]
    }
   ],
   "source": [
    "str(df_1)"
   ]
  },
  {
   "cell_type": "markdown",
   "id": "medieval-plain",
   "metadata": {},
   "source": [
    "## mod_1 => f(nota) = genero + cor + renda + estado_civil + horas_estudo + infra_salas\n"
   ]
  },
  {
   "cell_type": "code",
   "execution_count": 67,
   "id": "appropriate-remedy",
   "metadata": {},
   "outputs": [
    {
     "data": {
      "text/plain": [
       "                          Df  Sum Sq Mean Sq F value Pr(>F)    \n",
       "genero                     1   62333   62333  425.48 <2e-16 ***\n",
       "cor                        5   13061    2612   17.83 <2e-16 ***\n",
       "as.factor(renda)           6   72230   12038   82.17 <2e-16 ***\n",
       "as.factor(estado_civil)    4   19688    4922   33.60 <2e-16 ***\n",
       "as.factor(horas_estudo)    4   25605    6401   43.70 <2e-16 ***\n",
       "infra_salas                5    1135     227    1.55  0.171    \n",
       "Residuals               7775 1139034     146                   \n",
       "---\n",
       "Signif. codes:  0 '***' 0.001 '**' 0.01 '*' 0.05 '.' 0.1 ' ' 1"
      ]
     },
     "metadata": {},
     "output_type": "display_data"
    }
   ],
   "source": [
    "mod_anova_1 = aov(nota~genero + cor + renda + estado_civil + horas_estudo + infra_salas, data=df_1)\n",
    "summary(mod_anova_1)"
   ]
  },
  {
   "cell_type": "code",
   "execution_count": 65,
   "id": "binding-genetics",
   "metadata": {},
   "outputs": [
    {
     "data": {
      "text/plain": [
       "               Df  Sum Sq Mean Sq F value Pr(>F)    \n",
       "genero          1   62333   62333 425.246 <2e-16 ***\n",
       "cor             5   13061    2612  17.821 <2e-16 ***\n",
       "renda           6   72230   12038  82.128 <2e-16 ***\n",
       "estado_civil    4   19688    4922  33.579 <2e-16 ***\n",
       "horas_estudo    4   25605    6401  43.670 <2e-16 ***\n",
       "metodologia     5     501     100   0.684  0.636    \n",
       "Residuals    7775 1139668     147                   \n",
       "---\n",
       "Signif. codes:  0 '***' 0.001 '**' 0.01 '*' 0.05 '.' 0.1 ' ' 1"
      ]
     },
     "metadata": {},
     "output_type": "display_data"
    }
   ],
   "source": [
    "mod_anova_2 = aov(nota~genero + cor + renda + estado_civil + horas_estudo + metodologia, data=df_1)\n",
    "summary(mod_anova_2)"
   ]
  },
  {
   "cell_type": "code",
   "execution_count": 102,
   "id": "isolated-condition",
   "metadata": {},
   "outputs": [
    {
     "data": {
      "text/plain": [
       "               Df  Sum Sq Mean Sq F value Pr(>F)    \n",
       "genero          1   62333   62333 425.280 <2e-16 ***\n",
       "cor             5   13061    2612  17.822 <2e-16 ***\n",
       "renda           6   72230   12038  82.134 <2e-16 ***\n",
       "estado_civil    4   19688    4922  33.582 <2e-16 ***\n",
       "horas_estudo    4   25605    6401  43.674 <2e-16 ***\n",
       "biblioteca      1       6       6   0.042  0.837    \n",
       "Residuals    7779 1140163     147                   \n",
       "---\n",
       "Signif. codes:  0 '***' 0.001 '**' 0.01 '*' 0.05 '.' 0.1 ' ' 1"
      ]
     },
     "metadata": {},
     "output_type": "display_data"
    }
   ],
   "source": [
    "mod_anova_3 = aov(nota~genero + cor + renda + estado_civil + horas_estudo + biblioteca, data=df_1)\n",
    "summary(mod_anova_3)"
   ]
  },
  {
   "cell_type": "markdown",
   "id": "virtual-description",
   "metadata": {},
   "source": [
    "## mod_2 => f(nota) = genero + cor + renda + estado_civil + horas_estudo + ensino_medio + moradia + biblioteca"
   ]
  },
  {
   "cell_type": "code",
   "execution_count": 89,
   "id": "boring-structure",
   "metadata": {},
   "outputs": [
    {
     "data": {
      "text/plain": [
       "               Df  Sum Sq Mean Sq F value   Pr(>F)    \n",
       "genero          1   62333   62333 428.363  < 2e-16 ***\n",
       "cor             5   13061    2612  17.951  < 2e-16 ***\n",
       "renda           6   72230   12038  82.730  < 2e-16 ***\n",
       "estado_civil    4   19688    4922  33.825  < 2e-16 ***\n",
       "horas_estudo    4   25605    6401  43.990  < 2e-16 ***\n",
       "ensino_medio    5    7982    1596  10.970 1.53e-10 ***\n",
       "moradia         5    1683     337   2.314   0.0413 *  \n",
       "biblioteca      1       0       0   0.002   0.9633    \n",
       "Residuals    7769 1130504     146                     \n",
       "---\n",
       "Signif. codes:  0 '***' 0.001 '**' 0.01 '*' 0.05 '.' 0.1 ' ' 1"
      ]
     },
     "metadata": {},
     "output_type": "display_data"
    }
   ],
   "source": [
    "mod_2_anova_1 = aov(nota~genero + cor + renda + estado_civil + horas_estudo + ensino_medio + moradia +\n",
    "                    biblioteca, data=df_1)\n",
    "summary(mod_2_anova_1)"
   ]
  },
  {
   "cell_type": "code",
   "execution_count": 97,
   "id": "duplicate-parish",
   "metadata": {},
   "outputs": [
    {
     "data": {
      "text/plain": [
       "               Df  Sum Sq Mean Sq F value   Pr(>F)    \n",
       "genero          1   62333   62333  428.06  < 2e-16 ***\n",
       "cor             5   13061    2612   17.94  < 2e-16 ***\n",
       "renda           6   72230   12038   82.67  < 2e-16 ***\n",
       "estado_civil    4   19688    4922   33.80  < 2e-16 ***\n",
       "horas_estudo    4   25605    6401   43.96  < 2e-16 ***\n",
       "ensino_medio    5    7982    1596   10.96 1.56e-10 ***\n",
       "Residuals    7775 1132188     146                     \n",
       "---\n",
       "Signif. codes:  0 '***' 0.001 '**' 0.01 '*' 0.05 '.' 0.1 ' ' 1"
      ]
     },
     "metadata": {},
     "output_type": "display_data"
    }
   ],
   "source": [
    "mod_2_anova_2 = aov(nota~genero + cor + renda + estado_civil + horas_estudo + ensino_medio, data=df_1)\n",
    "summary(mod_2_anova_2)"
   ]
  },
  {
   "cell_type": "code",
   "execution_count": 73,
   "id": "chief-storm",
   "metadata": {},
   "outputs": [
    {
     "data": {
      "text/plain": [
       "               Df  Sum Sq Mean Sq F value   Pr(>F)    \n",
       "genero          1   62333   62333 428.010  < 2e-16 ***\n",
       "cor             5   13061    2612  17.937  < 2e-16 ***\n",
       "renda           6   72230   12038  82.661  < 2e-16 ***\n",
       "estado_civil    4   19688    4922  33.797  < 2e-16 ***\n",
       "horas_estudo    4   25605    6401  43.954  < 2e-16 ***\n",
       "ensino_medio    5    7982    1596  10.961 1.56e-10 ***\n",
       "metodologia     5     606     121   0.832    0.527    \n",
       "Residuals    7770 1131582     146                     \n",
       "---\n",
       "Signif. codes:  0 '***' 0.001 '**' 0.01 '*' 0.05 '.' 0.1 ' ' 1"
      ]
     },
     "metadata": {},
     "output_type": "display_data"
    }
   ],
   "source": [
    "mod_3_anova_2 = aov(nota~genero + cor + renda + estado_civil + horas_estudo + ensino_medio + biblioteca, data=df_1)\n",
    "summary(mod_2_anova_2)"
   ]
  },
  {
   "cell_type": "markdown",
   "id": "grand-ethics",
   "metadata": {},
   "source": [
    "## mod_3 => f(nota) = genero + cor + renda + estado_civil + horas_estudo + infra_salas\n",
    "* Inclusão do trabalho no lugar do ensino médio e situação financeira"
   ]
  },
  {
   "cell_type": "code",
   "execution_count": 98,
   "id": "persistent-portsmouth",
   "metadata": {},
   "outputs": [
    {
     "data": {
      "text/plain": [
       "                      Df  Sum Sq Mean Sq F value   Pr(>F)    \n",
       "genero                 1   62333   62333 436.556  < 2e-16 ***\n",
       "cor                    5   13061    2612  18.295  < 2e-16 ***\n",
       "renda                  6   72230   12038  84.312  < 2e-16 ***\n",
       "estado_civil           4   19688    4922  34.472  < 2e-16 ***\n",
       "horas_estudo           4   25605    6401  44.832  < 2e-16 ***\n",
       "trabalho               4   25809    6452  45.189  < 2e-16 ***\n",
       "situacao_financeira    5    4085     817   5.721 2.83e-05 ***\n",
       "infra_salas            1     846     846   5.927   0.0149 *  \n",
       "Residuals           7770 1109430     143                     \n",
       "---\n",
       "Signif. codes:  0 '***' 0.001 '**' 0.01 '*' 0.05 '.' 0.1 ' ' 1"
      ]
     },
     "metadata": {},
     "output_type": "display_data"
    }
   ],
   "source": [
    "mod_1_anova_3 = aov(nota~genero + cor + renda + estado_civil + horas_estudo + trabalho + situacao_financeira + infra_salas, data=df_1)\n",
    "summary(mod_1_anova_3)"
   ]
  },
  {
   "cell_type": "code",
   "execution_count": 79,
   "id": "photographic-finland",
   "metadata": {},
   "outputs": [
    {
     "data": {
      "text/plain": [
       "                      Df  Sum Sq Mean Sq F value   Pr(>F)    \n",
       "genero                 1   62333   62333 436.056  < 2e-16 ***\n",
       "cor                    5   13061    2612  18.274  < 2e-16 ***\n",
       "renda                  6   72230   12038  84.216  < 2e-16 ***\n",
       "estado_civil           4   19688    4922  34.433  < 2e-16 ***\n",
       "horas_estudo           4   25605    6401  44.780  < 2e-16 ***\n",
       "trabalho               4   25809    6452  45.137  < 2e-16 ***\n",
       "situacao_financeira    5    4085     817   5.715 2.87e-05 ***\n",
       "metodologia            5     148      30   0.206     0.96    \n",
       "Residuals           7766 1110128     143                     \n",
       "---\n",
       "Signif. codes:  0 '***' 0.001 '**' 0.01 '*' 0.05 '.' 0.1 ' ' 1"
      ]
     },
     "metadata": {},
     "output_type": "display_data"
    }
   ],
   "source": [
    "mod_2_anova_3 = aov(nota~genero + cor + renda + estado_civil + horas_estudo + trabalho + situacao_financeira + metodologia, data=df_1)\n",
    "summary(mod_2_anova_3)"
   ]
  },
  {
   "cell_type": "code",
   "execution_count": 78,
   "id": "frozen-lounge",
   "metadata": {},
   "outputs": [
    {
     "data": {
      "text/plain": [
       "                      Df  Sum Sq Mean Sq F value   Pr(>F)    \n",
       "genero                 1   62333   62333 436.687  < 2e-16 ***\n",
       "cor                    5   13061    2612  18.300  < 2e-16 ***\n",
       "renda                  6   72230   12038  84.337  < 2e-16 ***\n",
       "estado_civil           4   19688    4922  34.483  < 2e-16 ***\n",
       "horas_estudo           4   25605    6401  44.845  < 2e-16 ***\n",
       "trabalho               4   25809    6452  45.203  < 2e-16 ***\n",
       "situacao_financeira    5    4085     817   5.723 2.82e-05 ***\n",
       "biblioteca             5    1751     350   2.454   0.0314 *  \n",
       "Residuals           7766 1108525     143                     \n",
       "---\n",
       "Signif. codes:  0 '***' 0.001 '**' 0.01 '*' 0.05 '.' 0.1 ' ' 1"
      ]
     },
     "metadata": {},
     "output_type": "display_data"
    }
   ],
   "source": [
    "mod_3_anova_3 = aov(nota~genero + cor + renda + estado_civil + horas_estudo + trabalho + situacao_financeira + biblioteca, data=df_1)\n",
    "summary(mod_3_anova_3)"
   ]
  },
  {
   "cell_type": "markdown",
   "id": "greater-winning",
   "metadata": {},
   "source": [
    "# Construção dos modelos"
   ]
  },
  {
   "cell_type": "code",
   "execution_count": 103,
   "id": "alike-short",
   "metadata": {},
   "outputs": [
    {
     "data": {
      "text/plain": [
       "\n",
       "Call:\n",
       "lm(formula = nota ~ genero + cor + renda + estado_civil + horas_estudo + \n",
       "    biblioteca, data = df_1)\n",
       "\n",
       "Residuals:\n",
       "    Min      1Q  Median      3Q     Max \n",
       "-41.670  -8.397  -0.625   7.975  44.104 \n",
       "\n",
       "Coefficients:\n",
       "                 Estimate Std. Error t value Pr(>|t|)    \n",
       "(Intercept)      32.01257    0.60937  52.534  < 2e-16 ***\n",
       "generoM           4.67837    0.28428  16.457  < 2e-16 ***\n",
       "corpreta         -1.55882    0.53570  -2.910 0.003626 ** \n",
       "coramarela        0.33629    0.91656   0.367 0.713700    \n",
       "corparda         -0.57063    0.33096  -1.724 0.084719 .  \n",
       "corindigina      -6.52805    2.94689  -2.215 0.026773 *  \n",
       "cornão declarado  0.52173    0.96600   0.540 0.589151    \n",
       "rendaB            0.97136    0.50008   1.942 0.052123 .  \n",
       "rendaC            1.90415    0.50600   3.763 0.000169 ***\n",
       "rendaD            3.16000    0.56002   5.643 1.73e-08 ***\n",
       "rendaE            4.91219    0.52454   9.365  < 2e-16 ***\n",
       "rendaF            8.06319    0.53746  15.002  < 2e-16 ***\n",
       "rendaG            9.07055    0.71252  12.730  < 2e-16 ***\n",
       "estado_civilB    -4.64526    0.46647  -9.958  < 2e-16 ***\n",
       "estado_civilC    -6.06812    1.30880  -4.636 3.60e-06 ***\n",
       "estado_civilD    -3.93800    4.58339  -0.859 0.390262    \n",
       "estado_civilE    -1.56993    1.09060  -1.440 0.150045    \n",
       "horas_estudoB    -0.87888    0.57251  -1.535 0.124792    \n",
       "horas_estudoC     1.34543    0.58479   2.301 0.021434 *  \n",
       "horas_estudoD     3.46967    0.66181   5.243 1.62e-07 ***\n",
       "horas_estudoE     4.38214    0.68813   6.368 2.02e-10 ***\n",
       "biblioteca        0.02224    0.10827   0.205 0.837257    \n",
       "---\n",
       "Signif. codes:  0 '***' 0.001 '**' 0.01 '*' 0.05 '.' 0.1 ' ' 1\n",
       "\n",
       "Residual standard error: 12.11 on 7779 degrees of freedom\n",
       "Multiple R-squared:  0.1447,\tAdjusted R-squared:  0.1424 \n",
       "F-statistic: 62.68 on 21 and 7779 DF,  p-value: < 2.2e-16\n"
      ]
     },
     "metadata": {},
     "output_type": "display_data"
    }
   ],
   "source": [
    "mod_1 = lm(nota~genero + cor + renda + estado_civil + horas_estudo + biblioteca, data=df_1)\n",
    "summary(mod_1)"
   ]
  },
  {
   "cell_type": "code",
   "execution_count": 105,
   "id": "armed-enlargement",
   "metadata": {},
   "outputs": [
    {
     "data": {
      "text/plain": [
       "\n",
       "Call:\n",
       "lm(formula = nota ~ genero + cor + renda + estado_civil + horas_estudo + \n",
       "    ensino_medio, data = df_1)\n",
       "\n",
       "Residuals:\n",
       "    Min      1Q  Median      3Q     Max \n",
       "-42.660  -8.331  -0.633   7.843  43.270 \n",
       "\n",
       "Coefficients:\n",
       "                 Estimate Std. Error t value Pr(>|t|)    \n",
       "(Intercept)      31.87178    0.54288  58.709  < 2e-16 ***\n",
       "generoM           4.72180    0.28387  16.634  < 2e-16 ***\n",
       "corpreta         -1.36802    0.53497  -2.557 0.010571 *  \n",
       "coramarela        0.28328    0.91456   0.310 0.756768    \n",
       "corparda         -0.41726    0.33082  -1.261 0.207244    \n",
       "corindigina      -6.62045    2.94320  -2.249 0.024515 *  \n",
       "cornão declarado  0.54883    0.96355   0.570 0.568969    \n",
       "rendaB            0.86949    0.49348   1.762 0.078115 .  \n",
       "rendaC            1.60204    0.49989   3.205 0.001357 ** \n",
       "rendaD            2.70885    0.55843   4.851 1.25e-06 ***\n",
       "rendaE            4.21829    0.52984   7.961 1.94e-15 ***\n",
       "rendaF            6.88464    0.56496  12.186  < 2e-16 ***\n",
       "rendaG            7.48071    0.74283  10.071  < 2e-16 ***\n",
       "estado_civilB    -4.28590    0.46797  -9.158  < 2e-16 ***\n",
       "estado_civilC    -5.91557    1.30499  -4.533 5.90e-06 ***\n",
       "estado_civilD    -3.52169    4.56943  -0.771 0.440903    \n",
       "estado_civilE    -1.13529    1.08904  -1.042 0.297227    \n",
       "horas_estudoB    -0.94535    0.54625  -1.731 0.083561 .  \n",
       "horas_estudoC     1.27126    0.55671   2.284 0.022426 *  \n",
       "horas_estudoD     3.32915    0.63923   5.208 1.96e-07 ***\n",
       "horas_estudoE     4.27007    0.66449   6.426 1.39e-10 ***\n",
       "ensino_medioB     1.84844    0.33881   5.456 5.03e-08 ***\n",
       "ensino_medioC    -4.69610    3.03458  -1.548 0.121777    \n",
       "ensino_medioD    -2.57727    0.92498  -2.786 0.005344 ** \n",
       "ensino_medioE    -0.01693    0.74999  -0.023 0.981994    \n",
       "ensino_medioF     5.64231    1.59921   3.528 0.000421 ***\n",
       "---\n",
       "Signif. codes:  0 '***' 0.001 '**' 0.01 '*' 0.05 '.' 0.1 ' ' 1\n",
       "\n",
       "Residual standard error: 12.07 on 7775 degrees of freedom\n",
       "Multiple R-squared:  0.1507,\tAdjusted R-squared:  0.148 \n",
       "F-statistic: 55.18 on 25 and 7775 DF,  p-value: < 2.2e-16\n"
      ]
     },
     "metadata": {},
     "output_type": "display_data"
    }
   ],
   "source": [
    "mod_2 = lm(nota~genero + cor + renda + estado_civil + horas_estudo + ensino_medio, data=df_1)\n",
    "summary(mod_2)"
   ]
  },
  {
   "cell_type": "code",
   "execution_count": 190,
   "id": "knowing-filename",
   "metadata": {},
   "outputs": [
    {
     "data": {
      "text/plain": [
       "\n",
       "Call:\n",
       "lm(formula = nota ~ genero + cor + renda + estado_civil + horas_estudo + \n",
       "    trabalho + situacao_financeira + infra_salas, data = df_1)\n",
       "\n",
       "Residuals:\n",
       "    Min      1Q  Median      3Q     Max \n",
       "-44.539  -8.215  -0.545   7.734  40.868 \n",
       "\n",
       "Coefficients:\n",
       "                     Estimate Std. Error t value Pr(>|t|)    \n",
       "(Intercept)           32.9115     0.6141  53.591  < 2e-16 ***\n",
       "generoM                4.7933     0.2826  16.960  < 2e-16 ***\n",
       "corB                  -1.4987     0.5304  -2.825 0.004733 ** \n",
       "corC                   0.2448     0.9063   0.270 0.787106    \n",
       "corD                  -0.5825     0.3287  -1.772 0.076414 .  \n",
       "corE                  -7.0437     2.9094  -2.421 0.015499 *  \n",
       "corF                   0.3336     0.9547   0.349 0.726756    \n",
       "rendaB                 2.2613     0.5197   4.351 1.37e-05 ***\n",
       "rendaC                 3.5382     0.5331   6.636 3.43e-11 ***\n",
       "rendaD                 4.8118     0.5842   8.237  < 2e-16 ***\n",
       "rendaE                 6.7404     0.5578  12.083  < 2e-16 ***\n",
       "rendaF                 9.5793     0.5694  16.823  < 2e-16 ***\n",
       "rendaG                10.3455     0.7316  14.140  < 2e-16 ***\n",
       "estado_civilB         -3.7780     0.4929  -7.665 2.01e-14 ***\n",
       "estado_civilC         -4.8993     1.2996  -3.770 0.000165 ***\n",
       "estado_civilD         -3.2882     4.5280  -0.726 0.467738    \n",
       "estado_civilE         -0.5935     1.0845  -0.547 0.584240    \n",
       "horas_estudoB         -0.5215     0.6059  -0.861 0.389367    \n",
       "horas_estudoC          1.2264     0.6167   1.989 0.046791 *  \n",
       "horas_estudoD          3.0049     0.6879   4.368 1.27e-05 ***\n",
       "horas_estudoE          3.7424     0.7121   5.256 1.51e-07 ***\n",
       "trabalhoB             -2.1838     0.7092  -3.079 0.002081 ** \n",
       "trabalhoC             -2.9262     0.7398  -3.955 7.71e-05 ***\n",
       "trabalhoD             -3.7177     0.5241  -7.094 1.42e-12 ***\n",
       "trabalhoE             -4.9748     0.4737 -10.502  < 2e-16 ***\n",
       "situacao_financeiraB  -2.2987     0.6846  -3.358 0.000790 ***\n",
       "situacao_financeiraC  -0.5184     0.7355  -0.705 0.480943    \n",
       "situacao_financeiraD  -1.5104     0.8160  -1.851 0.064232 .  \n",
       "situacao_financeiraE  -1.5735     0.8172  -1.925 0.054214 .  \n",
       "situacao_financeiraF   0.2269     0.9654   0.235 0.814218    \n",
       "infra_salas2           0.9374     0.8508   1.102 0.270586    \n",
       "infra_salas3           1.7427     0.7616   2.288 0.022163 *  \n",
       "infra_salas4           1.0987     0.7043   1.560 0.118831    \n",
       "infra_salas5           2.1183     0.6829   3.102 0.001929 ** \n",
       "infra_salas6           1.6631     0.6614   2.514 0.011947 *  \n",
       "---\n",
       "Signif. codes:  0 '***' 0.001 '**' 0.01 '*' 0.05 '.' 0.1 ' ' 1\n",
       "\n",
       "Residual standard error: 11.95 on 7766 degrees of freedom\n",
       "Multiple R-squared:  0.1686,\tAdjusted R-squared:  0.1649 \n",
       "F-statistic: 46.31 on 34 and 7766 DF,  p-value: < 2.2e-16\n"
      ]
     },
     "metadata": {},
     "output_type": "display_data"
    }
   ],
   "source": [
    "mod_3 = lm(nota~genero + cor + renda + estado_civil + horas_estudo + trabalho + situacao_financeira + infra_salas, data=df_1)\n",
    "summary(mod_3)"
   ]
  },
  {
   "cell_type": "code",
   "execution_count": 204,
   "id": "published-trauma",
   "metadata": {},
   "outputs": [
    {
     "data": {
      "text/plain": [
       "\n",
       "Call:\n",
       "lm(formula = nota ~ genero + estado_civil + renda + trabalho + \n",
       "    ensino_medio + ensino_superior + horas_estudo, data = df_1)\n",
       "\n",
       "Residuals:\n",
       "    Min      1Q  Median      3Q     Max \n",
       "-43.853  -8.230  -0.567   7.767  41.519 \n",
       "\n",
       "Coefficients:\n",
       "                 Estimate Std. Error t value Pr(>|t|)    \n",
       "(Intercept)       32.7836     0.5404  60.662  < 2e-16 ***\n",
       "generoM            4.8281     0.2814  17.159  < 2e-16 ***\n",
       "estado_civilB     -3.4839     0.4681  -7.442 1.10e-13 ***\n",
       "estado_civilC     -4.9160     1.2937  -3.800 0.000146 ***\n",
       "estado_civilD     -2.5411     4.5223  -0.562 0.574194    \n",
       "estado_civilE     -0.3987     1.0794  -0.369 0.711821    \n",
       "rendaB             2.0014     0.4968   4.029 5.67e-05 ***\n",
       "rendaC             3.0619     0.5096   6.009 1.95e-09 ***\n",
       "rendaD             4.1526     0.5663   7.333 2.47e-13 ***\n",
       "rendaE             5.8938     0.5430  10.855  < 2e-16 ***\n",
       "rendaF             8.3746     0.5747  14.572  < 2e-16 ***\n",
       "rendaG             9.0069     0.7449  12.091  < 2e-16 ***\n",
       "trabalhoB         -1.7800     0.6991  -2.546 0.010909 *  \n",
       "trabalhoC         -2.0940     0.6891  -3.039 0.002385 ** \n",
       "trabalhoD         -2.8958     0.4260  -6.797 1.14e-11 ***\n",
       "trabalhoE         -4.1525     0.3334 -12.454  < 2e-16 ***\n",
       "ensino_medioB      1.2497     0.3408   3.667 0.000247 ***\n",
       "ensino_medioC     -6.0245     2.9953  -2.011 0.044328 *  \n",
       "ensino_medioD     -2.6457     0.9163  -2.888 0.003894 ** \n",
       "ensino_medioE     -0.3756     0.7441  -0.505 0.613760    \n",
       "ensino_medioF      4.8848     1.5832   3.085 0.002039 ** \n",
       "ensino_superiorB  -1.1710     0.3400  -3.444 0.000577 ***\n",
       "horas_estudoB     -0.4550     0.5405  -0.842 0.399906    \n",
       "horas_estudoC      1.3224     0.5500   2.404 0.016225 *  \n",
       "horas_estudoD      3.1203     0.6326   4.932 8.29e-07 ***\n",
       "horas_estudoE      3.9259     0.6585   5.961 2.61e-09 ***\n",
       "---\n",
       "Signif. codes:  0 '***' 0.001 '**' 0.01 '*' 0.05 '.' 0.1 ' ' 1\n",
       "\n",
       "Residual standard error: 11.94 on 7775 degrees of freedom\n",
       "Multiple R-squared:  0.1683,\tAdjusted R-squared:  0.1656 \n",
       "F-statistic: 62.93 on 25 and 7775 DF,  p-value: < 2.2e-16\n"
      ]
     },
     "metadata": {},
     "output_type": "display_data"
    }
   ],
   "source": [
    "mod_4 = lm(nota~genero +estado_civil+ renda + trabalho + ensino_medio + ensino_superior + horas_estudo, data=df_1)\n",
    "summary(mod_4)"
   ]
  },
  {
   "cell_type": "code",
   "execution_count": null,
   "id": "passing-venture",
   "metadata": {},
   "outputs": [],
   "source": [
    "# Saber porque as variáveis de estrutura não colaboram para melhoria do modelo"
   ]
  }
 ],
 "metadata": {
  "kernelspec": {
   "display_name": "R",
   "language": "R",
   "name": "ir"
  },
  "language_info": {
   "codemirror_mode": "r",
   "file_extension": ".r",
   "mimetype": "text/x-r-source",
   "name": "R",
   "pygments_lexer": "r",
   "version": "3.6.1"
  }
 },
 "nbformat": 4,
 "nbformat_minor": 5
}
