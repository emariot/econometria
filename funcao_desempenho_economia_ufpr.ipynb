{
 "cells": [
  {
   "cell_type": "markdown",
   "id": "attempted-protection",
   "metadata": {},
   "source": [
    "# Pacotes\n",
    "---"
   ]
  },
  {
   "cell_type": "code",
   "execution_count": 2,
   "id": "arranged-frederick",
   "metadata": {},
   "outputs": [],
   "source": [
    "library(dplyr)\n",
    "library(ggplot2)\n",
    "library(AER)\n",
    "library(gvlma)\n",
    "library(lmtest)\n",
    "library(nortest)\n",
    "library(ggpubr)\n",
    "library(plyr)"
   ]
  },
  {
   "cell_type": "code",
   "execution_count": 3,
   "id": "noble-commons",
   "metadata": {},
   "outputs": [
    {
     "data": {
      "text/html": [
       "<table>\n",
       "<thead><tr><th scope=col>NU_ANO</th><th scope=col>CO_IES</th><th scope=col>CO_CATEGAD</th><th scope=col>CO_ORGACAD</th><th scope=col>CO_GRUPO</th><th scope=col>CO_CURSO</th><th scope=col>CO_MODALIDADE</th><th scope=col>CO_MUNIC_CURSO</th><th scope=col>CO_UF_CURSO</th><th scope=col>CO_REGIAO_CURSO</th><th scope=col>...</th><th scope=col>QE_I59</th><th scope=col>QE_I60</th><th scope=col>QE_I61</th><th scope=col>QE_I62</th><th scope=col>QE_I63</th><th scope=col>QE_I64</th><th scope=col>QE_I65</th><th scope=col>QE_I66</th><th scope=col>QE_I67</th><th scope=col>QE_I68</th></tr></thead>\n",
       "<tbody>\n",
       "\t<tr><td>2018   </td><td>1356   </td><td>10003  </td><td>10020  </td><td>1      </td><td>47116  </td><td>1      </td><td>3546603</td><td>35     </td><td>3      </td><td>...    </td><td>6      </td><td>6      </td><td>6      </td><td>6      </td><td>6      </td><td>6      </td><td>6      </td><td>6      </td><td>6      </td><td>5      </td></tr>\n",
       "\t<tr><td>2018   </td><td>1356   </td><td>10003  </td><td>10020  </td><td>1      </td><td>47116  </td><td>1      </td><td>3546603</td><td>35     </td><td>3      </td><td>...    </td><td>6      </td><td>6      </td><td>6      </td><td>6      </td><td>6      </td><td>6      </td><td>6      </td><td>6      </td><td>6      </td><td>6      </td></tr>\n",
       "\t<tr><td>2018   </td><td>1356   </td><td>10003  </td><td>10020  </td><td>1      </td><td>47116  </td><td>1      </td><td>3546603</td><td>35     </td><td>3      </td><td>...    </td><td>6      </td><td>6      </td><td>6      </td><td>6      </td><td>6      </td><td>6      </td><td>6      </td><td>6      </td><td>6      </td><td>5      </td></tr>\n",
       "\t<tr><td>2018   </td><td>1356   </td><td>10003  </td><td>10020  </td><td>1      </td><td>47116  </td><td>1      </td><td>3546603</td><td>35     </td><td>3      </td><td>...    </td><td>6      </td><td>6      </td><td>6      </td><td>6      </td><td>5      </td><td>6      </td><td>6      </td><td>6      </td><td>6      </td><td>4      </td></tr>\n",
       "\t<tr><td>2018   </td><td>1356   </td><td>10003  </td><td>10020  </td><td>1      </td><td>47116  </td><td>1      </td><td>3546603</td><td>35     </td><td>3      </td><td>...    </td><td>6      </td><td>6      </td><td>6      </td><td>6      </td><td>6      </td><td>6      </td><td>6      </td><td>6      </td><td>6      </td><td>6      </td></tr>\n",
       "\t<tr><td>2018   </td><td>1356   </td><td>10003  </td><td>10020  </td><td>1      </td><td>47116  </td><td>1      </td><td>3546603</td><td>35     </td><td>3      </td><td>...    </td><td>6      </td><td>5      </td><td>6      </td><td>6      </td><td>6      </td><td>6      </td><td>6      </td><td>6      </td><td>6      </td><td>5      </td></tr>\n",
       "</tbody>\n",
       "</table>\n"
      ],
      "text/latex": [
       "\\begin{tabular}{r|lllllllllllllllllllllllllllllllllllllllllllllllllllllllllllllllllllllllllllllllllllllllllllllllllllllllllllllllllllllllllllllllllllllllll}\n",
       " NU\\_ANO & CO\\_IES & CO\\_CATEGAD & CO\\_ORGACAD & CO\\_GRUPO & CO\\_CURSO & CO\\_MODALIDADE & CO\\_MUNIC\\_CURSO & CO\\_UF\\_CURSO & CO\\_REGIAO\\_CURSO & ... & QE\\_I59 & QE\\_I60 & QE\\_I61 & QE\\_I62 & QE\\_I63 & QE\\_I64 & QE\\_I65 & QE\\_I66 & QE\\_I67 & QE\\_I68\\\\\n",
       "\\hline\n",
       "\t 2018    & 1356    & 10003   & 10020   & 1       & 47116   & 1       & 3546603 & 35      & 3       & ...     & 6       & 6       & 6       & 6       & 6       & 6       & 6       & 6       & 6       & 5      \\\\\n",
       "\t 2018    & 1356    & 10003   & 10020   & 1       & 47116   & 1       & 3546603 & 35      & 3       & ...     & 6       & 6       & 6       & 6       & 6       & 6       & 6       & 6       & 6       & 6      \\\\\n",
       "\t 2018    & 1356    & 10003   & 10020   & 1       & 47116   & 1       & 3546603 & 35      & 3       & ...     & 6       & 6       & 6       & 6       & 6       & 6       & 6       & 6       & 6       & 5      \\\\\n",
       "\t 2018    & 1356    & 10003   & 10020   & 1       & 47116   & 1       & 3546603 & 35      & 3       & ...     & 6       & 6       & 6       & 6       & 5       & 6       & 6       & 6       & 6       & 4      \\\\\n",
       "\t 2018    & 1356    & 10003   & 10020   & 1       & 47116   & 1       & 3546603 & 35      & 3       & ...     & 6       & 6       & 6       & 6       & 6       & 6       & 6       & 6       & 6       & 6      \\\\\n",
       "\t 2018    & 1356    & 10003   & 10020   & 1       & 47116   & 1       & 3546603 & 35      & 3       & ...     & 6       & 5       & 6       & 6       & 6       & 6       & 6       & 6       & 6       & 5      \\\\\n",
       "\\end{tabular}\n"
      ],
      "text/markdown": [
       "\n",
       "| NU_ANO | CO_IES | CO_CATEGAD | CO_ORGACAD | CO_GRUPO | CO_CURSO | CO_MODALIDADE | CO_MUNIC_CURSO | CO_UF_CURSO | CO_REGIAO_CURSO | ... | QE_I59 | QE_I60 | QE_I61 | QE_I62 | QE_I63 | QE_I64 | QE_I65 | QE_I66 | QE_I67 | QE_I68 |\n",
       "|---|---|---|---|---|---|---|---|---|---|---|---|---|---|---|---|---|---|---|---|---|\n",
       "| 2018    | 1356    | 10003   | 10020   | 1       | 47116   | 1       | 3546603 | 35      | 3       | ...     | 6       | 6       | 6       | 6       | 6       | 6       | 6       | 6       | 6       | 5       |\n",
       "| 2018    | 1356    | 10003   | 10020   | 1       | 47116   | 1       | 3546603 | 35      | 3       | ...     | 6       | 6       | 6       | 6       | 6       | 6       | 6       | 6       | 6       | 6       |\n",
       "| 2018    | 1356    | 10003   | 10020   | 1       | 47116   | 1       | 3546603 | 35      | 3       | ...     | 6       | 6       | 6       | 6       | 6       | 6       | 6       | 6       | 6       | 5       |\n",
       "| 2018    | 1356    | 10003   | 10020   | 1       | 47116   | 1       | 3546603 | 35      | 3       | ...     | 6       | 6       | 6       | 6       | 5       | 6       | 6       | 6       | 6       | 4       |\n",
       "| 2018    | 1356    | 10003   | 10020   | 1       | 47116   | 1       | 3546603 | 35      | 3       | ...     | 6       | 6       | 6       | 6       | 6       | 6       | 6       | 6       | 6       | 6       |\n",
       "| 2018    | 1356    | 10003   | 10020   | 1       | 47116   | 1       | 3546603 | 35      | 3       | ...     | 6       | 5       | 6       | 6       | 6       | 6       | 6       | 6       | 6       | 5       |\n",
       "\n"
      ],
      "text/plain": [
       "  NU_ANO CO_IES CO_CATEGAD CO_ORGACAD CO_GRUPO CO_CURSO CO_MODALIDADE\n",
       "1 2018   1356   10003      10020      1        47116    1            \n",
       "2 2018   1356   10003      10020      1        47116    1            \n",
       "3 2018   1356   10003      10020      1        47116    1            \n",
       "4 2018   1356   10003      10020      1        47116    1            \n",
       "5 2018   1356   10003      10020      1        47116    1            \n",
       "6 2018   1356   10003      10020      1        47116    1            \n",
       "  CO_MUNIC_CURSO CO_UF_CURSO CO_REGIAO_CURSO ... QE_I59 QE_I60 QE_I61 QE_I62\n",
       "1 3546603        35          3               ... 6      6      6      6     \n",
       "2 3546603        35          3               ... 6      6      6      6     \n",
       "3 3546603        35          3               ... 6      6      6      6     \n",
       "4 3546603        35          3               ... 6      6      6      6     \n",
       "5 3546603        35          3               ... 6      6      6      6     \n",
       "6 3546603        35          3               ... 6      5      6      6     \n",
       "  QE_I63 QE_I64 QE_I65 QE_I66 QE_I67 QE_I68\n",
       "1 6      6      6      6      6      5     \n",
       "2 6      6      6      6      6      6     \n",
       "3 6      6      6      6      6      5     \n",
       "4 5      6      6      6      6      4     \n",
       "5 6      6      6      6      6      6     \n",
       "6 6      6      6      6      6      5     "
      ]
     },
     "metadata": {},
     "output_type": "display_data"
    }
   ],
   "source": [
    "data = read.table(\"dataset/enade.txt\",sep=\";\", dec = \",\", header = TRUE)\n",
    "head(data)"
   ]
  },
  {
   "cell_type": "code",
   "execution_count": 35,
   "id": "common-poker",
   "metadata": {},
   "outputs": [],
   "source": [
    "df = data[data$CO_GRUPO == 13,]"
   ]
  },
  {
   "cell_type": "code",
   "execution_count": 36,
   "id": "contained-vacation",
   "metadata": {},
   "outputs": [
    {
     "data": {
      "text/html": [
       "<ol class=list-inline>\n",
       "\t<li>9582</li>\n",
       "\t<li>137</li>\n",
       "</ol>\n"
      ],
      "text/latex": [
       "\\begin{enumerate*}\n",
       "\\item 9582\n",
       "\\item 137\n",
       "\\end{enumerate*}\n"
      ],
      "text/markdown": [
       "1. 9582\n",
       "2. 137\n",
       "\n",
       "\n"
      ],
      "text/plain": [
       "[1] 9582  137"
      ]
     },
     "metadata": {},
     "output_type": "display_data"
    }
   ],
   "source": [
    "dim(df)"
   ]
  },
  {
   "cell_type": "markdown",
   "id": "valid-grain",
   "metadata": {},
   "source": [
    "## Criando uma variável Dummy para UFPR IES 571\n",
    "* Número de verificações = 114"
   ]
  },
  {
   "cell_type": "code",
   "execution_count": 37,
   "id": "compound-remainder",
   "metadata": {},
   "outputs": [],
   "source": [
    "df$ufpr = as.factor(ifelse(df$CO_IES == 571,1,0))"
   ]
  },
  {
   "cell_type": "code",
   "execution_count": 38,
   "id": "hundred-blast",
   "metadata": {},
   "outputs": [
    {
     "data": {
      "text/plain": [
       "\n",
       "   0    1 \n",
       "9468  114 "
      ]
     },
     "metadata": {},
     "output_type": "display_data"
    }
   ],
   "source": [
    "table(df$ufpr)"
   ]
  },
  {
   "cell_type": "code",
   "execution_count": 39,
   "id": "brutal-director",
   "metadata": {},
   "outputs": [],
   "source": [
    "df_1 = df %>% \n",
    "        select(NT_GER, ufpr, TP_SEXO, NU_IDADE,QE_I02, QE_I08, QE_I21, QE_I10,QE_I23) %>% \n",
    "        setNames(c(\"nota\", \"ufpr\", \"genero\", \"idade\",\"cor\", \"renda\", \"escolaridade_pais\",\"trabalho\", \"esforco\"))"
   ]
  },
  {
   "cell_type": "code",
   "execution_count": 40,
   "id": "interracial-davis",
   "metadata": {},
   "outputs": [
    {
     "data": {
      "text/html": [
       "<table>\n",
       "<thead><tr><th></th><th scope=col>nota</th><th scope=col>ufpr</th><th scope=col>genero</th><th scope=col>idade</th><th scope=col>cor</th><th scope=col>renda</th><th scope=col>escolaridade_pais</th><th scope=col>trabalho</th><th scope=col>esforco</th></tr></thead>\n",
       "<tbody>\n",
       "\t<tr><th scope=row>161</th><td>24.9</td><td>0   </td><td>F   </td><td>28  </td><td>A   </td><td>C   </td><td>B   </td><td>E   </td><td>C   </td></tr>\n",
       "\t<tr><th scope=row>162</th><td>25.6</td><td>0   </td><td>M   </td><td>30  </td><td>A   </td><td>D   </td><td>A   </td><td>E   </td><td>B   </td></tr>\n",
       "\t<tr><th scope=row>163</th><td>48.7</td><td>0   </td><td>M   </td><td>29  </td><td>A   </td><td>C   </td><td>B   </td><td>E   </td><td>C   </td></tr>\n",
       "\t<tr><th scope=row>164</th><td>35.7</td><td>0   </td><td>F   </td><td>22  </td><td>A   </td><td>B   </td><td>A   </td><td>E   </td><td>B   </td></tr>\n",
       "\t<tr><th scope=row>165</th><td>33.9</td><td>0   </td><td>M   </td><td>47  </td><td>A   </td><td>B   </td><td>A   </td><td>E   </td><td>C   </td></tr>\n",
       "\t<tr><th scope=row>166</th><td>23.5</td><td>0   </td><td>M   </td><td>27  </td><td>A   </td><td>C   </td><td>B   </td><td>E   </td><td>C   </td></tr>\n",
       "</tbody>\n",
       "</table>\n"
      ],
      "text/latex": [
       "\\begin{tabular}{r|lllllllll}\n",
       "  & nota & ufpr & genero & idade & cor & renda & escolaridade\\_pais & trabalho & esforco\\\\\n",
       "\\hline\n",
       "\t161 & 24.9 & 0    & F    & 28   & A    & C    & B    & E    & C   \\\\\n",
       "\t162 & 25.6 & 0    & M    & 30   & A    & D    & A    & E    & B   \\\\\n",
       "\t163 & 48.7 & 0    & M    & 29   & A    & C    & B    & E    & C   \\\\\n",
       "\t164 & 35.7 & 0    & F    & 22   & A    & B    & A    & E    & B   \\\\\n",
       "\t165 & 33.9 & 0    & M    & 47   & A    & B    & A    & E    & C   \\\\\n",
       "\t166 & 23.5 & 0    & M    & 27   & A    & C    & B    & E    & C   \\\\\n",
       "\\end{tabular}\n"
      ],
      "text/markdown": [
       "\n",
       "| <!--/--> | nota | ufpr | genero | idade | cor | renda | escolaridade_pais | trabalho | esforco |\n",
       "|---|---|---|---|---|---|---|---|---|---|\n",
       "| 161 | 24.9 | 0    | F    | 28   | A    | C    | B    | E    | C    |\n",
       "| 162 | 25.6 | 0    | M    | 30   | A    | D    | A    | E    | B    |\n",
       "| 163 | 48.7 | 0    | M    | 29   | A    | C    | B    | E    | C    |\n",
       "| 164 | 35.7 | 0    | F    | 22   | A    | B    | A    | E    | B    |\n",
       "| 165 | 33.9 | 0    | M    | 47   | A    | B    | A    | E    | C    |\n",
       "| 166 | 23.5 | 0    | M    | 27   | A    | C    | B    | E    | C    |\n",
       "\n"
      ],
      "text/plain": [
       "    nota ufpr genero idade cor renda escolaridade_pais trabalho esforco\n",
       "161 24.9 0    F      28    A   C     B                 E        C      \n",
       "162 25.6 0    M      30    A   D     A                 E        B      \n",
       "163 48.7 0    M      29    A   C     B                 E        C      \n",
       "164 35.7 0    F      22    A   B     A                 E        B      \n",
       "165 33.9 0    M      47    A   B     A                 E        C      \n",
       "166 23.5 0    M      27    A   C     B                 E        C      "
      ]
     },
     "metadata": {},
     "output_type": "display_data"
    }
   ],
   "source": [
    "head(df_1)"
   ]
  },
  {
   "cell_type": "markdown",
   "id": "graphic-buffer",
   "metadata": {},
   "source": [
    "# Nomeando as categorias\n",
    "---"
   ]
  },
  {
   "cell_type": "code",
   "execution_count": 41,
   "id": "solved-evidence",
   "metadata": {},
   "outputs": [],
   "source": [
    "df_1$cor = mapvalues(df_1$cor, from=c(\"A\",\"B\",\"C\",\"D\",\"E\",\"F\"), to=c(\"branca\",\"preta\",\"amarela\",\"parda\",\"indigina\",\"não declarado\"))\n",
    "df_1$renda = mapvalues(df_1$renda, from=c(\"A\",\"B\",\"C\",\"D\",\"E\",\"F\",\"G\"), to=c(\"Até 1.5 salário mínimo\",\"De 1.5 a 3 salários mínimos\",\n",
    "                                                                \"De 3 a 4.5 salários mínimos\",\"De 4.5 a 6 salários mínimos\",\"De 6 a 10 salários mínimos\",\n",
    "                                                                                \"10 a 30 salários mínimos\", \"Acima de 30 salários mínimos\"))\n",
    "df_1$escolaridade_pais = mapvalues(df_1$escolaridade_pais, from=c(\"A\",\"B\"), to=c(\"sim\",\"não\"))\n",
    "df_1$trabalho = mapvalues(df_1$trabalho, from=c(\"A\",\"B\",\"C\",\"D\",\"E\"), to=c(\"Não trabalha\",\n",
    "                                                                  \"Trabalha eventualmente\",\n",
    "                                                                 \"Trabalha até 20 hrs. semanais\",\n",
    "                                                                 \"Trabalha de 21 a 39 hrs. semanais\",\n",
    "                                                                 \"Trabalha 40 hrs. semanais ou mais\"))\n",
    "df_1$esforco = mapvalues(df_1$esforco, from=c(\"A\",\"B\",\"C\",\"D\",\"E\"), to=c(\"Nenhuma, apenas assistindo as aulas\",\"De uma a três\",\n",
    "                                                                \"De quatro a sete\",\"De oito adoze\",\"Mais de doze\"))"
   ]
  },
  {
   "cell_type": "code",
   "execution_count": 42,
   "id": "alpine-sponsorship",
   "metadata": {},
   "outputs": [
    {
     "data": {
      "text/html": [
       "<table>\n",
       "<thead><tr><th></th><th scope=col>nota</th><th scope=col>ufpr</th><th scope=col>genero</th><th scope=col>idade</th><th scope=col>cor</th><th scope=col>renda</th><th scope=col>escolaridade_pais</th><th scope=col>trabalho</th><th scope=col>esforco</th></tr></thead>\n",
       "<tbody>\n",
       "\t<tr><th scope=row>161</th><td>24.9                             </td><td>0                                </td><td>F                                </td><td>28                               </td><td>branca                           </td><td>De 3 a 4.5 salários mínimos      </td><td>não                              </td><td>Trabalha 40 hrs. semanais ou mais</td><td>De quatro a sete                 </td></tr>\n",
       "\t<tr><th scope=row>162</th><td>25.6                             </td><td>0                                </td><td>M                                </td><td>30                               </td><td>branca                           </td><td>De 4.5 a 6 salários mínimos      </td><td>sim                              </td><td>Trabalha 40 hrs. semanais ou mais</td><td>De uma a três                    </td></tr>\n",
       "\t<tr><th scope=row>163</th><td>48.7                             </td><td>0                                </td><td>M                                </td><td>29                               </td><td>branca                           </td><td>De 3 a 4.5 salários mínimos      </td><td>não                              </td><td>Trabalha 40 hrs. semanais ou mais</td><td>De quatro a sete                 </td></tr>\n",
       "\t<tr><th scope=row>164</th><td>35.7                             </td><td>0                                </td><td>F                                </td><td>22                               </td><td>branca                           </td><td>De 1.5 a 3 salários mínimos      </td><td>sim                              </td><td>Trabalha 40 hrs. semanais ou mais</td><td>De uma a três                    </td></tr>\n",
       "\t<tr><th scope=row>165</th><td>33.9                             </td><td>0                                </td><td>M                                </td><td>47                               </td><td>branca                           </td><td>De 1.5 a 3 salários mínimos      </td><td>sim                              </td><td>Trabalha 40 hrs. semanais ou mais</td><td>De quatro a sete                 </td></tr>\n",
       "\t<tr><th scope=row>166</th><td>23.5                             </td><td>0                                </td><td>M                                </td><td>27                               </td><td>branca                           </td><td>De 3 a 4.5 salários mínimos      </td><td>não                              </td><td>Trabalha 40 hrs. semanais ou mais</td><td>De quatro a sete                 </td></tr>\n",
       "</tbody>\n",
       "</table>\n"
      ],
      "text/latex": [
       "\\begin{tabular}{r|lllllllll}\n",
       "  & nota & ufpr & genero & idade & cor & renda & escolaridade\\_pais & trabalho & esforco\\\\\n",
       "\\hline\n",
       "\t161 & 24.9                              & 0                                 & F                                 & 28                                & branca                            & De 3 a 4.5 salários mínimos       & não                               & Trabalha 40 hrs. semanais ou mais & De quatro a sete                 \\\\\n",
       "\t162 & 25.6                              & 0                                 & M                                 & 30                                & branca                            & De 4.5 a 6 salários mínimos       & sim                               & Trabalha 40 hrs. semanais ou mais & De uma a três                    \\\\\n",
       "\t163 & 48.7                              & 0                                 & M                                 & 29                                & branca                            & De 3 a 4.5 salários mínimos       & não                               & Trabalha 40 hrs. semanais ou mais & De quatro a sete                 \\\\\n",
       "\t164 & 35.7                              & 0                                 & F                                 & 22                                & branca                            & De 1.5 a 3 salários mínimos       & sim                               & Trabalha 40 hrs. semanais ou mais & De uma a três                    \\\\\n",
       "\t165 & 33.9                              & 0                                 & M                                 & 47                                & branca                            & De 1.5 a 3 salários mínimos       & sim                               & Trabalha 40 hrs. semanais ou mais & De quatro a sete                 \\\\\n",
       "\t166 & 23.5                              & 0                                 & M                                 & 27                                & branca                            & De 3 a 4.5 salários mínimos       & não                               & Trabalha 40 hrs. semanais ou mais & De quatro a sete                 \\\\\n",
       "\\end{tabular}\n"
      ],
      "text/markdown": [
       "\n",
       "| <!--/--> | nota | ufpr | genero | idade | cor | renda | escolaridade_pais | trabalho | esforco |\n",
       "|---|---|---|---|---|---|---|---|---|---|\n",
       "| 161 | 24.9                              | 0                                 | F                                 | 28                                | branca                            | De 3 a 4.5 salários mínimos       | não                               | Trabalha 40 hrs. semanais ou mais | De quatro a sete                  |\n",
       "| 162 | 25.6                              | 0                                 | M                                 | 30                                | branca                            | De 4.5 a 6 salários mínimos       | sim                               | Trabalha 40 hrs. semanais ou mais | De uma a três                     |\n",
       "| 163 | 48.7                              | 0                                 | M                                 | 29                                | branca                            | De 3 a 4.5 salários mínimos       | não                               | Trabalha 40 hrs. semanais ou mais | De quatro a sete                  |\n",
       "| 164 | 35.7                              | 0                                 | F                                 | 22                                | branca                            | De 1.5 a 3 salários mínimos       | sim                               | Trabalha 40 hrs. semanais ou mais | De uma a três                     |\n",
       "| 165 | 33.9                              | 0                                 | M                                 | 47                                | branca                            | De 1.5 a 3 salários mínimos       | sim                               | Trabalha 40 hrs. semanais ou mais | De quatro a sete                  |\n",
       "| 166 | 23.5                              | 0                                 | M                                 | 27                                | branca                            | De 3 a 4.5 salários mínimos       | não                               | Trabalha 40 hrs. semanais ou mais | De quatro a sete                  |\n",
       "\n"
      ],
      "text/plain": [
       "    nota ufpr genero idade cor    renda                       escolaridade_pais\n",
       "161 24.9 0    F      28    branca De 3 a 4.5 salários mínimos não              \n",
       "162 25.6 0    M      30    branca De 4.5 a 6 salários mínimos sim              \n",
       "163 48.7 0    M      29    branca De 3 a 4.5 salários mínimos não              \n",
       "164 35.7 0    F      22    branca De 1.5 a 3 salários mínimos sim              \n",
       "165 33.9 0    M      47    branca De 1.5 a 3 salários mínimos sim              \n",
       "166 23.5 0    M      27    branca De 3 a 4.5 salários mínimos não              \n",
       "    trabalho                          esforco         \n",
       "161 Trabalha 40 hrs. semanais ou mais De quatro a sete\n",
       "162 Trabalha 40 hrs. semanais ou mais De uma a três   \n",
       "163 Trabalha 40 hrs. semanais ou mais De quatro a sete\n",
       "164 Trabalha 40 hrs. semanais ou mais De uma a três   \n",
       "165 Trabalha 40 hrs. semanais ou mais De quatro a sete\n",
       "166 Trabalha 40 hrs. semanais ou mais De quatro a sete"
      ]
     },
     "metadata": {},
     "output_type": "display_data"
    }
   ],
   "source": [
    "head(df_1)"
   ]
  },
  {
   "cell_type": "markdown",
   "id": "turned-viking",
   "metadata": {},
   "source": [
    "## A média das notas da Ufpr são levemente maiores"
   ]
  },
  {
   "cell_type": "code",
   "execution_count": 48,
   "id": "pointed-worse",
   "metadata": {},
   "outputs": [
    {
     "data": {
      "image/png": "[encoded data removed]",
      "text/plain": [
       "plot without title"
      ]
     },
     "metadata": {},
     "output_type": "display_data"
    }
   ],
   "source": [
    "options(repr.plot.width = 5, repr.plot.height = 4)\n",
    "ggplot(df_1, aes(x=ufpr, y=nota, fill=ufpr)) +\n",
    "    geom_boxplot(na.rm = TRUE) +\n",
    "    stat_summary(aes(shape = \"média\"),\n",
    "               geom = \"point\",\n",
    "               fun = mean,\n",
    "               size = 1,\n",
    "               na.rm = TRUE)+\n",
    "    xlab(\"Notas Ufpr\")+\n",
    "    ylab(\"Notas\")+\n",
    "    theme(axis.text.x = element_text(angle = 45, vjust = 0.9, hjust=1));"
   ]
  },
  {
   "cell_type": "code",
   "execution_count": 49,
   "id": "impossible-produce",
   "metadata": {},
   "outputs": [
    {
     "data": {
      "image/png": "[encoded data removed]",
      "text/plain": [
       "plot without title"
      ]
     },
     "metadata": {},
     "output_type": "display_data"
    }
   ],
   "source": [
    "options(repr.plot.width = 5, repr.plot.height = 4)\n",
    "ggplot(df_1, aes(x=ufpr, y=idade, fill=ufpr)) +\n",
    "    geom_boxplot(na.rm = TRUE) +\n",
    "    stat_summary(aes(shape = \"média\"),\n",
    "               geom = \"point\",\n",
    "               fun = mean,\n",
    "               size = 1,\n",
    "               na.rm = TRUE)+\n",
    "    xlab(\"Notas Ufpr\")+\n",
    "    ylab(\"Notas\")+\n",
    "    theme(axis.text.x = element_text(angle = 45, vjust = 0.9, hjust=1));"
   ]
  },
  {
   "cell_type": "code",
   "execution_count": null,
   "id": "ambient-representation",
   "metadata": {},
   "outputs": [],
   "source": []
  }
 ],
 "metadata": {
  "kernelspec": {
   "display_name": "R",
   "language": "R",
   "name": "ir"
  },
  "language_info": {
   "codemirror_mode": "r",
   "file_extension": ".r",
   "mimetype": "text/x-r-source",
   "name": "R",
   "pygments_lexer": "r",
   "version": "3.6.1"
  }
 },
 "nbformat": 4,
 "nbformat_minor": 5
}
