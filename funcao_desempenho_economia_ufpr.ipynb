{
 "cells": [
  {
   "cell_type": "markdown",
   "id": "attempted-protection",
   "metadata": {},
   "source": [
    "# Pacotes\n",
    "---"
   ]
  },
  {
   "cell_type": "code",
   "execution_count": 40,
   "id": "checked-precipitation",
   "metadata": {},
   "outputs": [
    {
     "name": "stdout",
     "output_type": "stream",
     "text": [
      "package 'gridExtra' successfully unpacked and MD5 sums checked\n",
      "\n",
      "The downloaded binary packages are in\n",
      "\tC:\\Users\\Eduardo\\AppData\\Local\\Temp\\Rtmp63pDQK\\downloaded_packages\n"
     ]
    }
   ],
   "source": [
    "install.packages(\"gridExtra\")"
   ]
  },
  {
   "cell_type": "code",
   "execution_count": 42,
   "id": "arranged-frederick",
   "metadata": {},
   "outputs": [],
   "source": [
    "library(dplyr)\n",
    "library(ggplot2)\n",
    "library(AER)\n",
    "library(gvlma)\n",
    "library(lmtest)\n",
    "library(nortest)\n",
    "library(ggpubr)\n",
    "library(plyr)\n",
    "library(cowplot)\n",
    "library(gridExtra)"
   ]
  },
  {
   "cell_type": "code",
   "execution_count": 3,
   "id": "noble-commons",
   "metadata": {},
   "outputs": [
    {
     "data": {
      "text/html": [
       "<table>\n",
       "<thead><tr><th scope=col>NU_ANO</th><th scope=col>CO_IES</th><th scope=col>CO_CATEGAD</th><th scope=col>CO_ORGACAD</th><th scope=col>CO_GRUPO</th><th scope=col>CO_CURSO</th><th scope=col>CO_MODALIDADE</th><th scope=col>CO_MUNIC_CURSO</th><th scope=col>CO_UF_CURSO</th><th scope=col>CO_REGIAO_CURSO</th><th scope=col>...</th><th scope=col>QE_I59</th><th scope=col>QE_I60</th><th scope=col>QE_I61</th><th scope=col>QE_I62</th><th scope=col>QE_I63</th><th scope=col>QE_I64</th><th scope=col>QE_I65</th><th scope=col>QE_I66</th><th scope=col>QE_I67</th><th scope=col>QE_I68</th></tr></thead>\n",
       "<tbody>\n",
       "\t<tr><td>2018   </td><td>1356   </td><td>10003  </td><td>10020  </td><td>1      </td><td>47116  </td><td>1      </td><td>3546603</td><td>35     </td><td>3      </td><td>...    </td><td>6      </td><td>6      </td><td>6      </td><td>6      </td><td>6      </td><td>6      </td><td>6      </td><td>6      </td><td>6      </td><td>5      </td></tr>\n",
       "\t<tr><td>2018   </td><td>1356   </td><td>10003  </td><td>10020  </td><td>1      </td><td>47116  </td><td>1      </td><td>3546603</td><td>35     </td><td>3      </td><td>...    </td><td>6      </td><td>6      </td><td>6      </td><td>6      </td><td>6      </td><td>6      </td><td>6      </td><td>6      </td><td>6      </td><td>6      </td></tr>\n",
       "\t<tr><td>2018   </td><td>1356   </td><td>10003  </td><td>10020  </td><td>1      </td><td>47116  </td><td>1      </td><td>3546603</td><td>35     </td><td>3      </td><td>...    </td><td>6      </td><td>6      </td><td>6      </td><td>6      </td><td>6      </td><td>6      </td><td>6      </td><td>6      </td><td>6      </td><td>5      </td></tr>\n",
       "\t<tr><td>2018   </td><td>1356   </td><td>10003  </td><td>10020  </td><td>1      </td><td>47116  </td><td>1      </td><td>3546603</td><td>35     </td><td>3      </td><td>...    </td><td>6      </td><td>6      </td><td>6      </td><td>6      </td><td>5      </td><td>6      </td><td>6      </td><td>6      </td><td>6      </td><td>4      </td></tr>\n",
       "\t<tr><td>2018   </td><td>1356   </td><td>10003  </td><td>10020  </td><td>1      </td><td>47116  </td><td>1      </td><td>3546603</td><td>35     </td><td>3      </td><td>...    </td><td>6      </td><td>6      </td><td>6      </td><td>6      </td><td>6      </td><td>6      </td><td>6      </td><td>6      </td><td>6      </td><td>6      </td></tr>\n",
       "\t<tr><td>2018   </td><td>1356   </td><td>10003  </td><td>10020  </td><td>1      </td><td>47116  </td><td>1      </td><td>3546603</td><td>35     </td><td>3      </td><td>...    </td><td>6      </td><td>5      </td><td>6      </td><td>6      </td><td>6      </td><td>6      </td><td>6      </td><td>6      </td><td>6      </td><td>5      </td></tr>\n",
       "</tbody>\n",
       "</table>\n"
      ],
      "text/latex": [
       "\\begin{tabular}{r|lllllllllllllllllllllllllllllllllllllllllllllllllllllllllllllllllllllllllllllllllllllllllllllllllllllllllllllllllllllllllllllllllllllllll}\n",
       " NU\\_ANO & CO\\_IES & CO\\_CATEGAD & CO\\_ORGACAD & CO\\_GRUPO & CO\\_CURSO & CO\\_MODALIDADE & CO\\_MUNIC\\_CURSO & CO\\_UF\\_CURSO & CO\\_REGIAO\\_CURSO & ... & QE\\_I59 & QE\\_I60 & QE\\_I61 & QE\\_I62 & QE\\_I63 & QE\\_I64 & QE\\_I65 & QE\\_I66 & QE\\_I67 & QE\\_I68\\\\\n",
       "\\hline\n",
       "\t 2018    & 1356    & 10003   & 10020   & 1       & 47116   & 1       & 3546603 & 35      & 3       & ...     & 6       & 6       & 6       & 6       & 6       & 6       & 6       & 6       & 6       & 5      \\\\\n",
       "\t 2018    & 1356    & 10003   & 10020   & 1       & 47116   & 1       & 3546603 & 35      & 3       & ...     & 6       & 6       & 6       & 6       & 6       & 6       & 6       & 6       & 6       & 6      \\\\\n",
       "\t 2018    & 1356    & 10003   & 10020   & 1       & 47116   & 1       & 3546603 & 35      & 3       & ...     & 6       & 6       & 6       & 6       & 6       & 6       & 6       & 6       & 6       & 5      \\\\\n",
       "\t 2018    & 1356    & 10003   & 10020   & 1       & 47116   & 1       & 3546603 & 35      & 3       & ...     & 6       & 6       & 6       & 6       & 5       & 6       & 6       & 6       & 6       & 4      \\\\\n",
       "\t 2018    & 1356    & 10003   & 10020   & 1       & 47116   & 1       & 3546603 & 35      & 3       & ...     & 6       & 6       & 6       & 6       & 6       & 6       & 6       & 6       & 6       & 6      \\\\\n",
       "\t 2018    & 1356    & 10003   & 10020   & 1       & 47116   & 1       & 3546603 & 35      & 3       & ...     & 6       & 5       & 6       & 6       & 6       & 6       & 6       & 6       & 6       & 5      \\\\\n",
       "\\end{tabular}\n"
      ],
      "text/markdown": [
       "\n",
       "| NU_ANO | CO_IES | CO_CATEGAD | CO_ORGACAD | CO_GRUPO | CO_CURSO | CO_MODALIDADE | CO_MUNIC_CURSO | CO_UF_CURSO | CO_REGIAO_CURSO | ... | QE_I59 | QE_I60 | QE_I61 | QE_I62 | QE_I63 | QE_I64 | QE_I65 | QE_I66 | QE_I67 | QE_I68 |\n",
       "|---|---|---|---|---|---|---|---|---|---|---|---|---|---|---|---|---|---|---|---|---|\n",
       "| 2018    | 1356    | 10003   | 10020   | 1       | 47116   | 1       | 3546603 | 35      | 3       | ...     | 6       | 6       | 6       | 6       | 6       | 6       | 6       | 6       | 6       | 5       |\n",
       "| 2018    | 1356    | 10003   | 10020   | 1       | 47116   | 1       | 3546603 | 35      | 3       | ...     | 6       | 6       | 6       | 6       | 6       | 6       | 6       | 6       | 6       | 6       |\n",
       "| 2018    | 1356    | 10003   | 10020   | 1       | 47116   | 1       | 3546603 | 35      | 3       | ...     | 6       | 6       | 6       | 6       | 6       | 6       | 6       | 6       | 6       | 5       |\n",
       "| 2018    | 1356    | 10003   | 10020   | 1       | 47116   | 1       | 3546603 | 35      | 3       | ...     | 6       | 6       | 6       | 6       | 5       | 6       | 6       | 6       | 6       | 4       |\n",
       "| 2018    | 1356    | 10003   | 10020   | 1       | 47116   | 1       | 3546603 | 35      | 3       | ...     | 6       | 6       | 6       | 6       | 6       | 6       | 6       | 6       | 6       | 6       |\n",
       "| 2018    | 1356    | 10003   | 10020   | 1       | 47116   | 1       | 3546603 | 35      | 3       | ...     | 6       | 5       | 6       | 6       | 6       | 6       | 6       | 6       | 6       | 5       |\n",
       "\n"
      ],
      "text/plain": [
       "  NU_ANO CO_IES CO_CATEGAD CO_ORGACAD CO_GRUPO CO_CURSO CO_MODALIDADE\n",
       "1 2018   1356   10003      10020      1        47116    1            \n",
       "2 2018   1356   10003      10020      1        47116    1            \n",
       "3 2018   1356   10003      10020      1        47116    1            \n",
       "4 2018   1356   10003      10020      1        47116    1            \n",
       "5 2018   1356   10003      10020      1        47116    1            \n",
       "6 2018   1356   10003      10020      1        47116    1            \n",
       "  CO_MUNIC_CURSO CO_UF_CURSO CO_REGIAO_CURSO ... QE_I59 QE_I60 QE_I61 QE_I62\n",
       "1 3546603        35          3               ... 6      6      6      6     \n",
       "2 3546603        35          3               ... 6      6      6      6     \n",
       "3 3546603        35          3               ... 6      6      6      6     \n",
       "4 3546603        35          3               ... 6      6      6      6     \n",
       "5 3546603        35          3               ... 6      6      6      6     \n",
       "6 3546603        35          3               ... 6      5      6      6     \n",
       "  QE_I63 QE_I64 QE_I65 QE_I66 QE_I67 QE_I68\n",
       "1 6      6      6      6      6      5     \n",
       "2 6      6      6      6      6      6     \n",
       "3 6      6      6      6      6      5     \n",
       "4 5      6      6      6      6      4     \n",
       "5 6      6      6      6      6      6     \n",
       "6 6      6      6      6      6      5     "
      ]
     },
     "metadata": {},
     "output_type": "display_data"
    }
   ],
   "source": [
    "data = read.table(\"dataset/enade.txt\",sep=\";\", dec = \",\", header = TRUE)\n",
    "head(data)"
   ]
  },
  {
   "cell_type": "code",
   "execution_count": 4,
   "id": "common-poker",
   "metadata": {},
   "outputs": [],
   "source": [
    "df = data[data$CO_GRUPO == 13,]"
   ]
  },
  {
   "cell_type": "code",
   "execution_count": 5,
   "id": "contained-vacation",
   "metadata": {},
   "outputs": [
    {
     "data": {
      "text/html": [
       "<ol class=list-inline>\n",
       "\t<li>9582</li>\n",
       "\t<li>137</li>\n",
       "</ol>\n"
      ],
      "text/latex": [
       "\\begin{enumerate*}\n",
       "\\item 9582\n",
       "\\item 137\n",
       "\\end{enumerate*}\n"
      ],
      "text/markdown": [
       "1. 9582\n",
       "2. 137\n",
       "\n",
       "\n"
      ],
      "text/plain": [
       "[1] 9582  137"
      ]
     },
     "metadata": {},
     "output_type": "display_data"
    }
   ],
   "source": [
    "dim(df)"
   ]
  },
  {
   "cell_type": "markdown",
   "id": "valid-grain",
   "metadata": {},
   "source": [
    "## Criando uma variável Dummy para UFPR IES 571\n",
    "* Número de verificações = 114"
   ]
  },
  {
   "cell_type": "code",
   "execution_count": 6,
   "id": "compound-remainder",
   "metadata": {},
   "outputs": [],
   "source": [
    "df$ufpr = as.factor(ifelse(df$CO_IES == 571,1,0))"
   ]
  },
  {
   "cell_type": "code",
   "execution_count": 7,
   "id": "hundred-blast",
   "metadata": {},
   "outputs": [
    {
     "data": {
      "text/plain": [
       "\n",
       "   0    1 \n",
       "9468  114 "
      ]
     },
     "metadata": {},
     "output_type": "display_data"
    }
   ],
   "source": [
    "table(df$ufpr)"
   ]
  },
  {
   "cell_type": "code",
   "execution_count": 8,
   "id": "brutal-director",
   "metadata": {},
   "outputs": [],
   "source": [
    "df_1 = df %>% \n",
    "        select(NT_GER, ufpr, TP_SEXO, NU_IDADE,QE_I02, QE_I08, QE_I21, QE_I10,QE_I23) %>% \n",
    "        setNames(c(\"nota\", \"ufpr\", \"genero\", \"idade\",\"cor\", \"renda\", \"escolaridade_pais\",\"trabalho\", \"esforco\"))"
   ]
  },
  {
   "cell_type": "code",
   "execution_count": 9,
   "id": "interracial-davis",
   "metadata": {},
   "outputs": [
    {
     "data": {
      "text/html": [
       "<table>\n",
       "<thead><tr><th></th><th scope=col>nota</th><th scope=col>ufpr</th><th scope=col>genero</th><th scope=col>idade</th><th scope=col>cor</th><th scope=col>renda</th><th scope=col>escolaridade_pais</th><th scope=col>trabalho</th><th scope=col>esforco</th></tr></thead>\n",
       "<tbody>\n",
       "\t<tr><th scope=row>161</th><td>24.9</td><td>0   </td><td>F   </td><td>28  </td><td>A   </td><td>C   </td><td>B   </td><td>E   </td><td>C   </td></tr>\n",
       "\t<tr><th scope=row>162</th><td>25.6</td><td>0   </td><td>M   </td><td>30  </td><td>A   </td><td>D   </td><td>A   </td><td>E   </td><td>B   </td></tr>\n",
       "\t<tr><th scope=row>163</th><td>48.7</td><td>0   </td><td>M   </td><td>29  </td><td>A   </td><td>C   </td><td>B   </td><td>E   </td><td>C   </td></tr>\n",
       "\t<tr><th scope=row>164</th><td>35.7</td><td>0   </td><td>F   </td><td>22  </td><td>A   </td><td>B   </td><td>A   </td><td>E   </td><td>B   </td></tr>\n",
       "\t<tr><th scope=row>165</th><td>33.9</td><td>0   </td><td>M   </td><td>47  </td><td>A   </td><td>B   </td><td>A   </td><td>E   </td><td>C   </td></tr>\n",
       "\t<tr><th scope=row>166</th><td>23.5</td><td>0   </td><td>M   </td><td>27  </td><td>A   </td><td>C   </td><td>B   </td><td>E   </td><td>C   </td></tr>\n",
       "</tbody>\n",
       "</table>\n"
      ],
      "text/latex": [
       "\\begin{tabular}{r|lllllllll}\n",
       "  & nota & ufpr & genero & idade & cor & renda & escolaridade\\_pais & trabalho & esforco\\\\\n",
       "\\hline\n",
       "\t161 & 24.9 & 0    & F    & 28   & A    & C    & B    & E    & C   \\\\\n",
       "\t162 & 25.6 & 0    & M    & 30   & A    & D    & A    & E    & B   \\\\\n",
       "\t163 & 48.7 & 0    & M    & 29   & A    & C    & B    & E    & C   \\\\\n",
       "\t164 & 35.7 & 0    & F    & 22   & A    & B    & A    & E    & B   \\\\\n",
       "\t165 & 33.9 & 0    & M    & 47   & A    & B    & A    & E    & C   \\\\\n",
       "\t166 & 23.5 & 0    & M    & 27   & A    & C    & B    & E    & C   \\\\\n",
       "\\end{tabular}\n"
      ],
      "text/markdown": [
       "\n",
       "| <!--/--> | nota | ufpr | genero | idade | cor | renda | escolaridade_pais | trabalho | esforco |\n",
       "|---|---|---|---|---|---|---|---|---|---|\n",
       "| 161 | 24.9 | 0    | F    | 28   | A    | C    | B    | E    | C    |\n",
       "| 162 | 25.6 | 0    | M    | 30   | A    | D    | A    | E    | B    |\n",
       "| 163 | 48.7 | 0    | M    | 29   | A    | C    | B    | E    | C    |\n",
       "| 164 | 35.7 | 0    | F    | 22   | A    | B    | A    | E    | B    |\n",
       "| 165 | 33.9 | 0    | M    | 47   | A    | B    | A    | E    | C    |\n",
       "| 166 | 23.5 | 0    | M    | 27   | A    | C    | B    | E    | C    |\n",
       "\n"
      ],
      "text/plain": [
       "    nota ufpr genero idade cor renda escolaridade_pais trabalho esforco\n",
       "161 24.9 0    F      28    A   C     B                 E        C      \n",
       "162 25.6 0    M      30    A   D     A                 E        B      \n",
       "163 48.7 0    M      29    A   C     B                 E        C      \n",
       "164 35.7 0    F      22    A   B     A                 E        B      \n",
       "165 33.9 0    M      47    A   B     A                 E        C      \n",
       "166 23.5 0    M      27    A   C     B                 E        C      "
      ]
     },
     "metadata": {},
     "output_type": "display_data"
    }
   ],
   "source": [
    "head(df_1)"
   ]
  },
  {
   "cell_type": "markdown",
   "id": "graphic-buffer",
   "metadata": {},
   "source": [
    "# Nomeando as categorias\n",
    "---"
   ]
  },
  {
   "cell_type": "code",
   "execution_count": 10,
   "id": "solved-evidence",
   "metadata": {},
   "outputs": [],
   "source": [
    "df_1$cor = mapvalues(df_1$cor, from=c(\"A\",\"B\",\"C\",\"D\",\"E\",\"F\"), to=c(\"branca\",\"preta\",\"amarela\",\"parda\",\"indigina\",\"não declarado\"))\n",
    "df_1$renda = mapvalues(df_1$renda, from=c(\"A\",\"B\",\"C\",\"D\",\"E\",\"F\",\"G\"), to=c(\"Até 1.5 salário mínimo\",\"De 1.5 a 3 salários mínimos\",\n",
    "                                                                \"De 3 a 4.5 salários mínimos\",\"De 4.5 a 6 salários mínimos\",\"De 6 a 10 salários mínimos\",\n",
    "                                                                                \"10 a 30 salários mínimos\", \"Acima de 30 salários mínimos\"))\n",
    "df_1$escolaridade_pais = mapvalues(df_1$escolaridade_pais, from=c(\"A\",\"B\"), to=c(\"sim\",\"não\"))\n",
    "df_1$trabalho = mapvalues(df_1$trabalho, from=c(\"A\",\"B\",\"C\",\"D\",\"E\"), to=c(\"Não trabalha\",\n",
    "                                                                  \"Trabalha eventualmente\",\n",
    "                                                                 \"Trabalha até 20 hrs. semanais\",\n",
    "                                                                 \"Trabalha de 21 a 39 hrs. semanais\",\n",
    "                                                                 \"Trabalha 40 hrs. semanais ou mais\"))\n",
    "df_1$esforco = mapvalues(df_1$esforco, from=c(\"A\",\"B\",\"C\",\"D\",\"E\"), to=c(\"Nenhuma, apenas assistindo as aulas\",\"De uma a três\",\n",
    "                                                                \"De quatro a sete\",\"De oito adoze\",\"Mais de doze\"))"
   ]
  },
  {
   "cell_type": "code",
   "execution_count": 11,
   "id": "alpine-sponsorship",
   "metadata": {},
   "outputs": [
    {
     "data": {
      "text/html": [
       "<table>\n",
       "<thead><tr><th></th><th scope=col>nota</th><th scope=col>ufpr</th><th scope=col>genero</th><th scope=col>idade</th><th scope=col>cor</th><th scope=col>renda</th><th scope=col>escolaridade_pais</th><th scope=col>trabalho</th><th scope=col>esforco</th></tr></thead>\n",
       "<tbody>\n",
       "\t<tr><th scope=row>161</th><td>24.9                             </td><td>0                                </td><td>F                                </td><td>28                               </td><td>branca                           </td><td>De 3 a 4.5 salários mínimos      </td><td>não                              </td><td>Trabalha 40 hrs. semanais ou mais</td><td>De quatro a sete                 </td></tr>\n",
       "\t<tr><th scope=row>162</th><td>25.6                             </td><td>0                                </td><td>M                                </td><td>30                               </td><td>branca                           </td><td>De 4.5 a 6 salários mínimos      </td><td>sim                              </td><td>Trabalha 40 hrs. semanais ou mais</td><td>De uma a três                    </td></tr>\n",
       "\t<tr><th scope=row>163</th><td>48.7                             </td><td>0                                </td><td>M                                </td><td>29                               </td><td>branca                           </td><td>De 3 a 4.5 salários mínimos      </td><td>não                              </td><td>Trabalha 40 hrs. semanais ou mais</td><td>De quatro a sete                 </td></tr>\n",
       "\t<tr><th scope=row>164</th><td>35.7                             </td><td>0                                </td><td>F                                </td><td>22                               </td><td>branca                           </td><td>De 1.5 a 3 salários mínimos      </td><td>sim                              </td><td>Trabalha 40 hrs. semanais ou mais</td><td>De uma a três                    </td></tr>\n",
       "\t<tr><th scope=row>165</th><td>33.9                             </td><td>0                                </td><td>M                                </td><td>47                               </td><td>branca                           </td><td>De 1.5 a 3 salários mínimos      </td><td>sim                              </td><td>Trabalha 40 hrs. semanais ou mais</td><td>De quatro a sete                 </td></tr>\n",
       "\t<tr><th scope=row>166</th><td>23.5                             </td><td>0                                </td><td>M                                </td><td>27                               </td><td>branca                           </td><td>De 3 a 4.5 salários mínimos      </td><td>não                              </td><td>Trabalha 40 hrs. semanais ou mais</td><td>De quatro a sete                 </td></tr>\n",
       "</tbody>\n",
       "</table>\n"
      ],
      "text/latex": [
       "\\begin{tabular}{r|lllllllll}\n",
       "  & nota & ufpr & genero & idade & cor & renda & escolaridade\\_pais & trabalho & esforco\\\\\n",
       "\\hline\n",
       "\t161 & 24.9                              & 0                                 & F                                 & 28                                & branca                            & De 3 a 4.5 salários mínimos       & não                               & Trabalha 40 hrs. semanais ou mais & De quatro a sete                 \\\\\n",
       "\t162 & 25.6                              & 0                                 & M                                 & 30                                & branca                            & De 4.5 a 6 salários mínimos       & sim                               & Trabalha 40 hrs. semanais ou mais & De uma a três                    \\\\\n",
       "\t163 & 48.7                              & 0                                 & M                                 & 29                                & branca                            & De 3 a 4.5 salários mínimos       & não                               & Trabalha 40 hrs. semanais ou mais & De quatro a sete                 \\\\\n",
       "\t164 & 35.7                              & 0                                 & F                                 & 22                                & branca                            & De 1.5 a 3 salários mínimos       & sim                               & Trabalha 40 hrs. semanais ou mais & De uma a três                    \\\\\n",
       "\t165 & 33.9                              & 0                                 & M                                 & 47                                & branca                            & De 1.5 a 3 salários mínimos       & sim                               & Trabalha 40 hrs. semanais ou mais & De quatro a sete                 \\\\\n",
       "\t166 & 23.5                              & 0                                 & M                                 & 27                                & branca                            & De 3 a 4.5 salários mínimos       & não                               & Trabalha 40 hrs. semanais ou mais & De quatro a sete                 \\\\\n",
       "\\end{tabular}\n"
      ],
      "text/markdown": [
       "\n",
       "| <!--/--> | nota | ufpr | genero | idade | cor | renda | escolaridade_pais | trabalho | esforco |\n",
       "|---|---|---|---|---|---|---|---|---|---|\n",
       "| 161 | 24.9                              | 0                                 | F                                 | 28                                | branca                            | De 3 a 4.5 salários mínimos       | não                               | Trabalha 40 hrs. semanais ou mais | De quatro a sete                  |\n",
       "| 162 | 25.6                              | 0                                 | M                                 | 30                                | branca                            | De 4.5 a 6 salários mínimos       | sim                               | Trabalha 40 hrs. semanais ou mais | De uma a três                     |\n",
       "| 163 | 48.7                              | 0                                 | M                                 | 29                                | branca                            | De 3 a 4.5 salários mínimos       | não                               | Trabalha 40 hrs. semanais ou mais | De quatro a sete                  |\n",
       "| 164 | 35.7                              | 0                                 | F                                 | 22                                | branca                            | De 1.5 a 3 salários mínimos       | sim                               | Trabalha 40 hrs. semanais ou mais | De uma a três                     |\n",
       "| 165 | 33.9                              | 0                                 | M                                 | 47                                | branca                            | De 1.5 a 3 salários mínimos       | sim                               | Trabalha 40 hrs. semanais ou mais | De quatro a sete                  |\n",
       "| 166 | 23.5                              | 0                                 | M                                 | 27                                | branca                            | De 3 a 4.5 salários mínimos       | não                               | Trabalha 40 hrs. semanais ou mais | De quatro a sete                  |\n",
       "\n"
      ],
      "text/plain": [
       "    nota ufpr genero idade cor    renda                       escolaridade_pais\n",
       "161 24.9 0    F      28    branca De 3 a 4.5 salários mínimos não              \n",
       "162 25.6 0    M      30    branca De 4.5 a 6 salários mínimos sim              \n",
       "163 48.7 0    M      29    branca De 3 a 4.5 salários mínimos não              \n",
       "164 35.7 0    F      22    branca De 1.5 a 3 salários mínimos sim              \n",
       "165 33.9 0    M      47    branca De 1.5 a 3 salários mínimos sim              \n",
       "166 23.5 0    M      27    branca De 3 a 4.5 salários mínimos não              \n",
       "    trabalho                          esforco         \n",
       "161 Trabalha 40 hrs. semanais ou mais De quatro a sete\n",
       "162 Trabalha 40 hrs. semanais ou mais De uma a três   \n",
       "163 Trabalha 40 hrs. semanais ou mais De quatro a sete\n",
       "164 Trabalha 40 hrs. semanais ou mais De uma a três   \n",
       "165 Trabalha 40 hrs. semanais ou mais De quatro a sete\n",
       "166 Trabalha 40 hrs. semanais ou mais De quatro a sete"
      ]
     },
     "metadata": {},
     "output_type": "display_data"
    }
   ],
   "source": [
    "head(df_1)"
   ]
  },
  {
   "cell_type": "code",
   "execution_count": 46,
   "id": "effective-debut",
   "metadata": {},
   "outputs": [],
   "source": [
    "df_ufpr = df_1[df_1$ufpr==1,]"
   ]
  },
  {
   "cell_type": "markdown",
   "id": "molecular-contribution",
   "metadata": {},
   "source": [
    "# Distribuição das notas\n",
    "---"
   ]
  },
  {
   "cell_type": "code",
   "execution_count": 65,
   "id": "close-bicycle",
   "metadata": {},
   "outputs": [
    {
     "data": {
      "image/png": "[encoded data removed]",
      "text/plain": [
       "plot without title"
      ]
     },
     "metadata": {},
     "output_type": "display_data"
    }
   ],
   "source": [
    "ggplot(df_ufpr, aes(x=nota)) +\n",
    "    geom_histogram(alpha=0.5, bins = 10, fill=\"turquoise4\", na.rm = TRUE)+\n",
    "    ggtitle(\"Distribuição das notas de Economia da UFPR\")+\n",
    "    theme_bw()+\n",
    "    theme(title=element_text(size=10,color=\"turquoise4\"))"
   ]
  },
  {
   "cell_type": "markdown",
   "id": "turned-viking",
   "metadata": {},
   "source": [
    "## A média das notas da Ufpr são levemente maiores"
   ]
  },
  {
   "cell_type": "code",
   "execution_count": 73,
   "id": "pointed-worse",
   "metadata": {
    "scrolled": false
   },
   "outputs": [
    {
     "data": {
      "image/png": "[encoded data removed]",
      "text/plain": [
       "plot without title"
      ]
     },
     "metadata": {},
     "output_type": "display_data"
    }
   ],
   "source": [
    "options(repr.plot.width = 5, repr.plot.height = 4)\n",
    "ggplot(df_1, aes(x=ufpr, y=nota, fill=ufpr)) +\n",
    "    geom_boxplot(na.rm = TRUE) +\n",
    "    stat_summary(aes(shape = \"média\"),\n",
    "               geom = \"point\",\n",
    "               fun = mean,\n",
    "               size = 1,\n",
    "               na.rm = TRUE)+\n",
    "    ggtitle(\"Notas geral X notas ufpr\")+\n",
    "    xlab(\"Notas Ufpr\")+\n",
    "    ylab(\"Notas\")+\n",
    "    theme(axis.text.x = element_text(angle = 45, vjust = 0.9, hjust=1));"
   ]
  },
  {
   "cell_type": "markdown",
   "id": "initial-journey",
   "metadata": {},
   "source": [
    "# Notas por Cor/Raça\n",
    "---"
   ]
  },
  {
   "cell_type": "code",
   "execution_count": 75,
   "id": "finnish-concept",
   "metadata": {},
   "outputs": [
    {
     "data": {
      "image/png": "[encoded data removed]",
      "text/plain": [
       "plot without title"
      ]
     },
     "metadata": {},
     "output_type": "display_data"
    }
   ],
   "source": [
    "b1 = ggplot(df_1, aes(x=cor, y=nota)) +\n",
    "        geom_boxplot(na.rm = TRUE, fill=\"turquoise4\") +\n",
    "        stat_summary(geom = \"point\",\n",
    "               fun = mean,\n",
    "               size = 1,\n",
    "               na.rm = TRUE)+\n",
    "        xlab(\"Notas Geral\")+\n",
    "        ylab(\"Notas\")+\n",
    "        theme(axis.text.x = element_text(angle = 45, vjust = 0.9, hjust=1));\n",
    "b2 = ggplot(df_ufpr, aes(x=cor, y=nota)) +\n",
    "        geom_boxplot(na.rm = TRUE, fill=\"coral\") +\n",
    "        stat_summary(geom = \"point\",\n",
    "               fun = mean,\n",
    "               size = 1,\n",
    "               na.rm = TRUE)+        \n",
    "        xlab(\"Notas Ufpr\")+\n",
    "        ylab(\"Notas\")+\n",
    "        theme(axis.text.x = element_text(angle = 45, vjust = 0.9, hjust=1));\n",
    "plot_grid(b1, b2, labels = c(\"Geral\", \"Ufpr\"))"
   ]
  },
  {
   "cell_type": "markdown",
   "id": "boolean-thread",
   "metadata": {},
   "source": [
    "# Notas por Gênero\n",
    "---"
   ]
  },
  {
   "cell_type": "code",
   "execution_count": 84,
   "id": "promotional-estonia",
   "metadata": {},
   "outputs": [
    {
     "name": "stdout",
     "output_type": "stream",
     "text": [
      "[1] \"Geral\"\n"
     ]
    },
    {
     "data": {
      "text/plain": [
       "\n",
       "        F         M \n",
       "0.3956377 0.6043623 "
      ]
     },
     "metadata": {},
     "output_type": "display_data"
    },
    {
     "name": "stdout",
     "output_type": "stream",
     "text": [
      "[1] \"Ufpr\"\n"
     ]
    },
    {
     "data": {
      "text/plain": [
       "\n",
       "        F         M \n",
       "0.3333333 0.6666667 "
      ]
     },
     "metadata": {},
     "output_type": "display_data"
    }
   ],
   "source": [
    "print('Geral')\n",
    "prop.table(table(df_1$genero))\n",
    "print('Ufpr')\n",
    "prop.table(table(df_ufpr$genero))"
   ]
  },
  {
   "cell_type": "code",
   "execution_count": 87,
   "id": "artificial-creation",
   "metadata": {},
   "outputs": [
    {
     "name": "stdout",
     "output_type": "stream",
     "text": [
      "[1] \"Geral\"\n"
     ]
    },
    {
     "data": {
      "text/html": [
       "<dl class=dl-horizontal>\n",
       "\t<dt>1</dt>\n",
       "\t\t<dd>34.5163265306122</dd>\n",
       "\t<dt>Nenhuma, apenas assistindo as aulas</dt>\n",
       "\t\t<dd>36.8050287356322</dd>\n",
       "\t<dt>De uma a três</dt>\n",
       "\t\t<dd>36.6378438899552</dd>\n",
       "\t<dt>De quatro a sete</dt>\n",
       "\t\t<dd>38.6564620355412</dd>\n",
       "\t<dt>De oito adoze</dt>\n",
       "\t\t<dd>41.1735949098621</dd>\n",
       "\t<dt>Mais de doze</dt>\n",
       "\t\t<dd>42.9180076628353</dd>\n",
       "</dl>\n"
      ],
      "text/latex": [
       "\\begin{description*}\n",
       "\\item[1] 34.5163265306122\n",
       "\\item[Nenhuma, apenas assistindo as aulas] 36.8050287356322\n",
       "\\item[De uma a três] 36.6378438899552\n",
       "\\item[De quatro a sete] 38.6564620355412\n",
       "\\item[De oito adoze] 41.1735949098621\n",
       "\\item[Mais de doze] 42.9180076628353\n",
       "\\end{description*}\n"
      ],
      "text/markdown": [
       "1\n",
       ":   34.5163265306122Nenhuma, apenas assistindo as aulas\n",
       ":   36.8050287356322De uma a três\n",
       ":   36.6378438899552De quatro a sete\n",
       ":   38.6564620355412De oito adoze\n",
       ":   41.1735949098621Mais de doze\n",
       ":   42.9180076628353\n",
       "\n"
      ],
      "text/plain": [
       "                                    Nenhuma, apenas assistindo as aulas \n",
       "                           34.51633                            36.80503 \n",
       "                      De uma a três                    De quatro a sete \n",
       "                           36.63784                            38.65646 \n",
       "                      De oito adoze                        Mais de doze \n",
       "                           41.17359                            42.91801 "
      ]
     },
     "metadata": {},
     "output_type": "display_data"
    },
    {
     "name": "stdout",
     "output_type": "stream",
     "text": [
      "[1] \"Ufpr\"\n"
     ]
    },
    {
     "data": {
      "text/html": [
       "<dl class=dl-horizontal>\n",
       "\t<dt>1</dt>\n",
       "\t\t<dd>NaN</dd>\n",
       "\t<dt>Nenhuma, apenas assistindo as aulas</dt>\n",
       "\t\t<dd>33.6363636363636</dd>\n",
       "\t<dt>De uma a três</dt>\n",
       "\t\t<dd>39.7837837837838</dd>\n",
       "\t<dt>De quatro a sete</dt>\n",
       "\t\t<dd>43.2333333333333</dd>\n",
       "\t<dt>De oito adoze</dt>\n",
       "\t\t<dd>42.6125</dd>\n",
       "\t<dt>Mais de doze</dt>\n",
       "\t\t<dd>46.0714285714286</dd>\n",
       "</dl>\n"
      ],
      "text/latex": [
       "\\begin{description*}\n",
       "\\item[1] NaN\n",
       "\\item[Nenhuma, apenas assistindo as aulas] 33.6363636363636\n",
       "\\item[De uma a três] 39.7837837837838\n",
       "\\item[De quatro a sete] 43.2333333333333\n",
       "\\item[De oito adoze] 42.6125\n",
       "\\item[Mais de doze] 46.0714285714286\n",
       "\\end{description*}\n"
      ],
      "text/markdown": [
       "1\n",
       ":   NaNNenhuma, apenas assistindo as aulas\n",
       ":   33.6363636363636De uma a três\n",
       ":   39.7837837837838De quatro a sete\n",
       ":   43.2333333333333De oito adoze\n",
       ":   42.6125Mais de doze\n",
       ":   46.0714285714286\n",
       "\n"
      ],
      "text/plain": [
       "                                    Nenhuma, apenas assistindo as aulas \n",
       "                                NaN                            33.63636 \n",
       "                      De uma a três                    De quatro a sete \n",
       "                           39.78378                            43.23333 \n",
       "                      De oito adoze                        Mais de doze \n",
       "                           42.61250                            46.07143 "
      ]
     },
     "metadata": {},
     "output_type": "display_data"
    }
   ],
   "source": [
    "print('Geral')\n",
    "tapply(df_1$nota, df_1$esforco, FUN=mean, na.rm=T)\n",
    "print('Ufpr')\n",
    "tapply(df_ufpr$nota, df_ufpr$esforco, FUN=mean, na.rm=T)"
   ]
  },
  {
   "cell_type": "code",
   "execution_count": 72,
   "id": "subsequent-comment",
   "metadata": {},
   "outputs": [
    {
     "data": {
      "image/png": "[encoded data removed]",
      "text/plain": [
       "plot without title"
      ]
     },
     "metadata": {},
     "output_type": "display_data"
    }
   ],
   "source": [
    "b1 = ggplot(df_1, aes(x=genero, y=nota)) +\n",
    "        geom_boxplot(na.rm = TRUE, fill=\"turquoise4\") +\n",
    "        stat_summary(geom = \"point\",\n",
    "               fun = mean,\n",
    "               size = 1,\n",
    "               na.rm = TRUE)+\n",
    "        xlab(\"Notas Geral\")+\n",
    "        ylab(\"Notas\")+\n",
    "        theme(axis.text.x = element_text(angle = 45, vjust = 0.9, hjust=1));\n",
    "b2 = ggplot(df_ufpr, aes(x=genero, y=nota)) +\n",
    "        geom_boxplot(na.rm = TRUE, fill=\"coral\") +\n",
    "        stat_summary(geom = \"point\",\n",
    "               fun = mean,\n",
    "               size = 1,\n",
    "               na.rm = TRUE)+        \n",
    "        xlab(\"Notas Ufpr\")+\n",
    "        ylab(\"Notas\")+\n",
    "        theme(axis.text.x = element_text(angle = 45, vjust = 0.9, hjust=1));\n",
    "plot_grid(b1, b2, labels = c(\"Geral\", \"Ufpr\"))"
   ]
  },
  {
   "cell_type": "markdown",
   "id": "potential-patio",
   "metadata": {},
   "source": [
    "# Notas por Renda\n",
    "---"
   ]
  },
  {
   "cell_type": "code",
   "execution_count": 88,
   "id": "elementary-valley",
   "metadata": {},
   "outputs": [
    {
     "name": "stdout",
     "output_type": "stream",
     "text": [
      "[1] \"Geral\"\n"
     ]
    },
    {
     "data": {
      "text/plain": [
       "\n",
       "                                   Até 1.5 salário mínimo \n",
       "                  0.11344187                   0.13420998 \n",
       " De 1.5 a 3 salários mínimos  De 3 a 4.5 salários mínimos \n",
       "                  0.16301398                   0.15737842 \n",
       " De 4.5 a 6 salários mínimos   De 6 a 10 salários mínimos \n",
       "                  0.10363181                   0.13963682 \n",
       "    10 a 30 salários mínimos Acima de 30 salários mínimos \n",
       "                  0.13661031                   0.05207681 "
      ]
     },
     "metadata": {},
     "output_type": "display_data"
    },
    {
     "name": "stdout",
     "output_type": "stream",
     "text": [
      "[1] \"Ufpr\"\n"
     ]
    },
    {
     "data": {
      "text/plain": [
       "\n",
       "                                   Até 1.5 salário mínimo \n",
       "                  0.05263158                   0.34210526 \n",
       " De 1.5 a 3 salários mínimos  De 3 a 4.5 salários mínimos \n",
       "                  0.08771930                   0.09649123 \n",
       " De 4.5 a 6 salários mínimos   De 6 a 10 salários mínimos \n",
       "                  0.09649123                   0.16666667 \n",
       "    10 a 30 salários mínimos Acima de 30 salários mínimos \n",
       "                  0.13157895                   0.02631579 "
      ]
     },
     "metadata": {},
     "output_type": "display_data"
    }
   ],
   "source": [
    "print('Geral')\n",
    "prop.table(table(df_1$renda))\n",
    "print('Ufpr')\n",
    "prop.table(table(df_ufpr$renda))"
   ]
  },
  {
   "cell_type": "code",
   "execution_count": 89,
   "id": "dental-needle",
   "metadata": {},
   "outputs": [
    {
     "name": "stdout",
     "output_type": "stream",
     "text": [
      "[1] \"Geral\"\n"
     ]
    },
    {
     "data": {
      "text/html": [
       "<dl class=dl-horizontal>\n",
       "\t<dt>1</dt>\n",
       "\t\t<dd>34.5163265306122</dd>\n",
       "\t<dt>Até 1.5 salário mínimo</dt>\n",
       "\t\t<dd>34.4106400665004</dd>\n",
       "\t<dt>De 1.5 a 3 salários mínimos</dt>\n",
       "\t\t<dd>35.2974324324324</dd>\n",
       "\t<dt>De 3 a 4.5 salários mínimos</dt>\n",
       "\t\t<dd>36.2945682451253</dd>\n",
       "\t<dt>De 4.5 a 6 salários mínimos</dt>\n",
       "\t\t<dd>38.0471778487753</dd>\n",
       "\t<dt>De 6 a 10 salários mínimos</dt>\n",
       "\t\t<dd>40.2816890292028</dd>\n",
       "\t<dt>10 a 30 salários mínimos</dt>\n",
       "\t\t<dd>44.1079610073111</dd>\n",
       "\t<dt>Acima de 30 salários mínimos</dt>\n",
       "\t\t<dd>45.8884615384615</dd>\n",
       "</dl>\n"
      ],
      "text/latex": [
       "\\begin{description*}\n",
       "\\item[1] 34.5163265306122\n",
       "\\item[Até 1.5 salário mínimo] 34.4106400665004\n",
       "\\item[De 1.5 a 3 salários mínimos] 35.2974324324324\n",
       "\\item[De 3 a 4.5 salários mínimos] 36.2945682451253\n",
       "\\item[De 4.5 a 6 salários mínimos] 38.0471778487753\n",
       "\\item[De 6 a 10 salários mínimos] 40.2816890292028\n",
       "\\item[10 a 30 salários mínimos] 44.1079610073111\n",
       "\\item[Acima de 30 salários mínimos] 45.8884615384615\n",
       "\\end{description*}\n"
      ],
      "text/markdown": [
       "1\n",
       ":   34.5163265306122Até 1.5 salário mínimo\n",
       ":   34.4106400665004De 1.5 a 3 salários mínimos\n",
       ":   35.2974324324324De 3 a 4.5 salários mínimos\n",
       ":   36.2945682451253De 4.5 a 6 salários mínimos\n",
       ":   38.0471778487753De 6 a 10 salários mínimos\n",
       ":   40.281689029202810 a 30 salários mínimos\n",
       ":   44.1079610073111Acima de 30 salários mínimos\n",
       ":   45.8884615384615\n",
       "\n"
      ],
      "text/plain": [
       "                                   Até 1.5 salário mínimo \n",
       "                    34.51633                     34.41064 \n",
       " De 1.5 a 3 salários mínimos  De 3 a 4.5 salários mínimos \n",
       "                    35.29743                     36.29457 \n",
       " De 4.5 a 6 salários mínimos   De 6 a 10 salários mínimos \n",
       "                    38.04718                     40.28169 \n",
       "    10 a 30 salários mínimos Acima de 30 salários mínimos \n",
       "                    44.10796                     45.88846 "
      ]
     },
     "metadata": {},
     "output_type": "display_data"
    },
    {
     "name": "stdout",
     "output_type": "stream",
     "text": [
      "[1] \"Ufpr\"\n"
     ]
    },
    {
     "data": {
      "text/html": [
       "<dl class=dl-horizontal>\n",
       "\t<dt>1</dt>\n",
       "\t\t<dd>NaN</dd>\n",
       "\t<dt>Até 1.5 salário mínimo</dt>\n",
       "\t\t<dd>35.634375</dd>\n",
       "\t<dt>De 1.5 a 3 salários mínimos</dt>\n",
       "\t\t<dd>37.8444444444444</dd>\n",
       "\t<dt>De 3 a 4.5 salários mínimos</dt>\n",
       "\t\t<dd>43.3909090909091</dd>\n",
       "\t<dt>De 4.5 a 6 salários mínimos</dt>\n",
       "\t\t<dd>38.7818181818182</dd>\n",
       "\t<dt>De 6 a 10 salários mínimos</dt>\n",
       "\t\t<dd>39.4888888888889</dd>\n",
       "\t<dt>10 a 30 salários mínimos</dt>\n",
       "\t\t<dd>42.5928571428571</dd>\n",
       "\t<dt>Acima de 30 salários mínimos</dt>\n",
       "\t\t<dd>36.15</dd>\n",
       "</dl>\n"
      ],
      "text/latex": [
       "\\begin{description*}\n",
       "\\item[1] NaN\n",
       "\\item[Até 1.5 salário mínimo] 35.634375\n",
       "\\item[De 1.5 a 3 salários mínimos] 37.8444444444444\n",
       "\\item[De 3 a 4.5 salários mínimos] 43.3909090909091\n",
       "\\item[De 4.5 a 6 salários mínimos] 38.7818181818182\n",
       "\\item[De 6 a 10 salários mínimos] 39.4888888888889\n",
       "\\item[10 a 30 salários mínimos] 42.5928571428571\n",
       "\\item[Acima de 30 salários mínimos] 36.15\n",
       "\\end{description*}\n"
      ],
      "text/markdown": [
       "1\n",
       ":   NaNAté 1.5 salário mínimo\n",
       ":   35.634375De 1.5 a 3 salários mínimos\n",
       ":   37.8444444444444De 3 a 4.5 salários mínimos\n",
       ":   43.3909090909091De 4.5 a 6 salários mínimos\n",
       ":   38.7818181818182De 6 a 10 salários mínimos\n",
       ":   39.488888888888910 a 30 salários mínimos\n",
       ":   42.5928571428571Acima de 30 salários mínimos\n",
       ":   36.15\n",
       "\n"
      ],
      "text/plain": [
       "                                   Até 1.5 salário mínimo \n",
       "                         NaN                     35.63437 \n",
       " De 1.5 a 3 salários mínimos  De 3 a 4.5 salários mínimos \n",
       "                    37.84444                     43.39091 \n",
       " De 4.5 a 6 salários mínimos   De 6 a 10 salários mínimos \n",
       "                    38.78182                     39.48889 \n",
       "    10 a 30 salários mínimos Acima de 30 salários mínimos \n",
       "                    42.59286                     36.15000 "
      ]
     },
     "metadata": {},
     "output_type": "display_data"
    }
   ],
   "source": [
    "print('Geral')\n",
    "tapply(df_1$nota, df_1$renda, FUN=mean, na.rm=T)\n",
    "print('Ufpr')\n",
    "tapply(df_ufpr$nota, df_ufpr$renda, FUN=mean, na.rm=T)"
   ]
  },
  {
   "cell_type": "code",
   "execution_count": 77,
   "id": "solved-america",
   "metadata": {},
   "outputs": [
    {
     "data": {
      "image/png": "[encoded data removed]",
      "text/plain": [
       "plot without title"
      ]
     },
     "metadata": {},
     "output_type": "display_data"
    }
   ],
   "source": [
    "b1 = ggplot(df_1, aes(x=renda, y=nota)) +\n",
    "        geom_boxplot(na.rm = TRUE, fill=\"turquoise4\") +\n",
    "        stat_summary(geom = \"point\",\n",
    "               fun = mean,\n",
    "               size = 1,\n",
    "               na.rm = TRUE)+\n",
    "        xlab(\"Notas Geral\")+\n",
    "        ylab(\"Notas\")+\n",
    "        theme(axis.text.x = element_text(angle = 45, vjust = 0.9, hjust=1));\n",
    "b2 = ggplot(df_ufpr, aes(x=renda, y=nota)) +\n",
    "        geom_boxplot(na.rm = TRUE, fill=\"coral\") +\n",
    "        stat_summary(geom = \"point\",\n",
    "               fun = mean,\n",
    "               size = 1,\n",
    "               na.rm = TRUE)+        \n",
    "        xlab(\"Notas Ufpr\")+\n",
    "        ylab(\"Notas\")+\n",
    "        theme(axis.text.x = element_text(angle = 45, vjust = 0.9, hjust=1));\n",
    "plot_grid(b1, b2, labels = c(\"Geral\", \"Ufpr\"))"
   ]
  },
  {
   "cell_type": "markdown",
   "id": "middle-funds",
   "metadata": {},
   "source": [
    "# Notas por escolaridade dos pais\n",
    "---"
   ]
  },
  {
   "cell_type": "code",
   "execution_count": 93,
   "id": "delayed-method",
   "metadata": {},
   "outputs": [
    {
     "name": "stdout",
     "output_type": "stream",
     "text": [
      "[1] \"Geral\"\n"
     ]
    },
    {
     "data": {
      "text/plain": [
       "\n",
       "                sim       não \n",
       "0.1134419 0.6793989 0.2071593 "
      ]
     },
     "metadata": {},
     "output_type": "display_data"
    },
    {
     "name": "stdout",
     "output_type": "stream",
     "text": [
      "[1] \"Ufpr\"\n"
     ]
    },
    {
     "data": {
      "text/plain": [
       "\n",
       "                  sim        não \n",
       "0.05263158 0.82456140 0.12280702 "
      ]
     },
     "metadata": {},
     "output_type": "display_data"
    }
   ],
   "source": [
    "print('Geral')\n",
    "prop.table(table(df_1$escolaridade_pais))\n",
    "print('Ufpr')\n",
    "prop.table(table(df_ufpr$escolaridade_pais))"
   ]
  },
  {
   "cell_type": "code",
   "execution_count": 94,
   "id": "sporting-production",
   "metadata": {},
   "outputs": [
    {
     "name": "stdout",
     "output_type": "stream",
     "text": [
      "[1] \"Geral\"\n"
     ]
    },
    {
     "data": {
      "text/html": [
       "<dl class=dl-horizontal>\n",
       "\t<dt>1</dt>\n",
       "\t\t<dd>34.5163265306122</dd>\n",
       "\t<dt>sim</dt>\n",
       "\t\t<dd>39.3579033311561</dd>\n",
       "\t<dt>não</dt>\n",
       "\t\t<dd>35.4017368421053</dd>\n",
       "</dl>\n"
      ],
      "text/latex": [
       "\\begin{description*}\n",
       "\\item[1] 34.5163265306122\n",
       "\\item[sim] 39.3579033311561\n",
       "\\item[não] 35.4017368421053\n",
       "\\end{description*}\n"
      ],
      "text/markdown": [
       "1\n",
       ":   34.5163265306122sim\n",
       ":   39.3579033311561não\n",
       ":   35.4017368421053\n",
       "\n"
      ],
      "text/plain": [
       "              sim      não \n",
       "34.51633 39.35790 35.40174 "
      ]
     },
     "metadata": {},
     "output_type": "display_data"
    },
    {
     "name": "stdout",
     "output_type": "stream",
     "text": [
      "[1] \"Ufpr\"\n"
     ]
    },
    {
     "data": {
      "text/html": [
       "<dl class=dl-horizontal>\n",
       "\t<dt>1</dt>\n",
       "\t\t<dd>NaN</dd>\n",
       "\t<dt>sim</dt>\n",
       "\t\t<dd>39.1277108433735</dd>\n",
       "\t<dt>não</dt>\n",
       "\t\t<dd>36.9</dd>\n",
       "</dl>\n"
      ],
      "text/latex": [
       "\\begin{description*}\n",
       "\\item[1] NaN\n",
       "\\item[sim] 39.1277108433735\n",
       "\\item[não] 36.9\n",
       "\\end{description*}\n"
      ],
      "text/markdown": [
       "1\n",
       ":   NaNsim\n",
       ":   39.1277108433735não\n",
       ":   36.9\n",
       "\n"
      ],
      "text/plain": [
       "              sim      não \n",
       "     NaN 39.12771 36.90000 "
      ]
     },
     "metadata": {},
     "output_type": "display_data"
    }
   ],
   "source": [
    "print('Geral')\n",
    "tapply(df_1$nota, df_1$escolaridade_pais, FUN=mean, na.rm=T)\n",
    "print('Ufpr')\n",
    "tapply(df_ufpr$nota, df_ufpr$escolaridade_pais, FUN=mean, na.rm=T)"
   ]
  },
  {
   "cell_type": "code",
   "execution_count": 92,
   "id": "presidential-portable",
   "metadata": {},
   "outputs": [
    {
     "data": {
      "image/png": "[encoded data removed]",
      "text/plain": [
       "plot without title"
      ]
     },
     "metadata": {},
     "output_type": "display_data"
    }
   ],
   "source": [
    "b1 = ggplot(df_1, aes(x=escolaridade_pais, y=nota)) +\n",
    "        geom_boxplot(na.rm = TRUE, fill=\"turquoise4\") +\n",
    "        stat_summary(geom = \"point\",\n",
    "               fun = mean,\n",
    "               size = 1,\n",
    "               na.rm = TRUE)+\n",
    "        xlab(\"Notas Geral\")+\n",
    "        ylab(\"Notas\")+\n",
    "        theme(axis.text.x = element_text(angle = 45, vjust = 0.9, hjust=1));\n",
    "b2 = ggplot(df_ufpr, aes(x=escolaridade_pais, y=nota)) +\n",
    "        geom_boxplot(na.rm = TRUE, fill=\"coral\") +\n",
    "        stat_summary(geom = \"point\",\n",
    "               fun = mean,\n",
    "               size = 1,\n",
    "               na.rm = TRUE)+        \n",
    "        xlab(\"Notas Ufpr\")+\n",
    "        ylab(\"Notas\")+\n",
    "        theme(axis.text.x = element_text(angle = 45, vjust = 0.9, hjust=1));\n",
    "plot_grid(b1, b2, labels = c(\"Geral\", \"Ufpr\"))"
   ]
  },
  {
   "cell_type": "markdown",
   "id": "thirty-integrity",
   "metadata": {},
   "source": [
    "# Notas por trabalho\n",
    "---"
   ]
  },
  {
   "cell_type": "code",
   "execution_count": 96,
   "id": "lovely-deviation",
   "metadata": {},
   "outputs": [
    {
     "name": "stdout",
     "output_type": "stream",
     "text": [
      "[1] \"Geral\"\n"
     ]
    },
    {
     "data": {
      "text/plain": [
       "\n",
       "                                                       Não trabalha \n",
       "                       0.11344187                        0.35170111 \n",
       "           Trabalha eventualmente     Trabalha até 20 hrs. semanais \n",
       "                       0.03934460                        0.03871843 \n",
       "Trabalha de 21 a 39 hrs. semanais Trabalha 40 hrs. semanais ou mais \n",
       "                       0.12888750                        0.32790649 "
      ]
     },
     "metadata": {},
     "output_type": "display_data"
    },
    {
     "name": "stdout",
     "output_type": "stream",
     "text": [
      "[1] \"Ufpr\"\n"
     ]
    },
    {
     "data": {
      "text/plain": [
       "\n",
       "                                                       Não trabalha \n",
       "                       0.05263158                        0.53508772 \n",
       "           Trabalha eventualmente     Trabalha até 20 hrs. semanais \n",
       "                       0.04385965                        0.00000000 \n",
       "Trabalha de 21 a 39 hrs. semanais Trabalha 40 hrs. semanais ou mais \n",
       "                       0.10526316                        0.26315789 "
      ]
     },
     "metadata": {},
     "output_type": "display_data"
    }
   ],
   "source": [
    "print('Geral')\n",
    "prop.table(table(df_1$trabalho))\n",
    "print('Ufpr')\n",
    "prop.table(table(df_ufpr$trabalho))"
   ]
  },
  {
   "cell_type": "code",
   "execution_count": 95,
   "id": "palestinian-fence",
   "metadata": {},
   "outputs": [
    {
     "name": "stdout",
     "output_type": "stream",
     "text": [
      "[1] \"Geral\"\n"
     ]
    },
    {
     "data": {
      "text/html": [
       "<dl class=dl-horizontal>\n",
       "\t<dt>1</dt>\n",
       "\t\t<dd>34.5163265306122</dd>\n",
       "\t<dt>Não trabalha</dt>\n",
       "\t\t<dd>40.3472534332085</dd>\n",
       "\t<dt>Trabalha eventualmente</dt>\n",
       "\t\t<dd>38.9900874635569</dd>\n",
       "\t<dt>Trabalha até 20 hrs. semanais</dt>\n",
       "\t\t<dd>38.5839650145773</dd>\n",
       "\t<dt>Trabalha de 21 a 39 hrs. semanais</dt>\n",
       "\t\t<dd>38.4669198312236</dd>\n",
       "\t<dt>Trabalha 40 hrs. semanais ou mais</dt>\n",
       "\t\t<dd>36.2249237029502</dd>\n",
       "</dl>\n"
      ],
      "text/latex": [
       "\\begin{description*}\n",
       "\\item[1] 34.5163265306122\n",
       "\\item[Não trabalha] 40.3472534332085\n",
       "\\item[Trabalha eventualmente] 38.9900874635569\n",
       "\\item[Trabalha até 20 hrs. semanais] 38.5839650145773\n",
       "\\item[Trabalha de 21 a 39 hrs. semanais] 38.4669198312236\n",
       "\\item[Trabalha 40 hrs. semanais ou mais] 36.2249237029502\n",
       "\\end{description*}\n"
      ],
      "text/markdown": [
       "1\n",
       ":   34.5163265306122Não trabalha\n",
       ":   40.3472534332085Trabalha eventualmente\n",
       ":   38.9900874635569Trabalha até 20 hrs. semanais\n",
       ":   38.5839650145773Trabalha de 21 a 39 hrs. semanais\n",
       ":   38.4669198312236Trabalha 40 hrs. semanais ou mais\n",
       ":   36.2249237029502\n",
       "\n"
      ],
      "text/plain": [
       "                                                       Não trabalha \n",
       "                         34.51633                          40.34725 \n",
       "           Trabalha eventualmente     Trabalha até 20 hrs. semanais \n",
       "                         38.99009                          38.58397 \n",
       "Trabalha de 21 a 39 hrs. semanais Trabalha 40 hrs. semanais ou mais \n",
       "                         38.46692                          36.22492 "
      ]
     },
     "metadata": {},
     "output_type": "display_data"
    },
    {
     "name": "stdout",
     "output_type": "stream",
     "text": [
      "[1] \"Ufpr\"\n"
     ]
    },
    {
     "data": {
      "text/html": [
       "<dl class=dl-horizontal>\n",
       "\t<dt>1</dt>\n",
       "\t\t<dd>NaN</dd>\n",
       "\t<dt>Não trabalha</dt>\n",
       "\t\t<dd>39.1903846153846</dd>\n",
       "\t<dt>Trabalha eventualmente</dt>\n",
       "\t\t<dd>42.12</dd>\n",
       "\t<dt>Trabalha até 20 hrs. semanais</dt>\n",
       "\t\t<dd>&lt;NA&gt;</dd>\n",
       "\t<dt>Trabalha de 21 a 39 hrs. semanais</dt>\n",
       "\t\t<dd>38.225</dd>\n",
       "\t<dt>Trabalha 40 hrs. semanais ou mais</dt>\n",
       "\t\t<dd>37.75</dd>\n",
       "</dl>\n"
      ],
      "text/latex": [
       "\\begin{description*}\n",
       "\\item[1] NaN\n",
       "\\item[Não trabalha] 39.1903846153846\n",
       "\\item[Trabalha eventualmente] 42.12\n",
       "\\item[Trabalha até 20 hrs. semanais] <NA>\n",
       "\\item[Trabalha de 21 a 39 hrs. semanais] 38.225\n",
       "\\item[Trabalha 40 hrs. semanais ou mais] 37.75\n",
       "\\end{description*}\n"
      ],
      "text/markdown": [
       "1\n",
       ":   NaNNão trabalha\n",
       ":   39.1903846153846Trabalha eventualmente\n",
       ":   42.12Trabalha até 20 hrs. semanais\n",
       ":   &lt;NA&gt;Trabalha de 21 a 39 hrs. semanais\n",
       ":   38.225Trabalha 40 hrs. semanais ou mais\n",
       ":   37.75\n",
       "\n"
      ],
      "text/plain": [
       "                                                       Não trabalha \n",
       "                              NaN                          39.19038 \n",
       "           Trabalha eventualmente     Trabalha até 20 hrs. semanais \n",
       "                         42.12000                                NA \n",
       "Trabalha de 21 a 39 hrs. semanais Trabalha 40 hrs. semanais ou mais \n",
       "                         38.22500                          37.75000 "
      ]
     },
     "metadata": {},
     "output_type": "display_data"
    }
   ],
   "source": [
    "print('Geral')\n",
    "tapply(df_1$nota, df_1$trabalho, FUN=mean, na.rm=T)\n",
    "print('Ufpr')\n",
    "tapply(df_ufpr$nota, df_ufpr$trabalho, FUN=mean, na.rm=T)"
   ]
  },
  {
   "cell_type": "code",
   "execution_count": 79,
   "id": "mediterranean-cocktail",
   "metadata": {},
   "outputs": [
    {
     "data": {
      "image/png": "[encoded data removed]",
      "text/plain": [
       "plot without title"
      ]
     },
     "metadata": {},
     "output_type": "display_data"
    }
   ],
   "source": [
    "b1 = ggplot(df_1, aes(x=trabalho, y=nota)) +\n",
    "        geom_boxplot(na.rm = TRUE, fill=\"turquoise4\") +\n",
    "        stat_summary(geom = \"point\",\n",
    "               fun = mean,\n",
    "               size = 1,\n",
    "               na.rm = TRUE)+\n",
    "        xlab(\"Notas Geral\")+\n",
    "        ylab(\"Notas\")+\n",
    "        theme(axis.text.x = element_text(angle = 45, vjust = 0.9, hjust=1));\n",
    "b2 = ggplot(df_ufpr, aes(x=trabalho, y=nota)) +\n",
    "        geom_boxplot(na.rm = TRUE, fill=\"coral\") +\n",
    "        stat_summary(geom = \"point\",\n",
    "               fun = mean,\n",
    "               size = 1,\n",
    "               na.rm = TRUE)+        \n",
    "        xlab(\"Notas Ufpr\")+\n",
    "        ylab(\"Notas\")+\n",
    "        theme(axis.text.x = element_text(angle = 45, vjust = 0.9, hjust=1));\n",
    "plot_grid(b1, b2, labels = c(\"Geral\", \"Ufpr\"))"
   ]
  },
  {
   "cell_type": "markdown",
   "id": "suspected-married",
   "metadata": {},
   "source": [
    "# Notas por esforço\n",
    "---"
   ]
  },
  {
   "cell_type": "code",
   "execution_count": 98,
   "id": "eleven-economics",
   "metadata": {},
   "outputs": [
    {
     "name": "stdout",
     "output_type": "stream",
     "text": [
      "[1] \"Geral\"\n"
     ]
    },
    {
     "data": {
      "text/plain": [
       "\n",
       "                                    Nenhuma, apenas assistindo as aulas \n",
       "                         0.11344187                          0.08035901 \n",
       "                      De uma a três                    De quatro a sete \n",
       "                         0.34554373                          0.27134210 \n",
       "                      De oito adoze                        Mais de doze \n",
       "                         0.10321436                          0.08609894 "
      ]
     },
     "metadata": {},
     "output_type": "display_data"
    },
    {
     "name": "stdout",
     "output_type": "stream",
     "text": [
      "[1] \"Ufpr\"\n"
     ]
    },
    {
     "data": {
      "text/plain": [
       "\n",
       "                                    Nenhuma, apenas assistindo as aulas \n",
       "                         0.05263158                          0.33333333 \n",
       "                      De uma a três                    De quatro a sete \n",
       "                         0.35087719                          0.12280702 \n",
       "                      De oito adoze                        Mais de doze \n",
       "                         0.07017544                          0.07017544 "
      ]
     },
     "metadata": {},
     "output_type": "display_data"
    }
   ],
   "source": [
    "print('Geral')\n",
    "prop.table(table(df_1$esforco))\n",
    "print('Ufpr')\n",
    "prop.table(table(df_ufpr$esforco))"
   ]
  },
  {
   "cell_type": "code",
   "execution_count": 97,
   "id": "relative-happiness",
   "metadata": {},
   "outputs": [
    {
     "name": "stdout",
     "output_type": "stream",
     "text": [
      "[1] \"Geral\"\n"
     ]
    },
    {
     "data": {
      "text/html": [
       "<dl class=dl-horizontal>\n",
       "\t<dt>1</dt>\n",
       "\t\t<dd>34.5163265306122</dd>\n",
       "\t<dt>Nenhuma, apenas assistindo as aulas</dt>\n",
       "\t\t<dd>36.8050287356322</dd>\n",
       "\t<dt>De uma a três</dt>\n",
       "\t\t<dd>36.6378438899552</dd>\n",
       "\t<dt>De quatro a sete</dt>\n",
       "\t\t<dd>38.6564620355412</dd>\n",
       "\t<dt>De oito adoze</dt>\n",
       "\t\t<dd>41.1735949098621</dd>\n",
       "\t<dt>Mais de doze</dt>\n",
       "\t\t<dd>42.9180076628353</dd>\n",
       "</dl>\n"
      ],
      "text/latex": [
       "\\begin{description*}\n",
       "\\item[1] 34.5163265306122\n",
       "\\item[Nenhuma, apenas assistindo as aulas] 36.8050287356322\n",
       "\\item[De uma a três] 36.6378438899552\n",
       "\\item[De quatro a sete] 38.6564620355412\n",
       "\\item[De oito adoze] 41.1735949098621\n",
       "\\item[Mais de doze] 42.9180076628353\n",
       "\\end{description*}\n"
      ],
      "text/markdown": [
       "1\n",
       ":   34.5163265306122Nenhuma, apenas assistindo as aulas\n",
       ":   36.8050287356322De uma a três\n",
       ":   36.6378438899552De quatro a sete\n",
       ":   38.6564620355412De oito adoze\n",
       ":   41.1735949098621Mais de doze\n",
       ":   42.9180076628353\n",
       "\n"
      ],
      "text/plain": [
       "                                    Nenhuma, apenas assistindo as aulas \n",
       "                           34.51633                            36.80503 \n",
       "                      De uma a três                    De quatro a sete \n",
       "                           36.63784                            38.65646 \n",
       "                      De oito adoze                        Mais de doze \n",
       "                           41.17359                            42.91801 "
      ]
     },
     "metadata": {},
     "output_type": "display_data"
    },
    {
     "name": "stdout",
     "output_type": "stream",
     "text": [
      "[1] \"Ufpr\"\n"
     ]
    },
    {
     "data": {
      "text/html": [
       "<dl class=dl-horizontal>\n",
       "\t<dt>1</dt>\n",
       "\t\t<dd>NaN</dd>\n",
       "\t<dt>Nenhuma, apenas assistindo as aulas</dt>\n",
       "\t\t<dd>33.6363636363636</dd>\n",
       "\t<dt>De uma a três</dt>\n",
       "\t\t<dd>39.7837837837838</dd>\n",
       "\t<dt>De quatro a sete</dt>\n",
       "\t\t<dd>43.2333333333333</dd>\n",
       "\t<dt>De oito adoze</dt>\n",
       "\t\t<dd>42.6125</dd>\n",
       "\t<dt>Mais de doze</dt>\n",
       "\t\t<dd>46.0714285714286</dd>\n",
       "</dl>\n"
      ],
      "text/latex": [
       "\\begin{description*}\n",
       "\\item[1] NaN\n",
       "\\item[Nenhuma, apenas assistindo as aulas] 33.6363636363636\n",
       "\\item[De uma a três] 39.7837837837838\n",
       "\\item[De quatro a sete] 43.2333333333333\n",
       "\\item[De oito adoze] 42.6125\n",
       "\\item[Mais de doze] 46.0714285714286\n",
       "\\end{description*}\n"
      ],
      "text/markdown": [
       "1\n",
       ":   NaNNenhuma, apenas assistindo as aulas\n",
       ":   33.6363636363636De uma a três\n",
       ":   39.7837837837838De quatro a sete\n",
       ":   43.2333333333333De oito adoze\n",
       ":   42.6125Mais de doze\n",
       ":   46.0714285714286\n",
       "\n"
      ],
      "text/plain": [
       "                                    Nenhuma, apenas assistindo as aulas \n",
       "                                NaN                            33.63636 \n",
       "                      De uma a três                    De quatro a sete \n",
       "                           39.78378                            43.23333 \n",
       "                      De oito adoze                        Mais de doze \n",
       "                           42.61250                            46.07143 "
      ]
     },
     "metadata": {},
     "output_type": "display_data"
    }
   ],
   "source": [
    "print('Geral')\n",
    "tapply(df_1$nota, df_1$esforco, FUN=mean, na.rm=T)\n",
    "print('Ufpr')\n",
    "tapply(df_ufpr$nota, df_ufpr$esforco, FUN=mean, na.rm=T)"
   ]
  },
  {
   "cell_type": "code",
   "execution_count": 80,
   "id": "collected-magnet",
   "metadata": {},
   "outputs": [
    {
     "data": {
      "image/png": "[encoded data removed]",
      "text/plain": [
       "plot without title"
      ]
     },
     "metadata": {},
     "output_type": "display_data"
    }
   ],
   "source": [
    "b1 = ggplot(df_1, aes(x=esforco, y=nota)) +\n",
    "        geom_boxplot(na.rm = TRUE, fill=\"turquoise4\") +\n",
    "        stat_summary(geom = \"point\",\n",
    "               fun = mean,\n",
    "               size = 1,\n",
    "               na.rm = TRUE)+\n",
    "        xlab(\"Notas Geral\")+\n",
    "        ylab(\"Notas\")+\n",
    "        theme(axis.text.x = element_text(angle = 45, vjust = 0.9, hjust=1));\n",
    "b2 = ggplot(df_ufpr, aes(x=esforco, y=nota)) +\n",
    "        geom_boxplot(na.rm = TRUE, fill=\"coral\") +\n",
    "        stat_summary(geom = \"point\",\n",
    "               fun = mean,\n",
    "               size = 1,\n",
    "               na.rm = TRUE)+        \n",
    "        xlab(\"Notas Ufpr\")+\n",
    "        ylab(\"Notas\")+\n",
    "        theme(axis.text.x = element_text(angle = 45, vjust = 0.9, hjust=1));\n",
    "plot_grid(b1, b2, labels = c(\"Geral\", \"Ufpr\"))"
   ]
  },
  {
   "cell_type": "markdown",
   "id": "abstract-point",
   "metadata": {},
   "source": [
    "# Teste Anova\n",
    "---"
   ]
  },
  {
   "cell_type": "code",
   "execution_count": 102,
   "id": "subtle-feature",
   "metadata": {},
   "outputs": [
    {
     "data": {
      "text/plain": [
       "                    Df  Sum Sq Mean Sq F value   Pr(>F)    \n",
       "genero               1   67148   67148  468.71  < 2e-16 ***\n",
       "idade                1   45295   45295  316.17  < 2e-16 ***\n",
       "cor                  6   10000    1667   11.63 5.13e-13 ***\n",
       "renda                6   66272   11045   77.10  < 2e-16 ***\n",
       "escolaridade_pais    1    3311    3311   23.11 1.56e-06 ***\n",
       "trabalho             4   29826    7456   52.05  < 2e-16 ***\n",
       "esforco              4   18277    4569   31.89  < 2e-16 ***\n",
       "Residuals         8049 1153105     143                     \n",
       "---\n",
       "Signif. codes:  0 '***' 0.001 '**' 0.01 '*' 0.05 '.' 0.1 ' ' 1\n",
       "1509 observations deleted due to missingness"
      ]
     },
     "metadata": {},
     "output_type": "display_data"
    }
   ],
   "source": [
    "anova_1 = aov(nota ~ genero+idade+cor+renda+escolaridade_pais+trabalho+esforco, data=df_1)\n",
    "summary(anova_1)"
   ]
  },
  {
   "cell_type": "code",
   "execution_count": 103,
   "id": "christian-berry",
   "metadata": {},
   "outputs": [
    {
     "data": {
      "text/plain": [
       "                    Df  Sum Sq Mean Sq F value   Pr(>F)    \n",
       "ufpr                 1      16      16   0.114    0.735    \n",
       "genero               1   67132   67132 468.480  < 2e-16 ***\n",
       "idade                1   45295   45295 316.089  < 2e-16 ***\n",
       "cor                  6   10019    1670  11.652 4.87e-13 ***\n",
       "renda                6   66277   11046  77.086  < 2e-16 ***\n",
       "escolaridade_pais    1    3300    3300  23.028 1.63e-06 ***\n",
       "trabalho             4   29814    7453  52.014  < 2e-16 ***\n",
       "esforco              4   18303    4576  31.932  < 2e-16 ***\n",
       "ufpr:genero          1     135     135   0.946    0.331    \n",
       "ufpr:cor             4     748     187   1.305    0.266    \n",
       "ufpr:renda           6     517      86   0.601    0.730    \n",
       "Residuals         8037 1151677     143                     \n",
       "---\n",
       "Signif. codes:  0 '***' 0.001 '**' 0.01 '*' 0.05 '.' 0.1 ' ' 1\n",
       "1509 observations deleted due to missingness"
      ]
     },
     "metadata": {},
     "output_type": "display_data"
    }
   ],
   "source": [
    "anova_1 = aov(nota ~ ufpr*genero+idade+ufpr*cor+ufpr*renda+escolaridade_pais+trabalho+esforco, data=df_1)\n",
    "summary(anova_1)"
   ]
  },
  {
   "cell_type": "markdown",
   "id": "parental-effort",
   "metadata": {},
   "source": [
    "# Modelo\n",
    "---"
   ]
  },
  {
   "cell_type": "code",
   "execution_count": 105,
   "id": "exceptional-baghdad",
   "metadata": {},
   "outputs": [
    {
     "data": {
      "text/plain": [
       "\n",
       "Call:\n",
       "lm(formula = nota ~ genero + idade + cor + renda + escolaridade_pais + \n",
       "    trabalho + esforco, data = df_1)\n",
       "\n",
       "Residuals:\n",
       "    Min      1Q  Median      3Q     Max \n",
       "-42.281  -8.270  -0.472   7.829  41.316 \n",
       "\n",
       "Coefficients: (4 not defined because of singularities)\n",
       "                                           Estimate Std. Error t value Pr(>|t|)\n",
       "(Intercept)                                40.02649    1.85705  21.554  < 2e-16\n",
       "generoM                                     5.24177    0.27870  18.808  < 2e-16\n",
       "idade                                      -0.30645    0.02607 -11.757  < 2e-16\n",
       "corbranca                                   8.52075    1.87432   4.546 5.55e-06\n",
       "corpreta                                    7.43135    1.93504   3.840 0.000124\n",
       "coramarela                                  8.74344    2.06542   4.233 2.33e-05\n",
       "corparda                                    8.08272    1.89237   4.271 1.97e-05\n",
       "corindigina                                 1.49054    3.33712   0.447 0.655136\n",
       "cornão declarado                            9.38290    2.07315   4.526 6.10e-06\n",
       "rendaAté 1.5 salário mínimo                -9.25011    0.69707 -13.270  < 2e-16\n",
       "rendaDe 1.5 a 3 salários mínimos           -7.25419    0.66427 -10.921  < 2e-16\n",
       "rendaDe 3 a 4.5 salários mínimos           -6.27843    0.65814  -9.540  < 2e-16\n",
       "rendaDe 4.5 a 6 salários mínimos           -5.02285    0.69137  -7.265 4.08e-13\n",
       "rendaDe 6 a 10 salários mínimos            -3.24474    0.65596  -4.947 7.71e-07\n",
       "renda10 a 30 salários mínimos              -0.41855    0.65365  -0.640 0.521976\n",
       "rendaAcima de 30 salários mínimos                NA         NA      NA       NA\n",
       "escolaridade_paissim                        1.35636    0.33317   4.071 4.72e-05\n",
       "escolaridade_paisnão                             NA         NA      NA       NA\n",
       "trabalhoNão trabalha                        4.03147    0.32890  12.258  < 2e-16\n",
       "trabalhoTrabalha eventualmente              2.51433    0.68867   3.651 0.000263\n",
       "trabalhoTrabalha até 20 hrs. semanais       2.15951    0.68751   3.141 0.001690\n",
       "trabalhoTrabalha de 21 a 39 hrs. semanais   1.25392    0.41426   3.027 0.002479\n",
       "trabalhoTrabalha 40 hrs. semanais ou mais        NA         NA      NA       NA\n",
       "esforcoNenhuma, apenas assistindo as aulas -4.27584    0.64992  -6.579 5.03e-11\n",
       "esforcoDe uma a três                       -4.40825    0.48612  -9.068  < 2e-16\n",
       "esforcoDe quatro a sete                    -2.67968    0.49433  -5.421 6.11e-08\n",
       "esforcoDe oito adoze                       -0.81696    0.58034  -1.408 0.159248\n",
       "esforcoMais de doze                              NA         NA      NA       NA\n",
       "                                              \n",
       "(Intercept)                                ***\n",
       "generoM                                    ***\n",
       "idade                                      ***\n",
       "corbranca                                  ***\n",
       "corpreta                                   ***\n",
       "coramarela                                 ***\n",
       "corparda                                   ***\n",
       "corindigina                                   \n",
       "cornão declarado                           ***\n",
       "rendaAté 1.5 salário mínimo                ***\n",
       "rendaDe 1.5 a 3 salários mínimos           ***\n",
       "rendaDe 3 a 4.5 salários mínimos           ***\n",
       "rendaDe 4.5 a 6 salários mínimos           ***\n",
       "rendaDe 6 a 10 salários mínimos            ***\n",
       "renda10 a 30 salários mínimos                 \n",
       "rendaAcima de 30 salários mínimos             \n",
       "escolaridade_paissim                       ***\n",
       "escolaridade_paisnão                          \n",
       "trabalhoNão trabalha                       ***\n",
       "trabalhoTrabalha eventualmente             ***\n",
       "trabalhoTrabalha até 20 hrs. semanais      ** \n",
       "trabalhoTrabalha de 21 a 39 hrs. semanais  ** \n",
       "trabalhoTrabalha 40 hrs. semanais ou mais     \n",
       "esforcoNenhuma, apenas assistindo as aulas ***\n",
       "esforcoDe uma a três                       ***\n",
       "esforcoDe quatro a sete                    ***\n",
       "esforcoDe oito adoze                          \n",
       "esforcoMais de doze                           \n",
       "---\n",
       "Signif. codes:  0 '***' 0.001 '**' 0.01 '*' 0.05 '.' 0.1 ' ' 1\n",
       "\n",
       "Residual standard error: 11.97 on 8049 degrees of freedom\n",
       "  (1509 observations deleted due to missingness)\n",
       "Multiple R-squared:  0.1724,\tAdjusted R-squared:   0.17 \n",
       "F-statistic: 72.88 on 23 and 8049 DF,  p-value: < 2.2e-16\n"
      ]
     },
     "metadata": {},
     "output_type": "display_data"
    }
   ],
   "source": [
    "mod_1 = lm(nota~genero+idade+cor+renda+escolaridade_pais+trabalho+esforco, data=df_1)\n",
    "summary(mod_1)"
   ]
  },
  {
   "cell_type": "code",
   "execution_count": 106,
   "id": "vital-hybrid",
   "metadata": {},
   "outputs": [
    {
     "data": {
      "text/plain": [
       "\n",
       "Call:\n",
       "lm(formula = nota ~ ufpr * genero + idade + ufpr * cor + ufpr * \n",
       "    renda + escolaridade_pais + trabalho + esforco, data = df_1)\n",
       "\n",
       "Residuals:\n",
       "    Min      1Q  Median      3Q     Max \n",
       "-42.306  -8.275  -0.486   7.808  41.321 \n",
       "\n",
       "Coefficients: (7 not defined because of singularities)\n",
       "                                            Estimate Std. Error t value\n",
       "(Intercept)                                40.002267   1.857486  21.536\n",
       "ufpr1                                      -9.575842  12.492508  -0.767\n",
       "generoM                                     5.262161   0.280399  18.767\n",
       "idade                                      -0.305994   0.026080 -11.733\n",
       "corbranca                                   8.560254   1.874955   4.566\n",
       "corpreta                                    7.445720   1.936038   3.846\n",
       "coramarela                                  8.718711   2.071528   4.209\n",
       "corparda                                    8.082856   1.893163   4.269\n",
       "corindigina                                 1.522730   3.338028   0.456\n",
       "cornão declarado                            9.427735   2.076383   4.540\n",
       "rendaAté 1.5 salário mínimo                -9.277162   0.699740 -13.258\n",
       "rendaDe 1.5 a 3 salários mínimos           -7.298187   0.665922 -10.960\n",
       "rendaDe 3 a 4.5 salários mínimos           -6.359595   0.660016  -9.636\n",
       "rendaDe 4.5 a 6 salários mínimos           -5.060543   0.693809  -7.294\n",
       "rendaDe 6 a 10 salários mínimos            -3.284677   0.658331  -4.989\n",
       "renda10 a 30 salários mínimos              -0.473844   0.655703  -0.723\n",
       "rendaAcima de 30 salários mínimos                 NA         NA      NA\n",
       "escolaridade_paissim                        1.358625   0.333487   4.074\n",
       "escolaridade_paisnão                              NA         NA      NA\n",
       "trabalhoNão trabalha                        4.017946   0.329435  12.196\n",
       "trabalhoTrabalha eventualmente              2.521033   0.689261   3.658\n",
       "trabalhoTrabalha até 20 hrs. semanais       2.161477   0.687740   3.143\n",
       "trabalhoTrabalha de 21 a 39 hrs. semanais   1.257703   0.414622   3.033\n",
       "trabalhoTrabalha 40 hrs. semanais ou mais         NA         NA      NA\n",
       "esforcoNenhuma, apenas assistindo as aulas -4.252252   0.654421  -6.498\n",
       "esforcoDe uma a três                       -4.392773   0.486367  -9.032\n",
       "esforcoDe quatro a sete                    -2.655256   0.494728  -5.367\n",
       "esforcoDe oito adoze                       -0.805679   0.580507  -1.388\n",
       "esforcoMais de doze                               NA         NA      NA\n",
       "ufpr1:generoM                              -2.141859   2.682074  -0.799\n",
       "ufpr1:corbranca                            -0.003546   8.976430   0.000\n",
       "ufpr1:corpreta                              8.847888  12.089510   0.732\n",
       "ufpr1:coramarela                            1.514781  10.749759   0.141\n",
       "ufpr1:corparda                              9.535420   9.557963   0.998\n",
       "ufpr1:corindigina                                 NA         NA      NA\n",
       "ufpr1:cornão declarado                            NA         NA      NA\n",
       "ufpr1:rendaAté 1.5 salário mínimo          10.631460   8.801636   1.208\n",
       "ufpr1:rendaDe 1.5 a 3 salários mínimos      7.919798   9.800159   0.808\n",
       "ufpr1:rendaDe 3 a 4.5 salários mínimos     15.367873   9.394018   1.636\n",
       "ufpr1:rendaDe 4.5 a 6 salários mínimos      9.833177   9.343087   1.052\n",
       "ufpr1:rendaDe 6 a 10 salários mínimos       9.829055   9.041490   1.087\n",
       "ufpr1:renda10 a 30 salários mínimos        10.128310   9.151191   1.107\n",
       "ufpr1:rendaAcima de 30 salários mínimos           NA         NA      NA\n",
       "                                           Pr(>|t|)    \n",
       "(Intercept)                                 < 2e-16 ***\n",
       "ufpr1                                      0.443385    \n",
       "generoM                                     < 2e-16 ***\n",
       "idade                                       < 2e-16 ***\n",
       "corbranca                                  5.06e-06 ***\n",
       "corpreta                                   0.000121 ***\n",
       "coramarela                                 2.59e-05 ***\n",
       "corparda                                   1.98e-05 ***\n",
       "corindigina                                0.648275    \n",
       "cornão declarado                           5.69e-06 ***\n",
       "rendaAté 1.5 salário mínimo                 < 2e-16 ***\n",
       "rendaDe 1.5 a 3 salários mínimos            < 2e-16 ***\n",
       "rendaDe 3 a 4.5 salários mínimos            < 2e-16 ***\n",
       "rendaDe 4.5 a 6 salários mínimos           3.30e-13 ***\n",
       "rendaDe 6 a 10 salários mínimos            6.18e-07 ***\n",
       "renda10 a 30 salários mínimos              0.469915    \n",
       "rendaAcima de 30 salários mínimos                NA    \n",
       "escolaridade_paissim                       4.67e-05 ***\n",
       "escolaridade_paisnão                             NA    \n",
       "trabalhoNão trabalha                        < 2e-16 ***\n",
       "trabalhoTrabalha eventualmente             0.000256 ***\n",
       "trabalhoTrabalha até 20 hrs. semanais      0.001679 ** \n",
       "trabalhoTrabalha de 21 a 39 hrs. semanais  0.002426 ** \n",
       "trabalhoTrabalha 40 hrs. semanais ou mais        NA    \n",
       "esforcoNenhuma, apenas assistindo as aulas 8.64e-11 ***\n",
       "esforcoDe uma a três                        < 2e-16 ***\n",
       "esforcoDe quatro a sete                    8.22e-08 ***\n",
       "esforcoDe oito adoze                       0.165210    \n",
       "esforcoMais de doze                              NA    \n",
       "ufpr1:generoM                              0.424556    \n",
       "ufpr1:corbranca                            0.999685    \n",
       "ufpr1:corpreta                             0.464272    \n",
       "ufpr1:coramarela                           0.887942    \n",
       "ufpr1:corparda                             0.318483    \n",
       "ufpr1:corindigina                                NA    \n",
       "ufpr1:cornão declarado                           NA    \n",
       "ufpr1:rendaAté 1.5 salário mínimo          0.227123    \n",
       "ufpr1:rendaDe 1.5 a 3 salários mínimos     0.419040    \n",
       "ufpr1:rendaDe 3 a 4.5 salários mínimos     0.101895    \n",
       "ufpr1:rendaDe 4.5 a 6 salários mínimos     0.292623    \n",
       "ufpr1:rendaDe 6 a 10 salários mínimos      0.277023    \n",
       "ufpr1:renda10 a 30 salários mínimos        0.268424    \n",
       "ufpr1:rendaAcima de 30 salários mínimos          NA    \n",
       "---\n",
       "Signif. codes:  0 '***' 0.001 '**' 0.01 '*' 0.05 '.' 0.1 ' ' 1\n",
       "\n",
       "Residual standard error: 11.97 on 8037 degrees of freedom\n",
       "  (1509 observations deleted due to missingness)\n",
       "Multiple R-squared:  0.1734,\tAdjusted R-squared:  0.1698 \n",
       "F-statistic: 48.16 on 35 and 8037 DF,  p-value: < 2.2e-16\n"
      ]
     },
     "metadata": {},
     "output_type": "display_data"
    }
   ],
   "source": [
    "mod_2 = lm(nota~ufpr*genero+idade+ufpr*cor+ufpr*renda+escolaridade_pais+trabalho+esforco, data=df_1)\n",
    "summary(mod_2)"
   ]
  },
  {
   "cell_type": "code",
   "execution_count": null,
   "id": "optimum-wildlife",
   "metadata": {},
   "outputs": [],
   "source": []
  }
 ],
 "metadata": {
  "kernelspec": {
   "display_name": "R",
   "language": "R",
   "name": "ir"
  },
  "language_info": {
   "codemirror_mode": "r",
   "file_extension": ".r",
   "mimetype": "text/x-r-source",
   "name": "R",
   "pygments_lexer": "r",
   "version": "3.6.1"
  }
 },
 "nbformat": 4,
 "nbformat_minor": 5
}
